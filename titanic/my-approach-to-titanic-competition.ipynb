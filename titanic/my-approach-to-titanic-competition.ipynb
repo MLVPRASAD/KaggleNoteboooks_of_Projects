{
 "cells": [
  {
   "cell_type": "markdown",
   "metadata": {
    "_cell_guid": "68b71f04-169b-474a-bd41-46ba5473acb6",
    "_execution_state": "idle",
    "_uuid": "80359a85f2dea4113ba27c20fb9e50773d1b0f1d"
   },
   "source": [
    "Hi All,  \n",
    "thank you for visiting my kernel. I am beginner in Python programming and specially in data science. So I would be very keen if you could make some comments providing me some tips to be a better. Enjoy:-)"
   ]
  },
  {
   "cell_type": "code",
   "execution_count": 1,
   "metadata": {
    "_cell_guid": "bff3e419-581a-4f96-8dd0-4c34f0bbac05",
    "_execution_state": "busy",
    "_uuid": "2574ee1f1255b974bf6d9dd73022bad963a7f2cb",
    "collapsed": true
   },
   "outputs": [],
   "source": [
    "import numpy as np\n",
    "import pandas as pd"
   ]
  },
  {
   "cell_type": "markdown",
   "metadata": {
    "_cell_guid": "0d093c08-b05b-4ad2-b1d2-058719e88b9f",
    "_execution_state": "idle",
    "_uuid": "f409ee1679e5d246ecf191d520133e1a209fedd4"
   },
   "source": [
    "Let's import train and test datasets:"
   ]
  },
  {
   "cell_type": "code",
   "execution_count": 2,
   "metadata": {
    "_cell_guid": "56e07e85-15af-40d4-b1bd-ba9895d9477e",
    "_execution_state": "busy",
    "_uuid": "be45aa0c918afaf74b1f5e1e4affb6800c9e1dcd",
    "collapsed": true
   },
   "outputs": [],
   "source": [
    "dfTrain = pd.read_csv(\"../input/train.csv\") # importing train dataset\n",
    "dfTest = pd.read_csv(\"../input/test.csv\") # importing test dataset"
   ]
  },
  {
   "cell_type": "markdown",
   "metadata": {
    "_cell_guid": "7d0a2785-05ec-48d6-9fac-e1f8b172fb79",
    "_execution_state": "idle",
    "_uuid": "c7be5ca560cabdccf4276ca77a657402b609ebc8"
   },
   "source": [
    "Let's check what is inside:"
   ]
  },
  {
   "cell_type": "code",
   "execution_count": 3,
   "metadata": {
    "_cell_guid": "03ce0b11-628e-4052-8c42-c688592551ab",
    "_execution_state": "busy",
    "_uuid": "351aaf077347771a59318e310e896ceefa33986b",
    "collapsed": true
   },
   "outputs": [
    {
     "name": "stdout",
     "output_type": "stream",
     "text": [
      "<class 'pandas.core.frame.DataFrame'>\n",
      "RangeIndex: 1 entries, 0 to 0\n",
      "Data columns (total 12 columns):\n",
      "PassengerId    1 non-null int64\n",
      "Survived       1 non-null int64\n",
      "Pclass         1 non-null int64\n",
      "Name           1 non-null object\n",
      "Sex            1 non-null object\n",
      "Age            1 non-null float64\n",
      "SibSp          1 non-null int64\n",
      "Parch          1 non-null int64\n",
      "Ticket         1 non-null object\n",
      "Fare           1 non-null float64\n",
      "Cabin          0 non-null object\n",
      "Embarked       1 non-null object\n",
      "dtypes: float64(2), int64(5), object(5)\n",
      "memory usage: 176.0+ bytes\n"
     ]
    }
   ],
   "source": [
    "dfTrain.head(1).info()"
   ]
  },
  {
   "cell_type": "markdown",
   "metadata": {
    "_cell_guid": "5e655f71-d16f-407c-92ad-a0b1ad3bddb7",
    "_execution_state": "idle",
    "_uuid": "9b9aaba188ad58634cde8961bcb4d994d2b162af"
   },
   "source": [
    "So for train dataset we have 891 records and 12 columns. Three columns contain some null data:   \n",
    "Cabin: 687 nulls    \n",
    "Age: 177 nulls  \n",
    "Embarked: 2 nulls  \n",
    "Let's see what is in test dataset:"
   ]
  },
  {
   "cell_type": "code",
   "execution_count": 4,
   "metadata": {
    "_cell_guid": "684de105-5f39-4a42-aafb-cb5d7bbc363d",
    "_execution_state": "busy",
    "_uuid": "c65ca78f2aa1636d0631b1689b59abedaa238aff",
    "collapsed": true
   },
   "outputs": [
    {
     "name": "stdout",
     "output_type": "stream",
     "text": [
      "<class 'pandas.core.frame.DataFrame'>\n",
      "RangeIndex: 1 entries, 0 to 0\n",
      "Data columns (total 11 columns):\n",
      "PassengerId    1 non-null int64\n",
      "Pclass         1 non-null int64\n",
      "Name           1 non-null object\n",
      "Sex            1 non-null object\n",
      "Age            1 non-null float64\n",
      "SibSp          1 non-null int64\n",
      "Parch          1 non-null int64\n",
      "Ticket         1 non-null object\n",
      "Fare           1 non-null float64\n",
      "Cabin          0 non-null object\n",
      "Embarked       1 non-null object\n",
      "dtypes: float64(2), int64(4), object(5)\n",
      "memory usage: 168.0+ bytes\n"
     ]
    }
   ],
   "source": [
    "dfTest.head(1).info()"
   ]
  },
  {
   "cell_type": "markdown",
   "metadata": {
    "_cell_guid": "c6ff6559-badf-46c1-94f3-de129a7d64f1",
    "_execution_state": "idle",
    "_uuid": "ad1dac9ce9c7da1c988b84363134bf801ec994d0"
   },
   "source": [
    "Here we have 418 records. So data are split: 2/3 (train) and 1/3 (test).  \n",
    "Regarding empty records:  \n",
    "Cabin: 327 nulls  \n",
    "Age: 86 nulls  \n",
    "Fare: 1 null  "
   ]
  },
  {
   "cell_type": "markdown",
   "metadata": {
    "_cell_guid": "955e230d-ea0e-401e-baba-7bb319e4c506",
    "_execution_state": "idle",
    "_uuid": "327d171d951e54d4c318e17a46b6cd39d6fb736c"
   },
   "source": [
    "I want to set index as PassengerId:"
   ]
  },
  {
   "cell_type": "code",
   "execution_count": 5,
   "metadata": {
    "_cell_guid": "3d61af3d-1d21-4f3c-9c12-2a9ba716d850",
    "_execution_state": "busy",
    "_uuid": "ce0c3eeebf3840415c34fc6df1ba5757834b4416",
    "collapsed": true
   },
   "outputs": [],
   "source": [
    "dfTrain.set_index(['PassengerId'],inplace=True)\n",
    "dfTest.set_index(['PassengerId'],inplace=True)"
   ]
  },
  {
   "cell_type": "markdown",
   "metadata": {
    "_cell_guid": "062ecc9b-d1ee-4d01-98e2-027c5836c743",
    "_execution_state": "idle",
    "_uuid": "4ebeadb6d668ae38e73c855c00caf69e6c483838"
   },
   "source": [
    "# PART 1: PCLASS"
   ]
  },
  {
   "cell_type": "markdown",
   "metadata": {
    "_cell_guid": "67c2d54b-a1dd-4ecd-a48d-a675c959867f",
    "_execution_state": "idle",
    "_uuid": "b6617e4a4394a99cbdeb3a74f33523d39b12bd95"
   },
   "source": [
    "My intuition says that Pclass could have an impact on Survival as higher class may have better access to lifeboats.  \n",
    "Let's see:"
   ]
  },
  {
   "cell_type": "code",
   "execution_count": 6,
   "metadata": {
    "_cell_guid": "839ab35f-d88e-4f1b-a670-cbb50f37c63b",
    "_execution_state": "busy",
    "_uuid": "0493e33dc30549b00ef96cdf17d4252838c16275",
    "collapsed": true
   },
   "outputs": [],
   "source": [
    "import matplotlib as plt\n",
    "%matplotlib inline"
   ]
  },
  {
   "cell_type": "code",
   "execution_count": 7,
   "metadata": {
    "_cell_guid": "a35bcb44-fa9d-478d-8f66-3dd6b8fde169",
    "_execution_state": "busy",
    "_uuid": "cd52022ab6f575af2874737e3bf9f0c8383f8148",
    "collapsed": true
   },
   "outputs": [
    {
     "data": {
      "text/plain": [
       "<matplotlib.axes._subplots.AxesSubplot at 0x7fa873373978>"
      ]
     },
     "execution_count": 7,
     "metadata": {},
     "output_type": "execute_result"
    },
    {
     "data": {
      "image/png": "[encoded data removed]",
      "text/plain": [
       "<matplotlib.figure.Figure at 0x7fa873373240>"
      ]
     },
     "metadata": {},
     "output_type": "display_data"
    }
   ],
   "source": [
    "dfTrain.groupby('Pclass').Survived.mean().plot(kind='bar')"
   ]
  },
  {
   "cell_type": "markdown",
   "metadata": {
    "_cell_guid": "f975a03f-d45a-4570-b0dc-136e4a094b40",
    "_execution_state": "idle",
    "_uuid": "f7ea3c02fd4701eeced368252eb5707f31a8fa97"
   },
   "source": [
    "That's true. Passengers from 1st class have better chance to survive than from 3rd. Clear correlation."
   ]
  },
  {
   "cell_type": "markdown",
   "metadata": {
    "_cell_guid": "36f42ee7-c532-4245-8b37-d21f8fa203a0",
    "_execution_state": "idle",
    "_uuid": "a2cb9e512964220c5084c1bb183f4a2acbe1097f"
   },
   "source": [
    "Now I would like to check what would be the score. I will be using Decision Tree classifer as it is quite easy and ideal for category data."
   ]
  },
  {
   "cell_type": "code",
   "execution_count": 8,
   "metadata": {
    "_cell_guid": "9c0a5c98-0652-4551-8922-e3cd2a25fa04",
    "_execution_state": "busy",
    "_uuid": "81884a898e355ec6d370dfc8ad4f174c67642e36",
    "collapsed": true
   },
   "outputs": [],
   "source": [
    "from sklearn.tree import DecisionTreeClassifier"
   ]
  },
  {
   "cell_type": "code",
   "execution_count": 9,
   "metadata": {
    "_cell_guid": "f915b84b-9002-4f2d-a13e-b63cb4f68de5",
    "_execution_state": "busy",
    "_uuid": "a9f75f7887ccfce83cc12983988f60df9670dc98",
    "collapsed": true
   },
   "outputs": [],
   "source": [
    "dtree = DecisionTreeClassifier()\n",
    "X_train = dfTrain[['Pclass']]\n",
    "y = dfTrain['Survived']\n",
    "X_test = dfTest[['Pclass']]\n",
    "dtree.fit(X_train,y)\n",
    "prediction = dtree.predict(X_test)\n",
    "dfPrediction = pd.DataFrame(data=prediction,index = dfTest.index.values,columns=['Survived'])\n",
    "contentTestPredObject1 = dfPrediction.to_csv()\n",
    "#print(contentTestPredObject1)"
   ]
  },
  {
   "cell_type": "markdown",
   "metadata": {
    "_cell_guid": "2b46eb3b-73fa-499a-8a08-e24131fb3552",
    "_execution_state": "idle",
    "_uuid": "7811bbaf5e376dd41c76c02b9e6511de5097c3b2"
   },
   "source": [
    "What we did? We fit the model (X_train + y) and then made a prediction using X_test. Then we created csv list ready to upload to Kaggle competition. We submitted the file and the result is:"
   ]
  },
  {
   "cell_type": "markdown",
   "metadata": {
    "_cell_guid": "fab9bd83-7e1f-4037-84be-95f6f4137068",
    "_execution_state": "idle",
    "_uuid": "502a5ed18fc701776eff59f79864786cd4991814"
   },
   "source": [
    "![Image](http://i63.tinypic.com/2rmv69g.jpg)"
   ]
  },
  {
   "cell_type": "markdown",
   "metadata": {
    "_cell_guid": "f7ad5153-15ed-4afe-a78d-5f0352f009e5",
    "_execution_state": "idle",
    "_uuid": "1949ba2484e03f3d1a64fb1e9ad832e80f91ba41"
   },
   "source": [
    "Quite nice start. 65% accurracy. I am happy;-)"
   ]
  },
  {
   "cell_type": "markdown",
   "metadata": {
    "_cell_guid": "694b382e-8405-4d95-914b-6edcc38f3fb7",
    "_execution_state": "idle",
    "_uuid": "6c074aefb8ad5f7c34e31107968214f440de491b"
   },
   "source": [
    "# PART 2: SEX"
   ]
  },
  {
   "cell_type": "markdown",
   "metadata": {
    "_cell_guid": "744bc53b-275c-42e6-821f-8fd233aee681",
    "_execution_state": "idle",
    "_uuid": "879070276e5db039c11690b6d1168c9f94aed07d"
   },
   "source": [
    "What about sex? It could be also reasonable to check it as women should be passed before men:"
   ]
  },
  {
   "cell_type": "code",
   "execution_count": 10,
   "metadata": {
    "_cell_guid": "95103bde-f341-4222-a9e9-0d89b6e99be0",
    "_execution_state": "busy",
    "_uuid": "66dcb7a52b36f1f06dd092e0c5334d2272381ea0",
    "collapsed": true
   },
   "outputs": [
    {
     "data": {
      "text/plain": [
       "<matplotlib.axes._subplots.AxesSubplot at 0x7fa815ed7240>"
      ]
     },
     "execution_count": 10,
     "metadata": {},
     "output_type": "execute_result"
    },
    {
     "data": {
      "image/png": "[encoded data removed]",
      "text/plain": [
       "<matplotlib.figure.Figure at 0x7fa81a2d0c18>"
      ]
     },
     "metadata": {},
     "output_type": "display_data"
    }
   ],
   "source": [
    "dfTrain.groupby('Sex').Survived.mean().plot(kind='bar')"
   ]
  },
  {
   "cell_type": "markdown",
   "metadata": {
    "_cell_guid": "dfec0a20-c268-401a-9099-3625b66d65de",
    "_execution_state": "idle",
    "_uuid": "7b4d72d153b030a65869f903a280a1a8fa8c233e"
   },
   "source": [
    "Wow, what a great correlation!  \n",
    "Now, I am curious to check what is the survival rate for Class and Sex together:"
   ]
  },
  {
   "cell_type": "code",
   "execution_count": 11,
   "metadata": {
    "_cell_guid": "4b9b4925-f809-452d-b46b-5c272dbcefcc",
    "_execution_state": "busy",
    "_uuid": "ab219058aa5cd87db3a3e693a33debf2d906689f",
    "collapsed": true
   },
   "outputs": [],
   "source": [
    "import seaborn as sns"
   ]
  },
  {
   "cell_type": "code",
   "execution_count": 12,
   "metadata": {
    "_cell_guid": "b09bcc6e-9435-40c6-9a91-ff170dcd304d",
    "_execution_state": "busy",
    "_uuid": "1d3d6ae93b0345cf44e9ba527f51fd518de632c1",
    "collapsed": true
   },
   "outputs": [
    {
     "data": {
      "text/plain": [
       "<seaborn.axisgrid.FacetGrid at 0x7fa815e89e48>"
      ]
     },
     "execution_count": 12,
     "metadata": {},
     "output_type": "execute_result"
    },
    {
     "data": {
      "image/png": "[encoded data removed]",
      "text/plain": [
       "<matplotlib.figure.Figure at 0x7fa815109cf8>"
      ]
     },
     "metadata": {},
     "output_type": "display_data"
    }
   ],
   "source": [
    "sns.factorplot(\"Sex\", \"Survived\", hue=\"Pclass\", data=dfTrain)"
   ]
  },
  {
   "cell_type": "markdown",
   "metadata": {
    "_cell_guid": "bf96733d-b1dc-40a1-af3b-18ca7b1934f2",
    "_execution_state": "idle",
    "_uuid": "bc6c94a67292f65ee211973fe80a1548fdb3449c"
   },
   "source": [
    "This is what I expected. Women from 1st and 2nd class had a chance to survive equals almost 100%!  \n",
    "Respectively men from 2nd and 3rd class had only ~10% chance:-("
   ]
  },
  {
   "cell_type": "markdown",
   "metadata": {
    "_cell_guid": "bfa0822f-b334-4446-a5bf-94e444745a9c",
    "_execution_state": "idle",
    "_uuid": "f0b16b7ba9f7885ae1ad97a2f3c1cecc5397f7a5"
   },
   "source": [
    "Let's predict the result combining Pclass & Sex:"
   ]
  },
  {
   "cell_type": "code",
   "execution_count": 13,
   "metadata": {
    "_cell_guid": "5b38e3c1-b0a5-4598-a972-9b39ea029901",
    "_execution_state": "busy",
    "_uuid": "5389273b5893a4491fbfe3d015c63a889c94f1a7",
    "collapsed": true
   },
   "outputs": [],
   "source": [
    "dfFull = pd.concat([dfTrain,dfTest])\n",
    "dfFull['Sex'] = dfFull['Sex'].map({'male': 0, 'female': 1}).astype(int)\n",
    "dfTrain = dfFull.loc[1:891,:]\n",
    "dfTest = dfFull.loc[892:,:]"
   ]
  },
  {
   "cell_type": "code",
   "execution_count": 14,
   "metadata": {
    "_cell_guid": "a4888169-5af2-49e0-b6f4-3bf6b77f4f58",
    "_execution_state": "busy",
    "_uuid": "7534195972752a3f9901ae7b462d881979cb390e",
    "collapsed": true
   },
   "outputs": [],
   "source": [
    "dtree = DecisionTreeClassifier()\n",
    "X_train = dfTrain[['Pclass','Sex']]\n",
    "y = dfTrain['Survived']\n",
    "X_test = dfTest[['Pclass','Sex']]\n",
    "dtree.fit(X_train,y)\n",
    "prediction = dtree.predict(X_test)\n",
    "dfPrediction = pd.DataFrame(data=prediction,index = dfTest.index.values,columns=['Survived'])\n",
    "contentTestPredObject1 = dfPrediction.to_csv()\n",
    "#print(contentTestPredObject1)"
   ]
  },
  {
   "cell_type": "markdown",
   "metadata": {
    "_cell_guid": "fa9edb78-c35a-4d4e-a791-c0a4321f243c",
    "_execution_state": "idle",
    "_uuid": "01f485bc3e8780f88464216372b5b9c124aa9b9a"
   },
   "source": [
    "![Image](http://i64.tinypic.com/34ot551.jpg)"
   ]
  },
  {
   "cell_type": "markdown",
   "metadata": {
    "_cell_guid": "098f7ec0-73fa-4ab7-9d9b-eca4fb42e2b7",
    "_execution_state": "idle",
    "_uuid": "df8b4c13fe738fb68c98219e4f6cea4cffa7ab48"
   },
   "source": [
    "Wow, what a progress! We gained 10% accurracy addding Sex category. Good direction;-)"
   ]
  },
  {
   "cell_type": "markdown",
   "metadata": {
    "_cell_guid": "54aea922-ef9e-47d1-b61a-8ebfba08fe41",
    "_execution_state": "idle",
    "_uuid": "3957e448f1809641a47cfa157a141eac72d5c849"
   },
   "source": [
    "# PART 3: PARCH"
   ]
  },
  {
   "cell_type": "markdown",
   "metadata": {
    "_cell_guid": "47d09853-a233-40a1-a478-519f42466223",
    "_execution_state": "idle",
    "_uuid": "3dd17f9b69f09e9a60f20deb5a3433d62085adfd"
   },
   "source": [
    "I wonder now about the Parch. It tells us how many children/parents travel with the passenger. Does it mean that families were priviliged or better to be a single? Let's check it. "
   ]
  },
  {
   "cell_type": "code",
   "execution_count": 15,
   "metadata": {
    "_cell_guid": "b636dfa5-b976-4319-8cd3-3a0e0395c5a2",
    "_execution_state": "busy",
    "_uuid": "655a8be80ef949269658366d15968d5a32dac5a0",
    "collapsed": true
   },
   "outputs": [
    {
     "data": {
      "text/plain": [
       "<matplotlib.axes._subplots.AxesSubplot at 0x7fa8150a3438>"
      ]
     },
     "execution_count": 15,
     "metadata": {},
     "output_type": "execute_result"
    },
    {
     "data": {
      "image/png": "[encoded data removed]",
      "text/plain": [
       "<matplotlib.figure.Figure at 0x7fa8151094a8>"
      ]
     },
     "metadata": {},
     "output_type": "display_data"
    }
   ],
   "source": [
    "dfTrain.groupby('Parch').Survived.mean().plot(kind='bar')"
   ]
  },
  {
   "cell_type": "markdown",
   "metadata": {
    "_cell_guid": "5fedced7-3bdd-4b29-8bf8-4ea9f54338c5",
    "_execution_state": "idle",
    "_uuid": "00257127ed22f09fcf0ba69fda7d45777c8a09f5"
   },
   "source": [
    "Excellent. It seams there is a bonus for families, at least no bigger than 4. Singles are penalized. Before we build categories let's check number of items in each group:\n"
   ]
  },
  {
   "cell_type": "code",
   "execution_count": 16,
   "metadata": {
    "_cell_guid": "67f3e8ef-79c0-4c97-8c4a-35859c2de344",
    "_execution_state": "busy",
    "_uuid": "37e93ddac895f140d8d6e974dc47a44f96b09c97",
    "collapsed": true
   },
   "outputs": [
    {
     "data": {
      "text/plain": [
       "0    1002\n",
       "1     170\n",
       "2     113\n",
       "3       8\n",
       "5       6\n",
       "4       6\n",
       "9       2\n",
       "6       2\n",
       "Name: Parch, dtype: int64"
      ]
     },
     "execution_count": 16,
     "metadata": {},
     "output_type": "execute_result"
    }
   ],
   "source": [
    "dfFull.Parch.value_counts()"
   ]
  },
  {
   "cell_type": "markdown",
   "metadata": {
    "_cell_guid": "890e9552-3231-4db4-ae53-6ed8e53dac10",
    "_execution_state": "idle",
    "_uuid": "2dc11766c0e0397436c3e3eaee45a515f70e64be"
   },
   "source": [
    "Categories with the items less than ~45 can't be taken as representative, so I make the following split:  \n",
    "0  \n",
    "1  \n",
    "2  \n",
    "3 and more"
   ]
  },
  {
   "cell_type": "code",
   "execution_count": 17,
   "metadata": {
    "_cell_guid": "ff797f58-bd21-434c-a98c-c61cb3f43caa",
    "_execution_state": "busy",
    "_uuid": "2b8a63a4ba5ba5469257fc8ff59eb3b93d491e48",
    "collapsed": true
   },
   "outputs": [],
   "source": [
    "dfFull['ParchCat'] = dfFull.Parch.copy().astype(int)\n",
    "dfFull.loc[dfFull.Parch > 2,'ParchCat'] = 3\n",
    "dfTrain = dfFull.loc[1:891,:]\n",
    "dfTest = dfFull.loc[892:,:]"
   ]
  },
  {
   "cell_type": "markdown",
   "metadata": {
    "_cell_guid": "c1beb9cd-dc2e-4345-b6ff-d6689c4ea80c",
    "_execution_state": "idle",
    "_uuid": "8201412e76bea693bc71318832727ece7729d4b0"
   },
   "source": [
    "Let's double check it:"
   ]
  },
  {
   "cell_type": "code",
   "execution_count": 18,
   "metadata": {
    "_cell_guid": "67eac131-b32f-419f-bf97-bf5d5ff4a14c",
    "_execution_state": "busy",
    "_uuid": "8089fc917e8c2d4a971c486d65b153925a10fd03",
    "collapsed": true
   },
   "outputs": [
    {
     "data": {
      "text/plain": [
       "<matplotlib.axes._subplots.AxesSubplot at 0x7fa815014b70>"
      ]
     },
     "execution_count": 18,
     "metadata": {},
     "output_type": "execute_result"
    },
    {
     "data": {
      "image/png": "[encoded data removed]",
      "text/plain": [
       "<matplotlib.figure.Figure at 0x7fa86ffac748>"
      ]
     },
     "metadata": {},
     "output_type": "display_data"
    }
   ],
   "source": [
    "dfTrain.groupby('ParchCat').Survived.mean().plot(kind='bar')"
   ]
  },
  {
   "cell_type": "markdown",
   "metadata": {
    "_cell_guid": "19c1ad21-bdda-484d-92c1-91ab68ed54f4",
    "_execution_state": "idle",
    "_uuid": "b6b53c680761c834b035f915c8447f0efd396abf"
   },
   "source": [
    "I am curious if adding Parch will improve our result:"
   ]
  },
  {
   "cell_type": "code",
   "execution_count": 19,
   "metadata": {
    "_cell_guid": "b055208d-4ad0-48da-9ade-e0fb74473415",
    "_execution_state": "busy",
    "_uuid": "e1ae6a2c647f70cbe7c3b8c6cce4767617cb208a",
    "collapsed": true
   },
   "outputs": [],
   "source": [
    "dtree = DecisionTreeClassifier()\n",
    "X_train = dfTrain[['Pclass','Sex','ParchCat']]\n",
    "y = dfTrain['Survived']\n",
    "X_test = dfTest[['Pclass','Sex','ParchCat']]\n",
    "dtree.fit(X_train,y)\n",
    "prediction = dtree.predict(X_test)\n",
    "dfPrediction = pd.DataFrame(data=prediction,index = dfTest.index.values,columns=['Survived'])\n",
    "contentTestPredObject1 = dfPrediction.to_csv()\n",
    "#print(contentTestPredObject1)"
   ]
  },
  {
   "cell_type": "markdown",
   "metadata": {
    "_cell_guid": "6939991d-6689-49fd-845d-a2a78ed541b3",
    "_execution_state": "idle",
    "_uuid": "4e0de4493ef7b33f81944e4f19288b2fb36111fd"
   },
   "source": [
    "![Image](http://i63.tinypic.com/154hax1.png)"
   ]
  },
  {
   "cell_type": "markdown",
   "metadata": {
    "_cell_guid": "fb351bbf-dca1-4972-8539-e02b2a70df94",
    "_execution_state": "idle",
    "_uuid": "9ff0bab6ea077916ada2c0c4b769d588d9ba368b"
   },
   "source": [
    "Slight change in good direction +1% better;-)"
   ]
  },
  {
   "cell_type": "markdown",
   "metadata": {
    "_cell_guid": "1904ccf3-6c80-4b79-880e-102cb0dc5887",
    "_execution_state": "idle",
    "_uuid": "22bd6220ef331e179b62f8c7c649fe7df39fe539"
   },
   "source": [
    "# Part 4: SibSp"
   ]
  },
  {
   "cell_type": "markdown",
   "metadata": {
    "_cell_guid": "3962c183-22f1-4859-b9f6-c0b9f83465cd",
    "_execution_state": "idle",
    "_uuid": "52d6ab47a7e67c85bea4b36a59380ded6d55332d"
   },
   "source": [
    "Naturally, after Parch category, let's check SibSp. It shows number of siblings or spouses.    \n",
    "The question is, wether there is a correlation to Survival rate?"
   ]
  },
  {
   "cell_type": "code",
   "execution_count": 20,
   "metadata": {
    "_cell_guid": "19f51d47-cbf5-4e22-92d6-f935fcd06960",
    "_execution_state": "busy",
    "_uuid": "337efc44109b9af3418dcf698e6797978741dd34",
    "collapsed": true
   },
   "outputs": [
    {
     "data": {
      "text/plain": [
       "<matplotlib.axes._subplots.AxesSubplot at 0x7fa81500f710>"
      ]
     },
     "execution_count": 20,
     "metadata": {},
     "output_type": "execute_result"
    },
    {
     "data": {
      "image/png": "[encoded data removed]",
      "text/plain": [
       "<matplotlib.figure.Figure at 0x7fa814f79c18>"
      ]
     },
     "metadata": {},
     "output_type": "display_data"
    }
   ],
   "source": [
    "dfTrain.groupby('SibSp').Survived.mean().plot(kind='bar')"
   ]
  },
  {
   "cell_type": "markdown",
   "metadata": {
    "_cell_guid": "2579771b-e574-46df-903b-d5788e5f6c38",
    "_execution_state": "idle",
    "_uuid": "52533d3d1a5b476116db42fc57fa0e797ccef0e7"
   },
   "source": [
    "OK, similarly to Parch, having small family onboarded gives better chance to survive.  \n",
    "I want to check how big is each group:"
   ]
  },
  {
   "cell_type": "code",
   "execution_count": 21,
   "metadata": {
    "_cell_guid": "524fe3a1-a4ad-460e-bc1a-140c9626de81",
    "_execution_state": "busy",
    "_uuid": "f6048ca39d9419e9fcd120d1bb811db0f25f0b44",
    "collapsed": true
   },
   "outputs": [
    {
     "data": {
      "text/plain": [
       "0    891\n",
       "1    319\n",
       "2     42\n",
       "4     22\n",
       "3     20\n",
       "8      9\n",
       "5      6\n",
       "Name: SibSp, dtype: int64"
      ]
     },
     "execution_count": 21,
     "metadata": {},
     "output_type": "execute_result"
    }
   ],
   "source": [
    "dfFull.SibSp.value_counts()"
   ]
  },
  {
   "cell_type": "markdown",
   "metadata": {
    "_cell_guid": "abff7958-a42e-46cd-926b-54017076c049",
    "_execution_state": "idle",
    "_uuid": "b3828c226f305a3663b3832aa25fca7d73af5799"
   },
   "source": [
    "Again, categories below 45 items are not respresentative. Let's group them:"
   ]
  },
  {
   "cell_type": "code",
   "execution_count": 22,
   "metadata": {
    "_cell_guid": "e8275423-2ce4-4256-b6be-f13061fe6018",
    "_execution_state": "busy",
    "_uuid": "90126c0af35725cf12b17812ddba98cd13672a6c",
    "collapsed": true
   },
   "outputs": [],
   "source": [
    "dfFull['SibSpCat'] = dfFull.SibSp.copy().astype(int)\n",
    "dfFull.loc[dfFull.SibSp > 2,'SibSpCat'] = 3\n",
    "dfTrain = dfFull.loc[1:891,:]\n",
    "dfTest = dfFull.loc[892:,:]"
   ]
  },
  {
   "cell_type": "markdown",
   "metadata": {
    "_cell_guid": "6daf29d3-cae7-4133-b378-2c3528efc357",
    "_execution_state": "idle",
    "_uuid": "5726963c710ef55b68f41c24214e4ff6865780d0"
   },
   "source": [
    "It's time to verify the result:"
   ]
  },
  {
   "cell_type": "code",
   "execution_count": 23,
   "metadata": {
    "_cell_guid": "26627b9d-5256-4046-ba44-6827245eee3f",
    "_execution_state": "busy",
    "_uuid": "0491cff8b5aae4d587913eebe768fbffebaa6441",
    "collapsed": true
   },
   "outputs": [],
   "source": [
    "dtree = DecisionTreeClassifier()\n",
    "X_train = dfTrain[['Pclass','Sex','ParchCat','SibSpCat']]\n",
    "y = dfTrain['Survived']\n",
    "X_test = dfTest[['Pclass','Sex','ParchCat','SibSpCat']]\n",
    "dtree.fit(X_train,y)\n",
    "prediction = dtree.predict(X_test)\n",
    "dfPrediction = pd.DataFrame(data=prediction,index = dfTest.index.values,columns=['Survived'])\n",
    "contentTestPredObject1 = dfPrediction.to_csv()\n",
    "#print(contentTestPredObject1)"
   ]
  },
  {
   "cell_type": "markdown",
   "metadata": {
    "_cell_guid": "b7c50986-4a23-43eb-8c04-2405bbb31854",
    "_execution_state": "idle",
    "_uuid": "970e7dfbd67b1b5f02021bd0c7081f63485dc369"
   },
   "source": [
    "![Image](http://i66.tinypic.com/2v7tf8k.png)"
   ]
  },
  {
   "cell_type": "markdown",
   "metadata": {
    "_cell_guid": "f04fbf54-dc38-47e4-8288-2ccdf69bed19",
    "_execution_state": "idle",
    "_uuid": "cab0d36e95964c32643de4491a0cf9df401853db"
   },
   "source": [
    "I am disappointed:-( The result is worse than without SibSp. Likely because Parch digested all glory...  \n",
    "We are removing SibSp from the scope..."
   ]
  },
  {
   "cell_type": "markdown",
   "metadata": {
    "_cell_guid": "f5010b80-f512-4204-8527-db870a800da6",
    "_execution_state": "idle",
    "_uuid": "658b916ba0c5d47395d590f28e7b605dd9c28198"
   },
   "source": [
    "# PART 5: EMBARKED"
   ]
  },
  {
   "cell_type": "markdown",
   "metadata": {
    "_cell_guid": "1a4d62c4-7b2a-401e-8f88-93c3df5170d7",
    "_execution_state": "idle",
    "_uuid": "b0cf4d2d595505305ae2381c2ea39d54f36ba5a9"
   },
   "source": [
    "I am not optimistic here as I don't believe that departure place could influence survival rate.  \n",
    "However, we need to check it:"
   ]
  },
  {
   "cell_type": "code",
   "execution_count": 24,
   "metadata": {
    "_cell_guid": "10f40875-a3a0-4f7d-8fb3-c756b7b946bd",
    "_execution_state": "busy",
    "_uuid": "f3597ff321fcb1b90cd190c075e2854ae727f275",
    "collapsed": true
   },
   "outputs": [
    {
     "data": {
      "text/plain": [
       "<matplotlib.axes._subplots.AxesSubplot at 0x7fa814fa4e10>"
      ]
     },
     "execution_count": 24,
     "metadata": {},
     "output_type": "execute_result"
    },
    {
     "data": {
      "image/png": "[encoded data removed]",
      "text/plain": [
       "<matplotlib.figure.Figure at 0x7fa814ee5438>"
      ]
     },
     "metadata": {},
     "output_type": "display_data"
    }
   ],
   "source": [
    "dfTrain.groupby('Embarked').Survived.mean().plot(kind='bar')"
   ]
  },
  {
   "cell_type": "markdown",
   "metadata": {
    "_cell_guid": "f0d03987-caa9-4e4b-bf7d-27fd1ea936a3",
    "_execution_state": "idle",
    "_uuid": "3d2cd043aabc7a1a8a77b6ded3f22a8ca817ed08"
   },
   "source": [
    "Let's recall: C = Cherbourg, Q = Queenstown, S = Southampton  \n",
    "Wow, I am bit surprised. Maybe in Southampton were more males than in Cherbourg or Southhampton passengers chosen third class?"
   ]
  },
  {
   "cell_type": "code",
   "execution_count": 25,
   "metadata": {
    "_cell_guid": "063f8e49-f7f0-4985-ac9c-0051b1515664",
    "_execution_state": "busy",
    "_uuid": "00f86b8f52493933512b64702324bd586931ed5f",
    "collapsed": true
   },
   "outputs": [
    {
     "data": {
      "text/plain": [
       "Embarked  Sex\n",
       "C         0      157\n",
       "          1      113\n",
       "Q         0       63\n",
       "          1       60\n",
       "S         0      623\n",
       "          1      291\n",
       "Name: Name, dtype: int64"
      ]
     },
     "execution_count": 25,
     "metadata": {},
     "output_type": "execute_result"
    }
   ],
   "source": [
    "dfFull.groupby(['Embarked','Sex']).Name.count()"
   ]
  },
  {
   "cell_type": "code",
   "execution_count": 26,
   "metadata": {
    "_cell_guid": "81db7956-de03-4662-8ad4-a8287a17f374",
    "_execution_state": "busy",
    "_uuid": "1a50d0e57a9abed982aa04669eef917264475f75",
    "collapsed": true
   },
   "outputs": [
    {
     "data": {
      "text/plain": [
       "Embarked  Pclass\n",
       "C         1         141\n",
       "          2          28\n",
       "          3         101\n",
       "Q         1           3\n",
       "          2           7\n",
       "          3         113\n",
       "S         1         177\n",
       "          2         242\n",
       "          3         495\n",
       "Name: Name, dtype: int64"
      ]
     },
     "execution_count": 26,
     "metadata": {},
     "output_type": "execute_result"
    }
   ],
   "source": [
    "dfFull.groupby(['Embarked','Pclass']).Name.count()"
   ]
  },
  {
   "cell_type": "markdown",
   "metadata": {
    "_cell_guid": "1c1dfef4-9389-4891-8e62-aaf63ba22cb8",
    "_execution_state": "idle",
    "_uuid": "aa67424a55063c3267a848132a7fd5b7beed8422"
   },
   "source": [
    "Precisly. Cherbourg passengers are mainly first class. Moreover, no big difference between males and females (M:157, F:113).  \n",
    "Southampton: mainly third class and males twice more the females.  \n",
    "By the way it is interesting comparing countries:  \n",
    "Cherbourg: France  \n",
    "Southampton: England  \n",
    "Quincetown: Ireland  \n",
    "It seems that these days, the richest people were in France.."
   ]
  },
  {
   "cell_type": "markdown",
   "metadata": {
    "_cell_guid": "aeb705cd-f56e-49a3-9315-39c2b277aa52",
    "_execution_state": "idle",
    "_uuid": "5933dd56e38c8a97dd2ac51246cb9416642e4bf2"
   },
   "source": [
    "Before we start the prediction we need to imput two empty values:"
   ]
  },
  {
   "cell_type": "code",
   "execution_count": 27,
   "metadata": {
    "_cell_guid": "19eef2a6-1668-4db0-9de0-4e5a5783b347",
    "_execution_state": "busy",
    "_uuid": "a385df2998a0da43da934c8df86432a01aab28f2",
    "collapsed": true
   },
   "outputs": [
    {
     "data": {
      "text/html": [
       "<div>\n",
       "<style>\n",
       "    .dataframe thead tr:only-child th {\n",
       "        text-align: right;\n",
       "    }\n",
       "\n",
       "    .dataframe thead th {\n",
       "        text-align: left;\n",
       "    }\n",
       "\n",
       "    .dataframe tbody tr th {\n",
       "        vertical-align: top;\n",
       "    }\n",
       "</style>\n",
       "<table border=\"1\" class=\"dataframe\">\n",
       "  <thead>\n",
       "    <tr style=\"text-align: right;\">\n",
       "      <th></th>\n",
       "      <th>Age</th>\n",
       "      <th>Cabin</th>\n",
       "      <th>Embarked</th>\n",
       "      <th>Fare</th>\n",
       "      <th>Name</th>\n",
       "      <th>Parch</th>\n",
       "      <th>Pclass</th>\n",
       "      <th>Sex</th>\n",
       "      <th>SibSp</th>\n",
       "      <th>Survived</th>\n",
       "      <th>Ticket</th>\n",
       "      <th>ParchCat</th>\n",
       "      <th>SibSpCat</th>\n",
       "    </tr>\n",
       "    <tr>\n",
       "      <th>PassengerId</th>\n",
       "      <th></th>\n",
       "      <th></th>\n",
       "      <th></th>\n",
       "      <th></th>\n",
       "      <th></th>\n",
       "      <th></th>\n",
       "      <th></th>\n",
       "      <th></th>\n",
       "      <th></th>\n",
       "      <th></th>\n",
       "      <th></th>\n",
       "      <th></th>\n",
       "      <th></th>\n",
       "    </tr>\n",
       "  </thead>\n",
       "  <tbody>\n",
       "    <tr>\n",
       "      <th>62</th>\n",
       "      <td>38.0</td>\n",
       "      <td>B28</td>\n",
       "      <td>NaN</td>\n",
       "      <td>80.0</td>\n",
       "      <td>Icard, Miss. Amelie</td>\n",
       "      <td>0</td>\n",
       "      <td>1</td>\n",
       "      <td>1</td>\n",
       "      <td>0</td>\n",
       "      <td>1.0</td>\n",
       "      <td>113572</td>\n",
       "      <td>0</td>\n",
       "      <td>0</td>\n",
       "    </tr>\n",
       "    <tr>\n",
       "      <th>830</th>\n",
       "      <td>62.0</td>\n",
       "      <td>B28</td>\n",
       "      <td>NaN</td>\n",
       "      <td>80.0</td>\n",
       "      <td>Stone, Mrs. George Nelson (Martha Evelyn)</td>\n",
       "      <td>0</td>\n",
       "      <td>1</td>\n",
       "      <td>1</td>\n",
       "      <td>0</td>\n",
       "      <td>1.0</td>\n",
       "      <td>113572</td>\n",
       "      <td>0</td>\n",
       "      <td>0</td>\n",
       "    </tr>\n",
       "  </tbody>\n",
       "</table>\n",
       "</div>"
      ],
      "text/plain": [
       "              Age Cabin Embarked  Fare  \\\n",
       "PassengerId                              \n",
       "62           38.0   B28      NaN  80.0   \n",
       "830          62.0   B28      NaN  80.0   \n",
       "\n",
       "                                                  Name  Parch  Pclass  Sex  \\\n",
       "PassengerId                                                                  \n",
       "62                                 Icard, Miss. Amelie      0       1    1   \n",
       "830          Stone, Mrs. George Nelson (Martha Evelyn)      0       1    1   \n",
       "\n",
       "             SibSp  Survived  Ticket  ParchCat  SibSpCat  \n",
       "PassengerId                                               \n",
       "62               0       1.0  113572         0         0  \n",
       "830              0       1.0  113572         0         0  "
      ]
     },
     "execution_count": 27,
     "metadata": {},
     "output_type": "execute_result"
    }
   ],
   "source": [
    "dfFull[dfFull.Embarked.isnull()]"
   ]
  },
  {
   "cell_type": "markdown",
   "metadata": {
    "_cell_guid": "04e6a1c7-e5d8-4763-9821-8fe353b54d57",
    "_execution_state": "idle",
    "_uuid": "f724cf7a20ce28c1a9317cfdd7c4d054bdb1167c"
   },
   "source": [
    "Let's presume that Fare and Class are related to Port. Having similar passengers with the comparable fare and class we can predict departure port:  "
   ]
  },
  {
   "cell_type": "code",
   "execution_count": 28,
   "metadata": {
    "_cell_guid": "6b34147b-a669-4af7-b807-863ecbdb4e84",
    "_execution_state": "busy",
    "_uuid": "d14cc56b03094a166351e6c861b2b2a6553a3996",
    "collapsed": true
   },
   "outputs": [
    {
     "name": "stdout",
     "output_type": "stream",
     "text": [
      "0    C\n",
      "dtype: object\n",
      "0    C\n",
      "dtype: object\n"
     ]
    }
   ],
   "source": [
    "indexEmbarked = dfFull[dfFull.Embarked.isnull()].index.tolist()\n",
    "for indEmb in indexEmbarked:\n",
    "    fareEmbarked = dfFull.loc[indEmb].Fare.mean()\n",
    "    predictedEmbarked = dfFull[(dfFull.Fare < fareEmbarked*1.1) &\n",
    "                           (dfFull.Fare > fareEmbarked*0.9) &\n",
    "                           (dfFull.Pclass == dfFull.loc[indEmb].Pclass)].Embarked.mode()\n",
    "    dfFull.loc[indEmb,'Embarked'] = predictedEmbarked[0]\n",
    "    print(predictedEmbarked)   "
   ]
  },
  {
   "cell_type": "markdown",
   "metadata": {
    "_cell_guid": "7dd4fe65-8802-4543-8746-a2df6638c731",
    "_execution_state": "idle",
    "_uuid": "05fd6fd8ff111526676c7d21c33c052a0ae7ba2c"
   },
   "source": [
    "It seems both passengers were onboarded in France. They survived..."
   ]
  },
  {
   "cell_type": "markdown",
   "metadata": {
    "_cell_guid": "d0357f59-5469-4823-88bf-dd2023064031",
    "_execution_state": "idle",
    "_uuid": "a01835ba3d4e713a970a2ec98132c3f23fa81450"
   },
   "source": [
    "Good, we have now all data in Embarked column. Let's make a prediction:"
   ]
  },
  {
   "cell_type": "code",
   "execution_count": 29,
   "metadata": {
    "_cell_guid": "6c192274-0b9c-48dd-b71c-2a6e16547d0d",
    "_execution_state": "busy",
    "_uuid": "2f9a59e6f4681fe41941cf634569814fdaccb651",
    "collapsed": true
   },
   "outputs": [],
   "source": [
    "dfFull['Embarked'] = dfFull['Embarked'].map({'S': 0, 'Q': 1, 'C': 2}).astype(int)\n",
    "dfTrain = dfFull.loc[1:891,:]\n",
    "dfTest = dfFull.loc[892:,:]"
   ]
  },
  {
   "cell_type": "code",
   "execution_count": 30,
   "metadata": {
    "_cell_guid": "96bbce59-f5f8-44f3-8ebb-bc3591f7cb34",
    "_execution_state": "busy",
    "_uuid": "5f245971b50b8d240a1f34ac2c0927a544c7b97c",
    "collapsed": true
   },
   "outputs": [],
   "source": [
    "dtree = DecisionTreeClassifier()\n",
    "X_train = dfTrain[['Pclass','Sex','ParchCat','Embarked']]\n",
    "y = dfTrain['Survived']\n",
    "X_test = dfTest[['Pclass','Sex','ParchCat','Embarked']]\n",
    "dtree.fit(X_train,y)\n",
    "prediction = dtree.predict(X_test)\n",
    "dfPrediction = pd.DataFrame(data=prediction,index = dfTest.index.values,columns=['Survived'])\n",
    "contentTestPredObject1 = dfPrediction.to_csv()\n",
    "#print(contentTestPredObject1)"
   ]
  },
  {
   "cell_type": "markdown",
   "metadata": {
    "_cell_guid": "13f6f539-07b6-481a-91f3-ec00a9b0be60",
    "_execution_state": "idle",
    "_uuid": "db926f9b6595306c5ccbc1fc56c58534d264ccfe"
   },
   "source": [
    "![Image](http://i68.tinypic.com/162203l.png)"
   ]
  },
  {
   "cell_type": "markdown",
   "metadata": {
    "_cell_guid": "7a9d3588-7846-41c3-b337-bfe2c930b118",
    "_execution_state": "idle",
    "_uuid": "cfeedf7a5e5a34c57a8d9574e2251c659e4ba0ac"
   },
   "source": [
    "Wow! + 1.5% accurracy. I am suprised!"
   ]
  },
  {
   "cell_type": "markdown",
   "metadata": {
    "_cell_guid": "dd8f8f76-aa1d-410c-b740-9772490f1a7e",
    "_execution_state": "idle",
    "_uuid": "4af38d7714a8c46b9db78e07a046f5286874a332"
   },
   "source": [
    "# PART 6: FARE"
   ]
  },
  {
   "cell_type": "markdown",
   "metadata": {
    "_cell_guid": "2dbd5ca4-b56c-461e-9a2b-0b1410927211",
    "_execution_state": "idle",
    "_uuid": "b8ad07e246d66a31206745c4761c1fd3746f8626"
   },
   "source": [
    "Money can't swim, however they may somehow support Class category. Let's verify it:"
   ]
  },
  {
   "cell_type": "markdown",
   "metadata": {
    "_cell_guid": "c579aacd-4782-44e4-a13f-dd96af8e5ce3",
    "_execution_state": "idle",
    "_uuid": "cd6f235933e5a2ef73a838e5911508ea55fb5a54"
   },
   "source": [
    "Firstly, let's fill empty values:"
   ]
  },
  {
   "cell_type": "code",
   "execution_count": 31,
   "metadata": {
    "_cell_guid": "378fd567-dda3-4582-afc6-cf74a5baa0e6",
    "_execution_state": "busy",
    "_uuid": "885682ca6790a892dc9f56e05b6a11b2ad4afedd",
    "collapsed": true
   },
   "outputs": [
    {
     "data": {
      "text/html": [
       "<div>\n",
       "<style>\n",
       "    .dataframe thead tr:only-child th {\n",
       "        text-align: right;\n",
       "    }\n",
       "\n",
       "    .dataframe thead th {\n",
       "        text-align: left;\n",
       "    }\n",
       "\n",
       "    .dataframe tbody tr th {\n",
       "        vertical-align: top;\n",
       "    }\n",
       "</style>\n",
       "<table border=\"1\" class=\"dataframe\">\n",
       "  <thead>\n",
       "    <tr style=\"text-align: right;\">\n",
       "      <th></th>\n",
       "      <th>Age</th>\n",
       "      <th>Cabin</th>\n",
       "      <th>Embarked</th>\n",
       "      <th>Fare</th>\n",
       "      <th>Name</th>\n",
       "      <th>Parch</th>\n",
       "      <th>Pclass</th>\n",
       "      <th>Sex</th>\n",
       "      <th>SibSp</th>\n",
       "      <th>Survived</th>\n",
       "      <th>Ticket</th>\n",
       "      <th>ParchCat</th>\n",
       "      <th>SibSpCat</th>\n",
       "    </tr>\n",
       "    <tr>\n",
       "      <th>PassengerId</th>\n",
       "      <th></th>\n",
       "      <th></th>\n",
       "      <th></th>\n",
       "      <th></th>\n",
       "      <th></th>\n",
       "      <th></th>\n",
       "      <th></th>\n",
       "      <th></th>\n",
       "      <th></th>\n",
       "      <th></th>\n",
       "      <th></th>\n",
       "      <th></th>\n",
       "      <th></th>\n",
       "    </tr>\n",
       "  </thead>\n",
       "  <tbody>\n",
       "    <tr>\n",
       "      <th>1044</th>\n",
       "      <td>60.5</td>\n",
       "      <td>NaN</td>\n",
       "      <td>0</td>\n",
       "      <td>NaN</td>\n",
       "      <td>Storey, Mr. Thomas</td>\n",
       "      <td>0</td>\n",
       "      <td>3</td>\n",
       "      <td>0</td>\n",
       "      <td>0</td>\n",
       "      <td>NaN</td>\n",
       "      <td>3701</td>\n",
       "      <td>0</td>\n",
       "      <td>0</td>\n",
       "    </tr>\n",
       "  </tbody>\n",
       "</table>\n",
       "</div>"
      ],
      "text/plain": [
       "              Age Cabin  Embarked  Fare                Name  Parch  Pclass  \\\n",
       "PassengerId                                                                  \n",
       "1044         60.5   NaN         0   NaN  Storey, Mr. Thomas      0       3   \n",
       "\n",
       "             Sex  SibSp  Survived Ticket  ParchCat  SibSpCat  \n",
       "PassengerId                                                   \n",
       "1044           0      0       NaN   3701         0         0  "
      ]
     },
     "execution_count": 31,
     "metadata": {},
     "output_type": "execute_result"
    }
   ],
   "source": [
    "nullFares = dfFull[dfFull.Fare.isnull()].index.values\n",
    "dfFull.loc[nullFares]"
   ]
  },
  {
   "cell_type": "code",
   "execution_count": 32,
   "metadata": {
    "_cell_guid": "138883d6-93c5-4d0c-9beb-b67203cfef00",
    "_execution_state": "busy",
    "_uuid": "fbcbc66cec7ffc027992c4aa54ac55a6c04ab3e7",
    "collapsed": true
   },
   "outputs": [
    {
     "data": {
      "text/html": [
       "<div>\n",
       "<style>\n",
       "    .dataframe thead tr:only-child th {\n",
       "        text-align: right;\n",
       "    }\n",
       "\n",
       "    .dataframe thead th {\n",
       "        text-align: left;\n",
       "    }\n",
       "\n",
       "    .dataframe tbody tr th {\n",
       "        vertical-align: top;\n",
       "    }\n",
       "</style>\n",
       "<table border=\"1\" class=\"dataframe\">\n",
       "  <thead>\n",
       "    <tr style=\"text-align: right;\">\n",
       "      <th></th>\n",
       "      <th>Age</th>\n",
       "      <th>Cabin</th>\n",
       "      <th>Embarked</th>\n",
       "      <th>Fare</th>\n",
       "      <th>Name</th>\n",
       "      <th>Parch</th>\n",
       "      <th>Pclass</th>\n",
       "      <th>Sex</th>\n",
       "      <th>SibSp</th>\n",
       "      <th>Survived</th>\n",
       "      <th>Ticket</th>\n",
       "      <th>ParchCat</th>\n",
       "      <th>SibSpCat</th>\n",
       "    </tr>\n",
       "    <tr>\n",
       "      <th>PassengerId</th>\n",
       "      <th></th>\n",
       "      <th></th>\n",
       "      <th></th>\n",
       "      <th></th>\n",
       "      <th></th>\n",
       "      <th></th>\n",
       "      <th></th>\n",
       "      <th></th>\n",
       "      <th></th>\n",
       "      <th></th>\n",
       "      <th></th>\n",
       "      <th></th>\n",
       "      <th></th>\n",
       "    </tr>\n",
       "  </thead>\n",
       "  <tbody>\n",
       "    <tr>\n",
       "      <th>1044</th>\n",
       "      <td>60.5</td>\n",
       "      <td>NaN</td>\n",
       "      <td>0</td>\n",
       "      <td>10.118203</td>\n",
       "      <td>Storey, Mr. Thomas</td>\n",
       "      <td>0</td>\n",
       "      <td>3</td>\n",
       "      <td>0</td>\n",
       "      <td>0</td>\n",
       "      <td>NaN</td>\n",
       "      <td>3701</td>\n",
       "      <td>0</td>\n",
       "      <td>0</td>\n",
       "    </tr>\n",
       "  </tbody>\n",
       "</table>\n",
       "</div>"
      ],
      "text/plain": [
       "              Age Cabin  Embarked       Fare                Name  Parch  \\\n",
       "PassengerId                                                               \n",
       "1044         60.5   NaN         0  10.118203  Storey, Mr. Thomas      0   \n",
       "\n",
       "             Pclass  Sex  SibSp  Survived Ticket  ParchCat  SibSpCat  \n",
       "PassengerId                                                           \n",
       "1044              3    0      0       NaN   3701         0         0  "
      ]
     },
     "execution_count": 32,
     "metadata": {},
     "output_type": "execute_result"
    }
   ],
   "source": [
    "dfFull.loc[nullFares,'Fare']\n",
    "dfFull.loc[nullFares,'Fare'] = dfFull[(dfFull.ParchCat == 0) & (dfFull.Pclass ==3 ) & (dfFull.Embarked == 0)].Fare.mean()\n",
    "dfFull.loc[[1044]]"
   ]
  },
  {
   "cell_type": "markdown",
   "metadata": {
    "_cell_guid": "7c7878e6-bbeb-409d-83bd-4e82a3a56da0",
    "_execution_state": "idle",
    "_uuid": "9a4069197afbbfbd8c610c50fc3dda6f34e5b7b8"
   },
   "source": [
    "We calculated the mean of similar passengers from the same Class, Embarked and ParchCat. Mr Thomas paid ~10 pounds  "
   ]
  },
  {
   "cell_type": "markdown",
   "metadata": {
    "_cell_guid": "d1121f0f-cbdd-477d-9711-942aa19e12ab",
    "_execution_state": "idle",
    "_uuid": "067efef7e9f6994a9db54201d1d217ac0b97eeb1"
   },
   "source": [
    "Now, let's see the correlance in the graph:"
   ]
  },
  {
   "cell_type": "code",
   "execution_count": 33,
   "metadata": {
    "_cell_guid": "8a49e2e7-7f73-4e22-9bb8-6092fff84314",
    "_execution_state": "busy",
    "_uuid": "c9265189c520090ac67be3f0d0b5498941beeebb",
    "collapsed": true
   },
   "outputs": [
    {
     "name": "stderr",
     "output_type": "stream",
     "text": [
      "/opt/conda/lib/python3.6/site-packages/numpy/core/fromnumeric.py:57: FutureWarning: reshape is deprecated and will raise in a subsequent release. Please use .values.reshape(...) instead\n",
      "  return getattr(obj, method)(*args, **kwds)\n"
     ]
    },
    {
     "data": {
      "text/plain": [
       "Text(0.5,0,'Fare')"
      ]
     },
     "execution_count": 33,
     "metadata": {},
     "output_type": "execute_result"
    },
    {
     "data": {
      "image/png": "[encoded data removed]",
      "text/plain": [
       "<matplotlib.figure.Figure at 0x7fa814ee2780>"
      ]
     },
     "metadata": {},
     "output_type": "display_data"
    }
   ],
   "source": [
    "import matplotlib.pyplot as plt\n",
    "plt.hist([dfTrain[dfTrain['Survived']==1]['Fare'], dfTrain[dfTrain['Survived']==0]['Fare']], stacked=True, color = ['g','r'],\n",
    "         bins = 10,label = ['Survived','Not Survived'])\n",
    "plt.legend()\n",
    "plt.ylabel('No. of Passengers')\n",
    "plt.xlabel('Fare')"
   ]
  },
  {
   "cell_type": "markdown",
   "metadata": {
    "_cell_guid": "c7e39e3b-2a90-470e-a633-5c5e0c2f8fcc",
    "_execution_state": "idle",
    "_uuid": "5e27c45fa26a8e269e909de1ac8bf4351bc13d62"
   },
   "source": [
    "I think it looks obvious that low fares had less chance to survive.  \n",
    "Let's make a simple split based on mean value:"
   ]
  },
  {
   "cell_type": "code",
   "execution_count": 34,
   "metadata": {
    "_cell_guid": "cd741489-23b9-4216-ad1a-009aa1a1cf7c",
    "_execution_state": "busy",
    "_uuid": "895fc1dab30585d2d78bdca58b14f18f7e74fce7",
    "collapsed": true
   },
   "outputs": [
    {
     "data": {
      "text/plain": [
       "0.0    1005\n",
       "1.0     304\n",
       "Name: Fare, dtype: int64"
      ]
     },
     "execution_count": 34,
     "metadata": {},
     "output_type": "execute_result"
    }
   ],
   "source": [
    "fareMean = dfFull.Fare.mean()\n",
    "dfFull.loc[dfFull.Fare <= fareMean,'Fare']=0\n",
    "dfFull.loc[dfFull.Fare > fareMean,'Fare']=1\n",
    "dfFull.Fare.value_counts()"
   ]
  },
  {
   "cell_type": "markdown",
   "metadata": {
    "_cell_guid": "437c2ac5-9827-4915-bb32-cfffdbca8d1f",
    "_execution_state": "idle",
    "_uuid": "fdc89c67a3a7be19c7668be705730e518d239467"
   },
   "source": [
    "And now we are ready to start a prediction:"
   ]
  },
  {
   "cell_type": "code",
   "execution_count": 35,
   "metadata": {
    "_cell_guid": "f767bd39-07d2-46fc-ad97-d92ee59ed1ca",
    "_execution_state": "busy",
    "_uuid": "af113f37e457d2b1ca732525b559d02fb285364c",
    "collapsed": true
   },
   "outputs": [],
   "source": [
    "dtree = DecisionTreeClassifier()\n",
    "X_train = dfTrain[['Pclass','Sex','ParchCat','Embarked','Fare']]\n",
    "y = dfTrain['Survived']\n",
    "X_test = dfTest[['Pclass','Sex','ParchCat','Embarked','Fare']]\n",
    "dtree.fit(X_train,y)\n",
    "prediction = dtree.predict(X_test)\n",
    "dfPrediction = pd.DataFrame(data=prediction,index = dfTest.index.values,columns=['Survived'])\n",
    "contentTestPredObject1 = dfPrediction.to_csv()\n",
    "#print(contentTestPredObject1)"
   ]
  },
  {
   "cell_type": "markdown",
   "metadata": {
    "_cell_guid": "cee61891-8b6f-4b99-86fc-a2e281623b6b",
    "_execution_state": "idle",
    "_uuid": "af03655ce88dbcc14d18a5eec814593702eb2d78"
   },
   "source": [
    "![Image](http://i67.tinypic.com/mmsksk.png)"
   ]
  },
  {
   "cell_type": "markdown",
   "metadata": {
    "_cell_guid": "c9efe083-e435-4ade-866d-34e7ad91ce9c",
    "_execution_state": "idle",
    "_uuid": "255b430b4d4c827b6daf4d2d54aa3189d34f3d47"
   },
   "source": [
    "Well done;-) ~+0.5%. We can improve the result providing more fitted split, but let's leave it at this point."
   ]
  },
  {
   "cell_type": "markdown",
   "metadata": {
    "_cell_guid": "15f1b044-e163-4ee6-bfd4-b38068826704",
    "_execution_state": "idle",
    "_uuid": "c1c34f4d1c1f3a425a69e00300e28c233ba86f8f"
   },
   "source": [
    "## PART 7: CABIN"
   ]
  },
  {
   "cell_type": "markdown",
   "metadata": {
    "_cell_guid": "3632dea4-e2cf-4baa-ac98-6fb8d1a07125",
    "_execution_state": "idle",
    "_uuid": "ddbfa4193ab624ccc5be85b0a5de9dbd60121de5"
   },
   "source": [
    "Honestly speaking I am not optimistic here. There are a lot of unique values and actually I don't really know what and where the cabin is. Moreover I have a lot of questions here i.e. does it mean, that empty values don't have a cabin or just data are missed? Hmm..."
   ]
  },
  {
   "cell_type": "markdown",
   "metadata": {
    "_cell_guid": "9e2a3855-58c6-406b-bf88-039316477d6d",
    "_execution_state": "idle",
    "_uuid": "619c8bd9fc0dce70d1fa733360418a2cd4fd886b"
   },
   "source": [
    "Let's start from some analysis:"
   ]
  },
  {
   "cell_type": "code",
   "execution_count": 36,
   "metadata": {
    "_cell_guid": "370293d0-ef05-41f2-b010-a48390bb9808",
    "_execution_state": "busy",
    "_uuid": "339db770fa69a80dff9baa4a4f0dc03b22ae5bfb",
    "collapsed": true
   },
   "outputs": [
    {
     "data": {
      "text/plain": [
       "NaN                1014\n",
       "C23 C25 C27           6\n",
       "B57 B59 B63 B66       5\n",
       "G6                    5\n",
       "C78                   4\n",
       "C22 C26               4\n",
       "F4                    4\n",
       "D                     4\n",
       "F33                   4\n",
       "B96 B98               4\n",
       "F2                    4\n",
       "A34                   3\n",
       "B58 B60               3\n",
       "C101                  3\n",
       "E101                  3\n",
       "E34                   3\n",
       "B51 B53 B55           3\n",
       "C32                   2\n",
       "C85                   2\n",
       "B28                   2\n",
       "B20                   2\n",
       "D37                   2\n",
       "B78                   2\n",
       "B18                   2\n",
       "D19                   2\n",
       "B35                   2\n",
       "B69                   2\n",
       "C92                   2\n",
       "E8                    2\n",
       "C83                   2\n",
       "                   ... \n",
       "B42                   1\n",
       "B24                   1\n",
       "C49                   1\n",
       "E52                   1\n",
       "A23                   1\n",
       "A9                    1\n",
       "A19                   1\n",
       "B3                    1\n",
       "C99                   1\n",
       "F                     1\n",
       "A24                   1\n",
       "C128                  1\n",
       "E68                   1\n",
       "C82                   1\n",
       "D56                   1\n",
       "D6                    1\n",
       "E36                   1\n",
       "C45                   1\n",
       "D7                    1\n",
       "C53                   1\n",
       "D34                   1\n",
       "D43                   1\n",
       "A21                   1\n",
       "B38                   1\n",
       "A31                   1\n",
       "A10                   1\n",
       "C95                   1\n",
       "A5                    1\n",
       "D45                   1\n",
       "D38                   1\n",
       "Name: Cabin, Length: 187, dtype: int64"
      ]
     },
     "execution_count": 36,
     "metadata": {},
     "output_type": "execute_result"
    }
   ],
   "source": [
    "dfFull.Cabin.value_counts(dropna=False)"
   ]
  },
  {
   "cell_type": "markdown",
   "metadata": {
    "_cell_guid": "e1b06683-c744-4111-80ae-8a0630e610f4",
    "_execution_state": "idle",
    "_uuid": "d46d6de284d323e0d4da8757de04ec391a9bd6b9"
   },
   "source": [
    "That's a lot of categories. Let's simplify it taking only first letter:"
   ]
  },
  {
   "cell_type": "code",
   "execution_count": 37,
   "metadata": {
    "_cell_guid": "092e77a1-d736-4072-a82a-c590398c62a2",
    "_execution_state": "busy",
    "_uuid": "facf68b4b90d9524b84d134c29b00e76494fa1f1",
    "collapsed": true
   },
   "outputs": [
    {
     "data": {
      "text/plain": [
       "NaN    1014\n",
       "C        94\n",
       "B        65\n",
       "D        46\n",
       "E        41\n",
       "A        22\n",
       "F        21\n",
       "G         5\n",
       "T         1\n",
       "Name: Cabin, dtype: int64"
      ]
     },
     "execution_count": 37,
     "metadata": {},
     "output_type": "execute_result"
    }
   ],
   "source": [
    "dfFull.Cabin.str[0].value_counts(dropna=False)"
   ]
  },
  {
   "cell_type": "markdown",
   "metadata": {
    "_cell_guid": "0a0f99f9-69b0-4c7b-b25d-9d7c64a806ca",
    "_execution_state": "idle",
    "_uuid": "823866203090330bad799f253e55a54f26b29688"
   },
   "source": [
    "Now it is better. We have to move last two items to N/A and make 'Z' category:"
   ]
  },
  {
   "cell_type": "code",
   "execution_count": 38,
   "metadata": {
    "_cell_guid": "139fb464-5108-4da3-bce9-f70387d726f7",
    "_execution_state": "busy",
    "_uuid": "9c3c509ca278dc3a77827eacca3aca38cd0b930a",
    "collapsed": true
   },
   "outputs": [
    {
     "data": {
      "text/plain": [
       "<matplotlib.axes._subplots.AxesSubplot at 0x7fa814dd5be0>"
      ]
     },
     "execution_count": 38,
     "metadata": {},
     "output_type": "execute_result"
    },
    {
     "data": {
      "image/png": "[encoded data removed]",
      "text/plain": [
       "<matplotlib.figure.Figure at 0x7fa814eb3e10>"
      ]
     },
     "metadata": {},
     "output_type": "display_data"
    }
   ],
   "source": [
    "dfFull['CabinCat'] = dfFull.Cabin.str[0].fillna('Z')\n",
    "dfFull.loc[dfFull.CabinCat=='G','CabinCat']= 'Z'\n",
    "dfFull.loc[dfFull.CabinCat=='T','CabinCat']= 'Z'\n",
    "dfFull['CabinCat'] = dfFull['CabinCat'].map({'A': 0, 'B': 1, 'C': 2, 'D': 3, 'E': 4, 'F': 5, 'Z': 6}).astype(int)\n",
    "dfTrain = dfFull.loc[1:891,:]\n",
    "dfTest = dfFull.loc[892:,:]\n",
    "dfTrain.groupby('CabinCat').Survived.mean().plot(kind='bar')"
   ]
  },
  {
   "cell_type": "markdown",
   "metadata": {
    "_cell_guid": "2b471cda-2df2-4da1-80d1-2b69f07b1d5b",
    "_execution_state": "idle",
    "_uuid": "49e0f2a3575baab04a445c9bbc73363586d4f9d6"
   },
   "source": [
    " I am not sure. Let's predict:"
   ]
  },
  {
   "cell_type": "code",
   "execution_count": 39,
   "metadata": {
    "_cell_guid": "3a77c9a9-575c-4a1f-8762-73711c358ab9",
    "_execution_state": "busy",
    "_uuid": "dedcd13f7e6887933bd86ff5ed23027e1410679c",
    "collapsed": true
   },
   "outputs": [],
   "source": [
    "dtree = DecisionTreeClassifier()\n",
    "X_train = dfTrain[['Pclass','Sex','ParchCat','Embarked','Fare','CabinCat']]\n",
    "X_train = pd.get_dummies(X_train)\n",
    "y = dfTrain['Survived']\n",
    "X_test = dfTest[['Pclass','Sex','ParchCat','Embarked','Fare','CabinCat']]\n",
    "X_test = pd.get_dummies(X_test)\n",
    "dtree.fit(X_train,y)\n",
    "prediction = dtree.predict(X_test)\n",
    "dfPrediction = pd.DataFrame(data=prediction,index = dfTest.index.values,columns=['Survived'])\n",
    "contentTestPredObject1 = dfPrediction.to_csv()\n",
    "#print(contentTestPredObject1)"
   ]
  },
  {
   "cell_type": "markdown",
   "metadata": {
    "_cell_guid": "59d0d929-c830-445d-9787-98c5b50b6665",
    "_execution_state": "idle",
    "_uuid": "18259b90f0774611781e3c6f3cec626072ed51f0"
   },
   "source": [
    "### score: 0.77990"
   ]
  },
  {
   "cell_type": "markdown",
   "metadata": {
    "_cell_guid": "e16bddcc-3ac2-4721-af37-91f1d2c94d2e",
    "_execution_state": "idle",
    "_uuid": "4fe2b85612b7a91c9a5555f70f3bd5c9aa3f6dad"
   },
   "source": [
    "The same result as without... No improvement so let's rig it out."
   ]
  },
  {
   "cell_type": "markdown",
   "metadata": {
    "_cell_guid": "655ccbbd-0de3-4f2e-831e-227da84aca4e",
    "_execution_state": "idle",
    "_uuid": "d134572b8808a428b614b1d72c333ee35bb5aa0d"
   },
   "source": [
    "## PART 8: NAME "
   ]
  },
  {
   "cell_type": "markdown",
   "metadata": {
    "_cell_guid": "4c392265-bdff-4d3d-87a1-bc5163960763",
    "_execution_state": "idle",
    "_uuid": "c669120e317822517ba5e206bc9ea1a6e72bfb16"
   },
   "source": [
    "Name category is problematic, as only Title seems to be reasonable to take:"
   ]
  },
  {
   "cell_type": "code",
   "execution_count": 40,
   "metadata": {
    "_cell_guid": "7af76ee1-5ca2-4317-aecf-f2934a8801f7",
    "_execution_state": "busy",
    "_uuid": "f54b3f37ce73fb03541490e55a0ae01ac014c24c",
    "collapsed": true
   },
   "outputs": [
    {
     "data": {
      "text/plain": [
       "Mr          757\n",
       "Miss        260\n",
       "Mrs         197\n",
       "Master       61\n",
       "Dr            8\n",
       "Rev           8\n",
       "Col           4\n",
       "Ms            2\n",
       "Mlle          2\n",
       "Major         2\n",
       "Mme           1\n",
       "Capt          1\n",
       "Jonkheer      1\n",
       "Sir           1\n",
       "Dona          1\n",
       "Lady          1\n",
       "Don           1\n",
       "Countess      1\n",
       "Name: Title, dtype: int64"
      ]
     },
     "execution_count": 40,
     "metadata": {},
     "output_type": "execute_result"
    }
   ],
   "source": [
    "dfFull['Title'] = dfFull.Name.str.extract(' ([A-Za-z]+)\\.', expand=False)\n",
    "dfFull.Title.value_counts()"
   ]
  },
  {
   "cell_type": "markdown",
   "metadata": {
    "_cell_guid": "59c66345-6be1-4d6a-b14f-de7cdbcec821",
    "_execution_state": "idle",
    "_uuid": "fa02f96ce10cb60b013936cd31f2e0ff22ffbb92"
   },
   "source": [
    "All small categories should be taken out. We can put them into new category like Rest or something.  \n",
    "We could also try to impute them putting mean values or... predict it:"
   ]
  },
  {
   "cell_type": "code",
   "execution_count": 41,
   "metadata": {
    "_cell_guid": "6abc5b70-3a59-4a73-ba7b-79cb8fc72318",
    "_execution_state": "busy",
    "_uuid": "d326ac2a32ebeb3a09a110c400e2f19b6b77b111",
    "collapsed": true
   },
   "outputs": [
    {
     "data": {
      "text/plain": [
       "1    757\n",
       "2    260\n",
       "3    197\n",
       "4     61\n",
       "0     34\n",
       "Name: TitleCat, dtype: int64"
      ]
     },
     "execution_count": 41,
     "metadata": {},
     "output_type": "execute_result"
    }
   ],
   "source": [
    "dfFull['TitleCat']=dfFull['Title']\n",
    "dfFull.TitleCat.replace(to_replace=['Rev','Dr','Col','Major','Mlle','Ms','Countess','Capt','Dona','Don','Sir','Lady','Jonkheer','Mme'],\n",
    "                        value=0, inplace=True)\n",
    "dfFull.TitleCat.replace('Mr',1,inplace=True)\n",
    "dfFull.TitleCat.replace('Miss',2,inplace=True)\n",
    "dfFull.TitleCat.replace('Mrs',3,inplace=True)\n",
    "dfFull.TitleCat.replace('Master',4,inplace=True)                                            \n",
    "dfFull.TitleCat.value_counts(dropna=False)"
   ]
  },
  {
   "cell_type": "markdown",
   "metadata": {
    "_cell_guid": "8086c108-6941-4404-bcc9-dad2068bf7da",
    "_execution_state": "idle",
    "_uuid": "b6e697fe6d060d7bf09f5529a088091761e43fcf"
   },
   "source": [
    "Firstly let's check what categories could have an impact on Title by building correlation matrix:"
   ]
  },
  {
   "cell_type": "code",
   "execution_count": 42,
   "metadata": {
    "_cell_guid": "702d7371-73bd-4d9b-b1c1-471cbf70e4ad",
    "_execution_state": "busy",
    "_uuid": "b47a4162632b8c9cdfb04a045613287a840dccb5",
    "collapsed": true
   },
   "outputs": [
    {
     "data": {
      "text/plain": [
       "Age        -0.247335\n",
       "Embarked    0.048032\n",
       "Fare        0.144555\n",
       "Parch       0.376653\n",
       "Pclass     -0.029138\n",
       "Sex         0.614430\n",
       "SibSp       0.311873\n",
       "Survived    0.451099\n",
       "ParchCat    0.432494\n",
       "SibSpCat    0.354165\n",
       "CabinCat   -0.039876\n",
       "TitleCat    1.000000\n",
       "Name: TitleCat, dtype: float64"
      ]
     },
     "execution_count": 42,
     "metadata": {},
     "output_type": "execute_result"
    }
   ],
   "source": [
    "dfFull.corr().TitleCat"
   ]
  },
  {
   "cell_type": "markdown",
   "metadata": {
    "_cell_guid": "6b3637c2-3a14-4790-8e01-94112e94c19c",
    "_execution_state": "idle",
    "_uuid": "c9c3cf69877f81ee1dadc11ca112407d12923dcb"
   },
   "source": [
    "The highest values came from Sex, PrachCat and SibSpCat. We have to resign from Survived as it has only data for Train."
   ]
  },
  {
   "cell_type": "code",
   "execution_count": 43,
   "metadata": {
    "_cell_guid": "b05759a0-888e-4898-a529-2ee3b1607774",
    "_execution_state": "busy",
    "_uuid": "25ee01b2fb1ebbbc6419e0ab69c6a799360342a1",
    "collapsed": true
   },
   "outputs": [],
   "source": [
    "dfTrain = dfFull.loc[1:891,:]\n",
    "dfTest = dfFull.loc[892:,:]\n",
    "dtree = DecisionTreeClassifier()\n",
    "X_train = dfFull[dfFull.TitleCat!=0][['Sex','ParchCat','SibSpCat']]\n",
    "y = dfFull[dfFull.TitleCat!=0]['TitleCat']\n",
    "X_test = dfFull[dfFull.TitleCat==0][['Sex','ParchCat','SibSpCat']]\n",
    "dtree.fit(X_train,y)\n",
    "prediction = dtree.predict(X_test)\n",
    "dfPrediction = pd.DataFrame(data=prediction,index = X_test.index.values,columns=['TitleCat'])\n",
    "#print(dfPrediction)"
   ]
  },
  {
   "cell_type": "code",
   "execution_count": 44,
   "metadata": {
    "_cell_guid": "d7961872-9b10-4803-bbdb-52b2a22b2a2d",
    "_execution_state": "busy",
    "_uuid": "619807fbbfe1e5865d1573c1a4fbb8aaf2ab484e",
    "collapsed": true
   },
   "outputs": [],
   "source": [
    "dfFull.TitleCat\n",
    "dfFull.update(dfPrediction)"
   ]
  },
  {
   "cell_type": "code",
   "execution_count": 45,
   "metadata": {
    "_cell_guid": "f4d470b9-4caf-4075-b43e-ab61a043ded6",
    "_execution_state": "busy",
    "_uuid": "84264697bf5718cf4255de7a9fc225e80b70162a",
    "collapsed": true
   },
   "outputs": [
    {
     "data": {
      "text/html": [
       "<div>\n",
       "<style>\n",
       "    .dataframe thead tr:only-child th {\n",
       "        text-align: right;\n",
       "    }\n",
       "\n",
       "    .dataframe thead th {\n",
       "        text-align: left;\n",
       "    }\n",
       "\n",
       "    .dataframe tbody tr th {\n",
       "        vertical-align: top;\n",
       "    }\n",
       "</style>\n",
       "<table border=\"1\" class=\"dataframe\">\n",
       "  <thead>\n",
       "    <tr style=\"text-align: right;\">\n",
       "      <th></th>\n",
       "      <th>TitleCat</th>\n",
       "      <th>Title</th>\n",
       "      <th>Sex</th>\n",
       "      <th>SibSpCat</th>\n",
       "      <th>ParchCat</th>\n",
       "    </tr>\n",
       "    <tr>\n",
       "      <th>PassengerId</th>\n",
       "      <th></th>\n",
       "      <th></th>\n",
       "      <th></th>\n",
       "      <th></th>\n",
       "      <th></th>\n",
       "    </tr>\n",
       "  </thead>\n",
       "  <tbody>\n",
       "    <tr>\n",
       "      <th>31</th>\n",
       "      <td>1.0</td>\n",
       "      <td>Don</td>\n",
       "      <td>0</td>\n",
       "      <td>0</td>\n",
       "      <td>0</td>\n",
       "    </tr>\n",
       "    <tr>\n",
       "      <th>150</th>\n",
       "      <td>1.0</td>\n",
       "      <td>Rev</td>\n",
       "      <td>0</td>\n",
       "      <td>0</td>\n",
       "      <td>0</td>\n",
       "    </tr>\n",
       "    <tr>\n",
       "      <th>151</th>\n",
       "      <td>1.0</td>\n",
       "      <td>Rev</td>\n",
       "      <td>0</td>\n",
       "      <td>0</td>\n",
       "      <td>0</td>\n",
       "    </tr>\n",
       "    <tr>\n",
       "      <th>246</th>\n",
       "      <td>1.0</td>\n",
       "      <td>Dr</td>\n",
       "      <td>0</td>\n",
       "      <td>2</td>\n",
       "      <td>0</td>\n",
       "    </tr>\n",
       "    <tr>\n",
       "      <th>250</th>\n",
       "      <td>1.0</td>\n",
       "      <td>Rev</td>\n",
       "      <td>0</td>\n",
       "      <td>1</td>\n",
       "      <td>0</td>\n",
       "    </tr>\n",
       "    <tr>\n",
       "      <th>318</th>\n",
       "      <td>1.0</td>\n",
       "      <td>Dr</td>\n",
       "      <td>0</td>\n",
       "      <td>0</td>\n",
       "      <td>0</td>\n",
       "    </tr>\n",
       "    <tr>\n",
       "      <th>370</th>\n",
       "      <td>2.0</td>\n",
       "      <td>Mme</td>\n",
       "      <td>1</td>\n",
       "      <td>0</td>\n",
       "      <td>0</td>\n",
       "    </tr>\n",
       "    <tr>\n",
       "      <th>399</th>\n",
       "      <td>1.0</td>\n",
       "      <td>Dr</td>\n",
       "      <td>0</td>\n",
       "      <td>0</td>\n",
       "      <td>0</td>\n",
       "    </tr>\n",
       "    <tr>\n",
       "      <th>444</th>\n",
       "      <td>2.0</td>\n",
       "      <td>Ms</td>\n",
       "      <td>1</td>\n",
       "      <td>0</td>\n",
       "      <td>0</td>\n",
       "    </tr>\n",
       "    <tr>\n",
       "      <th>450</th>\n",
       "      <td>1.0</td>\n",
       "      <td>Major</td>\n",
       "      <td>0</td>\n",
       "      <td>0</td>\n",
       "      <td>0</td>\n",
       "    </tr>\n",
       "    <tr>\n",
       "      <th>537</th>\n",
       "      <td>1.0</td>\n",
       "      <td>Major</td>\n",
       "      <td>0</td>\n",
       "      <td>0</td>\n",
       "      <td>0</td>\n",
       "    </tr>\n",
       "    <tr>\n",
       "      <th>557</th>\n",
       "      <td>3.0</td>\n",
       "      <td>Lady</td>\n",
       "      <td>1</td>\n",
       "      <td>1</td>\n",
       "      <td>0</td>\n",
       "    </tr>\n",
       "    <tr>\n",
       "      <th>600</th>\n",
       "      <td>1.0</td>\n",
       "      <td>Sir</td>\n",
       "      <td>0</td>\n",
       "      <td>1</td>\n",
       "      <td>0</td>\n",
       "    </tr>\n",
       "    <tr>\n",
       "      <th>627</th>\n",
       "      <td>1.0</td>\n",
       "      <td>Rev</td>\n",
       "      <td>0</td>\n",
       "      <td>0</td>\n",
       "      <td>0</td>\n",
       "    </tr>\n",
       "    <tr>\n",
       "      <th>633</th>\n",
       "      <td>1.0</td>\n",
       "      <td>Dr</td>\n",
       "      <td>0</td>\n",
       "      <td>0</td>\n",
       "      <td>0</td>\n",
       "    </tr>\n",
       "    <tr>\n",
       "      <th>642</th>\n",
       "      <td>2.0</td>\n",
       "      <td>Mlle</td>\n",
       "      <td>1</td>\n",
       "      <td>0</td>\n",
       "      <td>0</td>\n",
       "    </tr>\n",
       "    <tr>\n",
       "      <th>648</th>\n",
       "      <td>1.0</td>\n",
       "      <td>Col</td>\n",
       "      <td>0</td>\n",
       "      <td>0</td>\n",
       "      <td>0</td>\n",
       "    </tr>\n",
       "    <tr>\n",
       "      <th>661</th>\n",
       "      <td>1.0</td>\n",
       "      <td>Dr</td>\n",
       "      <td>0</td>\n",
       "      <td>2</td>\n",
       "      <td>0</td>\n",
       "    </tr>\n",
       "    <tr>\n",
       "      <th>695</th>\n",
       "      <td>1.0</td>\n",
       "      <td>Col</td>\n",
       "      <td>0</td>\n",
       "      <td>0</td>\n",
       "      <td>0</td>\n",
       "    </tr>\n",
       "    <tr>\n",
       "      <th>711</th>\n",
       "      <td>2.0</td>\n",
       "      <td>Mlle</td>\n",
       "      <td>1</td>\n",
       "      <td>0</td>\n",
       "      <td>0</td>\n",
       "    </tr>\n",
       "    <tr>\n",
       "      <th>746</th>\n",
       "      <td>1.0</td>\n",
       "      <td>Capt</td>\n",
       "      <td>0</td>\n",
       "      <td>1</td>\n",
       "      <td>1</td>\n",
       "    </tr>\n",
       "    <tr>\n",
       "      <th>760</th>\n",
       "      <td>2.0</td>\n",
       "      <td>Countess</td>\n",
       "      <td>1</td>\n",
       "      <td>0</td>\n",
       "      <td>0</td>\n",
       "    </tr>\n",
       "    <tr>\n",
       "      <th>767</th>\n",
       "      <td>1.0</td>\n",
       "      <td>Dr</td>\n",
       "      <td>0</td>\n",
       "      <td>0</td>\n",
       "      <td>0</td>\n",
       "    </tr>\n",
       "    <tr>\n",
       "      <th>797</th>\n",
       "      <td>2.0</td>\n",
       "      <td>Dr</td>\n",
       "      <td>1</td>\n",
       "      <td>0</td>\n",
       "      <td>0</td>\n",
       "    </tr>\n",
       "    <tr>\n",
       "      <th>823</th>\n",
       "      <td>1.0</td>\n",
       "      <td>Jonkheer</td>\n",
       "      <td>0</td>\n",
       "      <td>0</td>\n",
       "      <td>0</td>\n",
       "    </tr>\n",
       "    <tr>\n",
       "      <th>849</th>\n",
       "      <td>1.0</td>\n",
       "      <td>Rev</td>\n",
       "      <td>0</td>\n",
       "      <td>0</td>\n",
       "      <td>1</td>\n",
       "    </tr>\n",
       "    <tr>\n",
       "      <th>887</th>\n",
       "      <td>1.0</td>\n",
       "      <td>Rev</td>\n",
       "      <td>0</td>\n",
       "      <td>0</td>\n",
       "      <td>0</td>\n",
       "    </tr>\n",
       "    <tr>\n",
       "      <th>980</th>\n",
       "      <td>2.0</td>\n",
       "      <td>Ms</td>\n",
       "      <td>1</td>\n",
       "      <td>0</td>\n",
       "      <td>0</td>\n",
       "    </tr>\n",
       "    <tr>\n",
       "      <th>1023</th>\n",
       "      <td>1.0</td>\n",
       "      <td>Col</td>\n",
       "      <td>0</td>\n",
       "      <td>0</td>\n",
       "      <td>0</td>\n",
       "    </tr>\n",
       "    <tr>\n",
       "      <th>1041</th>\n",
       "      <td>1.0</td>\n",
       "      <td>Rev</td>\n",
       "      <td>0</td>\n",
       "      <td>1</td>\n",
       "      <td>1</td>\n",
       "    </tr>\n",
       "    <tr>\n",
       "      <th>1056</th>\n",
       "      <td>1.0</td>\n",
       "      <td>Rev</td>\n",
       "      <td>0</td>\n",
       "      <td>0</td>\n",
       "      <td>0</td>\n",
       "    </tr>\n",
       "    <tr>\n",
       "      <th>1094</th>\n",
       "      <td>1.0</td>\n",
       "      <td>Col</td>\n",
       "      <td>0</td>\n",
       "      <td>1</td>\n",
       "      <td>0</td>\n",
       "    </tr>\n",
       "    <tr>\n",
       "      <th>1185</th>\n",
       "      <td>1.0</td>\n",
       "      <td>Dr</td>\n",
       "      <td>0</td>\n",
       "      <td>1</td>\n",
       "      <td>1</td>\n",
       "    </tr>\n",
       "    <tr>\n",
       "      <th>1306</th>\n",
       "      <td>2.0</td>\n",
       "      <td>Dona</td>\n",
       "      <td>1</td>\n",
       "      <td>0</td>\n",
       "      <td>0</td>\n",
       "    </tr>\n",
       "  </tbody>\n",
       "</table>\n",
       "</div>"
      ],
      "text/plain": [
       "             TitleCat     Title  Sex  SibSpCat  ParchCat\n",
       "PassengerId                                             \n",
       "31                1.0       Don    0         0         0\n",
       "150               1.0       Rev    0         0         0\n",
       "151               1.0       Rev    0         0         0\n",
       "246               1.0        Dr    0         2         0\n",
       "250               1.0       Rev    0         1         0\n",
       "318               1.0        Dr    0         0         0\n",
       "370               2.0       Mme    1         0         0\n",
       "399               1.0        Dr    0         0         0\n",
       "444               2.0        Ms    1         0         0\n",
       "450               1.0     Major    0         0         0\n",
       "537               1.0     Major    0         0         0\n",
       "557               3.0      Lady    1         1         0\n",
       "600               1.0       Sir    0         1         0\n",
       "627               1.0       Rev    0         0         0\n",
       "633               1.0        Dr    0         0         0\n",
       "642               2.0      Mlle    1         0         0\n",
       "648               1.0       Col    0         0         0\n",
       "661               1.0        Dr    0         2         0\n",
       "695               1.0       Col    0         0         0\n",
       "711               2.0      Mlle    1         0         0\n",
       "746               1.0      Capt    0         1         1\n",
       "760               2.0  Countess    1         0         0\n",
       "767               1.0        Dr    0         0         0\n",
       "797               2.0        Dr    1         0         0\n",
       "823               1.0  Jonkheer    0         0         0\n",
       "849               1.0       Rev    0         0         1\n",
       "887               1.0       Rev    0         0         0\n",
       "980               2.0        Ms    1         0         0\n",
       "1023              1.0       Col    0         0         0\n",
       "1041              1.0       Rev    0         1         1\n",
       "1056              1.0       Rev    0         0         0\n",
       "1094              1.0       Col    0         1         0\n",
       "1185              1.0        Dr    0         1         1\n",
       "1306              2.0      Dona    1         0         0"
      ]
     },
     "execution_count": 45,
     "metadata": {},
     "output_type": "execute_result"
    }
   ],
   "source": [
    "dfFull.loc[dfPrediction.index,['TitleCat','Title','Sex','SibSpCat','ParchCat']]"
   ]
  },
  {
   "cell_type": "markdown",
   "metadata": {
    "_cell_guid": "72934abf-4071-43f7-abfc-7132d0d18d1c",
    "_execution_state": "idle",
    "_uuid": "bd2f656785e377776d4953ef77c57eb9a0872e9d"
   },
   "source": [
    "Data looks accurately. So let's predict the result:"
   ]
  },
  {
   "cell_type": "code",
   "execution_count": 46,
   "metadata": {
    "_cell_guid": "6f437eb6-d7e1-412f-9b10-af761ef63719",
    "_execution_state": "busy",
    "_uuid": "ed01cccb449e3ff4eabe7d71743a28cce62f32f1",
    "collapsed": true
   },
   "outputs": [],
   "source": [
    "dfTrain = dfFull.loc[1:891,:]\n",
    "dfTest = dfFull.loc[892:,:]\n",
    "dtree = DecisionTreeClassifier()\n",
    "X_train = dfTrain[['Pclass','Sex','ParchCat','Embarked','Fare','TitleCat']]\n",
    "y = dfTrain['Survived']\n",
    "X_test = dfTest[['Pclass','Sex','ParchCat','Embarked','Fare','TitleCat']]\n",
    "dtree.fit(X_train,y)\n",
    "prediction = dtree.predict(X_test)\n",
    "dfPrediction = pd.DataFrame(data=prediction,index = dfTest.index.values,columns=['Survived'])\n",
    "contentTestPredObject1 = dfPrediction.to_csv()\n",
    "#print(contentTestPredObject1)"
   ]
  },
  {
   "cell_type": "markdown",
   "metadata": {
    "_cell_guid": "cfb24a06-ecc7-4430-9b0a-7dd659c3ac68",
    "_execution_state": "idle",
    "_uuid": "3c6fb45bc5797655c029018012bfc4f8671aa42f"
   },
   "source": [
    "![Image](https://preview.ibb.co/cnw34k/sex_par_emb_far_tit_age.png)"
   ]
  },
  {
   "cell_type": "markdown",
   "metadata": {
    "_cell_guid": "b1684ad3-dc00-4ad4-ba53-a28e66f9037f",
    "_execution_state": "idle",
    "_uuid": "5499172cce67a4d50a34a2bf23eb3264c19a9532"
   },
   "source": [
    "79.426%! The progress +1.5%. We are approaching slowly 80%;-) We have still a couple of bullets in the gun: Age, Ticket, tweaking Classifier, second level prediction..."
   ]
  },
  {
   "cell_type": "markdown",
   "metadata": {
    "_cell_guid": "f040bfb7-3d0c-4635-9a32-92e72e7caefc",
    "_execution_state": "idle",
    "_uuid": "0350464ae5e9ea0af97d3e49a2819bfe8dd9b542"
   },
   "source": [
    "## PART 9: AGE"
   ]
  },
  {
   "cell_type": "markdown",
   "metadata": {
    "_cell_guid": "455a1eb4-3f40-4048-a40f-c5ff86ff1085",
    "_execution_state": "idle",
    "_uuid": "7f4fe98356470dd1a33f7e3d63dc05e86304c381"
   },
   "source": [
    "Let's start from round Age:"
   ]
  },
  {
   "cell_type": "code",
   "execution_count": 47,
   "metadata": {
    "_cell_guid": "5d1d51be-d81e-4968-ba78-99ba09334e4e",
    "_execution_state": "busy",
    "_uuid": "e7ce0d2691413827bf7a3417803ffee21435748c",
    "collapsed": true
   },
   "outputs": [],
   "source": [
    "dfFull['Age'] = dfFull.Age.round()"
   ]
  },
  {
   "cell_type": "markdown",
   "metadata": {
    "_cell_guid": "3b41fc8c-e528-47b2-b0eb-2fe76addec0a",
    "_execution_state": "idle",
    "_uuid": "9eb79a88056ef6fef3762b6c909bcaf210d914cc"
   },
   "source": [
    "Now I would like to check what are correlated categories with Age. It will help to prepare prediction."
   ]
  },
  {
   "cell_type": "code",
   "execution_count": 48,
   "metadata": {
    "_cell_guid": "88c10d83-c3c2-461f-a4d7-147035bdb66c",
    "_execution_state": "busy",
    "_uuid": "984303db45ad9f5e387e7882304c4191bfab1d69",
    "collapsed": true
   },
   "outputs": [
    {
     "data": {
      "text/plain": [
       "Age         1.000000\n",
       "Embarked    0.086174\n",
       "Fare        0.188894\n",
       "Parch      -0.150728\n",
       "Pclass     -0.408663\n",
       "Sex        -0.063328\n",
       "SibSp      -0.243578\n",
       "Survived   -0.076834\n",
       "ParchCat   -0.195703\n",
       "SibSpCat   -0.224450\n",
       "CabinCat   -0.314719\n",
       "TitleCat   -0.224259\n",
       "Name: Age, dtype: float64"
      ]
     },
     "execution_count": 48,
     "metadata": {},
     "output_type": "execute_result"
    }
   ],
   "source": [
    "dfFull.corr().Age"
   ]
  },
  {
   "cell_type": "markdown",
   "metadata": {
    "_cell_guid": "10e3684c-3218-47f1-b45c-db477926819a",
    "_execution_state": "idle",
    "_uuid": "6f2ec315de76ae23cebf23d38a54f3f4701cccc4"
   },
   "source": [
    "OK. We have Pclass, SibSp, CabinCat and TitleCat as the most correlated. Let's use this knowledge:"
   ]
  },
  {
   "cell_type": "code",
   "execution_count": 49,
   "metadata": {
    "_cell_guid": "5cc1a3f5-f0b7-4170-b7ee-9a788f0a3355",
    "_execution_state": "busy",
    "_uuid": "910a2bf25b5fb72f753964523af892ada959e40c",
    "collapsed": true
   },
   "outputs": [],
   "source": [
    "X_train = dfFull[dfFull.Age.notnull()][['Pclass','SibSp','CabinCat','TitleCat']]\n",
    "X_test = dfFull[dfFull.Age.isnull()][['Pclass','SibSp','CabinCat','TitleCat']]\n",
    "y = dfFull.Age.dropna()"
   ]
  },
  {
   "cell_type": "markdown",
   "metadata": {
    "_cell_guid": "a8ef7b2a-6a71-4052-b4c9-5dbbd1d4b17f",
    "_execution_state": "idle",
    "_uuid": "abe39010235d14fefc71a6676a87ef237b2f8823"
   },
   "source": [
    "Now it is time to predict missing values of Age:"
   ]
  },
  {
   "cell_type": "code",
   "execution_count": 50,
   "metadata": {
    "_cell_guid": "c0f9c3b1-4df2-4d2f-a452-c37dad7043ee",
    "_execution_state": "busy",
    "_uuid": "68fc06bb091e54e96cbfeb51561b219887d05a0b",
    "collapsed": true
   },
   "outputs": [],
   "source": [
    "dtree = DecisionTreeClassifier()\n",
    "dtree.fit(X_train, y)\n",
    "prediction = dtree.predict(X_test)\n",
    "agePrediction = pd.DataFrame(data=prediction,index=X_test.index.values,columns=['Age'])\n",
    "dfFull = dfFull.combine_first(agePrediction)"
   ]
  },
  {
   "cell_type": "markdown",
   "metadata": {
    "_cell_guid": "56502879-31a9-4832-81e9-b40fe0d67548",
    "_execution_state": "idle",
    "_uuid": "fbc834714434977a3888ced0c417dd12921ed259"
   },
   "source": [
    "Let's double check it:'"
   ]
  },
  {
   "cell_type": "code",
   "execution_count": 51,
   "metadata": {
    "_cell_guid": "0e2af0ef-5dd1-426a-bc3f-e45b100251f7",
    "_execution_state": "busy",
    "_uuid": "b0cccdfe7ec87a34e421ba3e4b41b2b008b065a9",
    "collapsed": true
   },
   "outputs": [
    {
     "data": {
      "text/plain": [
       "0"
      ]
     },
     "execution_count": 51,
     "metadata": {},
     "output_type": "execute_result"
    }
   ],
   "source": [
    "dfFull.Age.isnull().sum()\n"
   ]
  },
  {
   "cell_type": "markdown",
   "metadata": {
    "_cell_guid": "f849b8e4-9909-400c-851a-cd721ce286e1",
    "_execution_state": "idle",
    "_uuid": "14ff16bffde962b8d2df1a80980e7ecd713db83b"
   },
   "source": [
    "Excellent. Now it is time to look deeper into data:"
   ]
  },
  {
   "cell_type": "code",
   "execution_count": 52,
   "metadata": {
    "_cell_guid": "9934f276-c2b6-4514-b087-f881b8dabd93",
    "_execution_state": "busy",
    "_uuid": "6092cbcce88ccadc9ff87f05c1918aca34c353a6",
    "collapsed": true,
    "scrolled": true
   },
   "outputs": [],
   "source": [
    "dfFull['ageBins'] = pd.cut(dfFull['Age'],list(range(0,80,5)))"
   ]
  },
  {
   "cell_type": "code",
   "execution_count": 53,
   "metadata": {
    "_cell_guid": "362aaea4-36b3-4fb5-9344-464edcb84822",
    "_execution_state": "busy",
    "_uuid": "c81e7689835a7dbdcd97d94c6378e01af285c561",
    "collapsed": true
   },
   "outputs": [
    {
     "data": {
      "text/plain": [
       "<seaborn.axisgrid.FacetGrid at 0x7fa814cf02b0>"
      ]
     },
     "execution_count": 53,
     "metadata": {},
     "output_type": "execute_result"
    },
    {
     "data": {
      "image/png": "[encoded data removed]",
      "text/plain": [
       "<matplotlib.figure.Figure at 0x7fa814cf0470>"
      ]
     },
     "metadata": {},
     "output_type": "display_data"
    }
   ],
   "source": [
    "sns.factorplot(\"ageBins\", \"Survived\", hue=\"Sex\", data=dfFull.loc[1:891,:],size=7)"
   ]
  },
  {
   "cell_type": "markdown",
   "metadata": {
    "_cell_guid": "aae6f0ed-8187-4603-9794-31001057f09e",
    "_execution_state": "idle",
    "_uuid": "e140de28aacf5f32ffedffb2a3382c45762389be"
   },
   "source": [
    "0 means males  \n",
    "1 means females  \n",
    "Till 5 years old the survival rate is similar to women. It in naturally because woman can take small child very easly.  \n",
    "However around 5-10 something weird is happening. Huge drop on girls event worse than boys.  \n",
    "Let's check what is the number of such young children:  "
   ]
  },
  {
   "cell_type": "code",
   "execution_count": 54,
   "metadata": {
    "_cell_guid": "906c15ec-721e-4b96-ad1d-39f48b6239e7",
    "_execution_state": "busy",
    "_uuid": "8dfcbd7567bdb2ed199bd406622a977b1f6decf5",
    "collapsed": true,
    "scrolled": true
   },
   "outputs": [
    {
     "data": {
      "text/plain": [
       "Sex  ageBins \n",
       "0    (0, 5]       25\n",
       "     (5, 10]      10\n",
       "     (10, 15]     11\n",
       "     (15, 20]     73\n",
       "     (20, 25]    155\n",
       "     (25, 30]     88\n",
       "     (30, 35]     57\n",
       "     (35, 40]     47\n",
       "     (40, 45]     37\n",
       "     (45, 50]     26\n",
       "     (50, 55]     16\n",
       "     (55, 60]     12\n",
       "     (60, 65]     11\n",
       "     (65, 70]      4\n",
       "     (70, 75]      3\n",
       "1    (0, 5]       31\n",
       "     (5, 10]      13\n",
       "     (10, 15]     12\n",
       "     (15, 20]     65\n",
       "     (20, 25]     46\n",
       "     (25, 30]     39\n",
       "     (30, 35]     33\n",
       "     (35, 40]     25\n",
       "     (40, 45]     19\n",
       "     (45, 50]     13\n",
       "     (50, 55]      8\n",
       "     (55, 60]      6\n",
       "     (60, 65]      4\n",
       "Name: Name, dtype: int64"
      ]
     },
     "execution_count": 54,
     "metadata": {},
     "output_type": "execute_result"
    }
   ],
   "source": [
    "dfFull.loc[1:891,:].groupby(['Sex','ageBins']).Name.count()"
   ]
  },
  {
   "cell_type": "markdown",
   "metadata": {
    "_cell_guid": "f022a756-6639-4dd9-88d1-499d04953575",
    "_uuid": "03014375ec61576f23134139a8107ef057af02cb"
   },
   "source": [
    "I thought it will be less.  \n",
    "Let's here assume that above 10 year, everything looks quite normal and the age doesn't play any role in survival."
   ]
  },
  {
   "cell_type": "code",
   "execution_count": 55,
   "metadata": {
    "_cell_guid": "3a51dba2-aa13-4bf6-8007-2a9e02b11fbf",
    "_execution_state": "busy",
    "_uuid": "ffa8d12638260c419e511d687f4cc86f51c7f009",
    "collapsed": true
   },
   "outputs": [
    {
     "data": {
      "text/plain": [
       "1.0    1200\n",
       "0.0     109\n",
       "Name: Age, dtype: int64"
      ]
     },
     "execution_count": 55,
     "metadata": {},
     "output_type": "execute_result"
    }
   ],
   "source": [
    "dfFull.loc[dfFull.Age <11,'Age'] = 0\n",
    "dfFull.loc[(dfFull.Age >=10),'Age'] = 1\n",
    "dfFull.Age.value_counts()"
   ]
  },
  {
   "cell_type": "markdown",
   "metadata": {
    "_cell_guid": "4a2df953-ba5e-4f8f-bb07-17268a33a533",
    "_execution_state": "idle",
    "_uuid": "93f75cf88640cfcac49359800d07d3023a67e956"
   },
   "source": [
    "As always, let's make a prediction:"
   ]
  },
  {
   "cell_type": "code",
   "execution_count": 56,
   "metadata": {
    "_cell_guid": "24845cfd-8942-4f91-afdc-5447ef4928ad",
    "_execution_state": "busy",
    "_uuid": "6df7b286c0c4890f29a0dcf499c15af1307ecc18",
    "collapsed": true
   },
   "outputs": [],
   "source": [
    "dfTrain = dfFull.loc[1:891,:]\n",
    "dfTest = dfFull.loc[892:,:]\n",
    "dtree = DecisionTreeClassifier()\n",
    "X_train = dfTrain[['Pclass','Sex','ParchCat','Embarked','Fare','TitleCat','Age']]\n",
    "y = dfTrain['Survived']\n",
    "X_test = dfTest[['Pclass','Sex','ParchCat','Embarked','Fare','TitleCat','Age']]\n",
    "dtree.fit(X_train,y)\n",
    "prediction = dtree.predict(X_test)\n",
    "dfPrediction = pd.DataFrame(data=prediction,index = dfTest.index.values,columns=['Survived'])\n",
    "contentTestPredObject1 = dfPrediction.to_csv()\n",
    "#print(contentTestPredObject1)\n"
   ]
  },
  {
   "cell_type": "markdown",
   "metadata": {
    "_cell_guid": "d25297f1-ce20-452c-a411-78e45d10367a",
    "_execution_state": "idle",
    "_uuid": "cfb8a385e239ccdcde90e24fba4e11a09b1a1729"
   },
   "source": [
    "![Image](https://preview.ibb.co/iZTO9k/dectree_cla_sex_par_emb_tit_age_far.png)\n"
   ]
  },
  {
   "cell_type": "markdown",
   "metadata": {
    "_cell_guid": "61781288-441b-4841-aec7-a7833fb3c923",
    "_execution_state": "idle",
    "_uuid": "e694e73a06e684f15957214293a172f344cad2c1"
   },
   "source": [
    "Another good step forward. Age category gave us +0.5%. Only one step from 0.8."
   ]
  },
  {
   "cell_type": "markdown",
   "metadata": {
    "_cell_guid": "b2da157b-2577-4e7f-87e0-b5f17e7e9976",
    "_execution_state": "idle",
    "_uuid": "65472e14695d342a89b0beb557ce7cffad23eb35"
   },
   "source": [
    "## PART 10: TICKET "
   ]
  },
  {
   "cell_type": "markdown",
   "metadata": {
    "_cell_guid": "2473af11-b3b4-4a2e-a28f-29b44ba7ecd9",
    "_execution_state": "idle",
    "_uuid": "76cec0d1aa35751b8dfe02d1cfe7b3484b3331cc"
   },
   "source": [
    "Let's start from checking values in Ticket category:"
   ]
  },
  {
   "cell_type": "code",
   "execution_count": 57,
   "metadata": {
    "_cell_guid": "6dd40923-513b-49ee-bff2-1fc33150b410",
    "_execution_state": "busy",
    "_uuid": "78e8da63f67164b0b514fe19a3edd1945b3768ab",
    "collapsed": true
   },
   "outputs": [
    {
     "data": {
      "text/plain": [
       "CA. 2343        11\n",
       "CA 2144          8\n",
       "1601             8\n",
       "S.O.C. 14879     7\n",
       "PC 17608         7\n",
       "Name: Ticket, dtype: int64"
      ]
     },
     "execution_count": 57,
     "metadata": {},
     "output_type": "execute_result"
    }
   ],
   "source": [
    "dfTicket = dfFull.Ticket.value_counts()\n",
    "dfTicket.head()"
   ]
  },
  {
   "cell_type": "markdown",
   "metadata": {
    "_cell_guid": "09d425b2-1a87-4240-8bb0-53dbf22a4dd3",
    "_execution_state": "idle",
    "_uuid": "dc320f597e0e6fa64c58a0b89330170b9e35232b"
   },
   "source": [
    "We have tickets assigned to more than one person. It means the same ticket may belong to other family members.\n",
    "Let's make a category, based on ticket occurrences. I hope it will support Parch category."
   ]
  },
  {
   "cell_type": "code",
   "execution_count": 58,
   "metadata": {
    "_cell_guid": "4d90ade5-62ec-4013-9ed2-aed7aacb64d8",
    "_execution_state": "busy",
    "_uuid": "97dcbd75887dd372d6e737129fc2fdc6bc6d2ebc",
    "collapsed": true
   },
   "outputs": [],
   "source": [
    "lstTicket = dfTicket.loc[dfTicket > 1].index.tolist()\n",
    "lstTicketSingle = dfTicket.loc[dfTicket == 1].index.tolist()"
   ]
  },
  {
   "cell_type": "code",
   "execution_count": 59,
   "metadata": {
    "_cell_guid": "27a6bf37-c1d2-4055-95b0-ee272c6995ce",
    "_execution_state": "busy",
    "_uuid": "6736b327fb546fcad00c0ee22795196c1d2dd0db",
    "collapsed": true
   },
   "outputs": [
    {
     "data": {
      "text/plain": [
       "216"
      ]
     },
     "execution_count": 59,
     "metadata": {},
     "output_type": "execute_result"
    }
   ],
   "source": [
    "len(lstTicket)"
   ]
  },
  {
   "cell_type": "code",
   "execution_count": 60,
   "metadata": {
    "_cell_guid": "3cdc3096-e107-4ad2-ac4a-0201eaf1006a",
    "_execution_state": "busy",
    "_uuid": "f0e7fc7a1a614fe32fff5ba0bdbdf3f88aa389b7",
    "collapsed": true,
    "scrolled": true
   },
   "outputs": [
    {
     "data": {
      "text/plain": [
       "713"
      ]
     },
     "execution_count": 60,
     "metadata": {},
     "output_type": "execute_result"
    }
   ],
   "source": [
    "len(lstTicketSingle)"
   ]
  },
  {
   "cell_type": "markdown",
   "metadata": {
    "_cell_guid": "5c1bc3c5-18c6-4a46-9cb7-7a168c92e931",
    "_uuid": "42a6a8e4cc219068dfbfe8c080911663403c9cbe"
   },
   "source": [
    "We have 713 single tickets and 216 that belong to family members. Based on ticket we can easly identify family members. For example:"
   ]
  },
  {
   "cell_type": "code",
   "execution_count": 61,
   "metadata": {
    "_cell_guid": "c899d9fa-e541-4888-8552-ffc134921095",
    "_execution_state": "busy",
    "_uuid": "057f0a3237a620cf285974fc833aeda2126da014",
    "collapsed": true
   },
   "outputs": [
    {
     "data": {
      "text/plain": [
       "14                           Andersson, Mr. Anders Johan\n",
       "120                    Andersson, Miss. Ellis Anna Maria\n",
       "542                 Andersson, Miss. Ingeborg Constanzia\n",
       "543                    Andersson, Miss. Sigrid Elisabeth\n",
       "611    Andersson, Mrs. Anders Johan (Alfrida Konstant...\n",
       "814                   Andersson, Miss. Ebba Iris Alfrida\n",
       "851              Andersson, Master. Sigvard Harald Elias\n",
       "Name: Name, dtype: object"
      ]
     },
     "execution_count": 61,
     "metadata": {},
     "output_type": "execute_result"
    }
   ],
   "source": [
    "dfFull[dfFull.Ticket=='347082'].Name"
   ]
  },
  {
   "cell_type": "markdown",
   "metadata": {
    "_cell_guid": "7c9cce6a-e8ca-4e5d-985a-ef04a41fabfe",
    "_execution_state": "idle",
    "_uuid": "41e6620cb10975ac6cf7c5c3bd6e07ba54194e85"
   },
   "source": [
    "Now, it is time to update ticket number with new category:"
   ]
  },
  {
   "cell_type": "code",
   "execution_count": 62,
   "metadata": {
    "_cell_guid": "6c0b3c23-6971-402c-b207-b3f1bcc67db9",
    "_execution_state": "busy",
    "_uuid": "56431fead7d3a996544cb466e52f98274df9a352",
    "collapsed": true
   },
   "outputs": [],
   "source": [
    "dfFull['TicketCat'] = dfFull['Ticket'].copy()"
   ]
  },
  {
   "cell_type": "code",
   "execution_count": 63,
   "metadata": {
    "_cell_guid": "c23583c6-4890-4531-8b0b-436171d536c2",
    "_execution_state": "busy",
    "_uuid": "04bd923bfc0948e9a5b10d9a2905bf030f91bb12",
    "collapsed": true
   },
   "outputs": [],
   "source": [
    "i=1\n",
    "for ticket in lstTicket:\n",
    "    dfFull.loc[dfFull.Ticket == ticket, 'TicketCat'] = i\n",
    "    i+=1"
   ]
  },
  {
   "cell_type": "code",
   "execution_count": 64,
   "metadata": {
    "_cell_guid": "84fbb5bc-7f18-4431-b40e-03cb0c3a9022",
    "_execution_state": "busy",
    "_uuid": "7fd10a7e573ef234d2e064a76aa90808c09e99ce",
    "collapsed": true
   },
   "outputs": [],
   "source": [
    "for ticket in lstTicketSingle:\n",
    "    dfFull.loc[dfFull.Ticket == ticket, 'TicketCat'] = 0"
   ]
  },
  {
   "cell_type": "markdown",
   "metadata": {
    "_cell_guid": "f1c4539a-35da-443b-a21c-0ad29865ec93",
    "_execution_state": "idle",
    "_uuid": "ff3c30ebca49a9e8fca1302d97641d182b7d9c8f"
   },
   "source": [
    "Let's predict the result:"
   ]
  },
  {
   "cell_type": "code",
   "execution_count": 65,
   "metadata": {
    "_cell_guid": "71b8777e-43ff-41f8-bbfd-903b3179b3bb",
    "_execution_state": "busy",
    "_uuid": "127fbdc3e1fa2eb1ceecfadec35b2fc8eeb93b6c",
    "collapsed": true
   },
   "outputs": [],
   "source": [
    "dfTrain = dfFull.loc[1:891,:]\n",
    "dfTest = dfFull.loc[892:,:]\n",
    "dtree = DecisionTreeClassifier()\n",
    "X_train = dfTrain[['Pclass','Sex','ParchCat','Embarked','Fare','TitleCat','Age','TicketCat']]\n",
    "y = dfTrain['Survived']\n",
    "X_test = dfTest[['Pclass','Sex','ParchCat','Embarked','Fare','TitleCat','Age','TicketCat']]\n",
    "dtree.fit(X_train,y)\n",
    "prediction = dtree.predict(X_test)\n",
    "dfPrediction = pd.DataFrame(data=prediction,index = dfTest.index.values,columns=['Survived'])\n",
    "contentTestPredObject1 = dfPrediction.to_csv()\n",
    "#print(contentTestPredObject1)"
   ]
  },
  {
   "cell_type": "markdown",
   "metadata": {
    "_cell_guid": "3dffdc1a-01ab-4ca2-98fd-ea3008441054",
    "_execution_state": "idle",
    "_uuid": "2d20d65da7893aad8107b35fc479e4608f97c7b2"
   },
   "source": [
    "![Image](https://preview.ibb.co/nFyVN5/sex_par_emb_far_tit_age_tic.png)\n"
   ]
  },
  {
   "cell_type": "markdown",
   "metadata": {
    "_cell_guid": "cd5aa540-55db-4360-959d-7949e88d68cc",
    "_execution_state": "idle",
    "_uuid": "77dbd6fb814906b44928fdffb822c9486930b2d4"
   },
   "source": [
    "Well, well, well. Eventually we acheived our target;-) We have 80.383% and still plain dtree algoritm. Let's go further...:-)"
   ]
  },
  {
   "cell_type": "markdown",
   "metadata": {
    "_cell_guid": "36de5117-4fc9-4a69-ab51-f89d258e81a6",
    "_uuid": "627a4c22b67dfb8e2bb23f9aac272ebffe925b29"
   },
   "source": [
    "# MISC"
   ]
  },
  {
   "cell_type": "markdown",
   "metadata": {
    "_cell_guid": "c2d11e96-8194-4dfb-8fc0-b02757ad96ff",
    "_uuid": "fd4dac3299a70b4c16003954f2896a59021cc532"
   },
   "source": [
    "Before we start tweaking the classifier, I would like to check one thing.  \n",
    "In other kernels I saw that some people add name lenght as category. Let's check if it is something worth:"
   ]
  },
  {
   "cell_type": "code",
   "execution_count": 66,
   "metadata": {
    "_cell_guid": "4dc640be-8c9e-49c4-9d01-ba89ac01220a",
    "_execution_state": "busy",
    "_uuid": "77fc042ae859062687f4b65345991cee698f8ea0",
    "collapsed": true,
    "scrolled": false
   },
   "outputs": [],
   "source": [
    "dfFull['NameLen'] = dfFull['Name'].apply(len)\n",
    "dfTrain = dfFull.loc[1:891,:]\n",
    "dfTest = dfFull.loc[892:,:]\n",
    "dtree = DecisionTreeClassifier()\n",
    "X_train = dfTrain[['Pclass','Sex','ParchCat','Embarked','Fare','TitleCat','Age','TicketCat','NameLen']]\n",
    "y = dfTrain['Survived']\n",
    "X_test = dfTest[['Pclass','Sex','ParchCat','Embarked','Fare','TitleCat','Age','TicketCat','NameLen']]\n",
    "dtree.fit(X_train,y)\n",
    "prediction = dtree.predict(X_test)\n",
    "dfPrediction = pd.DataFrame(data=prediction,index = dfTest.index.values,columns=['Survived'])\n",
    "contentTestPredObject1 = dfPrediction.to_csv()\n",
    "#print(contentTestPredObject1)"
   ]
  },
  {
   "cell_type": "markdown",
   "metadata": {
    "_cell_guid": "50e607b1-14c0-4fc9-99d9-e4e760465b91",
    "_uuid": "bb44011567c0592554137e707d6722f57772b4d8"
   },
   "source": [
    "![Image](https://preview.ibb.co/jdKfcF/NameLen.png)"
   ]
  },
  {
   "cell_type": "markdown",
   "metadata": {
    "_cell_guid": "e310a696-db1a-4658-8c6f-bffbbc0ddc1e",
    "_uuid": "5ce7fa15a125889b9ec4f492eb3bede02b1c05c4"
   },
   "source": [
    "The result doesn't require commenting..."
   ]
  },
  {
   "cell_type": "markdown",
   "metadata": {
    "_cell_guid": "b79de1b6-0087-4b98-a74b-3b885046ef1c",
    "_uuid": "8a028af23336dd5c4c49169e234da63e741a06eb"
   },
   "source": [
    "Let's make a quick summary:"
   ]
  },
  {
   "cell_type": "code",
   "execution_count": 67,
   "metadata": {
    "_cell_guid": "07d63f0c-9296-4924-bd70-7bec7bf13471",
    "_execution_state": "busy",
    "_uuid": "376e63c60afbec44d1ce9365c8a2c62c9318527f",
    "collapsed": true
   },
   "outputs": [
    {
     "data": {
      "text/plain": [
       "<matplotlib.axes._subplots.AxesSubplot at 0x7fa814c079b0>"
      ]
     },
     "execution_count": 67,
     "metadata": {},
     "output_type": "execute_result"
    },
    {
     "data": {
      "image/png": "[encoded data removed]",
      "text/plain": [
       "<matplotlib.figure.Figure at 0x7fa814cf0978>"
      ]
     },
     "metadata": {},
     "output_type": "display_data"
    }
   ],
   "source": [
    "dfResult = pd.Series({'Pclass':65.55,\n",
    "                      '+Sex':75.59,\n",
    "                      '+Parch':76.07,\n",
    "                      '+Embarked':77.51,\n",
    "                      '+Fare':77.99,\n",
    "                      '+Title':79.42,\n",
    "                      '+Age':79.90,\n",
    "                      '+Ticket':80.38})\n",
    "dfResult.sort_values().plot(kind='bar',title='LeaderBoard result (%)')"
   ]
  },
  {
   "cell_type": "markdown",
   "metadata": {
    "_cell_guid": "4a0e34e3-d354-447c-bbc7-856e666e954c",
    "_execution_state": "idle",
    "_uuid": "d003cca7a6fa7c84b3683597438bf88d1a11b97a"
   },
   "source": [
    "# PART 11: SELECTING THE CLASSIFIER"
   ]
  },
  {
   "cell_type": "markdown",
   "metadata": {
    "_cell_guid": "f5583e12-66a4-4213-a936-4c5d87e2b462",
    "_uuid": "f025513858c3907ac125635749e24e79df5ddea9"
   },
   "source": [
    "We will start from testing number of classifiers to choose the best one for further fitting.  \n",
    "As the first step let's split our Train data into new train/test set:"
   ]
  },
  {
   "cell_type": "code",
   "execution_count": 68,
   "metadata": {
    "_cell_guid": "6cfae174-73d7-46fb-befa-c8df9a65c212",
    "_execution_state": "busy",
    "_uuid": "b40cd35310c84481d69d009a4b57b8ad7e1198e3",
    "collapsed": true
   },
   "outputs": [],
   "source": [
    "from sklearn.model_selection import train_test_split\n",
    "X_train = dfTrain[['Pclass','Sex','ParchCat','SibSpCat','Embarked','Fare','TitleCat','Age','TicketCat']]\n",
    "X_test = dfTest[['Pclass','Sex','ParchCat','SibSpCat','Embarked','Fare','TitleCat','Age','TicketCat']]\n",
    "y = dfTrain['Survived']\n",
    "X_NewTrain, X_NewTest,y_NewTrain, y_NewTest = train_test_split(X_train, y,\n",
    "                                         test_size=0.33, # 1/3 test; 2/3 train\n",
    "                                          random_state=1410) # seed"
   ]
  },
  {
   "cell_type": "markdown",
   "metadata": {
    "_cell_guid": "487b5895-4874-4845-abfb-0ccaa0c6a17a",
    "_uuid": "9956fc7d4b983c08aa4d9ad3682faad81dedb3ba"
   },
   "source": [
    "and feed a list of classifiers to find the best score:"
   ]
  },
  {
   "cell_type": "code",
   "execution_count": 69,
   "metadata": {
    "_cell_guid": "d77d3048-7145-4f9d-b1d5-e4a05783898b",
    "_execution_state": "busy",
    "_uuid": "6586e5207ed4a827685437bcb7cf46b8316d7f95",
    "collapsed": true
   },
   "outputs": [
    {
     "name": "stdout",
     "output_type": "stream",
     "text": [
      "0.718644067797 KNeighborsClassifier\n",
      "0.786440677966 SVC\n",
      "0.830508474576 DecisionTreeClassifier\n",
      "0.827118644068 RandomForestClassifier\n",
      "0.827118644068 AdaBoostClassifier\n",
      "0.806779661017 GradientBoostingClassifier\n",
      "0.749152542373 GaussianNB\n",
      "0.813559322034 LogisticRegression\n",
      "0.694915254237 LinearSVC\n"
     ]
    }
   ],
   "source": [
    "from sklearn.ensemble import RandomForestClassifier, AdaBoostClassifier, GradientBoostingClassifier\n",
    "from sklearn.svm import LinearSVC, SVC\n",
    "from sklearn.neighbors import KNeighborsClassifier\n",
    "from sklearn.naive_bayes import GaussianNB\n",
    "from sklearn.linear_model import LogisticRegression, LinearRegression\n",
    "from sklearn.tree import DecisionTreeClassifier\n",
    "\n",
    "classifiers = [\n",
    "    KNeighborsClassifier(),\n",
    "    SVC(),\n",
    "    DecisionTreeClassifier(),\n",
    "    RandomForestClassifier(),\n",
    "    AdaBoostClassifier(),\n",
    "    GradientBoostingClassifier(),\n",
    "    GaussianNB(),\n",
    "    LogisticRegression(),\n",
    "    LinearSVC()]\n",
    "\n",
    "for clf in classifiers:\n",
    "    name = clf.__class__.__name__\n",
    "    clf.fit(X_NewTrain, y_NewTrain)\n",
    "    prediction = clf.predict(X_NewTest)\n",
    "    rank = pd.DataFrame(data=np.column_stack([prediction, y_NewTest]),\n",
    "                                index=X_NewTest.index.values,columns=['Predicted','Real'])\n",
    "    accurracy = np.sum(rank.Predicted.values == rank.Real.values)\n",
    "    accurracy = accurracy/len(y_NewTest)\n",
    "    print(accurracy, name)"
   ]
  },
  {
   "cell_type": "markdown",
   "metadata": {
    "_cell_guid": "addbcf39-54a4-4987-8fcc-e2f9f6116a98",
    "_uuid": "314c183a063739def29f19ca058c6858dfdd6f8b"
   },
   "source": [
    "Hmm, interesting results. TOP3 is as follows:  \n",
    "1. GradientBoostingClassifier ~0.82 \n",
    "2. RandomForestClassifier ~0.81\n",
    "3. DecisionTreeClassifier ~0.81"
   ]
  },
  {
   "cell_type": "markdown",
   "metadata": {
    "_cell_guid": "42f4fd9f-6784-4aba-829e-b6e7f29ca4c3",
    "_uuid": "5ccb7fa98132899fe0b326cb5a177194392b4a2d"
   },
   "source": [
    "# 12. CONFIRMING SCORE IN KAGGLE SYSTEM"
   ]
  },
  {
   "cell_type": "markdown",
   "metadata": {
    "_cell_guid": "adaabade-cdc5-44ab-b672-1f4af5203e89",
    "_uuid": "839f68dcfdfe8caa341d86b8ef469335aa69f7df"
   },
   "source": [
    "### GradientBoostingClassifier: Your submission scored 0.78469  \n",
    "### RandomForestClassifier: Your submission scored 0.75598  \n",
    "\n",
    "The score for other two classifiers is dissapointing, so our first choice using DecisionTree algorithm was right."
   ]
  },
  {
   "cell_type": "markdown",
   "metadata": {
    "_cell_guid": "f3982185-5860-4893-a502-7fa04f8bb697",
    "_uuid": "9020e19cce8dd151205d641686ca9572d6134324",
    "collapsed": true
   },
   "source": [
    "# APPENDIX"
   ]
  },
  {
   "cell_type": "markdown",
   "metadata": {
    "_cell_guid": "0250d013-07b5-499b-acba-47c3d2323efe",
    "_uuid": "ebe55139206e60fda967ef7403e9f494e535ae9c"
   },
   "source": [
    "Thanks to Mykhailo Matviiv, who posted a question in comments, why I dropped categories that didn't bring me better result, I decided to run a kernel again adding those two categories: Cabin and SibSp. I don't want to boring you about not satisfied results and I am presententing only the success story adding only SibSp...\n",
    "\n",
    " "
   ]
  },
  {
   "cell_type": "code",
   "execution_count": 70,
   "metadata": {
    "_cell_guid": "6f4a9ad2-d9dd-4de1-82a3-f28d457f8ac1",
    "_uuid": "98616f45053c62f7ce3277d7f43ecbfc9f3d4f9f",
    "collapsed": true,
    "scrolled": false
   },
   "outputs": [],
   "source": [
    "dfTrain = dfFull.loc[1:891,:]\n",
    "dfTest = dfFull.loc[892:,:]\n",
    "dtree = DecisionTreeClassifier()\n",
    "X_train = dfTrain[['Pclass','Sex','ParchCat','SibSpCat','Embarked','Fare','TitleCat','Age','TicketCat','CabinCat']]\n",
    "y = dfTrain['Survived']\n",
    "X_test = dfTest[['Pclass','Sex','ParchCat','SibSpCat','Embarked','Fare','TitleCat','Age','TicketCat','CabinCat']]\n",
    "dtree.fit(X_train,y)\n",
    "prediction = dtree.predict(X_test)\n",
    "dfPrediction = pd.DataFrame(data=prediction,index = dfTest.index.values,columns=['Survived'])\n",
    "contentTestPredObject1 = dfPrediction.to_csv()\n",
    "#print(contentTestPredObject1)"
   ]
  },
  {
   "cell_type": "markdown",
   "metadata": {
    "_cell_guid": "ac2a3ee1-87fb-451d-aa57-b6b8e445580f",
    "_uuid": "563654865813a5d22cf321df164fd9f09e170f12"
   },
   "source": [
    "![Image](https://preview.ibb.co/d55ynQ/sex_par_sib_emb_far_tit_age_tic.png)"
   ]
  },
  {
   "cell_type": "markdown",
   "metadata": {
    "_cell_guid": "54d1788e-b7db-4f66-ab18-e1b16f0af3ef",
    "_uuid": "71a23ceb385d8f1a20f0c77711b4d8dd0465710b"
   },
   "source": [
    "### 0.818181!\n",
    "Concluding, adding the category previously refused could give positive effect at the end.\n",
    "Great tip Mykhailo. I will remeber that rule..."
   ]
  }
 ],
 "metadata": {
  "kernelspec": {
   "display_name": "Python 3",
   "language": "python",
   "name": "python3"
  },
  "language_info": {
   "codemirror_mode": {
    "name": "ipython",
    "version": 3
   },
   "file_extension": ".py",
   "mimetype": "text/x-python",
   "name": "python",
   "nbconvert_exporter": "python",
   "pygments_lexer": "ipython3",
   "version": "3.6.1"
  }
 },
 "nbformat": 4,
 "nbformat_minor": 1
}
