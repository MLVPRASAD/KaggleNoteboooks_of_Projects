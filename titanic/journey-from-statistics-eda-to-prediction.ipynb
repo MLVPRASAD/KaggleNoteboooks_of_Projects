{
 "cells": [
  {
   "cell_type": "code",
   "execution_count": 1,
   "metadata": {
    "_cell_guid": "b05bdfc6-cfc4-434f-b29c-514ad776057b",
    "_uuid": "f7dc90a3a57d9c4ad19b9b4a513da18043b3f5ad",
    "collapsed": true
   },
   "outputs": [],
   "source": [
    "import numpy as np\n",
    "import scipy as sc\n",
    "import pandas as pd\n",
    "import matplotlib.pyplot as plt\n",
    "import seaborn as sns\n",
    "import statistics as stat\n",
    "%matplotlib inline\n",
    "sns.set_style('whitegrid')\n",
    "\n",
    "import warnings\n",
    "warnings.filterwarnings('ignore')\n",
    "\n",
    "from sklearn.preprocessing import MinMaxScaler, LabelEncoder, Normalizer\n",
    "\n",
    "from sklearn.metrics import accuracy_score, classification_report, confusion_matrix\n",
    "from sklearn.model_selection import train_test_split, GridSearchCV, RandomizedSearchCV, cross_val_score, KFold\n",
    "from sklearn.feature_selection import SelectKBest\n",
    "from sklearn.feature_selection import chi2\n",
    "\n",
    "from sklearn.svm import SVC\n",
    "from sklearn.ensemble import RandomForestClassifier\n",
    "from sklearn.linear_model import LogisticRegression\n",
    "from xgboost import XGBClassifier"
   ]
  },
  {
   "cell_type": "markdown",
   "metadata": {
    "_cell_guid": "1efdbc77-644a-43f8-8051-3b054266c07c",
    "_uuid": "729bf7007221eebaeec60f04dc2de35a0d064779"
   },
   "source": [
    "**IMPORT DATASET**\n",
    "\n",
    "1st of all, let's import the dataset"
   ]
  },
  {
   "cell_type": "code",
   "execution_count": 2,
   "metadata": {
    "_cell_guid": "8e51f607-7579-4643-beb1-7896189e2927",
    "_uuid": "eb121c14db2eea91aa363bf2f108aa984f3a00a5",
    "collapsed": true
   },
   "outputs": [],
   "source": [
    "train = pd.read_csv('../input/train.csv')\n",
    "test = pd.read_csv('../input/test.csv')"
   ]
  },
  {
   "cell_type": "code",
   "execution_count": 3,
   "metadata": {
    "_cell_guid": "53d8f301-3a44-469b-9786-72fd57d24541",
    "_uuid": "51a6548331759416201a571cc561d4e05f1205e6",
    "collapsed": true
   },
   "outputs": [
    {
     "data": {
      "text/plain": [
       "((891, 12), (418, 11))"
      ]
     },
     "execution_count": 3,
     "metadata": {},
     "output_type": "execute_result"
    }
   ],
   "source": [
    "train.shape, test.shape"
   ]
  },
  {
   "cell_type": "markdown",
   "metadata": {
    "_cell_guid": "4910039b-7e65-4ceb-88e9-199babcbd816",
    "_uuid": "0e82c35d79983fe4b6c90e45bb0cfe0b78ebdf53"
   },
   "source": [
    "**A. DESCRIPTIVE STATISTICS**\n",
    "\n",
    "All right, using few lines of code, let's try to describe the data using desctiptive statistics"
   ]
  },
  {
   "cell_type": "code",
   "execution_count": 4,
   "metadata": {
    "_cell_guid": "4fdea9d1-eb71-444e-a179-130fad187887",
    "_uuid": "a3362f9ea0a8a3024aef97a09ead90a92d9896a8",
    "collapsed": true
   },
   "outputs": [
    {
     "data": {
      "text/html": [
       "<div>\n",
       "<style>\n",
       "    .dataframe thead tr:only-child th {\n",
       "        text-align: right;\n",
       "    }\n",
       "\n",
       "    .dataframe thead th {\n",
       "        text-align: left;\n",
       "    }\n",
       "\n",
       "    .dataframe tbody tr th {\n",
       "        vertical-align: top;\n",
       "    }\n",
       "</style>\n",
       "<table border=\"1\" class=\"dataframe\">\n",
       "  <thead>\n",
       "    <tr style=\"text-align: right;\">\n",
       "      <th></th>\n",
       "      <th>PassengerId</th>\n",
       "      <th>Survived</th>\n",
       "      <th>Pclass</th>\n",
       "      <th>Age</th>\n",
       "      <th>SibSp</th>\n",
       "      <th>Parch</th>\n",
       "      <th>Fare</th>\n",
       "    </tr>\n",
       "  </thead>\n",
       "  <tbody>\n",
       "    <tr>\n",
       "      <th>count</th>\n",
       "      <td>891.000000</td>\n",
       "      <td>891.000000</td>\n",
       "      <td>891.000000</td>\n",
       "      <td>714.000000</td>\n",
       "      <td>891.000000</td>\n",
       "      <td>891.000000</td>\n",
       "      <td>891.000000</td>\n",
       "    </tr>\n",
       "    <tr>\n",
       "      <th>mean</th>\n",
       "      <td>446.000000</td>\n",
       "      <td>0.383838</td>\n",
       "      <td>2.308642</td>\n",
       "      <td>29.699118</td>\n",
       "      <td>0.523008</td>\n",
       "      <td>0.381594</td>\n",
       "      <td>32.204208</td>\n",
       "    </tr>\n",
       "    <tr>\n",
       "      <th>std</th>\n",
       "      <td>257.353842</td>\n",
       "      <td>0.486592</td>\n",
       "      <td>0.836071</td>\n",
       "      <td>14.526497</td>\n",
       "      <td>1.102743</td>\n",
       "      <td>0.806057</td>\n",
       "      <td>49.693429</td>\n",
       "    </tr>\n",
       "    <tr>\n",
       "      <th>min</th>\n",
       "      <td>1.000000</td>\n",
       "      <td>0.000000</td>\n",
       "      <td>1.000000</td>\n",
       "      <td>0.420000</td>\n",
       "      <td>0.000000</td>\n",
       "      <td>0.000000</td>\n",
       "      <td>0.000000</td>\n",
       "    </tr>\n",
       "    <tr>\n",
       "      <th>25%</th>\n",
       "      <td>223.500000</td>\n",
       "      <td>0.000000</td>\n",
       "      <td>2.000000</td>\n",
       "      <td>20.125000</td>\n",
       "      <td>0.000000</td>\n",
       "      <td>0.000000</td>\n",
       "      <td>7.910400</td>\n",
       "    </tr>\n",
       "    <tr>\n",
       "      <th>50%</th>\n",
       "      <td>446.000000</td>\n",
       "      <td>0.000000</td>\n",
       "      <td>3.000000</td>\n",
       "      <td>28.000000</td>\n",
       "      <td>0.000000</td>\n",
       "      <td>0.000000</td>\n",
       "      <td>14.454200</td>\n",
       "    </tr>\n",
       "    <tr>\n",
       "      <th>75%</th>\n",
       "      <td>668.500000</td>\n",
       "      <td>1.000000</td>\n",
       "      <td>3.000000</td>\n",
       "      <td>38.000000</td>\n",
       "      <td>1.000000</td>\n",
       "      <td>0.000000</td>\n",
       "      <td>31.000000</td>\n",
       "    </tr>\n",
       "    <tr>\n",
       "      <th>max</th>\n",
       "      <td>891.000000</td>\n",
       "      <td>1.000000</td>\n",
       "      <td>3.000000</td>\n",
       "      <td>80.000000</td>\n",
       "      <td>8.000000</td>\n",
       "      <td>6.000000</td>\n",
       "      <td>512.329200</td>\n",
       "    </tr>\n",
       "  </tbody>\n",
       "</table>\n",
       "</div>"
      ],
      "text/plain": [
       "       PassengerId    Survived      Pclass         Age       SibSp  \\\n",
       "count   891.000000  891.000000  891.000000  714.000000  891.000000   \n",
       "mean    446.000000    0.383838    2.308642   29.699118    0.523008   \n",
       "std     257.353842    0.486592    0.836071   14.526497    1.102743   \n",
       "min       1.000000    0.000000    1.000000    0.420000    0.000000   \n",
       "25%     223.500000    0.000000    2.000000   20.125000    0.000000   \n",
       "50%     446.000000    0.000000    3.000000   28.000000    0.000000   \n",
       "75%     668.500000    1.000000    3.000000   38.000000    1.000000   \n",
       "max     891.000000    1.000000    3.000000   80.000000    8.000000   \n",
       "\n",
       "            Parch        Fare  \n",
       "count  891.000000  891.000000  \n",
       "mean     0.381594   32.204208  \n",
       "std      0.806057   49.693429  \n",
       "min      0.000000    0.000000  \n",
       "25%      0.000000    7.910400  \n",
       "50%      0.000000   14.454200  \n",
       "75%      0.000000   31.000000  \n",
       "max      6.000000  512.329200  "
      ]
     },
     "execution_count": 4,
     "metadata": {},
     "output_type": "execute_result"
    }
   ],
   "source": [
    "train.describe()"
   ]
  },
  {
   "cell_type": "code",
   "execution_count": 5,
   "metadata": {
    "_cell_guid": "045642b8-fcbb-4fc9-a951-4168f678e3a5",
    "_uuid": "a57bcc6ed284dd80ec3116117b0397c8457bf0a1",
    "collapsed": true
   },
   "outputs": [
    {
     "data": {
      "text/html": [
       "<div>\n",
       "<style>\n",
       "    .dataframe thead tr:only-child th {\n",
       "        text-align: right;\n",
       "    }\n",
       "\n",
       "    .dataframe thead th {\n",
       "        text-align: left;\n",
       "    }\n",
       "\n",
       "    .dataframe tbody tr th {\n",
       "        vertical-align: top;\n",
       "    }\n",
       "</style>\n",
       "<table border=\"1\" class=\"dataframe\">\n",
       "  <thead>\n",
       "    <tr style=\"text-align: right;\">\n",
       "      <th></th>\n",
       "      <th>PassengerId</th>\n",
       "      <th>Pclass</th>\n",
       "      <th>Age</th>\n",
       "      <th>SibSp</th>\n",
       "      <th>Parch</th>\n",
       "      <th>Fare</th>\n",
       "    </tr>\n",
       "  </thead>\n",
       "  <tbody>\n",
       "    <tr>\n",
       "      <th>count</th>\n",
       "      <td>418.000000</td>\n",
       "      <td>418.000000</td>\n",
       "      <td>332.000000</td>\n",
       "      <td>418.000000</td>\n",
       "      <td>418.000000</td>\n",
       "      <td>417.000000</td>\n",
       "    </tr>\n",
       "    <tr>\n",
       "      <th>mean</th>\n",
       "      <td>1100.500000</td>\n",
       "      <td>2.265550</td>\n",
       "      <td>30.272590</td>\n",
       "      <td>0.447368</td>\n",
       "      <td>0.392344</td>\n",
       "      <td>35.627188</td>\n",
       "    </tr>\n",
       "    <tr>\n",
       "      <th>std</th>\n",
       "      <td>120.810458</td>\n",
       "      <td>0.841838</td>\n",
       "      <td>14.181209</td>\n",
       "      <td>0.896760</td>\n",
       "      <td>0.981429</td>\n",
       "      <td>55.907576</td>\n",
       "    </tr>\n",
       "    <tr>\n",
       "      <th>min</th>\n",
       "      <td>892.000000</td>\n",
       "      <td>1.000000</td>\n",
       "      <td>0.170000</td>\n",
       "      <td>0.000000</td>\n",
       "      <td>0.000000</td>\n",
       "      <td>0.000000</td>\n",
       "    </tr>\n",
       "    <tr>\n",
       "      <th>25%</th>\n",
       "      <td>996.250000</td>\n",
       "      <td>1.000000</td>\n",
       "      <td>21.000000</td>\n",
       "      <td>0.000000</td>\n",
       "      <td>0.000000</td>\n",
       "      <td>7.895800</td>\n",
       "    </tr>\n",
       "    <tr>\n",
       "      <th>50%</th>\n",
       "      <td>1100.500000</td>\n",
       "      <td>3.000000</td>\n",
       "      <td>27.000000</td>\n",
       "      <td>0.000000</td>\n",
       "      <td>0.000000</td>\n",
       "      <td>14.454200</td>\n",
       "    </tr>\n",
       "    <tr>\n",
       "      <th>75%</th>\n",
       "      <td>1204.750000</td>\n",
       "      <td>3.000000</td>\n",
       "      <td>39.000000</td>\n",
       "      <td>1.000000</td>\n",
       "      <td>0.000000</td>\n",
       "      <td>31.500000</td>\n",
       "    </tr>\n",
       "    <tr>\n",
       "      <th>max</th>\n",
       "      <td>1309.000000</td>\n",
       "      <td>3.000000</td>\n",
       "      <td>76.000000</td>\n",
       "      <td>8.000000</td>\n",
       "      <td>9.000000</td>\n",
       "      <td>512.329200</td>\n",
       "    </tr>\n",
       "  </tbody>\n",
       "</table>\n",
       "</div>"
      ],
      "text/plain": [
       "       PassengerId      Pclass         Age       SibSp       Parch        Fare\n",
       "count   418.000000  418.000000  332.000000  418.000000  418.000000  417.000000\n",
       "mean   1100.500000    2.265550   30.272590    0.447368    0.392344   35.627188\n",
       "std     120.810458    0.841838   14.181209    0.896760    0.981429   55.907576\n",
       "min     892.000000    1.000000    0.170000    0.000000    0.000000    0.000000\n",
       "25%     996.250000    1.000000   21.000000    0.000000    0.000000    7.895800\n",
       "50%    1100.500000    3.000000   27.000000    0.000000    0.000000   14.454200\n",
       "75%    1204.750000    3.000000   39.000000    1.000000    0.000000   31.500000\n",
       "max    1309.000000    3.000000   76.000000    8.000000    9.000000  512.329200"
      ]
     },
     "execution_count": 5,
     "metadata": {},
     "output_type": "execute_result"
    }
   ],
   "source": [
    "test.describe()"
   ]
  },
  {
   "cell_type": "markdown",
   "metadata": {
    "_cell_guid": "081f79dc-8d8f-4661-8aff-aaeef2b589df",
    "_uuid": "b8434571ac1f2f4fda74f4641c26ee7e10dd1fa7"
   },
   "source": [
    "**A.1 Numerical Attributes**\n",
    "\n",
    "From above simple code, we can see some numerical attributes described by some simple descriptive statistics. **What do we get here?**\n",
    "1. **Survived**: the sample mean of this training data is 0,38, which could means *only about that percentage of passengers survived from titanic accident*\n",
    "\n",
    "2. **Pclass** (Passenger Class: there are 3 class of passenger. At Q2(50%) and Q3(75%) we could see the value is 3, which could means *there are minimum 50% (or more) passengers which is 3rd class passengers*. It seems logical since lower class usually have cheaper ticket prize, and more quota for that class\n",
    "\n",
    "3. **Age**: from train and test data, the count values seems different from the others. yes, **Age attribute contains missing values**. Another usefull information, the mean/average age on training data is 29 years old, which is 1 years older than the median value of the mean (30 mean and 27 median on test dataset), so what does it mean?\n",
    "    \n",
    "    it means the distributions of age values have **right skew**, which we expect some outliers in the *higher age value* (on the right size ofthe axis. As we can see, on the training and test dataset max value is 80 and 76 respectively.\n",
    "    \n",
    "4. **SibSp and Parch**: these attributes indicate number of SIblings or spouses, and Parent or Children number aboard. From the mean value, seems *majority of the passengers is alone (neither have SibSp or Parch)*. It is interesting that we see the maximum value have 8 SibSp and 9 ParCh, *maybe the oldest person brought his/her entire family on the ship*\n",
    "\n",
    "5. **Fare**: there are huge difference between mean and median value of this attributes, which is logical. *Many passengers from 3rd class which always have lower Fare*, on the other hand, we have so high value on max of Fare here, which seems an outlier that affect the average of this attributes (**again, right skew**). **Fare attribute contain 1 missing value on test dataset**"
   ]
  },
  {
   "cell_type": "code",
   "execution_count": 6,
   "metadata": {
    "_cell_guid": "19e360b1-d740-46b9-b9f5-5b565fe08e55",
    "_uuid": "b306355d32d449699dbe241c6834378ebdbb6aa3",
    "collapsed": true
   },
   "outputs": [
    {
     "data": {
      "text/html": [
       "<div>\n",
       "<style>\n",
       "    .dataframe thead tr:only-child th {\n",
       "        text-align: right;\n",
       "    }\n",
       "\n",
       "    .dataframe thead th {\n",
       "        text-align: left;\n",
       "    }\n",
       "\n",
       "    .dataframe tbody tr th {\n",
       "        vertical-align: top;\n",
       "    }\n",
       "</style>\n",
       "<table border=\"1\" class=\"dataframe\">\n",
       "  <thead>\n",
       "    <tr style=\"text-align: right;\">\n",
       "      <th></th>\n",
       "      <th>Name</th>\n",
       "      <th>Sex</th>\n",
       "      <th>Ticket</th>\n",
       "      <th>Cabin</th>\n",
       "      <th>Embarked</th>\n",
       "    </tr>\n",
       "  </thead>\n",
       "  <tbody>\n",
       "    <tr>\n",
       "      <th>count</th>\n",
       "      <td>891</td>\n",
       "      <td>891</td>\n",
       "      <td>891</td>\n",
       "      <td>204</td>\n",
       "      <td>889</td>\n",
       "    </tr>\n",
       "    <tr>\n",
       "      <th>unique</th>\n",
       "      <td>891</td>\n",
       "      <td>2</td>\n",
       "      <td>681</td>\n",
       "      <td>147</td>\n",
       "      <td>3</td>\n",
       "    </tr>\n",
       "    <tr>\n",
       "      <th>top</th>\n",
       "      <td>Scanlan, Mr. James</td>\n",
       "      <td>male</td>\n",
       "      <td>347082</td>\n",
       "      <td>B96 B98</td>\n",
       "      <td>S</td>\n",
       "    </tr>\n",
       "    <tr>\n",
       "      <th>freq</th>\n",
       "      <td>1</td>\n",
       "      <td>577</td>\n",
       "      <td>7</td>\n",
       "      <td>4</td>\n",
       "      <td>644</td>\n",
       "    </tr>\n",
       "  </tbody>\n",
       "</table>\n",
       "</div>"
      ],
      "text/plain": [
       "                      Name   Sex  Ticket    Cabin Embarked\n",
       "count                  891   891     891      204      889\n",
       "unique                 891     2     681      147        3\n",
       "top     Scanlan, Mr. James  male  347082  B96 B98        S\n",
       "freq                     1   577       7        4      644"
      ]
     },
     "execution_count": 6,
     "metadata": {},
     "output_type": "execute_result"
    }
   ],
   "source": [
    "train.describe(include=['O'])"
   ]
  },
  {
   "cell_type": "code",
   "execution_count": 7,
   "metadata": {
    "_cell_guid": "a7f51a24-16ca-4217-b7d9-1b2b0156bee3",
    "_uuid": "b43edb773c70c501d860f9d8cd675f19e5aa3df9",
    "collapsed": true
   },
   "outputs": [
    {
     "data": {
      "text/html": [
       "<div>\n",
       "<style>\n",
       "    .dataframe thead tr:only-child th {\n",
       "        text-align: right;\n",
       "    }\n",
       "\n",
       "    .dataframe thead th {\n",
       "        text-align: left;\n",
       "    }\n",
       "\n",
       "    .dataframe tbody tr th {\n",
       "        vertical-align: top;\n",
       "    }\n",
       "</style>\n",
       "<table border=\"1\" class=\"dataframe\">\n",
       "  <thead>\n",
       "    <tr style=\"text-align: right;\">\n",
       "      <th></th>\n",
       "      <th>Name</th>\n",
       "      <th>Sex</th>\n",
       "      <th>Ticket</th>\n",
       "      <th>Cabin</th>\n",
       "      <th>Embarked</th>\n",
       "    </tr>\n",
       "  </thead>\n",
       "  <tbody>\n",
       "    <tr>\n",
       "      <th>count</th>\n",
       "      <td>418</td>\n",
       "      <td>418</td>\n",
       "      <td>418</td>\n",
       "      <td>91</td>\n",
       "      <td>418</td>\n",
       "    </tr>\n",
       "    <tr>\n",
       "      <th>unique</th>\n",
       "      <td>418</td>\n",
       "      <td>2</td>\n",
       "      <td>363</td>\n",
       "      <td>76</td>\n",
       "      <td>3</td>\n",
       "    </tr>\n",
       "    <tr>\n",
       "      <th>top</th>\n",
       "      <td>Sap, Mr. Julius</td>\n",
       "      <td>male</td>\n",
       "      <td>PC 17608</td>\n",
       "      <td>B57 B59 B63 B66</td>\n",
       "      <td>S</td>\n",
       "    </tr>\n",
       "    <tr>\n",
       "      <th>freq</th>\n",
       "      <td>1</td>\n",
       "      <td>266</td>\n",
       "      <td>5</td>\n",
       "      <td>3</td>\n",
       "      <td>270</td>\n",
       "    </tr>\n",
       "  </tbody>\n",
       "</table>\n",
       "</div>"
      ],
      "text/plain": [
       "                   Name   Sex    Ticket            Cabin Embarked\n",
       "count               418   418       418               91      418\n",
       "unique              418     2       363               76        3\n",
       "top     Sap, Mr. Julius  male  PC 17608  B57 B59 B63 B66        S\n",
       "freq                  1   266         5                3      270"
      ]
     },
     "execution_count": 7,
     "metadata": {},
     "output_type": "execute_result"
    }
   ],
   "source": [
    "test.describe(include=['O'])"
   ]
  },
  {
   "cell_type": "markdown",
   "metadata": {
    "_cell_guid": "f6e3b090-122f-4d1a-bf12-6f53b57a19dd",
    "_uuid": "9e1fcb0b0a1f76277d8e9f4bc45106fd9282c450"
   },
   "source": [
    "**A.2 Categorical Attributes**\n",
    "Now, we're dealing with categorical attributes. From describe method above, we get some new information:\n",
    "1. **Name**: all names are unique (nothing special), *but they contains title*. maybe we can do some feature engineering later to get new attributes which could improve our prediction later.\n",
    "\n",
    "2.  **Sex**: or *gender*. consist of 2 categories, male and female, with both on training and test dataset, male have higher frequency (approximately 60 : 40)\n",
    "\n",
    "3.  **Ticket**: soooo many unique values for this attributes. Maybe I'll just drop this attribute for now and include it for future research\n",
    "\n",
    "4. **Cabin**: so many **missing values** here (*204 filled from 891 possible* on training dataset and *91 filled from 418 possible* on test dataset). *Maybe some passengers*, which we already know, 3rd class or some low Fare paid passenger, **don't have Cabin**.\n",
    "\n",
    "5. **Embarked**: There are **2 missing values** on training dataset. from train and test dataset, we know that most of Passengers embarked from S (*what's this \"S\" anyway?*)."
   ]
  },
  {
   "cell_type": "markdown",
   "metadata": {
    "_cell_guid": "c7bc68fd-c490-415d-9365-d2a1bcc63a91",
    "_uuid": "42449930c0ddc0904fd1b8f1b3944283cecb39ec"
   },
   "source": [
    "**B. EXPLORATORY DATA ANALYSIS**"
   ]
  },
  {
   "cell_type": "code",
   "execution_count": 8,
   "metadata": {
    "_cell_guid": "0d2d163f-6a28-4d01-9c45-b3a5b5ce41b3",
    "_uuid": "b9a99918a77b0c9df33f295d94809834847f4744",
    "collapsed": true
   },
   "outputs": [
    {
     "data": {
      "text/html": [
       "<div>\n",
       "<style>\n",
       "    .dataframe thead tr:only-child th {\n",
       "        text-align: right;\n",
       "    }\n",
       "\n",
       "    .dataframe thead th {\n",
       "        text-align: left;\n",
       "    }\n",
       "\n",
       "    .dataframe tbody tr th {\n",
       "        vertical-align: top;\n",
       "    }\n",
       "</style>\n",
       "<table border=\"1\" class=\"dataframe\">\n",
       "  <thead>\n",
       "    <tr style=\"text-align: right;\">\n",
       "      <th></th>\n",
       "      <th>PassengerId</th>\n",
       "      <th>Survived</th>\n",
       "      <th>Pclass</th>\n",
       "      <th>Name</th>\n",
       "      <th>Sex</th>\n",
       "      <th>Age</th>\n",
       "      <th>SibSp</th>\n",
       "      <th>Parch</th>\n",
       "      <th>Ticket</th>\n",
       "      <th>Fare</th>\n",
       "      <th>Cabin</th>\n",
       "      <th>Embarked</th>\n",
       "    </tr>\n",
       "  </thead>\n",
       "  <tbody>\n",
       "    <tr>\n",
       "      <th>0</th>\n",
       "      <td>1</td>\n",
       "      <td>0</td>\n",
       "      <td>3</td>\n",
       "      <td>Braund, Mr. Owen Harris</td>\n",
       "      <td>male</td>\n",
       "      <td>22.0</td>\n",
       "      <td>1</td>\n",
       "      <td>0</td>\n",
       "      <td>A/5 21171</td>\n",
       "      <td>7.2500</td>\n",
       "      <td>NaN</td>\n",
       "      <td>S</td>\n",
       "    </tr>\n",
       "    <tr>\n",
       "      <th>1</th>\n",
       "      <td>2</td>\n",
       "      <td>1</td>\n",
       "      <td>1</td>\n",
       "      <td>Cumings, Mrs. John Bradley (Florence Briggs Th...</td>\n",
       "      <td>female</td>\n",
       "      <td>38.0</td>\n",
       "      <td>1</td>\n",
       "      <td>0</td>\n",
       "      <td>PC 17599</td>\n",
       "      <td>71.2833</td>\n",
       "      <td>C85</td>\n",
       "      <td>C</td>\n",
       "    </tr>\n",
       "    <tr>\n",
       "      <th>2</th>\n",
       "      <td>3</td>\n",
       "      <td>1</td>\n",
       "      <td>3</td>\n",
       "      <td>Heikkinen, Miss. Laina</td>\n",
       "      <td>female</td>\n",
       "      <td>26.0</td>\n",
       "      <td>0</td>\n",
       "      <td>0</td>\n",
       "      <td>STON/O2. 3101282</td>\n",
       "      <td>7.9250</td>\n",
       "      <td>NaN</td>\n",
       "      <td>S</td>\n",
       "    </tr>\n",
       "    <tr>\n",
       "      <th>3</th>\n",
       "      <td>4</td>\n",
       "      <td>1</td>\n",
       "      <td>1</td>\n",
       "      <td>Futrelle, Mrs. Jacques Heath (Lily May Peel)</td>\n",
       "      <td>female</td>\n",
       "      <td>35.0</td>\n",
       "      <td>1</td>\n",
       "      <td>0</td>\n",
       "      <td>113803</td>\n",
       "      <td>53.1000</td>\n",
       "      <td>C123</td>\n",
       "      <td>S</td>\n",
       "    </tr>\n",
       "    <tr>\n",
       "      <th>4</th>\n",
       "      <td>5</td>\n",
       "      <td>0</td>\n",
       "      <td>3</td>\n",
       "      <td>Allen, Mr. William Henry</td>\n",
       "      <td>male</td>\n",
       "      <td>35.0</td>\n",
       "      <td>0</td>\n",
       "      <td>0</td>\n",
       "      <td>373450</td>\n",
       "      <td>8.0500</td>\n",
       "      <td>NaN</td>\n",
       "      <td>S</td>\n",
       "    </tr>\n",
       "  </tbody>\n",
       "</table>\n",
       "</div>"
      ],
      "text/plain": [
       "   PassengerId  Survived  Pclass  \\\n",
       "0            1         0       3   \n",
       "1            2         1       1   \n",
       "2            3         1       3   \n",
       "3            4         1       1   \n",
       "4            5         0       3   \n",
       "\n",
       "                                                Name     Sex   Age  SibSp  \\\n",
       "0                            Braund, Mr. Owen Harris    male  22.0      1   \n",
       "1  Cumings, Mrs. John Bradley (Florence Briggs Th...  female  38.0      1   \n",
       "2                             Heikkinen, Miss. Laina  female  26.0      0   \n",
       "3       Futrelle, Mrs. Jacques Heath (Lily May Peel)  female  35.0      1   \n",
       "4                           Allen, Mr. William Henry    male  35.0      0   \n",
       "\n",
       "   Parch            Ticket     Fare Cabin Embarked  \n",
       "0      0         A/5 21171   7.2500   NaN        S  \n",
       "1      0          PC 17599  71.2833   C85        C  \n",
       "2      0  STON/O2. 3101282   7.9250   NaN        S  \n",
       "3      0            113803  53.1000  C123        S  \n",
       "4      0            373450   8.0500   NaN        S  "
      ]
     },
     "execution_count": 8,
     "metadata": {},
     "output_type": "execute_result"
    }
   ],
   "source": [
    "train.head()"
   ]
  },
  {
   "cell_type": "code",
   "execution_count": 9,
   "metadata": {
    "_cell_guid": "10ca4606-3edd-42fd-83e9-2ac6989575e6",
    "_uuid": "66a4514515adb6de19c6c1fe72d809649fa0401f",
    "collapsed": true
   },
   "outputs": [
    {
     "data": {
      "text/plain": [
       "Text(0.5,1,'Survival Rate by Embarked')"
      ]
     },
     "execution_count": 9,
     "metadata": {},
     "output_type": "execute_result"
    },
    {
     "data": {
      "image/png": "[encoded data removed]",
      "text/plain": [
       "<matplotlib.figure.Figure at 0x7f32d34d2390>"
      ]
     },
     "metadata": {},
     "output_type": "display_data"
    }
   ],
   "source": [
    "f,ax = plt.subplots(3,4,figsize=(20,16))\n",
    "sns.countplot('Pclass',data=train,ax=ax[0,0])\n",
    "sns.countplot('Sex',data=train,ax=ax[0,1])\n",
    "sns.boxplot(x='Pclass',y='Age',data=train,ax=ax[0,2])\n",
    "sns.countplot('SibSp',hue='Survived',data=train,ax=ax[0,3],palette='husl')\n",
    "sns.distplot(train['Fare'].dropna(),ax=ax[2,0],kde=False,color='b')\n",
    "sns.countplot('Embarked',data=train,ax=ax[2,2])\n",
    "\n",
    "sns.countplot('Pclass',hue='Survived',data=train,ax=ax[1,0],palette='husl')\n",
    "sns.countplot('Sex',hue='Survived',data=train,ax=ax[1,1],palette='husl')\n",
    "sns.distplot(train[train['Survived']==0]['Age'].dropna(),ax=ax[1,2],kde=False,color='r',bins=5)\n",
    "sns.distplot(train[train['Survived']==1]['Age'].dropna(),ax=ax[1,2],kde=False,color='g',bins=5)\n",
    "sns.countplot('Parch',hue='Survived',data=train,ax=ax[1,3],palette='husl')\n",
    "sns.swarmplot(x='Pclass',y='Fare',hue='Survived',data=train,palette='husl',ax=ax[2,1])\n",
    "sns.countplot('Embarked',hue='Survived',data=train,ax=ax[2,3],palette='husl')\n",
    "\n",
    "ax[0,0].set_title('Total Passengers by Class')\n",
    "ax[0,1].set_title('Total Passengers by Gender')\n",
    "ax[0,2].set_title('Age Box Plot By Class')\n",
    "ax[0,3].set_title('Survival Rate by SibSp')\n",
    "ax[1,0].set_title('Survival Rate by Class')\n",
    "ax[1,1].set_title('Survival Rate by Gender')\n",
    "ax[1,2].set_title('Survival Rate by Age')\n",
    "ax[1,3].set_title('Survival Rate by Parch')\n",
    "ax[2,0].set_title('Fare Distribution')\n",
    "ax[2,1].set_title('Survival Rate by Fare and Pclass')\n",
    "ax[2,2].set_title('Total Passengers by Embarked')\n",
    "ax[2,3].set_title('Survival Rate by Embarked')"
   ]
  },
  {
   "cell_type": "markdown",
   "metadata": {
    "_cell_guid": "c147ba3b-4a86-4b5a-b047-04946cf5b3ee",
    "_uuid": "f3add6ed695976ad0e0aa279c4360db8d5540056"
   },
   "source": [
    "> Some usefull information:\n",
    "* clearly, we can see most passengers are in class 3, which have least survival probability here\n",
    "* from Sex attribute, we can see total male Passengers is almost 2 times of female passengers, but lower survival probability *maybe male passengers tend to save their lady first?*\n",
    "* from above figure, we can try to input missing age by class\n",
    "    * Pclass 1, Age average approximately = 37\n",
    "    * Pclass 2, Age average approximately = 29\n",
    "    * Pclass 3, Age average approximately = 24\n",
    "* also on age attributes, we already clearly see the age distributions follow normal distribution with right skew\n",
    "* it seems passenger with Sibling/Spouse, or have parent/children aboard, have higher survival rate than passenger which is alone!"
   ]
  },
  {
   "cell_type": "code",
   "execution_count": 10,
   "metadata": {
    "_cell_guid": "51275aee-f06a-4c43-b2c7-ed9fa1bc1f94",
    "_uuid": "7a10c705bdba00b50c45661c3458ac5bd33e9bd9",
    "collapsed": true
   },
   "outputs": [
    {
     "data": {
      "text/plain": [
       "B96 B98        4\n",
       "C23 C25 C27    4\n",
       "G6             4\n",
       "F33            3\n",
       "D              3\n",
       "Name: Cabin, dtype: int64"
      ]
     },
     "execution_count": 10,
     "metadata": {},
     "output_type": "execute_result"
    }
   ],
   "source": [
    "train['Cabin'].value_counts().head()"
   ]
  },
  {
   "cell_type": "markdown",
   "metadata": {
    "_cell_guid": "ad1db084-1e8c-4b3a-9b0e-9000e3bc5f9a",
    "_uuid": "66ecd5058b508b08508c90b407cb501a0bb3d318"
   },
   "source": [
    "Now we got new information, some passenger have multiple cabin listed.\n",
    "for each passenger, I'll just try to create a new feature called **'Deck'** with first letter from the Cabin as its value.\n",
    "if passenger have multiple deck listed, I'll just use the higher class deck (ex: A and D, I'll just use A as the value)\n",
    "\n",
    "thanks to this discussion: https://www.kaggle.com/c/titanic/discussion/4693\n",
    "\n",
    "\"first class had the top decks (A-E), second class (D-F), and third class (E-G). It also makes sense that the people towards the top (higher decks, higher pclass) more likely survived, because they were closer to the lifeboats.\""
   ]
  },
  {
   "cell_type": "code",
   "execution_count": 11,
   "metadata": {
    "_cell_guid": "95f2ae97-db82-4642-8fb7-560b82d9b911",
    "_uuid": "b62a4dc156ae5ee2da2250cee8a743083fc2e89e",
    "collapsed": true
   },
   "outputs": [
    {
     "data": {
      "text/plain": [
       "<seaborn.axisgrid.FacetGrid at 0x7f32d34bea90>"
      ]
     },
     "execution_count": 11,
     "metadata": {},
     "output_type": "execute_result"
    },
    {
     "data": {
      "image/png": "[encoded data removed]",
      "text/plain": [
       "<matplotlib.figure.Figure at 0x7f32d34bee10>"
      ]
     },
     "metadata": {},
     "output_type": "display_data"
    }
   ],
   "source": [
    "g = sns.FacetGrid(col='Embarked',data=train)\n",
    "g.map(sns.pointplot,'Pclass','Survived','Sex',palette='viridis',hue_order=['male','female'])\n",
    "g.add_legend()"
   ]
  },
  {
   "cell_type": "markdown",
   "metadata": {
    "_cell_guid": "5491d646-5f2a-42d0-8e74-a963c6d675a9",
    "_uuid": "07ef5206bf3e45c034e8f9daad95ab106eb3d42d"
   },
   "source": [
    "We got a lot information from above visualization, such as:\n",
    "* Female passenger Embarked from S and Q have high survival rate\n",
    "* Female from class 1 and 2 Embarked from Queenstown absolutely survived!!!\n",
    "* Male Embarked from Queenstown with Pclass 1, have lowest survival rate!"
   ]
  },
  {
   "cell_type": "markdown",
   "metadata": {
    "_cell_guid": "4f1cfe40-7bf0-4bbd-9207-e7ece4652183",
    "_uuid": "869f35e6b1cc8fc65642588a3ed680e93f4f9262"
   },
   "source": [
    "**C. SUMMARY**\n",
    "\n",
    "Before we do this journey further, let's summarize our information and so far and what we should do with them.\n",
    "* **Survived:**\n",
    "    * The value we should predict using test dataset. It is numerical with binary value 0 (Dead) and 1 (Survived)\n",
    "    \n",
    "* **Pclass:**\n",
    "    * The data type is categorical, level of measurement is qualitative->ordinal, since the level seems like 1>2>3.\n",
    "    * Since this is an ordinal, maybe we should **scale its value from 0 to 1** so we can keep the level information from this variable.\n",
    "    \n",
    "* **Name:**\n",
    "    * The data type is categorical, level of measurement is qualitative->nominal.\n",
    "    * We should include this variable in **Feature Engineering** process to extract the title value which maybe could improve our prediction result.\n",
    "    \n",
    "* **Sex:**\n",
    "    * The data type is categorical, level of measurement is qualitative->nominal.\n",
    "    * Since this is a categorical, maybe we should change the value to binary value 0 for male and 1 for female. We'll do this on **Data Preparation** process.\n",
    "    \n",
    "* **Age:**\n",
    "    * The data type is numerical->continous with level of measurement is quantitative->ratio.\n",
    "    * we should fill the **missing values**\n",
    "    * in order to divide the train data so the machine learning could understand better, I prefer to change the level of measurement to quantitative->interval using the group of age (maybe child, teenagers, young adult, adult) on **Feature Engineering** process.\n",
    "    \n",
    "* **SibSp & Parch:**\n",
    "    * The data type is numerical, level of measurement is quantitative->ratio.\n",
    "    * Passenger with Sibling/Spouse, or have parent/children aboard, have higher survival rate than passenger which is alone!\n",
    "    * So I'll create a new feature based on this attribute called 'is_alone', I'll do this on **Feature engineering** process.\n",
    "    \n",
    "* **Ticket:**\n",
    "    * *I'' drop this for now.*\n",
    "    \n",
    "* **Fare:**\n",
    "    * The data type is numerical->continous with level of measurement is quantitative->ratio.\n",
    "    * There is 1 missing value in test dataset\n",
    "    * Since it seems there is an increasing level of passenger based on the Fare, I'll just scale the value of this variable from 0 to 1 in **Feature Engineering** process.\n",
    "    \n",
    "* **Cabin:**\n",
    "    * The data type is categorical, level of measurement is qualitative->ordinal, since the level seems like A>B>C>D..\n",
    "    * Some passenger have multiple cabin listed.\n",
    "    * there are many **missing values** on this attributes, I'll fill it with 'No Cabin' string.\n",
    "    * for each passenger, I'll just try to create a new feature called **'Deck'** with first letter from the Cabin as its value on **Feature Engineering** process.\n",
    "    * if passenger have multiple deck listed, I'll just use the higher class deck (ex: A and D, I'll just use A as the value)\n",
    "    * Because this variable is ordinal, I'll further change the letter value to be scaled from 0 to 1 in **Feature Engineering** process\n",
    "    \n",
    "* **Embarked:**\n",
    "    * The data type is categorical, level of measurement is qualitative->nominal.\n",
    "    * Since this is a categorical, maybe we should **get dummies** of this variable.\n",
    "    * there are 2 missing values on training dataset"
   ]
  },
  {
   "cell_type": "markdown",
   "metadata": {
    "_cell_guid": "1a33d738-d5cd-4206-8545-efd5796c68c6",
    "_uuid": "615f7d56b1d51a4d08da681d43d915901604c856"
   },
   "source": [
    "**D. DEALING WITH MISSING VALUES**\n",
    "\n",
    "from the summary above, we should fill missing values in **Age**, 1 value of **Fare** in test, and 2 values of **Embarked** in training. So, let's do this.\n",
    "\n",
    "wait, let's check the missing values using heatmap."
   ]
  },
  {
   "cell_type": "code",
   "execution_count": 12,
   "metadata": {
    "_cell_guid": "c0da17da-5466-46bc-acfe-5aa480943814",
    "_uuid": "0075f89b898685b798fc9cb2b9d26df4630fff8b",
    "collapsed": true
   },
   "outputs": [
    {
     "data": {
      "text/plain": [
       "<matplotlib.axes._subplots.AxesSubplot at 0x7f32cf900400>"
      ]
     },
     "execution_count": 12,
     "metadata": {},
     "output_type": "execute_result"
    },
    {
     "data": {
      "image/png": "[encoded data removed]",
      "text/plain": [
       "<matplotlib.figure.Figure at 0x7f32cf942f60>"
      ]
     },
     "metadata": {},
     "output_type": "display_data"
    }
   ],
   "source": [
    "f,ax = plt.subplots(1,2,figsize=(15,3))\n",
    "sns.heatmap(train.isnull(),yticklabels=False,cbar=False,cmap='viridis',ax=ax[0])\n",
    "sns.heatmap(test.isnull(),yticklabels=False,cbar=False,cmap='viridis',ax=ax[1])"
   ]
  },
  {
   "cell_type": "markdown",
   "metadata": {
    "_cell_guid": "b7db013e-2d23-4889-aff3-15c400b26ad5",
    "_uuid": "a8702901640b9211342e65b19817764f59a8e26b"
   },
   "source": [
    "**D.1 Filling missing values in Age**\n",
    "\n",
    "let's see the plot 1st:"
   ]
  },
  {
   "cell_type": "code",
   "execution_count": 13,
   "metadata": {
    "_cell_guid": "cc02598f-5162-45e7-b667-222f0ad3909c",
    "_uuid": "05a62fdb0d7142ea060fc72da10682729bb45a49",
    "collapsed": true
   },
   "outputs": [
    {
     "data": {
      "text/plain": [
       "<matplotlib.axes._subplots.AxesSubplot at 0x7f32cf842128>"
      ]
     },
     "execution_count": 13,
     "metadata": {},
     "output_type": "execute_result"
    },
    {
     "data": {
      "image/png": "[encoded data removed]",
      "text/plain": [
       "<matplotlib.figure.Figure at 0x7f32cf85b4e0>"
      ]
     },
     "metadata": {},
     "output_type": "display_data"
    }
   ],
   "source": [
    "f,ax = plt.subplots(1,2,figsize=(15,6))\n",
    "sns.boxplot(x='Pclass',y='Age',data=train,ax=ax[0])\n",
    "sns.boxplot(x='Pclass',y='Age',data=test,ax=ax[1])"
   ]
  },
  {
   "cell_type": "markdown",
   "metadata": {
    "_cell_guid": "9933f884-f813-45ad-a05b-f77890e0ddee",
    "_uuid": "e5139afc9f067e1738964b01ed1e78e01ab29dca"
   },
   "source": [
    "from Above information: we can fill Age Information with:\n",
    "* train: PClass 1 = 37, PClass 2 = 29, PClass 3 = 24\n",
    "* test: PClass 1 = 39, PClass 2 = 28, PClass 3 = 25"
   ]
  },
  {
   "cell_type": "code",
   "execution_count": 14,
   "metadata": {
    "_cell_guid": "514cf25a-29ca-49c2-9333-a4107cb6623c",
    "_uuid": "60f4c6e71ef18c40314496a9aefbc7d6e52913cd",
    "collapsed": true
   },
   "outputs": [],
   "source": [
    "def fill_age_train(cols):\n",
    "    Age = cols[0]\n",
    "    PClass = cols[1]\n",
    "    \n",
    "    if pd.isnull(Age):\n",
    "        if PClass == 1:\n",
    "            return 37\n",
    "        elif PClass == 2:\n",
    "            return 29\n",
    "        else:\n",
    "            return 24\n",
    "    else:\n",
    "        return Age\n",
    "\n",
    "def fill_age_test(cols):\n",
    "    Age = cols[0]\n",
    "    PClass = cols[1]\n",
    "    \n",
    "    if pd.isnull(Age):\n",
    "        if PClass == 1:\n",
    "            return 39\n",
    "        elif PClass == 2:\n",
    "            return 28\n",
    "        else:\n",
    "            return 25\n",
    "    else:\n",
    "        return Age"
   ]
  },
  {
   "cell_type": "code",
   "execution_count": 15,
   "metadata": {
    "_cell_guid": "a41e2ab6-9f69-4554-80a0-d72744d07805",
    "_uuid": "6e16fc0a7632c5985d242a45e8dd24c1ccee2be8",
    "collapsed": true
   },
   "outputs": [],
   "source": [
    "train['Age'] = train[['Age','Pclass']].apply(fill_age_train,axis=1)\n",
    "test['Age'] = test[['Age','Pclass']].apply(fill_age_test,axis=1)"
   ]
  },
  {
   "cell_type": "markdown",
   "metadata": {
    "_cell_guid": "f47d72e2-3c54-41dd-92e2-ba805cdf8153",
    "_uuid": "bdbd45a33ee824b5ea4211a43d8d01166f108d22",
    "collapsed": true
   },
   "source": [
    "**D.2 Filling missing values in Fare, Cabin and Embarked**"
   ]
  },
  {
   "cell_type": "code",
   "execution_count": 16,
   "metadata": {
    "_cell_guid": "2594b1a1-a218-4162-9132-a87f84fcba73",
    "_uuid": "42fc153c999baba95ec23545b540175bed5fd19b",
    "collapsed": true
   },
   "outputs": [],
   "source": [
    "test['Fare'].fillna(stat.mode(test['Fare']),inplace=True)\n",
    "train['Embarked'].fillna('S',inplace=True)\n",
    "train['Cabin'].fillna('No Cabin',inplace=True)\n",
    "test['Cabin'].fillna('No Cabin',inplace=True)"
   ]
  },
  {
   "cell_type": "code",
   "execution_count": 17,
   "metadata": {
    "_cell_guid": "f0ca0a5e-f550-45be-8fa6-600d78d5594f",
    "_uuid": "816e5002f0d7dc06bdce62ad0081b2af70dc2b06",
    "collapsed": true
   },
   "outputs": [
    {
     "data": {
      "text/plain": [
       "<matplotlib.axes._subplots.AxesSubplot at 0x7f32cf6dc668>"
      ]
     },
     "execution_count": 17,
     "metadata": {},
     "output_type": "execute_result"
    },
    {
     "data": {
      "image/png": "[encoded data removed]",
      "text/plain": [
       "<matplotlib.figure.Figure at 0x7f32d34d2358>"
      ]
     },
     "metadata": {},
     "output_type": "display_data"
    }
   ],
   "source": [
    "f,ax = plt.subplots(1,2,figsize=(15,3))\n",
    "sns.heatmap(train.isnull(),yticklabels=False,cbar=False,cmap='viridis',ax=ax[0])\n",
    "sns.heatmap(test.isnull(),yticklabels=False,cbar=False,cmap='viridis',ax=ax[1])"
   ]
  },
  {
   "cell_type": "markdown",
   "metadata": {
    "_cell_guid": "334abab5-9252-4607-a134-511b57390c6a",
    "_uuid": "8dc7a63d9e3396d29f9e9f24e3647359ec3eef44"
   },
   "source": [
    "**IT'S CLEAR!!!** ready for feature engineering, but, we'll drop Ticket first"
   ]
  },
  {
   "cell_type": "code",
   "execution_count": 18,
   "metadata": {
    "_cell_guid": "953727d5-f315-42b9-ae48-17150b80739e",
    "_uuid": "55cc38659b186ee816dbf76a25f661fb8ff37319",
    "collapsed": true
   },
   "outputs": [],
   "source": [
    "train.drop('Ticket',axis=1,inplace=True)\n",
    "test.drop('Ticket',axis=1,inplace=True)"
   ]
  },
  {
   "cell_type": "code",
   "execution_count": 19,
   "metadata": {
    "_cell_guid": "9fd40c74-0e17-4add-8c56-c437be92d98e",
    "_uuid": "27bea12476dd1f4c90ffbde406f610536824c0b4",
    "collapsed": true
   },
   "outputs": [
    {
     "data": {
      "text/html": [
       "<div>\n",
       "<style>\n",
       "    .dataframe thead tr:only-child th {\n",
       "        text-align: right;\n",
       "    }\n",
       "\n",
       "    .dataframe thead th {\n",
       "        text-align: left;\n",
       "    }\n",
       "\n",
       "    .dataframe tbody tr th {\n",
       "        vertical-align: top;\n",
       "    }\n",
       "</style>\n",
       "<table border=\"1\" class=\"dataframe\">\n",
       "  <thead>\n",
       "    <tr style=\"text-align: right;\">\n",
       "      <th></th>\n",
       "      <th>PassengerId</th>\n",
       "      <th>Survived</th>\n",
       "      <th>Pclass</th>\n",
       "      <th>Name</th>\n",
       "      <th>Sex</th>\n",
       "      <th>Age</th>\n",
       "      <th>SibSp</th>\n",
       "      <th>Parch</th>\n",
       "      <th>Fare</th>\n",
       "      <th>Cabin</th>\n",
       "      <th>Embarked</th>\n",
       "    </tr>\n",
       "  </thead>\n",
       "  <tbody>\n",
       "    <tr>\n",
       "      <th>0</th>\n",
       "      <td>1</td>\n",
       "      <td>0</td>\n",
       "      <td>3</td>\n",
       "      <td>Braund, Mr. Owen Harris</td>\n",
       "      <td>male</td>\n",
       "      <td>22.0</td>\n",
       "      <td>1</td>\n",
       "      <td>0</td>\n",
       "      <td>7.2500</td>\n",
       "      <td>No Cabin</td>\n",
       "      <td>S</td>\n",
       "    </tr>\n",
       "    <tr>\n",
       "      <th>1</th>\n",
       "      <td>2</td>\n",
       "      <td>1</td>\n",
       "      <td>1</td>\n",
       "      <td>Cumings, Mrs. John Bradley (Florence Briggs Th...</td>\n",
       "      <td>female</td>\n",
       "      <td>38.0</td>\n",
       "      <td>1</td>\n",
       "      <td>0</td>\n",
       "      <td>71.2833</td>\n",
       "      <td>C85</td>\n",
       "      <td>C</td>\n",
       "    </tr>\n",
       "    <tr>\n",
       "      <th>2</th>\n",
       "      <td>3</td>\n",
       "      <td>1</td>\n",
       "      <td>3</td>\n",
       "      <td>Heikkinen, Miss. Laina</td>\n",
       "      <td>female</td>\n",
       "      <td>26.0</td>\n",
       "      <td>0</td>\n",
       "      <td>0</td>\n",
       "      <td>7.9250</td>\n",
       "      <td>No Cabin</td>\n",
       "      <td>S</td>\n",
       "    </tr>\n",
       "    <tr>\n",
       "      <th>3</th>\n",
       "      <td>4</td>\n",
       "      <td>1</td>\n",
       "      <td>1</td>\n",
       "      <td>Futrelle, Mrs. Jacques Heath (Lily May Peel)</td>\n",
       "      <td>female</td>\n",
       "      <td>35.0</td>\n",
       "      <td>1</td>\n",
       "      <td>0</td>\n",
       "      <td>53.1000</td>\n",
       "      <td>C123</td>\n",
       "      <td>S</td>\n",
       "    </tr>\n",
       "    <tr>\n",
       "      <th>4</th>\n",
       "      <td>5</td>\n",
       "      <td>0</td>\n",
       "      <td>3</td>\n",
       "      <td>Allen, Mr. William Henry</td>\n",
       "      <td>male</td>\n",
       "      <td>35.0</td>\n",
       "      <td>0</td>\n",
       "      <td>0</td>\n",
       "      <td>8.0500</td>\n",
       "      <td>No Cabin</td>\n",
       "      <td>S</td>\n",
       "    </tr>\n",
       "  </tbody>\n",
       "</table>\n",
       "</div>"
      ],
      "text/plain": [
       "   PassengerId  Survived  Pclass  \\\n",
       "0            1         0       3   \n",
       "1            2         1       1   \n",
       "2            3         1       3   \n",
       "3            4         1       1   \n",
       "4            5         0       3   \n",
       "\n",
       "                                                Name     Sex   Age  SibSp  \\\n",
       "0                            Braund, Mr. Owen Harris    male  22.0      1   \n",
       "1  Cumings, Mrs. John Bradley (Florence Briggs Th...  female  38.0      1   \n",
       "2                             Heikkinen, Miss. Laina  female  26.0      0   \n",
       "3       Futrelle, Mrs. Jacques Heath (Lily May Peel)  female  35.0      1   \n",
       "4                           Allen, Mr. William Henry    male  35.0      0   \n",
       "\n",
       "   Parch     Fare     Cabin Embarked  \n",
       "0      0   7.2500  No Cabin        S  \n",
       "1      0  71.2833       C85        C  \n",
       "2      0   7.9250  No Cabin        S  \n",
       "3      0  53.1000      C123        S  \n",
       "4      0   8.0500  No Cabin        S  "
      ]
     },
     "execution_count": 19,
     "metadata": {},
     "output_type": "execute_result"
    }
   ],
   "source": [
    "train.head()"
   ]
  },
  {
   "cell_type": "markdown",
   "metadata": {
    "_cell_guid": "5e17a517-cc9c-4bda-a108-683020e1d94f",
    "_uuid": "43b779feb34e9a7949b4065bf3cc886c0413aba3"
   },
   "source": [
    "**E. FEATURE ENGINEERING**\n",
    "\n",
    "from summary above, we will do some work on **Name, Age, SibSP & Parch, Fare, Cabin**. Let's do this!"
   ]
  },
  {
   "cell_type": "code",
   "execution_count": 20,
   "metadata": {
    "_cell_guid": "345b840a-d7fb-46f4-b597-d26eaa8cf2c1",
    "_uuid": "dadc8bce5a988cdcc5fe18277760f148cd0f32ec",
    "collapsed": true
   },
   "outputs": [],
   "source": [
    "#combine dataset 1st for easier Feature Engineering\n",
    "train['IsTrain'] = 1\n",
    "test['IsTrain'] = 0\n",
    "df = pd.concat([train,test])"
   ]
  },
  {
   "cell_type": "code",
   "execution_count": 21,
   "metadata": {
    "_cell_guid": "6d11c36c-20e5-49f8-b133-32ea128065ff",
    "_uuid": "6d7ec71f71dfb71363156081ccf8941af3d8e33d",
    "collapsed": true
   },
   "outputs": [],
   "source": [
    "#Scaler Initiation\n",
    "scaler = MinMaxScaler()"
   ]
  },
  {
   "cell_type": "markdown",
   "metadata": {
    "_cell_guid": "961d2867-c930-45fc-88a6-527ae7ede0e2",
    "_uuid": "98af5a6dc186a10064bee6d62f83bc290a71bf17"
   },
   "source": [
    "**E.1 Feature Engineering: Name -> Title**"
   ]
  },
  {
   "cell_type": "code",
   "execution_count": 22,
   "metadata": {
    "_cell_guid": "97e300fd-c352-49ae-868f-ce6851140b40",
    "_uuid": "fc37abac57ccd24e386a55fc8fa539cfba533893",
    "collapsed": true
   },
   "outputs": [
    {
     "data": {
      "text/plain": [
       "Mr              757\n",
       "Miss            260\n",
       "Mrs             197\n",
       "Master           61\n",
       "Rev               8\n",
       "Dr                8\n",
       "Col               4\n",
       "Ms                2\n",
       "Major             2\n",
       "Mlle              2\n",
       "Lady              1\n",
       "Mme               1\n",
       "Don               1\n",
       "Capt              1\n",
       "Sir               1\n",
       "Dona              1\n",
       "Jonkheer          1\n",
       "the Countess      1\n",
       "Name: Title, dtype: int64"
      ]
     },
     "execution_count": 22,
     "metadata": {},
     "output_type": "execute_result"
    }
   ],
   "source": [
    "df['Title'] = df['Name'].str.split(', ').str[1].str.split('.').str[0]\n",
    "df['Title'].value_counts()"
   ]
  },
  {
   "cell_type": "markdown",
   "metadata": {
    "_cell_guid": "320a3e1c-a904-4250-9006-3ef2468fc422",
    "_uuid": "3f134dbc467878bd0c19abb1f3f10268e47937ac"
   },
   "source": [
    "for these rare title, we'll convert them to 'Others', except **Mme** will be converted to Mrs, **Ms and Mlle** to Miss"
   ]
  },
  {
   "cell_type": "code",
   "execution_count": 23,
   "metadata": {
    "_cell_guid": "5311fc6a-ed1e-4906-ba50-122eb6ca33c3",
    "_uuid": "65eed813412eaa6ed79c59c61bbe36ea897c9edc",
    "collapsed": true
   },
   "outputs": [
    {
     "data": {
      "text/plain": [
       "Mr        757\n",
       "Miss      264\n",
       "Mrs       198\n",
       "Master     61\n",
       "Others     29\n",
       "Name: Title, dtype: int64"
      ]
     },
     "execution_count": 23,
     "metadata": {},
     "output_type": "execute_result"
    }
   ],
   "source": [
    "df['Title'].replace('Mme','Mrs',inplace=True)\n",
    "df['Title'].replace(['Ms','Mlle'],'Miss',inplace=True)\n",
    "df['Title'].replace(['Dr','Rev','Col','Major','Dona','Don','Sir','Lady','Jonkheer','Capt','the Countess'],'Others',inplace=True)\n",
    "df['Title'].value_counts()"
   ]
  },
  {
   "cell_type": "code",
   "execution_count": 24,
   "metadata": {
    "_cell_guid": "258d6ae5-e73d-4f34-933b-470dd419bea2",
    "_uuid": "042dadba279c03f62f390f818a69857c5d71e3a8",
    "collapsed": true
   },
   "outputs": [
    {
     "data": {
      "text/html": [
       "<div>\n",
       "<style>\n",
       "    .dataframe thead tr:only-child th {\n",
       "        text-align: right;\n",
       "    }\n",
       "\n",
       "    .dataframe thead th {\n",
       "        text-align: left;\n",
       "    }\n",
       "\n",
       "    .dataframe tbody tr th {\n",
       "        vertical-align: top;\n",
       "    }\n",
       "</style>\n",
       "<table border=\"1\" class=\"dataframe\">\n",
       "  <thead>\n",
       "    <tr style=\"text-align: right;\">\n",
       "      <th></th>\n",
       "      <th>Age</th>\n",
       "      <th>Cabin</th>\n",
       "      <th>Embarked</th>\n",
       "      <th>Fare</th>\n",
       "      <th>IsTrain</th>\n",
       "      <th>Parch</th>\n",
       "      <th>PassengerId</th>\n",
       "      <th>Pclass</th>\n",
       "      <th>Sex</th>\n",
       "      <th>SibSp</th>\n",
       "      <th>Survived</th>\n",
       "      <th>Title</th>\n",
       "    </tr>\n",
       "  </thead>\n",
       "  <tbody>\n",
       "    <tr>\n",
       "      <th>0</th>\n",
       "      <td>22.0</td>\n",
       "      <td>No Cabin</td>\n",
       "      <td>S</td>\n",
       "      <td>7.2500</td>\n",
       "      <td>1</td>\n",
       "      <td>0</td>\n",
       "      <td>1</td>\n",
       "      <td>3</td>\n",
       "      <td>male</td>\n",
       "      <td>1</td>\n",
       "      <td>0.0</td>\n",
       "      <td>Mr</td>\n",
       "    </tr>\n",
       "    <tr>\n",
       "      <th>1</th>\n",
       "      <td>38.0</td>\n",
       "      <td>C85</td>\n",
       "      <td>C</td>\n",
       "      <td>71.2833</td>\n",
       "      <td>1</td>\n",
       "      <td>0</td>\n",
       "      <td>2</td>\n",
       "      <td>1</td>\n",
       "      <td>female</td>\n",
       "      <td>1</td>\n",
       "      <td>1.0</td>\n",
       "      <td>Mrs</td>\n",
       "    </tr>\n",
       "    <tr>\n",
       "      <th>2</th>\n",
       "      <td>26.0</td>\n",
       "      <td>No Cabin</td>\n",
       "      <td>S</td>\n",
       "      <td>7.9250</td>\n",
       "      <td>1</td>\n",
       "      <td>0</td>\n",
       "      <td>3</td>\n",
       "      <td>3</td>\n",
       "      <td>female</td>\n",
       "      <td>0</td>\n",
       "      <td>1.0</td>\n",
       "      <td>Miss</td>\n",
       "    </tr>\n",
       "    <tr>\n",
       "      <th>3</th>\n",
       "      <td>35.0</td>\n",
       "      <td>C123</td>\n",
       "      <td>S</td>\n",
       "      <td>53.1000</td>\n",
       "      <td>1</td>\n",
       "      <td>0</td>\n",
       "      <td>4</td>\n",
       "      <td>1</td>\n",
       "      <td>female</td>\n",
       "      <td>1</td>\n",
       "      <td>1.0</td>\n",
       "      <td>Mrs</td>\n",
       "    </tr>\n",
       "    <tr>\n",
       "      <th>4</th>\n",
       "      <td>35.0</td>\n",
       "      <td>No Cabin</td>\n",
       "      <td>S</td>\n",
       "      <td>8.0500</td>\n",
       "      <td>1</td>\n",
       "      <td>0</td>\n",
       "      <td>5</td>\n",
       "      <td>3</td>\n",
       "      <td>male</td>\n",
       "      <td>0</td>\n",
       "      <td>0.0</td>\n",
       "      <td>Mr</td>\n",
       "    </tr>\n",
       "  </tbody>\n",
       "</table>\n",
       "</div>"
      ],
      "text/plain": [
       "    Age     Cabin Embarked     Fare  IsTrain  Parch  PassengerId  Pclass  \\\n",
       "0  22.0  No Cabin        S   7.2500        1      0            1       3   \n",
       "1  38.0       C85        C  71.2833        1      0            2       1   \n",
       "2  26.0  No Cabin        S   7.9250        1      0            3       3   \n",
       "3  35.0      C123        S  53.1000        1      0            4       1   \n",
       "4  35.0  No Cabin        S   8.0500        1      0            5       3   \n",
       "\n",
       "      Sex  SibSp  Survived Title  \n",
       "0    male      1       0.0    Mr  \n",
       "1  female      1       1.0   Mrs  \n",
       "2  female      0       1.0  Miss  \n",
       "3  female      1       1.0   Mrs  \n",
       "4    male      0       0.0    Mr  "
      ]
     },
     "execution_count": 24,
     "metadata": {},
     "output_type": "execute_result"
    }
   ],
   "source": [
    "df.drop('Name',axis=1,inplace=True)\n",
    "df.head()"
   ]
  },
  {
   "cell_type": "markdown",
   "metadata": {
    "_cell_guid": "824ea705-d19f-49bc-9b9a-a665da035371",
    "_uuid": "3169e642208bf2009ccc54701f72a756b0963341"
   },
   "source": [
    "**E.2 Feature Engineering: Age -> AgeGroup**"
   ]
  },
  {
   "cell_type": "code",
   "execution_count": 25,
   "metadata": {
    "_cell_guid": "4376be05-e423-4ebd-ae3d-617641ba7c2f",
    "_uuid": "60b17b33ce75a2cc08b9493283aa2ca8a97499f7",
    "collapsed": true
   },
   "outputs": [
    {
     "data": {
      "text/plain": [
       "<matplotlib.axes._subplots.AxesSubplot at 0x7f32cf648518>"
      ]
     },
     "execution_count": 25,
     "metadata": {},
     "output_type": "execute_result"
    },
    {
     "data": {
      "image/png": "[encoded data removed]",
      "text/plain": [
       "<matplotlib.figure.Figure at 0x7f32cf63fcf8>"
      ]
     },
     "metadata": {},
     "output_type": "display_data"
    }
   ],
   "source": [
    "sns.distplot(df['Age'],bins=5)"
   ]
  },
  {
   "cell_type": "markdown",
   "metadata": {
    "_cell_guid": "eb3db2ac-07e4-4be6-b34b-9041b685d787",
    "_uuid": "67945a33a2ddab196b0833fc9b6111e4d09a4bd0"
   },
   "source": [
    "I'll divide age to 5 categories, they are, Child(<=19), Young Adult(>19,<=30), Adult(>30,<=45), Old(>45,<=63), Veteran(>63), \n",
    "\n",
    "with: **child = 0, Young Adult = 1, Adult = 2, Old = 3, Veteran = 4**"
   ]
  },
  {
   "cell_type": "code",
   "execution_count": 26,
   "metadata": {
    "_cell_guid": "84d6f567-ce28-446d-9073-04334075585d",
    "_uuid": "4e36f713d6b1d96c6aeb89ce9e429981b1f84ef6",
    "collapsed": true
   },
   "outputs": [],
   "source": [
    "df['AgeGroup'] = df['Age']\n",
    "df.loc[df['AgeGroup']<=19, 'AgeGroup'] = 0\n",
    "df.loc[(df['AgeGroup']>19) & (df['AgeGroup']<=30), 'AgeGroup'] = 1\n",
    "df.loc[(df['AgeGroup']>30) & (df['AgeGroup']<=45), 'AgeGroup'] = 2\n",
    "df.loc[(df['AgeGroup']>45) & (df['AgeGroup']<=63), 'AgeGroup'] = 3\n",
    "df.loc[df['AgeGroup']>63, 'AgeGroup'] = 4"
   ]
  },
  {
   "cell_type": "code",
   "execution_count": 27,
   "metadata": {
    "_cell_guid": "3322733d-f28b-4c82-9428-b37dd0f127c4",
    "_uuid": "7d6f635b976d699cad3dffa4a53a384fd4d6c852",
    "collapsed": true
   },
   "outputs": [
    {
     "data": {
      "text/plain": [
       "<matplotlib.axes._subplots.AxesSubplot at 0x7f32cf61b630>"
      ]
     },
     "execution_count": 27,
     "metadata": {},
     "output_type": "execute_result"
    },
    {
     "data": {
      "image/png": "[encoded data removed]",
      "text/plain": [
       "<matplotlib.figure.Figure at 0x7f32cf64a160>"
      ]
     },
     "metadata": {},
     "output_type": "display_data"
    }
   ],
   "source": [
    "sns.countplot(x='AgeGroup',hue='Survived',data=df[df['IsTrain']==1],palette='husl')"
   ]
  },
  {
   "cell_type": "code",
   "execution_count": 28,
   "metadata": {
    "_cell_guid": "b6283b39-defa-4db7-813a-2e8a135e0d9e",
    "_uuid": "036b4c6a7ddc26e1a6bcdae42be7ff441085736f",
    "collapsed": true
   },
   "outputs": [
    {
     "data": {
      "text/html": [
       "<div>\n",
       "<style>\n",
       "    .dataframe thead tr:only-child th {\n",
       "        text-align: right;\n",
       "    }\n",
       "\n",
       "    .dataframe thead th {\n",
       "        text-align: left;\n",
       "    }\n",
       "\n",
       "    .dataframe tbody tr th {\n",
       "        vertical-align: top;\n",
       "    }\n",
       "</style>\n",
       "<table border=\"1\" class=\"dataframe\">\n",
       "  <thead>\n",
       "    <tr style=\"text-align: right;\">\n",
       "      <th></th>\n",
       "      <th>Cabin</th>\n",
       "      <th>Embarked</th>\n",
       "      <th>Fare</th>\n",
       "      <th>IsTrain</th>\n",
       "      <th>Parch</th>\n",
       "      <th>PassengerId</th>\n",
       "      <th>Pclass</th>\n",
       "      <th>Sex</th>\n",
       "      <th>SibSp</th>\n",
       "      <th>Survived</th>\n",
       "      <th>Title</th>\n",
       "      <th>AgeGroup</th>\n",
       "    </tr>\n",
       "  </thead>\n",
       "  <tbody>\n",
       "    <tr>\n",
       "      <th>0</th>\n",
       "      <td>No Cabin</td>\n",
       "      <td>S</td>\n",
       "      <td>7.2500</td>\n",
       "      <td>1</td>\n",
       "      <td>0</td>\n",
       "      <td>1</td>\n",
       "      <td>3</td>\n",
       "      <td>male</td>\n",
       "      <td>1</td>\n",
       "      <td>0.0</td>\n",
       "      <td>Mr</td>\n",
       "      <td>1.0</td>\n",
       "    </tr>\n",
       "    <tr>\n",
       "      <th>1</th>\n",
       "      <td>C85</td>\n",
       "      <td>C</td>\n",
       "      <td>71.2833</td>\n",
       "      <td>1</td>\n",
       "      <td>0</td>\n",
       "      <td>2</td>\n",
       "      <td>1</td>\n",
       "      <td>female</td>\n",
       "      <td>1</td>\n",
       "      <td>1.0</td>\n",
       "      <td>Mrs</td>\n",
       "      <td>2.0</td>\n",
       "    </tr>\n",
       "    <tr>\n",
       "      <th>2</th>\n",
       "      <td>No Cabin</td>\n",
       "      <td>S</td>\n",
       "      <td>7.9250</td>\n",
       "      <td>1</td>\n",
       "      <td>0</td>\n",
       "      <td>3</td>\n",
       "      <td>3</td>\n",
       "      <td>female</td>\n",
       "      <td>0</td>\n",
       "      <td>1.0</td>\n",
       "      <td>Miss</td>\n",
       "      <td>1.0</td>\n",
       "    </tr>\n",
       "    <tr>\n",
       "      <th>3</th>\n",
       "      <td>C123</td>\n",
       "      <td>S</td>\n",
       "      <td>53.1000</td>\n",
       "      <td>1</td>\n",
       "      <td>0</td>\n",
       "      <td>4</td>\n",
       "      <td>1</td>\n",
       "      <td>female</td>\n",
       "      <td>1</td>\n",
       "      <td>1.0</td>\n",
       "      <td>Mrs</td>\n",
       "      <td>2.0</td>\n",
       "    </tr>\n",
       "    <tr>\n",
       "      <th>4</th>\n",
       "      <td>No Cabin</td>\n",
       "      <td>S</td>\n",
       "      <td>8.0500</td>\n",
       "      <td>1</td>\n",
       "      <td>0</td>\n",
       "      <td>5</td>\n",
       "      <td>3</td>\n",
       "      <td>male</td>\n",
       "      <td>0</td>\n",
       "      <td>0.0</td>\n",
       "      <td>Mr</td>\n",
       "      <td>2.0</td>\n",
       "    </tr>\n",
       "  </tbody>\n",
       "</table>\n",
       "</div>"
      ],
      "text/plain": [
       "      Cabin Embarked     Fare  IsTrain  Parch  PassengerId  Pclass     Sex  \\\n",
       "0  No Cabin        S   7.2500        1      0            1       3    male   \n",
       "1       C85        C  71.2833        1      0            2       1  female   \n",
       "2  No Cabin        S   7.9250        1      0            3       3  female   \n",
       "3      C123        S  53.1000        1      0            4       1  female   \n",
       "4  No Cabin        S   8.0500        1      0            5       3    male   \n",
       "\n",
       "   SibSp  Survived Title  AgeGroup  \n",
       "0      1       0.0    Mr       1.0  \n",
       "1      1       1.0   Mrs       2.0  \n",
       "2      0       1.0  Miss       1.0  \n",
       "3      1       1.0   Mrs       2.0  \n",
       "4      0       0.0    Mr       2.0  "
      ]
     },
     "execution_count": 28,
     "metadata": {},
     "output_type": "execute_result"
    }
   ],
   "source": [
    "df.drop('Age',axis=1,inplace=True)\n",
    "df.head()"
   ]
  },
  {
   "cell_type": "markdown",
   "metadata": {
    "_cell_guid": "2796c76b-7259-4955-b613-a024eaf88e43",
    "_uuid": "e0379782c58f4ef6b83764df0b7bff48e128fa32"
   },
   "source": [
    "**E.3 Feature Engineering: SibSp & Parch -> IsAlone**"
   ]
  },
  {
   "cell_type": "code",
   "execution_count": 29,
   "metadata": {
    "_cell_guid": "836c3aed-e4c9-417d-860f-c3b271a15713",
    "_uuid": "963acf95f3407a304169507f39e233ac9223d736",
    "collapsed": true
   },
   "outputs": [],
   "source": [
    "df['FamilySize'] = df['SibSp'] + df['Parch'] + 1 #himself\n",
    "df['IsAlone'] = 0\n",
    "df.loc[df['FamilySize']==1, 'IsAlone'] = 1"
   ]
  },
  {
   "cell_type": "code",
   "execution_count": 30,
   "metadata": {
    "_cell_guid": "35123efe-a781-4594-87f8-df8d050b13f6",
    "_uuid": "28679ab1b39d111260a89465e092f4dcac204719",
    "collapsed": true
   },
   "outputs": [
    {
     "data": {
      "text/plain": [
       "<matplotlib.axes._subplots.AxesSubplot at 0x7f32cf58b048>"
      ]
     },
     "execution_count": 30,
     "metadata": {},
     "output_type": "execute_result"
    },
    {
     "data": {
      "image/png": "[encoded data removed]",
      "text/plain": [
       "<matplotlib.figure.Figure at 0x7f32cf556588>"
      ]
     },
     "metadata": {},
     "output_type": "display_data"
    }
   ],
   "source": [
    "#checking correlation with survival rate\n",
    "f,ax = plt.subplots(1,2,figsize=(15,6))\n",
    "sns.countplot(df[df['IsTrain']==1]['FamilySize'],hue=train['Survived'],ax=ax[0],palette='husl')\n",
    "sns.countplot(df[df['IsTrain']==1]['IsAlone'],hue=train['Survived'],ax=ax[1],palette='husl')"
   ]
  },
  {
   "cell_type": "markdown",
   "metadata": {
    "_cell_guid": "4769ad58-5253-4abe-a2cc-79a431d7cfe5",
    "_uuid": "78bc458564d47282617857f2ca1b579088e630cc"
   },
   "source": [
    "from both figures, I can assume that if a passenger have family onboard, **the survival rate will increase to approximately 50%.**\n",
    "\n",
    "because we already have the information using is_alone feature only, *I'll just drop SibSp, Parch, and FamilySize*"
   ]
  },
  {
   "cell_type": "code",
   "execution_count": 31,
   "metadata": {
    "_cell_guid": "02ee9bc8-4e78-40ab-a1c3-4c27ec3613c2",
    "_uuid": "ef60ffd4bf434e186bea8dcd7694ae29e43ffc25",
    "collapsed": true
   },
   "outputs": [
    {
     "data": {
      "text/html": [
       "<div>\n",
       "<style>\n",
       "    .dataframe thead tr:only-child th {\n",
       "        text-align: right;\n",
       "    }\n",
       "\n",
       "    .dataframe thead th {\n",
       "        text-align: left;\n",
       "    }\n",
       "\n",
       "    .dataframe tbody tr th {\n",
       "        vertical-align: top;\n",
       "    }\n",
       "</style>\n",
       "<table border=\"1\" class=\"dataframe\">\n",
       "  <thead>\n",
       "    <tr style=\"text-align: right;\">\n",
       "      <th></th>\n",
       "      <th>Cabin</th>\n",
       "      <th>Embarked</th>\n",
       "      <th>Fare</th>\n",
       "      <th>IsTrain</th>\n",
       "      <th>PassengerId</th>\n",
       "      <th>Pclass</th>\n",
       "      <th>Sex</th>\n",
       "      <th>Survived</th>\n",
       "      <th>Title</th>\n",
       "      <th>AgeGroup</th>\n",
       "      <th>IsAlone</th>\n",
       "    </tr>\n",
       "  </thead>\n",
       "  <tbody>\n",
       "    <tr>\n",
       "      <th>0</th>\n",
       "      <td>No Cabin</td>\n",
       "      <td>S</td>\n",
       "      <td>7.2500</td>\n",
       "      <td>1</td>\n",
       "      <td>1</td>\n",
       "      <td>3</td>\n",
       "      <td>male</td>\n",
       "      <td>0.0</td>\n",
       "      <td>Mr</td>\n",
       "      <td>1.0</td>\n",
       "      <td>0</td>\n",
       "    </tr>\n",
       "    <tr>\n",
       "      <th>1</th>\n",
       "      <td>C85</td>\n",
       "      <td>C</td>\n",
       "      <td>71.2833</td>\n",
       "      <td>1</td>\n",
       "      <td>2</td>\n",
       "      <td>1</td>\n",
       "      <td>female</td>\n",
       "      <td>1.0</td>\n",
       "      <td>Mrs</td>\n",
       "      <td>2.0</td>\n",
       "      <td>0</td>\n",
       "    </tr>\n",
       "    <tr>\n",
       "      <th>2</th>\n",
       "      <td>No Cabin</td>\n",
       "      <td>S</td>\n",
       "      <td>7.9250</td>\n",
       "      <td>1</td>\n",
       "      <td>3</td>\n",
       "      <td>3</td>\n",
       "      <td>female</td>\n",
       "      <td>1.0</td>\n",
       "      <td>Miss</td>\n",
       "      <td>1.0</td>\n",
       "      <td>1</td>\n",
       "    </tr>\n",
       "    <tr>\n",
       "      <th>3</th>\n",
       "      <td>C123</td>\n",
       "      <td>S</td>\n",
       "      <td>53.1000</td>\n",
       "      <td>1</td>\n",
       "      <td>4</td>\n",
       "      <td>1</td>\n",
       "      <td>female</td>\n",
       "      <td>1.0</td>\n",
       "      <td>Mrs</td>\n",
       "      <td>2.0</td>\n",
       "      <td>0</td>\n",
       "    </tr>\n",
       "    <tr>\n",
       "      <th>4</th>\n",
       "      <td>No Cabin</td>\n",
       "      <td>S</td>\n",
       "      <td>8.0500</td>\n",
       "      <td>1</td>\n",
       "      <td>5</td>\n",
       "      <td>3</td>\n",
       "      <td>male</td>\n",
       "      <td>0.0</td>\n",
       "      <td>Mr</td>\n",
       "      <td>2.0</td>\n",
       "      <td>1</td>\n",
       "    </tr>\n",
       "  </tbody>\n",
       "</table>\n",
       "</div>"
      ],
      "text/plain": [
       "      Cabin Embarked     Fare  IsTrain  PassengerId  Pclass     Sex  Survived  \\\n",
       "0  No Cabin        S   7.2500        1            1       3    male       0.0   \n",
       "1       C85        C  71.2833        1            2       1  female       1.0   \n",
       "2  No Cabin        S   7.9250        1            3       3  female       1.0   \n",
       "3      C123        S  53.1000        1            4       1  female       1.0   \n",
       "4  No Cabin        S   8.0500        1            5       3    male       0.0   \n",
       "\n",
       "  Title  AgeGroup  IsAlone  \n",
       "0    Mr       1.0        0  \n",
       "1   Mrs       2.0        0  \n",
       "2  Miss       1.0        1  \n",
       "3   Mrs       2.0        0  \n",
       "4    Mr       2.0        1  "
      ]
     },
     "execution_count": 31,
     "metadata": {},
     "output_type": "execute_result"
    }
   ],
   "source": [
    "df.drop(['SibSp','Parch','FamilySize'],axis=1,inplace=True)\n",
    "df.head()"
   ]
  },
  {
   "cell_type": "code",
   "execution_count": 32,
   "metadata": {
    "_cell_guid": "4192d3d3-7127-4922-a40c-8c41d3421807",
    "_uuid": "9bd4671dea64c7a684b45dd306c64e10ca8999a6",
    "collapsed": true
   },
   "outputs": [
    {
     "data": {
      "text/html": [
       "<div>\n",
       "<style>\n",
       "    .dataframe thead tr:only-child th {\n",
       "        text-align: right;\n",
       "    }\n",
       "\n",
       "    .dataframe thead th {\n",
       "        text-align: left;\n",
       "    }\n",
       "\n",
       "    .dataframe tbody tr th {\n",
       "        vertical-align: top;\n",
       "    }\n",
       "</style>\n",
       "<table border=\"1\" class=\"dataframe\">\n",
       "  <thead>\n",
       "    <tr style=\"text-align: right;\">\n",
       "      <th></th>\n",
       "      <th>Cabin</th>\n",
       "      <th>Embarked</th>\n",
       "      <th>Fare</th>\n",
       "      <th>IsTrain</th>\n",
       "      <th>PassengerId</th>\n",
       "      <th>Pclass</th>\n",
       "      <th>Sex</th>\n",
       "      <th>Survived</th>\n",
       "      <th>Title</th>\n",
       "      <th>AgeGroup</th>\n",
       "      <th>IsAlone</th>\n",
       "    </tr>\n",
       "  </thead>\n",
       "  <tbody>\n",
       "    <tr>\n",
       "      <th>0</th>\n",
       "      <td>No Cabin</td>\n",
       "      <td>S</td>\n",
       "      <td>7.2500</td>\n",
       "      <td>1</td>\n",
       "      <td>1</td>\n",
       "      <td>3</td>\n",
       "      <td>male</td>\n",
       "      <td>0.0</td>\n",
       "      <td>Mr</td>\n",
       "      <td>1.0</td>\n",
       "      <td>0</td>\n",
       "    </tr>\n",
       "    <tr>\n",
       "      <th>1</th>\n",
       "      <td>C85</td>\n",
       "      <td>C</td>\n",
       "      <td>71.2833</td>\n",
       "      <td>1</td>\n",
       "      <td>2</td>\n",
       "      <td>1</td>\n",
       "      <td>female</td>\n",
       "      <td>1.0</td>\n",
       "      <td>Mrs</td>\n",
       "      <td>2.0</td>\n",
       "      <td>0</td>\n",
       "    </tr>\n",
       "    <tr>\n",
       "      <th>2</th>\n",
       "      <td>No Cabin</td>\n",
       "      <td>S</td>\n",
       "      <td>7.9250</td>\n",
       "      <td>1</td>\n",
       "      <td>3</td>\n",
       "      <td>3</td>\n",
       "      <td>female</td>\n",
       "      <td>1.0</td>\n",
       "      <td>Miss</td>\n",
       "      <td>1.0</td>\n",
       "      <td>1</td>\n",
       "    </tr>\n",
       "    <tr>\n",
       "      <th>3</th>\n",
       "      <td>C123</td>\n",
       "      <td>S</td>\n",
       "      <td>53.1000</td>\n",
       "      <td>1</td>\n",
       "      <td>4</td>\n",
       "      <td>1</td>\n",
       "      <td>female</td>\n",
       "      <td>1.0</td>\n",
       "      <td>Mrs</td>\n",
       "      <td>2.0</td>\n",
       "      <td>0</td>\n",
       "    </tr>\n",
       "    <tr>\n",
       "      <th>4</th>\n",
       "      <td>No Cabin</td>\n",
       "      <td>S</td>\n",
       "      <td>8.0500</td>\n",
       "      <td>1</td>\n",
       "      <td>5</td>\n",
       "      <td>3</td>\n",
       "      <td>male</td>\n",
       "      <td>0.0</td>\n",
       "      <td>Mr</td>\n",
       "      <td>2.0</td>\n",
       "      <td>1</td>\n",
       "    </tr>\n",
       "  </tbody>\n",
       "</table>\n",
       "</div>"
      ],
      "text/plain": [
       "      Cabin Embarked     Fare  IsTrain  PassengerId  Pclass     Sex  Survived  \\\n",
       "0  No Cabin        S   7.2500        1            1       3    male       0.0   \n",
       "1       C85        C  71.2833        1            2       1  female       1.0   \n",
       "2  No Cabin        S   7.9250        1            3       3  female       1.0   \n",
       "3      C123        S  53.1000        1            4       1  female       1.0   \n",
       "4  No Cabin        S   8.0500        1            5       3    male       0.0   \n",
       "\n",
       "  Title  AgeGroup  IsAlone  \n",
       "0    Mr       1.0        0  \n",
       "1   Mrs       2.0        0  \n",
       "2  Miss       1.0        1  \n",
       "3   Mrs       2.0        0  \n",
       "4    Mr       2.0        1  "
      ]
     },
     "execution_count": 32,
     "metadata": {},
     "output_type": "execute_result"
    }
   ],
   "source": [
    "df.head()"
   ]
  },
  {
   "cell_type": "markdown",
   "metadata": {
    "_cell_guid": "d1e566d0-2787-415e-a3d5-870231826130",
    "_uuid": "d2f2e413c84af71cc1f04a22af9a2ee38b78802d"
   },
   "source": [
    "**E.4 Feature Engineering: Cabin -> Deck**"
   ]
  },
  {
   "cell_type": "code",
   "execution_count": 33,
   "metadata": {
    "_cell_guid": "14a8bb77-62a4-4e70-83bd-39d9bb57a375",
    "_uuid": "aa41aeee098a588e7bccba09221b115abe14ddcc",
    "collapsed": true
   },
   "outputs": [],
   "source": [
    "df['Deck'] = df['Cabin']\n",
    "df.loc[df['Deck']!='No Cabin','Deck'] = df[df['Cabin']!='No Cabin']['Cabin'].str.split().apply(lambda x: np.sort(x)).str[0].str[0]\n",
    "df.loc[df['Deck']=='No Cabin','Deck'] = 'N/A'"
   ]
  },
  {
   "cell_type": "code",
   "execution_count": 34,
   "metadata": {
    "_cell_guid": "861dcf9b-9f8b-49c1-91ae-b215212e7bff",
    "_uuid": "f5de98115a7aebef67ec41b31ea2dd24396be9f0",
    "collapsed": true
   },
   "outputs": [
    {
     "data": {
      "text/plain": [
       "<matplotlib.axes._subplots.AxesSubplot at 0x7f32cf5c2390>"
      ]
     },
     "execution_count": 34,
     "metadata": {},
     "output_type": "execute_result"
    },
    {
     "data": {
      "image/png": "[encoded data removed]",
      "text/plain": [
       "<matplotlib.figure.Figure at 0x7f32cf5d49e8>"
      ]
     },
     "metadata": {},
     "output_type": "display_data"
    }
   ],
   "source": [
    "sns.countplot(x='Deck',hue='Survived',data=df[df['IsTrain']==1],palette='husl')"
   ]
  },
  {
   "cell_type": "markdown",
   "metadata": {
    "_cell_guid": "e80ccf66-2d71-4787-893e-5f9cb5606b67",
    "_uuid": "3379b601e6411b5f73dd641bfa629094b3573711"
   },
   "source": [
    "Well, now we can see clearly the survival rate based on passenger's Deck"
   ]
  },
  {
   "cell_type": "code",
   "execution_count": 35,
   "metadata": {
    "_cell_guid": "30f02385-fc52-4cc7-8c72-64a31e495cf3",
    "_uuid": "4e3d857ff97962b022f150eeaf6a3edf427b7985",
    "collapsed": true
   },
   "outputs": [],
   "source": [
    "df.loc[df['Deck']=='N/A', 'Deck'] = 0\n",
    "df.loc[df['Deck']=='G', 'Deck'] = 1\n",
    "df.loc[df['Deck']=='F', 'Deck'] = 2\n",
    "df.loc[df['Deck']=='E', 'Deck'] = 3\n",
    "df.loc[df['Deck']=='D', 'Deck'] = 4\n",
    "df.loc[df['Deck']=='C', 'Deck'] = 5\n",
    "df.loc[df['Deck']=='B', 'Deck'] = 6\n",
    "df.loc[df['Deck']=='A', 'Deck'] = 7\n",
    "df.loc[df['Deck']=='T', 'Deck'] = 0"
   ]
  },
  {
   "cell_type": "code",
   "execution_count": 36,
   "metadata": {
    "_cell_guid": "8eeba1bb-3620-40f5-bbe3-efb4a78a6e0e",
    "_uuid": "3264262063e02d2e97a6edf19956144e76fb0770",
    "collapsed": true
   },
   "outputs": [
    {
     "data": {
      "text/html": [
       "<div>\n",
       "<style>\n",
       "    .dataframe thead tr:only-child th {\n",
       "        text-align: right;\n",
       "    }\n",
       "\n",
       "    .dataframe thead th {\n",
       "        text-align: left;\n",
       "    }\n",
       "\n",
       "    .dataframe tbody tr th {\n",
       "        vertical-align: top;\n",
       "    }\n",
       "</style>\n",
       "<table border=\"1\" class=\"dataframe\">\n",
       "  <thead>\n",
       "    <tr style=\"text-align: right;\">\n",
       "      <th></th>\n",
       "      <th>Embarked</th>\n",
       "      <th>Fare</th>\n",
       "      <th>IsTrain</th>\n",
       "      <th>PassengerId</th>\n",
       "      <th>Pclass</th>\n",
       "      <th>Sex</th>\n",
       "      <th>Survived</th>\n",
       "      <th>Title</th>\n",
       "      <th>AgeGroup</th>\n",
       "      <th>IsAlone</th>\n",
       "      <th>Deck</th>\n",
       "    </tr>\n",
       "  </thead>\n",
       "  <tbody>\n",
       "    <tr>\n",
       "      <th>0</th>\n",
       "      <td>S</td>\n",
       "      <td>7.2500</td>\n",
       "      <td>1</td>\n",
       "      <td>1</td>\n",
       "      <td>3</td>\n",
       "      <td>male</td>\n",
       "      <td>0.0</td>\n",
       "      <td>Mr</td>\n",
       "      <td>1.0</td>\n",
       "      <td>0</td>\n",
       "      <td>0</td>\n",
       "    </tr>\n",
       "    <tr>\n",
       "      <th>1</th>\n",
       "      <td>C</td>\n",
       "      <td>71.2833</td>\n",
       "      <td>1</td>\n",
       "      <td>2</td>\n",
       "      <td>1</td>\n",
       "      <td>female</td>\n",
       "      <td>1.0</td>\n",
       "      <td>Mrs</td>\n",
       "      <td>2.0</td>\n",
       "      <td>0</td>\n",
       "      <td>5</td>\n",
       "    </tr>\n",
       "    <tr>\n",
       "      <th>2</th>\n",
       "      <td>S</td>\n",
       "      <td>7.9250</td>\n",
       "      <td>1</td>\n",
       "      <td>3</td>\n",
       "      <td>3</td>\n",
       "      <td>female</td>\n",
       "      <td>1.0</td>\n",
       "      <td>Miss</td>\n",
       "      <td>1.0</td>\n",
       "      <td>1</td>\n",
       "      <td>0</td>\n",
       "    </tr>\n",
       "    <tr>\n",
       "      <th>3</th>\n",
       "      <td>S</td>\n",
       "      <td>53.1000</td>\n",
       "      <td>1</td>\n",
       "      <td>4</td>\n",
       "      <td>1</td>\n",
       "      <td>female</td>\n",
       "      <td>1.0</td>\n",
       "      <td>Mrs</td>\n",
       "      <td>2.0</td>\n",
       "      <td>0</td>\n",
       "      <td>5</td>\n",
       "    </tr>\n",
       "    <tr>\n",
       "      <th>4</th>\n",
       "      <td>S</td>\n",
       "      <td>8.0500</td>\n",
       "      <td>1</td>\n",
       "      <td>5</td>\n",
       "      <td>3</td>\n",
       "      <td>male</td>\n",
       "      <td>0.0</td>\n",
       "      <td>Mr</td>\n",
       "      <td>2.0</td>\n",
       "      <td>1</td>\n",
       "      <td>0</td>\n",
       "    </tr>\n",
       "  </tbody>\n",
       "</table>\n",
       "</div>"
      ],
      "text/plain": [
       "  Embarked     Fare  IsTrain  PassengerId  Pclass     Sex  Survived Title  \\\n",
       "0        S   7.2500        1            1       3    male       0.0    Mr   \n",
       "1        C  71.2833        1            2       1  female       1.0   Mrs   \n",
       "2        S   7.9250        1            3       3  female       1.0  Miss   \n",
       "3        S  53.1000        1            4       1  female       1.0   Mrs   \n",
       "4        S   8.0500        1            5       3    male       0.0    Mr   \n",
       "\n",
       "   AgeGroup  IsAlone Deck  \n",
       "0       1.0        0    0  \n",
       "1       2.0        0    5  \n",
       "2       1.0        1    0  \n",
       "3       2.0        0    5  \n",
       "4       2.0        1    0  "
      ]
     },
     "execution_count": 36,
     "metadata": {},
     "output_type": "execute_result"
    }
   ],
   "source": [
    "df.drop('Cabin',axis=1,inplace=True)\n",
    "df.head()"
   ]
  },
  {
   "cell_type": "markdown",
   "metadata": {
    "_cell_guid": "9237a558-62a7-4357-ad94-2b4be5e1fa61",
    "_uuid": "55a9d8d7f8bb4da1045f2155a309a0eca3fdd805"
   },
   "source": [
    "**E.5 Feature Engineering -> Scaling**\n",
    "\n",
    "in this part, any features with level of measurement nominal -> ordinal, would be scaled from 0 to 1, they are **Fare, Pclass, and Deck**."
   ]
  },
  {
   "cell_type": "code",
   "execution_count": 37,
   "metadata": {
    "_cell_guid": "c1fbb028-abb9-4c3b-8717-310d8bef74bf",
    "_uuid": "2c1c35096c74db902e860fd790ff49b94e0dfcb3",
    "collapsed": true
   },
   "outputs": [],
   "source": [
    "df[['Fare','Pclass','Deck']] = scaler.fit_transform(df[['Fare','Pclass','Deck']])"
   ]
  },
  {
   "cell_type": "code",
   "execution_count": 38,
   "metadata": {
    "_cell_guid": "845ed5b0-d9f3-49a0-84d4-ad565a6afdec",
    "_uuid": "d82f63e3ec8e1182b7889de225bf30f9aca02aec",
    "collapsed": true
   },
   "outputs": [
    {
     "data": {
      "text/html": [
       "<div>\n",
       "<style>\n",
       "    .dataframe thead tr:only-child th {\n",
       "        text-align: right;\n",
       "    }\n",
       "\n",
       "    .dataframe thead th {\n",
       "        text-align: left;\n",
       "    }\n",
       "\n",
       "    .dataframe tbody tr th {\n",
       "        vertical-align: top;\n",
       "    }\n",
       "</style>\n",
       "<table border=\"1\" class=\"dataframe\">\n",
       "  <thead>\n",
       "    <tr style=\"text-align: right;\">\n",
       "      <th></th>\n",
       "      <th>Embarked</th>\n",
       "      <th>Fare</th>\n",
       "      <th>IsTrain</th>\n",
       "      <th>PassengerId</th>\n",
       "      <th>Pclass</th>\n",
       "      <th>Sex</th>\n",
       "      <th>Survived</th>\n",
       "      <th>Title</th>\n",
       "      <th>AgeGroup</th>\n",
       "      <th>IsAlone</th>\n",
       "      <th>Deck</th>\n",
       "    </tr>\n",
       "  </thead>\n",
       "  <tbody>\n",
       "    <tr>\n",
       "      <th>0</th>\n",
       "      <td>S</td>\n",
       "      <td>0.014151</td>\n",
       "      <td>1</td>\n",
       "      <td>1</td>\n",
       "      <td>1.0</td>\n",
       "      <td>male</td>\n",
       "      <td>0.0</td>\n",
       "      <td>Mr</td>\n",
       "      <td>1.0</td>\n",
       "      <td>0</td>\n",
       "      <td>0.000000</td>\n",
       "    </tr>\n",
       "    <tr>\n",
       "      <th>1</th>\n",
       "      <td>C</td>\n",
       "      <td>0.139136</td>\n",
       "      <td>1</td>\n",
       "      <td>2</td>\n",
       "      <td>0.0</td>\n",
       "      <td>female</td>\n",
       "      <td>1.0</td>\n",
       "      <td>Mrs</td>\n",
       "      <td>2.0</td>\n",
       "      <td>0</td>\n",
       "      <td>0.714286</td>\n",
       "    </tr>\n",
       "    <tr>\n",
       "      <th>2</th>\n",
       "      <td>S</td>\n",
       "      <td>0.015469</td>\n",
       "      <td>1</td>\n",
       "      <td>3</td>\n",
       "      <td>1.0</td>\n",
       "      <td>female</td>\n",
       "      <td>1.0</td>\n",
       "      <td>Miss</td>\n",
       "      <td>1.0</td>\n",
       "      <td>1</td>\n",
       "      <td>0.000000</td>\n",
       "    </tr>\n",
       "    <tr>\n",
       "      <th>3</th>\n",
       "      <td>S</td>\n",
       "      <td>0.103644</td>\n",
       "      <td>1</td>\n",
       "      <td>4</td>\n",
       "      <td>0.0</td>\n",
       "      <td>female</td>\n",
       "      <td>1.0</td>\n",
       "      <td>Mrs</td>\n",
       "      <td>2.0</td>\n",
       "      <td>0</td>\n",
       "      <td>0.714286</td>\n",
       "    </tr>\n",
       "    <tr>\n",
       "      <th>4</th>\n",
       "      <td>S</td>\n",
       "      <td>0.015713</td>\n",
       "      <td>1</td>\n",
       "      <td>5</td>\n",
       "      <td>1.0</td>\n",
       "      <td>male</td>\n",
       "      <td>0.0</td>\n",
       "      <td>Mr</td>\n",
       "      <td>2.0</td>\n",
       "      <td>1</td>\n",
       "      <td>0.000000</td>\n",
       "    </tr>\n",
       "  </tbody>\n",
       "</table>\n",
       "</div>"
      ],
      "text/plain": [
       "  Embarked      Fare  IsTrain  PassengerId  Pclass     Sex  Survived Title  \\\n",
       "0        S  0.014151        1            1     1.0    male       0.0    Mr   \n",
       "1        C  0.139136        1            2     0.0  female       1.0   Mrs   \n",
       "2        S  0.015469        1            3     1.0  female       1.0  Miss   \n",
       "3        S  0.103644        1            4     0.0  female       1.0   Mrs   \n",
       "4        S  0.015713        1            5     1.0    male       0.0    Mr   \n",
       "\n",
       "   AgeGroup  IsAlone      Deck  \n",
       "0       1.0        0  0.000000  \n",
       "1       2.0        0  0.714286  \n",
       "2       1.0        1  0.000000  \n",
       "3       2.0        0  0.714286  \n",
       "4       2.0        1  0.000000  "
      ]
     },
     "execution_count": 38,
     "metadata": {},
     "output_type": "execute_result"
    }
   ],
   "source": [
    "df.head()"
   ]
  },
  {
   "cell_type": "markdown",
   "metadata": {
    "_cell_guid": "e94fc1f8-662a-4260-a89e-c38321a28b6f",
    "_uuid": "1c2ce9027b3ccc01c4ea87a5e24756460a7f8011"
   },
   "source": [
    "**F. FINAL DATA PREPARATION**\n",
    "\n",
    "now after we got the features, lastly on data preprocessing, we need to get dummies on categorical data based on newly fresh baked dataframe, they are: **Embarked, Sex, Title, AgeGroup,**. "
   ]
  },
  {
   "cell_type": "code",
   "execution_count": 39,
   "metadata": {
    "_cell_guid": "3a367d54-7031-4d79-967d-45790b77e0e2",
    "_uuid": "582dd4180fa8b57806909f2751964297d720a99c",
    "collapsed": true
   },
   "outputs": [],
   "source": [
    "def process_dummies(df,cols):\n",
    "    for col in cols:\n",
    "        dummies = pd.get_dummies(df[col],prefix=col,drop_first=True)\n",
    "        df = pd.concat([df.drop(col,axis=1),dummies],axis=1)\n",
    "    return df"
   ]
  },
  {
   "cell_type": "code",
   "execution_count": 40,
   "metadata": {
    "_cell_guid": "20cac1cd-d9e2-42d0-aa9e-8327e6f038c0",
    "_uuid": "605b61bd10237bf979cb4cb0929d7e4750cbafc1",
    "collapsed": true
   },
   "outputs": [],
   "source": [
    "df = process_dummies(df,['Embarked','Sex','Title','AgeGroup'])"
   ]
  },
  {
   "cell_type": "code",
   "execution_count": 41,
   "metadata": {
    "_cell_guid": "ffd7b68b-0d9a-4b52-b2a8-f92823ddcfce",
    "_uuid": "f674cea55e065317c7c193c211440a9ba07b3a10",
    "collapsed": true
   },
   "outputs": [
    {
     "data": {
      "text/html": [
       "<div>\n",
       "<style>\n",
       "    .dataframe thead tr:only-child th {\n",
       "        text-align: right;\n",
       "    }\n",
       "\n",
       "    .dataframe thead th {\n",
       "        text-align: left;\n",
       "    }\n",
       "\n",
       "    .dataframe tbody tr th {\n",
       "        vertical-align: top;\n",
       "    }\n",
       "</style>\n",
       "<table border=\"1\" class=\"dataframe\">\n",
       "  <thead>\n",
       "    <tr style=\"text-align: right;\">\n",
       "      <th></th>\n",
       "      <th>Fare</th>\n",
       "      <th>IsTrain</th>\n",
       "      <th>PassengerId</th>\n",
       "      <th>Pclass</th>\n",
       "      <th>Survived</th>\n",
       "      <th>IsAlone</th>\n",
       "      <th>Deck</th>\n",
       "      <th>Embarked_Q</th>\n",
       "      <th>Embarked_S</th>\n",
       "      <th>Sex_male</th>\n",
       "      <th>Title_Miss</th>\n",
       "      <th>Title_Mr</th>\n",
       "      <th>Title_Mrs</th>\n",
       "      <th>Title_Others</th>\n",
       "      <th>AgeGroup_1.0</th>\n",
       "      <th>AgeGroup_2.0</th>\n",
       "      <th>AgeGroup_3.0</th>\n",
       "      <th>AgeGroup_4.0</th>\n",
       "    </tr>\n",
       "  </thead>\n",
       "  <tbody>\n",
       "    <tr>\n",
       "      <th>0</th>\n",
       "      <td>0.014151</td>\n",
       "      <td>1</td>\n",
       "      <td>1</td>\n",
       "      <td>1.0</td>\n",
       "      <td>0.0</td>\n",
       "      <td>0</td>\n",
       "      <td>0.000000</td>\n",
       "      <td>0</td>\n",
       "      <td>1</td>\n",
       "      <td>1</td>\n",
       "      <td>0</td>\n",
       "      <td>1</td>\n",
       "      <td>0</td>\n",
       "      <td>0</td>\n",
       "      <td>1</td>\n",
       "      <td>0</td>\n",
       "      <td>0</td>\n",
       "      <td>0</td>\n",
       "    </tr>\n",
       "    <tr>\n",
       "      <th>1</th>\n",
       "      <td>0.139136</td>\n",
       "      <td>1</td>\n",
       "      <td>2</td>\n",
       "      <td>0.0</td>\n",
       "      <td>1.0</td>\n",
       "      <td>0</td>\n",
       "      <td>0.714286</td>\n",
       "      <td>0</td>\n",
       "      <td>0</td>\n",
       "      <td>0</td>\n",
       "      <td>0</td>\n",
       "      <td>0</td>\n",
       "      <td>1</td>\n",
       "      <td>0</td>\n",
       "      <td>0</td>\n",
       "      <td>1</td>\n",
       "      <td>0</td>\n",
       "      <td>0</td>\n",
       "    </tr>\n",
       "    <tr>\n",
       "      <th>2</th>\n",
       "      <td>0.015469</td>\n",
       "      <td>1</td>\n",
       "      <td>3</td>\n",
       "      <td>1.0</td>\n",
       "      <td>1.0</td>\n",
       "      <td>1</td>\n",
       "      <td>0.000000</td>\n",
       "      <td>0</td>\n",
       "      <td>1</td>\n",
       "      <td>0</td>\n",
       "      <td>1</td>\n",
       "      <td>0</td>\n",
       "      <td>0</td>\n",
       "      <td>0</td>\n",
       "      <td>1</td>\n",
       "      <td>0</td>\n",
       "      <td>0</td>\n",
       "      <td>0</td>\n",
       "    </tr>\n",
       "    <tr>\n",
       "      <th>3</th>\n",
       "      <td>0.103644</td>\n",
       "      <td>1</td>\n",
       "      <td>4</td>\n",
       "      <td>0.0</td>\n",
       "      <td>1.0</td>\n",
       "      <td>0</td>\n",
       "      <td>0.714286</td>\n",
       "      <td>0</td>\n",
       "      <td>1</td>\n",
       "      <td>0</td>\n",
       "      <td>0</td>\n",
       "      <td>0</td>\n",
       "      <td>1</td>\n",
       "      <td>0</td>\n",
       "      <td>0</td>\n",
       "      <td>1</td>\n",
       "      <td>0</td>\n",
       "      <td>0</td>\n",
       "    </tr>\n",
       "    <tr>\n",
       "      <th>4</th>\n",
       "      <td>0.015713</td>\n",
       "      <td>1</td>\n",
       "      <td>5</td>\n",
       "      <td>1.0</td>\n",
       "      <td>0.0</td>\n",
       "      <td>1</td>\n",
       "      <td>0.000000</td>\n",
       "      <td>0</td>\n",
       "      <td>1</td>\n",
       "      <td>1</td>\n",
       "      <td>0</td>\n",
       "      <td>1</td>\n",
       "      <td>0</td>\n",
       "      <td>0</td>\n",
       "      <td>0</td>\n",
       "      <td>1</td>\n",
       "      <td>0</td>\n",
       "      <td>0</td>\n",
       "    </tr>\n",
       "  </tbody>\n",
       "</table>\n",
       "</div>"
      ],
      "text/plain": [
       "       Fare  IsTrain  PassengerId  Pclass  Survived  IsAlone      Deck  \\\n",
       "0  0.014151        1            1     1.0       0.0        0  0.000000   \n",
       "1  0.139136        1            2     0.0       1.0        0  0.714286   \n",
       "2  0.015469        1            3     1.0       1.0        1  0.000000   \n",
       "3  0.103644        1            4     0.0       1.0        0  0.714286   \n",
       "4  0.015713        1            5     1.0       0.0        1  0.000000   \n",
       "\n",
       "   Embarked_Q  Embarked_S  Sex_male  Title_Miss  Title_Mr  Title_Mrs  \\\n",
       "0           0           1         1           0         1          0   \n",
       "1           0           0         0           0         0          1   \n",
       "2           0           1         0           1         0          0   \n",
       "3           0           1         0           0         0          1   \n",
       "4           0           1         1           0         1          0   \n",
       "\n",
       "   Title_Others  AgeGroup_1.0  AgeGroup_2.0  AgeGroup_3.0  AgeGroup_4.0  \n",
       "0             0             1             0             0             0  \n",
       "1             0             0             1             0             0  \n",
       "2             0             1             0             0             0  \n",
       "3             0             0             1             0             0  \n",
       "4             0             0             1             0             0  "
      ]
     },
     "execution_count": 41,
     "metadata": {},
     "output_type": "execute_result"
    }
   ],
   "source": [
    "df.head()"
   ]
  },
  {
   "cell_type": "markdown",
   "metadata": {
    "_cell_guid": "8f0ec972-ee7a-4766-b59f-e30becf53b76",
    "_uuid": "dea9c5dd885727638ee0930b9f96538da9a42234"
   },
   "source": [
    "**F.1 Divide df to train dataset and holdout for final testing purpose**\n",
    "\n",
    "Before we continue to prediction section, let's divide again our data to **dataset** (formerly train data) and **holdout** (formerly test data)"
   ]
  },
  {
   "cell_type": "code",
   "execution_count": 42,
   "metadata": {
    "_cell_guid": "d8820c79-91d4-4283-8453-744e62ee58c5",
    "_uuid": "f4e9106755f5b20c7be8f3fa24ca21fd40930bfb",
    "collapsed": true
   },
   "outputs": [],
   "source": [
    "dataset = df[df['IsTrain']==1]\n",
    "dataset.drop(['IsTrain','PassengerId'],axis=1,inplace=True)\n",
    "holdout = df[df['IsTrain']==0]\n",
    "test_id = holdout['PassengerId']\n",
    "holdout.drop(['IsTrain','PassengerId','Survived'],axis=1,inplace=True)"
   ]
  },
  {
   "cell_type": "markdown",
   "metadata": {
    "_cell_guid": "254cafe2-2b28-450f-a956-949d6888bb21",
    "_uuid": "38eb6c6842cf5fbd932a36a6fa9d3950340f4079"
   },
   "source": [
    "**F.2 Balancing Dataset**\n",
    "\n",
    "in this part, I'll try to balance the prior of classes in train dataset to become 50% of survived passengers, and 50% not survived.\n",
    "\n",
    "*Update: not used in latest update since it lower the submission score. But we surely need to balance the prior in some other cases to get better prediction result*"
   ]
  },
  {
   "cell_type": "code",
   "execution_count": 43,
   "metadata": {
    "_cell_guid": "6ec8db7d-9406-462b-9404-820feb7a9ef5",
    "_uuid": "778a2a35ff1459b9e2942111fd080e87baecfe0d",
    "collapsed": true
   },
   "outputs": [],
   "source": [
    "class_one_total = int(np.sum(dataset['Survived']))\n",
    "class_zero_counter = 0\n",
    "indices_to_remove = []\n",
    "\n",
    "for i in range(dataset.shape[0]):\n",
    "    if(dataset['Survived'].iloc[i] == 0):\n",
    "        class_zero_counter += 1\n",
    "        if(class_zero_counter > class_one_total):\n",
    "            indices_to_remove.append(i)\n",
    "\n",
    "#dataset.drop(dataset.index[indices_to_remove],inplace=True)"
   ]
  },
  {
   "cell_type": "code",
   "execution_count": 44,
   "metadata": {
    "_cell_guid": "49457877-02a6-41cf-9e9e-edf5e21c47ad",
    "_uuid": "280a6962025cd97bf0f258e174f6497a14e37d96",
    "collapsed": true
   },
   "outputs": [
    {
     "data": {
      "text/plain": [
       "(342, 891)"
      ]
     },
     "execution_count": 44,
     "metadata": {},
     "output_type": "execute_result"
    }
   ],
   "source": [
    "int(np.sum(dataset['Survived'])), dataset.shape[0]"
   ]
  },
  {
   "cell_type": "code",
   "execution_count": 45,
   "metadata": {
    "_cell_guid": "9108b6fb-6682-4e7b-aa85-52588f7185db",
    "_uuid": "1f27fafedc335b788b754db80909d43f22605adc",
    "collapsed": true
   },
   "outputs": [],
   "source": [
    "df.to_csv('titanic_dataset_preprocessed.csv',index=False)"
   ]
  },
  {
   "cell_type": "markdown",
   "metadata": {
    "_cell_guid": "89783675-b331-42f2-871a-cf107de9415e",
    "_uuid": "1a492a617d6f3ee15db65afe496c23c4ea51dbc3"
   },
   "source": [
    "**G. PREDICTION**\n",
    "\n",
    "In this section, I'll do some work starts from splitting the dataset and do *cross_validation* with it, and maybe some *parameter tuning* to get better prediction result. Stay tune!!!"
   ]
  },
  {
   "cell_type": "markdown",
   "metadata": {
    "_cell_guid": "bacc3a4c-dbcb-4206-815a-9c487e7d2e12",
    "_uuid": "435b940150c591ece31e51afbeb2bf6ad1d40217"
   },
   "source": [
    "**G.1 Splitting the dataset**"
   ]
  },
  {
   "cell_type": "code",
   "execution_count": 46,
   "metadata": {
    "_cell_guid": "a65b079e-d4ab-4cd2-b4b0-a09842b5d083",
    "_uuid": "4e8e6e5677b2d69c244649ba8ca89c1e72262a3a",
    "collapsed": true
   },
   "outputs": [],
   "source": [
    "X = dataset.drop(['Survived'],axis=1)\n",
    "y = dataset['Survived'].astype('int')\n",
    "#X_train, X_test, y_train, y_test = train_test_split(X,y,random_state=42)"
   ]
  },
  {
   "cell_type": "markdown",
   "metadata": {
    "_cell_guid": "b06cb5a1-c9cc-42d2-be6a-bfb6b160bf1c",
    "_uuid": "b40437025faa6de8780234527815615b9ea63c93"
   },
   "source": [
    "**G.2 Model Creation**"
   ]
  },
  {
   "cell_type": "code",
   "execution_count": 47,
   "metadata": {
    "_cell_guid": "86460269-ff52-4c7f-bfc5-ef52955002f8",
    "_uuid": "0a4d7829f8f108d18e066b17547e3acbf23ee060",
    "collapsed": true
   },
   "outputs": [
    {
     "name": "stdout",
     "output_type": "stream",
     "text": [
      "0.744444444444\n",
      "0.85393258427\n",
      "0.820224719101\n",
      "0.831460674157\n",
      "0.831460674157\n",
      "0.831460674157\n",
      "0.786516853933\n",
      "0.85393258427\n",
      "0.797752808989\n",
      "0.887640449438\n",
      "Best Score:  0.887640449438\n"
     ]
    }
   ],
   "source": [
    "model = RandomForestClassifier()\n",
    "kf = KFold(n_splits=10,shuffle=True,random_state=101)\n",
    "score = 0\n",
    "train_indices, validation_indices = [],[]\n",
    "for curr_train_indices, curr_validation_indices in kf.split(X):\n",
    "    result = model.fit(X.iloc[curr_train_indices], y.iloc[curr_train_indices])\n",
    "    curr_score = result.score(X.iloc[curr_validation_indices],y.iloc[curr_validation_indices])\n",
    "    print(curr_score)\n",
    "    \n",
    "    if(curr_score > score):\n",
    "        score = curr_score\n",
    "        train_indices = curr_train_indices\n",
    "        validation_indices = curr_validation_indices\n",
    "print('Best Score: ',score)    "
   ]
  },
  {
   "cell_type": "code",
   "execution_count": 48,
   "metadata": {
    "_cell_guid": "cc780727-a374-41ef-aafe-28826b4ff2f7",
    "_uuid": "127bf3f2810ce7396f61a58f8c4bbcee6294961e",
    "collapsed": true
   },
   "outputs": [
    {
     "data": {
      "text/plain": [
       "GridSearchCV(cv=None, error_score='raise',\n",
       "       estimator=RandomForestClassifier(bootstrap=True, class_weight=None, criterion='gini',\n",
       "            max_depth=None, max_features='auto', max_leaf_nodes=None,\n",
       "            min_impurity_decrease=0.0, min_impurity_split=None,\n",
       "            min_samples_leaf=1, min_samples_split=2,\n",
       "            min_weight_fraction_leaf=0.0, n_estimators=10, n_jobs=1,\n",
       "            oob_score=False, random_state=None, verbose=0,\n",
       "            warm_start=False),\n",
       "       fit_params=None, iid=True, n_jobs=4,\n",
       "       param_grid=[{'n_estimators': [1, 10, 20, 50, 100, 1000, 3000], 'min_samples_leaf': [1, 2, 3, 4, 5], 'max_features': [3, 5, 7, 9, 10, 'auto']}],\n",
       "       pre_dispatch='2*n_jobs', refit=True, return_train_score='warn',\n",
       "       scoring=None, verbose=0)"
      ]
     },
     "execution_count": 48,
     "metadata": {},
     "output_type": "execute_result"
    }
   ],
   "source": [
    "param_grid = [\n",
    "  {'n_estimators':[1,10,20,50,100,1000,3000], 'min_samples_leaf':[1,2,3,4,5], 'max_features':[3,5,7,9,10,'auto']},\n",
    " ]\n",
    "grid = GridSearchCV(model,param_grid,n_jobs=4)\n",
    "grid.fit(X, y)"
   ]
  },
  {
   "cell_type": "code",
   "execution_count": 49,
   "metadata": {
    "_cell_guid": "d1b3ed2f-009a-41ff-ab0e-c8c175e35853",
    "_uuid": "13bdcb8111f07363d0ec508aa57b2e244f67bcfd",
    "collapsed": true
   },
   "outputs": [
    {
     "data": {
      "text/plain": [
       "({'max_features': 9, 'min_samples_leaf': 3, 'n_estimators': 20},\n",
       " 0.83838383838383834)"
      ]
     },
     "execution_count": 49,
     "metadata": {},
     "output_type": "execute_result"
    }
   ],
   "source": [
    "grid.best_params_, grid.best_score_"
   ]
  },
  {
   "cell_type": "code",
   "execution_count": 50,
   "metadata": {
    "_cell_guid": "be97b7ca-2075-42da-99ea-d1406f744280",
    "_uuid": "f6735090975783aaade1ceac0259a427e7d17949",
    "collapsed": true
   },
   "outputs": [],
   "source": [
    "predictions = grid.predict(holdout)"
   ]
  },
  {
   "cell_type": "markdown",
   "metadata": {
    "_cell_guid": "a55ef266-e321-4d58-b128-3c5a8744bee4",
    "_uuid": "a0ddbb263d98e9e43245aa8e540933437a888b76"
   },
   "source": [
    "**H. SUBMISSION**\n",
    "\n",
    "Finally, let's submit our result"
   ]
  },
  {
   "cell_type": "code",
   "execution_count": 51,
   "metadata": {
    "_cell_guid": "1da493c7-26ef-4f48-8fb9-36e62f8cfc98",
    "_uuid": "9f90ec531fab1b2184f4aeb24f33b5ad55b32942",
    "collapsed": true
   },
   "outputs": [],
   "source": [
    "submission = pd.DataFrame({\n",
    "    'PassengerId': test_id,\n",
    "    'Survived': predictions\n",
    "})\n",
    "\n",
    "submission.to_csv('submission.csv',index=False)"
   ]
  },
  {
   "cell_type": "markdown",
   "metadata": {
    "_cell_guid": "78c670bf-6f0e-453d-a67e-dd26780e32d4",
    "_uuid": "ad5ef6cdf53bd2d11599ee2430f2c221b5b92663"
   },
   "source": [
    "**Notes:**\n",
    "\n",
    "Like machine learning, I am still and always learning. In order to improve the result, I expect any idea or advice from you because I'm still a beginner in this field.\n",
    "\n",
    "thanks for reading my long journey and happy kaggling :)\n",
    "\n",
    "* Update 2018-01-11(2): Checked Embarked C graph which seems the color getting inversed between male and female. Solved using **Hue Order** parameter in seaborn pointplot.\n",
    "* Update 2018-01-11: Added GridSearchCV and change the classifier to RandomForestClassifier, *LB goes up again to 0.78*\n",
    "* Update 2018-01-10(4): trying to use KFold Cross Validation to train the model. Used SVM as the classifier.\n",
    "* Update 2018-01-10(3): **Removed Balancing Dataset**, submission score going up again *0.77990* yeay :D, but still more works to do.\n",
    "* Update 2018-01-10(2): Fixed some ordinal features from getting dummies to be scaled instead to keep the level information from ordinal features. *LB dropped to: 0.73684* T.T\n",
    "* Update 2018-01-10: Fixed filling test dataset (AGE) with information from test dataset (I used information from train dataset before.\n",
    "* Update 2018-01-09(2): Added sub section in **F. Final Data Preparation**, Balancing Dataset before doing any prediction. Submission score dropped to *0.77033*. Too bad :'D\n",
    "* Update 2018-01-09: Commented **train_test_split** since I am not really using it now. I'll try to learn how to use it properly in sklearn machine learning convention. Maybe if you have any good reference, please kindly share it to me :)"
   ]
  },
  {
   "cell_type": "code",
   "execution_count": 52,
   "metadata": {
    "_cell_guid": "e6b9b865-f348-4df9-a5ab-ebe7454cecec",
    "_uuid": "30160ed406ae4e514b5bb6221611869fe1e3c81b",
    "collapsed": true
   },
   "outputs": [],
   "source": []
  }
 ],
 "metadata": {
  "kernelspec": {
   "display_name": "Python 3",
   "language": "python",
   "name": "python3"
  },
  "language_info": {
   "codemirror_mode": {
    "name": "ipython",
    "version": 3
   },
   "file_extension": ".py",
   "mimetype": "text/x-python",
   "name": "python",
   "nbconvert_exporter": "python",
   "pygments_lexer": "ipython3",
   "version": "3.6.4"
  }
 },
 "nbformat": 4,
 "nbformat_minor": 1
}
