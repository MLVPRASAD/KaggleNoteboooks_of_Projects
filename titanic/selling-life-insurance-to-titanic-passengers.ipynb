{
 "cells": [
  {
   "cell_type": "markdown",
   "metadata": {
    "_uuid": "5f3ccaaac79bc50906ae2b831c1089965838753e"
   },
   "source": [
    "# Would you sell a life insurance to the Titanic passengers?"
   ]
  },
  {
   "cell_type": "markdown",
   "metadata": {
    "_uuid": "5265419c265046340ee4b4d462513386f631f9cb"
   },
   "source": [
    "Thanks for **UPVOTING** this kernel! Trying to become a Kernel Expert. 👍\n",
    "\n",
    "> Check out other interesting projects related to Titanic by Pavlo Fesenko:\n",
    "- [(kernel) How to extend Titanic dataset using Wikipedia?](https://www.kaggle.com/pavlofesenko/extending-titanic-dataset-using-wikipedia)\n",
    "- [(dataset) Titanic extended (Kaggle + Wikipedia)](https://www.kaggle.com/pavlofesenko/titanic-extended)\n",
    "\n",
    "---\n",
    "## Table of contents:\n",
    "1. [Problem description](#1.-Problem-description)\n",
    "2. [How is this problem different from the regular classification?](#2.-How-is-this-problem-different-from-the-regular-classification?)\n",
    "3. [Preparing the data](#3.-Preparing-the-data)\n",
    "4. [Training the model and adjusting precision](#4.-Training-the-model-and-adjusting-precision)\n",
    "5. [Conclusion](#5.-Conclusion)"
   ]
  },
  {
   "cell_type": "markdown",
   "metadata": {
    "_uuid": "0b98fa7f26a4e7bc92dcd51bda32a2b2b7ecd1b6"
   },
   "source": [
    "## 1. Problem description\n",
    "\n",
    "Imagine that you have to decide whether to sell life insurances to the Titanic passengers and you know in advance that the ship is going to sink. Moreover, you have somehow obtained the anonymized features of the victims and survivors.\n",
    "\n",
    "> *Could you minimize the number of insurance claims from the victims and at the same time maximize the total number of insurances that are sold to the passengers*?\n",
    "\n",
    "This approach could be, for example, used by the insurance agencies that sell life insurances for high-risk clients with high-risk profession, habits, diseases, etc."
   ]
  },
  {
   "cell_type": "markdown",
   "metadata": {
    "_uuid": "9abde72048a1bba25cb9dbebcfc1cc82695f51d1"
   },
   "source": [
    "## 2. How is this problem different from the regular classification?\n",
    "\n",
    "<img align=\"right\" src=\"https://upload.wikimedia.org/wikipedia/commons/thumb/2/26/Precisionrecall.svg/350px-Precisionrecall.svg.png\">\n",
    "\n",
    "Let's have a look at the results of the classification model that will be further described in Part 4:\n",
    "* Correct predictions: 177 (survivors 61, victims 116)\n",
    "* Wrong predictions: 46 (survivors 23, victims 23)\n",
    "\n",
    "The overall accuracy score of this model seems to be quite good 177 / (177 + 46) = 0.79 but is it also good for our particular problem?\n",
    "\n",
    "Note that this model has wrongly predicted 23 survivors (that actually died) meaning that the insurance agency has sold them insurances and now has to pay 23 insurance claims to the relatives of these victims. This is a huge cost! Ideally we want the number of wrongly predicted survivors to be 0. This type of wrong predictions is called *false positives* (see the figure on the right, cited from [Wikipedia](https://en.wikipedia.org/wiki/Precision_and_recall)).\n",
    "\n",
    "On the other hand, the model has wrongly predicted 23 victims (that actually survived) meaning that the agency hasn't sold 23 insurances to these people and lost potential customers. Nevertheless, this loss is significantly lower compared to the previous one since the cost of the insurance package is typically much lower than the cost of the insurance claim. This type of wrong predictions is called *false negatives* (see the figure).\n",
    "\n",
    "To conclude, the incurance agency would prefer to **minimize the number of false positives** even if it might increase the number of false negatives.\n",
    "\n",
    "For this purpose we will use the concepts of *precision* and *recall* that are defined below in the figure. As one can see from this definitions, **maximizing the precision minimizes the number of false positives**.\n",
    "\n",
    "But how do we adjust our model to maximize the precision of the survivors? To make the long story short, we will need to adjust the threshold for class probabilities predicted by our model using a *Precision-Recall (or PR) curve*. More on that will come in the Part 4."
   ]
  },
  {
   "cell_type": "markdown",
   "metadata": {
    "_uuid": "92608eb6044bcef85addd520d67a6ed6109baf3a"
   },
   "source": [
    "## 3. Preparing the data\n",
    "\n",
    "Before we build our model using machine learning algorithms, let's prepare our dataset. We will go through the following stages:\n",
    "1. Importing the data\n",
    "2. Selecting the feature matrix `X` and the target column `y` (*supervised learning*)\n",
    "3. Scaling numeric features\n",
    "4. Encoding categorical features\n",
    "5. Splitting the whole dataset into training and testing datasets\n",
    "\n",
    "In the very beginning don't forget to import the required libraries. =)"
   ]
  },
  {
   "cell_type": "code",
   "execution_count": 1,
   "metadata": {
    "_uuid": "4ec45db34adb6115b815190b1603bff0a4b340d2"
   },
   "outputs": [],
   "source": [
    "# Silencing warnings from scikit-learn\n",
    "import warnings\n",
    "warnings.filterwarnings(\"ignore\")\n",
    "\n",
    "# Importing libraries\n",
    "import numpy as np\n",
    "import pandas as pd\n",
    "from matplotlib import pyplot as plt\n",
    "from sklearn import model_selection, linear_model, metrics"
   ]
  },
  {
   "cell_type": "markdown",
   "metadata": {
    "_uuid": "bf4901bdb512278667b520d73a3c710acba1d6f8"
   },
   "source": [
    "For the purpose of this demonstration we will only use the file `train.csv` that contains the target column."
   ]
  },
  {
   "cell_type": "code",
   "execution_count": 2,
   "metadata": {
    "_uuid": "f817de5ec48cff8d06141e0d3f45bb10d8ab991c",
    "scrolled": true
   },
   "outputs": [
    {
     "data": {
      "text/html": [
       "<div>\n",
       "<style scoped>\n",
       "    .dataframe tbody tr th:only-of-type {\n",
       "        vertical-align: middle;\n",
       "    }\n",
       "\n",
       "    .dataframe tbody tr th {\n",
       "        vertical-align: top;\n",
       "    }\n",
       "\n",
       "    .dataframe thead th {\n",
       "        text-align: right;\n",
       "    }\n",
       "</style>\n",
       "<table border=\"1\" class=\"dataframe\">\n",
       "  <thead>\n",
       "    <tr style=\"text-align: right;\">\n",
       "      <th></th>\n",
       "      <th>PassengerId</th>\n",
       "      <th>Survived</th>\n",
       "      <th>Pclass</th>\n",
       "      <th>Name</th>\n",
       "      <th>Sex</th>\n",
       "      <th>Age</th>\n",
       "      <th>SibSp</th>\n",
       "      <th>Parch</th>\n",
       "      <th>Ticket</th>\n",
       "      <th>Fare</th>\n",
       "      <th>Cabin</th>\n",
       "      <th>Embarked</th>\n",
       "    </tr>\n",
       "  </thead>\n",
       "  <tbody>\n",
       "    <tr>\n",
       "      <th>0</th>\n",
       "      <td>1</td>\n",
       "      <td>0</td>\n",
       "      <td>3</td>\n",
       "      <td>Braund, Mr. Owen Harris</td>\n",
       "      <td>male</td>\n",
       "      <td>22.0</td>\n",
       "      <td>1</td>\n",
       "      <td>0</td>\n",
       "      <td>A/5 21171</td>\n",
       "      <td>7.2500</td>\n",
       "      <td>NaN</td>\n",
       "      <td>S</td>\n",
       "    </tr>\n",
       "    <tr>\n",
       "      <th>1</th>\n",
       "      <td>2</td>\n",
       "      <td>1</td>\n",
       "      <td>1</td>\n",
       "      <td>Cumings, Mrs. John Bradley (Florence Briggs Th...</td>\n",
       "      <td>female</td>\n",
       "      <td>38.0</td>\n",
       "      <td>1</td>\n",
       "      <td>0</td>\n",
       "      <td>PC 17599</td>\n",
       "      <td>71.2833</td>\n",
       "      <td>C85</td>\n",
       "      <td>C</td>\n",
       "    </tr>\n",
       "    <tr>\n",
       "      <th>2</th>\n",
       "      <td>3</td>\n",
       "      <td>1</td>\n",
       "      <td>3</td>\n",
       "      <td>Heikkinen, Miss. Laina</td>\n",
       "      <td>female</td>\n",
       "      <td>26.0</td>\n",
       "      <td>0</td>\n",
       "      <td>0</td>\n",
       "      <td>STON/O2. 3101282</td>\n",
       "      <td>7.9250</td>\n",
       "      <td>NaN</td>\n",
       "      <td>S</td>\n",
       "    </tr>\n",
       "    <tr>\n",
       "      <th>3</th>\n",
       "      <td>4</td>\n",
       "      <td>1</td>\n",
       "      <td>1</td>\n",
       "      <td>Futrelle, Mrs. Jacques Heath (Lily May Peel)</td>\n",
       "      <td>female</td>\n",
       "      <td>35.0</td>\n",
       "      <td>1</td>\n",
       "      <td>0</td>\n",
       "      <td>113803</td>\n",
       "      <td>53.1000</td>\n",
       "      <td>C123</td>\n",
       "      <td>S</td>\n",
       "    </tr>\n",
       "    <tr>\n",
       "      <th>4</th>\n",
       "      <td>5</td>\n",
       "      <td>0</td>\n",
       "      <td>3</td>\n",
       "      <td>Allen, Mr. William Henry</td>\n",
       "      <td>male</td>\n",
       "      <td>35.0</td>\n",
       "      <td>0</td>\n",
       "      <td>0</td>\n",
       "      <td>373450</td>\n",
       "      <td>8.0500</td>\n",
       "      <td>NaN</td>\n",
       "      <td>S</td>\n",
       "    </tr>\n",
       "  </tbody>\n",
       "</table>\n",
       "</div>"
      ],
      "text/plain": [
       "   PassengerId  Survived  Pclass    ...        Fare Cabin  Embarked\n",
       "0            1         0       3    ...      7.2500   NaN         S\n",
       "1            2         1       1    ...     71.2833   C85         C\n",
       "2            3         1       3    ...      7.9250   NaN         S\n",
       "3            4         1       1    ...     53.1000  C123         S\n",
       "4            5         0       3    ...      8.0500   NaN         S\n",
       "\n",
       "[5 rows x 12 columns]"
      ]
     },
     "execution_count": 2,
     "metadata": {},
     "output_type": "execute_result"
    }
   ],
   "source": [
    "# Importing data\n",
    "data = pd.read_csv('../input/train.csv')\n",
    "data.head()"
   ]
  },
  {
   "cell_type": "markdown",
   "metadata": {
    "_uuid": "bbd67f8da472fdfc27cd3cc28cb3ae72c7b998a6"
   },
   "source": [
    "The columns `PassengerId`, `Name`, `Ticket`, `Cabin` are excluded from the feature matrix `X` because the column `PassengerId` doesn't provide any useful information and the columns `Name`, `Ticket`, `Cabin` don't represent neither numeric nor categorical features. These columns can be used to generarte new features but it is an advanced topic and isn't covered in this kernel."
   ]
  },
  {
   "cell_type": "code",
   "execution_count": 3,
   "metadata": {
    "_uuid": "a4abbbe07b31dffc3a6fec9d679ce8ea1d25089a"
   },
   "outputs": [
    {
     "data": {
      "text/html": [
       "<div>\n",
       "<style scoped>\n",
       "    .dataframe tbody tr th:only-of-type {\n",
       "        vertical-align: middle;\n",
       "    }\n",
       "\n",
       "    .dataframe tbody tr th {\n",
       "        vertical-align: top;\n",
       "    }\n",
       "\n",
       "    .dataframe thead th {\n",
       "        text-align: right;\n",
       "    }\n",
       "</style>\n",
       "<table border=\"1\" class=\"dataframe\">\n",
       "  <thead>\n",
       "    <tr style=\"text-align: right;\">\n",
       "      <th></th>\n",
       "      <th>Pclass</th>\n",
       "      <th>Sex</th>\n",
       "      <th>Age</th>\n",
       "      <th>SibSp</th>\n",
       "      <th>Parch</th>\n",
       "      <th>Fare</th>\n",
       "      <th>Embarked</th>\n",
       "    </tr>\n",
       "  </thead>\n",
       "  <tbody>\n",
       "    <tr>\n",
       "      <th>0</th>\n",
       "      <td>3</td>\n",
       "      <td>male</td>\n",
       "      <td>22.0</td>\n",
       "      <td>1</td>\n",
       "      <td>0</td>\n",
       "      <td>7.2500</td>\n",
       "      <td>S</td>\n",
       "    </tr>\n",
       "    <tr>\n",
       "      <th>1</th>\n",
       "      <td>1</td>\n",
       "      <td>female</td>\n",
       "      <td>38.0</td>\n",
       "      <td>1</td>\n",
       "      <td>0</td>\n",
       "      <td>71.2833</td>\n",
       "      <td>C</td>\n",
       "    </tr>\n",
       "    <tr>\n",
       "      <th>2</th>\n",
       "      <td>3</td>\n",
       "      <td>female</td>\n",
       "      <td>26.0</td>\n",
       "      <td>0</td>\n",
       "      <td>0</td>\n",
       "      <td>7.9250</td>\n",
       "      <td>S</td>\n",
       "    </tr>\n",
       "    <tr>\n",
       "      <th>3</th>\n",
       "      <td>1</td>\n",
       "      <td>female</td>\n",
       "      <td>35.0</td>\n",
       "      <td>1</td>\n",
       "      <td>0</td>\n",
       "      <td>53.1000</td>\n",
       "      <td>S</td>\n",
       "    </tr>\n",
       "    <tr>\n",
       "      <th>4</th>\n",
       "      <td>3</td>\n",
       "      <td>male</td>\n",
       "      <td>35.0</td>\n",
       "      <td>0</td>\n",
       "      <td>0</td>\n",
       "      <td>8.0500</td>\n",
       "      <td>S</td>\n",
       "    </tr>\n",
       "  </tbody>\n",
       "</table>\n",
       "</div>"
      ],
      "text/plain": [
       "   Pclass     Sex   Age  SibSp  Parch     Fare Embarked\n",
       "0       3    male  22.0      1      0   7.2500        S\n",
       "1       1  female  38.0      1      0  71.2833        C\n",
       "2       3  female  26.0      0      0   7.9250        S\n",
       "3       1  female  35.0      1      0  53.1000        S\n",
       "4       3    male  35.0      0      0   8.0500        S"
      ]
     },
     "execution_count": 3,
     "metadata": {},
     "output_type": "execute_result"
    }
   ],
   "source": [
    "# Selecting the target column and the feature matrix\n",
    "y = data['Survived']\n",
    "X = data.drop(['Survived', 'PassengerId', 'Name', 'Ticket', 'Cabin'], axis=1)\n",
    "X.head()"
   ]
  },
  {
   "cell_type": "code",
   "execution_count": 4,
   "metadata": {
    "_uuid": "db7b5a3449a0768df46ff6aa4e6a9b5d279b3248"
   },
   "outputs": [
    {
     "name": "stdout",
     "output_type": "stream",
     "text": [
      "<class 'pandas.core.frame.DataFrame'>\n",
      "RangeIndex: 891 entries, 0 to 890\n",
      "Data columns (total 7 columns):\n",
      "Pclass      891 non-null int64\n",
      "Sex         891 non-null object\n",
      "Age         714 non-null float64\n",
      "SibSp       891 non-null int64\n",
      "Parch       891 non-null int64\n",
      "Fare        891 non-null float64\n",
      "Embarked    889 non-null object\n",
      "dtypes: float64(2), int64(3), object(2)\n",
      "memory usage: 48.8+ KB\n"
     ]
    }
   ],
   "source": [
    "# Checking the types of the columns and if they contain missing values\n",
    "X.info()"
   ]
  },
  {
   "cell_type": "markdown",
   "metadata": {
    "_uuid": "8492f1f76579a556e76a81ea51fdfd24c6935369"
   },
   "source": [
    "The numeric and categorical features are separated since different prepocessing strategies are applied to them. Note that `Pclass` can be also considered a categorical feature. But since there is an order in the class numbers according to the luxury level (*ordinal feature*), it can be treated as numeric."
   ]
  },
  {
   "cell_type": "code",
   "execution_count": 5,
   "metadata": {
    "_uuid": "6e92a3ccdf2fa139db3c8d65789df4cf2df96bf9"
   },
   "outputs": [],
   "source": [
    "# Separating the feature matrix according to numeric and categorical features\n",
    "num_feat = X.select_dtypes('number').columns.values\n",
    "cat_feat = X.select_dtypes('object').columns.values\n",
    "X_num = X[num_feat]\n",
    "X_cat = X[cat_feat]"
   ]
  },
  {
   "cell_type": "markdown",
   "metadata": {
    "_uuid": "1b788a3c7068549d5c1ddc37efe0b412987e62d0"
   },
   "source": [
    "*Scaling* the numerical features below is important for convergence in some machine learning algorithms (for example, based on gradient descent). As a scaling method we chose standardization. Note that the NaN elements are filled in with the mean values of the corresponding columns."
   ]
  },
  {
   "cell_type": "code",
   "execution_count": 6,
   "metadata": {
    "_uuid": "5a4044a1d5a58b93ec8ecd568946b7e77bc58518"
   },
   "outputs": [
    {
     "data": {
      "text/html": [
       "<div>\n",
       "<style scoped>\n",
       "    .dataframe tbody tr th:only-of-type {\n",
       "        vertical-align: middle;\n",
       "    }\n",
       "\n",
       "    .dataframe tbody tr th {\n",
       "        vertical-align: top;\n",
       "    }\n",
       "\n",
       "    .dataframe thead th {\n",
       "        text-align: right;\n",
       "    }\n",
       "</style>\n",
       "<table border=\"1\" class=\"dataframe\">\n",
       "  <thead>\n",
       "    <tr style=\"text-align: right;\">\n",
       "      <th></th>\n",
       "      <th>Pclass</th>\n",
       "      <th>Age</th>\n",
       "      <th>SibSp</th>\n",
       "      <th>Parch</th>\n",
       "      <th>Fare</th>\n",
       "    </tr>\n",
       "  </thead>\n",
       "  <tbody>\n",
       "    <tr>\n",
       "      <th>0</th>\n",
       "      <td>0.826913</td>\n",
       "      <td>-0.530005</td>\n",
       "      <td>0.432550</td>\n",
       "      <td>-0.473408</td>\n",
       "      <td>-0.502163</td>\n",
       "    </tr>\n",
       "    <tr>\n",
       "      <th>1</th>\n",
       "      <td>-1.565228</td>\n",
       "      <td>0.571430</td>\n",
       "      <td>0.432550</td>\n",
       "      <td>-0.473408</td>\n",
       "      <td>0.786404</td>\n",
       "    </tr>\n",
       "    <tr>\n",
       "      <th>2</th>\n",
       "      <td>0.826913</td>\n",
       "      <td>-0.254646</td>\n",
       "      <td>-0.474279</td>\n",
       "      <td>-0.473408</td>\n",
       "      <td>-0.488580</td>\n",
       "    </tr>\n",
       "    <tr>\n",
       "      <th>3</th>\n",
       "      <td>-1.565228</td>\n",
       "      <td>0.364911</td>\n",
       "      <td>0.432550</td>\n",
       "      <td>-0.473408</td>\n",
       "      <td>0.420494</td>\n",
       "    </tr>\n",
       "    <tr>\n",
       "      <th>4</th>\n",
       "      <td>0.826913</td>\n",
       "      <td>0.364911</td>\n",
       "      <td>-0.474279</td>\n",
       "      <td>-0.473408</td>\n",
       "      <td>-0.486064</td>\n",
       "    </tr>\n",
       "  </tbody>\n",
       "</table>\n",
       "</div>"
      ],
      "text/plain": [
       "     Pclass       Age     SibSp     Parch      Fare\n",
       "0  0.826913 -0.530005  0.432550 -0.473408 -0.502163\n",
       "1 -1.565228  0.571430  0.432550 -0.473408  0.786404\n",
       "2  0.826913 -0.254646 -0.474279 -0.473408 -0.488580\n",
       "3 -1.565228  0.364911  0.432550 -0.473408  0.420494\n",
       "4  0.826913  0.364911 -0.474279 -0.473408 -0.486064"
      ]
     },
     "execution_count": 6,
     "metadata": {},
     "output_type": "execute_result"
    }
   ],
   "source": [
    "# Scaling the numeric features using standardization\n",
    "X_num = (X_num - X_num.mean()) / X_num.std()\n",
    "X_num = X_num.fillna(X_num.mean())\n",
    "X_num.head()"
   ]
  },
  {
   "cell_type": "markdown",
   "metadata": {
    "_uuid": "0a8bf261c3efdc4e29b4b96a07ac947ca8eb151a"
   },
   "source": [
    "*Encoding* the categorical features below is required since the machine learning algorithms work with numbers and not with strings. As an encoding method we chose one-hot encoding with dummmy variables. Note that the NaN elements are encoded with all 0 in the dummy variables so their additional filling is not required."
   ]
  },
  {
   "cell_type": "code",
   "execution_count": 7,
   "metadata": {
    "_uuid": "00dd8762963e7936efffc2fdeece888d1de7a352"
   },
   "outputs": [
    {
     "data": {
      "text/html": [
       "<div>\n",
       "<style scoped>\n",
       "    .dataframe tbody tr th:only-of-type {\n",
       "        vertical-align: middle;\n",
       "    }\n",
       "\n",
       "    .dataframe tbody tr th {\n",
       "        vertical-align: top;\n",
       "    }\n",
       "\n",
       "    .dataframe thead th {\n",
       "        text-align: right;\n",
       "    }\n",
       "</style>\n",
       "<table border=\"1\" class=\"dataframe\">\n",
       "  <thead>\n",
       "    <tr style=\"text-align: right;\">\n",
       "      <th></th>\n",
       "      <th>Sex_female</th>\n",
       "      <th>Sex_male</th>\n",
       "      <th>Embarked_C</th>\n",
       "      <th>Embarked_Q</th>\n",
       "      <th>Embarked_S</th>\n",
       "    </tr>\n",
       "  </thead>\n",
       "  <tbody>\n",
       "    <tr>\n",
       "      <th>0</th>\n",
       "      <td>0</td>\n",
       "      <td>1</td>\n",
       "      <td>0</td>\n",
       "      <td>0</td>\n",
       "      <td>1</td>\n",
       "    </tr>\n",
       "    <tr>\n",
       "      <th>1</th>\n",
       "      <td>1</td>\n",
       "      <td>0</td>\n",
       "      <td>1</td>\n",
       "      <td>0</td>\n",
       "      <td>0</td>\n",
       "    </tr>\n",
       "    <tr>\n",
       "      <th>2</th>\n",
       "      <td>1</td>\n",
       "      <td>0</td>\n",
       "      <td>0</td>\n",
       "      <td>0</td>\n",
       "      <td>1</td>\n",
       "    </tr>\n",
       "    <tr>\n",
       "      <th>3</th>\n",
       "      <td>1</td>\n",
       "      <td>0</td>\n",
       "      <td>0</td>\n",
       "      <td>0</td>\n",
       "      <td>1</td>\n",
       "    </tr>\n",
       "    <tr>\n",
       "      <th>4</th>\n",
       "      <td>0</td>\n",
       "      <td>1</td>\n",
       "      <td>0</td>\n",
       "      <td>0</td>\n",
       "      <td>1</td>\n",
       "    </tr>\n",
       "  </tbody>\n",
       "</table>\n",
       "</div>"
      ],
      "text/plain": [
       "   Sex_female  Sex_male  Embarked_C  Embarked_Q  Embarked_S\n",
       "0           0         1           0           0           1\n",
       "1           1         0           1           0           0\n",
       "2           1         0           0           0           1\n",
       "3           1         0           0           0           1\n",
       "4           0         1           0           0           1"
      ]
     },
     "execution_count": 7,
     "metadata": {},
     "output_type": "execute_result"
    }
   ],
   "source": [
    "# Encoding the categorical features using one-hot encoding\n",
    "X_cat = pd.get_dummies(X_cat)\n",
    "X_cat.head()"
   ]
  },
  {
   "cell_type": "code",
   "execution_count": 8,
   "metadata": {
    "_uuid": "428e0e9a6d90ff3e43f321f04ae35d8fe430831e"
   },
   "outputs": [
    {
     "data": {
      "text/html": [
       "<div>\n",
       "<style scoped>\n",
       "    .dataframe tbody tr th:only-of-type {\n",
       "        vertical-align: middle;\n",
       "    }\n",
       "\n",
       "    .dataframe tbody tr th {\n",
       "        vertical-align: top;\n",
       "    }\n",
       "\n",
       "    .dataframe thead th {\n",
       "        text-align: right;\n",
       "    }\n",
       "</style>\n",
       "<table border=\"1\" class=\"dataframe\">\n",
       "  <thead>\n",
       "    <tr style=\"text-align: right;\">\n",
       "      <th></th>\n",
       "      <th>Pclass</th>\n",
       "      <th>Age</th>\n",
       "      <th>SibSp</th>\n",
       "      <th>Parch</th>\n",
       "      <th>Fare</th>\n",
       "      <th>Sex_female</th>\n",
       "      <th>Sex_male</th>\n",
       "      <th>Embarked_C</th>\n",
       "      <th>Embarked_Q</th>\n",
       "      <th>Embarked_S</th>\n",
       "    </tr>\n",
       "  </thead>\n",
       "  <tbody>\n",
       "    <tr>\n",
       "      <th>0</th>\n",
       "      <td>0.826913</td>\n",
       "      <td>-0.530005</td>\n",
       "      <td>0.432550</td>\n",
       "      <td>-0.473408</td>\n",
       "      <td>-0.502163</td>\n",
       "      <td>0</td>\n",
       "      <td>1</td>\n",
       "      <td>0</td>\n",
       "      <td>0</td>\n",
       "      <td>1</td>\n",
       "    </tr>\n",
       "    <tr>\n",
       "      <th>1</th>\n",
       "      <td>-1.565228</td>\n",
       "      <td>0.571430</td>\n",
       "      <td>0.432550</td>\n",
       "      <td>-0.473408</td>\n",
       "      <td>0.786404</td>\n",
       "      <td>1</td>\n",
       "      <td>0</td>\n",
       "      <td>1</td>\n",
       "      <td>0</td>\n",
       "      <td>0</td>\n",
       "    </tr>\n",
       "    <tr>\n",
       "      <th>2</th>\n",
       "      <td>0.826913</td>\n",
       "      <td>-0.254646</td>\n",
       "      <td>-0.474279</td>\n",
       "      <td>-0.473408</td>\n",
       "      <td>-0.488580</td>\n",
       "      <td>1</td>\n",
       "      <td>0</td>\n",
       "      <td>0</td>\n",
       "      <td>0</td>\n",
       "      <td>1</td>\n",
       "    </tr>\n",
       "    <tr>\n",
       "      <th>3</th>\n",
       "      <td>-1.565228</td>\n",
       "      <td>0.364911</td>\n",
       "      <td>0.432550</td>\n",
       "      <td>-0.473408</td>\n",
       "      <td>0.420494</td>\n",
       "      <td>1</td>\n",
       "      <td>0</td>\n",
       "      <td>0</td>\n",
       "      <td>0</td>\n",
       "      <td>1</td>\n",
       "    </tr>\n",
       "    <tr>\n",
       "      <th>4</th>\n",
       "      <td>0.826913</td>\n",
       "      <td>0.364911</td>\n",
       "      <td>-0.474279</td>\n",
       "      <td>-0.473408</td>\n",
       "      <td>-0.486064</td>\n",
       "      <td>0</td>\n",
       "      <td>1</td>\n",
       "      <td>0</td>\n",
       "      <td>0</td>\n",
       "      <td>1</td>\n",
       "    </tr>\n",
       "  </tbody>\n",
       "</table>\n",
       "</div>"
      ],
      "text/plain": [
       "     Pclass       Age     SibSp     ...      Embarked_C  Embarked_Q  Embarked_S\n",
       "0  0.826913 -0.530005  0.432550     ...               0           0           1\n",
       "1 -1.565228  0.571430  0.432550     ...               1           0           0\n",
       "2  0.826913 -0.254646 -0.474279     ...               0           0           1\n",
       "3 -1.565228  0.364911  0.432550     ...               0           0           1\n",
       "4  0.826913  0.364911 -0.474279     ...               0           0           1\n",
       "\n",
       "[5 rows x 10 columns]"
      ]
     },
     "execution_count": 8,
     "metadata": {},
     "output_type": "execute_result"
    }
   ],
   "source": [
    "# Combining processed numeric and categorical features in one feature matrix\n",
    "X = pd.concat([X_num, X_cat], axis=1)\n",
    "X.head()"
   ]
  },
  {
   "cell_type": "markdown",
   "metadata": {
    "_uuid": "6678e3ae474a3c430a649a17ade2b81099bc8916"
   },
   "source": [
    "The random state for the splitting below is fixed so that others could reproduce my results."
   ]
  },
  {
   "cell_type": "code",
   "execution_count": 9,
   "metadata": {
    "_uuid": "285dcbdb68b2146cbc100b6863fdf52146512927",
    "scrolled": true
   },
   "outputs": [],
   "source": [
    "# Splitting the final dataset into training and testing datasets\n",
    "X_train, X_test, y_train, y_test = model_selection.train_test_split(X, y, random_state=0)"
   ]
  },
  {
   "cell_type": "markdown",
   "metadata": {
    "_uuid": "b02459f153adf8e0a90185534fec43f41610af09"
   },
   "source": [
    "## 4. Training the model and adjusting precision\n",
    "\n",
    "As mentioned in the Part 1, to minimize the insurance claims from the victims we need to minimize the number of false positive errors or equivalently maximize the precision. This statement is obvious from the definition of the latter\n",
    "\n",
    "$$ \\text{Precision} = \\frac{\\text{true positives}}{\\text{true positives + false positives}} $$.\n",
    "\n",
    "In order to avoid false positives when predicting survived passengers, the classification threshold needs to clearly separate the training group of died passengers (true negatives or TN) from the rest (see the figure A below, cited from [Towards Data Science](https://towardsdatascience.com/fine-tuning-a-classifier-in-scikit-learn-66e048c21e65)).\n",
    "\n",
    "<img src=\"https://cdn-images-1.medium.com/max/800/1*J8kWRRekByVSJi8XDTSsgw.jpeg\">\n",
    "\n",
    "For example, for classification models that use a logistic loss function, this is a probability threshold (0.5 by default) for the outcome probabilities predicted by the model. If the predicted probability is higher than this threshold, the object is considered to be class \"1\" (survived passengers), otherwise the object is labeled to be class \"0\" (died passengers). To maximize the precision of survived passengers, the probability threshold needs to be much closer to 1.0 so that we only predict the survival of the passengers when the model thinks they have very high chances.\n",
    "\n",
    "Variation of the classification threshold changes not only precision but also recall. To visualize these changes data scientists make a *Precision-Recall (or PR) curve*. Using this curve we can identify the point of maximum precision and the corresponding threshold.\n",
    "\n",
    "For this problem I have chosen the classifier based on *stochastic gradient descent (or SGD)* with a logistic loss function. SGD is typically used for much larger datasets so other algorithms (for example, logistic regression) would be more appropriate here. However, SGD was one of the first classification algorithms that I learned and it is also great to demonstrate the importance of scaling the numeric features mentioned in Part 3."
   ]
  },
  {
   "cell_type": "code",
   "execution_count": 10,
   "metadata": {
    "_uuid": "c81c88c4cd7ecc0e86c5e36f3ef30534e57a0ea7"
   },
   "outputs": [
    {
     "data": {
      "text/plain": [
       "0.7937219730941704"
      ]
     },
     "execution_count": 10,
     "metadata": {},
     "output_type": "execute_result"
    }
   ],
   "source": [
    "# Fitting the model and printing the accuracy score\n",
    "model = linear_model.SGDClassifier(loss='log', max_iter=2000, random_state=0) # Random state is fixed for reproducibility\n",
    "model.fit(X_train, y_train)\n",
    "y_pred = model.predict(X_test)\n",
    "metrics.accuracy_score(y_test, y_pred)"
   ]
  },
  {
   "cell_type": "markdown",
   "metadata": {
    "_uuid": "0ea4ae7a41789bbe42b0da0ab24234812e8ac8fc"
   },
   "source": [
    "Since SGD calculates the gradient only of the random part of the dataset (hence the name \"stochastic\"), the accuracy score might decrease after some of the iterations. Nevertheless, the score should be converging. This convergence should always be checked to ensure that the optimum point is reached. On the plot below the model converged after 1500 iterations so this or higher value should be used for the maximum number of iterations. Above we used 2000 iterations so it should suffice.\n",
    "\n",
    "**Try it yourself:** Scaling of the numeric features helps a lot with the convergence of the SGD classifier. Try to comment the code that does scaling and rerun all the cells. You will see that the convergence doesn't occur. In this case you need to set the parameter `learning_rate='constant'` and manually decrease the parameter `eta0` until the convergence occurs again."
   ]
  },
  {
   "cell_type": "code",
   "execution_count": 11,
   "metadata": {
    "_uuid": "20a99b03461c50a4e304da8c8a6895955e8db022"
   },
   "outputs": [
    {
     "data": {
      "image/png": "[encoded data removed]",
      "text/plain": [
       "<Figure size 432x288 with 1 Axes>"
      ]
     },
     "metadata": {},
     "output_type": "display_data"
    }
   ],
   "source": [
    "# Checking the convergence of the model\n",
    "n_iter = np.linspace(1, 3000)\n",
    "scores = np.array([])\n",
    "for n in n_iter:\n",
    "    model = linear_model.SGDClassifier(loss='log', max_iter=n, random_state=0)\n",
    "    model.fit(X_train, y_train)\n",
    "    scores = np.append(scores, model.score(X_test, y_test))\n",
    "    \n",
    "plt.plot(n_iter, scores)\n",
    "plt.xlabel('Number of iterations')\n",
    "plt.ylabel('Accuracy')\n",
    "plt.show()"
   ]
  },
  {
   "cell_type": "markdown",
   "metadata": {
    "_uuid": "9b3cacc2842c1369a8ad1e160e3d0b3a9f1bd290"
   },
   "source": [
    "Now that the convergence is confirmed, let's calculate the confusion matrix of our model. These values were used in Part 1 to explain the problem:\n",
    "\n",
    "* Correct predictions: 177 (survivors 61, victims 116)\n",
    "* Wrong predictions: 46 (survivors 23, victims 23)"
   ]
  },
  {
   "cell_type": "code",
   "execution_count": 12,
   "metadata": {
    "_uuid": "97278438ea325050accc8fd91805064279db478b"
   },
   "outputs": [
    {
     "data": {
      "text/plain": [
       "array([[116,  23],\n",
       "       [ 23,  61]])"
      ]
     },
     "execution_count": 12,
     "metadata": {},
     "output_type": "execute_result"
    }
   ],
   "source": [
    "# Printing the confusion matrix\n",
    "metrics.confusion_matrix(y_test, y_pred)"
   ]
  },
  {
   "cell_type": "markdown",
   "metadata": {
    "_uuid": "b2f6a66a0e8e1f5bc008685e0f05665b4c6c9dde"
   },
   "source": [
    "The precision score for the survived passengers is decent (see below) but not good enough for our specific problem that requires precision to be as high as possible."
   ]
  },
  {
   "cell_type": "code",
   "execution_count": 13,
   "metadata": {
    "_uuid": "06de20e97058ae5fe07f80c4573d6dc48da70441"
   },
   "outputs": [
    {
     "data": {
      "text/plain": [
       "0.7261904761904762"
      ]
     },
     "execution_count": 13,
     "metadata": {},
     "output_type": "execute_result"
    }
   ],
   "source": [
    "# Printing the precision score for survived passengers\n",
    "metrics.precision_score(y_test, y_pred)"
   ]
  },
  {
   "cell_type": "markdown",
   "metadata": {
    "_uuid": "5bfb77f6dcb700c6f9a07e56bb7f6c89289f4927"
   },
   "source": [
    "Let's plot the Precision-Recall curve and find a point with a better precsion. Note that precision, recall and corresponding thresholds are obtained from the training dataset, not the testing dataset, to avoid biased scores."
   ]
  },
  {
   "cell_type": "code",
   "execution_count": 14,
   "metadata": {
    "_uuid": "ed6baf1d3a38d052ef8917245f5a97e16072d636"
   },
   "outputs": [
    {
     "data": {
      "image/png": "[encoded data removed]",
      "text/plain": [
       "<Figure size 432x288 with 1 Axes>"
      ]
     },
     "metadata": {},
     "output_type": "display_data"
    }
   ],
   "source": [
    "# Plotting the Precision-Recall curve\n",
    "y_proba_train = model.predict_proba(X_train)[:, 1]\n",
    "p, r, t = metrics.precision_recall_curve(y_train, y_proba_train)\n",
    "\n",
    "plt.plot(r, p)\n",
    "plt.xlabel('Recall')\n",
    "plt.ylabel('Precision')\n",
    "plt.show()"
   ]
  },
  {
   "cell_type": "markdown",
   "metadata": {
    "_uuid": "1dd5ee37638a9509ac4c11584f73f8d999017fd0"
   },
   "source": [
    "The best precision of 1.0 is obtained for thresholds of 0.973211, 0.974678 and 1.0 (see the last 3 rows in the dataframe below). Let's pick up the threshold 0.973211 that corresponds to the highest recall among them. The higher the recall, the more true positives (or survived passengers) are predicted and the more insurances we will sell."
   ]
  },
  {
   "cell_type": "code",
   "execution_count": 15,
   "metadata": {
    "_uuid": "a44769f1d1bfb115dc9ca9ecf089f5981624d5b7"
   },
   "outputs": [
    {
     "data": {
      "text/html": [
       "<div>\n",
       "<style scoped>\n",
       "    .dataframe tbody tr th:only-of-type {\n",
       "        vertical-align: middle;\n",
       "    }\n",
       "\n",
       "    .dataframe tbody tr th {\n",
       "        vertical-align: top;\n",
       "    }\n",
       "\n",
       "    .dataframe thead th {\n",
       "        text-align: right;\n",
       "    }\n",
       "</style>\n",
       "<table border=\"1\" class=\"dataframe\">\n",
       "  <thead>\n",
       "    <tr style=\"text-align: right;\">\n",
       "      <th></th>\n",
       "      <th>Precision</th>\n",
       "      <th>Recall</th>\n",
       "      <th>Threshold</th>\n",
       "    </tr>\n",
       "  </thead>\n",
       "  <tbody>\n",
       "    <tr>\n",
       "      <th>558</th>\n",
       "      <td>0.800000</td>\n",
       "      <td>0.015504</td>\n",
       "      <td>0.965561</td>\n",
       "    </tr>\n",
       "    <tr>\n",
       "      <th>559</th>\n",
       "      <td>0.750000</td>\n",
       "      <td>0.011628</td>\n",
       "      <td>0.969996</td>\n",
       "    </tr>\n",
       "    <tr>\n",
       "      <th>560</th>\n",
       "      <td>0.666667</td>\n",
       "      <td>0.007752</td>\n",
       "      <td>0.970968</td>\n",
       "    </tr>\n",
       "    <tr>\n",
       "      <th>561</th>\n",
       "      <td>1.000000</td>\n",
       "      <td>0.007752</td>\n",
       "      <td>0.973211</td>\n",
       "    </tr>\n",
       "    <tr>\n",
       "      <th>562</th>\n",
       "      <td>1.000000</td>\n",
       "      <td>0.003876</td>\n",
       "      <td>0.974678</td>\n",
       "    </tr>\n",
       "  </tbody>\n",
       "</table>\n",
       "</div>"
      ],
      "text/plain": [
       "     Precision    Recall  Threshold\n",
       "558   0.800000  0.015504   0.965561\n",
       "559   0.750000  0.011628   0.969996\n",
       "560   0.666667  0.007752   0.970968\n",
       "561   1.000000  0.007752   0.973211\n",
       "562   1.000000  0.003876   0.974678"
      ]
     },
     "execution_count": 15,
     "metadata": {},
     "output_type": "execute_result"
    }
   ],
   "source": [
    "# Printing the last 5 combinations of precision-recall-threshold\n",
    "prt = np.array(list(zip(p, r, t)))\n",
    "prt_df = pd.DataFrame(data=prt, columns=['Precision', 'Recall', 'Threshold'])\n",
    "prt_df.tail()"
   ]
  },
  {
   "cell_type": "markdown",
   "metadata": {
    "_uuid": "bf95e6eb045d262ac58dfcceae661a2af1f3415d"
   },
   "source": [
    "If we apply this threshold to the probabilities for our testing dataset, we will find out, however, that none of them pass the threshold. For us it means that no insurances will be sold at all. Therefore, we might want to lower our precision to the next largest value on the PR curve."
   ]
  },
  {
   "cell_type": "code",
   "execution_count": 16,
   "metadata": {
    "_uuid": "9d6ecb68ae9a49cf61ffbfb92210c3b2a53feb03"
   },
   "outputs": [
    {
     "data": {
      "text/plain": [
       "0"
      ]
     },
     "execution_count": 16,
     "metadata": {},
     "output_type": "execute_result"
    }
   ],
   "source": [
    "# Counting the number of predicted survivors\n",
    "y_proba_test = model.predict_proba(X_test)[:, 1]\n",
    "y_pred = (y_proba_test >= 0.973211).astype(int)\n",
    "np.count_nonzero(y_pred)"
   ]
  },
  {
   "cell_type": "markdown",
   "metadata": {
    "_uuid": "c15859bee6ffe418e452d4c96fce3c64239fa2cc"
   },
   "source": [
    "If you look again at the PR curve, you will notice that the precision rapidly drops at first but then recovers to 0.971429, the next highest value after 1.0 (see the row 529 below). This precision corresponds to the threshold 0.932465 and has much higher recall than in the previous case."
   ]
  },
  {
   "cell_type": "code",
   "execution_count": 17,
   "metadata": {
    "_uuid": "11d57bc004ae957237610e8c1d52dbaa2d24adff"
   },
   "outputs": [
    {
     "data": {
      "text/html": [
       "<div>\n",
       "<style scoped>\n",
       "    .dataframe tbody tr th:only-of-type {\n",
       "        vertical-align: middle;\n",
       "    }\n",
       "\n",
       "    .dataframe tbody tr th {\n",
       "        vertical-align: top;\n",
       "    }\n",
       "\n",
       "    .dataframe thead th {\n",
       "        text-align: right;\n",
       "    }\n",
       "</style>\n",
       "<table border=\"1\" class=\"dataframe\">\n",
       "  <thead>\n",
       "    <tr style=\"text-align: right;\">\n",
       "      <th></th>\n",
       "      <th>Precision</th>\n",
       "      <th>Recall</th>\n",
       "      <th>Threshold</th>\n",
       "    </tr>\n",
       "  </thead>\n",
       "  <tbody>\n",
       "    <tr>\n",
       "      <th>513</th>\n",
       "      <td>0.960784</td>\n",
       "      <td>0.189922</td>\n",
       "      <td>0.903174</td>\n",
       "    </tr>\n",
       "    <tr>\n",
       "      <th>514</th>\n",
       "      <td>0.960000</td>\n",
       "      <td>0.186047</td>\n",
       "      <td>0.906782</td>\n",
       "    </tr>\n",
       "    <tr>\n",
       "      <th>515</th>\n",
       "      <td>0.959184</td>\n",
       "      <td>0.182171</td>\n",
       "      <td>0.909994</td>\n",
       "    </tr>\n",
       "    <tr>\n",
       "      <th>516</th>\n",
       "      <td>0.958333</td>\n",
       "      <td>0.178295</td>\n",
       "      <td>0.910013</td>\n",
       "    </tr>\n",
       "    <tr>\n",
       "      <th>517</th>\n",
       "      <td>0.957447</td>\n",
       "      <td>0.174419</td>\n",
       "      <td>0.912081</td>\n",
       "    </tr>\n",
       "    <tr>\n",
       "      <th>518</th>\n",
       "      <td>0.956522</td>\n",
       "      <td>0.170543</td>\n",
       "      <td>0.913555</td>\n",
       "    </tr>\n",
       "    <tr>\n",
       "      <th>519</th>\n",
       "      <td>0.955556</td>\n",
       "      <td>0.166667</td>\n",
       "      <td>0.914014</td>\n",
       "    </tr>\n",
       "    <tr>\n",
       "      <th>520</th>\n",
       "      <td>0.954545</td>\n",
       "      <td>0.162791</td>\n",
       "      <td>0.914128</td>\n",
       "    </tr>\n",
       "    <tr>\n",
       "      <th>521</th>\n",
       "      <td>0.953488</td>\n",
       "      <td>0.158915</td>\n",
       "      <td>0.915179</td>\n",
       "    </tr>\n",
       "    <tr>\n",
       "      <th>522</th>\n",
       "      <td>0.952381</td>\n",
       "      <td>0.155039</td>\n",
       "      <td>0.918781</td>\n",
       "    </tr>\n",
       "    <tr>\n",
       "      <th>523</th>\n",
       "      <td>0.951220</td>\n",
       "      <td>0.151163</td>\n",
       "      <td>0.920793</td>\n",
       "    </tr>\n",
       "    <tr>\n",
       "      <th>524</th>\n",
       "      <td>0.950000</td>\n",
       "      <td>0.147287</td>\n",
       "      <td>0.921705</td>\n",
       "    </tr>\n",
       "    <tr>\n",
       "      <th>525</th>\n",
       "      <td>0.948718</td>\n",
       "      <td>0.143411</td>\n",
       "      <td>0.923146</td>\n",
       "    </tr>\n",
       "    <tr>\n",
       "      <th>526</th>\n",
       "      <td>0.947368</td>\n",
       "      <td>0.139535</td>\n",
       "      <td>0.929883</td>\n",
       "    </tr>\n",
       "    <tr>\n",
       "      <th>527</th>\n",
       "      <td>0.945946</td>\n",
       "      <td>0.135659</td>\n",
       "      <td>0.930171</td>\n",
       "    </tr>\n",
       "    <tr>\n",
       "      <th>528</th>\n",
       "      <td>0.944444</td>\n",
       "      <td>0.131783</td>\n",
       "      <td>0.930619</td>\n",
       "    </tr>\n",
       "    <tr>\n",
       "      <th>529</th>\n",
       "      <td>0.971429</td>\n",
       "      <td>0.131783</td>\n",
       "      <td>0.932465</td>\n",
       "    </tr>\n",
       "    <tr>\n",
       "      <th>530</th>\n",
       "      <td>0.970588</td>\n",
       "      <td>0.127907</td>\n",
       "      <td>0.933675</td>\n",
       "    </tr>\n",
       "    <tr>\n",
       "      <th>531</th>\n",
       "      <td>0.969697</td>\n",
       "      <td>0.124031</td>\n",
       "      <td>0.934467</td>\n",
       "    </tr>\n",
       "    <tr>\n",
       "      <th>532</th>\n",
       "      <td>0.968750</td>\n",
       "      <td>0.120155</td>\n",
       "      <td>0.937266</td>\n",
       "    </tr>\n",
       "    <tr>\n",
       "      <th>533</th>\n",
       "      <td>0.967742</td>\n",
       "      <td>0.116279</td>\n",
       "      <td>0.937965</td>\n",
       "    </tr>\n",
       "    <tr>\n",
       "      <th>534</th>\n",
       "      <td>0.966667</td>\n",
       "      <td>0.112403</td>\n",
       "      <td>0.940876</td>\n",
       "    </tr>\n",
       "    <tr>\n",
       "      <th>535</th>\n",
       "      <td>0.965517</td>\n",
       "      <td>0.108527</td>\n",
       "      <td>0.941774</td>\n",
       "    </tr>\n",
       "    <tr>\n",
       "      <th>536</th>\n",
       "      <td>0.964286</td>\n",
       "      <td>0.104651</td>\n",
       "      <td>0.942420</td>\n",
       "    </tr>\n",
       "    <tr>\n",
       "      <th>537</th>\n",
       "      <td>0.962963</td>\n",
       "      <td>0.100775</td>\n",
       "      <td>0.944107</td>\n",
       "    </tr>\n",
       "    <tr>\n",
       "      <th>538</th>\n",
       "      <td>0.961538</td>\n",
       "      <td>0.096899</td>\n",
       "      <td>0.945314</td>\n",
       "    </tr>\n",
       "    <tr>\n",
       "      <th>539</th>\n",
       "      <td>0.960000</td>\n",
       "      <td>0.093023</td>\n",
       "      <td>0.950588</td>\n",
       "    </tr>\n",
       "    <tr>\n",
       "      <th>540</th>\n",
       "      <td>0.958333</td>\n",
       "      <td>0.089147</td>\n",
       "      <td>0.950926</td>\n",
       "    </tr>\n",
       "    <tr>\n",
       "      <th>541</th>\n",
       "      <td>0.956522</td>\n",
       "      <td>0.085271</td>\n",
       "      <td>0.951095</td>\n",
       "    </tr>\n",
       "    <tr>\n",
       "      <th>542</th>\n",
       "      <td>0.954545</td>\n",
       "      <td>0.081395</td>\n",
       "      <td>0.951633</td>\n",
       "    </tr>\n",
       "    <tr>\n",
       "      <th>543</th>\n",
       "      <td>0.952381</td>\n",
       "      <td>0.077519</td>\n",
       "      <td>0.953706</td>\n",
       "    </tr>\n",
       "    <tr>\n",
       "      <th>544</th>\n",
       "      <td>0.950000</td>\n",
       "      <td>0.073643</td>\n",
       "      <td>0.953800</td>\n",
       "    </tr>\n",
       "    <tr>\n",
       "      <th>545</th>\n",
       "      <td>0.947368</td>\n",
       "      <td>0.069767</td>\n",
       "      <td>0.954572</td>\n",
       "    </tr>\n",
       "    <tr>\n",
       "      <th>546</th>\n",
       "      <td>0.944444</td>\n",
       "      <td>0.065891</td>\n",
       "      <td>0.955712</td>\n",
       "    </tr>\n",
       "    <tr>\n",
       "      <th>547</th>\n",
       "      <td>0.941176</td>\n",
       "      <td>0.062016</td>\n",
       "      <td>0.956683</td>\n",
       "    </tr>\n",
       "    <tr>\n",
       "      <th>548</th>\n",
       "      <td>0.937500</td>\n",
       "      <td>0.058140</td>\n",
       "      <td>0.957002</td>\n",
       "    </tr>\n",
       "    <tr>\n",
       "      <th>549</th>\n",
       "      <td>0.933333</td>\n",
       "      <td>0.054264</td>\n",
       "      <td>0.957779</td>\n",
       "    </tr>\n",
       "    <tr>\n",
       "      <th>550</th>\n",
       "      <td>0.928571</td>\n",
       "      <td>0.050388</td>\n",
       "      <td>0.958622</td>\n",
       "    </tr>\n",
       "    <tr>\n",
       "      <th>551</th>\n",
       "      <td>0.923077</td>\n",
       "      <td>0.046512</td>\n",
       "      <td>0.959153</td>\n",
       "    </tr>\n",
       "    <tr>\n",
       "      <th>552</th>\n",
       "      <td>0.916667</td>\n",
       "      <td>0.042636</td>\n",
       "      <td>0.961715</td>\n",
       "    </tr>\n",
       "    <tr>\n",
       "      <th>553</th>\n",
       "      <td>0.909091</td>\n",
       "      <td>0.038760</td>\n",
       "      <td>0.963038</td>\n",
       "    </tr>\n",
       "    <tr>\n",
       "      <th>554</th>\n",
       "      <td>0.900000</td>\n",
       "      <td>0.034884</td>\n",
       "      <td>0.964177</td>\n",
       "    </tr>\n",
       "    <tr>\n",
       "      <th>555</th>\n",
       "      <td>0.888889</td>\n",
       "      <td>0.031008</td>\n",
       "      <td>0.964340</td>\n",
       "    </tr>\n",
       "    <tr>\n",
       "      <th>556</th>\n",
       "      <td>0.875000</td>\n",
       "      <td>0.027132</td>\n",
       "      <td>0.964521</td>\n",
       "    </tr>\n",
       "    <tr>\n",
       "      <th>557</th>\n",
       "      <td>0.857143</td>\n",
       "      <td>0.023256</td>\n",
       "      <td>0.965484</td>\n",
       "    </tr>\n",
       "    <tr>\n",
       "      <th>558</th>\n",
       "      <td>0.800000</td>\n",
       "      <td>0.015504</td>\n",
       "      <td>0.965561</td>\n",
       "    </tr>\n",
       "    <tr>\n",
       "      <th>559</th>\n",
       "      <td>0.750000</td>\n",
       "      <td>0.011628</td>\n",
       "      <td>0.969996</td>\n",
       "    </tr>\n",
       "    <tr>\n",
       "      <th>560</th>\n",
       "      <td>0.666667</td>\n",
       "      <td>0.007752</td>\n",
       "      <td>0.970968</td>\n",
       "    </tr>\n",
       "    <tr>\n",
       "      <th>561</th>\n",
       "      <td>1.000000</td>\n",
       "      <td>0.007752</td>\n",
       "      <td>0.973211</td>\n",
       "    </tr>\n",
       "    <tr>\n",
       "      <th>562</th>\n",
       "      <td>1.000000</td>\n",
       "      <td>0.003876</td>\n",
       "      <td>0.974678</td>\n",
       "    </tr>\n",
       "  </tbody>\n",
       "</table>\n",
       "</div>"
      ],
      "text/plain": [
       "     Precision    Recall  Threshold\n",
       "513   0.960784  0.189922   0.903174\n",
       "514   0.960000  0.186047   0.906782\n",
       "515   0.959184  0.182171   0.909994\n",
       "516   0.958333  0.178295   0.910013\n",
       "517   0.957447  0.174419   0.912081\n",
       "518   0.956522  0.170543   0.913555\n",
       "519   0.955556  0.166667   0.914014\n",
       "520   0.954545  0.162791   0.914128\n",
       "521   0.953488  0.158915   0.915179\n",
       "522   0.952381  0.155039   0.918781\n",
       "523   0.951220  0.151163   0.920793\n",
       "524   0.950000  0.147287   0.921705\n",
       "525   0.948718  0.143411   0.923146\n",
       "526   0.947368  0.139535   0.929883\n",
       "527   0.945946  0.135659   0.930171\n",
       "528   0.944444  0.131783   0.930619\n",
       "529   0.971429  0.131783   0.932465\n",
       "530   0.970588  0.127907   0.933675\n",
       "531   0.969697  0.124031   0.934467\n",
       "532   0.968750  0.120155   0.937266\n",
       "533   0.967742  0.116279   0.937965\n",
       "534   0.966667  0.112403   0.940876\n",
       "535   0.965517  0.108527   0.941774\n",
       "536   0.964286  0.104651   0.942420\n",
       "537   0.962963  0.100775   0.944107\n",
       "538   0.961538  0.096899   0.945314\n",
       "539   0.960000  0.093023   0.950588\n",
       "540   0.958333  0.089147   0.950926\n",
       "541   0.956522  0.085271   0.951095\n",
       "542   0.954545  0.081395   0.951633\n",
       "543   0.952381  0.077519   0.953706\n",
       "544   0.950000  0.073643   0.953800\n",
       "545   0.947368  0.069767   0.954572\n",
       "546   0.944444  0.065891   0.955712\n",
       "547   0.941176  0.062016   0.956683\n",
       "548   0.937500  0.058140   0.957002\n",
       "549   0.933333  0.054264   0.957779\n",
       "550   0.928571  0.050388   0.958622\n",
       "551   0.923077  0.046512   0.959153\n",
       "552   0.916667  0.042636   0.961715\n",
       "553   0.909091  0.038760   0.963038\n",
       "554   0.900000  0.034884   0.964177\n",
       "555   0.888889  0.031008   0.964340\n",
       "556   0.875000  0.027132   0.964521\n",
       "557   0.857143  0.023256   0.965484\n",
       "558   0.800000  0.015504   0.965561\n",
       "559   0.750000  0.011628   0.969996\n",
       "560   0.666667  0.007752   0.970968\n",
       "561   1.000000  0.007752   0.973211\n",
       "562   1.000000  0.003876   0.974678"
      ]
     },
     "execution_count": 17,
     "metadata": {},
     "output_type": "execute_result"
    }
   ],
   "source": [
    "# Printing the last 50 combinations of precision-recall-threshold\n",
    "prt_df.tail(50)"
   ]
  },
  {
   "cell_type": "markdown",
   "metadata": {
    "_uuid": "bbb7e667137b1b41e220ce0fb3ed79b49f3e22f0"
   },
   "source": [
    "If we now select survivors based on the new probability threshold, we finally obtain a nonzero number of survivors. In this particular case 13 people."
   ]
  },
  {
   "cell_type": "code",
   "execution_count": 18,
   "metadata": {
    "_uuid": "8926fcd98b06ba0b9af3b68579889a28bd6b5217"
   },
   "outputs": [
    {
     "data": {
      "text/plain": [
       "13"
      ]
     },
     "execution_count": 18,
     "metadata": {},
     "output_type": "execute_result"
    }
   ],
   "source": [
    "# Counting the number of predicted survivors using the new threshold\n",
    "y_proba_test = model.predict_proba(X_test)[:, 1]\n",
    "y_pred = (y_proba_test >= 0.932465).astype(int)\n",
    "np.count_nonzero(y_pred)"
   ]
  },
  {
   "cell_type": "markdown",
   "metadata": {
    "_uuid": "766d9d59846a62ef1003eab10c99b7825adeb930"
   },
   "source": [
    "Furthermore, we can check how well the target variables correspond with our predictions. It turns out that there is a perfect match (precision of 1.0) and it is even better than the precision that we aimed on the training dataset."
   ]
  },
  {
   "cell_type": "code",
   "execution_count": 19,
   "metadata": {
    "_uuid": "37d25a9a18ecadd3ef75668902cba6db53399aff"
   },
   "outputs": [
    {
     "data": {
      "text/plain": [
       "array([[1.        , 0.94751319],\n",
       "       [1.        , 0.93842582],\n",
       "       [1.        , 0.96626347],\n",
       "       [1.        , 0.95822958],\n",
       "       [1.        , 0.95844455],\n",
       "       [1.        , 0.95454875],\n",
       "       [1.        , 0.95465325],\n",
       "       [1.        , 0.94716191],\n",
       "       [1.        , 0.94935889],\n",
       "       [1.        , 0.97058184],\n",
       "       [1.        , 0.94185192],\n",
       "       [1.        , 0.95991282],\n",
       "       [1.        , 0.95343004]])"
      ]
     },
     "execution_count": 19,
     "metadata": {},
     "output_type": "execute_result"
    }
   ],
   "source": [
    "# Pairs of target labels and predicted probabilities above the new threshold\n",
    "yy = np.array(list(zip(y_test, y_proba_test)))\n",
    "indices = np.where(yy[:,1] >= 0.932465)\n",
    "yy[indices]"
   ]
  },
  {
   "cell_type": "markdown",
   "metadata": {
    "_uuid": "2225e21b3051048f122946a202c209f933b6fbe2"
   },
   "source": [
    "## 5. Conclusion\n",
    "\n",
    "Let's compare what we had before and after the threshold adjustment.\n",
    "\n",
    "* *Before*: 61 correctly predicted survivors, 23 wrongly predicted survivors, precision 0.73.\n",
    "* *After*: 13 correctly predicted survivors, 0 wrongly predicted survivors, precision 1.0.\n",
    "\n",
    "So in the end we managed to decrease the number of insurance claims down to 0 and at the same time sold insurances to 13 people. This is also confirmed by the precision score that has increased from 0.73 up to 1.0.\n",
    "\n",
    "---\n",
    "Thanks for **UPVOTING** this kernel! Trying to become a Kernel Expert. 👍\n",
    "\n",
    "> Check out other interesting projects related to Titanic by Pavlo Fesenko:\n",
    "- [(kernel) How to extend Titanic dataset using Wikipedia?](https://www.kaggle.com/pavlofesenko/extending-titanic-dataset-using-wikipedia)\n",
    "- [(dataset) Titanic extended (Kaggle + Wikipedia)](https://www.kaggle.com/pavlofesenko/titanic-extended)"
   ]
  }
 ],
 "metadata": {
  "kernelspec": {
   "display_name": "Python 3",
   "language": "python",
   "name": "python3"
  },
  "language_info": {
   "codemirror_mode": {
    "name": "ipython",
    "version": 3
   },
   "file_extension": ".py",
   "mimetype": "text/x-python",
   "name": "python",
   "nbconvert_exporter": "python",
   "pygments_lexer": "ipython3",
   "version": "3.6.6"
  }
 },
 "nbformat": 4,
 "nbformat_minor": 1
}
