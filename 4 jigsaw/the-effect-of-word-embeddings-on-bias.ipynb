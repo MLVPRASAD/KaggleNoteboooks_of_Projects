{
 "cells": [
  {
   "cell_type": "markdown",
   "metadata": {},
   "source": [
    "The Quora Insincere Questions Classification spawned several great kernels for more background on word embeddings: \n",
    "\n",
    "- [How to: Preprocessing when using embeddings](https://www.kaggle.com/christofhenkel/how-to-preprocessing-when-using-embeddings)\n",
    "- [A look at different embeddings.!](https://www.kaggle.com/sudalairajkumar/a-look-at-different-embeddings)\n",
    "\n",
    "In this kernel I'm going to explore the influence of different word embeddings on unintended bias. First, I'm going to benchmark popular word embeddings with the [Simple LSTM](https://www.kaggle.com/thousandvoices/simple-lstm) courtesy of thousandvoices. If you want to skip ahead to the results, click the link for [word embeddings comparison](#compare). After that I'll introduce operations we can perform on word embeddings and I'll construct a bunch of combinations to benchmark. I'll cover concatenating embeddings and constructing meta embeddings from several different vector spaces. Skip to [complete embeddings comparison](#complete) for the final results. If this helps your model or if you have any ideas for other combinations leave a comment and upvote!\n",
    "\n",
    "I have since added a proper section on [BERT embeddings](#bert) since my initial test scored much lower than expected. \n",
    "\n",
    "<br>\n",
    "![](https://qph.fs.quoracdn.net/main-qimg-3e812fd164a08f5e4f195000fecf988f)\n",
    "<br>\n",
    "# Contents\n",
    "---\n",
    "- [Without Pretrained Embeddings](#no-pretrain)\n",
    "- [Fasttext Embeddings](#fasttext)\n",
    "- [GloVe Embeddings](#glove)\n",
    "- [Concept Numberbatch Embeddings](#numberbatch)\n",
    "- [BERT Embeddings](#bert)\n",
    "- [Word Embeddings Comparison](#compare)\n",
    "- [Concatenating Fasttext+GloVe Embeddings](#glove+fasttext)\n",
    "- [Weighted Predictions by Bias Score](#weighted)\n",
    "- [Constructing Meta-Embeddings](#meta)\n",
    "- [GloVe+Fasttext Meta-Embeddings](#meta-glove+fasttext)\n",
    "- [Weighted Meta-Embeddings](#meta-weighted)\n",
    "- [Complete Embeddings Comparison](#complete)"
   ]
  },
  {
   "cell_type": "code",
   "execution_count": 1,
   "metadata": {
    "_kg_hide-input": true,
    "scrolled": true
   },
   "outputs": [
    {
     "name": "stderr",
     "output_type": "stream",
     "text": [
      "Using TensorFlow backend.\n"
     ]
    },
    {
     "data": {
      "text/html": [
       "        <script type=\"text/javascript\">\n",
       "        window.PlotlyConfig = {MathJaxConfig: 'local'};\n",
       "        if (window.MathJax) {MathJax.Hub.Config({SVG: {font: \"STIX-Web\"}});}\n",
       "        if (typeof require !== 'undefined') {\n",
       "        require.undef(\"plotly\");\n",
       "        requirejs.config({\n",
       "            paths: {\n",
       "                'plotly': ['https://cdn.plot.ly/plotly-latest.min']\n",
       "            }\n",
       "        });\n",
       "        require(['plotly'], function(Plotly) {\n",
       "            window._Plotly = Plotly;\n",
       "        });\n",
       "        }\n",
       "        </script>\n",
       "        "
      ]
     },
     "metadata": {},
     "output_type": "display_data"
    }
   ],
   "source": [
    "import numpy as np\n",
    "import pandas as pd\n",
    "from sklearn.metrics import roc_auc_score as auc\n",
    "from sklearn.model_selection import train_test_split\n",
    "\n",
    "import plotly\n",
    "import colorlover as cl\n",
    "import plotly.offline as py\n",
    "import plotly.graph_objs as go\n",
    "\n",
    "from keras.models import Model\n",
    "from keras.layers import Input, Dense, Embedding, SpatialDropout1D, Dropout, add, concatenate\n",
    "from keras.layers import CuDNNLSTM, Bidirectional, GlobalMaxPooling1D, GlobalAveragePooling1D\n",
    "from keras.preprocessing import text, sequence\n",
    "from keras.callbacks import LearningRateScheduler\n",
    "plotly.tools.set_credentials_file(username='nholloway', api_key='Ef8vuHMUdvaIpvtC2lux')\n",
    "py.init_notebook_mode(connected=True)"
   ]
  },
  {
   "cell_type": "code",
   "execution_count": 2,
   "metadata": {},
   "outputs": [],
   "source": [
    "FASTTEXT_PATH = '../input/fasttext-crawl-300d-2m/crawl-300d-2M.vec'\n",
    "GLOVE_PATH = '../input/glove840b300dtxt/glove.840B.300d.txt'\n",
    "NUMBERBATCH_PATH = '../input/conceptnet-numberbatch-vectors/numberbatch-en-17.06.txt/numberbatch-en-17.06.txt'\n",
    "NUM_MODELS = 2\n",
    "BATCH_SIZE = 512\n",
    "LSTM_UNITS = 128\n",
    "DENSE_HIDDEN_UNITS = 4 * LSTM_UNITS\n",
    "EPOCHS = 4\n",
    "MAX_LEN = 220"
   ]
  },
  {
   "cell_type": "markdown",
   "metadata": {},
   "source": [
    "First we define our procedure for loading the embeddings and vocabulary into an embedding matrix."
   ]
  },
  {
   "cell_type": "code",
   "execution_count": 3,
   "metadata": {
    "_kg_hide-input": false
   },
   "outputs": [],
   "source": [
    "def get_coefs(word, *arr):\n",
    "    return word, np.asarray(arr, dtype='float32')\n",
    "\n",
    "def load_embeddings(path):\n",
    "    with open(path) as f:\n",
    "        return dict(get_coefs(*line.strip().split(' ')) for line in f)\n",
    "\n",
    "def build_matrix(word_index, path):\n",
    "    embedding_index = load_embeddings(path)\n",
    "    embedding_matrix = np.zeros((len(word_index) + 1, 300))\n",
    "    for word, i in word_index.items():\n",
    "        try:\n",
    "            embedding_matrix[i] = embedding_index[word]\n",
    "        except KeyError:\n",
    "            pass\n",
    "    return embedding_matrix"
   ]
  },
  {
   "cell_type": "markdown",
   "metadata": {
    "_kg_hide-input": false
   },
   "source": [
    "We will preprocess our text by mapping punctuation and contractions to strings to make it easier to find embeddings. "
   ]
  },
  {
   "cell_type": "code",
   "execution_count": 4,
   "metadata": {
    "_kg_hide-input": false
   },
   "outputs": [],
   "source": [
    "def build_model(embedding_matrix, num_aux_targets):\n",
    "    words = Input(shape=(MAX_LEN,))\n",
    "    x = Embedding(*embedding_matrix.shape, weights=[embedding_matrix], trainable=False)(words)\n",
    "    x = SpatialDropout1D(0.3)(x)\n",
    "    x = Bidirectional(CuDNNLSTM(LSTM_UNITS, return_sequences=True))(x)\n",
    "    x = Bidirectional(CuDNNLSTM(LSTM_UNITS, return_sequences=True))(x)\n",
    "\n",
    "    hidden = concatenate([\n",
    "        GlobalMaxPooling1D()(x),\n",
    "        GlobalAveragePooling1D()(x),\n",
    "    ])\n",
    "    hidden = add([hidden, Dense(DENSE_HIDDEN_UNITS, activation='relu')(hidden)])\n",
    "    hidden = add([hidden, Dense(DENSE_HIDDEN_UNITS, activation='relu')(hidden)])\n",
    "    result = Dense(1, activation='sigmoid')(hidden)\n",
    "    aux_result = Dense(num_aux_targets, activation='sigmoid')(hidden)\n",
    "    \n",
    "    model = Model(inputs=words, outputs=[result, aux_result])\n",
    "    model.compile(loss='binary_crossentropy', optimizer='adam')\n",
    "\n",
    "    return model"
   ]
  },
  {
   "cell_type": "code",
   "execution_count": 5,
   "metadata": {
    "_kg_hide-input": true
   },
   "outputs": [],
   "source": [
    "def preprocess(text):\n",
    "    s_mapping = {\"ain't\": \"is not\", \"aren't\": \"are not\",\"can't\": \"cannot\", \"'cause\": \"because\", \"could've\": \"could have\", \"couldn't\": \"could not\", \"didn't\": \"did not\",  \"doesn't\": \"does not\", \"don't\": \"do not\", \"hadn't\": \"had not\", \"hasn't\": \"has not\", \"haven't\": \"have not\", \"he'd\": \"he would\",\"he'll\": \"he will\", \"he's\": \"he is\", \"how'd\": \"how did\", \"how'd'y\": \"how do you\", \"how'll\": \"how will\", \"how's\": \"how is\",  \"I'd\": \"I would\", \"I'd've\": \"I would have\", \"I'll\": \"I will\", \"I'll've\": \"I will have\",\"I'm\": \"I am\", \"I've\": \"I have\", \"i'd\": \"i would\", \"i'd've\": \"i would have\", \"i'll\": \"i will\",  \"i'll've\": \"i will have\",\"i'm\": \"i am\", \"i've\": \"i have\", \"isn't\": \"is not\", \"it'd\": \"it would\", \"it'd've\": \"it would have\", \"it'll\": \"it will\", \"it'll've\": \"it will have\",\"it's\": \"it is\", \"let's\": \"let us\", \"ma'am\": \"madam\", \"mayn't\": \"may not\", \"might've\": \"might have\",\"mightn't\": \"might not\",\"mightn't've\": \"might not have\", \"must've\": \"must have\", \"mustn't\": \"must not\", \"mustn't've\": \"must not have\", \"needn't\": \"need not\", \"needn't've\": \"need not have\",\"o'clock\": \"of the clock\", \"oughtn't\": \"ought not\", \"oughtn't've\": \"ought not have\", \"shan't\": \"shall not\", \"sha'n't\": \"shall not\", \"shan't've\": \"shall not have\", \"she'd\": \"she would\", \"she'd've\": \"she would have\", \"she'll\": \"she will\", \"she'll've\": \"she will have\", \"she's\": \"she is\", \"should've\": \"should have\", \"shouldn't\": \"should not\", \"shouldn't've\": \"should not have\", \"so've\": \"so have\",\"so's\": \"so as\", \"this's\": \"this is\",\"that'd\": \"that would\", \"that'd've\": \"that would have\", \"that's\": \"that is\", \"there'd\": \"there would\", \"there'd've\": \"there would have\", \"there's\": \"there is\", \"here's\": \"here is\",\"they'd\": \"they would\", \"they'd've\": \"they would have\", \"they'll\": \"they will\", \"they'll've\": \"they will have\", \"they're\": \"they are\", \"they've\": \"they have\", \"to've\": \"to have\", \"wasn't\": \"was not\", \"we'd\": \"we would\", \"we'd've\": \"we would have\", \"we'll\": \"we will\", \"we'll've\": \"we will have\", \"we're\": \"we are\", \"we've\": \"we have\", \"weren't\": \"were not\", \"what'll\": \"what will\", \"what'll've\": \"what will have\", \"what're\": \"what are\",  \"what's\": \"what is\", \"what've\": \"what have\", \"when's\": \"when is\", \"when've\": \"when have\", \"where'd\": \"where did\", \"where's\": \"where is\", \"where've\": \"where have\", \"who'll\": \"who will\", \"who'll've\": \"who will have\", \"who's\": \"who is\", \"who've\": \"who have\", \"why's\": \"why is\", \"why've\": \"why have\", \"will've\": \"will have\", \"won't\": \"will not\", \"won't've\": \"will not have\", \"would've\": \"would have\", \"wouldn't\": \"would not\", \"wouldn't've\": \"would not have\", \"y'all\": \"you all\", \"y'all'd\": \"you all would\",\"y'all'd've\": \"you all would have\",\"y'all're\": \"you all are\",\"y'all've\": \"you all have\",\"you'd\": \"you would\", \"you'd've\": \"you would have\", \"you'll\": \"you will\", \"you'll've\": \"you will have\", \"you're\": \"you are\", \"you've\": \"you have\" }\n",
    "    specials = [\"’\", \"‘\", \"´\", \"`\"]\n",
    "    p_mapping = {\"_\":\" \", \"`\":\" \"}    \n",
    "    punct = \"/-'?!.,#$%\\'()*+-/:;<=>@[\\\\]^_`{|}~\" + '\"\"“”’' + '∞θ÷α•à−β∅³π‘₹´°£€\\×™√²—–&'\n",
    "    \n",
    "    for s in specials:\n",
    "        text = text.replace(s, \"'\")\n",
    "    text = ' '.join([s_mapping[t] if t in s_mapping else t for t in text.split(\" \")])\n",
    "    for p in p_mapping:\n",
    "        text = text.replace(p, p_mapping[p])    \n",
    "    for p in punct:\n",
    "        text = text.replace(p, f' {p} ')     \n",
    "    return text"
   ]
  },
  {
   "cell_type": "markdown",
   "metadata": {},
   "source": [
    "When we split our train and test set make sure that the test set retains the identity labels to benchmark subgroup bias. "
   ]
  },
  {
   "cell_type": "code",
   "execution_count": 6,
   "metadata": {
    "_kg_hide-input": false
   },
   "outputs": [],
   "source": [
    "train = pd.read_csv('../input/jigsaw-unintended-bias-in-toxicity-classification/train.csv')\n",
    "test_columns = ['target', 'black', 'white', 'male', 'female', 'homosexual_gay_or_lesbian',\n",
    "                'christian', 'jewish', 'muslim', 'psychiatric_or_mental_illness', \n",
    "                'severe_toxicity', 'obscene', 'identity_attack', 'insult', 'threat'] \n",
    "\n",
    "x_train, x_val, y_train, y_val = train_test_split(train['comment_text'], train[test_columns], test_size=.2, random_state=42)\n",
    "\n",
    "x_train = x_train.apply(lambda x: preprocess(x.lower()))\n",
    "y_train['target'] = np.where(y_train['target'] >= 0.5, 1, 0)\n",
    "x_val = x_val.apply(lambda x: preprocess(x.lower()))\n",
    "y_val['target'] = np.where(y_val['target'] >= 0.5, 1, 0)\n",
    "y_aux_train = y_train[['target', 'severe_toxicity', 'obscene', 'identity_attack', 'insult', 'threat']].copy()\n",
    "y_train = y_train['target']\n",
    "\n",
    "tokenizer = text.Tokenizer()\n",
    "tokenizer.fit_on_texts(list(x_train) + list(x_val))\n",
    " \n",
    "x_train = tokenizer.texts_to_sequences(x_train)\n",
    "x_val = tokenizer.texts_to_sequences(x_val)\n",
    "\n",
    "x_train = sequence.pad_sequences(x_train, maxlen=MAX_LEN)\n",
    "x_val = sequence.pad_sequences(x_val, maxlen=MAX_LEN)"
   ]
  },
  {
   "cell_type": "code",
   "execution_count": 7,
   "metadata": {
    "_kg_hide-input": true
   },
   "outputs": [],
   "source": [
    "def train_model(embedding_matrix, model_name):\n",
    "    checkpoint_predictions = []\n",
    "    weights = []\n",
    "    \n",
    "    for model_idx in range(NUM_MODELS):\n",
    "        model = build_model(embedding_matrix, y_aux_train.shape[-1])\n",
    "        for global_epoch in range(EPOCHS):\n",
    "            model.fit(\n",
    "                x_train,\n",
    "                [y_train, y_aux_train],\n",
    "                batch_size=BATCH_SIZE,\n",
    "                epochs=1,\n",
    "                verbose=2,\n",
    "                callbacks=[\n",
    "                    LearningRateScheduler(lambda epoch: 1e-3 * (0.6 ** global_epoch))\n",
    "                ])\n",
    "            checkpoint_predictions.append(model.predict(x_val, batch_size=2048)[0].flatten())\n",
    "            weights.append(2 ** global_epoch)\n",
    "            model.save(f'data/toxicity/{model_name}_model.h5')\n",
    "\n",
    "    predictions = np.average(checkpoint_predictions, weights=weights, axis=0)\n",
    "    return predictions"
   ]
  },
  {
   "cell_type": "markdown",
   "metadata": {},
   "source": [
    "# Bias Benchmarks\n",
    "---\n",
    "- Subgroup AUC: The AUC score for the entire subgroup- a low score hear means the model **fails to distinguish between toxic and non-toxic comments** that mention this identity. \n",
    "- BPSN AUC: Background positive, subgroup negative. A low value here means the model confuses **non-toxic examples that mention the identity with toxic examples that do not**.\n",
    "- BNSP AUC: Background negative, subgroup positive. A low value here means that the model confuses **toxic examples that mention the identity with non-toxic examples that do not**. \n",
    "\n",
    "The final score used in this competition is a combination of these bias metrics, which we will also compute. "
   ]
  },
  {
   "cell_type": "code",
   "execution_count": 8,
   "metadata": {
    "_kg_hide-input": false
   },
   "outputs": [],
   "source": [
    "IDENTITY_COLUMNS = ['black', 'white', 'male', 'female', 'homosexual_gay_or_lesbian',\n",
    "                   'christian', 'jewish', 'muslim', 'psychiatric_or_mental_illness'] \n",
    "    \n",
    "def compute_bpsn_auc(df, subgroup, model, label):\n",
    "    subgroup_positive_examples = df.loc[(df[subgroup] == 1) & (df[label] == 1)]\n",
    "    non_subgroup_negative_examples = df.loc[df[subgroup] != 1 & (df[label] == 0)]\n",
    "    examples = subgroup_positive_examples.append(non_subgroup_negative_examples)\n",
    "    return auc(examples[label], examples[model])  \n",
    "    \n",
    "def compute_bnsp_auc(df, subgroup, model, label):\n",
    "    subgroup_negative_examples = df.loc[(df[subgroup] == 1) & (df[label] == 0)]\n",
    "    non_subgroup_positive_examples = df.loc[(df[subgroup] != 1) & (df[label] == 1)]\n",
    "    examples = subgroup_negative_examples.append(non_subgroup_positive_examples)\n",
    "    return auc(examples[label], examples[model])\n",
    "\n",
    "def power_mean(series, p):\n",
    "    total = sum(np.power(series, p))\n",
    "    return np.power(total/len(series), 1/p)\n",
    "\n",
    "def compute_final_bias(bias_df, overall_auc, power=-5, overall_model_weight=0.25):\n",
    "    bias_score = np.average([\n",
    "        power_mean(bias_df['subgroup_auc'], power),\n",
    "        power_mean(bias_df['bpsn_auc'], power),\n",
    "        power_mean(bias_df['bnsp_auc'], power)\n",
    "    ])\n",
    "    return (overall_model_weight * overall_auc) + ((1 - overall_model_weight)* bias_score)\n",
    "    \n",
    "def compute_subgroup_bias_metrics(df, subgroups, model, label):\n",
    "    records = []\n",
    "    for subgroup in subgroups:\n",
    "        subgroup_df = df.loc[df[subgroup] == 1]\n",
    "        record = {\n",
    "            'subgroup': subgroup, \n",
    "            'subgroup_size': len(subgroup_df)\n",
    "        }\n",
    "        record['subgroup_auc'] = auc(subgroup_df['target'], subgroup_df[model])\n",
    "        record['bpsn_auc'] = compute_bpsn_auc(df, subgroup, model, label)\n",
    "        record['bnsp_auc'] = compute_bnsp_auc(df, subgroup, model, label)\n",
    "        records.append(record)\n",
    "    return pd.DataFrame(records).sort_values('subgroup_auc', \n",
    "                                                 ascending=True)"
   ]
  },
  {
   "cell_type": "markdown",
   "metadata": {},
   "source": [
    "The first model to train is a control- where we construct our own embeddings rather than use pretrained ones."
   ]
  },
  {
   "cell_type": "markdown",
   "metadata": {},
   "source": [
    " <a id='no-pretrain'></a>\n",
    "## Without Pretrained Embeddings \n",
    "---"
   ]
  },
  {
   "cell_type": "code",
   "execution_count": 9,
   "metadata": {
    "_kg_hide-input": true,
    "_kg_hide-output": false
   },
   "outputs": [],
   "source": [
    "def build_control_model(embedding_size, max_features, num_aux_targets):\n",
    "    words = Input(shape=(MAX_LEN,))\n",
    "    x = Embedding(max_features, embedding_size)(words)\n",
    "    x = SpatialDropout1D(0.3)(x)\n",
    "    x = Bidirectional(CuDNNLSTM(LSTM_UNITS, return_sequences=True))(x)\n",
    "    x = Bidirectional(CuDNNLSTM(LSTM_UNITS, return_sequences=True))(x)\n",
    "\n",
    "    hidden = concatenate([\n",
    "        GlobalMaxPooling1D()(x),\n",
    "        GlobalAveragePooling1D()(x),\n",
    "    ])\n",
    "    hidden = add([hidden, Dense(DENSE_HIDDEN_UNITS, activation='relu')(hidden)])\n",
    "    hidden = add([hidden, Dense(DENSE_HIDDEN_UNITS, activation='relu')(hidden)])\n",
    "    result = Dense(1, activation='sigmoid')(hidden)\n",
    "    aux_result = Dense(num_aux_targets, activation='sigmoid')(hidden)\n",
    "    \n",
    "    model = Model(inputs=words, outputs=[result, aux_result])\n",
    "    model.compile(loss='binary_crossentropy', optimizer='adam')\n",
    "\n",
    "    return model\n",
    "\n",
    "def train_control_model(embedding_size, max_features, model_name):\n",
    "    checkpoint_predictions = []\n",
    "    weights = []\n",
    "    \n",
    "    for model_idx in range(NUM_MODELS):\n",
    "        model = build_control_model(embedding_size, max_features, y_aux_train.shape[-1])\n",
    "        for global_epoch in range(EPOCHS):\n",
    "            model.fit(\n",
    "                x_train,\n",
    "                [y_train, y_aux_train],\n",
    "                batch_size=BATCH_SIZE,\n",
    "                epochs=1,\n",
    "                verbose=2,\n",
    "                callbacks=[\n",
    "                    LearningRateScheduler(lambda epoch: 1e-3 * (0.6 ** global_epoch))\n",
    "                ])\n",
    "            checkpoint_predictions.append(model.predict(x_val, batch_size=2048)[0].flatten())\n",
    "            weights.append(2 ** global_epoch)\n",
    "            model.save(f'data/toxicity/{model_name}_model.h5')\n",
    "\n",
    "    predictions = np.average(checkpoint_predictions, weights=weights, axis=0)\n",
    "    return predictions"
   ]
  },
  {
   "cell_type": "code",
   "execution_count": 10,
   "metadata": {},
   "outputs": [],
   "source": [
    "max_features = len(tokenizer.word_index.keys())\n",
    "emb_size = 300\n",
    "# This model took 3hr 47min to train compared to \n",
    "# ~3hr 3min for most the pretrained embedding models\n",
    "# %time control_preds = train_control_model(emb_size, max_features, 'no pretrained embeddings')\n",
    "results_df = pd.read_pickle('../input/embedding-bias-benchmark/final_results.pkl')"
   ]
  },
  {
   "cell_type": "code",
   "execution_count": 11,
   "metadata": {
    "_kg_hide-input": true
   },
   "outputs": [
    {
     "data": {
      "text/html": [
       "<div>\n",
       "<style scoped>\n",
       "    .dataframe tbody tr th:only-of-type {\n",
       "        vertical-align: middle;\n",
       "    }\n",
       "\n",
       "    .dataframe tbody tr th {\n",
       "        vertical-align: top;\n",
       "    }\n",
       "\n",
       "    .dataframe thead th {\n",
       "        text-align: right;\n",
       "    }\n",
       "</style>\n",
       "<table border=\"1\" class=\"dataframe\">\n",
       "  <thead>\n",
       "    <tr style=\"text-align: right;\">\n",
       "      <th></th>\n",
       "      <th>bnsp_auc</th>\n",
       "      <th>bpsn_auc</th>\n",
       "      <th>subgroup</th>\n",
       "      <th>subgroup_auc</th>\n",
       "      <th>subgroup_size</th>\n",
       "    </tr>\n",
       "  </thead>\n",
       "  <tbody>\n",
       "    <tr>\n",
       "      <th>0</th>\n",
       "      <td>0.792325</td>\n",
       "      <td>0.964986</td>\n",
       "      <td>black</td>\n",
       "      <td>0.797849</td>\n",
       "      <td>1530</td>\n",
       "    </tr>\n",
       "    <tr>\n",
       "      <th>1</th>\n",
       "      <td>0.808206</td>\n",
       "      <td>0.962827</td>\n",
       "      <td>white</td>\n",
       "      <td>0.805768</td>\n",
       "      <td>2561</td>\n",
       "    </tr>\n",
       "    <tr>\n",
       "      <th>4</th>\n",
       "      <td>0.815270</td>\n",
       "      <td>0.962558</td>\n",
       "      <td>homosexual_gay_or_lesbian</td>\n",
       "      <td>0.814274</td>\n",
       "      <td>1022</td>\n",
       "    </tr>\n",
       "    <tr>\n",
       "      <th>7</th>\n",
       "      <td>0.832913</td>\n",
       "      <td>0.958599</td>\n",
       "      <td>muslim</td>\n",
       "      <td>0.826231</td>\n",
       "      <td>2523</td>\n",
       "    </tr>\n",
       "    <tr>\n",
       "      <th>6</th>\n",
       "      <td>0.886386</td>\n",
       "      <td>0.956941</td>\n",
       "      <td>jewish</td>\n",
       "      <td>0.879691</td>\n",
       "      <td>773</td>\n",
       "    </tr>\n",
       "    <tr>\n",
       "      <th>2</th>\n",
       "      <td>0.913379</td>\n",
       "      <td>0.957046</td>\n",
       "      <td>male</td>\n",
       "      <td>0.900190</td>\n",
       "      <td>3792</td>\n",
       "    </tr>\n",
       "    <tr>\n",
       "      <th>5</th>\n",
       "      <td>0.927626</td>\n",
       "      <td>0.944009</td>\n",
       "      <td>christian</td>\n",
       "      <td>0.903570</td>\n",
       "      <td>3310</td>\n",
       "    </tr>\n",
       "    <tr>\n",
       "      <th>8</th>\n",
       "      <td>0.892003</td>\n",
       "      <td>0.967417</td>\n",
       "      <td>psychiatric_or_mental_illness</td>\n",
       "      <td>0.908296</td>\n",
       "      <td>272</td>\n",
       "    </tr>\n",
       "    <tr>\n",
       "      <th>3</th>\n",
       "      <td>0.914943</td>\n",
       "      <td>0.957601</td>\n",
       "      <td>female</td>\n",
       "      <td>0.911274</td>\n",
       "      <td>6047</td>\n",
       "    </tr>\n",
       "  </tbody>\n",
       "</table>\n",
       "</div>"
      ],
      "text/plain": [
       "   bnsp_auc  bpsn_auc      ...       subgroup_auc  subgroup_size\n",
       "0  0.792325  0.964986      ...           0.797849           1530\n",
       "1  0.808206  0.962827      ...           0.805768           2561\n",
       "4  0.815270  0.962558      ...           0.814274           1022\n",
       "7  0.832913  0.958599      ...           0.826231           2523\n",
       "6  0.886386  0.956941      ...           0.879691            773\n",
       "2  0.913379  0.957046      ...           0.900190           3792\n",
       "5  0.927626  0.944009      ...           0.903570           3310\n",
       "8  0.892003  0.967417      ...           0.908296            272\n",
       "3  0.914943  0.957601      ...           0.911274           6047\n",
       "\n",
       "[9 rows x 5 columns]"
      ]
     },
     "metadata": {},
     "output_type": "display_data"
    },
    {
     "name": "stdout",
     "output_type": "stream",
     "text": [
      "Final Metric: 0.9066306847322756\n"
     ]
    }
   ],
   "source": [
    "# results_df = pd.concat([pd.DataFrame(control_preds, columns=['w/o pretrained']).reset_index(drop=True), results_df], axis=1)\n",
    "ctrl_bias_metrics = compute_subgroup_bias_metrics(results_df, IDENTITY_COLUMNS, 'w/o pretrained', 'target')\n",
    "overall_auc = auc(results_df['target'], results_df['w/o pretrained'])\n",
    "ctrl_final_bias = compute_final_bias(ctrl_bias_metrics, overall_auc)\n",
    "display(ctrl_bias_metrics)\n",
    "print(f'Final Metric: {ctrl_final_bias}')"
   ]
  },
  {
   "cell_type": "markdown",
   "metadata": {},
   "source": [
    "<a id='fasttext'></a>\n",
    "## FastText \n",
    "---"
   ]
  },
  {
   "cell_type": "code",
   "execution_count": 12,
   "metadata": {
    "_kg_hide-input": false
   },
   "outputs": [],
   "source": [
    "fasttext_matrix = build_matrix(tokenizer.word_index, FASTTEXT_PATH)\n",
    "# %time fast_preds = train_model(fasttext_matrix, 'fasttext')"
   ]
  },
  {
   "cell_type": "code",
   "execution_count": 13,
   "metadata": {
    "_kg_hide-input": true
   },
   "outputs": [
    {
     "data": {
      "text/html": [
       "<div>\n",
       "<style scoped>\n",
       "    .dataframe tbody tr th:only-of-type {\n",
       "        vertical-align: middle;\n",
       "    }\n",
       "\n",
       "    .dataframe tbody tr th {\n",
       "        vertical-align: top;\n",
       "    }\n",
       "\n",
       "    .dataframe thead th {\n",
       "        text-align: right;\n",
       "    }\n",
       "</style>\n",
       "<table border=\"1\" class=\"dataframe\">\n",
       "  <thead>\n",
       "    <tr style=\"text-align: right;\">\n",
       "      <th></th>\n",
       "      <th>bnsp_auc</th>\n",
       "      <th>bpsn_auc</th>\n",
       "      <th>subgroup</th>\n",
       "      <th>subgroup_auc</th>\n",
       "      <th>subgroup_size</th>\n",
       "    </tr>\n",
       "  </thead>\n",
       "  <tbody>\n",
       "    <tr>\n",
       "      <th>0</th>\n",
       "      <td>0.812874</td>\n",
       "      <td>0.974226</td>\n",
       "      <td>black</td>\n",
       "      <td>0.835925</td>\n",
       "      <td>1530</td>\n",
       "    </tr>\n",
       "    <tr>\n",
       "      <th>4</th>\n",
       "      <td>0.827635</td>\n",
       "      <td>0.972240</td>\n",
       "      <td>homosexual_gay_or_lesbian</td>\n",
       "      <td>0.843779</td>\n",
       "      <td>1022</td>\n",
       "    </tr>\n",
       "    <tr>\n",
       "      <th>1</th>\n",
       "      <td>0.828917</td>\n",
       "      <td>0.974029</td>\n",
       "      <td>white</td>\n",
       "      <td>0.846755</td>\n",
       "      <td>2561</td>\n",
       "    </tr>\n",
       "    <tr>\n",
       "      <th>7</th>\n",
       "      <td>0.854679</td>\n",
       "      <td>0.969971</td>\n",
       "      <td>muslim</td>\n",
       "      <td>0.857323</td>\n",
       "      <td>2523</td>\n",
       "    </tr>\n",
       "    <tr>\n",
       "      <th>6</th>\n",
       "      <td>0.909440</td>\n",
       "      <td>0.965630</td>\n",
       "      <td>jewish</td>\n",
       "      <td>0.908262</td>\n",
       "      <td>773</td>\n",
       "    </tr>\n",
       "    <tr>\n",
       "      <th>8</th>\n",
       "      <td>0.897614</td>\n",
       "      <td>0.976480</td>\n",
       "      <td>psychiatric_or_mental_illness</td>\n",
       "      <td>0.916388</td>\n",
       "      <td>272</td>\n",
       "    </tr>\n",
       "    <tr>\n",
       "      <th>2</th>\n",
       "      <td>0.929399</td>\n",
       "      <td>0.967873</td>\n",
       "      <td>male</td>\n",
       "      <td>0.922930</td>\n",
       "      <td>3792</td>\n",
       "    </tr>\n",
       "    <tr>\n",
       "      <th>3</th>\n",
       "      <td>0.929284</td>\n",
       "      <td>0.966610</td>\n",
       "      <td>female</td>\n",
       "      <td>0.923054</td>\n",
       "      <td>6047</td>\n",
       "    </tr>\n",
       "    <tr>\n",
       "      <th>5</th>\n",
       "      <td>0.940923</td>\n",
       "      <td>0.957193</td>\n",
       "      <td>christian</td>\n",
       "      <td>0.924643</td>\n",
       "      <td>3310</td>\n",
       "    </tr>\n",
       "  </tbody>\n",
       "</table>\n",
       "</div>"
      ],
      "text/plain": [
       "   bnsp_auc  bpsn_auc      ...       subgroup_auc  subgroup_size\n",
       "0  0.812874  0.974226      ...           0.835925           1530\n",
       "4  0.827635  0.972240      ...           0.843779           1022\n",
       "1  0.828917  0.974029      ...           0.846755           2561\n",
       "7  0.854679  0.969971      ...           0.857323           2523\n",
       "6  0.909440  0.965630      ...           0.908262            773\n",
       "8  0.897614  0.976480      ...           0.916388            272\n",
       "2  0.929399  0.967873      ...           0.922930           3792\n",
       "3  0.929284  0.966610      ...           0.923054           6047\n",
       "5  0.940923  0.957193      ...           0.924643           3310\n",
       "\n",
       "[9 rows x 5 columns]"
      ]
     },
     "metadata": {},
     "output_type": "display_data"
    },
    {
     "name": "stdout",
     "output_type": "stream",
     "text": [
      "Final Metric: 0.922882938114537\n"
     ]
    }
   ],
   "source": [
    "# results_df = pd.concat([pd.DataFrame(fast_preds, columns=['fasttext']).reset_index(drop=True), y_val.reset_index(drop=True)], axis=1).fillna(0)\n",
    "ft_bias_metrics = compute_subgroup_bias_metrics(results_df, IDENTITY_COLUMNS, 'fasttext', 'target')\n",
    "overall_auc = auc(results_df['target'], results_df['fasttext'])\n",
    "ft_final_bias = compute_final_bias(ft_bias_metrics, overall_auc)\n",
    "display(ft_bias_metrics)\n",
    "print(f'Final Metric: {ft_final_bias}')"
   ]
  },
  {
   "cell_type": "markdown",
   "metadata": {},
   "source": [
    "<a id='glove'></a>\n",
    "## GloVE \n",
    "---"
   ]
  },
  {
   "cell_type": "code",
   "execution_count": 14,
   "metadata": {
    "_kg_hide-input": false
   },
   "outputs": [],
   "source": [
    "glove_matrix = build_matrix(tokenizer.word_index, GLOVE_PATH)\n",
    "# %time glove_preds = train_model(glove_matrix, 'glove')"
   ]
  },
  {
   "cell_type": "code",
   "execution_count": 15,
   "metadata": {
    "_kg_hide-input": true
   },
   "outputs": [
    {
     "data": {
      "text/html": [
       "<div>\n",
       "<style scoped>\n",
       "    .dataframe tbody tr th:only-of-type {\n",
       "        vertical-align: middle;\n",
       "    }\n",
       "\n",
       "    .dataframe tbody tr th {\n",
       "        vertical-align: top;\n",
       "    }\n",
       "\n",
       "    .dataframe thead th {\n",
       "        text-align: right;\n",
       "    }\n",
       "</style>\n",
       "<table border=\"1\" class=\"dataframe\">\n",
       "  <thead>\n",
       "    <tr style=\"text-align: right;\">\n",
       "      <th></th>\n",
       "      <th>bnsp_auc</th>\n",
       "      <th>bpsn_auc</th>\n",
       "      <th>subgroup</th>\n",
       "      <th>subgroup_auc</th>\n",
       "      <th>subgroup_size</th>\n",
       "    </tr>\n",
       "  </thead>\n",
       "  <tbody>\n",
       "    <tr>\n",
       "      <th>0</th>\n",
       "      <td>0.812132</td>\n",
       "      <td>0.973823</td>\n",
       "      <td>black</td>\n",
       "      <td>0.834660</td>\n",
       "      <td>1530</td>\n",
       "    </tr>\n",
       "    <tr>\n",
       "      <th>1</th>\n",
       "      <td>0.832011</td>\n",
       "      <td>0.972975</td>\n",
       "      <td>white</td>\n",
       "      <td>0.845060</td>\n",
       "      <td>2561</td>\n",
       "    </tr>\n",
       "    <tr>\n",
       "      <th>4</th>\n",
       "      <td>0.827595</td>\n",
       "      <td>0.972050</td>\n",
       "      <td>homosexual_gay_or_lesbian</td>\n",
       "      <td>0.848932</td>\n",
       "      <td>1022</td>\n",
       "    </tr>\n",
       "    <tr>\n",
       "      <th>7</th>\n",
       "      <td>0.863681</td>\n",
       "      <td>0.967353</td>\n",
       "      <td>muslim</td>\n",
       "      <td>0.854617</td>\n",
       "      <td>2523</td>\n",
       "    </tr>\n",
       "    <tr>\n",
       "      <th>6</th>\n",
       "      <td>0.914330</td>\n",
       "      <td>0.964587</td>\n",
       "      <td>jewish</td>\n",
       "      <td>0.910910</td>\n",
       "      <td>773</td>\n",
       "    </tr>\n",
       "    <tr>\n",
       "      <th>8</th>\n",
       "      <td>0.896834</td>\n",
       "      <td>0.976465</td>\n",
       "      <td>psychiatric_or_mental_illness</td>\n",
       "      <td>0.911272</td>\n",
       "      <td>272</td>\n",
       "    </tr>\n",
       "    <tr>\n",
       "      <th>3</th>\n",
       "      <td>0.930229</td>\n",
       "      <td>0.965515</td>\n",
       "      <td>female</td>\n",
       "      <td>0.922186</td>\n",
       "      <td>6047</td>\n",
       "    </tr>\n",
       "    <tr>\n",
       "      <th>2</th>\n",
       "      <td>0.928883</td>\n",
       "      <td>0.968025</td>\n",
       "      <td>male</td>\n",
       "      <td>0.922873</td>\n",
       "      <td>3792</td>\n",
       "    </tr>\n",
       "    <tr>\n",
       "      <th>5</th>\n",
       "      <td>0.942932</td>\n",
       "      <td>0.955208</td>\n",
       "      <td>christian</td>\n",
       "      <td>0.924792</td>\n",
       "      <td>3310</td>\n",
       "    </tr>\n",
       "  </tbody>\n",
       "</table>\n",
       "</div>"
      ],
      "text/plain": [
       "   bnsp_auc  bpsn_auc      ...       subgroup_auc  subgroup_size\n",
       "0  0.812132  0.973823      ...           0.834660           1530\n",
       "1  0.832011  0.972975      ...           0.845060           2561\n",
       "4  0.827595  0.972050      ...           0.848932           1022\n",
       "7  0.863681  0.967353      ...           0.854617           2523\n",
       "6  0.914330  0.964587      ...           0.910910            773\n",
       "8  0.896834  0.976465      ...           0.911272            272\n",
       "3  0.930229  0.965515      ...           0.922186           6047\n",
       "2  0.928883  0.968025      ...           0.922873           3792\n",
       "5  0.942932  0.955208      ...           0.924792           3310\n",
       "\n",
       "[9 rows x 5 columns]"
      ]
     },
     "metadata": {},
     "output_type": "display_data"
    },
    {
     "name": "stdout",
     "output_type": "stream",
     "text": [
      "Final Metric: 0.9230018897837428\n"
     ]
    }
   ],
   "source": [
    "# results_df = pd.concat([pd.DataFrame(glove_preds, columns=['glove']).reset_index(drop=True), results_df], axis=1)\n",
    "gl_bias_metrics = compute_subgroup_bias_metrics(results_df, IDENTITY_COLUMNS, 'glove', 'target')\n",
    "overall_auc = auc(results_df['target'], results_df['glove'])\n",
    "gl_final_bias = compute_final_bias(gl_bias_metrics, overall_auc)\n",
    "display(gl_bias_metrics)\n",
    "print(f'Final Metric: {gl_final_bias}')"
   ]
  },
  {
   "cell_type": "markdown",
   "metadata": {},
   "source": [
    "Other popular models seem to use GloVe and Fasttext embeddings- but I have yet to see the use of [ConceptNet Numberbatch](https://github.com/commonsense/conceptnet-numberbatch) embeddings- which according to the README were specifically created for dealing with bias in text.  "
   ]
  },
  {
   "cell_type": "markdown",
   "metadata": {},
   "source": [
    "<a id='numberbatch'></a>\n",
    "## Conceptnet Numberbatch\n",
    "---"
   ]
  },
  {
   "cell_type": "code",
   "execution_count": 16,
   "metadata": {
    "_kg_hide-input": false
   },
   "outputs": [],
   "source": [
    "numb_matrix = build_matrix(tokenizer.word_index, NUMBERBATCH_PATH)\n",
    "# %time numb_preds = train_model(numb_matrix, 'numberbatch')"
   ]
  },
  {
   "cell_type": "code",
   "execution_count": 17,
   "metadata": {
    "_kg_hide-input": true
   },
   "outputs": [
    {
     "data": {
      "text/html": [
       "<div>\n",
       "<style scoped>\n",
       "    .dataframe tbody tr th:only-of-type {\n",
       "        vertical-align: middle;\n",
       "    }\n",
       "\n",
       "    .dataframe tbody tr th {\n",
       "        vertical-align: top;\n",
       "    }\n",
       "\n",
       "    .dataframe thead th {\n",
       "        text-align: right;\n",
       "    }\n",
       "</style>\n",
       "<table border=\"1\" class=\"dataframe\">\n",
       "  <thead>\n",
       "    <tr style=\"text-align: right;\">\n",
       "      <th></th>\n",
       "      <th>bnsp_auc</th>\n",
       "      <th>bpsn_auc</th>\n",
       "      <th>subgroup</th>\n",
       "      <th>subgroup_auc</th>\n",
       "      <th>subgroup_size</th>\n",
       "    </tr>\n",
       "  </thead>\n",
       "  <tbody>\n",
       "    <tr>\n",
       "      <th>0</th>\n",
       "      <td>0.814948</td>\n",
       "      <td>0.970154</td>\n",
       "      <td>black</td>\n",
       "      <td>0.831793</td>\n",
       "      <td>1530</td>\n",
       "    </tr>\n",
       "    <tr>\n",
       "      <th>1</th>\n",
       "      <td>0.829645</td>\n",
       "      <td>0.968554</td>\n",
       "      <td>white</td>\n",
       "      <td>0.834742</td>\n",
       "      <td>2561</td>\n",
       "    </tr>\n",
       "    <tr>\n",
       "      <th>4</th>\n",
       "      <td>0.820064</td>\n",
       "      <td>0.969506</td>\n",
       "      <td>homosexual_gay_or_lesbian</td>\n",
       "      <td>0.836156</td>\n",
       "      <td>1022</td>\n",
       "    </tr>\n",
       "    <tr>\n",
       "      <th>7</th>\n",
       "      <td>0.854343</td>\n",
       "      <td>0.964443</td>\n",
       "      <td>muslim</td>\n",
       "      <td>0.846812</td>\n",
       "      <td>2523</td>\n",
       "    </tr>\n",
       "    <tr>\n",
       "      <th>6</th>\n",
       "      <td>0.911983</td>\n",
       "      <td>0.959801</td>\n",
       "      <td>jewish</td>\n",
       "      <td>0.906825</td>\n",
       "      <td>773</td>\n",
       "    </tr>\n",
       "    <tr>\n",
       "      <th>5</th>\n",
       "      <td>0.941243</td>\n",
       "      <td>0.948335</td>\n",
       "      <td>christian</td>\n",
       "      <td>0.915777</td>\n",
       "      <td>3310</td>\n",
       "    </tr>\n",
       "    <tr>\n",
       "      <th>8</th>\n",
       "      <td>0.897384</td>\n",
       "      <td>0.974442</td>\n",
       "      <td>psychiatric_or_mental_illness</td>\n",
       "      <td>0.916388</td>\n",
       "      <td>272</td>\n",
       "    </tr>\n",
       "    <tr>\n",
       "      <th>2</th>\n",
       "      <td>0.925192</td>\n",
       "      <td>0.963632</td>\n",
       "      <td>male</td>\n",
       "      <td>0.916489</td>\n",
       "      <td>3792</td>\n",
       "    </tr>\n",
       "    <tr>\n",
       "      <th>3</th>\n",
       "      <td>0.926082</td>\n",
       "      <td>0.961697</td>\n",
       "      <td>female</td>\n",
       "      <td>0.917064</td>\n",
       "      <td>6047</td>\n",
       "    </tr>\n",
       "  </tbody>\n",
       "</table>\n",
       "</div>"
      ],
      "text/plain": [
       "   bnsp_auc  bpsn_auc      ...       subgroup_auc  subgroup_size\n",
       "0  0.814948  0.970154      ...           0.831793           1530\n",
       "1  0.829645  0.968554      ...           0.834742           2561\n",
       "4  0.820064  0.969506      ...           0.836156           1022\n",
       "7  0.854343  0.964443      ...           0.846812           2523\n",
       "6  0.911983  0.959801      ...           0.906825            773\n",
       "5  0.941243  0.948335      ...           0.915777           3310\n",
       "8  0.897384  0.974442      ...           0.916388            272\n",
       "2  0.925192  0.963632      ...           0.916489           3792\n",
       "3  0.926082  0.961697      ...           0.917064           6047\n",
       "\n",
       "[9 rows x 5 columns]"
      ]
     },
     "metadata": {},
     "output_type": "display_data"
    },
    {
     "name": "stdout",
     "output_type": "stream",
     "text": [
      "Final Metric: 0.9186712361119769\n"
     ]
    }
   ],
   "source": [
    "# results_df = pd.concat([pd.DataFrame(numb_preds, columns=['numberbatch']).reset_index(drop=True), results_df], axis=1)\n",
    "nb_bias_metrics = compute_subgroup_bias_metrics(results_df, IDENTITY_COLUMNS, 'numberbatch', 'target')\n",
    "overall_auc = auc(results_df['target'], results_df['numberbatch'])\n",
    "nb_final_bias = compute_final_bias(nb_bias_metrics, overall_auc)\n",
    "display(nb_bias_metrics)\n",
    "print(f'Final Metric: {nb_final_bias}')"
   ]
  },
  {
   "cell_type": "markdown",
   "metadata": {},
   "source": [
    "<a id='bert'></a>\n",
    "## BERT Embeddings\n",
    "---"
   ]
  },
  {
   "cell_type": "markdown",
   "metadata": {},
   "source": [
    "In this section I'll show how to create custom BERT embeddings from a pretrained BERT model. Unfortunately, the BERT embeddings have 768 dimensions when trained on the small pre-trained model (and 1024 for the larger one) and I wasn't able train a model to benchmark because there isn't a lot of text pre-processing in this kernel and the vocabulary is really large. If you run into memory issues with the larger BERT embeddings consider decreasing the vocabulary."
   ]
  },
  {
   "cell_type": "code",
   "execution_count": 18,
   "metadata": {
    "_kg_hide-input": false,
    "_kg_hide-output": true
   },
   "outputs": [
    {
     "name": "stdout",
     "output_type": "stream",
     "text": [
      "Collecting bert_embedding\r\n",
      "  Downloading https://files.pythonhosted.org/packages/62/85/e0d56e29a055d8b3ba6da6e52afe404f209453057de95b90c01475c3ff75/bert_embedding-1.0.1-py3-none-any.whl\r\n",
      "Requirement already satisfied: gluonnlp==0.6.0 in /opt/conda/lib/python3.6/site-packages (from bert_embedding) (0.6.0)\r\n",
      "Collecting mxnet==1.4.0 (from bert_embedding)\r\n",
      "\u001b[?25l  Downloading https://files.pythonhosted.org/packages/c0/e9/241aadccc4522f99adee5b6043f730d58adb7c001e0a68865a3728c3b4ae/mxnet-1.4.0-py2.py3-none-manylinux1_x86_64.whl (29.6MB)\r\n",
      "\u001b[K    100% |████████████████████████████████| 29.6MB 1.3MB/s \r\n",
      "\u001b[?25hCollecting numpy==1.14.6 (from bert_embedding)\r\n",
      "\u001b[?25l  Downloading https://files.pythonhosted.org/packages/e5/c4/395ebb218053ba44d64935b3729bc88241ec279915e72100c5979db10945/numpy-1.14.6-cp36-cp36m-manylinux1_x86_64.whl (13.8MB)\r\n",
      "\u001b[K    100% |████████████████████████████████| 13.8MB 2.7MB/s \r\n",
      "\u001b[?25hCollecting typing==3.6.6 (from bert_embedding)\r\n",
      "  Downloading https://files.pythonhosted.org/packages/4a/bd/eee1157fc2d8514970b345d69cb9975dcd1e42cd7e61146ed841f6e68309/typing-3.6.6-py3-none-any.whl\r\n",
      "Requirement already satisfied: requests>=2.20.0 in /opt/conda/lib/python3.6/site-packages (from mxnet==1.4.0->bert_embedding) (2.21.0)\r\n",
      "Requirement already satisfied: graphviz<0.9.0,>=0.8.1 in /opt/conda/lib/python3.6/site-packages (from mxnet==1.4.0->bert_embedding) (0.8.4)\r\n",
      "Requirement already satisfied: urllib3<1.25,>=1.21.1 in /opt/conda/lib/python3.6/site-packages (from requests>=2.20.0->mxnet==1.4.0->bert_embedding) (1.22)\r\n",
      "Requirement already satisfied: certifi>=2017.4.17 in /opt/conda/lib/python3.6/site-packages (from requests>=2.20.0->mxnet==1.4.0->bert_embedding) (2019.3.9)\r\n",
      "Requirement already satisfied: chardet<3.1.0,>=3.0.2 in /opt/conda/lib/python3.6/site-packages (from requests>=2.20.0->mxnet==1.4.0->bert_embedding) (3.0.4)\r\n",
      "Requirement already satisfied: idna<2.9,>=2.5 in /opt/conda/lib/python3.6/site-packages (from requests>=2.20.0->mxnet==1.4.0->bert_embedding) (2.6)\r\n",
      "\u001b[31mspacy 2.1.3 has requirement numpy>=1.15.0, but you'll have numpy 1.14.6 which is incompatible.\u001b[0m\r\n",
      "\u001b[31mlime 0.1.1.33 has requirement matplotlib==2.1.0, but you'll have matplotlib 3.0.3 which is incompatible.\u001b[0m\r\n",
      "\u001b[31mkmeans-smote 0.1.2 has requirement imbalanced-learn<0.5,>=0.4.0, but you'll have imbalanced-learn 0.5.0.dev0 which is incompatible.\u001b[0m\r\n",
      "\u001b[31mimgaug 0.2.8 has requirement numpy>=1.15.0, but you'll have numpy 1.14.6 which is incompatible.\u001b[0m\r\n",
      "\u001b[31mfastai 1.0.51 has requirement numpy>=1.15, but you'll have numpy 1.14.6 which is incompatible.\u001b[0m\r\n",
      "\u001b[31mcvxpy 1.0.21 has requirement numpy>=1.15, but you'll have numpy 1.14.6 which is incompatible.\u001b[0m\r\n",
      "\u001b[31mblis 0.2.4 has requirement numpy>=1.15.0, but you'll have numpy 1.14.6 which is incompatible.\u001b[0m\r\n",
      "Installing collected packages: numpy, mxnet, typing, bert-embedding\r\n",
      "  Found existing installation: numpy 1.16.3\r\n",
      "    Uninstalling numpy-1.16.3:\r\n",
      "      Successfully uninstalled numpy-1.16.3\r\n",
      "  Found existing installation: mxnet 1.4.0.post0\r\n",
      "    Uninstalling mxnet-1.4.0.post0:\r\n",
      "      Successfully uninstalled mxnet-1.4.0.post0\r\n",
      "  Found existing installation: typing 3.6.4\r\n",
      "    Uninstalling typing-3.6.4:\r\n",
      "      Successfully uninstalled typing-3.6.4\r\n",
      "Successfully installed bert-embedding-1.0.1 mxnet-1.4.0 numpy-1.14.6 typing-3.6.6\r\n",
      "\u001b[33mYou are using pip version 19.0.3, however version 19.1.1 is available.\r\n",
      "You should consider upgrading via the 'pip install --upgrade pip' command.\u001b[0m\r\n"
     ]
    }
   ],
   "source": [
    "! pip install bert_embedding\n",
    "from bert_embedding import BertEmbedding\n",
    "\n",
    "def get_bert_embed_matrix():\n",
    "    %%time\n",
    "    # Total CPU time (my machine): 1d 4h 7min\n",
    "    vocab = list(tokenizer.word_index.keys())\n",
    "    embedding_results = bert_embedding(vocab)\n",
    "    bert_embeddings = {}\n",
    "    for emb in embedding_results:\n",
    "        try: \n",
    "            bert_embeddings[emb[0][0]] = emb[1][0]\n",
    "        except:\n",
    "            pass\n",
    "    with open('../input/bert.768.pkl', 'wb') as f:\n",
    "        pickle.dump(bert_embeddings, f)\n"
   ]
  },
  {
   "cell_type": "markdown",
   "metadata": {},
   "source": [
    "This method will extract word embeddings and save them as a dict in a pickle file, so to load them into a model you'll have to use a slightly different `build_matrix` and `load_embedding` methods like those seen in [How To: Preprocessing for GloVe Part2: Usage](https://www.kaggle.com/christofhenkel/how-to-preprocessing-for-glove-part2-usage). Saving and loading as a pickle will also be considerably faster. If I find a way to do a commensurate benchmark with my BERT embeddings I will, but for now I'll just leave the method to create your own.\n",
    "<a id='compare'></a>"
   ]
  },
  {
   "cell_type": "code",
   "execution_count": 19,
   "metadata": {
    "_kg_hide-input": true
   },
   "outputs": [
    {
     "data": {
      "application/vnd.plotly.v1+json": {
       "config": {
        "linkText": "Export to plot.ly",
        "plotlyServerURL": "https://plot.ly",
        "responsive": true,
        "showLink": false
       },
       "data": [
        {
         "legendgroup": "w/o pretrained",
         "marker": {
          "color": "rgb(213,62,79)",
          "size": [
           19.802597402597403,
           27.836363636363636,
           15.844155844155843,
           27.540259740259742,
           13.903896103896104,
           37.42857142857143,
           33.67272727272727,
           10.0,
           55.0
          ]
         },
         "mode": "markers",
         "name": "w/o pretrained",
         "text": [
          "black",
          "white",
          "homosexual_gay_or_lesbian",
          "muslim",
          "jewish",
          "male",
          "christian",
          "psychiatric_or_mental_illness",
          "female"
         ],
         "type": "scatter",
         "uid": "b23b3c28-3684-4b41-a6cf-5601702449ea",
         "x": [
          0.7978493593451726,
          0.8057678662878691,
          0.8142738720246319,
          0.826230554541099,
          0.8796907262770446,
          0.900189940243983,
          0.9035697152741179,
          0.9082961309523809,
          0.9112744568462112
         ],
         "y": [
          1530,
          2561,
          1022,
          2523,
          773,
          3792,
          3310,
          272,
          6047
         ]
        },
        {
         "legendgroup": "fasttext",
         "marker": {
          "color": "rgb(253,174,97)",
          "size": [
           19.802597402597403,
           15.844155844155843,
           27.836363636363636,
           27.540259740259742,
           13.903896103896104,
           10.0,
           37.42857142857143,
           55.0,
           33.67272727272727
          ]
         },
         "mode": "markers",
         "name": "fasttext",
         "text": [
          "black",
          "homosexual_gay_or_lesbian",
          "white",
          "muslim",
          "jewish",
          "psychiatric_or_mental_illness",
          "male",
          "female",
          "christian"
         ],
         "type": "scatter",
         "uid": "1b5b0252-d760-4215-b95c-302363ace433",
         "x": [
          0.8359252979117254,
          0.8437786462102571,
          0.8467546856179923,
          0.8573231857885231,
          0.9082615136008618,
          0.9163876488095238,
          0.9229300800879398,
          0.9230538510962799,
          0.9246429102309429
         ],
         "y": [
          1530,
          1022,
          2561,
          2523,
          773,
          272,
          3792,
          6047,
          3310
         ]
        },
        {
         "legendgroup": "glove",
         "marker": {
          "color": "rgb(255,255,191)",
          "size": [
           19.802597402597403,
           27.836363636363636,
           15.844155844155843,
           27.540259740259742,
           13.903896103896104,
           10.0,
           55.0,
           37.42857142857143,
           33.67272727272727
          ]
         },
         "mode": "markers",
         "name": "glove",
         "text": [
          "black",
          "white",
          "homosexual_gay_or_lesbian",
          "muslim",
          "jewish",
          "psychiatric_or_mental_illness",
          "female",
          "male",
          "christian"
         ],
         "type": "scatter",
         "uid": "f5f49c41-214e-4407-9ce8-45c55970c22b",
         "x": [
          0.8346598961647481,
          0.8450602528560025,
          0.8489322227924051,
          0.8546168201753652,
          0.9109098662357482,
          0.9112723214285715,
          0.9221856448104664,
          0.9228727415862205,
          0.9247915568708531
         ],
         "y": [
          1530,
          2561,
          1022,
          2523,
          773,
          272,
          6047,
          3792,
          3310
         ]
        },
        {
         "legendgroup": "numberbatch",
         "marker": {
          "color": "rgb(171,221,164)",
          "size": [
           19.802597402597403,
           27.836363636363636,
           15.844155844155843,
           27.540259740259742,
           13.903896103896104,
           33.67272727272727,
           10.0,
           37.42857142857143,
           55.0
          ]
         },
         "mode": "markers",
         "name": "numberbatch",
         "text": [
          "black",
          "white",
          "homosexual_gay_or_lesbian",
          "muslim",
          "jewish",
          "christian",
          "psychiatric_or_mental_illness",
          "male",
          "female"
         ],
         "type": "scatter",
         "uid": "06c70426-8227-4fe6-b69c-4302869e8a06",
         "x": [
          0.8317928573494534,
          0.8347420227908001,
          0.8361557388913012,
          0.846811832622469,
          0.9068251189514319,
          0.915777320576749,
          0.9163876488095238,
          0.9164890550614917,
          0.917063665107686
         ],
         "y": [
          1530,
          2561,
          1022,
          2523,
          773,
          3310,
          272,
          3792,
          6047
         ]
        }
       ],
       "layout": {
        "hovermode": "closest",
        "showlegend": true,
        "title": {
         "text": "Subgroup Size vs Subgroup AUC"
        },
        "xaxis": {
         "title": {
          "text": "Subgroup AUC"
         }
        },
        "yaxis": {
         "title": {
          "text": "Subgroup Size"
         }
        }
       }
      },
      "text/html": [
       "<div>\n",
       "        \n",
       "        \n",
       "            <div id=\"84d0dc80-3436-4a23-9c4d-2c4b3d0214c5\" class=\"plotly-graph-div\" style=\"height:525px; width:100%;\"></div>\n",
       "            <script type=\"text/javascript\">\n",
       "                require([\"plotly\"], function(Plotly) {\n",
       "                    window.PLOTLYENV=window.PLOTLYENV || {};\n",
       "                    window.PLOTLYENV.BASE_URL='https://plot.ly';\n",
       "                    \n",
       "                if (document.getElementById(\"84d0dc80-3436-4a23-9c4d-2c4b3d0214c5\")) {\n",
       "                    Plotly.newPlot(\n",
       "                        '84d0dc80-3436-4a23-9c4d-2c4b3d0214c5',\n",
       "                        [{\"legendgroup\": \"w/o pretrained\", \"marker\": {\"color\": \"rgb(213,62,79)\", \"size\": [19.802597402597403, 27.836363636363636, 15.844155844155843, 27.540259740259742, 13.903896103896104, 37.42857142857143, 33.67272727272727, 10.0, 55.0]}, \"mode\": \"markers\", \"name\": \"w/o pretrained\", \"text\": [\"black\", \"white\", \"homosexual_gay_or_lesbian\", \"muslim\", \"jewish\", \"male\", \"christian\", \"psychiatric_or_mental_illness\", \"female\"], \"type\": \"scatter\", \"uid\": \"9ff5213c-da67-457f-8a09-bdd9fa850846\", \"x\": [0.7978493593451726, 0.8057678662878691, 0.8142738720246319, 0.826230554541099, 0.8796907262770446, 0.900189940243983, 0.9035697152741179, 0.9082961309523809, 0.9112744568462112], \"y\": [1530, 2561, 1022, 2523, 773, 3792, 3310, 272, 6047]}, {\"legendgroup\": \"fasttext\", \"marker\": {\"color\": \"rgb(253,174,97)\", \"size\": [19.802597402597403, 15.844155844155843, 27.836363636363636, 27.540259740259742, 13.903896103896104, 10.0, 37.42857142857143, 55.0, 33.67272727272727]}, \"mode\": \"markers\", \"name\": \"fasttext\", \"text\": [\"black\", \"homosexual_gay_or_lesbian\", \"white\", \"muslim\", \"jewish\", \"psychiatric_or_mental_illness\", \"male\", \"female\", \"christian\"], \"type\": \"scatter\", \"uid\": \"b55101c6-1153-4d99-a96b-965667bdcd0e\", \"x\": [0.8359252979117254, 0.8437786462102571, 0.8467546856179923, 0.8573231857885231, 0.9082615136008618, 0.9163876488095238, 0.9229300800879398, 0.9230538510962799, 0.9246429102309429], \"y\": [1530, 1022, 2561, 2523, 773, 272, 3792, 6047, 3310]}, {\"legendgroup\": \"glove\", \"marker\": {\"color\": \"rgb(255,255,191)\", \"size\": [19.802597402597403, 27.836363636363636, 15.844155844155843, 27.540259740259742, 13.903896103896104, 10.0, 55.0, 37.42857142857143, 33.67272727272727]}, \"mode\": \"markers\", \"name\": \"glove\", \"text\": [\"black\", \"white\", \"homosexual_gay_or_lesbian\", \"muslim\", \"jewish\", \"psychiatric_or_mental_illness\", \"female\", \"male\", \"christian\"], \"type\": \"scatter\", \"uid\": \"2787bbca-b9f0-44e3-ae32-85540d63f5f8\", \"x\": [0.8346598961647481, 0.8450602528560025, 0.8489322227924051, 0.8546168201753652, 0.9109098662357482, 0.9112723214285715, 0.9221856448104664, 0.9228727415862205, 0.9247915568708531], \"y\": [1530, 2561, 1022, 2523, 773, 272, 6047, 3792, 3310]}, {\"legendgroup\": \"numberbatch\", \"marker\": {\"color\": \"rgb(171,221,164)\", \"size\": [19.802597402597403, 27.836363636363636, 15.844155844155843, 27.540259740259742, 13.903896103896104, 33.67272727272727, 10.0, 37.42857142857143, 55.0]}, \"mode\": \"markers\", \"name\": \"numberbatch\", \"text\": [\"black\", \"white\", \"homosexual_gay_or_lesbian\", \"muslim\", \"jewish\", \"christian\", \"psychiatric_or_mental_illness\", \"male\", \"female\"], \"type\": \"scatter\", \"uid\": \"2d095b94-7447-4032-b695-cf732122e7c1\", \"x\": [0.8317928573494534, 0.8347420227908001, 0.8361557388913012, 0.846811832622469, 0.9068251189514319, 0.915777320576749, 0.9163876488095238, 0.9164890550614917, 0.917063665107686], \"y\": [1530, 2561, 1022, 2523, 773, 3310, 272, 3792, 6047]}],\n",
       "                        {\"hovermode\": \"closest\", \"showlegend\": true, \"title\": {\"text\": \"Subgroup Size vs Subgroup AUC\"}, \"xaxis\": {\"title\": {\"text\": \"Subgroup AUC\"}}, \"yaxis\": {\"title\": {\"text\": \"Subgroup Size\"}}},\n",
       "                        {\"showLink\": false, \"linkText\": \"Export to plot.ly\", \"plotlyServerURL\": \"https://plot.ly\", \"responsive\": true}\n",
       "                    ).then(function(){\n",
       "                            \n",
       "var gd = document.getElementById('84d0dc80-3436-4a23-9c4d-2c4b3d0214c5');\n",
       "var x = new MutationObserver(function (mutations, observer) {{\n",
       "        var display = window.getComputedStyle(gd).display;\n",
       "        if (!display || display === 'none') {{\n",
       "            console.log([gd, 'removed!']);\n",
       "            Plotly.purge(gd);\n",
       "            observer.disconnect();\n",
       "        }}\n",
       "}});\n",
       "\n",
       "// Listen for the removal of the full notebook cells\n",
       "var notebookContainer = gd.closest('#notebook-container');\n",
       "if (notebookContainer) {{\n",
       "    x.observe(notebookContainer, {childList: true});\n",
       "}}\n",
       "\n",
       "// Listen for the clearing of the current output cell\n",
       "var outputEl = gd.closest('.output');\n",
       "if (outputEl) {{\n",
       "    x.observe(outputEl, {childList: true});\n",
       "}}\n",
       "\n",
       "                        })\n",
       "                };\n",
       "                });\n",
       "            </script>\n",
       "        </div>"
      ]
     },
     "metadata": {},
     "output_type": "display_data"
    }
   ],
   "source": [
    "def scale(x):\n",
    "    mini = 272\n",
    "    maxi = 6047\n",
    "    scale_rng = [10, 55]\n",
    "    return (scale_rng[1] - scale_rng[0])*((x-mini)/(maxi-mini))+scale_rng[0]\n",
    "    \n",
    "trace0 = go.Scatter(\n",
    "{\n",
    "        'x': ctrl_bias_metrics['subgroup_auc'], \n",
    "        'y': ctrl_bias_metrics['subgroup_size'],\n",
    "        'legendgroup': 'w/o pretrained',\n",
    "        'name': 'w/o pretrained', \n",
    "        'mode': 'markers', \n",
    "        'marker': {\n",
    "            'color': cl.scales['9']['div']['Spectral'][0],\n",
    "            'size': [scale(x) for x in ctrl_bias_metrics['subgroup_size']]\n",
    "        },\n",
    "        'text': ctrl_bias_metrics['subgroup']\n",
    "    })\n",
    "\n",
    "trace1 = go.Scatter(\n",
    "{\n",
    "        'x': ft_bias_metrics['subgroup_auc'], \n",
    "        'y': ft_bias_metrics['subgroup_size'],\n",
    "        'legendgroup': 'fasttext',\n",
    "        'name': 'fasttext', \n",
    "        'mode': 'markers', \n",
    "        'marker': {\n",
    "            'color': cl.scales['9']['div']['Spectral'][2],\n",
    "            'size': [scale(x) for x in ft_bias_metrics['subgroup_size']]\n",
    "        },\n",
    "        'text': ft_bias_metrics['subgroup']\n",
    "    })\n",
    "\n",
    "trace2 = go.Scatter(\n",
    "{\n",
    "        'x': gl_bias_metrics['subgroup_auc'], \n",
    "        'y': gl_bias_metrics['subgroup_size'],\n",
    "        'legendgroup': 'glove',\n",
    "        'name': 'glove', \n",
    "        'mode': 'markers', \n",
    "        'marker': {\n",
    "            'color': cl.scales['9']['div']['Spectral'][4],\n",
    "            'size': [scale(x) for x in gl_bias_metrics['subgroup_size']]\n",
    "        },\n",
    "        'text': gl_bias_metrics['subgroup']\n",
    "    })\n",
    "\n",
    "trace3 = go.Scatter(\n",
    "{\n",
    "        'x': nb_bias_metrics['subgroup_auc'], \n",
    "        'y': nb_bias_metrics['subgroup_size'],\n",
    "        'legendgroup': 'numberbatch',\n",
    "        'name': 'numberbatch', \n",
    "        'mode': 'markers', \n",
    "        'marker': {\n",
    "            'color': cl.scales['9']['div']['Spectral'][6],\n",
    "            'size': [scale(x) for x in nb_bias_metrics['subgroup_size']]\n",
    "        },\n",
    "        'text': nb_bias_metrics['subgroup']\n",
    "    })\n",
    "\n",
    "layout = go.Layout(\n",
    "    title= 'Subgroup Size vs Subgroup AUC',\n",
    "    hovermode = 'closest',\n",
    "    xaxis = dict(\n",
    "        title='Subgroup AUC'\n",
    "    ),\n",
    "    yaxis = dict(\n",
    "        title='Subgroup Size'\n",
    "    ),\n",
    "    showlegend = True\n",
    ")\n",
    "\n",
    "fig = go.Figure(data=[trace0, trace1, trace2, trace3], layout=layout)\n",
    "py.iplot(fig)"
   ]
  },
  {
   "cell_type": "code",
   "execution_count": 20,
   "metadata": {
    "_kg_hide-input": true
   },
   "outputs": [
    {
     "data": {
      "application/vnd.plotly.v1+json": {
       "config": {
        "linkText": "Export to plot.ly",
        "plotlyServerURL": "https://plot.ly",
        "responsive": true,
        "showLink": false
       },
       "data": [
        {
         "legendgroup": "w/o pretrained",
         "marker": {
          "color": "rgb(213,62,79)",
          "size": [
           19.802597402597403,
           27.836363636363636,
           15.844155844155843,
           27.540259740259742,
           13.903896103896104,
           37.42857142857143,
           33.67272727272727,
           10.0,
           55.0
          ]
         },
         "mode": "markers",
         "name": "w/o pretrained",
         "text": [
          "black",
          "white",
          "homosexual_gay_or_lesbian",
          "muslim",
          "jewish",
          "male",
          "christian",
          "psychiatric_or_mental_illness",
          "female"
         ],
         "type": "scatter",
         "uid": "bcfa3149-cac5-4753-8e7c-f3861299b920",
         "x": [
          0.7923247337343577,
          0.808205508175174,
          0.8152700160422168,
          0.8329125336081765,
          0.886385657537129,
          0.9133788784985695,
          0.9276258726827319,
          0.8920028080557059,
          0.9149425770276549
         ],
         "y": [
          0.9649861383879954,
          0.9628274570024768,
          0.9625576779471725,
          0.9585988504994721,
          0.9569407627115954,
          0.9570457412450109,
          0.9440093354766652,
          0.9674174986039459,
          0.9576010743260198
         ]
        },
        {
         "legendgroup": "fasttext",
         "marker": {
          "color": "rgb(253,174,97)",
          "size": [
           19.802597402597403,
           15.844155844155843,
           27.836363636363636,
           27.540259740259742,
           13.903896103896104,
           10.0,
           37.42857142857143,
           55.0,
           33.67272727272727
          ]
         },
         "mode": "markers",
         "name": "fasttext",
         "text": [
          "black",
          "homosexual_gay_or_lesbian",
          "white",
          "muslim",
          "jewish",
          "psychiatric_or_mental_illness",
          "male",
          "female",
          "christian"
         ],
         "type": "scatter",
         "uid": "869946d6-517d-45e1-ad76-969f70af1afa",
         "x": [
          0.8128741014426887,
          0.8276350361292446,
          0.8289167227296909,
          0.8546787631700539,
          0.909440160925765,
          0.8976138446680774,
          0.9293988051426787,
          0.9292839351266077,
          0.9409233904572987
         ],
         "y": [
          0.9742256318300498,
          0.9722399475539308,
          0.9740293794409343,
          0.9699714172385506,
          0.9656296299223376,
          0.9764800178550118,
          0.9678734764400813,
          0.9666098355088804,
          0.9571933861417073
         ]
        },
        {
         "legendgroup": "glove",
         "marker": {
          "color": "rgb(255,255,191)",
          "size": [
           19.802597402597403,
           27.836363636363636,
           15.844155844155843,
           27.540259740259742,
           13.903896103896104,
           10.0,
           55.0,
           37.42857142857143,
           33.67272727272727
          ]
         },
         "mode": "markers",
         "name": "glove",
         "text": [
          "black",
          "white",
          "homosexual_gay_or_lesbian",
          "muslim",
          "jewish",
          "psychiatric_or_mental_illness",
          "female",
          "male",
          "christian"
         ],
         "type": "scatter",
         "uid": "de6fce2c-a6f9-4fa4-87b1-74bfe4d64235",
         "x": [
          0.8121323678130288,
          0.8320106555787026,
          0.8275950824213372,
          0.8636810760651219,
          0.9143302035893778,
          0.8968337095861424,
          0.9302293923682398,
          0.9288830656619946,
          0.9429320961909531
         ],
         "y": [
          0.9738225450296926,
          0.972975108257008,
          0.9720504515943296,
          0.9673525515963739,
          0.9645868202324177,
          0.9764654443602754,
          0.965514986515802,
          0.9680246915434452,
          0.9552084906715721
         ]
        },
        {
         "legendgroup": "numberbatch",
         "marker": {
          "color": "rgb(171,221,164)",
          "size": [
           19.802597402597403,
           27.836363636363636,
           15.844155844155843,
           27.540259740259742,
           13.903896103896104,
           33.67272727272727,
           10.0,
           37.42857142857143,
           55.0
          ]
         },
         "mode": "markers",
         "name": "numberbatch",
         "text": [
          "black",
          "white",
          "homosexual_gay_or_lesbian",
          "muslim",
          "jewish",
          "christian",
          "psychiatric_or_mental_illness",
          "male",
          "female"
         ],
         "type": "scatter",
         "uid": "4d42d1de-e0ee-4946-82ad-72bab0e768cd",
         "x": [
          0.8149480555945529,
          0.829645395752818,
          0.820063959060098,
          0.8543434896288347,
          0.9119834971039225,
          0.9412425598260776,
          0.8973839408739728,
          0.9251918675304869,
          0.9260817393603603
         ],
         "y": [
          0.9701541347505427,
          0.9685537083997202,
          0.9695060812969233,
          0.9644431295570111,
          0.9598005311800927,
          0.9483347667107834,
          0.9744415605014654,
          0.9636323780335959,
          0.9616966321162308
         ]
        }
       ],
       "layout": {
        "hovermode": "closest",
        "showlegend": true,
        "title": {
         "text": "Word Embeddings Comparison"
        },
        "xaxis": {
         "title": {
          "text": "BNSP-AUC"
         }
        },
        "yaxis": {
         "title": {
          "text": "BPSN-AUC"
         }
        }
       }
      },
      "text/html": [
       "<div>\n",
       "        \n",
       "        \n",
       "            <div id=\"07207aa2-300b-4134-b166-5e900931776c\" class=\"plotly-graph-div\" style=\"height:525px; width:100%;\"></div>\n",
       "            <script type=\"text/javascript\">\n",
       "                require([\"plotly\"], function(Plotly) {\n",
       "                    window.PLOTLYENV=window.PLOTLYENV || {};\n",
       "                    window.PLOTLYENV.BASE_URL='https://plot.ly';\n",
       "                    \n",
       "                if (document.getElementById(\"07207aa2-300b-4134-b166-5e900931776c\")) {\n",
       "                    Plotly.newPlot(\n",
       "                        '07207aa2-300b-4134-b166-5e900931776c',\n",
       "                        [{\"legendgroup\": \"w/o pretrained\", \"marker\": {\"color\": \"rgb(213,62,79)\", \"size\": [19.802597402597403, 27.836363636363636, 15.844155844155843, 27.540259740259742, 13.903896103896104, 37.42857142857143, 33.67272727272727, 10.0, 55.0]}, \"mode\": \"markers\", \"name\": \"w/o pretrained\", \"text\": [\"black\", \"white\", \"homosexual_gay_or_lesbian\", \"muslim\", \"jewish\", \"male\", \"christian\", \"psychiatric_or_mental_illness\", \"female\"], \"type\": \"scatter\", \"uid\": \"76a2eeef-0ece-462f-a1d2-06323e81832f\", \"x\": [0.7923247337343577, 0.808205508175174, 0.8152700160422168, 0.8329125336081765, 0.886385657537129, 0.9133788784985695, 0.9276258726827319, 0.8920028080557059, 0.9149425770276549], \"y\": [0.9649861383879954, 0.9628274570024768, 0.9625576779471725, 0.9585988504994721, 0.9569407627115954, 0.9570457412450109, 0.9440093354766652, 0.9674174986039459, 0.9576010743260198]}, {\"legendgroup\": \"fasttext\", \"marker\": {\"color\": \"rgb(253,174,97)\", \"size\": [19.802597402597403, 15.844155844155843, 27.836363636363636, 27.540259740259742, 13.903896103896104, 10.0, 37.42857142857143, 55.0, 33.67272727272727]}, \"mode\": \"markers\", \"name\": \"fasttext\", \"text\": [\"black\", \"homosexual_gay_or_lesbian\", \"white\", \"muslim\", \"jewish\", \"psychiatric_or_mental_illness\", \"male\", \"female\", \"christian\"], \"type\": \"scatter\", \"uid\": \"ab916b40-99e8-4dad-bfe4-d986c7ae8fc2\", \"x\": [0.8128741014426887, 0.8276350361292446, 0.8289167227296909, 0.8546787631700539, 0.909440160925765, 0.8976138446680774, 0.9293988051426787, 0.9292839351266077, 0.9409233904572987], \"y\": [0.9742256318300498, 0.9722399475539308, 0.9740293794409343, 0.9699714172385506, 0.9656296299223376, 0.9764800178550118, 0.9678734764400813, 0.9666098355088804, 0.9571933861417073]}, {\"legendgroup\": \"glove\", \"marker\": {\"color\": \"rgb(255,255,191)\", \"size\": [19.802597402597403, 27.836363636363636, 15.844155844155843, 27.540259740259742, 13.903896103896104, 10.0, 55.0, 37.42857142857143, 33.67272727272727]}, \"mode\": \"markers\", \"name\": \"glove\", \"text\": [\"black\", \"white\", \"homosexual_gay_or_lesbian\", \"muslim\", \"jewish\", \"psychiatric_or_mental_illness\", \"female\", \"male\", \"christian\"], \"type\": \"scatter\", \"uid\": \"8bed4601-172a-415d-9118-266299391537\", \"x\": [0.8121323678130288, 0.8320106555787026, 0.8275950824213372, 0.8636810760651219, 0.9143302035893778, 0.8968337095861424, 0.9302293923682398, 0.9288830656619946, 0.9429320961909531], \"y\": [0.9738225450296926, 0.972975108257008, 0.9720504515943296, 0.9673525515963739, 0.9645868202324177, 0.9764654443602754, 0.965514986515802, 0.9680246915434452, 0.9552084906715721]}, {\"legendgroup\": \"numberbatch\", \"marker\": {\"color\": \"rgb(171,221,164)\", \"size\": [19.802597402597403, 27.836363636363636, 15.844155844155843, 27.540259740259742, 13.903896103896104, 33.67272727272727, 10.0, 37.42857142857143, 55.0]}, \"mode\": \"markers\", \"name\": \"numberbatch\", \"text\": [\"black\", \"white\", \"homosexual_gay_or_lesbian\", \"muslim\", \"jewish\", \"christian\", \"psychiatric_or_mental_illness\", \"male\", \"female\"], \"type\": \"scatter\", \"uid\": \"203a238c-7465-4d05-8222-dcde5c067f4e\", \"x\": [0.8149480555945529, 0.829645395752818, 0.820063959060098, 0.8543434896288347, 0.9119834971039225, 0.9412425598260776, 0.8973839408739728, 0.9251918675304869, 0.9260817393603603], \"y\": [0.9701541347505427, 0.9685537083997202, 0.9695060812969233, 0.9644431295570111, 0.9598005311800927, 0.9483347667107834, 0.9744415605014654, 0.9636323780335959, 0.9616966321162308]}],\n",
       "                        {\"hovermode\": \"closest\", \"showlegend\": true, \"title\": {\"text\": \"Word Embeddings Comparison\"}, \"xaxis\": {\"title\": {\"text\": \"BNSP-AUC\"}}, \"yaxis\": {\"title\": {\"text\": \"BPSN-AUC\"}}},\n",
       "                        {\"showLink\": false, \"linkText\": \"Export to plot.ly\", \"plotlyServerURL\": \"https://plot.ly\", \"responsive\": true}\n",
       "                    ).then(function(){\n",
       "                            \n",
       "var gd = document.getElementById('07207aa2-300b-4134-b166-5e900931776c');\n",
       "var x = new MutationObserver(function (mutations, observer) {{\n",
       "        var display = window.getComputedStyle(gd).display;\n",
       "        if (!display || display === 'none') {{\n",
       "            console.log([gd, 'removed!']);\n",
       "            Plotly.purge(gd);\n",
       "            observer.disconnect();\n",
       "        }}\n",
       "}});\n",
       "\n",
       "// Listen for the removal of the full notebook cells\n",
       "var notebookContainer = gd.closest('#notebook-container');\n",
       "if (notebookContainer) {{\n",
       "    x.observe(notebookContainer, {childList: true});\n",
       "}}\n",
       "\n",
       "// Listen for the clearing of the current output cell\n",
       "var outputEl = gd.closest('.output');\n",
       "if (outputEl) {{\n",
       "    x.observe(outputEl, {childList: true});\n",
       "}}\n",
       "\n",
       "                        })\n",
       "                };\n",
       "                });\n",
       "            </script>\n",
       "        </div>"
      ]
     },
     "metadata": {},
     "output_type": "display_data"
    }
   ],
   "source": [
    "def scale(x):\n",
    "    mini = 272\n",
    "    maxi = 6047\n",
    "    scale_rng = [10, 55]\n",
    "    return (scale_rng[1] - scale_rng[0])*((x-mini)/(maxi-mini))+scale_rng[0]\n",
    "    \n",
    "trace0 = go.Scatter(\n",
    "{\n",
    "        'x': ctrl_bias_metrics['bnsp_auc'], \n",
    "        'y': ctrl_bias_metrics['bpsn_auc'],\n",
    "        'legendgroup': 'w/o pretrained',\n",
    "        'name': 'w/o pretrained', \n",
    "        'mode': 'markers', \n",
    "        'marker': {\n",
    "            'color': cl.scales['9']['div']['Spectral'][0],\n",
    "            'size': [scale(x) for x in ctrl_bias_metrics['subgroup_size']]\n",
    "        },\n",
    "        'text': ctrl_bias_metrics['subgroup']\n",
    "    })\n",
    "\n",
    "trace1 = go.Scatter(\n",
    "{\n",
    "        'x': ft_bias_metrics['bnsp_auc'], \n",
    "        'y': ft_bias_metrics['bpsn_auc'],\n",
    "        'legendgroup': 'fasttext',\n",
    "        'name': 'fasttext', \n",
    "        'mode': 'markers', \n",
    "        'marker': {\n",
    "            'color': cl.scales['9']['div']['Spectral'][2],\n",
    "            'size': [scale(x) for x in ft_bias_metrics['subgroup_size']]\n",
    "        },\n",
    "        'text': ft_bias_metrics['subgroup']\n",
    "    })\n",
    "\n",
    "trace2 = go.Scatter(\n",
    "{\n",
    "        'x': gl_bias_metrics['bnsp_auc'], \n",
    "        'y': gl_bias_metrics['bpsn_auc'],\n",
    "        'legendgroup': 'glove',\n",
    "        'name': 'glove', \n",
    "        'mode': 'markers', \n",
    "        'marker': {\n",
    "            'color': cl.scales['9']['div']['Spectral'][4],\n",
    "            'size': [scale(x) for x in gl_bias_metrics['subgroup_size']]\n",
    "        },\n",
    "        'text': gl_bias_metrics['subgroup']\n",
    "    })\n",
    "\n",
    "trace3 = go.Scatter(\n",
    "{\n",
    "        'x': nb_bias_metrics['bnsp_auc'], \n",
    "        'y': nb_bias_metrics['bpsn_auc'],\n",
    "        'legendgroup': 'numberbatch',\n",
    "        'name': 'numberbatch', \n",
    "        'mode': 'markers', \n",
    "        'marker': {\n",
    "            'color': cl.scales['9']['div']['Spectral'][6],\n",
    "            'size': [scale(x) for x in nb_bias_metrics['subgroup_size']]\n",
    "        },\n",
    "        'text': nb_bias_metrics['subgroup']\n",
    "    })\n",
    "\n",
    "\n",
    "layout = go.Layout(\n",
    "    title= 'Word Embeddings Comparison',\n",
    "    hovermode = 'closest',\n",
    "    xaxis = dict(\n",
    "        title='BNSP-AUC'\n",
    "    ),\n",
    "    yaxis = dict(\n",
    "        title='BPSN-AUC'\n",
    "    ),\n",
    "    showlegend = True\n",
    ")\n",
    "\n",
    "fig = go.Figure(data=[trace0, trace1, trace2, trace3], layout=layout)\n",
    "py.iplot(fig)"
   ]
  },
  {
   "cell_type": "markdown",
   "metadata": {},
   "source": [
    "# How to Combine Embeddings \n",
    "---\n",
    "There are several ways to combine embeddings: \n",
    "1. Train seperate models on each embedding and blend the results. [SDK](https://www.kaggle.com/sudalairajkumar/a-look-at-different-embeddings) has a kernel on this approach. One benefit in this competition would be weighting the results of each model according to their normalized final biased score, which we will show. \n",
    "2. Concatenate embeddings. In the [simple LSTM](https://www.kaggle.com/thousandvoices/simple-lstm) that our model is based on the author concatenates the Fasttext and GloVe embeddings. One of the solutions from the previous [toxic comment classifier](https://www.kaggle.com/c/jigsaw-toxic-comment-classification-challenge/discussion/52630) includes concatenating multiple embeddings and additional subword information.\n",
    "3. Construct meta-embeddings. [Shujian Liu](https://www.kaggle.com/shujian/mix-of-nn-models-based-on-meta-embedding) has a kernel on how to compute new embeddings from our mixture of embeddings. There are many proposed ways to compute meta-embeddings, but for our next model we will simply average our embeddings- which will give us a 300 dimensional embedding that is more robust than our original. "
   ]
  },
  {
   "cell_type": "markdown",
   "metadata": {},
   "source": [
    "<a id='glove+fasttext'></a>\n",
    "## Concatenate GloVe and Fasttext\n",
    "---"
   ]
  },
  {
   "cell_type": "code",
   "execution_count": 21,
   "metadata": {
    "_kg_hide-input": false
   },
   "outputs": [],
   "source": [
    "vec_files = [GLOVE_PATH, FASTTEXT_PATH]\n",
    "glft_matrix = np.concatenate(\n",
    "    [build_matrix(tokenizer.word_index, f) for f in vec_files], axis=-1)\n",
    "\n",
    "# The 600 dimension embedding takes 3h 36min to run compared to \n",
    "# ~3h 3min for the other 300 dimension embedding models\n",
    "# %time glft_preds = train_model(glft_matrix, 'glove+fasttext')"
   ]
  },
  {
   "cell_type": "code",
   "execution_count": 22,
   "metadata": {
    "_kg_hide-input": true
   },
   "outputs": [
    {
     "data": {
      "text/html": [
       "<div>\n",
       "<style scoped>\n",
       "    .dataframe tbody tr th:only-of-type {\n",
       "        vertical-align: middle;\n",
       "    }\n",
       "\n",
       "    .dataframe tbody tr th {\n",
       "        vertical-align: top;\n",
       "    }\n",
       "\n",
       "    .dataframe thead th {\n",
       "        text-align: right;\n",
       "    }\n",
       "</style>\n",
       "<table border=\"1\" class=\"dataframe\">\n",
       "  <thead>\n",
       "    <tr style=\"text-align: right;\">\n",
       "      <th></th>\n",
       "      <th>bnsp_auc</th>\n",
       "      <th>bpsn_auc</th>\n",
       "      <th>subgroup</th>\n",
       "      <th>subgroup_auc</th>\n",
       "      <th>subgroup_size</th>\n",
       "    </tr>\n",
       "  </thead>\n",
       "  <tbody>\n",
       "    <tr>\n",
       "      <th>0</th>\n",
       "      <td>0.801679</td>\n",
       "      <td>0.977033</td>\n",
       "      <td>black</td>\n",
       "      <td>0.837728</td>\n",
       "      <td>1530</td>\n",
       "    </tr>\n",
       "    <tr>\n",
       "      <th>4</th>\n",
       "      <td>0.826063</td>\n",
       "      <td>0.973563</td>\n",
       "      <td>homosexual_gay_or_lesbian</td>\n",
       "      <td>0.848046</td>\n",
       "      <td>1022</td>\n",
       "    </tr>\n",
       "    <tr>\n",
       "      <th>1</th>\n",
       "      <td>0.823669</td>\n",
       "      <td>0.976047</td>\n",
       "      <td>white</td>\n",
       "      <td>0.848822</td>\n",
       "      <td>2561</td>\n",
       "    </tr>\n",
       "    <tr>\n",
       "      <th>7</th>\n",
       "      <td>0.858770</td>\n",
       "      <td>0.970468</td>\n",
       "      <td>muslim</td>\n",
       "      <td>0.857855</td>\n",
       "      <td>2523</td>\n",
       "    </tr>\n",
       "    <tr>\n",
       "      <th>8</th>\n",
       "      <td>0.899888</td>\n",
       "      <td>0.976733</td>\n",
       "      <td>psychiatric_or_mental_illness</td>\n",
       "      <td>0.911830</td>\n",
       "      <td>272</td>\n",
       "    </tr>\n",
       "    <tr>\n",
       "      <th>6</th>\n",
       "      <td>0.910748</td>\n",
       "      <td>0.968319</td>\n",
       "      <td>jewish</td>\n",
       "      <td>0.914972</td>\n",
       "      <td>773</td>\n",
       "    </tr>\n",
       "    <tr>\n",
       "      <th>3</th>\n",
       "      <td>0.931766</td>\n",
       "      <td>0.966973</td>\n",
       "      <td>female</td>\n",
       "      <td>0.923195</td>\n",
       "      <td>6047</td>\n",
       "    </tr>\n",
       "    <tr>\n",
       "      <th>2</th>\n",
       "      <td>0.930716</td>\n",
       "      <td>0.968804</td>\n",
       "      <td>male</td>\n",
       "      <td>0.923516</td>\n",
       "      <td>3792</td>\n",
       "    </tr>\n",
       "    <tr>\n",
       "      <th>5</th>\n",
       "      <td>0.942369</td>\n",
       "      <td>0.958566</td>\n",
       "      <td>christian</td>\n",
       "      <td>0.925471</td>\n",
       "      <td>3310</td>\n",
       "    </tr>\n",
       "  </tbody>\n",
       "</table>\n",
       "</div>"
      ],
      "text/plain": [
       "   bnsp_auc  bpsn_auc      ...       subgroup_auc  subgroup_size\n",
       "0  0.801679  0.977033      ...           0.837728           1530\n",
       "4  0.826063  0.973563      ...           0.848046           1022\n",
       "1  0.823669  0.976047      ...           0.848822           2561\n",
       "7  0.858770  0.970468      ...           0.857855           2523\n",
       "8  0.899888  0.976733      ...           0.911830            272\n",
       "6  0.910748  0.968319      ...           0.914972            773\n",
       "3  0.931766  0.966973      ...           0.923195           6047\n",
       "2  0.930716  0.968804      ...           0.923516           3792\n",
       "5  0.942369  0.958566      ...           0.925471           3310\n",
       "\n",
       "[9 rows x 5 columns]"
      ]
     },
     "metadata": {},
     "output_type": "display_data"
    },
    {
     "name": "stdout",
     "output_type": "stream",
     "text": [
      "Final Metric: 0.9234382933128344\n"
     ]
    }
   ],
   "source": [
    "# results_df = pd.concat([pd.DataFrame(glft_preds, columns=['glove+fast']).reset_index(drop=True), results_df], axis=1)\n",
    "glft_bias_metrics = compute_subgroup_bias_metrics(results_df, IDENTITY_COLUMNS, 'glove+fast', 'target')\n",
    "overall_auc = auc(results_df['target'], results_df['glove+fast'])\n",
    "glft_final_bias = compute_final_bias(glft_bias_metrics, overall_auc)\n",
    "display(glft_bias_metrics)\n",
    "print(f'Final Metric: {glft_final_bias}')\n",
    "del(glft_matrix)"
   ]
  },
  {
   "cell_type": "markdown",
   "metadata": {},
   "source": [
    "<a id='weighted'></a>\n",
    "## Weighing Results by Bias Scores\n",
    "---"
   ]
  },
  {
   "cell_type": "code",
   "execution_count": 23,
   "metadata": {
    "_kg_hide-input": false
   },
   "outputs": [
    {
     "data": {
      "text/html": [
       "<div>\n",
       "<style scoped>\n",
       "    .dataframe tbody tr th:only-of-type {\n",
       "        vertical-align: middle;\n",
       "    }\n",
       "\n",
       "    .dataframe tbody tr th {\n",
       "        vertical-align: top;\n",
       "    }\n",
       "\n",
       "    .dataframe thead th {\n",
       "        text-align: right;\n",
       "    }\n",
       "</style>\n",
       "<table border=\"1\" class=\"dataframe\">\n",
       "  <thead>\n",
       "    <tr style=\"text-align: right;\">\n",
       "      <th></th>\n",
       "      <th>bnsp_auc</th>\n",
       "      <th>bpsn_auc</th>\n",
       "      <th>subgroup</th>\n",
       "      <th>subgroup_auc</th>\n",
       "      <th>subgroup_size</th>\n",
       "    </tr>\n",
       "  </thead>\n",
       "  <tbody>\n",
       "    <tr>\n",
       "      <th>0</th>\n",
       "      <td>0.816414</td>\n",
       "      <td>0.973744</td>\n",
       "      <td>black</td>\n",
       "      <td>0.837368</td>\n",
       "      <td>1530</td>\n",
       "    </tr>\n",
       "    <tr>\n",
       "      <th>1</th>\n",
       "      <td>0.833569</td>\n",
       "      <td>0.972988</td>\n",
       "      <td>white</td>\n",
       "      <td>0.845958</td>\n",
       "      <td>2561</td>\n",
       "    </tr>\n",
       "    <tr>\n",
       "      <th>4</th>\n",
       "      <td>0.828791</td>\n",
       "      <td>0.972277</td>\n",
       "      <td>homosexual_gay_or_lesbian</td>\n",
       "      <td>0.847029</td>\n",
       "      <td>1022</td>\n",
       "    </tr>\n",
       "    <tr>\n",
       "      <th>7</th>\n",
       "      <td>0.861209</td>\n",
       "      <td>0.968378</td>\n",
       "      <td>muslim</td>\n",
       "      <td>0.856283</td>\n",
       "      <td>2523</td>\n",
       "    </tr>\n",
       "    <tr>\n",
       "      <th>6</th>\n",
       "      <td>0.915049</td>\n",
       "      <td>0.964592</td>\n",
       "      <td>jewish</td>\n",
       "      <td>0.911841</td>\n",
       "      <td>773</td>\n",
       "    </tr>\n",
       "    <tr>\n",
       "      <th>8</th>\n",
       "      <td>0.900410</td>\n",
       "      <td>0.976683</td>\n",
       "      <td>psychiatric_or_mental_illness</td>\n",
       "      <td>0.915458</td>\n",
       "      <td>272</td>\n",
       "    </tr>\n",
       "    <tr>\n",
       "      <th>2</th>\n",
       "      <td>0.930356</td>\n",
       "      <td>0.967691</td>\n",
       "      <td>male</td>\n",
       "      <td>0.922948</td>\n",
       "      <td>3792</td>\n",
       "    </tr>\n",
       "    <tr>\n",
       "      <th>3</th>\n",
       "      <td>0.931142</td>\n",
       "      <td>0.966099</td>\n",
       "      <td>female</td>\n",
       "      <td>0.923566</td>\n",
       "      <td>6047</td>\n",
       "    </tr>\n",
       "    <tr>\n",
       "      <th>5</th>\n",
       "      <td>0.943957</td>\n",
       "      <td>0.955179</td>\n",
       "      <td>christian</td>\n",
       "      <td>0.923841</td>\n",
       "      <td>3310</td>\n",
       "    </tr>\n",
       "  </tbody>\n",
       "</table>\n",
       "</div>"
      ],
      "text/plain": [
       "   bnsp_auc  bpsn_auc      ...       subgroup_auc  subgroup_size\n",
       "0  0.816414  0.973744      ...           0.837368           1530\n",
       "1  0.833569  0.972988      ...           0.845958           2561\n",
       "4  0.828791  0.972277      ...           0.847029           1022\n",
       "7  0.861209  0.968378      ...           0.856283           2523\n",
       "6  0.915049  0.964592      ...           0.911841            773\n",
       "8  0.900410  0.976683      ...           0.915458            272\n",
       "2  0.930356  0.967691      ...           0.922948           3792\n",
       "3  0.931142  0.966099      ...           0.923566           6047\n",
       "5  0.943957  0.955179      ...           0.923841           3310\n",
       "\n",
       "[9 rows x 5 columns]"
      ]
     },
     "metadata": {},
     "output_type": "display_data"
    },
    {
     "name": "stdout",
     "output_type": "stream",
     "text": [
      "Final Metric: 0.9237776966610115\n",
      "Glove Weight: 0.33386983964609457\n",
      "Fasttext Weight: 0.33382681224261584\n",
      "Numberbatch Weight: 0.33230334811128953\n"
     ]
    }
   ],
   "source": [
    "bias_sum = nb_final_bias + gl_final_bias + ft_final_bias\n",
    "nb_weight = nb_final_bias/bias_sum\n",
    "gl_weight = gl_final_bias/bias_sum\n",
    "ft_weight = ft_final_bias/bias_sum\n",
    "\n",
    "# results_df['weighted'] = results_df.apply(lambda x: (ft_weight*x['fasttext']) + (gl_weight*x['glove']) + (nb_weight*x['numberbatch']), axis=1)\n",
    "w_bias_metrics = compute_subgroup_bias_metrics(results_df, IDENTITY_COLUMNS, 'weighted', 'target')\n",
    "overall_auc = auc(results_df['target'], results_df['weighted'])\n",
    "w_final_bias = compute_final_bias(w_bias_metrics, overall_auc)\n",
    "display(w_bias_metrics)\n",
    "print(f'Final Metric: {w_final_bias}')\n",
    "print(f'Glove Weight: {gl_weight}')\n",
    "print(f'Fasttext Weight: {ft_weight}')\n",
    "print(f'Numberbatch Weight: {nb_weight}')"
   ]
  },
  {
   "cell_type": "markdown",
   "metadata": {},
   "source": [
    "Despite the low score for the Conceptnet Numberbatch embeddings, the weighted average still produces a final bias better than each of the constituent embedding predictions. Later we will train a model with an embedding matrix that is the weighted average of the other embedding matrices, using the same weights we used to combine predictions here."
   ]
  },
  {
   "cell_type": "markdown",
   "metadata": {},
   "source": [
    "<a id='meta'></a>\n",
    "## Constructing Meta Embeddings\n",
    "---"
   ]
  },
  {
   "cell_type": "code",
   "execution_count": 24,
   "metadata": {
    "_kg_hide-input": false
   },
   "outputs": [],
   "source": [
    "meta_matrix = np.divide(fasttext_matrix + glove_matrix + numb_matrix, 3)\n",
    "# %time meta_preds = train_model(meta_matrix, 'meta')"
   ]
  },
  {
   "cell_type": "code",
   "execution_count": 25,
   "metadata": {
    "_kg_hide-input": true
   },
   "outputs": [
    {
     "data": {
      "text/html": [
       "<div>\n",
       "<style scoped>\n",
       "    .dataframe tbody tr th:only-of-type {\n",
       "        vertical-align: middle;\n",
       "    }\n",
       "\n",
       "    .dataframe tbody tr th {\n",
       "        vertical-align: top;\n",
       "    }\n",
       "\n",
       "    .dataframe thead th {\n",
       "        text-align: right;\n",
       "    }\n",
       "</style>\n",
       "<table border=\"1\" class=\"dataframe\">\n",
       "  <thead>\n",
       "    <tr style=\"text-align: right;\">\n",
       "      <th></th>\n",
       "      <th>bnsp_auc</th>\n",
       "      <th>bpsn_auc</th>\n",
       "      <th>subgroup</th>\n",
       "      <th>subgroup_auc</th>\n",
       "      <th>subgroup_size</th>\n",
       "    </tr>\n",
       "  </thead>\n",
       "  <tbody>\n",
       "    <tr>\n",
       "      <th>0</th>\n",
       "      <td>0.803130</td>\n",
       "      <td>0.973855</td>\n",
       "      <td>black</td>\n",
       "      <td>0.830683</td>\n",
       "      <td>1530</td>\n",
       "    </tr>\n",
       "    <tr>\n",
       "      <th>1</th>\n",
       "      <td>0.814770</td>\n",
       "      <td>0.973483</td>\n",
       "      <td>white</td>\n",
       "      <td>0.837118</td>\n",
       "      <td>2561</td>\n",
       "    </tr>\n",
       "    <tr>\n",
       "      <th>4</th>\n",
       "      <td>0.815315</td>\n",
       "      <td>0.972495</td>\n",
       "      <td>homosexual_gay_or_lesbian</td>\n",
       "      <td>0.840042</td>\n",
       "      <td>1022</td>\n",
       "    </tr>\n",
       "    <tr>\n",
       "      <th>7</th>\n",
       "      <td>0.848751</td>\n",
       "      <td>0.969073</td>\n",
       "      <td>muslim</td>\n",
       "      <td>0.854276</td>\n",
       "      <td>2523</td>\n",
       "    </tr>\n",
       "    <tr>\n",
       "      <th>6</th>\n",
       "      <td>0.905567</td>\n",
       "      <td>0.964608</td>\n",
       "      <td>jewish</td>\n",
       "      <td>0.906286</td>\n",
       "      <td>773</td>\n",
       "    </tr>\n",
       "    <tr>\n",
       "      <th>8</th>\n",
       "      <td>0.894945</td>\n",
       "      <td>0.975271</td>\n",
       "      <td>psychiatric_or_mental_illness</td>\n",
       "      <td>0.907831</td>\n",
       "      <td>272</td>\n",
       "    </tr>\n",
       "    <tr>\n",
       "      <th>2</th>\n",
       "      <td>0.924563</td>\n",
       "      <td>0.967117</td>\n",
       "      <td>male</td>\n",
       "      <td>0.919975</td>\n",
       "      <td>3792</td>\n",
       "    </tr>\n",
       "    <tr>\n",
       "      <th>3</th>\n",
       "      <td>0.926300</td>\n",
       "      <td>0.965249</td>\n",
       "      <td>female</td>\n",
       "      <td>0.921095</td>\n",
       "      <td>6047</td>\n",
       "    </tr>\n",
       "    <tr>\n",
       "      <th>5</th>\n",
       "      <td>0.940106</td>\n",
       "      <td>0.954159</td>\n",
       "      <td>christian</td>\n",
       "      <td>0.922748</td>\n",
       "      <td>3310</td>\n",
       "    </tr>\n",
       "  </tbody>\n",
       "</table>\n",
       "</div>"
      ],
      "text/plain": [
       "   bnsp_auc  bpsn_auc      ...       subgroup_auc  subgroup_size\n",
       "0  0.803130  0.973855      ...           0.830683           1530\n",
       "1  0.814770  0.973483      ...           0.837118           2561\n",
       "4  0.815315  0.972495      ...           0.840042           1022\n",
       "7  0.848751  0.969073      ...           0.854276           2523\n",
       "6  0.905567  0.964608      ...           0.906286            773\n",
       "8  0.894945  0.975271      ...           0.907831            272\n",
       "2  0.924563  0.967117      ...           0.919975           3792\n",
       "3  0.926300  0.965249      ...           0.921095           6047\n",
       "5  0.940106  0.954159      ...           0.922748           3310\n",
       "\n",
       "[9 rows x 5 columns]"
      ]
     },
     "metadata": {},
     "output_type": "display_data"
    },
    {
     "name": "stdout",
     "output_type": "stream",
     "text": [
      "Final Metric: 0.9190528334228328\n"
     ]
    }
   ],
   "source": [
    "# results_df = pd.concat([pd.DataFrame(meta_preds, columns=['meta']).reset_index(drop=True), results_df], axis=1)\n",
    "m_bias_metrics = compute_subgroup_bias_metrics(results_df, IDENTITY_COLUMNS, 'meta', 'target')\n",
    "overall_auc = auc(results_df['target'], results_df['meta'])\n",
    "m_final_bias = compute_final_bias(m_bias_metrics, overall_auc)\n",
    "display(m_bias_metrics)\n",
    "print(f'Final Metric: {m_final_bias}')\n",
    "del (meta_matrix)"
   ]
  },
  {
   "cell_type": "markdown",
   "metadata": {},
   "source": [
    "<a id='meta-glove+fasttext'></a>\n",
    "## GloVe and Fasttext Meta Embedding\n",
    "---"
   ]
  },
  {
   "cell_type": "code",
   "execution_count": 26,
   "metadata": {
    "_kg_hide-input": false
   },
   "outputs": [],
   "source": [
    "meta2_matrix = np.divide(fasttext_matrix + glove_matrix, 2)\n",
    "# %time meta2_preds = train_model(meta2_matrix, 'meta-glove+fasttext')"
   ]
  },
  {
   "cell_type": "code",
   "execution_count": 27,
   "metadata": {
    "_kg_hide-input": true
   },
   "outputs": [
    {
     "data": {
      "text/html": [
       "<div>\n",
       "<style scoped>\n",
       "    .dataframe tbody tr th:only-of-type {\n",
       "        vertical-align: middle;\n",
       "    }\n",
       "\n",
       "    .dataframe tbody tr th {\n",
       "        vertical-align: top;\n",
       "    }\n",
       "\n",
       "    .dataframe thead th {\n",
       "        text-align: right;\n",
       "    }\n",
       "</style>\n",
       "<table border=\"1\" class=\"dataframe\">\n",
       "  <thead>\n",
       "    <tr style=\"text-align: right;\">\n",
       "      <th></th>\n",
       "      <th>bnsp_auc</th>\n",
       "      <th>bpsn_auc</th>\n",
       "      <th>subgroup</th>\n",
       "      <th>subgroup_auc</th>\n",
       "      <th>subgroup_size</th>\n",
       "    </tr>\n",
       "  </thead>\n",
       "  <tbody>\n",
       "    <tr>\n",
       "      <th>0</th>\n",
       "      <td>0.799000</td>\n",
       "      <td>0.975567</td>\n",
       "      <td>black</td>\n",
       "      <td>0.832160</td>\n",
       "      <td>1530</td>\n",
       "    </tr>\n",
       "    <tr>\n",
       "      <th>1</th>\n",
       "      <td>0.817843</td>\n",
       "      <td>0.974980</td>\n",
       "      <td>white</td>\n",
       "      <td>0.843080</td>\n",
       "      <td>2561</td>\n",
       "    </tr>\n",
       "    <tr>\n",
       "      <th>4</th>\n",
       "      <td>0.808423</td>\n",
       "      <td>0.974964</td>\n",
       "      <td>homosexual_gay_or_lesbian</td>\n",
       "      <td>0.845147</td>\n",
       "      <td>1022</td>\n",
       "    </tr>\n",
       "    <tr>\n",
       "      <th>7</th>\n",
       "      <td>0.846364</td>\n",
       "      <td>0.970878</td>\n",
       "      <td>muslim</td>\n",
       "      <td>0.854185</td>\n",
       "      <td>2523</td>\n",
       "    </tr>\n",
       "    <tr>\n",
       "      <th>8</th>\n",
       "      <td>0.896732</td>\n",
       "      <td>0.975313</td>\n",
       "      <td>psychiatric_or_mental_illness</td>\n",
       "      <td>0.905041</td>\n",
       "      <td>272</td>\n",
       "    </tr>\n",
       "    <tr>\n",
       "      <th>6</th>\n",
       "      <td>0.900300</td>\n",
       "      <td>0.967749</td>\n",
       "      <td>jewish</td>\n",
       "      <td>0.908273</td>\n",
       "      <td>773</td>\n",
       "    </tr>\n",
       "    <tr>\n",
       "      <th>2</th>\n",
       "      <td>0.924363</td>\n",
       "      <td>0.968578</td>\n",
       "      <td>male</td>\n",
       "      <td>0.920351</td>\n",
       "      <td>3792</td>\n",
       "    </tr>\n",
       "    <tr>\n",
       "      <th>3</th>\n",
       "      <td>0.925767</td>\n",
       "      <td>0.966625</td>\n",
       "      <td>female</td>\n",
       "      <td>0.921470</td>\n",
       "      <td>6047</td>\n",
       "    </tr>\n",
       "    <tr>\n",
       "      <th>5</th>\n",
       "      <td>0.936993</td>\n",
       "      <td>0.958276</td>\n",
       "      <td>christian</td>\n",
       "      <td>0.924592</td>\n",
       "      <td>3310</td>\n",
       "    </tr>\n",
       "  </tbody>\n",
       "</table>\n",
       "</div>"
      ],
      "text/plain": [
       "   bnsp_auc  bpsn_auc      ...       subgroup_auc  subgroup_size\n",
       "0  0.799000  0.975567      ...           0.832160           1530\n",
       "1  0.817843  0.974980      ...           0.843080           2561\n",
       "4  0.808423  0.974964      ...           0.845147           1022\n",
       "7  0.846364  0.970878      ...           0.854185           2523\n",
       "8  0.896732  0.975313      ...           0.905041            272\n",
       "6  0.900300  0.967749      ...           0.908273            773\n",
       "2  0.924363  0.968578      ...           0.920351           3792\n",
       "3  0.925767  0.966625      ...           0.921470           6047\n",
       "5  0.936993  0.958276      ...           0.924592           3310\n",
       "\n",
       "[9 rows x 5 columns]"
      ]
     },
     "metadata": {},
     "output_type": "display_data"
    },
    {
     "name": "stdout",
     "output_type": "stream",
     "text": [
      "Final Metric: 0.9196888958175915\n"
     ]
    }
   ],
   "source": [
    "# results_df = pd.concat([pd.DataFrame(meta2_preds, columns=['meta-glove+fasttext']).reset_index(drop=True), results_df], axis=1)\n",
    "m2_bias_metrics = compute_subgroup_bias_metrics(results_df, IDENTITY_COLUMNS, 'meta-glove+fasttext', 'target')\n",
    "overall_auc = auc(results_df['target'], results_df['meta-glove+fasttext'])\n",
    "m2_final_bias = compute_final_bias(m2_bias_metrics, overall_auc)\n",
    "display(m2_bias_metrics)\n",
    "print(f'Final Metric: {m2_final_bias}')\n",
    "del (meta2_matrix)"
   ]
  },
  {
   "cell_type": "markdown",
   "metadata": {},
   "source": [
    "<a id='meta-weighted'></a>\n",
    "## Weighted Meta Embedding\n",
    "---"
   ]
  },
  {
   "cell_type": "code",
   "execution_count": 28,
   "metadata": {
    "_kg_hide-input": false
   },
   "outputs": [],
   "source": [
    "nb_weighted = np.divide(numb_matrix, nb_weight)\n",
    "gl_weighted = np.divide(glove_matrix, gl_weight)\n",
    "ft_weighted = np.divide(fasttext_matrix, ft_weight)\n",
    "meta_weighted_matrix = nb_weighted+gl_weighted+ft_weighted\n",
    "# %time meta_weighted_preds = train_model(meta_weighted_matrix, 'meta-weighted')"
   ]
  },
  {
   "cell_type": "code",
   "execution_count": 29,
   "metadata": {
    "_kg_hide-input": true
   },
   "outputs": [
    {
     "data": {
      "text/html": [
       "<div>\n",
       "<style scoped>\n",
       "    .dataframe tbody tr th:only-of-type {\n",
       "        vertical-align: middle;\n",
       "    }\n",
       "\n",
       "    .dataframe tbody tr th {\n",
       "        vertical-align: top;\n",
       "    }\n",
       "\n",
       "    .dataframe thead th {\n",
       "        text-align: right;\n",
       "    }\n",
       "</style>\n",
       "<table border=\"1\" class=\"dataframe\">\n",
       "  <thead>\n",
       "    <tr style=\"text-align: right;\">\n",
       "      <th></th>\n",
       "      <th>bnsp_auc</th>\n",
       "      <th>bpsn_auc</th>\n",
       "      <th>subgroup</th>\n",
       "      <th>subgroup_auc</th>\n",
       "      <th>subgroup_size</th>\n",
       "    </tr>\n",
       "  </thead>\n",
       "  <tbody>\n",
       "    <tr>\n",
       "      <th>0</th>\n",
       "      <td>0.818785</td>\n",
       "      <td>0.973196</td>\n",
       "      <td>black</td>\n",
       "      <td>0.833273</td>\n",
       "      <td>1530</td>\n",
       "    </tr>\n",
       "    <tr>\n",
       "      <th>4</th>\n",
       "      <td>0.827367</td>\n",
       "      <td>0.972482</td>\n",
       "      <td>homosexual_gay_or_lesbian</td>\n",
       "      <td>0.842704</td>\n",
       "      <td>1022</td>\n",
       "    </tr>\n",
       "    <tr>\n",
       "      <th>1</th>\n",
       "      <td>0.840458</td>\n",
       "      <td>0.971736</td>\n",
       "      <td>white</td>\n",
       "      <td>0.844978</td>\n",
       "      <td>2561</td>\n",
       "    </tr>\n",
       "    <tr>\n",
       "      <th>7</th>\n",
       "      <td>0.859703</td>\n",
       "      <td>0.969727</td>\n",
       "      <td>muslim</td>\n",
       "      <td>0.859745</td>\n",
       "      <td>2523</td>\n",
       "    </tr>\n",
       "    <tr>\n",
       "      <th>8</th>\n",
       "      <td>0.886718</td>\n",
       "      <td>0.978235</td>\n",
       "      <td>psychiatric_or_mental_illness</td>\n",
       "      <td>0.909133</td>\n",
       "      <td>272</td>\n",
       "    </tr>\n",
       "    <tr>\n",
       "      <th>6</th>\n",
       "      <td>0.905592</td>\n",
       "      <td>0.967983</td>\n",
       "      <td>jewish</td>\n",
       "      <td>0.911325</td>\n",
       "      <td>773</td>\n",
       "    </tr>\n",
       "    <tr>\n",
       "      <th>2</th>\n",
       "      <td>0.928860</td>\n",
       "      <td>0.968446</td>\n",
       "      <td>male</td>\n",
       "      <td>0.922873</td>\n",
       "      <td>3792</td>\n",
       "    </tr>\n",
       "    <tr>\n",
       "      <th>3</th>\n",
       "      <td>0.929070</td>\n",
       "      <td>0.967260</td>\n",
       "      <td>female</td>\n",
       "      <td>0.923345</td>\n",
       "      <td>6047</td>\n",
       "    </tr>\n",
       "    <tr>\n",
       "      <th>5</th>\n",
       "      <td>0.942399</td>\n",
       "      <td>0.957218</td>\n",
       "      <td>christian</td>\n",
       "      <td>0.926088</td>\n",
       "      <td>3310</td>\n",
       "    </tr>\n",
       "  </tbody>\n",
       "</table>\n",
       "</div>"
      ],
      "text/plain": [
       "   bnsp_auc  bpsn_auc      ...       subgroup_auc  subgroup_size\n",
       "0  0.818785  0.973196      ...           0.833273           1530\n",
       "4  0.827367  0.972482      ...           0.842704           1022\n",
       "1  0.840458  0.971736      ...           0.844978           2561\n",
       "7  0.859703  0.969727      ...           0.859745           2523\n",
       "8  0.886718  0.978235      ...           0.909133            272\n",
       "6  0.905592  0.967983      ...           0.911325            773\n",
       "2  0.928860  0.968446      ...           0.922873           3792\n",
       "3  0.929070  0.967260      ...           0.923345           6047\n",
       "5  0.942399  0.957218      ...           0.926088           3310\n",
       "\n",
       "[9 rows x 5 columns]"
      ]
     },
     "metadata": {},
     "output_type": "display_data"
    },
    {
     "name": "stdout",
     "output_type": "stream",
     "text": [
      "Final Metric: 0.923353544953007\n"
     ]
    }
   ],
   "source": [
    "# results_df = pd.concat([pd.DataFrame(meta_weighted_preds, columns=['meta-weighted']).reset_index(drop=True), results_df], axis=1)\n",
    "mw_bias_metrics = compute_subgroup_bias_metrics(results_df, IDENTITY_COLUMNS, 'meta-weighted', 'target')\n",
    "overall_auc = auc(results_df['target'], results_df['meta-weighted'])\n",
    "mw_final_bias = compute_final_bias(mw_bias_metrics, overall_auc)\n",
    "display(mw_bias_metrics)\n",
    "print(f'Final Metric: {mw_final_bias}')\n",
    "del (meta_weighted_matrix)"
   ]
  },
  {
   "cell_type": "markdown",
   "metadata": {},
   "source": [
    "<a id='complete'></a>\n",
    "# Complete Embeddings Comparison \n",
    "---"
   ]
  },
  {
   "cell_type": "code",
   "execution_count": 30,
   "metadata": {
    "_kg_hide-input": false
   },
   "outputs": [
    {
     "data": {
      "text/html": [
       "<div>\n",
       "<style scoped>\n",
       "    .dataframe tbody tr th:only-of-type {\n",
       "        vertical-align: middle;\n",
       "    }\n",
       "\n",
       "    .dataframe tbody tr th {\n",
       "        vertical-align: top;\n",
       "    }\n",
       "\n",
       "    .dataframe thead th {\n",
       "        text-align: right;\n",
       "    }\n",
       "</style>\n",
       "<table border=\"1\" class=\"dataframe\">\n",
       "  <thead>\n",
       "    <tr style=\"text-align: right;\">\n",
       "      <th></th>\n",
       "      <th>w/o pretrained</th>\n",
       "      <th>fasttext</th>\n",
       "      <th>glove</th>\n",
       "      <th>numberbatch</th>\n",
       "      <th>weighted</th>\n",
       "      <th>glove+fasttext</th>\n",
       "      <th>meta</th>\n",
       "      <th>meta-glove+fasttext</th>\n",
       "      <th>meta-weighted</th>\n",
       "    </tr>\n",
       "  </thead>\n",
       "  <tbody>\n",
       "    <tr>\n",
       "      <th>final bias score</th>\n",
       "      <td>0.906631</td>\n",
       "      <td>0.922883</td>\n",
       "      <td>0.923002</td>\n",
       "      <td>0.918671</td>\n",
       "      <td>0.923778</td>\n",
       "      <td>0.923438</td>\n",
       "      <td>0.919053</td>\n",
       "      <td>0.919689</td>\n",
       "      <td>0.923354</td>\n",
       "    </tr>\n",
       "  </tbody>\n",
       "</table>\n",
       "</div>"
      ],
      "text/plain": [
       "                  w/o pretrained      ...        meta-weighted\n",
       "final bias score        0.906631      ...             0.923354\n",
       "\n",
       "[1 rows x 9 columns]"
      ]
     },
     "metadata": {},
     "output_type": "display_data"
    }
   ],
   "source": [
    "final_bias = {'w/o pretrained': ctrl_final_bias, 'fasttext': ft_final_bias, 'glove': gl_final_bias, 'numberbatch': nb_final_bias, 'weighted': w_final_bias,'glove+fasttext': glft_final_bias,'meta': m_final_bias, 'meta-glove+fasttext': m2_final_bias, 'meta-weighted': mw_final_bias}\n",
    "final_bias = pd.DataFrame(data = final_bias, index=['final bias score'])\n",
    "display(final_bias)"
   ]
  },
  {
   "cell_type": "code",
   "execution_count": 31,
   "metadata": {
    "_kg_hide-input": true
   },
   "outputs": [
    {
     "data": {
      "application/vnd.plotly.v1+json": {
       "config": {
        "linkText": "Export to plot.ly",
        "plotlyServerURL": "https://plot.ly",
        "responsive": true,
        "showLink": false
       },
       "data": [
        {
         "legendgroup": "glove+fasttext",
         "marker": {
          "color": "rgb(244,109,67)",
          "size": [
           19.802597402597403,
           15.844155844155843,
           27.836363636363636,
           27.540259740259742,
           10.0,
           13.903896103896104,
           55.0,
           37.42857142857143,
           33.67272727272727
          ]
         },
         "mode": "markers",
         "name": "glove+fasttext",
         "text": [
          "black",
          "homosexual_gay_or_lesbian",
          "white",
          "muslim",
          "psychiatric_or_mental_illness",
          "jewish",
          "female",
          "male",
          "christian"
         ],
         "type": "scatter",
         "uid": "301bd272-e8a1-41ce-afeb-e941b3d6ad39",
         "x": [
          0.8016786454479045,
          0.8260632391906523,
          0.8236690680605779,
          0.8587701780047031,
          0.8998882775207914,
          0.9107481639511064,
          0.931765926194692,
          0.9307164113507473,
          0.9423690936839922
         ],
         "y": [
          0.9770328575674037,
          0.9735633299558616,
          0.9760469046220859,
          0.9704677366749639,
          0.9767326305492213,
          0.9683187234731423,
          0.966972837319768,
          0.9688044079517042,
          0.9585656992859677
         ]
        },
        {
         "legendgroup": "meta-embedding",
         "marker": {
          "color": "rgb(254,224,139)",
          "size": [
           19.802597402597403,
           27.836363636363636,
           15.844155844155843,
           27.540259740259742,
           13.903896103896104,
           10.0,
           37.42857142857143,
           55.0,
           33.67272727272727
          ]
         },
         "mode": "markers",
         "name": "meta-embedding",
         "text": [
          "black",
          "white",
          "homosexual_gay_or_lesbian",
          "muslim",
          "jewish",
          "psychiatric_or_mental_illness",
          "male",
          "female",
          "christian"
         ],
         "type": "scatter",
         "uid": "81ca4839-07ea-4424-985a-53613f53aad3",
         "x": [
          0.8031298407878988,
          0.8147698692318489,
          0.8153149890601629,
          0.8487505249738934,
          0.9055668949962445,
          0.8949452690566408,
          0.9245632910777987,
          0.9263001190002025,
          0.9401057495678503
         ],
         "y": [
          0.9738554158601186,
          0.9734829848066079,
          0.9724949682407077,
          0.9690727449395652,
          0.9646083011610649,
          0.9752714945839621,
          0.9671173655961675,
          0.9652487858969875,
          0.9541585477065454
         ]
        },
        {
         "legendgroup": "meta-glove+fasttext",
         "marker": {
          "color": "rgb(230,245,152)",
          "size": [
           19.802597402597403,
           27.836363636363636,
           15.844155844155843,
           27.540259740259742,
           10.0,
           13.903896103896104,
           37.42857142857143,
           55.0,
           33.67272727272727
          ]
         },
         "mode": "markers",
         "name": "meta-glove+fasttext",
         "text": [
          "black",
          "white",
          "homosexual_gay_or_lesbian",
          "muslim",
          "psychiatric_or_mental_illness",
          "jewish",
          "male",
          "female",
          "christian"
         ],
         "type": "scatter",
         "uid": "fab47537-aa65-41a2-a54b-e991e5b2096c",
         "x": [
          0.7990000017846222,
          0.8178434941131231,
          0.808423175218542,
          0.846364295205408,
          0.8967320598149697,
          0.9002995595407395,
          0.9243633539139321,
          0.925766974120054,
          0.9369934666132373
         ],
         "y": [
          0.9755666771844321,
          0.9749803244163483,
          0.9749644165825135,
          0.9708784568160725,
          0.9753126662059233,
          0.9677493946504585,
          0.9685784977450341,
          0.9666245999207578,
          0.958276485262413
         ]
        },
        {
         "legendgroup": "meta-weighted",
         "marker": {
          "color": "rgb(102,194,165)",
          "size": [
           19.802597402597403,
           15.844155844155843,
           27.836363636363636,
           27.540259740259742,
           10.0,
           13.903896103896104,
           37.42857142857143,
           55.0,
           33.67272727272727
          ]
         },
         "mode": "markers",
         "name": "meta-weighted",
         "text": [
          "black",
          "homosexual_gay_or_lesbian",
          "white",
          "muslim",
          "psychiatric_or_mental_illness",
          "jewish",
          "male",
          "female",
          "christian"
         ],
         "type": "scatter",
         "uid": "a51c6e64-790f-4e5e-b157-584299567a91",
         "x": [
          0.8187848447497602,
          0.8273669045869818,
          0.8404577926619532,
          0.8597029054662018,
          0.8867182502091433,
          0.9055916104081192,
          0.9288604618632326,
          0.9290702153154247,
          0.9423986488516753
         ],
         "y": [
          0.9731960403998289,
          0.9724820830756794,
          0.9717363487985893,
          0.9697271744767954,
          0.9782353688532708,
          0.9679833333646435,
          0.9684464021697248,
          0.967259965037354,
          0.957218032708631
         ]
        }
       ],
       "layout": {
        "hovermode": "closest",
        "showlegend": true,
        "title": {
         "text": "Concatenated and Meta Word Embeddings Comparison"
        },
        "xaxis": {
         "title": {
          "text": "BNSP-AUC"
         }
        },
        "yaxis": {
         "title": {
          "text": "BPSN-AUC"
         }
        }
       }
      },
      "text/html": [
       "<div>\n",
       "        \n",
       "        \n",
       "            <div id=\"11061b40-0286-44b6-820d-4c3b8f092006\" class=\"plotly-graph-div\" style=\"height:525px; width:100%;\"></div>\n",
       "            <script type=\"text/javascript\">\n",
       "                require([\"plotly\"], function(Plotly) {\n",
       "                    window.PLOTLYENV=window.PLOTLYENV || {};\n",
       "                    window.PLOTLYENV.BASE_URL='https://plot.ly';\n",
       "                    \n",
       "                if (document.getElementById(\"11061b40-0286-44b6-820d-4c3b8f092006\")) {\n",
       "                    Plotly.newPlot(\n",
       "                        '11061b40-0286-44b6-820d-4c3b8f092006',\n",
       "                        [{\"legendgroup\": \"glove+fasttext\", \"marker\": {\"color\": \"rgb(244,109,67)\", \"size\": [19.802597402597403, 15.844155844155843, 27.836363636363636, 27.540259740259742, 10.0, 13.903896103896104, 55.0, 37.42857142857143, 33.67272727272727]}, \"mode\": \"markers\", \"name\": \"glove+fasttext\", \"text\": [\"black\", \"homosexual_gay_or_lesbian\", \"white\", \"muslim\", \"psychiatric_or_mental_illness\", \"jewish\", \"female\", \"male\", \"christian\"], \"type\": \"scatter\", \"uid\": \"4f4d9cf0-0a85-497e-8827-fd38d358b0d6\", \"x\": [0.8016786454479045, 0.8260632391906523, 0.8236690680605779, 0.8587701780047031, 0.8998882775207914, 0.9107481639511064, 0.931765926194692, 0.9307164113507473, 0.9423690936839922], \"y\": [0.9770328575674037, 0.9735633299558616, 0.9760469046220859, 0.9704677366749639, 0.9767326305492213, 0.9683187234731423, 0.966972837319768, 0.9688044079517042, 0.9585656992859677]}, {\"legendgroup\": \"meta-embedding\", \"marker\": {\"color\": \"rgb(254,224,139)\", \"size\": [19.802597402597403, 27.836363636363636, 15.844155844155843, 27.540259740259742, 13.903896103896104, 10.0, 37.42857142857143, 55.0, 33.67272727272727]}, \"mode\": \"markers\", \"name\": \"meta-embedding\", \"text\": [\"black\", \"white\", \"homosexual_gay_or_lesbian\", \"muslim\", \"jewish\", \"psychiatric_or_mental_illness\", \"male\", \"female\", \"christian\"], \"type\": \"scatter\", \"uid\": \"30491f6a-ad62-4865-b8c7-3d4a4da8cc03\", \"x\": [0.8031298407878988, 0.8147698692318489, 0.8153149890601629, 0.8487505249738934, 0.9055668949962445, 0.8949452690566408, 0.9245632910777987, 0.9263001190002025, 0.9401057495678503], \"y\": [0.9738554158601186, 0.9734829848066079, 0.9724949682407077, 0.9690727449395652, 0.9646083011610649, 0.9752714945839621, 0.9671173655961675, 0.9652487858969875, 0.9541585477065454]}, {\"legendgroup\": \"meta-glove+fasttext\", \"marker\": {\"color\": \"rgb(230,245,152)\", \"size\": [19.802597402597403, 27.836363636363636, 15.844155844155843, 27.540259740259742, 10.0, 13.903896103896104, 37.42857142857143, 55.0, 33.67272727272727]}, \"mode\": \"markers\", \"name\": \"meta-glove+fasttext\", \"text\": [\"black\", \"white\", \"homosexual_gay_or_lesbian\", \"muslim\", \"psychiatric_or_mental_illness\", \"jewish\", \"male\", \"female\", \"christian\"], \"type\": \"scatter\", \"uid\": \"63e9ae01-9dca-4307-9011-33e56b1df699\", \"x\": [0.7990000017846222, 0.8178434941131231, 0.808423175218542, 0.846364295205408, 0.8967320598149697, 0.9002995595407395, 0.9243633539139321, 0.925766974120054, 0.9369934666132373], \"y\": [0.9755666771844321, 0.9749803244163483, 0.9749644165825135, 0.9708784568160725, 0.9753126662059233, 0.9677493946504585, 0.9685784977450341, 0.9666245999207578, 0.958276485262413]}, {\"legendgroup\": \"meta-weighted\", \"marker\": {\"color\": \"rgb(102,194,165)\", \"size\": [19.802597402597403, 15.844155844155843, 27.836363636363636, 27.540259740259742, 10.0, 13.903896103896104, 37.42857142857143, 55.0, 33.67272727272727]}, \"mode\": \"markers\", \"name\": \"meta-weighted\", \"text\": [\"black\", \"homosexual_gay_or_lesbian\", \"white\", \"muslim\", \"psychiatric_or_mental_illness\", \"jewish\", \"male\", \"female\", \"christian\"], \"type\": \"scatter\", \"uid\": \"55ec9b48-c7e4-415c-b2b1-9bd7842cdde9\", \"x\": [0.8187848447497602, 0.8273669045869818, 0.8404577926619532, 0.8597029054662018, 0.8867182502091433, 0.9055916104081192, 0.9288604618632326, 0.9290702153154247, 0.9423986488516753], \"y\": [0.9731960403998289, 0.9724820830756794, 0.9717363487985893, 0.9697271744767954, 0.9782353688532708, 0.9679833333646435, 0.9684464021697248, 0.967259965037354, 0.957218032708631]}],\n",
       "                        {\"hovermode\": \"closest\", \"showlegend\": true, \"title\": {\"text\": \"Concatenated and Meta Word Embeddings Comparison\"}, \"xaxis\": {\"title\": {\"text\": \"BNSP-AUC\"}}, \"yaxis\": {\"title\": {\"text\": \"BPSN-AUC\"}}},\n",
       "                        {\"showLink\": false, \"linkText\": \"Export to plot.ly\", \"plotlyServerURL\": \"https://plot.ly\", \"responsive\": true}\n",
       "                    ).then(function(){\n",
       "                            \n",
       "var gd = document.getElementById('11061b40-0286-44b6-820d-4c3b8f092006');\n",
       "var x = new MutationObserver(function (mutations, observer) {{\n",
       "        var display = window.getComputedStyle(gd).display;\n",
       "        if (!display || display === 'none') {{\n",
       "            console.log([gd, 'removed!']);\n",
       "            Plotly.purge(gd);\n",
       "            observer.disconnect();\n",
       "        }}\n",
       "}});\n",
       "\n",
       "// Listen for the removal of the full notebook cells\n",
       "var notebookContainer = gd.closest('#notebook-container');\n",
       "if (notebookContainer) {{\n",
       "    x.observe(notebookContainer, {childList: true});\n",
       "}}\n",
       "\n",
       "// Listen for the clearing of the current output cell\n",
       "var outputEl = gd.closest('.output');\n",
       "if (outputEl) {{\n",
       "    x.observe(outputEl, {childList: true});\n",
       "}}\n",
       "\n",
       "                        })\n",
       "                };\n",
       "                });\n",
       "            </script>\n",
       "        </div>"
      ]
     },
     "metadata": {},
     "output_type": "display_data"
    }
   ],
   "source": [
    "trace5 = go.Scatter(\n",
    "{\n",
    "        'x': glft_bias_metrics['bnsp_auc'], \n",
    "        'y': glft_bias_metrics['bpsn_auc'],\n",
    "        'legendgroup': 'glove+fasttext',\n",
    "        'name': 'glove+fasttext', \n",
    "        'mode': 'markers', \n",
    "        'marker': {\n",
    "            'color': cl.scales['9']['div']['Spectral'][1],\n",
    "            'size': [scale(x) for x in glft_bias_metrics['subgroup_size']]\n",
    "        },\n",
    "        'text': glft_bias_metrics['subgroup']\n",
    "    })\n",
    "\n",
    "trace6 = go.Scatter(\n",
    "{\n",
    "        'x': m_bias_metrics['bnsp_auc'], \n",
    "        'y': m_bias_metrics['bpsn_auc'],\n",
    "        'legendgroup': 'meta-embedding',\n",
    "        'name': 'meta-embedding', \n",
    "        'mode': 'markers', \n",
    "        'marker': {\n",
    "            'color': cl.scales['9']['div']['Spectral'][3],\n",
    "            'size': [scale(x) for x in m_bias_metrics['subgroup_size']]\n",
    "        },\n",
    "        'text': m_bias_metrics['subgroup']\n",
    "    })\n",
    "\n",
    "trace7 = go.Scatter(\n",
    "{\n",
    "        'x': m2_bias_metrics['bnsp_auc'], \n",
    "        'y': m2_bias_metrics['bpsn_auc'],\n",
    "        'legendgroup': 'meta-glove+fasttext',\n",
    "        'name': 'meta-glove+fasttext', \n",
    "        'mode': 'markers', \n",
    "        'marker': {\n",
    "            'color': cl.scales['9']['div']['Spectral'][5],\n",
    "            'size': [scale(x) for x in m2_bias_metrics['subgroup_size']]\n",
    "        },\n",
    "        'text': m2_bias_metrics['subgroup']\n",
    "    })\n",
    "\n",
    "trace8 = go.Scatter(\n",
    "{\n",
    "        'x': mw_bias_metrics['bnsp_auc'], \n",
    "        'y': mw_bias_metrics['bpsn_auc'],\n",
    "        'legendgroup': 'meta-weighted',\n",
    "        'name': 'meta-weighted', \n",
    "        'mode': 'markers', \n",
    "        'marker': {\n",
    "            'color': cl.scales['9']['div']['Spectral'][7],\n",
    "            'size': [scale(x) for x in mw_bias_metrics['subgroup_size']]\n",
    "        },\n",
    "        'text': mw_bias_metrics['subgroup']\n",
    "    })\n",
    "\n",
    "layout = go.Layout(\n",
    "    title= 'Concatenated and Meta Word Embeddings Comparison',\n",
    "    hovermode = 'closest',\n",
    "    xaxis = dict(\n",
    "        title='BNSP-AUC'\n",
    "    ),\n",
    "    yaxis = dict(\n",
    "        title='BPSN-AUC'\n",
    "    ),\n",
    "    showlegend = True\n",
    ")\n",
    "\n",
    "fig = go.Figure(data=[trace5, trace6, trace7, trace8], layout=layout)\n",
    "\n",
    "py.iplot(fig)"
   ]
  },
  {
   "cell_type": "code",
   "execution_count": 32,
   "metadata": {
    "_kg_hide-input": true
   },
   "outputs": [
    {
     "data": {
      "application/vnd.plotly.v1+json": {
       "config": {
        "linkText": "Export to plot.ly",
        "plotlyServerURL": "https://plot.ly",
        "responsive": true,
        "showLink": false
       },
       "data": [
        {
         "legendgroup": "w/o pretrained",
         "marker": {
          "color": "rgb(213,62,79)",
          "size": [
           19.802597402597403,
           27.836363636363636,
           15.844155844155843,
           27.540259740259742,
           13.903896103896104,
           37.42857142857143,
           33.67272727272727,
           10.0,
           55.0
          ]
         },
         "mode": "markers",
         "name": "w/o pretrained",
         "text": [
          "black",
          "white",
          "homosexual_gay_or_lesbian",
          "muslim",
          "jewish",
          "male",
          "christian",
          "psychiatric_or_mental_illness",
          "female"
         ],
         "type": "scatter",
         "uid": "324352cb-1b27-4240-b567-978db8bff4d0",
         "x": [
          0.7923247337343577,
          0.808205508175174,
          0.8152700160422168,
          0.8329125336081765,
          0.886385657537129,
          0.9133788784985695,
          0.9276258726827319,
          0.8920028080557059,
          0.9149425770276549
         ],
         "y": [
          0.9649861383879954,
          0.9628274570024768,
          0.9625576779471725,
          0.9585988504994721,
          0.9569407627115954,
          0.9570457412450109,
          0.9440093354766652,
          0.9674174986039459,
          0.9576010743260198
         ]
        },
        {
         "legendgroup": "fasttext",
         "marker": {
          "color": "rgb(253,174,97)",
          "size": [
           19.802597402597403,
           15.844155844155843,
           27.836363636363636,
           27.540259740259742,
           13.903896103896104,
           10.0,
           37.42857142857143,
           55.0,
           33.67272727272727
          ]
         },
         "mode": "markers",
         "name": "fasttext",
         "text": [
          "black",
          "homosexual_gay_or_lesbian",
          "white",
          "muslim",
          "jewish",
          "psychiatric_or_mental_illness",
          "male",
          "female",
          "christian"
         ],
         "type": "scatter",
         "uid": "fdcc3e14-2a53-48fc-96c9-1f336b3ed4a7",
         "x": [
          0.8128741014426887,
          0.8276350361292446,
          0.8289167227296909,
          0.8546787631700539,
          0.909440160925765,
          0.8976138446680774,
          0.9293988051426787,
          0.9292839351266077,
          0.9409233904572987
         ],
         "y": [
          0.9742256318300498,
          0.9722399475539308,
          0.9740293794409343,
          0.9699714172385506,
          0.9656296299223376,
          0.9764800178550118,
          0.9678734764400813,
          0.9666098355088804,
          0.9571933861417073
         ]
        },
        {
         "legendgroup": "glove",
         "marker": {
          "color": "rgb(255,255,191)",
          "size": [
           19.802597402597403,
           27.836363636363636,
           15.844155844155843,
           27.540259740259742,
           13.903896103896104,
           10.0,
           55.0,
           37.42857142857143,
           33.67272727272727
          ]
         },
         "mode": "markers",
         "name": "glove",
         "text": [
          "black",
          "white",
          "homosexual_gay_or_lesbian",
          "muslim",
          "jewish",
          "psychiatric_or_mental_illness",
          "female",
          "male",
          "christian"
         ],
         "type": "scatter",
         "uid": "cd7b461f-b140-483c-9d29-2a6c26af47e0",
         "x": [
          0.8121323678130288,
          0.8320106555787026,
          0.8275950824213372,
          0.8636810760651219,
          0.9143302035893778,
          0.8968337095861424,
          0.9302293923682398,
          0.9288830656619946,
          0.9429320961909531
         ],
         "y": [
          0.9738225450296926,
          0.972975108257008,
          0.9720504515943296,
          0.9673525515963739,
          0.9645868202324177,
          0.9764654443602754,
          0.965514986515802,
          0.9680246915434452,
          0.9552084906715721
         ]
        },
        {
         "legendgroup": "numberbatch",
         "marker": {
          "color": "rgb(171,221,164)",
          "size": [
           19.802597402597403,
           27.836363636363636,
           15.844155844155843,
           27.540259740259742,
           13.903896103896104,
           33.67272727272727,
           10.0,
           37.42857142857143,
           55.0
          ]
         },
         "mode": "markers",
         "name": "numberbatch",
         "text": [
          "black",
          "white",
          "homosexual_gay_or_lesbian",
          "muslim",
          "jewish",
          "christian",
          "psychiatric_or_mental_illness",
          "male",
          "female"
         ],
         "type": "scatter",
         "uid": "f184e6a0-2771-4af9-8015-779c0368ea95",
         "x": [
          0.8149480555945529,
          0.829645395752818,
          0.820063959060098,
          0.8543434896288347,
          0.9119834971039225,
          0.9412425598260776,
          0.8973839408739728,
          0.9251918675304869,
          0.9260817393603603
         ],
         "y": [
          0.9701541347505427,
          0.9685537083997202,
          0.9695060812969233,
          0.9644431295570111,
          0.9598005311800927,
          0.9483347667107834,
          0.9744415605014654,
          0.9636323780335959,
          0.9616966321162308
         ]
        },
        {
         "legendgroup": "glove+fasttext",
         "marker": {
          "color": "rgb(244,109,67)",
          "size": [
           19.802597402597403,
           15.844155844155843,
           27.836363636363636,
           27.540259740259742,
           10.0,
           13.903896103896104,
           55.0,
           37.42857142857143,
           33.67272727272727
          ]
         },
         "mode": "markers",
         "name": "glove+fasttext",
         "text": [
          "black",
          "homosexual_gay_or_lesbian",
          "white",
          "muslim",
          "psychiatric_or_mental_illness",
          "jewish",
          "female",
          "male",
          "christian"
         ],
         "type": "scatter",
         "uid": "2cd217cf-b9fc-4109-8482-4e2692f8e4ae",
         "x": [
          0.8016786454479045,
          0.8260632391906523,
          0.8236690680605779,
          0.8587701780047031,
          0.8998882775207914,
          0.9107481639511064,
          0.931765926194692,
          0.9307164113507473,
          0.9423690936839922
         ],
         "y": [
          0.9770328575674037,
          0.9735633299558616,
          0.9760469046220859,
          0.9704677366749639,
          0.9767326305492213,
          0.9683187234731423,
          0.966972837319768,
          0.9688044079517042,
          0.9585656992859677
         ]
        },
        {
         "legendgroup": "meta-embedding",
         "marker": {
          "color": "rgb(254,224,139)",
          "size": [
           19.802597402597403,
           27.836363636363636,
           15.844155844155843,
           27.540259740259742,
           13.903896103896104,
           10.0,
           37.42857142857143,
           55.0,
           33.67272727272727
          ]
         },
         "mode": "markers",
         "name": "meta-embedding",
         "text": [
          "black",
          "white",
          "homosexual_gay_or_lesbian",
          "muslim",
          "jewish",
          "psychiatric_or_mental_illness",
          "male",
          "female",
          "christian"
         ],
         "type": "scatter",
         "uid": "90120283-6905-4b81-8bd2-79aadc605344",
         "x": [
          0.8031298407878988,
          0.8147698692318489,
          0.8153149890601629,
          0.8487505249738934,
          0.9055668949962445,
          0.8949452690566408,
          0.9245632910777987,
          0.9263001190002025,
          0.9401057495678503
         ],
         "y": [
          0.9738554158601186,
          0.9734829848066079,
          0.9724949682407077,
          0.9690727449395652,
          0.9646083011610649,
          0.9752714945839621,
          0.9671173655961675,
          0.9652487858969875,
          0.9541585477065454
         ]
        },
        {
         "legendgroup": "meta-glove+fasttext",
         "marker": {
          "color": "rgb(230,245,152)",
          "size": [
           19.802597402597403,
           27.836363636363636,
           15.844155844155843,
           27.540259740259742,
           10.0,
           13.903896103896104,
           37.42857142857143,
           55.0,
           33.67272727272727
          ]
         },
         "mode": "markers",
         "name": "meta-glove+fasttext",
         "text": [
          "black",
          "white",
          "homosexual_gay_or_lesbian",
          "muslim",
          "psychiatric_or_mental_illness",
          "jewish",
          "male",
          "female",
          "christian"
         ],
         "type": "scatter",
         "uid": "f3437f14-66b4-44e1-88ca-bc44cb78a3af",
         "x": [
          0.7990000017846222,
          0.8178434941131231,
          0.808423175218542,
          0.846364295205408,
          0.8967320598149697,
          0.9002995595407395,
          0.9243633539139321,
          0.925766974120054,
          0.9369934666132373
         ],
         "y": [
          0.9755666771844321,
          0.9749803244163483,
          0.9749644165825135,
          0.9708784568160725,
          0.9753126662059233,
          0.9677493946504585,
          0.9685784977450341,
          0.9666245999207578,
          0.958276485262413
         ]
        },
        {
         "legendgroup": "meta-weighted",
         "marker": {
          "color": "rgb(102,194,165)",
          "size": [
           19.802597402597403,
           15.844155844155843,
           27.836363636363636,
           27.540259740259742,
           10.0,
           13.903896103896104,
           37.42857142857143,
           55.0,
           33.67272727272727
          ]
         },
         "mode": "markers",
         "name": "meta-weighted",
         "text": [
          "black",
          "homosexual_gay_or_lesbian",
          "white",
          "muslim",
          "psychiatric_or_mental_illness",
          "jewish",
          "male",
          "female",
          "christian"
         ],
         "type": "scatter",
         "uid": "f283cead-8069-4832-90f8-470623691e0e",
         "x": [
          0.8187848447497602,
          0.8273669045869818,
          0.8404577926619532,
          0.8597029054662018,
          0.8867182502091433,
          0.9055916104081192,
          0.9288604618632326,
          0.9290702153154247,
          0.9423986488516753
         ],
         "y": [
          0.9731960403998289,
          0.9724820830756794,
          0.9717363487985893,
          0.9697271744767954,
          0.9782353688532708,
          0.9679833333646435,
          0.9684464021697248,
          0.967259965037354,
          0.957218032708631
         ]
        }
       ],
       "layout": {
        "hovermode": "closest",
        "showlegend": true,
        "title": {
         "text": "Complete Embeddings Comparison"
        },
        "xaxis": {
         "title": {
          "text": "BNSP-AUC"
         }
        },
        "yaxis": {
         "title": {
          "text": "BPSN-AUC"
         }
        }
       }
      },
      "text/html": [
       "<div>\n",
       "        \n",
       "        \n",
       "            <div id=\"ef5d9c68-4419-4698-bc8a-f0dc4b7e79a8\" class=\"plotly-graph-div\" style=\"height:525px; width:100%;\"></div>\n",
       "            <script type=\"text/javascript\">\n",
       "                require([\"plotly\"], function(Plotly) {\n",
       "                    window.PLOTLYENV=window.PLOTLYENV || {};\n",
       "                    window.PLOTLYENV.BASE_URL='https://plot.ly';\n",
       "                    \n",
       "                if (document.getElementById(\"ef5d9c68-4419-4698-bc8a-f0dc4b7e79a8\")) {\n",
       "                    Plotly.newPlot(\n",
       "                        'ef5d9c68-4419-4698-bc8a-f0dc4b7e79a8',\n",
       "                        [{\"legendgroup\": \"w/o pretrained\", \"marker\": {\"color\": \"rgb(213,62,79)\", \"size\": [19.802597402597403, 27.836363636363636, 15.844155844155843, 27.540259740259742, 13.903896103896104, 37.42857142857143, 33.67272727272727, 10.0, 55.0]}, \"mode\": \"markers\", \"name\": \"w/o pretrained\", \"text\": [\"black\", \"white\", \"homosexual_gay_or_lesbian\", \"muslim\", \"jewish\", \"male\", \"christian\", \"psychiatric_or_mental_illness\", \"female\"], \"type\": \"scatter\", \"uid\": \"d26b86af-b285-4a2f-bc2e-3ca3edd0b436\", \"x\": [0.7923247337343577, 0.808205508175174, 0.8152700160422168, 0.8329125336081765, 0.886385657537129, 0.9133788784985695, 0.9276258726827319, 0.8920028080557059, 0.9149425770276549], \"y\": [0.9649861383879954, 0.9628274570024768, 0.9625576779471725, 0.9585988504994721, 0.9569407627115954, 0.9570457412450109, 0.9440093354766652, 0.9674174986039459, 0.9576010743260198]}, {\"legendgroup\": \"fasttext\", \"marker\": {\"color\": \"rgb(253,174,97)\", \"size\": [19.802597402597403, 15.844155844155843, 27.836363636363636, 27.540259740259742, 13.903896103896104, 10.0, 37.42857142857143, 55.0, 33.67272727272727]}, \"mode\": \"markers\", \"name\": \"fasttext\", \"text\": [\"black\", \"homosexual_gay_or_lesbian\", \"white\", \"muslim\", \"jewish\", \"psychiatric_or_mental_illness\", \"male\", \"female\", \"christian\"], \"type\": \"scatter\", \"uid\": \"500a1a82-a5b2-4bb5-b623-b80b09b13fee\", \"x\": [0.8128741014426887, 0.8276350361292446, 0.8289167227296909, 0.8546787631700539, 0.909440160925765, 0.8976138446680774, 0.9293988051426787, 0.9292839351266077, 0.9409233904572987], \"y\": [0.9742256318300498, 0.9722399475539308, 0.9740293794409343, 0.9699714172385506, 0.9656296299223376, 0.9764800178550118, 0.9678734764400813, 0.9666098355088804, 0.9571933861417073]}, {\"legendgroup\": \"glove\", \"marker\": {\"color\": \"rgb(255,255,191)\", \"size\": [19.802597402597403, 27.836363636363636, 15.844155844155843, 27.540259740259742, 13.903896103896104, 10.0, 55.0, 37.42857142857143, 33.67272727272727]}, \"mode\": \"markers\", \"name\": \"glove\", \"text\": [\"black\", \"white\", \"homosexual_gay_or_lesbian\", \"muslim\", \"jewish\", \"psychiatric_or_mental_illness\", \"female\", \"male\", \"christian\"], \"type\": \"scatter\", \"uid\": \"15e64da2-a50d-464c-b0d6-e09e346b37b1\", \"x\": [0.8121323678130288, 0.8320106555787026, 0.8275950824213372, 0.8636810760651219, 0.9143302035893778, 0.8968337095861424, 0.9302293923682398, 0.9288830656619946, 0.9429320961909531], \"y\": [0.9738225450296926, 0.972975108257008, 0.9720504515943296, 0.9673525515963739, 0.9645868202324177, 0.9764654443602754, 0.965514986515802, 0.9680246915434452, 0.9552084906715721]}, {\"legendgroup\": \"numberbatch\", \"marker\": {\"color\": \"rgb(171,221,164)\", \"size\": [19.802597402597403, 27.836363636363636, 15.844155844155843, 27.540259740259742, 13.903896103896104, 33.67272727272727, 10.0, 37.42857142857143, 55.0]}, \"mode\": \"markers\", \"name\": \"numberbatch\", \"text\": [\"black\", \"white\", \"homosexual_gay_or_lesbian\", \"muslim\", \"jewish\", \"christian\", \"psychiatric_or_mental_illness\", \"male\", \"female\"], \"type\": \"scatter\", \"uid\": \"d9c906ba-3f44-4245-bef7-2ba7e2f07fc8\", \"x\": [0.8149480555945529, 0.829645395752818, 0.820063959060098, 0.8543434896288347, 0.9119834971039225, 0.9412425598260776, 0.8973839408739728, 0.9251918675304869, 0.9260817393603603], \"y\": [0.9701541347505427, 0.9685537083997202, 0.9695060812969233, 0.9644431295570111, 0.9598005311800927, 0.9483347667107834, 0.9744415605014654, 0.9636323780335959, 0.9616966321162308]}, {\"legendgroup\": \"glove+fasttext\", \"marker\": {\"color\": \"rgb(244,109,67)\", \"size\": [19.802597402597403, 15.844155844155843, 27.836363636363636, 27.540259740259742, 10.0, 13.903896103896104, 55.0, 37.42857142857143, 33.67272727272727]}, \"mode\": \"markers\", \"name\": \"glove+fasttext\", \"text\": [\"black\", \"homosexual_gay_or_lesbian\", \"white\", \"muslim\", \"psychiatric_or_mental_illness\", \"jewish\", \"female\", \"male\", \"christian\"], \"type\": \"scatter\", \"uid\": \"97704cc7-2a77-4bd3-a815-a0edb556f575\", \"x\": [0.8016786454479045, 0.8260632391906523, 0.8236690680605779, 0.8587701780047031, 0.8998882775207914, 0.9107481639511064, 0.931765926194692, 0.9307164113507473, 0.9423690936839922], \"y\": [0.9770328575674037, 0.9735633299558616, 0.9760469046220859, 0.9704677366749639, 0.9767326305492213, 0.9683187234731423, 0.966972837319768, 0.9688044079517042, 0.9585656992859677]}, {\"legendgroup\": \"meta-embedding\", \"marker\": {\"color\": \"rgb(254,224,139)\", \"size\": [19.802597402597403, 27.836363636363636, 15.844155844155843, 27.540259740259742, 13.903896103896104, 10.0, 37.42857142857143, 55.0, 33.67272727272727]}, \"mode\": \"markers\", \"name\": \"meta-embedding\", \"text\": [\"black\", \"white\", \"homosexual_gay_or_lesbian\", \"muslim\", \"jewish\", \"psychiatric_or_mental_illness\", \"male\", \"female\", \"christian\"], \"type\": \"scatter\", \"uid\": \"bf3def21-d84a-45c6-8db1-95503cdd0831\", \"x\": [0.8031298407878988, 0.8147698692318489, 0.8153149890601629, 0.8487505249738934, 0.9055668949962445, 0.8949452690566408, 0.9245632910777987, 0.9263001190002025, 0.9401057495678503], \"y\": [0.9738554158601186, 0.9734829848066079, 0.9724949682407077, 0.9690727449395652, 0.9646083011610649, 0.9752714945839621, 0.9671173655961675, 0.9652487858969875, 0.9541585477065454]}, {\"legendgroup\": \"meta-glove+fasttext\", \"marker\": {\"color\": \"rgb(230,245,152)\", \"size\": [19.802597402597403, 27.836363636363636, 15.844155844155843, 27.540259740259742, 10.0, 13.903896103896104, 37.42857142857143, 55.0, 33.67272727272727]}, \"mode\": \"markers\", \"name\": \"meta-glove+fasttext\", \"text\": [\"black\", \"white\", \"homosexual_gay_or_lesbian\", \"muslim\", \"psychiatric_or_mental_illness\", \"jewish\", \"male\", \"female\", \"christian\"], \"type\": \"scatter\", \"uid\": \"d4b9154a-52ef-4038-9877-c01844925c36\", \"x\": [0.7990000017846222, 0.8178434941131231, 0.808423175218542, 0.846364295205408, 0.8967320598149697, 0.9002995595407395, 0.9243633539139321, 0.925766974120054, 0.9369934666132373], \"y\": [0.9755666771844321, 0.9749803244163483, 0.9749644165825135, 0.9708784568160725, 0.9753126662059233, 0.9677493946504585, 0.9685784977450341, 0.9666245999207578, 0.958276485262413]}, {\"legendgroup\": \"meta-weighted\", \"marker\": {\"color\": \"rgb(102,194,165)\", \"size\": [19.802597402597403, 15.844155844155843, 27.836363636363636, 27.540259740259742, 10.0, 13.903896103896104, 37.42857142857143, 55.0, 33.67272727272727]}, \"mode\": \"markers\", \"name\": \"meta-weighted\", \"text\": [\"black\", \"homosexual_gay_or_lesbian\", \"white\", \"muslim\", \"psychiatric_or_mental_illness\", \"jewish\", \"male\", \"female\", \"christian\"], \"type\": \"scatter\", \"uid\": \"b28d8987-f72e-4ada-a6b6-d89d154db18b\", \"x\": [0.8187848447497602, 0.8273669045869818, 0.8404577926619532, 0.8597029054662018, 0.8867182502091433, 0.9055916104081192, 0.9288604618632326, 0.9290702153154247, 0.9423986488516753], \"y\": [0.9731960403998289, 0.9724820830756794, 0.9717363487985893, 0.9697271744767954, 0.9782353688532708, 0.9679833333646435, 0.9684464021697248, 0.967259965037354, 0.957218032708631]}],\n",
       "                        {\"hovermode\": \"closest\", \"showlegend\": true, \"title\": {\"text\": \"Complete Embeddings Comparison\"}, \"xaxis\": {\"title\": {\"text\": \"BNSP-AUC\"}}, \"yaxis\": {\"title\": {\"text\": \"BPSN-AUC\"}}},\n",
       "                        {\"showLink\": false, \"linkText\": \"Export to plot.ly\", \"plotlyServerURL\": \"https://plot.ly\", \"responsive\": true}\n",
       "                    ).then(function(){\n",
       "                            \n",
       "var gd = document.getElementById('ef5d9c68-4419-4698-bc8a-f0dc4b7e79a8');\n",
       "var x = new MutationObserver(function (mutations, observer) {{\n",
       "        var display = window.getComputedStyle(gd).display;\n",
       "        if (!display || display === 'none') {{\n",
       "            console.log([gd, 'removed!']);\n",
       "            Plotly.purge(gd);\n",
       "            observer.disconnect();\n",
       "        }}\n",
       "}});\n",
       "\n",
       "// Listen for the removal of the full notebook cells\n",
       "var notebookContainer = gd.closest('#notebook-container');\n",
       "if (notebookContainer) {{\n",
       "    x.observe(notebookContainer, {childList: true});\n",
       "}}\n",
       "\n",
       "// Listen for the clearing of the current output cell\n",
       "var outputEl = gd.closest('.output');\n",
       "if (outputEl) {{\n",
       "    x.observe(outputEl, {childList: true});\n",
       "}}\n",
       "\n",
       "                        })\n",
       "                };\n",
       "                });\n",
       "            </script>\n",
       "        </div>"
      ]
     },
     "metadata": {},
     "output_type": "display_data"
    }
   ],
   "source": [
    "layout = go.Layout(\n",
    "    title= 'Complete Embeddings Comparison',\n",
    "    hovermode = 'closest',\n",
    "    xaxis = dict(\n",
    "        title='BNSP-AUC'\n",
    "    ),\n",
    "    yaxis = dict(\n",
    "        title='BPSN-AUC'\n",
    "    ),\n",
    "    showlegend = True\n",
    ")\n",
    "\n",
    "fig = go.Figure(data=[trace0, trace1, trace2, trace3, trace5, trace6, trace7, trace8], layout=layout)\n",
    "\n",
    "py.iplot(fig)"
   ]
  },
  {
   "cell_type": "code",
   "execution_count": 33,
   "metadata": {
    "_kg_hide-input": true
   },
   "outputs": [
    {
     "data": {
      "application/vnd.plotly.v1+json": {
       "config": {
        "linkText": "Export to plot.ly",
        "plotlyServerURL": "https://plot.ly",
        "responsive": true,
        "showLink": false
       },
       "data": [
        {
         "marker": {
          "color": "rgb(213,62,79)",
          "size": 25
         },
         "mode": "markers",
         "name": "w/o pretrained",
         "type": "scatter",
         "uid": "9d9b4d2d-9853-41da-81b5-a89a36b82809",
         "x": [
          0.9066306847322756
         ],
         "y": [
          0
         ]
        },
        {
         "marker": {
          "color": "rgb(253,174,97)",
          "size": 25
         },
         "mode": "markers",
         "name": "fasttext",
         "type": "scatter",
         "uid": "6ebe6f20-7f97-46e9-b87e-077e4558159c",
         "x": [
          0.922882938114537
         ],
         "y": [
          0
         ]
        },
        {
         "marker": {
          "color": "rgb(255,255,191)",
          "size": 25
         },
         "mode": "markers",
         "name": "glove",
         "type": "scatter",
         "uid": "c0a9360b-3b71-4095-98cf-da7f6954a2bc",
         "x": [
          0.9230018897837428
         ],
         "y": [
          0
         ]
        },
        {
         "marker": {
          "color": "rgb(171,221,164)",
          "size": 25
         },
         "mode": "markers",
         "name": "numberbatch",
         "type": "scatter",
         "uid": "43611c7e-cb6d-4d16-a4b8-311df0c7e0da",
         "x": [
          0.9186712361119769
         ],
         "y": [
          0
         ]
        },
        {
         "marker": {
          "color": "rgb(244,109,67)",
          "size": 25
         },
         "mode": "markers",
         "name": "glove+fasttext",
         "type": "scatter",
         "uid": "2f2d8b2a-70b3-4b90-99e0-2a56ef2e3c27",
         "x": [
          0.9234382933128344
         ],
         "y": [
          0
         ]
        },
        {
         "marker": {
          "color": "rgb(254,224,139)",
          "size": 25
         },
         "mode": "markers",
         "name": "meta",
         "type": "scatter",
         "uid": "ab6df7c4-35ee-4a77-88d7-0d3627b1aec4",
         "x": [
          0.9190528334228328
         ],
         "y": [
          0
         ]
        },
        {
         "marker": {
          "color": "rgb(230,245,152)",
          "size": 25
         },
         "mode": "markers",
         "name": "meta-glove+fasttext",
         "type": "scatter",
         "uid": "e16df2b8-aae0-4d29-bbae-5ac0262a7f04",
         "x": [
          0.9196888958175915
         ],
         "y": [
          0
         ]
        },
        {
         "marker": {
          "color": "rgb(102,194,165)",
          "size": 25
         },
         "mode": "markers",
         "name": "meta-weighted",
         "type": "scatter",
         "uid": "8670ba3a-c729-434e-97c3-e7cd53cc850f",
         "x": [
          0.923353544953007
         ],
         "y": [
          0
         ]
        }
       ],
       "layout": {
        "hovermode": "closest",
        "showlegend": true,
        "title": {
         "text": "Final Bias Score for All Embeddings"
        },
        "xaxis": {
         "title": {
          "text": "Final Bias Score"
         }
        }
       }
      },
      "text/html": [
       "<div>\n",
       "        \n",
       "        \n",
       "            <div id=\"56be3dce-de65-40b8-a6b3-90d704e3b02e\" class=\"plotly-graph-div\" style=\"height:525px; width:100%;\"></div>\n",
       "            <script type=\"text/javascript\">\n",
       "                require([\"plotly\"], function(Plotly) {\n",
       "                    window.PLOTLYENV=window.PLOTLYENV || {};\n",
       "                    window.PLOTLYENV.BASE_URL='https://plot.ly';\n",
       "                    \n",
       "                if (document.getElementById(\"56be3dce-de65-40b8-a6b3-90d704e3b02e\")) {\n",
       "                    Plotly.newPlot(\n",
       "                        '56be3dce-de65-40b8-a6b3-90d704e3b02e',\n",
       "                        [{\"marker\": {\"color\": \"rgb(213,62,79)\", \"size\": 25}, \"mode\": \"markers\", \"name\": \"w/o pretrained\", \"type\": \"scatter\", \"uid\": \"b961f96a-f206-43f1-bb13-0362ddc8bac3\", \"x\": [0.9066306847322756], \"y\": [0]}, {\"marker\": {\"color\": \"rgb(253,174,97)\", \"size\": 25}, \"mode\": \"markers\", \"name\": \"fasttext\", \"type\": \"scatter\", \"uid\": \"87a9513a-de05-4a0d-a595-9d15c9809ff9\", \"x\": [0.922882938114537], \"y\": [0]}, {\"marker\": {\"color\": \"rgb(255,255,191)\", \"size\": 25}, \"mode\": \"markers\", \"name\": \"glove\", \"type\": \"scatter\", \"uid\": \"f9d47429-6577-484b-815e-cff4fd9afdca\", \"x\": [0.9230018897837428], \"y\": [0]}, {\"marker\": {\"color\": \"rgb(171,221,164)\", \"size\": 25}, \"mode\": \"markers\", \"name\": \"numberbatch\", \"type\": \"scatter\", \"uid\": \"f7fb5ab1-ebdf-4412-8bf1-213d125208f0\", \"x\": [0.9186712361119769], \"y\": [0]}, {\"marker\": {\"color\": \"rgb(244,109,67)\", \"size\": 25}, \"mode\": \"markers\", \"name\": \"glove+fasttext\", \"type\": \"scatter\", \"uid\": \"bd34bc57-4991-4f6a-99c0-cf258ad0a46a\", \"x\": [0.9234382933128344], \"y\": [0]}, {\"marker\": {\"color\": \"rgb(254,224,139)\", \"size\": 25}, \"mode\": \"markers\", \"name\": \"meta\", \"type\": \"scatter\", \"uid\": \"c3938cb5-c076-4f99-a540-78156b8317ad\", \"x\": [0.9190528334228328], \"y\": [0]}, {\"marker\": {\"color\": \"rgb(230,245,152)\", \"size\": 25}, \"mode\": \"markers\", \"name\": \"meta-glove+fasttext\", \"type\": \"scatter\", \"uid\": \"1aaedb76-a526-4e2c-90cc-5b4b8531e775\", \"x\": [0.9196888958175915], \"y\": [0]}, {\"marker\": {\"color\": \"rgb(102,194,165)\", \"size\": 25}, \"mode\": \"markers\", \"name\": \"meta-weighted\", \"type\": \"scatter\", \"uid\": \"faa249b5-00b9-474e-8c61-cca49bf63a8c\", \"x\": [0.923353544953007], \"y\": [0]}],\n",
       "                        {\"hovermode\": \"closest\", \"showlegend\": true, \"title\": {\"text\": \"Final Bias Score for All Embeddings\"}, \"xaxis\": {\"title\": {\"text\": \"Final Bias Score\"}}},\n",
       "                        {\"showLink\": false, \"linkText\": \"Export to plot.ly\", \"plotlyServerURL\": \"https://plot.ly\", \"responsive\": true}\n",
       "                    ).then(function(){\n",
       "                            \n",
       "var gd = document.getElementById('56be3dce-de65-40b8-a6b3-90d704e3b02e');\n",
       "var x = new MutationObserver(function (mutations, observer) {{\n",
       "        var display = window.getComputedStyle(gd).display;\n",
       "        if (!display || display === 'none') {{\n",
       "            console.log([gd, 'removed!']);\n",
       "            Plotly.purge(gd);\n",
       "            observer.disconnect();\n",
       "        }}\n",
       "}});\n",
       "\n",
       "// Listen for the removal of the full notebook cells\n",
       "var notebookContainer = gd.closest('#notebook-container');\n",
       "if (notebookContainer) {{\n",
       "    x.observe(notebookContainer, {childList: true});\n",
       "}}\n",
       "\n",
       "// Listen for the clearing of the current output cell\n",
       "var outputEl = gd.closest('.output');\n",
       "if (outputEl) {{\n",
       "    x.observe(outputEl, {childList: true});\n",
       "}}\n",
       "\n",
       "                        })\n",
       "                };\n",
       "                });\n",
       "            </script>\n",
       "        </div>"
      ]
     },
     "metadata": {},
     "output_type": "display_data"
    }
   ],
   "source": [
    "trace0 = go.Scatter(\n",
    "{\n",
    "        'x': final_bias['w/o pretrained'], \n",
    "        'y': [0],\n",
    "        'name': 'w/o pretrained', \n",
    "        'mode': 'markers', \n",
    "        'marker': {\n",
    "            'color': cl.scales['9']['div']['Spectral'][0],\n",
    "            'size': 25\n",
    "        }\n",
    "    })\n",
    "trace1 = go.Scatter(\n",
    "{\n",
    "        'x': final_bias['fasttext'], \n",
    "        'y': [0],\n",
    "        'name': 'fasttext', \n",
    "        'mode': 'markers', \n",
    "        'marker': {\n",
    "            'color': cl.scales['9']['div']['Spectral'][2],\n",
    "            'size': 25\n",
    "        }\n",
    "    })\n",
    "trace2 = go.Scatter(\n",
    "{\n",
    "        'x': final_bias['glove'], \n",
    "        'y': [0],\n",
    "        'name': 'glove', \n",
    "        'mode': 'markers', \n",
    "        'marker': {\n",
    "            'color': cl.scales['9']['div']['Spectral'][4],\n",
    "            'size': 25\n",
    "        }\n",
    "    })\n",
    "trace3 = go.Scatter(\n",
    "{\n",
    "        'x': final_bias['numberbatch'], \n",
    "        'y': [0],\n",
    "        'name': 'numberbatch', \n",
    "        'mode': 'markers', \n",
    "        'marker': {\n",
    "            'color': cl.scales['9']['div']['Spectral'][6],\n",
    "            'size': 25\n",
    "        }\n",
    "    })\n",
    "trace5 = go.Scatter(\n",
    "{\n",
    "        'x': final_bias['glove+fasttext'], \n",
    "        'y': [0],\n",
    "        'name': 'glove+fasttext', \n",
    "        'mode': 'markers', \n",
    "        'marker': {\n",
    "            'color': cl.scales['9']['div']['Spectral'][1],\n",
    "            'size': 25\n",
    "        }\n",
    "    })\n",
    "trace6 = go.Scatter(\n",
    "{\n",
    "        'x': final_bias['meta'], \n",
    "        'y': [0],\n",
    "        'name': 'meta', \n",
    "        'mode': 'markers', \n",
    "        'marker': {\n",
    "            'color': cl.scales['9']['div']['Spectral'][3],\n",
    "            'size': 25\n",
    "        }\n",
    "    })\n",
    "trace7 = go.Scatter(\n",
    "{\n",
    "        'x': final_bias['meta-glove+fasttext'], \n",
    "        'y': [0],\n",
    "        'name': 'meta-glove+fasttext', \n",
    "        'mode': 'markers', \n",
    "        'marker': {\n",
    "            'color': cl.scales['9']['div']['Spectral'][5],\n",
    "            'size': 25\n",
    "        }\n",
    "    })\n",
    "trace8 = go.Scatter(\n",
    "{\n",
    "        'x': final_bias['meta-weighted'], \n",
    "        'y': [0],\n",
    "        'name': 'meta-weighted', \n",
    "        'mode': 'markers', \n",
    "        'marker': {\n",
    "            'color': cl.scales['9']['div']['Spectral'][7],\n",
    "            'size': 25\n",
    "        }\n",
    "    })\n",
    "\n",
    "layout = go.Layout(\n",
    "    title= 'Final Bias Score for All Embeddings',\n",
    "    hovermode = 'closest',\n",
    "    xaxis = dict(\n",
    "        title='Final Bias Score'\n",
    "    ),\n",
    "    showlegend = True\n",
    ")\n",
    "\n",
    "fig = go.Figure(data=[trace0, trace1, trace2, trace3, trace5, trace6, trace7, trace8], layout=layout)\n",
    "\n",
    "py.iplot(fig)"
   ]
  },
  {
   "cell_type": "markdown",
   "metadata": {},
   "source": [
    "Hopefully, this kernel was helpful! There are a lot of ways you could extend this- particularly by combining embeddings with subword information that may acentuate toxic and non-toxic comment differences- if you fork it and add any interesting benchmarks make sure to add a link in the comments! \n",
    "\n",
    "Otherwise if you liked the kernel or if it helped you understand how we can improve our NLP models please upvote or leave a comment!"
   ]
  }
 ],
 "metadata": {
  "kernelspec": {
   "display_name": "Python 3",
   "language": "python",
   "name": "python3"
  },
  "language_info": {
   "codemirror_mode": {
    "name": "ipython",
    "version": 3
   },
   "file_extension": ".py",
   "mimetype": "text/x-python",
   "name": "python",
   "nbconvert_exporter": "python",
   "pygments_lexer": "ipython3",
   "version": "3.6.7"
  }
 },
 "nbformat": 4,
 "nbformat_minor": 1
}
