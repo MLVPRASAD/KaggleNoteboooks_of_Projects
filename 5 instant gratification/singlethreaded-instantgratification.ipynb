{
 "cells": [
  {
   "cell_type": "code",
   "execution_count": 1,
   "metadata": {
    "_cell_guid": "b1076dfc-b9ad-4769-8c92-a6c4dae69d19",
    "_uuid": "8f2839f25d086af736a60e9eeb907d3b93b6e0e5"
   },
   "outputs": [],
   "source": [
    "import subprocess\n",
    "import re\n",
    "import sys\n",
    "import os\n",
    "import glob\n",
    "import warnings\n",
    "import ctypes\n",
    "\n",
    "_MKL_ = 'mkl'\n",
    "_OPENBLAS_ = 'openblas'\n",
    "\n",
    "\n",
    "class BLAS:\n",
    "    def __init__(self, cdll, kind):\n",
    "        if kind not in (_MKL_, _OPENBLAS_):\n",
    "            raise ValueError(f'kind must be {MKL} or {OPENBLAS}, got {kind} instead.')\n",
    "        \n",
    "        self.kind = kind\n",
    "        self.cdll = cdll\n",
    "        \n",
    "        if kind == _MKL_:\n",
    "            self.get_n_threads = cdll.MKL_Get_Max_Threads\n",
    "            self.set_n_threads = cdll.MKL_Set_Num_Threads\n",
    "        else:\n",
    "            self.get_n_threads = cdll.openblas_get_num_threads\n",
    "            self.set_n_threads = cdll.openblas_set_num_threads\n",
    "            \n",
    "\n",
    "def get_blas(numpy_module):\n",
    "    LDD = 'ldd'\n",
    "    LDD_PATTERN = r'^\\t(?P<lib>.*{}.*) => (?P<path>.*) \\(0x.*$'\n",
    "\n",
    "    NUMPY_PATH = os.path.join(numpy_module.__path__[0], 'core')\n",
    "    MULTIARRAY_PATH = glob.glob(os.path.join(NUMPY_PATH, '_multiarray_umath.*so'))[0]\n",
    "    ldd_result = subprocess.run(\n",
    "        args=[LDD, MULTIARRAY_PATH], \n",
    "        check=True,\n",
    "        stdout=subprocess.PIPE, \n",
    "        universal_newlines=True\n",
    "    )\n",
    "\n",
    "    output = ldd_result.stdout\n",
    "\n",
    "    if _MKL_ in output:\n",
    "        kind = _MKL_\n",
    "    elif _OPENBLAS_ in output:\n",
    "        kind = _OPENBLAS_\n",
    "    else:\n",
    "        return\n",
    "\n",
    "    pattern = LDD_PATTERN.format(kind)\n",
    "    match = re.search(pattern, output, flags=re.MULTILINE)\n",
    "\n",
    "    if match:\n",
    "        lib = ctypes.CDLL(match.groupdict()['path'])\n",
    "        return BLAS(lib, kind)\n",
    "    \n",
    "\n",
    "class single_threaded:\n",
    "    def __init__(self, numpy_module=None):\n",
    "        if numpy_module is not None:\n",
    "            self.blas = get_blas(numpy_module)\n",
    "        else:\n",
    "            import numpy\n",
    "            self.blas = get_blas(numpy)\n",
    "\n",
    "    def __enter__(self):\n",
    "        if self.blas is not None:\n",
    "            self.old_n_threads = self.blas.get_n_threads()\n",
    "            self.blas.set_n_threads(1)\n",
    "        else:\n",
    "            warnings.warn(\n",
    "                'No MKL/OpenBLAS found, assuming NumPy is single-threaded.'\n",
    "            )\n",
    "\n",
    "    def __exit__(self, *args):\n",
    "        if self.blas is not None:\n",
    "            self.blas.set_n_threads(self.old_n_threads)\n",
    "            if self.blas.get_n_threads() != self.old_n_threads:\n",
    "                message = (\n",
    "                    f'Failed to reset {self.blas.kind} '\n",
    "                    f'to {self.old_n_threads} threads (previous value).'\n",
    "                )\n",
    "                raise RuntimeError(message)\n",
    "    \n",
    "    def __call__(self, func):\n",
    "        def _func(*args, **kwargs):\n",
    "            self.__enter__()\n",
    "            func_result = func(*args, **kwargs)\n",
    "            self.__exit__()\n",
    "            return func_result\n",
    "        return _func"
   ]
  },
  {
   "cell_type": "code",
   "execution_count": 2,
   "metadata": {
    "_cell_guid": "79c7e3d0-c299-4dcb-8224-4455121ee9b0",
    "_uuid": "d629ff2d2480ee46fbb7e2d37f6b5fab8052498a",
    "collapsed": true
   },
   "outputs": [],
   "source": [
    "import numpy\n",
    "from tqdm.auto import tqdm\n",
    "from sklearn.model_selection import cross_val_score\n",
    "from sklearn.datasets import make_classification\n",
    "from sklearn.discriminant_analysis import QuadraticDiscriminantAnalysis"
   ]
  },
  {
   "cell_type": "code",
   "execution_count": 3,
   "metadata": {},
   "outputs": [],
   "source": [
    "X, y = make_classification(\n",
    "    n_samples=700,\n",
    "    n_features=40,\n",
    "    n_informative=40,\n",
    "    n_redundant=0,\n",
    "    n_repeated=0,\n",
    "    n_classes=2,\n",
    "    n_clusters_per_class=2,\n",
    "    flip_y=0.05,\n",
    "    class_sep=2.0,\n",
    "    hypercube=True,\n",
    "    random_state=577\n",
    ")"
   ]
  },
  {
   "cell_type": "code",
   "execution_count": 4,
   "metadata": {},
   "outputs": [],
   "source": [
    "# @single_threaded(numpy)\n",
    "def cv_qda(X, y):\n",
    "    return cross_val_score(\n",
    "        QuadraticDiscriminantAnalysis(),\n",
    "        X, y,\n",
    "        cv=32,\n",
    "        scoring=\"roc_auc\",\n",
    "        n_jobs=1,\n",
    "        verbose=0\n",
    "    ).mean()"
   ]
  },
  {
   "cell_type": "code",
   "execution_count": 5,
   "metadata": {},
   "outputs": [
    {
     "data": {
      "application/vnd.jupyter.widget-view+json": {
       "model_id": "f1e6520c437945e98a4aee5b78c7fda6",
       "version_major": 2,
       "version_minor": 0
      },
      "text/plain": [
       "HBox(children=(IntProgress(value=0, max=2048), HTML(value='')))"
      ]
     },
     "metadata": {},
     "output_type": "display_data"
    },
    {
     "name": "stdout",
     "output_type": "stream",
     "text": [
      "\n",
      "CPU times: user 10min 12s, sys: 18min 45s, total: 28min 58s\n",
      "Wall time: 7min 18s\n"
     ]
    }
   ],
   "source": [
    "%%time\n",
    "for _ in tqdm(range(512 * 4)):\n",
    "    _ = cv_qda(X, y)"
   ]
  },
  {
   "cell_type": "code",
   "execution_count": 6,
   "metadata": {},
   "outputs": [
    {
     "data": {
      "application/vnd.jupyter.widget-view+json": {
       "model_id": "f511064cfc66481083c060684a1918dd",
       "version_major": 2,
       "version_minor": 0
      },
      "text/plain": [
       "HBox(children=(IntProgress(value=0, max=2048), HTML(value='')))"
      ]
     },
     "metadata": {},
     "output_type": "display_data"
    },
    {
     "name": "stdout",
     "output_type": "stream",
     "text": [
      "\n",
      "CPU times: user 5min 8s, sys: 3.35 s, total: 5min 11s\n",
      "Wall time: 5min 8s\n"
     ]
    }
   ],
   "source": [
    "%%time\n",
    "with single_threaded(numpy):\n",
    "    for _ in tqdm(range(512 * 4)):\n",
    "        _ = cv_qda(X, y)"
   ]
  }
 ],
 "metadata": {
  "kernelspec": {
   "display_name": "Python 3",
   "language": "python",
   "name": "python3"
  },
  "language_info": {
   "codemirror_mode": {
    "name": "ipython",
    "version": 3
   },
   "file_extension": ".py",
   "mimetype": "text/x-python",
   "name": "python",
   "nbconvert_exporter": "python",
   "pygments_lexer": "ipython3",
   "version": "3.6.4"
  }
 },
 "nbformat": 4,
 "nbformat_minor": 1
}
