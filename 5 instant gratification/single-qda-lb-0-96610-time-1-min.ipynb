{
 "cells": [
  {
   "cell_type": "markdown",
   "metadata": {},
   "source": [
    "\n",
    "## Description\n",
    "\n",
    "UPDATE: In this version of the kernel we will try to test the idea of selecting features using LOFO. For more details about LOFO please see Ahmet Erdem's kernel available [at this link](https://www.kaggle.com/divrikwicky/instantgratification-lofo-feature-importance). The feature selection step is going to slow down the training process, so this new version will run longer than 1 minute. If you want to see the original kernel that runs less than a minute please refer to Version 1 of this kernel. \n",
    "\n",
    "The original kernel scores 0.99610 on the LB. Unfortunately, we won't be able to use this result as a baseline for comparison because we won't be able to submit our work to LB: in order for LOFO to work, an external package, `lofo-importance`, must be loaded but the usage of external packages is banned by the competion rules. However, it is possible to compute the cross-validation score for the QDA model without LOFO. As a matter of fact, I have already done it in a different kernel: [link](https://www.kaggle.com/graf10a/tuning-512-separate-qda-models) (see the \"Repeat Using the Standard Parameters\" section). The result was a CV score of 0.96629.  Let's see if selecting features with LOFO can improve this baseline. \n",
    "\n",
    "SPOILER: Basically, the resutl is very inconclusive -- the combined AUC went up from 0.96629 to 0.96727, the fold-average AUC went down from 0.96628 to 0.96213, and the standard deviation increased from 9e-05 to 0.0097. It would be nice to submit it to the LB to see how well it performs."
   ]
  },
  {
   "cell_type": "markdown",
   "metadata": {},
   "source": [
    "## Setting things up\n",
    "### Loading Libraries"
   ]
  },
  {
   "cell_type": "code",
   "execution_count": 1,
   "metadata": {
    "_cell_guid": "b1076dfc-b9ad-4769-8c92-a6c4dae69d19",
    "_uuid": "8f2839f25d086af736a60e9eeb907d3b93b6e0e5"
   },
   "outputs": [],
   "source": [
    "import warnings\n",
    "warnings.filterwarnings('ignore')\n",
    "\n",
    "import numpy as np \n",
    "import pandas as pd \n",
    "from sklearn.pipeline import Pipeline\n",
    "from sklearn.metrics import roc_auc_score\n",
    "from sklearn.model_selection import StratifiedKFold\n",
    "from sklearn.feature_selection import VarianceThreshold\n",
    "from sklearn.preprocessing import StandardScaler\n",
    "\n",
    "\n",
    "from sklearn.discriminant_analysis import QuadraticDiscriminantAnalysis"
   ]
  },
  {
   "cell_type": "markdown",
   "metadata": {},
   "source": [
    "### Loading Data"
   ]
  },
  {
   "cell_type": "code",
   "execution_count": 2,
   "metadata": {
    "_cell_guid": "79c7e3d0-c299-4dcb-8224-4455121ee9b0",
    "_uuid": "d629ff2d2480ee46fbb7e2d37f6b5fab8052498a"
   },
   "outputs": [
    {
     "name": "stdout",
     "output_type": "stream",
     "text": [
      "CPU times: user 23.7 s, sys: 5.15 s, total: 28.8 s\n",
      "Wall time: 29 s\n"
     ]
    }
   ],
   "source": [
    "%%time\n",
    "\n",
    "train = pd.read_csv('../input/train.csv')\n",
    "test = pd.read_csv('../input/test.csv')\n",
    "\n",
    "train['wheezy-copper-turtle-magic'] = train['wheezy-copper-turtle-magic'].astype('category')\n",
    "test['wheezy-copper-turtle-magic'] = test['wheezy-copper-turtle-magic'].astype('category')"
   ]
  },
  {
   "cell_type": "markdown",
   "metadata": {},
   "source": [
    "### Computing LOFO Importance\n",
    "\n",
    "Here is the adapted code from [Ahmet's notebook](https://www.kaggle.com/divrikwicky/instantgratification-lofo-feature-importance):"
   ]
  },
  {
   "cell_type": "code",
   "execution_count": 3,
   "metadata": {},
   "outputs": [
    {
     "data": {
      "application/vnd.jupyter.widget-view+json": {
       "model_id": "42467b7f184240fab9ba5dd18525be02",
       "version_major": 2,
       "version_minor": 0
      },
      "text/plain": [
       "HBox(children=(IntProgress(value=0, max=512), HTML(value='')))"
      ]
     },
     "metadata": {},
     "output_type": "display_data"
    },
    {
     "name": "stdout",
     "output_type": "stream",
     "text": [
      "\n",
      "Potential gain (AUC): 0.00193\n"
     ]
    }
   ],
   "source": [
    "from lofo import LOFOImportance, FLOFOImportance, plot_importance\n",
    "from tqdm import tqdm_notebook\n",
    "\n",
    "def get_model():\n",
    "    return Pipeline([('scaler', StandardScaler()),\n",
    "                    ('qda', QuadraticDiscriminantAnalysis(reg_param=0.111))\n",
    "                   ])\n",
    "\n",
    "features = [c for c in train.columns if c not in ['id', 'target', 'wheezy-copper-turtle-magic']]\n",
    "\n",
    "\n",
    "def get_lofo_importance(wctm_num):\n",
    "    sub_df = train[train['wheezy-copper-turtle-magic'] == wctm_num]\n",
    "    sub_features = [f for f in features if sub_df[f].std() > 1.5]\n",
    "    lofo_imp = LOFOImportance(sub_df, target=\"target\",\n",
    "                              features=sub_features, \n",
    "                              cv=StratifiedKFold(n_splits=4, random_state=42, shuffle=True), scoring=\"roc_auc\",\n",
    "                              model=get_model(), n_jobs=4)\n",
    "    return lofo_imp.get_importance()\n",
    "\n",
    "features_to_remove = []\n",
    "potential_gain = []\n",
    "\n",
    "n_models=512\n",
    "for i in tqdm_notebook(range(n_models)):\n",
    "    imp = get_lofo_importance(i)\n",
    "    features_to_remove.append(imp[\"feature\"].values[-1])\n",
    "    potential_gain.append(-imp[\"importance_mean\"].values[-1])\n",
    "    \n",
    "print(\"Potential gain (AUC):\", np.round(np.mean(potential_gain), 5))"
   ]
  },
  {
   "cell_type": "markdown",
   "metadata": {},
   "source": [
    "## Building the QDA Classifier with LOFO"
   ]
  },
  {
   "cell_type": "markdown",
   "metadata": {},
   "source": [
    "### Preparing Things for Cross-Validation"
   ]
  },
  {
   "cell_type": "code",
   "execution_count": 4,
   "metadata": {},
   "outputs": [],
   "source": [
    "clf_name='QDA'\n",
    "\n",
    "NFOLDS=25\n",
    "RS=42\n",
    "\n",
    "oof=np.zeros(len(train))\n",
    "preds=np.zeros(len(test))"
   ]
  },
  {
   "cell_type": "markdown",
   "metadata": {},
   "source": [
    "### Training the Classifiers on All Data"
   ]
  },
  {
   "cell_type": "code",
   "execution_count": 5,
   "metadata": {},
   "outputs": [
    {
     "name": "stdout",
     "output_type": "stream",
     "text": [
      "Cross-validation for the QDA classifier:\n",
      "The combined CV score is 0.96727.\n",
      "The folds average CV score is 0.96213.\n",
      "The standard deviation is 0.0097.\n",
      "CPU times: user 3min 12s, sys: 5min 38s, total: 8min 51s\n",
      "Wall time: 2min 16s\n"
     ]
    }
   ],
   "source": [
    "%%time\n",
    "\n",
    "print(f'Cross-validation for the {clf_name} classifier:')\n",
    "\n",
    "default_cols = [c for c in train.columns if c not in ['id', 'target', 'wheezy-copper-turtle-magic']]\n",
    "\n",
    "# BUILD 512 SEPARATE NON-LINEAR MODELS\n",
    "for i in range(512):  \n",
    "    \n",
    "    # EXTRACT SUBSET OF DATASET WHERE WHEEZY-MAGIC EQUALS i     \n",
    "    X = train[train['wheezy-copper-turtle-magic']==i].copy()\n",
    "    Y = X.pop('target').values\n",
    "    X_test = test[test['wheezy-copper-turtle-magic']==i].copy()\n",
    "    idx_train = X.index \n",
    "    idx_test = X_test.index\n",
    "    X.reset_index(drop=True,inplace=True)\n",
    "\n",
    "    #cols = [c for c in X.columns if c not in ['id', 'wheezy-copper-turtle-magic']]\n",
    "    cols = [c for c in default_cols if c != features_to_remove[i]]\n",
    "    X = X[cols].values             # numpy.ndarray\n",
    "    X_test = X_test[cols].values   # numpy.ndarray\n",
    "\n",
    "    # FEATURE SELECTION (USE APPROX 40 OF 255 FEATURES)\n",
    "    vt = VarianceThreshold(threshold=1.5).fit(X)\n",
    "    X = vt.transform(X)            # numpy.ndarray\n",
    "    X_test = vt.transform(X_test)  # numpy.ndarray   \n",
    "\n",
    "    # STRATIFIED K FOLD\n",
    "    auc_all_folds=np.array([])\n",
    "    folds = StratifiedKFold(n_splits=NFOLDS, random_state=RS)\n",
    "\n",
    "    for fold_num, (train_index, val_index) in enumerate(folds.split(X, Y), 1):\n",
    "\n",
    "        X_train, Y_train = X[train_index, :], Y[train_index]\n",
    "        X_val, Y_val = X[val_index, :], Y[val_index]\n",
    "\n",
    "        pipe = Pipeline([('scaler', StandardScaler()),\n",
    "                         (clf_name, QuadraticDiscriminantAnalysis(reg_param=0.111)),\n",
    "                       ])  \n",
    "\n",
    "        pipe.fit(X_train, Y_train)\n",
    "\n",
    "        oof[idx_train[val_index]] = pipe.predict_proba(X_val)[:,1]\n",
    "        preds[idx_test] += pipe.predict_proba(X_test)[:,1]/NFOLDS\n",
    "\n",
    "        auc = roc_auc_score(Y_val, oof[idx_train[val_index]])\n",
    "        auc_all_folds = np.append(auc_all_folds, auc)\n",
    "            \n",
    "# PRINT CROSS-VALIDATION AUC FOR THE CLASSFIER\n",
    "auc_combo = roc_auc_score(train['target'].values, oof)\n",
    "auc_folds_average = np.mean(auc_all_folds)\n",
    "std = np.std(auc_all_folds)/np.sqrt(NFOLDS)\n",
    "\n",
    "print(f'The combined CV score is {round(auc_combo,5)}.')    \n",
    "print(f'The folds average CV score is {round(auc_folds_average,5)}.')\n",
    "print(f'The standard deviation is {round(std, 5)}.')"
   ]
  },
  {
   "cell_type": "markdown",
   "metadata": {},
   "source": [
    "## Creating the Submission File\n",
    "\n",
    "All done! At this point we are ready to make our submission file! (We won't be able to submit it but let's make it anyway.)"
   ]
  },
  {
   "cell_type": "code",
   "execution_count": 6,
   "metadata": {},
   "outputs": [],
   "source": [
    "sub = pd.read_csv('../input/sample_submission.csv')\n",
    "sub['target'] = preds\n",
    "sub.to_csv('submission.csv',index=False)"
   ]
  },
  {
   "cell_type": "code",
   "execution_count": 7,
   "metadata": {},
   "outputs": [
    {
     "data": {
      "text/plain": [
       "(131073, 2)"
      ]
     },
     "execution_count": 7,
     "metadata": {},
     "output_type": "execute_result"
    }
   ],
   "source": [
    "sub.shape"
   ]
  },
  {
   "cell_type": "code",
   "execution_count": 8,
   "metadata": {},
   "outputs": [
    {
     "data": {
      "text/html": [
       "<div>\n",
       "<style scoped>\n",
       "    .dataframe tbody tr th:only-of-type {\n",
       "        vertical-align: middle;\n",
       "    }\n",
       "\n",
       "    .dataframe tbody tr th {\n",
       "        vertical-align: top;\n",
       "    }\n",
       "\n",
       "    .dataframe thead th {\n",
       "        text-align: right;\n",
       "    }\n",
       "</style>\n",
       "<table border=\"1\" class=\"dataframe\">\n",
       "  <thead>\n",
       "    <tr style=\"text-align: right;\">\n",
       "      <th></th>\n",
       "      <th>id</th>\n",
       "      <th>target</th>\n",
       "    </tr>\n",
       "  </thead>\n",
       "  <tbody>\n",
       "    <tr>\n",
       "      <th>0</th>\n",
       "      <td>1c13f2701648e0b0d46d8a2a5a131a53</td>\n",
       "      <td>0.999813</td>\n",
       "    </tr>\n",
       "    <tr>\n",
       "      <th>1</th>\n",
       "      <td>ba88c155ba898fc8b5099893036ef205</td>\n",
       "      <td>0.985065</td>\n",
       "    </tr>\n",
       "    <tr>\n",
       "      <th>2</th>\n",
       "      <td>7cbab5cea99169139e7e6d8ff74ebb77</td>\n",
       "      <td>0.000082</td>\n",
       "    </tr>\n",
       "    <tr>\n",
       "      <th>3</th>\n",
       "      <td>ca820ad57809f62eb7b4d13f5d4371a0</td>\n",
       "      <td>0.083593</td>\n",
       "    </tr>\n",
       "    <tr>\n",
       "      <th>4</th>\n",
       "      <td>7baaf361537fbd8a1aaa2c97a6d4ccc7</td>\n",
       "      <td>0.168917</td>\n",
       "    </tr>\n",
       "  </tbody>\n",
       "</table>\n",
       "</div>"
      ],
      "text/plain": [
       "                                 id    target\n",
       "0  1c13f2701648e0b0d46d8a2a5a131a53  0.999813\n",
       "1  ba88c155ba898fc8b5099893036ef205  0.985065\n",
       "2  7cbab5cea99169139e7e6d8ff74ebb77  0.000082\n",
       "3  ca820ad57809f62eb7b4d13f5d4371a0  0.083593\n",
       "4  7baaf361537fbd8a1aaa2c97a6d4ccc7  0.168917"
      ]
     },
     "execution_count": 8,
     "metadata": {},
     "output_type": "execute_result"
    }
   ],
   "source": [
    "sub.head()"
   ]
  }
 ],
 "metadata": {
  "kernelspec": {
   "display_name": "Python 3",
   "language": "python",
   "name": "python3"
  },
  "language_info": {
   "codemirror_mode": {
    "name": "ipython",
    "version": 3
   },
   "file_extension": ".py",
   "mimetype": "text/x-python",
   "name": "python",
   "nbconvert_exporter": "python",
   "pygments_lexer": "ipython3",
   "version": "3.6.4"
  }
 },
 "nbformat": 4,
 "nbformat_minor": 1
}
