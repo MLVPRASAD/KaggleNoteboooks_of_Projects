{
 "cells": [
  {
   "cell_type": "code",
   "execution_count": 1,
   "metadata": {
    "_cell_guid": "b1076dfc-b9ad-4769-8c92-a6c4dae69d19",
    "_uuid": "8f2839f25d086af736a60e9eeb907d3b93b6e0e5"
   },
   "outputs": [
    {
     "name": "stderr",
     "output_type": "stream",
     "text": [
      "Using TensorFlow backend.\n"
     ]
    }
   ],
   "source": [
    "import os\n",
    "import gc\n",
    "import joblib\n",
    "import pandas as pd\n",
    "import numpy as np\n",
    "from sklearn.model_selection import StratifiedKFold\n",
    "from sklearn import metrics, preprocessing\n",
    "import xgboost as xgb\n",
    "import tensorflow as tf\n",
    "from keras.layers import Dense, Input\n",
    "from collections import Counter\n",
    "from keras import layers\n",
    "from keras.layers import BatchNormalization\n",
    "from keras.optimizers import Adam\n",
    "from keras.models import Model, load_model\n",
    "from keras import callbacks\n",
    "from keras import backend as K\n",
    "from keras.layers import Dropout\n",
    "\n",
    "import warnings\n",
    "warnings.filterwarnings(\"ignore\")"
   ]
  },
  {
   "cell_type": "code",
   "execution_count": 2,
   "metadata": {
    "_cell_guid": "79c7e3d0-c299-4dcb-8224-4455121ee9b0",
    "_uuid": "d629ff2d2480ee46fbb7e2d37f6b5fab8052498a",
    "collapsed": true
   },
   "outputs": [],
   "source": [
    "BATCH_SIZE = 1024\n",
    "EPOCHS = 50"
   ]
  },
  {
   "cell_type": "code",
   "execution_count": 3,
   "metadata": {},
   "outputs": [],
   "source": [
    "def auc(y_true, y_pred):\n",
    "    def fallback_auc(y_true, y_pred):\n",
    "        try:\n",
    "            return metrics.roc_auc_score(y_true, y_pred)\n",
    "        except:\n",
    "            return 0.5\n",
    "    return tf.py_function(fallback_auc, (y_true, y_pred), tf.double)"
   ]
  },
  {
   "cell_type": "code",
   "execution_count": 4,
   "metadata": {},
   "outputs": [],
   "source": [
    "def create_model(data, catcols, numcols):    \n",
    "    inputs = []\n",
    "    outputs = []\n",
    "    for c in catcols:\n",
    "        num_unique_values = int(data[c].nunique())\n",
    "        embed_dim = int(min(np.ceil((num_unique_values)/2), 50))\n",
    "        inp = layers.Input(shape=(1,))\n",
    "        out = layers.Embedding(num_unique_values + 1, embed_dim, name=c)(inp)\n",
    "        out = layers.SpatialDropout1D(0.3)(out)\n",
    "        out = layers.Reshape(target_shape=(embed_dim, ))(out)\n",
    "        inputs.append(inp)\n",
    "        outputs.append(out)\n",
    "    \n",
    "    num_input = layers.Input(shape=(data[numcols].shape[1], ))\n",
    "    inputs.append(num_input)\n",
    "    outputs.append(num_input)\n",
    "    \n",
    "    x = layers.Concatenate()(outputs)\n",
    "    x = BatchNormalization()(x)\n",
    "    x = Dropout(0.3)(x)\n",
    "    x = Dense(128, activation=\"relu\")(x)\n",
    "    x = Dropout(0.3)(x)\n",
    "    x = BatchNormalization()(x)\n",
    "    x = Dense(32, activation=\"relu\")(x)\n",
    "    x = Dropout(0.3)(x)\n",
    "    x = BatchNormalization()(x)\n",
    "    y = Dense(1, activation=\"sigmoid\")(x)\n",
    "    \n",
    "    model = Model(inputs=inputs, outputs=y)\n",
    "    model.compile(loss='binary_crossentropy', optimizer='adam')\n",
    "    return model"
   ]
  },
  {
   "cell_type": "code",
   "execution_count": 5,
   "metadata": {},
   "outputs": [],
   "source": [
    "train = pd.read_csv('../input/train.csv')\n",
    "test = pd.read_csv('../input/test.csv')\n",
    "test[\"target\"] = -1\n",
    "sample = pd.read_csv('../input/sample_submission.csv')\n",
    "\n",
    "test_ids = test.id.values\n",
    "test = test[train.columns]\n",
    "\n",
    "data = pd.concat([train, test])"
   ]
  },
  {
   "cell_type": "code",
   "execution_count": 6,
   "metadata": {},
   "outputs": [],
   "source": [
    "catcols = ['wheezy-copper-turtle-magic']\n",
    "numcols = [c for c in data.columns if c not in [\"id\", \"target\"] + catcols]"
   ]
  },
  {
   "cell_type": "code",
   "execution_count": 7,
   "metadata": {},
   "outputs": [],
   "source": [
    "scl = preprocessing.StandardScaler()\n",
    "useful_data = data[numcols]\n",
    "scaled_data = scl.fit_transform(useful_data)\n",
    "useful_data = pd.DataFrame(scaled_data, columns=useful_data.columns)\n",
    "\n",
    "useful_data[\"id\"] = data.id.values\n",
    "useful_data[\"target\"] = data.target.values\n",
    "for c in catcols:\n",
    "    if c in [\"id\", \"target\"]:\n",
    "        continue\n",
    "    useful_data[c] = data[c].values\n",
    "\n",
    "train = useful_data[useful_data.target != -1].reset_index(drop=True)\n",
    "test = useful_data[useful_data.target == -1].reset_index(drop=True)\n",
    "\n",
    "y = train.target.values"
   ]
  },
  {
   "cell_type": "code",
   "execution_count": 8,
   "metadata": {},
   "outputs": [
    {
     "name": "stdout",
     "output_type": "stream",
     "text": [
      "WARNING:tensorflow:From /opt/conda/lib/python3.6/site-packages/tensorflow/python/framework/op_def_library.py:263: colocate_with (from tensorflow.python.framework.ops) is deprecated and will be removed in a future version.\n",
      "Instructions for updating:\n",
      "Colocations handled automatically by placer.\n",
      "WARNING:tensorflow:From /opt/conda/lib/python3.6/site-packages/keras/backend/tensorflow_backend.py:3445: calling dropout (from tensorflow.python.ops.nn_ops) with keep_prob is deprecated and will be removed in a future version.\n",
      "Instructions for updating:\n",
      "Please use `rate` instead of `keep_prob`. Rate should be set to `rate = 1 - keep_prob`.\n"
     ]
    }
   ],
   "source": [
    "clf = create_model(data, catcols, numcols)"
   ]
  },
  {
   "cell_type": "code",
   "execution_count": 9,
   "metadata": {},
   "outputs": [
    {
     "name": "stdout",
     "output_type": "stream",
     "text": [
      "WARNING:tensorflow:From /opt/conda/lib/python3.6/site-packages/tensorflow/python/ops/math_ops.py:3066: to_int32 (from tensorflow.python.ops.math_ops) is deprecated and will be removed in a future version.\n",
      "Instructions for updating:\n",
      "Use tf.cast instead.\n",
      "Epoch 1/50\n",
      "262144/262144 [==============================] - 10s 37us/step - loss: 0.7566\n",
      "Epoch 2/50\n",
      "262144/262144 [==============================] - 9s 35us/step - loss: 0.7019\n",
      "Epoch 3/50\n",
      "262144/262144 [==============================] - 8s 31us/step - loss: 0.6940\n",
      "Epoch 4/50\n",
      "262144/262144 [==============================] - 8s 30us/step - loss: 0.6925\n",
      "Epoch 5/50\n",
      "262144/262144 [==============================] - 8s 30us/step - loss: 0.6917\n",
      "Epoch 6/50\n",
      "262144/262144 [==============================] - 8s 30us/step - loss: 0.6910\n",
      "Epoch 7/50\n",
      "262144/262144 [==============================] - 8s 30us/step - loss: 0.6898\n",
      "Epoch 8/50\n",
      "262144/262144 [==============================] - 8s 30us/step - loss: 0.6885\n",
      "Epoch 9/50\n",
      "262144/262144 [==============================] - 8s 31us/step - loss: 0.6864\n",
      "Epoch 10/50\n",
      "262144/262144 [==============================] - 8s 30us/step - loss: 0.6840\n",
      "Epoch 11/50\n",
      "262144/262144 [==============================] - 8s 30us/step - loss: 0.6803\n",
      "Epoch 12/50\n",
      "262144/262144 [==============================] - 8s 31us/step - loss: 0.6766\n",
      "Epoch 13/50\n",
      "262144/262144 [==============================] - 8s 31us/step - loss: 0.6725\n",
      "Epoch 14/50\n",
      "262144/262144 [==============================] - 8s 31us/step - loss: 0.6692\n",
      "Epoch 15/50\n",
      "262144/262144 [==============================] - 8s 31us/step - loss: 0.6660\n",
      "Epoch 16/50\n",
      "262144/262144 [==============================] - 8s 30us/step - loss: 0.6623\n",
      "Epoch 17/50\n",
      "262144/262144 [==============================] - 8s 31us/step - loss: 0.6597\n",
      "Epoch 18/50\n",
      "262144/262144 [==============================] - 8s 31us/step - loss: 0.6579\n",
      "Epoch 19/50\n",
      "262144/262144 [==============================] - 8s 32us/step - loss: 0.6549\n",
      "Epoch 20/50\n",
      "262144/262144 [==============================] - 8s 30us/step - loss: 0.6531\n",
      "Epoch 21/50\n",
      "262144/262144 [==============================] - 8s 30us/step - loss: 0.6507\n",
      "Epoch 22/50\n",
      "262144/262144 [==============================] - 8s 30us/step - loss: 0.6495\n",
      "Epoch 23/50\n",
      "262144/262144 [==============================] - 8s 30us/step - loss: 0.6479\n",
      "Epoch 24/50\n",
      "262144/262144 [==============================] - 8s 30us/step - loss: 0.6472\n",
      "Epoch 25/50\n",
      "262144/262144 [==============================] - 8s 30us/step - loss: 0.6447\n",
      "Epoch 26/50\n",
      "262144/262144 [==============================] - 8s 30us/step - loss: 0.6431\n",
      "Epoch 27/50\n",
      "262144/262144 [==============================] - 8s 30us/step - loss: 0.6433\n",
      "Epoch 28/50\n",
      "262144/262144 [==============================] - 8s 31us/step - loss: 0.6416\n",
      "Epoch 29/50\n",
      "262144/262144 [==============================] - 8s 31us/step - loss: 0.6411\n",
      "Epoch 30/50\n",
      "262144/262144 [==============================] - 8s 30us/step - loss: 0.6393\n",
      "Epoch 31/50\n",
      "262144/262144 [==============================] - 8s 30us/step - loss: 0.6391\n",
      "Epoch 32/50\n",
      "262144/262144 [==============================] - 8s 31us/step - loss: 0.6383\n",
      "Epoch 33/50\n",
      "262144/262144 [==============================] - 8s 31us/step - loss: 0.6375\n",
      "Epoch 34/50\n",
      "262144/262144 [==============================] - 8s 31us/step - loss: 0.6366\n",
      "Epoch 35/50\n",
      "262144/262144 [==============================] - 8s 31us/step - loss: 0.6367\n",
      "Epoch 36/50\n",
      "262144/262144 [==============================] - 8s 30us/step - loss: 0.6349\n",
      "Epoch 37/50\n",
      "262144/262144 [==============================] - 8s 30us/step - loss: 0.6348\n",
      "Epoch 38/50\n",
      "262144/262144 [==============================] - 8s 30us/step - loss: 0.6339\n",
      "Epoch 39/50\n",
      "262144/262144 [==============================] - 8s 30us/step - loss: 0.6338\n",
      "Epoch 40/50\n",
      "262144/262144 [==============================] - 8s 32us/step - loss: 0.6332\n",
      "Epoch 41/50\n",
      "262144/262144 [==============================] - 8s 32us/step - loss: 0.6328\n",
      "Epoch 42/50\n",
      "262144/262144 [==============================] - 8s 31us/step - loss: 0.6323\n",
      "Epoch 43/50\n",
      "262144/262144 [==============================] - 8s 30us/step - loss: 0.6314\n",
      "Epoch 44/50\n",
      "262144/262144 [==============================] - 8s 30us/step - loss: 0.6311\n",
      "Epoch 45/50\n",
      "262144/262144 [==============================] - 8s 30us/step - loss: 0.6313\n",
      "Epoch 46/50\n",
      "262144/262144 [==============================] - 8s 30us/step - loss: 0.6317\n",
      "Epoch 47/50\n",
      " 48128/262144 [====>.........................] - ETA: 6s - loss: 0.6297"
     ]
    }
   ],
   "source": [
    "clf.fit([train.loc[:, catcols].values[:, k] for k in range(train.loc[:, catcols].values.shape[1])] + [train.loc[:, numcols].values], \n",
    "        train.target.values,\n",
    "        batch_size=BATCH_SIZE,\n",
    "        epochs=EPOCHS)\n",
    "test_preds = clf.predict([test.loc[:, catcols].values[:, k] for k in range(test.loc[:, catcols].values.shape[1])] + [test.loc[:, numcols].values])"
   ]
  },
  {
   "cell_type": "code",
   "execution_count": 10,
   "metadata": {},
   "outputs": [],
   "source": [
    "sample.target = test_preds\n",
    "sample.to_csv(\"submission.csv\", index=False)"
   ]
  }
 ],
 "metadata": {
  "kernelspec": {
   "display_name": "Python 3",
   "language": "python",
   "name": "python3"
  },
  "language_info": {
   "codemirror_mode": {
    "name": "ipython",
    "version": 3
   },
   "file_extension": ".py",
   "mimetype": "text/x-python",
   "name": "python",
   "nbconvert_exporter": "python",
   "pygments_lexer": "ipython3",
   "version": "3.6.4"
  }
 },
 "nbformat": 4,
 "nbformat_minor": 1
}
