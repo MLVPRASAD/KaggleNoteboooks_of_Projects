{
 "cells": [
  {
   "cell_type": "markdown",
   "metadata": {},
   "source": [
    "## Thanks @abhishek for his kernel https://www.kaggle.com/abhishek/beating-the-benchmark-neural-network\n",
    "## Due to 'wheezy-copper-turtle-magic' is categorical feature, I decided to add one-hot encoding. "
   ]
  },
  {
   "cell_type": "code",
   "execution_count": 1,
   "metadata": {
    "_cell_guid": "b1076dfc-b9ad-4769-8c92-a6c4dae69d19",
    "_uuid": "8f2839f25d086af736a60e9eeb907d3b93b6e0e5"
   },
   "outputs": [
    {
     "name": "stderr",
     "output_type": "stream",
     "text": [
      "Using TensorFlow backend.\n"
     ]
    }
   ],
   "source": [
    "import os\n",
    "import gc\n",
    "import pandas as pd\n",
    "import numpy as np\n",
    "\n",
    "from sklearn.model_selection import StratifiedKFold\n",
    "from sklearn import metrics, preprocessing\n",
    "from sklearn.preprocessing import OneHotEncoder\n",
    "\n",
    "import tensorflow as tf\n",
    "from keras.layers import Dense, Input\n",
    "from collections import Counter\n",
    "from keras.layers import BatchNormalization\n",
    "from keras.optimizers import Adam\n",
    "from keras.models import Model, load_model\n",
    "from keras import callbacks\n",
    "from keras import backend as K\n",
    "from keras.layers import Dropout\n",
    "\n",
    "import warnings\n",
    "warnings.filterwarnings(\"ignore\")"
   ]
  },
  {
   "cell_type": "markdown",
   "metadata": {},
   "source": [
    "### Some functions to make life easier"
   ]
  },
  {
   "cell_type": "code",
   "execution_count": 2,
   "metadata": {
    "_cell_guid": "79c7e3d0-c299-4dcb-8224-4455121ee9b0",
    "_uuid": "d629ff2d2480ee46fbb7e2d37f6b5fab8052498a"
   },
   "outputs": [],
   "source": [
    "def submit(predictions):\n",
    "    submit = pd.read_csv('../input/sample_submission.csv')\n",
    "    submit[\"target\"] = predictions\n",
    "    submit.to_csv(\"submission.csv\", index=False)\n",
    "\n",
    "def fallback_auc(y_true, y_pred):\n",
    "    try:\n",
    "        return metrics.roc_auc_score(y_true, y_pred)\n",
    "    except:\n",
    "        return 0.5\n",
    "\n",
    "def auc(y_true, y_pred):\n",
    "    return tf.py_function(fallback_auc, (y_true, y_pred), tf.double)"
   ]
  },
  {
   "cell_type": "markdown",
   "metadata": {},
   "source": [
    "### Load data"
   ]
  },
  {
   "cell_type": "code",
   "execution_count": 3,
   "metadata": {},
   "outputs": [],
   "source": [
    "df_tr = pd.read_csv(\"../input/train.csv\")\n",
    "df_test = pd.read_csv(\"../input/test.csv\")"
   ]
  },
  {
   "cell_type": "markdown",
   "metadata": {},
   "source": [
    "### Decalare variables"
   ]
  },
  {
   "cell_type": "code",
   "execution_count": 4,
   "metadata": {},
   "outputs": [],
   "source": [
    "NFOLDS = 5\n",
    "RANDOM_STATE = 42\n",
    "numeric = [c for c in df_tr.columns if c not in ['id', 'target', 'wheezy-copper-turtle-magic']]"
   ]
  },
  {
   "cell_type": "markdown",
   "metadata": {},
   "source": [
    "### One-hot encodings and basic statistic based on categorical column 'wheezy-copper-turtle-magic'"
   ]
  },
  {
   "cell_type": "code",
   "execution_count": 5,
   "metadata": {},
   "outputs": [],
   "source": [
    "len_train = df_tr.shape[0]\n",
    "df_test['target'] = -1\n",
    "data = pd.concat([df_tr, df_test])\n",
    "data['magic_count'] = data.groupby(['wheezy-copper-turtle-magic'])['id'].transform('count')\n",
    "data = pd.concat([data, pd.get_dummies(data['wheezy-copper-turtle-magic'])], axis=1, sort=False)\n",
    "\n",
    "df_tr = data[:len_train]\n",
    "df_test = data[len_train:]"
   ]
  },
  {
   "cell_type": "markdown",
   "metadata": {},
   "source": [
    "### Let's make KFold validation with 5 folds"
   ]
  },
  {
   "cell_type": "code",
   "execution_count": 6,
   "metadata": {},
   "outputs": [],
   "source": [
    "folds = StratifiedKFold(n_splits=NFOLDS, shuffle=True, random_state=RANDOM_STATE)"
   ]
  },
  {
   "cell_type": "markdown",
   "metadata": {},
   "source": [
    "#### Clear garbage"
   ]
  },
  {
   "cell_type": "code",
   "execution_count": 7,
   "metadata": {},
   "outputs": [
    {
     "data": {
      "text/plain": [
       "39"
      ]
     },
     "execution_count": 7,
     "metadata": {},
     "output_type": "execute_result"
    }
   ],
   "source": [
    "gc.collect()"
   ]
  },
  {
   "cell_type": "markdown",
   "metadata": {},
   "source": [
    "### Preparing data for Neural Network"
   ]
  },
  {
   "cell_type": "code",
   "execution_count": 8,
   "metadata": {},
   "outputs": [],
   "source": [
    "y = df_tr.target\n",
    "ids = df_tr.id.values\n",
    "train = df_tr.drop(['id', 'target'], axis=1)\n",
    "test_ids = df_test.id.values\n",
    "test = df_test[train.columns]\n",
    "\n",
    "oof_preds = np.zeros((len(train)))\n",
    "test_preds = np.zeros((len(test)))\n",
    "\n",
    "scl = preprocessing.StandardScaler()\n",
    "scl.fit(pd.concat([train, test]))\n",
    "train = scl.transform(train)\n",
    "test = scl.transform(test)"
   ]
  },
  {
   "cell_type": "markdown",
   "metadata": {},
   "source": [
    "### We all waited this moment! Training"
   ]
  },
  {
   "cell_type": "code",
   "execution_count": 9,
   "metadata": {},
   "outputs": [
    {
     "name": "stdout",
     "output_type": "stream",
     "text": [
      "Current Fold: 0\n",
      "WARNING:tensorflow:From /opt/conda/lib/python3.6/site-packages/tensorflow/python/framework/op_def_library.py:263: colocate_with (from tensorflow.python.framework.ops) is deprecated and will be removed in a future version.\n",
      "Instructions for updating:\n",
      "Colocations handled automatically by placer.\n",
      "WARNING:tensorflow:From /opt/conda/lib/python3.6/site-packages/keras/backend/tensorflow_backend.py:3445: calling dropout (from tensorflow.python.ops.nn_ops) with keep_prob is deprecated and will be removed in a future version.\n",
      "Instructions for updating:\n",
      "Please use `rate` instead of `keep_prob`. Rate should be set to `rate = 1 - keep_prob`.\n",
      "WARNING:tensorflow:From /opt/conda/lib/python3.6/site-packages/tensorflow/python/ops/math_ops.py:3066: to_int32 (from tensorflow.python.ops.math_ops) is deprecated and will be removed in a future version.\n",
      "Instructions for updating:\n",
      "Use tf.cast instead.\n",
      "Train on 209714 samples, validate on 52430 samples\n",
      "Epoch 1/100\n",
      "209714/209714 [==============================] - 7s 31us/step - loss: 0.7304 - auc: 0.5406 - val_loss: 0.6657 - val_auc: 0.6363\n",
      "Epoch 2/100\n",
      "209714/209714 [==============================] - 4s 19us/step - loss: 0.6611 - auc: 0.6419 - val_loss: 0.6310 - val_auc: 0.7006\n",
      "Epoch 3/100\n",
      "209714/209714 [==============================] - 4s 19us/step - loss: 0.6173 - auc: 0.7173 - val_loss: 0.6070 - val_auc: 0.7308\n",
      "Epoch 4/100\n",
      "209714/209714 [==============================] - 4s 19us/step - loss: 0.5700 - auc: 0.7738 - val_loss: 0.5892 - val_auc: 0.7578\n",
      "Epoch 5/100\n",
      "209714/209714 [==============================] - 4s 19us/step - loss: 0.5234 - auc: 0.8171 - val_loss: 0.5864 - val_auc: 0.7671\n",
      "Epoch 6/100\n",
      "209714/209714 [==============================] - 4s 19us/step - loss: 0.4806 - auc: 0.8504 - val_loss: 0.5764 - val_auc: 0.7837\n",
      "Epoch 7/100\n",
      "209714/209714 [==============================] - 4s 19us/step - loss: 0.4422 - auc: 0.8759 - val_loss: 0.5831 - val_auc: 0.7883\n",
      "Epoch 8/100\n",
      "209714/209714 [==============================] - 4s 20us/step - loss: 0.4037 - auc: 0.8980 - val_loss: 0.5735 - val_auc: 0.8002\n",
      "Epoch 9/100\n",
      "209714/209714 [==============================] - 4s 20us/step - loss: 0.3681 - auc: 0.9161 - val_loss: 0.5883 - val_auc: 0.8015\n",
      "Epoch 10/100\n",
      "209714/209714 [==============================] - 4s 19us/step - loss: 0.3349 - auc: 0.9312 - val_loss: 0.6040 - val_auc: 0.8052\n",
      "Epoch 11/100\n",
      "209714/209714 [==============================] - 4s 19us/step - loss: 0.3065 - auc: 0.9425 - val_loss: 0.6047 - val_auc: 0.8099\n",
      "Epoch 12/100\n",
      "209714/209714 [==============================] - 4s 19us/step - loss: 0.2804 - auc: 0.9520 - val_loss: 0.6243 - val_auc: 0.8127\n",
      "Epoch 13/100\n",
      "209714/209714 [==============================] - 4s 19us/step - loss: 0.2532 - auc: 0.9611 - val_loss: 0.6511 - val_auc: 0.8114\n",
      "Epoch 14/100\n",
      "209714/209714 [==============================] - 4s 19us/step - loss: 0.2333 - auc: 0.9670 - val_loss: 0.6733 - val_auc: 0.8142\n",
      "Epoch 15/100\n",
      "209714/209714 [==============================] - 4s 19us/step - loss: 0.2146 - auc: 0.9720 - val_loss: 0.6844 - val_auc: 0.8141\n",
      "Epoch 16/100\n",
      "209714/209714 [==============================] - 4s 19us/step - loss: 0.2000 - auc: 0.9758 - val_loss: 0.6862 - val_auc: 0.8194\n",
      "Epoch 17/100\n",
      "209714/209714 [==============================] - 4s 19us/step - loss: 0.1836 - auc: 0.9795 - val_loss: 0.7194 - val_auc: 0.8193\n",
      "Epoch 18/100\n",
      "209714/209714 [==============================] - 4s 19us/step - loss: 0.1726 - auc: 0.9818 - val_loss: 0.7216 - val_auc: 0.8197\n",
      "Epoch 19/100\n",
      "209714/209714 [==============================] - 4s 19us/step - loss: 0.1606 - auc: 0.9843 - val_loss: 0.7418 - val_auc: 0.8201\n",
      "Epoch 20/100\n",
      "209714/209714 [==============================] - 4s 19us/step - loss: 0.1510 - auc: 0.9861 - val_loss: 0.7583 - val_auc: 0.8214\n",
      "Epoch 21/100\n",
      "209714/209714 [==============================] - 4s 19us/step - loss: 0.1433 - auc: 0.9875 - val_loss: 0.7509 - val_auc: 0.8236\n",
      "Epoch 22/100\n",
      "209714/209714 [==============================] - 4s 19us/step - loss: 0.1371 - auc: 0.9885 - val_loss: 0.7698 - val_auc: 0.8227\n",
      "Epoch 23/100\n",
      "209714/209714 [==============================] - 4s 19us/step - loss: 0.1293 - auc: 0.9898 - val_loss: 0.7906 - val_auc: 0.8237\n",
      "Epoch 24/100\n",
      "209714/209714 [==============================] - 4s 19us/step - loss: 0.1236 - auc: 0.9906 - val_loss: 0.7855 - val_auc: 0.8241\n",
      "Epoch 25/100\n",
      "209714/209714 [==============================] - 4s 19us/step - loss: 0.1185 - auc: 0.9913 - val_loss: 0.8087 - val_auc: 0.8254\n",
      "Epoch 26/100\n",
      "209714/209714 [==============================] - 4s 19us/step - loss: 0.1168 - auc: 0.9917 - val_loss: 0.8118 - val_auc: 0.8248\n",
      "Epoch 27/100\n",
      "209714/209714 [==============================] - 4s 19us/step - loss: 0.1095 - auc: 0.9926 - val_loss: 0.8269 - val_auc: 0.8258\n",
      "Epoch 28/100\n",
      "209714/209714 [==============================] - 4s 20us/step - loss: 0.1062 - auc: 0.9930 - val_loss: 0.8365 - val_auc: 0.8274\n",
      "Epoch 29/100\n",
      "209714/209714 [==============================] - 4s 20us/step - loss: 0.1029 - auc: 0.9935 - val_loss: 0.8403 - val_auc: 0.8274\n",
      "Epoch 30/100\n",
      "209714/209714 [==============================] - 4s 19us/step - loss: 0.0983 - auc: 0.9940 - val_loss: 0.8743 - val_auc: 0.8259\n",
      "Epoch 31/100\n",
      "209714/209714 [==============================] - 4s 19us/step - loss: 0.0967 - auc: 0.9942 - val_loss: 0.8496 - val_auc: 0.8266\n",
      "\n",
      "Epoch 00031: ReduceLROnPlateau reducing learning rate to 0.0005000000237487257.\n",
      "Epoch 32/100\n",
      "209714/209714 [==============================] - 4s 19us/step - loss: 0.0755 - auc: 0.9965 - val_loss: 0.9182 - val_auc: 0.8329\n",
      "Epoch 33/100\n",
      "209714/209714 [==============================] - 4s 20us/step - loss: 0.0646 - auc: 0.9974 - val_loss: 0.9440 - val_auc: 0.8344\n",
      "Epoch 34/100\n",
      "209714/209714 [==============================] - 4s 20us/step - loss: 0.0585 - auc: 0.9979 - val_loss: 0.9578 - val_auc: 0.8352\n",
      "Epoch 35/100\n",
      "209714/209714 [==============================] - 4s 19us/step - loss: 0.0573 - auc: 0.9979 - val_loss: 0.9696 - val_auc: 0.8350\n",
      "Epoch 36/100\n",
      "209714/209714 [==============================] - 4s 19us/step - loss: 0.0533 - auc: 0.9982 - val_loss: 1.0016 - val_auc: 0.8348\n",
      "Epoch 37/100\n",
      "209714/209714 [==============================] - 4s 18us/step - loss: 0.0499 - auc: 0.9984 - val_loss: 1.0281 - val_auc: 0.8349\n",
      "\n",
      "Epoch 00037: ReduceLROnPlateau reducing learning rate to 0.0002500000118743628.\n",
      "Epoch 38/100\n",
      "209714/209714 [==============================] - 4s 19us/step - loss: 0.0442 - auc: 0.9988 - val_loss: 1.0334 - val_auc: 0.8372\n",
      "Epoch 39/100\n",
      "209714/209714 [==============================] - 4s 19us/step - loss: 0.0396 - auc: 0.9990 - val_loss: 1.0535 - val_auc: 0.8381\n",
      "Epoch 40/100\n",
      "209714/209714 [==============================] - 4s 19us/step - loss: 0.0359 - auc: 0.9992 - val_loss: 1.0809 - val_auc: 0.8385\n",
      "Epoch 41/100\n",
      "209714/209714 [==============================] - 4s 19us/step - loss: 0.0360 - auc: 0.9992 - val_loss: 1.0845 - val_auc: 0.8386\n",
      "Epoch 42/100\n",
      "209714/209714 [==============================] - 4s 19us/step - loss: 0.0347 - auc: 0.9992 - val_loss: 1.0945 - val_auc: 0.8389\n",
      "Epoch 43/100\n",
      "209714/209714 [==============================] - 4s 19us/step - loss: 0.0337 - auc: 0.9993 - val_loss: 1.1006 - val_auc: 0.8388\n",
      "Epoch 44/100\n",
      "209714/209714 [==============================] - 4s 19us/step - loss: 0.0332 - auc: 0.9993 - val_loss: 1.0979 - val_auc: 0.8403\n",
      "Epoch 45/100\n",
      "209714/209714 [==============================] - 4s 19us/step - loss: 0.0312 - auc: 0.9994 - val_loss: 1.1099 - val_auc: 0.8401\n",
      "Epoch 46/100\n",
      "209714/209714 [==============================] - 4s 19us/step - loss: 0.0301 - auc: 0.9994 - val_loss: 1.1268 - val_auc: 0.8401\n",
      "Epoch 47/100\n",
      "209714/209714 [==============================] - 4s 19us/step - loss: 0.0305 - auc: 0.9994 - val_loss: 1.1233 - val_auc: 0.8402\n",
      "\n",
      "Epoch 00047: ReduceLROnPlateau reducing learning rate to 0.0001250000059371814.\n",
      "Epoch 48/100\n",
      "209714/209714 [==============================] - 4s 20us/step - loss: 0.0277 - auc: 0.9995 - val_loss: 1.1231 - val_auc: 0.8415\n",
      "Epoch 49/100\n",
      "209714/209714 [==============================] - 4s 20us/step - loss: 0.0262 - auc: 0.9996 - val_loss: 1.1342 - val_auc: 0.8413\n",
      "Epoch 50/100\n",
      "209714/209714 [==============================] - 4s 19us/step - loss: 0.0249 - auc: 0.9996 - val_loss: 1.1498 - val_auc: 0.8415\n",
      "Epoch 51/100\n",
      "209714/209714 [==============================] - 4s 19us/step - loss: 0.0248 - auc: 0.9996 - val_loss: 1.1572 - val_auc: 0.8416\n",
      "Epoch 52/100\n",
      "209714/209714 [==============================] - 4s 18us/step - loss: 0.0244 - auc: 0.9996 - val_loss: 1.1607 - val_auc: 0.8420\n",
      "Epoch 53/100\n",
      "209714/209714 [==============================] - 4s 18us/step - loss: 0.0235 - auc: 0.9996 - val_loss: 1.1673 - val_auc: 0.8421\n",
      "Epoch 54/100\n",
      "209714/209714 [==============================] - 4s 19us/step - loss: 0.0233 - auc: 0.9996 - val_loss: 1.1743 - val_auc: 0.8423\n",
      "Epoch 55/100\n",
      "209714/209714 [==============================] - 4s 19us/step - loss: 0.0223 - auc: 0.9997 - val_loss: 1.1779 - val_auc: 0.8425\n",
      "Epoch 56/100\n",
      "209714/209714 [==============================] - 4s 18us/step - loss: 0.0222 - auc: 0.9997 - val_loss: 1.1846 - val_auc: 0.8424\n",
      "Epoch 57/100\n",
      "209714/209714 [==============================] - 4s 18us/step - loss: 0.0221 - auc: 0.9997 - val_loss: 1.1861 - val_auc: 0.8425\n",
      "Epoch 58/100\n",
      "209714/209714 [==============================] - 4s 18us/step - loss: 0.0216 - auc: 0.9997 - val_loss: 1.1927 - val_auc: 0.8424\n",
      "\n",
      "Epoch 00058: ReduceLROnPlateau reducing learning rate to 6.25000029685907e-05.\n",
      "Epoch 59/100\n",
      "209714/209714 [==============================] - 4s 18us/step - loss: 0.0206 - auc: 0.9997 - val_loss: 1.1931 - val_auc: 0.8429\n",
      "Epoch 60/100\n",
      "209714/209714 [==============================] - 4s 18us/step - loss: 0.0193 - auc: 0.9998 - val_loss: 1.2010 - val_auc: 0.8431\n",
      "Epoch 61/100\n",
      "209714/209714 [==============================] - 4s 19us/step - loss: 0.0196 - auc: 0.9997 - val_loss: 1.2042 - val_auc: 0.8432\n",
      "Epoch 62/100\n",
      "209714/209714 [==============================] - 4s 19us/step - loss: 0.0192 - auc: 0.9998 - val_loss: 1.2073 - val_auc: 0.8434\n",
      "Epoch 63/100\n",
      "209714/209714 [==============================] - 4s 18us/step - loss: 0.0189 - auc: 0.9998 - val_loss: 1.2099 - val_auc: 0.8436\n",
      "Epoch 64/100\n",
      "209714/209714 [==============================] - 4s 18us/step - loss: 0.0192 - auc: 0.9998 - val_loss: 1.2154 - val_auc: 0.8438\n",
      "Epoch 65/100\n",
      "209714/209714 [==============================] - 4s 18us/step - loss: 0.0187 - auc: 0.9998 - val_loss: 1.2178 - val_auc: 0.8439\n",
      "Epoch 66/100\n",
      "209714/209714 [==============================] - 4s 18us/step - loss: 0.0183 - auc: 0.9998 - val_loss: 1.2190 - val_auc: 0.8439\n",
      "Epoch 67/100\n",
      "209714/209714 [==============================] - 4s 18us/step - loss: 0.0186 - auc: 0.9998 - val_loss: 1.2214 - val_auc: 0.8439\n",
      "\n",
      "Epoch 00067: ReduceLROnPlateau reducing learning rate to 3.125000148429535e-05.\n",
      "Epoch 68/100\n",
      "209714/209714 [==============================] - 4s 19us/step - loss: 0.0185 - auc: 0.9998 - val_loss: 1.2203 - val_auc: 0.8440\n",
      "Epoch 69/100\n",
      "209714/209714 [==============================] - 4s 20us/step - loss: 0.0177 - auc: 0.9998 - val_loss: 1.2219 - val_auc: 0.8441\n",
      "Epoch 70/100\n",
      "209714/209714 [==============================] - 4s 19us/step - loss: 0.0178 - auc: 0.9998 - val_loss: 1.2225 - val_auc: 0.8443\n",
      "Epoch 71/100\n",
      "209714/209714 [==============================] - 4s 18us/step - loss: 0.0168 - auc: 0.9998 - val_loss: 1.2260 - val_auc: 0.8443\n",
      "Epoch 72/100\n",
      "209714/209714 [==============================] - 4s 18us/step - loss: 0.0168 - auc: 0.9998 - val_loss: 1.2273 - val_auc: 0.8446\n",
      "Epoch 73/100\n",
      "209714/209714 [==============================] - 4s 18us/step - loss: 0.0167 - auc: 0.9998 - val_loss: 1.2305 - val_auc: 0.8446\n",
      "Restoring model weights from the end of the best epoch\n",
      "Epoch 00073: early stopping\n",
      "AUC = 0.8435512504945226\n",
      "Current Fold: 1\n",
      "Train on 209715 samples, validate on 52429 samples\n",
      "Epoch 1/100\n",
      "209715/209715 [==============================] - 5s 25us/step - loss: 0.7380 - auc: 0.5381 - val_loss: 0.6631 - val_auc: 0.6439\n",
      "Epoch 2/100\n",
      "209715/209715 [==============================] - 4s 19us/step - loss: 0.6623 - auc: 0.6387 - val_loss: 0.6320 - val_auc: 0.6988\n",
      "Epoch 3/100\n",
      "209715/209715 [==============================] - 4s 19us/step - loss: 0.6202 - auc: 0.7131 - val_loss: 0.6097 - val_auc: 0.7286\n",
      "Epoch 4/100\n",
      "209715/209715 [==============================] - 4s 19us/step - loss: 0.5737 - auc: 0.7700 - val_loss: 0.5887 - val_auc: 0.7554\n",
      "Epoch 5/100\n",
      "209715/209715 [==============================] - 4s 18us/step - loss: 0.5285 - auc: 0.8130 - val_loss: 0.5840 - val_auc: 0.7687\n",
      "Epoch 6/100\n",
      "209715/209715 [==============================] - 4s 18us/step - loss: 0.4863 - auc: 0.8461 - val_loss: 0.5746 - val_auc: 0.7824\n",
      "Epoch 7/100\n",
      "209715/209715 [==============================] - 4s 19us/step - loss: 0.4470 - auc: 0.8729 - val_loss: 0.5738 - val_auc: 0.7910\n",
      "Epoch 8/100\n",
      "209715/209715 [==============================] - 4s 18us/step - loss: 0.4091 - auc: 0.8952 - val_loss: 0.5836 - val_auc: 0.7930\n",
      "Epoch 9/100\n",
      "209715/209715 [==============================] - 4s 19us/step - loss: 0.3737 - auc: 0.9135 - val_loss: 0.5948 - val_auc: 0.7987\n",
      "Epoch 10/100\n",
      "209715/209715 [==============================] - 4s 19us/step - loss: 0.3408 - auc: 0.9284 - val_loss: 0.6039 - val_auc: 0.8017\n",
      "Epoch 11/100\n",
      "209715/209715 [==============================] - 4s 20us/step - loss: 0.3104 - auc: 0.9411 - val_loss: 0.6119 - val_auc: 0.8066\n",
      "Epoch 12/100\n",
      "209715/209715 [==============================] - 4s 20us/step - loss: 0.2839 - auc: 0.9509 - val_loss: 0.6302 - val_auc: 0.8074\n",
      "Epoch 13/100\n",
      "209715/209715 [==============================] - 4s 19us/step - loss: 0.2607 - auc: 0.9586 - val_loss: 0.6398 - val_auc: 0.8123\n",
      "Epoch 14/100\n",
      "209715/209715 [==============================] - 4s 18us/step - loss: 0.2379 - auc: 0.9655 - val_loss: 0.6621 - val_auc: 0.8116\n",
      "Epoch 15/100\n",
      "209715/209715 [==============================] - 4s 18us/step - loss: 0.2181 - auc: 0.9711 - val_loss: 0.6790 - val_auc: 0.8128\n",
      "Epoch 16/100\n",
      "209715/209715 [==============================] - 4s 18us/step - loss: 0.2023 - auc: 0.9751 - val_loss: 0.6902 - val_auc: 0.8172\n",
      "Epoch 17/100\n",
      "209715/209715 [==============================] - 4s 19us/step - loss: 0.1863 - auc: 0.9789 - val_loss: 0.7315 - val_auc: 0.8146\n",
      "Epoch 18/100\n",
      "209715/209715 [==============================] - 4s 18us/step - loss: 0.1741 - auc: 0.9815 - val_loss: 0.7274 - val_auc: 0.8173\n",
      "Epoch 19/100\n",
      "154624/209715 [=====================>........] - ETA: 0s - loss: 0.1560 - auc: 0.9852"
     ]
    }
   ],
   "source": [
    "for fold_, (trn_, val_) in enumerate(folds.split(y, y)):\n",
    "    print(\"Current Fold: {}\".format(fold_))\n",
    "    trn_x, trn_y = train[trn_, :], y.iloc[trn_]\n",
    "    val_x, val_y = train[val_, :], y.iloc[val_]\n",
    "\n",
    "    inp = Input(shape=(trn_x.shape[1],))\n",
    "    x = Dense(2000, activation=\"relu\")(inp)\n",
    "    x = BatchNormalization()(x)\n",
    "    x = Dropout(0.3)(x)\n",
    "    x = Dense(1000, activation=\"relu\")(x)\n",
    "    x = BatchNormalization()(x)\n",
    "    x = Dropout(0.3)(x)\n",
    "    x = Dense(500, activation=\"relu\")(x)\n",
    "    x = BatchNormalization()(x)\n",
    "    x = Dropout(0.2)(x)\n",
    "    x = Dense(100, activation=\"relu\")(x)\n",
    "    x = BatchNormalization()(x)\n",
    "    x = Dropout(0.2)(x)\n",
    "    out = Dense(1, activation=\"sigmoid\")(x)\n",
    "    clf = Model(inputs=inp, outputs=out)\n",
    "    clf.compile(loss='binary_crossentropy', optimizer='adam', metrics=[auc])\n",
    "\n",
    "    es = callbacks.EarlyStopping(monitor='val_auc', min_delta=0.001, patience=10,\n",
    "                                 verbose=1, mode='max', baseline=None, restore_best_weights=True)\n",
    "\n",
    "    rlr = callbacks.ReduceLROnPlateau(monitor='val_auc', factor=0.5,\n",
    "                                      patience=3, min_lr=1e-6, mode='max', verbose=1)\n",
    "\n",
    "    clf.fit(trn_x, trn_y, validation_data=(val_x, val_y), callbacks=[es, rlr], epochs=100, batch_size=1024)\n",
    "    \n",
    "    val_preds = clf.predict(val_x)\n",
    "    test_fold_preds = clf.predict(test)\n",
    "    \n",
    "    print(\"AUC = {}\".format(metrics.roc_auc_score(val_y, val_preds)))\n",
    "    oof_preds[val_] = val_preds.ravel()\n",
    "    test_preds += test_fold_preds.ravel() / NFOLDS\n",
    "    \n",
    "    K.clear_session()\n",
    "    gc.collect()"
   ]
  },
  {
   "cell_type": "markdown",
   "metadata": {},
   "source": [
    "### Make submition"
   ]
  },
  {
   "cell_type": "code",
   "execution_count": 10,
   "metadata": {},
   "outputs": [],
   "source": [
    "submit(test_preds)"
   ]
  },
  {
   "cell_type": "markdown",
   "metadata": {},
   "source": [
    "### If you found it usefull, upvote please :) "
   ]
  }
 ],
 "metadata": {
  "kernelspec": {
   "display_name": "Python 3",
   "language": "python",
   "name": "python3"
  },
  "language_info": {
   "codemirror_mode": {
    "name": "ipython",
    "version": 3
   },
   "file_extension": ".py",
   "mimetype": "text/x-python",
   "name": "python",
   "nbconvert_exporter": "python",
   "pygments_lexer": "ipython3",
   "version": "3.6.4"
  }
 },
 "nbformat": 4,
 "nbformat_minor": 1
}
