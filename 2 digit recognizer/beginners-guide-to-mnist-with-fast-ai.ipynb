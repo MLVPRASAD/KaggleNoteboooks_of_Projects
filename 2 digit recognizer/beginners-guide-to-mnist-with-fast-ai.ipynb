{
 "cells": [
  {
   "cell_type": "markdown",
   "metadata": {},
   "source": [
    "<br>\n",
    "<hr>\n",
    "**“You don't have to be great to start, but you have to start to be great.”** ~ Zig Ziglar\n",
    "<hr>\n",
    "<br>\n",
    "\n",
    "Hey friends,<br>\n",
    "this is a gentle introduction into Image Classification with the Python library fast.ai.\n",
    "\n",
    "What do you need to get started?\n",
    "- basic coding skills in Python\n",
    "- some familiarity with fast.ai (at least the first video of the course)\n",
    "\n",
    "[click if you don't know how to code at all](https://www.codecademy.com/learn/learn-python-3)<br>\n",
    "[click if you know some coding, but not Python](https://developers.google.com/edu/python/)<br>\n",
    "[click if you don't know the fast.ai course](https://course.fast.ai/videos/?lesson=1)\n",
    "\n",
    "Feel free to fork and tweak constants to improve accuracy. Just by doing so, I was able to get a score of 99.32% easily.\n",
    "\n",
    "Check out the [Q&A section](#Questions-and-Answers) of this notebook. If you have any questions or certain explanations weren't completely clear, let me know in the comments. I'm happy to help everyone :)\n",
    "\n",
    "1. [Preparation](#Preparation)\n",
    "2. [Training](#Training)\n",
    "3. [Evaluation](#Evaluation)\n",
    "4. [Prediction](#Prediction)\n",
    "5. [Questions and Answers](#Questions-and-Answers)\n",
    "\n",
    "[click for fast.ai documentation](https://docs.fast.ai)\n",
    "\n",
    "\n",
    "## Preparation\n",
    "first of all make sure you enabled GPU so the CNN trains faster"
   ]
  },
  {
   "cell_type": "markdown",
   "metadata": {},
   "source": [
    "#### Setup environment and import necessary modules"
   ]
  },
  {
   "cell_type": "code",
   "execution_count": 1,
   "metadata": {
    "_kg_hide-input": true
   },
   "outputs": [],
   "source": [
    "# the following three lines are suggested by the fast.ai course\n",
    "%reload_ext autoreload\n",
    "%autoreload 2\n",
    "%matplotlib inline"
   ]
  },
  {
   "cell_type": "code",
   "execution_count": 2,
   "metadata": {
    "_kg_hide-input": true
   },
   "outputs": [],
   "source": [
    "# hide warnings\n",
    "import warnings\n",
    "warnings.simplefilter('ignore')"
   ]
  },
  {
   "cell_type": "code",
   "execution_count": 3,
   "metadata": {
    "_cell_guid": "79c7e3d0-c299-4dcb-8224-4455121ee9b0",
    "_uuid": "d629ff2d2480ee46fbb7e2d37f6b5fab8052498a"
   },
   "outputs": [],
   "source": [
    "# the fast.ai library\n",
    "from fastai import *\n",
    "from fastai.vision import *\n",
    "\n",
    "# to inspect the directory\n",
    "import os\n",
    "from pathlib import Path\n",
    "\n",
    "# for data manipulation (in this Kernel mainly used to read .csv files)\n",
    "import pandas as pd\n",
    "\n",
    "# for numerical analysis\n",
    "import numpy as np\n",
    "\n",
    "# to display imags\n",
    "from PIL import Image"
   ]
  },
  {
   "cell_type": "markdown",
   "metadata": {},
   "source": [
    "#### Inspect and understand input data\n",
    "The first step in most competitions is to check out the input data. Let's do this:"
   ]
  },
  {
   "cell_type": "code",
   "execution_count": 4,
   "metadata": {},
   "outputs": [
    {
     "data": {
      "text/plain": [
       "['test.csv', 'train.csv', 'sample_submission.csv']"
      ]
     },
     "execution_count": 4,
     "metadata": {},
     "output_type": "execute_result"
    }
   ],
   "source": [
    "INPUT = Path(\"../input/digit-recognizer\")\n",
    "os.listdir(INPUT)"
   ]
  },
  {
   "cell_type": "markdown",
   "metadata": {},
   "source": [
    "We found 3 interesting files:\n",
    "- sample_submission.csv\n",
    "- train.csv\n",
    "- test.csv\n",
    "\n",
    "'sample_submission.csv' will show us, how we have to structure our data at the end before we submit it to the competition. We will only need this file at the end.\n",
    "\n",
    "'train.csv' is a file that contains all necessary information for training the CNN\n",
    "\n",
    "'test.csv' is the file we later use to test how good our CNN is\n",
    "\n",
    "Let's look at 'train.csv' and 'test.csv' to see how the data looks"
   ]
  },
  {
   "cell_type": "code",
   "execution_count": 5,
   "metadata": {},
   "outputs": [
    {
     "data": {
      "text/html": [
       "<div>\n",
       "<style scoped>\n",
       "    .dataframe tbody tr th:only-of-type {\n",
       "        vertical-align: middle;\n",
       "    }\n",
       "\n",
       "    .dataframe tbody tr th {\n",
       "        vertical-align: top;\n",
       "    }\n",
       "\n",
       "    .dataframe thead th {\n",
       "        text-align: right;\n",
       "    }\n",
       "</style>\n",
       "<table border=\"1\" class=\"dataframe\">\n",
       "  <thead>\n",
       "    <tr style=\"text-align: right;\">\n",
       "      <th></th>\n",
       "      <th>label</th>\n",
       "      <th>pixel0</th>\n",
       "      <th>pixel1</th>\n",
       "      <th>pixel2</th>\n",
       "      <th>pixel3</th>\n",
       "      <th>pixel4</th>\n",
       "      <th>pixel5</th>\n",
       "      <th>pixel6</th>\n",
       "      <th>pixel7</th>\n",
       "      <th>pixel8</th>\n",
       "      <th>...</th>\n",
       "      <th>pixel774</th>\n",
       "      <th>pixel775</th>\n",
       "      <th>pixel776</th>\n",
       "      <th>pixel777</th>\n",
       "      <th>pixel778</th>\n",
       "      <th>pixel779</th>\n",
       "      <th>pixel780</th>\n",
       "      <th>pixel781</th>\n",
       "      <th>pixel782</th>\n",
       "      <th>pixel783</th>\n",
       "    </tr>\n",
       "  </thead>\n",
       "  <tbody>\n",
       "    <tr>\n",
       "      <td>0</td>\n",
       "      <td>1</td>\n",
       "      <td>0</td>\n",
       "      <td>0</td>\n",
       "      <td>0</td>\n",
       "      <td>0</td>\n",
       "      <td>0</td>\n",
       "      <td>0</td>\n",
       "      <td>0</td>\n",
       "      <td>0</td>\n",
       "      <td>0</td>\n",
       "      <td>...</td>\n",
       "      <td>0</td>\n",
       "      <td>0</td>\n",
       "      <td>0</td>\n",
       "      <td>0</td>\n",
       "      <td>0</td>\n",
       "      <td>0</td>\n",
       "      <td>0</td>\n",
       "      <td>0</td>\n",
       "      <td>0</td>\n",
       "      <td>0</td>\n",
       "    </tr>\n",
       "    <tr>\n",
       "      <td>1</td>\n",
       "      <td>0</td>\n",
       "      <td>0</td>\n",
       "      <td>0</td>\n",
       "      <td>0</td>\n",
       "      <td>0</td>\n",
       "      <td>0</td>\n",
       "      <td>0</td>\n",
       "      <td>0</td>\n",
       "      <td>0</td>\n",
       "      <td>0</td>\n",
       "      <td>...</td>\n",
       "      <td>0</td>\n",
       "      <td>0</td>\n",
       "      <td>0</td>\n",
       "      <td>0</td>\n",
       "      <td>0</td>\n",
       "      <td>0</td>\n",
       "      <td>0</td>\n",
       "      <td>0</td>\n",
       "      <td>0</td>\n",
       "      <td>0</td>\n",
       "    </tr>\n",
       "    <tr>\n",
       "      <td>2</td>\n",
       "      <td>1</td>\n",
       "      <td>0</td>\n",
       "      <td>0</td>\n",
       "      <td>0</td>\n",
       "      <td>0</td>\n",
       "      <td>0</td>\n",
       "      <td>0</td>\n",
       "      <td>0</td>\n",
       "      <td>0</td>\n",
       "      <td>0</td>\n",
       "      <td>...</td>\n",
       "      <td>0</td>\n",
       "      <td>0</td>\n",
       "      <td>0</td>\n",
       "      <td>0</td>\n",
       "      <td>0</td>\n",
       "      <td>0</td>\n",
       "      <td>0</td>\n",
       "      <td>0</td>\n",
       "      <td>0</td>\n",
       "      <td>0</td>\n",
       "    </tr>\n",
       "  </tbody>\n",
       "</table>\n",
       "<p>3 rows × 785 columns</p>\n",
       "</div>"
      ],
      "text/plain": [
       "   label  pixel0  pixel1  pixel2  pixel3  pixel4  pixel5  pixel6  pixel7  \\\n",
       "0      1       0       0       0       0       0       0       0       0   \n",
       "1      0       0       0       0       0       0       0       0       0   \n",
       "2      1       0       0       0       0       0       0       0       0   \n",
       "\n",
       "   pixel8  ...  pixel774  pixel775  pixel776  pixel777  pixel778  pixel779  \\\n",
       "0       0  ...         0         0         0         0         0         0   \n",
       "1       0  ...         0         0         0         0         0         0   \n",
       "2       0  ...         0         0         0         0         0         0   \n",
       "\n",
       "   pixel780  pixel781  pixel782  pixel783  \n",
       "0         0         0         0         0  \n",
       "1         0         0         0         0  \n",
       "2         0         0         0         0  \n",
       "\n",
       "[3 rows x 785 columns]"
      ]
     },
     "execution_count": 5,
     "metadata": {},
     "output_type": "execute_result"
    }
   ],
   "source": [
    "train_df =  pd.read_csv(INPUT/\"train.csv\")\n",
    "train_df.head(3)"
   ]
  },
  {
   "cell_type": "code",
   "execution_count": 6,
   "metadata": {},
   "outputs": [
    {
     "data": {
      "text/html": [
       "<div>\n",
       "<style scoped>\n",
       "    .dataframe tbody tr th:only-of-type {\n",
       "        vertical-align: middle;\n",
       "    }\n",
       "\n",
       "    .dataframe tbody tr th {\n",
       "        vertical-align: top;\n",
       "    }\n",
       "\n",
       "    .dataframe thead th {\n",
       "        text-align: right;\n",
       "    }\n",
       "</style>\n",
       "<table border=\"1\" class=\"dataframe\">\n",
       "  <thead>\n",
       "    <tr style=\"text-align: right;\">\n",
       "      <th></th>\n",
       "      <th>pixel0</th>\n",
       "      <th>pixel1</th>\n",
       "      <th>pixel2</th>\n",
       "      <th>pixel3</th>\n",
       "      <th>pixel4</th>\n",
       "      <th>pixel5</th>\n",
       "      <th>pixel6</th>\n",
       "      <th>pixel7</th>\n",
       "      <th>pixel8</th>\n",
       "      <th>pixel9</th>\n",
       "      <th>...</th>\n",
       "      <th>pixel774</th>\n",
       "      <th>pixel775</th>\n",
       "      <th>pixel776</th>\n",
       "      <th>pixel777</th>\n",
       "      <th>pixel778</th>\n",
       "      <th>pixel779</th>\n",
       "      <th>pixel780</th>\n",
       "      <th>pixel781</th>\n",
       "      <th>pixel782</th>\n",
       "      <th>pixel783</th>\n",
       "    </tr>\n",
       "  </thead>\n",
       "  <tbody>\n",
       "    <tr>\n",
       "      <td>0</td>\n",
       "      <td>0</td>\n",
       "      <td>0</td>\n",
       "      <td>0</td>\n",
       "      <td>0</td>\n",
       "      <td>0</td>\n",
       "      <td>0</td>\n",
       "      <td>0</td>\n",
       "      <td>0</td>\n",
       "      <td>0</td>\n",
       "      <td>0</td>\n",
       "      <td>...</td>\n",
       "      <td>0</td>\n",
       "      <td>0</td>\n",
       "      <td>0</td>\n",
       "      <td>0</td>\n",
       "      <td>0</td>\n",
       "      <td>0</td>\n",
       "      <td>0</td>\n",
       "      <td>0</td>\n",
       "      <td>0</td>\n",
       "      <td>0</td>\n",
       "    </tr>\n",
       "    <tr>\n",
       "      <td>1</td>\n",
       "      <td>0</td>\n",
       "      <td>0</td>\n",
       "      <td>0</td>\n",
       "      <td>0</td>\n",
       "      <td>0</td>\n",
       "      <td>0</td>\n",
       "      <td>0</td>\n",
       "      <td>0</td>\n",
       "      <td>0</td>\n",
       "      <td>0</td>\n",
       "      <td>...</td>\n",
       "      <td>0</td>\n",
       "      <td>0</td>\n",
       "      <td>0</td>\n",
       "      <td>0</td>\n",
       "      <td>0</td>\n",
       "      <td>0</td>\n",
       "      <td>0</td>\n",
       "      <td>0</td>\n",
       "      <td>0</td>\n",
       "      <td>0</td>\n",
       "    </tr>\n",
       "    <tr>\n",
       "      <td>2</td>\n",
       "      <td>0</td>\n",
       "      <td>0</td>\n",
       "      <td>0</td>\n",
       "      <td>0</td>\n",
       "      <td>0</td>\n",
       "      <td>0</td>\n",
       "      <td>0</td>\n",
       "      <td>0</td>\n",
       "      <td>0</td>\n",
       "      <td>0</td>\n",
       "      <td>...</td>\n",
       "      <td>0</td>\n",
       "      <td>0</td>\n",
       "      <td>0</td>\n",
       "      <td>0</td>\n",
       "      <td>0</td>\n",
       "      <td>0</td>\n",
       "      <td>0</td>\n",
       "      <td>0</td>\n",
       "      <td>0</td>\n",
       "      <td>0</td>\n",
       "    </tr>\n",
       "  </tbody>\n",
       "</table>\n",
       "<p>3 rows × 784 columns</p>\n",
       "</div>"
      ],
      "text/plain": [
       "   pixel0  pixel1  pixel2  pixel3  pixel4  pixel5  pixel6  pixel7  pixel8  \\\n",
       "0       0       0       0       0       0       0       0       0       0   \n",
       "1       0       0       0       0       0       0       0       0       0   \n",
       "2       0       0       0       0       0       0       0       0       0   \n",
       "\n",
       "   pixel9  ...  pixel774  pixel775  pixel776  pixel777  pixel778  pixel779  \\\n",
       "0       0  ...         0         0         0         0         0         0   \n",
       "1       0  ...         0         0         0         0         0         0   \n",
       "2       0  ...         0         0         0         0         0         0   \n",
       "\n",
       "   pixel780  pixel781  pixel782  pixel783  \n",
       "0         0         0         0         0  \n",
       "1         0         0         0         0  \n",
       "2         0         0         0         0  \n",
       "\n",
       "[3 rows x 784 columns]"
      ]
     },
     "execution_count": 6,
     "metadata": {},
     "output_type": "execute_result"
    }
   ],
   "source": [
    "test_df =  pd.read_csv(INPUT/\"test.csv\")\n",
    "test_df.head(3)"
   ]
  },
  {
   "cell_type": "markdown",
   "metadata": {},
   "source": [
    "The data looks very interesting. Let's summarize what we got here:\n",
    "\n",
    "What we know about 'train.csv':\n",
    "- Each row is one image\n",
    "- The first row of each image is the label. It tells us which digit is shown.\n",
    "- The other 784 rows are the pixel for each digit and should be read like this\n",
    "\n",
    "`000 001 002 003 ... 026 027\n",
    "028 029 030 031 ... 054 055\n",
    "056 057 058 059 ... 082 083\n",
    " |   |   |   |  ...  |   |\n",
    "728 729 730 731 ... 754 755\n",
    "756 757 758 759 ... 782 783`\n",
    "\n",
    "What we know about 'test.csv':\n",
    "- The structure is the same as in train.csv, but there are no labels because it's our task to predict the labels\n",
    "\n",
    "To read more about the data, read the ['Data' tab of the competition](https://www.kaggle.com/c/digit-recognizer/data)\n",
    "\n",
    "#### Getting the data into the right format\n",
    "Looking at the [fast.ai documentation](https://docs.fast.ai/vision.data.html#ImageDataBunch) we can quickly see, that only accepts image files for Computer Vision. In this competition we were not offered images, but csv files where each cell is one pixel. If we want to use fast.ai we have to create images from the data we have.\n",
    "\n",
    "Fast.ai accepts image data in different formats. We will use the from_folder function of the ImageDataBunch class to load in the data. To do this we need all images in the following structure:\n",
    "\n",
    "`path\\\n",
    "  train\\\n",
    "    0\\\n",
    "      ___.jpg\n",
    "      ___.jpg\n",
    "      ___.jpg\n",
    "    1\\\n",
    "      ___.jpg\n",
    "      ___.jpg\n",
    "    2\\\n",
    "      ...\n",
    "    3\\\n",
    "      ...\n",
    "    ...\n",
    "  test\\\n",
    "    ___.jpg\n",
    "    ___.jpg\n",
    "    ...\n",
    "`\n",
    "\n",
    "Let's first create the folder structure!\n",
    "\n",
    "(nice to know: the input folder of Kaggle Competitions is always read-only, so if we want to add data or create folders, we have to do so outside of the input folder)"
   ]
  },
  {
   "cell_type": "code",
   "execution_count": 7,
   "metadata": {},
   "outputs": [],
   "source": [
    "TRAIN = Path(\"../train\")\n",
    "TEST = Path(\"../test\")"
   ]
  },
  {
   "cell_type": "code",
   "execution_count": 8,
   "metadata": {},
   "outputs": [],
   "source": [
    "# Create training directory\n",
    "for index in range(10):\n",
    "    try:\n",
    "        os.makedirs(TRAIN/str(index))\n",
    "    except:\n",
    "        pass"
   ]
  },
  {
   "cell_type": "code",
   "execution_count": 9,
   "metadata": {},
   "outputs": [
    {
     "data": {
      "text/plain": [
       "['0', '1', '2', '3', '4', '5', '6', '7', '8', '9']"
      ]
     },
     "execution_count": 9,
     "metadata": {},
     "output_type": "execute_result"
    }
   ],
   "source": [
    "# Test whether creating the training directory was successful\n",
    "sorted(os.listdir(TRAIN))"
   ]
  },
  {
   "cell_type": "code",
   "execution_count": 10,
   "metadata": {},
   "outputs": [],
   "source": [
    "#Create test directory\n",
    "try:\n",
    "    os.makedirs(TEST)\n",
    "except:\n",
    "    pass"
   ]
  },
  {
   "cell_type": "markdown",
   "metadata": {},
   "source": [
    "Okay, all folders are created! The next step is to create the images inside of the folders from 'train.csv' and 'test.csv'. We will use the Image module from PIL to do this.\n",
    "\n",
    "\n",
    "we have to reshape each numpy array to have the desired dimensions of the image (28x28)\n",
    "\n",
    "`000 001 002 003 ... 026 027\n",
    "028 029 030 031 ... 054 055\n",
    "056 057 058 059 ... 082 083\n",
    " |   |   |   |  ...  |   |\n",
    "728 729 730 731 ... 754 755\n",
    "756 757 758 759 ... 782 783`\n",
    "\n",
    "then we use the fromarray function to create a .jpg image from the numpy array and save it into the desired folder"
   ]
  },
  {
   "cell_type": "code",
   "execution_count": 11,
   "metadata": {},
   "outputs": [],
   "source": [
    "# save training images\n",
    "for index, row in train_df.iterrows():\n",
    "    \n",
    "    label,digit = row[0], row[1:]\n",
    "    \n",
    "    filepath = TRAIN/str(label)\n",
    "    filename = f\"{index}.jpg\"\n",
    "    \n",
    "    digit = digit.values\n",
    "    digit = digit.reshape(28,28)\n",
    "    digit = digit.astype(np.uint8)\n",
    "    \n",
    "    img = Image.fromarray(digit)\n",
    "    img.save(filepath/filename)"
   ]
  },
  {
   "cell_type": "code",
   "execution_count": 12,
   "metadata": {},
   "outputs": [],
   "source": [
    "# save testing images\n",
    "for index, digit in test_df.iterrows():\n",
    "\n",
    "    filepath = TEST\n",
    "    filename = f\"{index}.jpg\"\n",
    "    \n",
    "    digit = digit.values\n",
    "    digit = digit.reshape(28,28)\n",
    "    digit = digit.astype(np.uint8)\n",
    "    \n",
    "    img = Image.fromarray(digit)\n",
    "    img.save(filepath/filename)"
   ]
  },
  {
   "cell_type": "markdown",
   "metadata": {},
   "source": [
    "Display some images"
   ]
  },
  {
   "cell_type": "code",
   "execution_count": 13,
   "metadata": {
    "_kg_hide-input": true
   },
   "outputs": [
    {
     "data": {
      "image/png": "[encoded data removed]",
      "text/plain": [
       "<Figure size 360x720 with 45 Axes>"
      ]
     },
     "metadata": {
      "needs_background": "light"
     },
     "output_type": "display_data"
    }
   ],
   "source": [
    "def displayRandomImagesFromEveryFolder(directory=TRAIN, samplesPerDigit=5):\n",
    "\n",
    "    fig = plt.figure(figsize=(5,10))\n",
    "    \n",
    "    for rowIndex in range(1, 10):\n",
    "        subdirectory = str(rowIndex)\n",
    "        path = directory/subdirectory\n",
    "        images = os.listdir(path)\n",
    "        for sampleIndex in range(1,samplesPerDigit+1):\n",
    "            randomNumber = random.randint(0, len(images)-1)\n",
    "            image = Image.open(path/images[randomNumber])\n",
    "            ax = fig.add_subplot(10, 5, samplesPerDigit*rowIndex + sampleIndex)\n",
    "            ax.axis(\"off\")\n",
    "            \n",
    "            plt.imshow(image, cmap='gray')\n",
    "            \n",
    "    \n",
    "    plt.show()\n",
    "    \n",
    "displayRandomImagesFromEveryFolder()"
   ]
  },
  {
   "cell_type": "markdown",
   "metadata": {},
   "source": [
    "### Load data into DataBunch"
   ]
  },
  {
   "cell_type": "markdown",
   "metadata": {},
   "source": [
    "Now that we have the right folder structure and images inside of the folders we can continue.\n",
    "Before training a model in fast.ai, we have to load the data into a [DataBunch](https://docs.fast.ai/basic_data.html#DataBunch), in this case, we use a ImageDataBunch, a special version of the DataBunch.\n",
    "Fast.ai offers different functions to create a DataBunch. We will use the from_folder method of the ImageDataBunch class to create the dataset.\n",
    "There are different hyperparameters we can tweak to make the model perform better:\n",
    "- [valid_pct](#What-are-Train,-Test-and-Validation-datasets?)\n",
    "- [bs (batch size)](#What-is-the-batch-size?)\n",
    "- [size](#What-image-size-should-I-choose?)\n",
    "- [num_workers](#What-is-multiprocessing?)\n",
    "- [ds_tfms](#What-are-transforms-and-which-transforms-should-I-use?)"
   ]
  },
  {
   "cell_type": "code",
   "execution_count": 14,
   "metadata": {
    "_kg_hide-input": true
   },
   "outputs": [
    {
     "data": {
      "image/jpeg": "[encoded data removed]",
      "image/png": "[encoded data removed]",
      "text/plain": [
       "Image (3, 28, 28)"
      ]
     },
     "metadata": {},
     "output_type": "display_data"
    },
    {
     "data": {
      "image/jpeg": "[encoded data removed]",
      "image/png": "[encoded data removed]",
      "text/plain": [
       "Image (3, 28, 28)"
      ]
     },
     "metadata": {},
     "output_type": "display_data"
    }
   ],
   "source": [
    "flip_tfm = RandTransform(tfm=TfmPixel (flip_lr), kwargs={}, p=1, resolved={}, do_run=True, is_random=True, use_on_y=True)\n",
    "random_number = str(3)\n",
    "random_filename = os.listdir(TRAIN/random_number)[0]\n",
    "img = open_image(TRAIN/random_number/random_filename)\n",
    "display(img)\n",
    "display(img.apply_tfms(flip_tfm))"
   ]
  },
  {
   "cell_type": "code",
   "execution_count": 15,
   "metadata": {},
   "outputs": [],
   "source": [
    "# transforms\n",
    "tfms = get_transforms(do_flip=False, max_zoom=1.2)"
   ]
  },
  {
   "cell_type": "code",
   "execution_count": 16,
   "metadata": {},
   "outputs": [],
   "source": [
    "data = ImageDataBunch.from_folder(\n",
    "    path = TRAIN,\n",
    "    test = TEST,\n",
    "    valid_pct = 0.2,\n",
    "    bs = 32,\n",
    "    size = 28,\n",
    "    ds_tfms = tfms,\n",
    "    #num_workers = 0\n",
    ")"
   ]
  },
  {
   "cell_type": "markdown",
   "metadata": {},
   "source": [
    "Let's perform normalization to make the CNN converge faster. fast.ai already defined the variable mnist_stats, that we can use to normalize our data. Alternatively, we can call normalize() without any paramters. In this case fast.ai simply calculates the exact stats needed for the dataset at hand."
   ]
  },
  {
   "cell_type": "code",
   "execution_count": 17,
   "metadata": {},
   "outputs": [
    {
     "data": {
      "text/plain": [
       "([0.15, 0.15, 0.15], [0.15, 0.15, 0.15])"
      ]
     },
     "execution_count": 17,
     "metadata": {},
     "output_type": "execute_result"
    }
   ],
   "source": [
    "mnist_stats"
   ]
  },
  {
   "cell_type": "code",
   "execution_count": 18,
   "metadata": {},
   "outputs": [
    {
     "data": {
      "text/plain": [
       "ImageDataBunch;\n",
       "\n",
       "Train: LabelList (33600 items)\n",
       "x: ImageList\n",
       "Image (3, 28, 28),Image (3, 28, 28),Image (3, 28, 28),Image (3, 28, 28),Image (3, 28, 28)\n",
       "y: CategoryList\n",
       "5,5,5,5,5\n",
       "Path: ../train;\n",
       "\n",
       "Valid: LabelList (8400 items)\n",
       "x: ImageList\n",
       "Image (3, 28, 28),Image (3, 28, 28),Image (3, 28, 28),Image (3, 28, 28),Image (3, 28, 28)\n",
       "y: CategoryList\n",
       "6,3,3,7,2\n",
       "Path: ../train;\n",
       "\n",
       "Test: LabelList (28000 items)\n",
       "x: ImageList\n",
       "Image (3, 28, 28),Image (3, 28, 28),Image (3, 28, 28),Image (3, 28, 28),Image (3, 28, 28)\n",
       "y: EmptyLabelList\n",
       ",,,,\n",
       "Path: ../train"
      ]
     },
     "execution_count": 18,
     "metadata": {},
     "output_type": "execute_result"
    }
   ],
   "source": [
    "data.normalize(mnist_stats)"
   ]
  },
  {
   "cell_type": "code",
   "execution_count": 19,
   "metadata": {},
   "outputs": [
    {
     "name": "stdout",
     "output_type": "stream",
     "text": [
      "['0', '1', '2', '3', '4', '5', '6', '7', '8', '9']\n"
     ]
    }
   ],
   "source": [
    "# all the classes in data\n",
    "print(data.classes)"
   ]
  },
  {
   "cell_type": "markdown",
   "metadata": {},
   "source": [
    "## Training"
   ]
  },
  {
   "cell_type": "markdown",
   "metadata": {},
   "source": [
    "The next step is to select and create a CNN. In fast.ai creating a CNN is really easy. You just have to select one of the models from the [Computer Vision models zoo](https://docs.fast.ai/vision.models.html#Computer-Vision-models-zoo). Parameters to tweak: dropout propability: ps (default: 0.5)"
   ]
  },
  {
   "cell_type": "code",
   "execution_count": 20,
   "metadata": {},
   "outputs": [
    {
     "name": "stderr",
     "output_type": "stream",
     "text": [
      "Downloading: \"https://download.pytorch.org/models/resnet18-5c106cde.pth\" to /tmp/.cache/torch/checkpoints/resnet18-5c106cde.pth\n",
      "100%|██████████| 44.7M/44.7M [00:02<00:00, 19.4MB/s]\n"
     ]
    }
   ],
   "source": [
    "learn = cnn_learner(data, models.resnet18, metrics=accuracy, model_dir=\"/tmp/models\", callback_fns=ShowGraph)"
   ]
  },
  {
   "cell_type": "markdown",
   "metadata": {},
   "source": [
    "Now it's time to train the neural network using the fit_one_cycle() function. <br>Parameters to modify: the number of epochs(cyc_len) to train, the learning rate(max_lr) and the momentum (moms)"
   ]
  },
  {
   "cell_type": "code",
   "execution_count": 21,
   "metadata": {},
   "outputs": [
    {
     "data": {
      "text/html": [
       "<table border=\"1\" class=\"dataframe\">\n",
       "  <thead>\n",
       "    <tr style=\"text-align: left;\">\n",
       "      <th>epoch</th>\n",
       "      <th>train_loss</th>\n",
       "      <th>valid_loss</th>\n",
       "      <th>accuracy</th>\n",
       "      <th>time</th>\n",
       "    </tr>\n",
       "  </thead>\n",
       "  <tbody>\n",
       "    <tr>\n",
       "      <td>0</td>\n",
       "      <td>1.035955</td>\n",
       "      <td>0.827222</td>\n",
       "      <td>0.743214</td>\n",
       "      <td>01:19</td>\n",
       "    </tr>\n",
       "    <tr>\n",
       "      <td>1</td>\n",
       "      <td>0.569746</td>\n",
       "      <td>0.350490</td>\n",
       "      <td>0.887381</td>\n",
       "      <td>01:18</td>\n",
       "    </tr>\n",
       "    <tr>\n",
       "      <td>2</td>\n",
       "      <td>0.382743</td>\n",
       "      <td>0.207637</td>\n",
       "      <td>0.935000</td>\n",
       "      <td>01:19</td>\n",
       "    </tr>\n",
       "    <tr>\n",
       "      <td>3</td>\n",
       "      <td>0.301313</td>\n",
       "      <td>0.173938</td>\n",
       "      <td>0.947262</td>\n",
       "      <td>01:18</td>\n",
       "    </tr>\n",
       "    <tr>\n",
       "      <td>4</td>\n",
       "      <td>0.272638</td>\n",
       "      <td>0.155879</td>\n",
       "      <td>0.953452</td>\n",
       "      <td>01:18</td>\n",
       "    </tr>\n",
       "  </tbody>\n",
       "</table>"
      ],
      "text/plain": [
       "<IPython.core.display.HTML object>"
      ]
     },
     "metadata": {},
     "output_type": "display_data"
    },
    {
     "data": {
      "image/png": "[encoded data removed]",
      "text/plain": [
       "<Figure size 432x288 with 1 Axes>"
      ]
     },
     "metadata": {},
     "output_type": "display_data"
    }
   ],
   "source": [
    "learn.fit_one_cycle(cyc_len=5)"
   ]
  },
  {
   "cell_type": "markdown",
   "metadata": {},
   "source": [
    "## Evaluation\n",
    "Create a ClassificationInterpretation object to evaluate your results."
   ]
  },
  {
   "cell_type": "code",
   "execution_count": 22,
   "metadata": {},
   "outputs": [],
   "source": [
    "interp = ClassificationInterpretation.from_learner(learn)"
   ]
  },
  {
   "cell_type": "markdown",
   "metadata": {},
   "source": [
    "Plot the 9 images with the highest loss. These are the images the CNN was most sure about, but still got wrong."
   ]
  },
  {
   "cell_type": "code",
   "execution_count": 23,
   "metadata": {},
   "outputs": [
    {
     "data": {
      "image/png": "[encoded data removed]",
      "text/plain": [
       "<Figure size 504x504 with 9 Axes>"
      ]
     },
     "metadata": {
      "needs_background": "light"
     },
     "output_type": "display_data"
    }
   ],
   "source": [
    "interp.plot_top_losses(9, figsize=(7, 7))"
   ]
  },
  {
   "cell_type": "markdown",
   "metadata": {},
   "source": [
    "A good way to summarize the performance of a classification algorithm is to create a confusion matrix. Confusion Matricies are used to understand which classes are most easily confused. As labeled on the axis, the x-axis shows the predicted classes and the y-axis the actual classes. So if (4/7)=10 it means that it happened 10 times that the CNN predicted a 7 but in reality if was a 4."
   ]
  },
  {
   "cell_type": "code",
   "execution_count": 24,
   "metadata": {},
   "outputs": [
    {
     "data": {
      "image/png": "[encoded data removed]",
      "text/plain": [
       "<Figure size 432x288 with 1 Axes>"
      ]
     },
     "metadata": {
      "needs_background": "light"
     },
     "output_type": "display_data"
    }
   ],
   "source": [
    "interp.plot_confusion_matrix()"
   ]
  },
  {
   "cell_type": "markdown",
   "metadata": {},
   "source": [
    "## Prediction\n",
    "\n",
    "Get the predictions on the test set.<br>\n",
    "learn.get_preds() returns a propability distribution over all possible classes for every given image."
   ]
  },
  {
   "cell_type": "code",
   "execution_count": 25,
   "metadata": {},
   "outputs": [],
   "source": [
    "class_score, y = learn.get_preds(DatasetType.Test)"
   ]
  },
  {
   "cell_type": "markdown",
   "metadata": {},
   "source": [
    "That means that for every image in the test set it predicts how likely each class is. In this case the highest value is obviously 1"
   ]
  },
  {
   "cell_type": "code",
   "execution_count": 26,
   "metadata": {},
   "outputs": [
    {
     "data": {
      "text/plain": [
       "['0: 0.00013247427705209702',\n",
       " '1: 0.9994269609451294',\n",
       " '2: 5.632105967379175e-05',\n",
       " '3: 1.3070153727312572e-05',\n",
       " '4: 7.0529308686673176e-06',\n",
       " '5: 5.348992999643087e-06',\n",
       " '6: 9.541482722852379e-05',\n",
       " '7: 0.00022122538939584047',\n",
       " '8: 9.339080861536786e-06',\n",
       " '9: 3.278087024227716e-05']"
      ]
     },
     "execution_count": 26,
     "metadata": {},
     "output_type": "execute_result"
    }
   ],
   "source": [
    "probabilities = class_score[0].tolist()\n",
    "[f\"{index}: {probabilities[index]}\" for index in range(len(probabilities))]"
   ]
  },
  {
   "cell_type": "markdown",
   "metadata": {},
   "source": [
    "But we want the CNN to predict only one class. The class with the highest probability.\n",
    "Argmax returns the index of the highest value."
   ]
  },
  {
   "cell_type": "code",
   "execution_count": 27,
   "metadata": {},
   "outputs": [],
   "source": [
    "class_score = np.argmax(class_score, axis=1)"
   ]
  },
  {
   "cell_type": "markdown",
   "metadata": {},
   "source": [
    "This is exactly what we want. "
   ]
  },
  {
   "cell_type": "code",
   "execution_count": 28,
   "metadata": {},
   "outputs": [
    {
     "data": {
      "text/plain": [
       "1"
      ]
     },
     "execution_count": 28,
     "metadata": {},
     "output_type": "execute_result"
    }
   ],
   "source": [
    "class_score[0].item()"
   ]
  },
  {
   "cell_type": "markdown",
   "metadata": {},
   "source": [
    "The last step is creating the submission file.<br>\"sample_submission.csv\" is showing us the desired format"
   ]
  },
  {
   "cell_type": "code",
   "execution_count": 29,
   "metadata": {},
   "outputs": [
    {
     "data": {
      "text/html": [
       "<div>\n",
       "<style scoped>\n",
       "    .dataframe tbody tr th:only-of-type {\n",
       "        vertical-align: middle;\n",
       "    }\n",
       "\n",
       "    .dataframe tbody tr th {\n",
       "        vertical-align: top;\n",
       "    }\n",
       "\n",
       "    .dataframe thead th {\n",
       "        text-align: right;\n",
       "    }\n",
       "</style>\n",
       "<table border=\"1\" class=\"dataframe\">\n",
       "  <thead>\n",
       "    <tr style=\"text-align: right;\">\n",
       "      <th></th>\n",
       "      <th>ImageId</th>\n",
       "      <th>Label</th>\n",
       "    </tr>\n",
       "  </thead>\n",
       "  <tbody>\n",
       "    <tr>\n",
       "      <td>0</td>\n",
       "      <td>1</td>\n",
       "      <td>0</td>\n",
       "    </tr>\n",
       "    <tr>\n",
       "      <td>1</td>\n",
       "      <td>2</td>\n",
       "      <td>0</td>\n",
       "    </tr>\n",
       "  </tbody>\n",
       "</table>\n",
       "</div>"
      ],
      "text/plain": [
       "   ImageId  Label\n",
       "0        1      0\n",
       "1        2      0"
      ]
     },
     "metadata": {},
     "output_type": "display_data"
    },
    {
     "data": {
      "text/html": [
       "<div>\n",
       "<style scoped>\n",
       "    .dataframe tbody tr th:only-of-type {\n",
       "        vertical-align: middle;\n",
       "    }\n",
       "\n",
       "    .dataframe tbody tr th {\n",
       "        vertical-align: top;\n",
       "    }\n",
       "\n",
       "    .dataframe thead th {\n",
       "        text-align: right;\n",
       "    }\n",
       "</style>\n",
       "<table border=\"1\" class=\"dataframe\">\n",
       "  <thead>\n",
       "    <tr style=\"text-align: right;\">\n",
       "      <th></th>\n",
       "      <th>ImageId</th>\n",
       "      <th>Label</th>\n",
       "    </tr>\n",
       "  </thead>\n",
       "  <tbody>\n",
       "    <tr>\n",
       "      <td>27998</td>\n",
       "      <td>27999</td>\n",
       "      <td>0</td>\n",
       "    </tr>\n",
       "    <tr>\n",
       "      <td>27999</td>\n",
       "      <td>28000</td>\n",
       "      <td>0</td>\n",
       "    </tr>\n",
       "  </tbody>\n",
       "</table>\n",
       "</div>"
      ],
      "text/plain": [
       "       ImageId  Label\n",
       "27998    27999      0\n",
       "27999    28000      0"
      ]
     },
     "metadata": {},
     "output_type": "display_data"
    }
   ],
   "source": [
    "sample_submission =  pd.read_csv(INPUT/\"sample_submission.csv\")\n",
    "display(sample_submission.head(2))\n",
    "display(sample_submission.tail(2))"
   ]
  },
  {
   "cell_type": "markdown",
   "metadata": {},
   "source": [
    "Columns the submission file has to have:\n",
    "- ImageId: index in the test set, starting from 1, going up to 28000\n",
    "- Label: a prediction which digit the image shows"
   ]
  },
  {
   "cell_type": "code",
   "execution_count": 30,
   "metadata": {},
   "outputs": [],
   "source": [
    "# remove file extension from filename\n",
    "ImageId = [os.path.splitext(path)[0] for path in os.listdir(TEST)]\n",
    "# typecast to int so that file can be sorted by ImageId\n",
    "ImageId = [int(path) for path in ImageId]\n",
    "# +1 because index starts at 1 in the submission file\n",
    "ImageId = [ID+1 for ID in ImageId]"
   ]
  },
  {
   "cell_type": "code",
   "execution_count": 31,
   "metadata": {},
   "outputs": [
    {
     "data": {
      "text/html": [
       "<div>\n",
       "<style scoped>\n",
       "    .dataframe tbody tr th:only-of-type {\n",
       "        vertical-align: middle;\n",
       "    }\n",
       "\n",
       "    .dataframe tbody tr th {\n",
       "        vertical-align: top;\n",
       "    }\n",
       "\n",
       "    .dataframe thead th {\n",
       "        text-align: right;\n",
       "    }\n",
       "</style>\n",
       "<table border=\"1\" class=\"dataframe\">\n",
       "  <thead>\n",
       "    <tr style=\"text-align: right;\">\n",
       "      <th></th>\n",
       "      <th>ImageId</th>\n",
       "      <th>Label</th>\n",
       "    </tr>\n",
       "  </thead>\n",
       "  <tbody>\n",
       "    <tr>\n",
       "      <td>0</td>\n",
       "      <td>21368</td>\n",
       "      <td>1</td>\n",
       "    </tr>\n",
       "    <tr>\n",
       "      <td>1</td>\n",
       "      <td>26151</td>\n",
       "      <td>0</td>\n",
       "    </tr>\n",
       "    <tr>\n",
       "      <td>2</td>\n",
       "      <td>21961</td>\n",
       "      <td>1</td>\n",
       "    </tr>\n",
       "  </tbody>\n",
       "</table>\n",
       "</div>"
      ],
      "text/plain": [
       "   ImageId  Label\n",
       "0    21368      1\n",
       "1    26151      0\n",
       "2    21961      1"
      ]
     },
     "metadata": {},
     "output_type": "display_data"
    },
    {
     "data": {
      "text/html": [
       "<div>\n",
       "<style scoped>\n",
       "    .dataframe tbody tr th:only-of-type {\n",
       "        vertical-align: middle;\n",
       "    }\n",
       "\n",
       "    .dataframe tbody tr th {\n",
       "        vertical-align: top;\n",
       "    }\n",
       "\n",
       "    .dataframe thead th {\n",
       "        text-align: right;\n",
       "    }\n",
       "</style>\n",
       "<table border=\"1\" class=\"dataframe\">\n",
       "  <thead>\n",
       "    <tr style=\"text-align: right;\">\n",
       "      <th></th>\n",
       "      <th>ImageId</th>\n",
       "      <th>Label</th>\n",
       "    </tr>\n",
       "  </thead>\n",
       "  <tbody>\n",
       "    <tr>\n",
       "      <td>27997</td>\n",
       "      <td>19739</td>\n",
       "      <td>4</td>\n",
       "    </tr>\n",
       "    <tr>\n",
       "      <td>27998</td>\n",
       "      <td>8680</td>\n",
       "      <td>8</td>\n",
       "    </tr>\n",
       "    <tr>\n",
       "      <td>27999</td>\n",
       "      <td>43</td>\n",
       "      <td>4</td>\n",
       "    </tr>\n",
       "  </tbody>\n",
       "</table>\n",
       "</div>"
      ],
      "text/plain": [
       "       ImageId  Label\n",
       "27997    19739      4\n",
       "27998     8680      8\n",
       "27999       43      4"
      ]
     },
     "metadata": {},
     "output_type": "display_data"
    }
   ],
   "source": [
    "submission  = pd.DataFrame({\n",
    "    \"ImageId\": ImageId,\n",
    "    \"Label\": class_score\n",
    "})\n",
    "# submission.sort_values(by=[\"ImageId\"], inplace = True)\n",
    "submission.to_csv(\"submission.csv\", index=False)\n",
    "display(submission.head(3))\n",
    "display(submission.tail(3))"
   ]
  },
  {
   "cell_type": "markdown",
   "metadata": {},
   "source": [
    "## Questions and Answers\n",
    "- [What are Train, Test and Validation datasets?](#What-are-Train,-Test-and-Validation-datasets?)\n",
    "- [What is the batch size?](#What-is-the-batch-size?)\n",
    "- [What image size should I choose?](#What-image-size-should-I-choose?)\n",
    "- [What is multiprocessing?](#What-is-multiprocessing?)\n",
    "- [What are transforms and which transforms should I use?](#What-are-transforms-and-which-transforms-should-I-use?)\n",
    "- [How to improve your score?](#How-to-improve-your-score?)\n",
    "- [What is the best CNN architecture?](#What-is-the-best-CNN-architecture?)\n",
    "- [How to submit?](#How-to-submit?)\n"
   ]
  },
  {
   "cell_type": "markdown",
   "metadata": {},
   "source": [
    "### What are Train, Test and Validation datasets?\n",
    "Whenever we train a CNN we need to split the data into 3 parts:\n",
    "- training set: used to modify weights of neural network\n",
    "- validation set: prevent overfitting\n",
    "- test set: test accuracy of fully-trained model\n",
    "\n",
    "In this kernel we only have a training and a test set. That's why we split the test set to get a validation set. We do this with the 'valid_pct' parameter. This is one of the parameters you could tune to increase the accuracy. To learn more about this read [this stackoverflow post](https://stackoverflow.com/a/13623707)"
   ]
  },
  {
   "cell_type": "markdown",
   "metadata": {},
   "source": [
    "### What is the batch size?\n",
    "The batch size refers to the number of images in one batch. Everytime an entire batch of images is passed through the neural network the weights of the neural network are updated\n",
    "<br><br>Why would you increase the batch size:\n",
    "- to improve accuracy of the model\n",
    "\n",
    "<br>Why would you decrease the batch size:\n",
    "- to train the network faster\n",
    "- to reduce the memory used"
   ]
  },
  {
   "cell_type": "markdown",
   "metadata": {},
   "source": [
    "### What image size should I choose?\n",
    "\n",
    "(Most) CNNs need images of the same size. By setting the size parameter we tell fast.ai to make all images that size.\n",
    "\n",
    "Bigger images, result in more calculations and thus slower speed, but the accuracy improves. Smaller images on the other hand reduce accuracy but improve speed.\n",
    "Don't make the trainig images bigger than the original images, as this would only be a waste of time.\n",
    "\n",
    "Our data is already of shape 28x28.\n",
    "\n",
    "We could make the images smaller than 28x28. This would decrease the training time, but also decrease the accuracy. Because our CNN trains in a reasonable amount of time there is no reason to decrease the image size\n",
    "\n",
    "Never make the training image bigger than the original image."
   ]
  },
  {
   "cell_type": "markdown",
   "metadata": {},
   "source": [
    "### What is multiprocessing?\n",
    "In Computer Science there is this thing called multiprocessing. This means that we have two or more things happending at the same time. A computer typically has multiple CPUs and we make use of exactly that. Every CPU can run one process at a time. Ususally when we do multiprocessing every CPU gets its own task.\n",
    "Exactly that is the default for ImageDataBunch: number workers = number of CPUs. This works fine for Linux, but makes a lot of problems in Windows. If you're on Windows, set num_workers to 0, if you're on Linux, don't set anything, then it defaults to the number of CPUs\n",
    "\n",
    "If you use a cloud solution and are not sure which operating system is used, execute the following code\n",
    "> import platform; platform.system()"
   ]
  },
  {
   "cell_type": "markdown",
   "metadata": {},
   "source": [
    "### What are transforms and which transforms should I use?\n",
    "To make models generalize better we can use so called transforms. They randomly change the image slightly. For example a bit of zoom or rotation. Fortunately, we don't really have to deal with transforms a lot in fast.ai. The package offers a convenient function called get_transforms() that returns pretty good values for transformations.\n",
    "In the case of digit recognition we want to tranform the data as much as possible so that it generalizes better, but only so much that the image would still be recognized by a human being.\n",
    "One parameter we definitely have to change for that reason is do_flip. If this is activated, random flips (with a probability of 0.5) would be applied to the images. We don't want that. The next two images are an image of the number three and another image of a number three that is flipped horizontally. This would confuse our CNN."
   ]
  },
  {
   "cell_type": "markdown",
   "metadata": {},
   "source": [
    "### How to improve your score?\n",
    "add special features\n",
    "- pooling layers\n",
    "- data augmentation\n",
    "- dropout\n",
    "- batch normalization\n",
    "- decaying learning rate\n",
    "- advanced optimization\n",
    "\n",
    "[source](https://www.kaggle.com/c/digit-recognizer/discussion/61480)"
   ]
  },
  {
   "cell_type": "markdown",
   "metadata": {},
   "source": [
    "### What is the best CNN architecture?\n",
    "According to [this post](https://www.kaggle.com/cdeotte/how-to-choose-cnn-architecture-mnist) by [Chris Deotte](https://www.kaggle.com/cdeotte) the best architecture is:\n",
    "> 784 - [32C3-32C3-32C5S2] - [64C3-64C3-64C5S2] - 128 - 10\n",
    "> with 40% dropout, batch normalization, and data augmentation added\n",
    "\n",
    "784 input nodes\n",
    "\n",
    "[32C3-32C3-32C5S2]\n",
    "- 2x (convolutional layer with 32 feature maps, 3x3 filter and stride 1)\n",
    "- convolutional layer with 32 feature maps, 5x5 filter and stride 2\n",
    "\n",
    "[64C3-64C3-64C5S2]\n",
    "- 2x (convolutional layer with 64 feature maps, 3x3 filter and stride 1)\n",
    "- convolutional layer with 64 feature maps, 5x5 filter and stride 2 \n",
    "\n",
    "128 fully connected dense layers\n",
    "\n",
    "10 output nodes\n",
    "\n"
   ]
  },
  {
   "cell_type": "markdown",
   "metadata": {},
   "source": [
    "### What is the best possible score?\n",
    "The best score inside of Kernels is [99.75%](https://www.kaggle.com/cdeotte/25-million-images-0-99757-mnist).\n",
    "\n",
    "The best score anywhere is [99.79%](http://yann.lecun.com/exdb/publis/pdf/wan-icml-13.pdf)."
   ]
  },
  {
   "cell_type": "markdown",
   "metadata": {},
   "source": [
    "### How to submit?\n",
    "Now we're throught the entire process of how to create a CNN with fast.ai to recognize digits. To submit a file to the the competition, you have two different options.\n",
    "#### Code in Kaggle Kernel\n",
    "1. go to the kernel\n",
    "2. commit the kernel\n",
    "3. go back to all of your kernels\n",
    "4. select the kernel again\n",
    "5. scroll down to Output\n",
    "6. click on \"Submit to Competition\""
   ]
  },
  {
   "cell_type": "markdown",
   "metadata": {},
   "source": [
    "#### Code locally on PC\n",
    "1. go to [the competition](https://www.kaggle.com/c/digit-recognizer)\n",
    "2. click on [\"Submit Predictions\"](https://www.kaggle.com/c/digit-recognizer/submit)\n",
    "3. upload your submission file\n",
    "4. add a description\n",
    "5. click on submit"
   ]
  },
  {
   "cell_type": "markdown",
   "metadata": {},
   "source": [
    "TODO:\n",
    "- image augmentation\n",
    "https://www.kaggle.com/anisayari/generate-more-training-data-fastai\n",
    "- created images to zip file\n",
    "https://www.kaggle.com/anisayari/generate-more-training-data-fastai\n",
    "- better comments\n",
    "- add images to \"How to Submit\"\n",
    "- explain normalization better"
   ]
  }
 ],
 "metadata": {
  "kernelspec": {
   "display_name": "Python 3",
   "language": "python",
   "name": "python3"
  },
  "language_info": {
   "codemirror_mode": {
    "name": "ipython",
    "version": 3
   },
   "file_extension": ".py",
   "mimetype": "text/x-python",
   "name": "python",
   "nbconvert_exporter": "python",
   "pygments_lexer": "ipython3",
   "version": "3.6.6"
  }
 },
 "nbformat": 4,
 "nbformat_minor": 1
}
