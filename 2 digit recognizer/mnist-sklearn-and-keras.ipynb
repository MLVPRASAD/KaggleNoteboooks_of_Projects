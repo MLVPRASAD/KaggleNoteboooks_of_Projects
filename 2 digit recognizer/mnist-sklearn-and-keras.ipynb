{
 "cells": [
  {
   "cell_type": "markdown",
   "metadata": {
    "_uuid": "972f90217a185b93981aef489046a0aefbc64dc8"
   },
   "source": [
    "# **MNIST: Sklearn and Keras** \n",
    "**Comparing the performance of ML and DL classification models on**  \n",
    "**the Digit Recognizer (MNIST) competition**  \n",
    "\n",
    "\n",
    "*from Kaggle:*   \n",
    "MNIST (\"Modified National Institute of Standards and Technology\") is the de facto “hello world” dataset of computer vision.  \n",
    "In this competition, your goal is to correctly identify digits from a dataset of tens of thousands of handwritten images."
   ]
  },
  {
   "cell_type": "markdown",
   "metadata": {
    "_uuid": "a8840cfb479892df49d74122e7281a1b949d4036"
   },
   "source": [
    "**My first kernel for the MNIST Digit Recognizer Competition**  \n",
    "\n",
    "The kernel includes an **EDA part** on the distribution of labels and some sample images for each digit.  \n",
    "We explore how the images of handwritten digits are stored as 784 values (pixels).  \n",
    "We transform these 784 pixels back to images of 28 x 28 (width x heigth) and have a look at possible difficulties in identifying and distinguishing certain digits.  \n",
    "The part on **prediction modelling** starts with **classifiers from sklearn**:  \n",
    "Perceptron, Logistic Regression, Random Forest, SVM, Multi Layer Perceptron  \n",
    "and then continues to **Neural Networks with Keras**:   \n",
    "Dense (1,2 and 3 layers) and CNN (Conv2D, MaxPooling, Dropout)"
   ]
  },
  {
   "cell_type": "markdown",
   "metadata": {
    "_uuid": "5a15f0810640d7baad9c31c5b530814343d65dc6"
   },
   "source": [
    "**Outline of the kernel:**\n",
    "\n",
    "**Part 0: Imports, functions**\n",
    "\n",
    "[some useful functions](#some-useful-functions)\n",
    "\n",
    "\n",
    "**Part 1: Exploring the Data**\n",
    "\n",
    "[Distribution of labels](#Distribution-of-labels)  \n",
    "[first 10 samples for each digit](#first-10-image-samples-for-each-digit)  \n",
    "[Conclusions on EDA](#Conclusions-on-EDA) \n",
    "\n",
    "\n",
    "**Part 2: Sklearn Classifiers** \n",
    "\n",
    "[Perceptron](#Perceptron)  \n",
    "[Logistic Regression](#Logistic-Regression)  \n",
    "[KNN](#KNN)  \n",
    "[Random Forest Classifier](#Random-Forest-Classifier)  \n",
    "[Support Vector Machine Classifier](#Support-Vector-Machine-Classifier)  \n",
    "[Multi Layer Perceptron](#Multi-Layer-Perceptron)\n",
    "\n",
    "\n",
    "**Part 3: NN and CNN Classifiers with Keras**\n",
    "\n",
    "3.1 Fully-Connected Neural Networks  \n",
    "[Keras: dense, 1 hidden layer](#Keras:-1-hidden-layer)  \n",
    "[Keras: dense, 2 hidden layers](#Keras:-2-hidden-layers)  \n",
    "[Keras: dense, 3 hidden layers](#Keras:-3-hidden-layers)  \n",
    "3.2 Convolutional Neural Networks, CNN  \n",
    "[features : reshaping 1d vector to 2d images](#features-:-reshaping-1d-vector-to-2d-images)  \n",
    "[Keras: CNN, model 1](#Keras:-CNN-model-1)  \n",
    "[Keras: CNN, model 2](#Keras:-CNN-model-2)\n",
    "\n",
    "**Part 4: Predictions for test data**  \n",
    "[Fitting on all training data](#Fitting-on-all-training-data)  \n",
    "\n",
    "**Part 5: Comparing classifier performance**  \n",
    "[Validation scores](#Validation-scores)  \n",
    "[Test scores](#Test-scores)  \n",
    "\n",
    "\n",
    "**Part 6: Different optimizers**  \n",
    "adadelta  \n",
    "rmsprop  \n",
    "adam  \n",
    "\n",
    "**Part 7: Investigating false predictions**\n"
   ]
  },
  {
   "cell_type": "code",
   "execution_count": null,
   "metadata": {},
   "outputs": [],
   "source": []
  },
  {
   "cell_type": "markdown",
   "metadata": {
    "_uuid": "f001988cbe36bd9d1ce9dcc712c7b06635fd8a7d"
   },
   "source": [
    "# Part 0: Imports, Functions"
   ]
  },
  {
   "cell_type": "code",
   "execution_count": 1,
   "metadata": {
    "_cell_guid": "b1076dfc-b9ad-4769-8c92-a6c4dae69d19",
    "_uuid": "8f2839f25d086af736a60e9eeb907d3b93b6e0e5"
   },
   "outputs": [
    {
     "data": {
      "text/html": [
       "        <script type=\"text/javascript\">\n",
       "        window.PlotlyConfig = {MathJaxConfig: 'local'};\n",
       "        if (window.MathJax) {MathJax.Hub.Config({SVG: {font: \"STIX-Web\"}});}\n",
       "        if (typeof require !== 'undefined') {\n",
       "        require.undef(\"plotly\");\n",
       "        requirejs.config({\n",
       "            paths: {\n",
       "                'plotly': ['https://cdn.plot.ly/plotly-latest.min']\n",
       "            }\n",
       "        });\n",
       "        require(['plotly'], function(Plotly) {\n",
       "            window._Plotly = Plotly;\n",
       "        });\n",
       "        }\n",
       "        </script>\n",
       "        "
      ]
     },
     "metadata": {},
     "output_type": "display_data"
    },
    {
     "name": "stderr",
     "output_type": "stream",
     "text": [
      "Using TensorFlow backend.\n"
     ]
    },
    {
     "name": "stdout",
     "output_type": "stream",
     "text": [
      "['sample_submission.csv', 'test.csv', 'train.csv']\n"
     ]
    }
   ],
   "source": [
    "import numpy as np \n",
    "import pandas as pd \n",
    "\n",
    "import random as rn\n",
    "\n",
    "import matplotlib.pyplot as plt\n",
    "import matplotlib.image as mpimg\n",
    "import seaborn as sns\n",
    "%matplotlib inline\n",
    "\n",
    "# plotly library\n",
    "import plotly.plotly as py\n",
    "import plotly.graph_objs as go\n",
    "from plotly import tools\n",
    "from plotly.offline import init_notebook_mode, iplot\n",
    "init_notebook_mode(connected=True)\n",
    "\n",
    "from sklearn.preprocessing import LabelEncoder\n",
    "from sklearn.metrics import confusion_matrix, classification_report, accuracy_score\n",
    "from sklearn.model_selection import train_test_split\n",
    "from sklearn.model_selection import cross_val_score, KFold \n",
    "from sklearn.model_selection import RandomizedSearchCV, GridSearchCV\n",
    "from sklearn.pipeline import Pipeline\n",
    "from scipy.stats import uniform\n",
    "\n",
    "import itertools\n",
    "\n",
    "import warnings\n",
    "from sklearn.exceptions import ConvergenceWarning\n",
    "warnings.filterwarnings(\"ignore\", category=ConvergenceWarning)\n",
    "\n",
    "from keras.utils.np_utils import to_categorical\n",
    "from keras.utils import np_utils\n",
    "\n",
    "from keras.models import Sequential\n",
    "from keras.layers import Dense, Dropout, Flatten\n",
    "from keras.layers import Conv2D, MaxPooling2D, MaxPool2D\n",
    "#from keras.layers import AvgPool2D, BatchNormalization, Reshape\n",
    "from keras.optimizers import Adadelta, RMSprop, Adam\n",
    "from keras.losses import categorical_crossentropy\n",
    "from keras.wrappers.scikit_learn import KerasClassifier\n",
    "\n",
    "import tensorflow as tf\n",
    "\n",
    "import os\n",
    "print(os.listdir(\"../input\"))\n"
   ]
  },
  {
   "cell_type": "markdown",
   "metadata": {
    "_uuid": "613c5dcdfdde0b99ef2292da1d59c22edfc70fcf"
   },
   "source": [
    "**some global variables**"
   ]
  },
  {
   "cell_type": "code",
   "execution_count": 2,
   "metadata": {
    "_uuid": "d20ddc5ea49a5ddd0cb251a32c1fafe257afb124"
   },
   "outputs": [],
   "source": [
    "img_rows, img_cols = 28, 28\n",
    "\n",
    "np.random.seed(5)\n",
    "#rn.seed(5)\n",
    "#tf.set_random_seed(5)"
   ]
  },
  {
   "cell_type": "markdown",
   "metadata": {
    "_uuid": "e76e22587309810772340c55880e3c721772257a"
   },
   "source": [
    "### **some useful functions**"
   ]
  },
  {
   "cell_type": "markdown",
   "metadata": {
    "_uuid": "67b0d192f7523e0bae49f6fc5498d83418f6d97b"
   },
   "source": [
    "### get_best_score for GridSearchCV"
   ]
  },
  {
   "cell_type": "code",
   "execution_count": 3,
   "metadata": {
    "_uuid": "3796d134b019785d4b60357db28151a4b32dc7ab"
   },
   "outputs": [],
   "source": [
    "def get_best_score(model):\n",
    "    \n",
    "    print(model.best_score_)    \n",
    "    print(model.best_params_)\n",
    "    print(model.best_estimator_)\n",
    "    \n",
    "    return model.best_score_"
   ]
  },
  {
   "cell_type": "markdown",
   "metadata": {
    "_uuid": "0b48ff13fda2010e77067f7f9e0a312774f7c6b7"
   },
   "source": [
    "### print Classification Report and Accuracy"
   ]
  },
  {
   "cell_type": "code",
   "execution_count": 4,
   "metadata": {
    "_uuid": "6b2924e8055b1cd5c87db52dc75c5d18fb2f932f"
   },
   "outputs": [],
   "source": [
    "def print_validation_report(y_true, y_pred):\n",
    "    print(\"Classification Report\")\n",
    "    print(classification_report(y_true, y_pred))\n",
    "    acc_sc = accuracy_score(y_true, y_pred)\n",
    "    print(\"Accuracy : \"+ str(acc_sc))\n",
    "    \n",
    "    return acc_sc"
   ]
  },
  {
   "cell_type": "markdown",
   "metadata": {
    "_uuid": "be3fac7d609a819d441a1799b57891381d21253c"
   },
   "source": [
    "### plot_confusion_matrix"
   ]
  },
  {
   "cell_type": "code",
   "execution_count": 5,
   "metadata": {
    "_uuid": "be399813086badb7465791bc904ff95970687f3b"
   },
   "outputs": [],
   "source": [
    "def plot_confusion_matrix(y_true, y_pred):\n",
    "    mtx = confusion_matrix(y_true, y_pred)\n",
    "    fig, ax = plt.subplots(figsize=(8,8))\n",
    "    sns.heatmap(mtx, annot=True, fmt='d', linewidths=.5,  cbar=False, ax=ax)\n",
    "    #  square=True,\n",
    "    plt.ylabel('true label')\n",
    "    plt.xlabel('predicted label')"
   ]
  },
  {
   "cell_type": "markdown",
   "metadata": {
    "_uuid": "95c1ee02cd8ecc860c901bb5d91a34544dd7e3ad"
   },
   "source": [
    "### plot_history_loss_and_acc"
   ]
  },
  {
   "cell_type": "code",
   "execution_count": 6,
   "metadata": {
    "_uuid": "678cc8ca95af1cc66bf9b365e996225751156242"
   },
   "outputs": [],
   "source": [
    "def plot_history_loss_and_acc(history_keras_nn):\n",
    "\n",
    "    fig, axs = plt.subplots(1,2, figsize=(12,4))\n",
    "\n",
    "    axs[0].plot(history_keras_nn.history['loss'])\n",
    "    axs[0].plot(history_keras_nn.history['val_loss'])\n",
    "    axs[0].set_title('model loss')\n",
    "    axs[0].set_ylabel('loss')\n",
    "    axs[0].set_xlabel('epoch')\n",
    "    axs[0].legend(['train', 'validation'], loc='upper left')\n",
    "\n",
    "    axs[1].plot(history_keras_nn.history['acc'])\n",
    "    axs[1].plot(history_keras_nn.history['val_acc'])\n",
    "    axs[1].set_title('model accuracy')\n",
    "    axs[1].set_ylabel('accuracy')\n",
    "    axs[1].set_xlabel('epoch')\n",
    "    axs[1].legend(['train', 'validation'], loc='upper left')\n",
    "\n",
    "    plt.show()"
   ]
  },
  {
   "cell_type": "markdown",
   "metadata": {
    "_uuid": "4c709b6bd14531e7b0248d7e0ef3abb378ae2ae3"
   },
   "source": [
    "### **Reading the data**"
   ]
  },
  {
   "cell_type": "code",
   "execution_count": 7,
   "metadata": {
    "_uuid": "a5ecb7548864377c6d794e0f61b79884e45602fe"
   },
   "outputs": [],
   "source": [
    "train = pd.read_csv(\"../input/train.csv\")\n",
    "test = pd.read_csv(\"../input/test.csv\")"
   ]
  },
  {
   "cell_type": "code",
   "execution_count": 8,
   "metadata": {
    "_uuid": "02f31d6447f9f2f554f6055314a4d7d60ffa8d2a"
   },
   "outputs": [],
   "source": [
    "y = train[\"label\"]\n",
    "X = train.drop([\"label\"],axis = 1)\n",
    "X_test = test"
   ]
  },
  {
   "cell_type": "markdown",
   "metadata": {
    "_uuid": "81951a034d3cbe377d8d6ab3ca6386e3fc6ba278"
   },
   "source": [
    "### Normalization"
   ]
  },
  {
   "cell_type": "code",
   "execution_count": 9,
   "metadata": {
    "_uuid": "865c65cb54e8c0f619914a445133800453620fd1"
   },
   "outputs": [],
   "source": [
    "X = X/255.0\n",
    "X_test = X_test/255.0"
   ]
  },
  {
   "cell_type": "markdown",
   "metadata": {
    "_uuid": "486e5a1ec5ea278cf8404cdc289bf252c453b8ed"
   },
   "source": [
    "### setting train and validation data"
   ]
  },
  {
   "cell_type": "code",
   "execution_count": 10,
   "metadata": {
    "_uuid": "551c7ff8551d3c080b22d7f014cb4b9f0d64ae23"
   },
   "outputs": [
    {
     "name": "stdout",
     "output_type": "stream",
     "text": [
      "nr_samples train data: 30000\n",
      "start_ix_val: 30000\n",
      "end_ix_val: 40000\n"
     ]
    }
   ],
   "source": [
    "# for best performance, especially of the NN classfiers,\n",
    "# set mode = \"commit\"\n",
    "mode = \"edit\"\n",
    "mode = \"commit\"\n",
    "#\n",
    "\n",
    "if mode == \"edit\" :\n",
    "    nr_samples = 1200\n",
    "\n",
    "if mode == \"commit\" :    \n",
    "    nr_samples = 30000\n",
    "\n",
    "y_train=y[:nr_samples]\n",
    "X_train=X[:nr_samples]\n",
    "start_ix_val = nr_samples \n",
    "end_ix_val = nr_samples + int(nr_samples/3)\n",
    "y_val=y[start_ix_val:end_ix_val]\n",
    "X_val=X[start_ix_val:end_ix_val]\n",
    "    \n",
    "print(\"nr_samples train data:\", nr_samples)\n",
    "print(\"start_ix_val:\", start_ix_val)\n",
    "print(\"end_ix_val:\", end_ix_val)"
   ]
  },
  {
   "cell_type": "code",
   "execution_count": null,
   "metadata": {
    "_uuid": "4fe3baf442262e4e1a6b7e79595ea0651c043754"
   },
   "outputs": [],
   "source": []
  },
  {
   "cell_type": "markdown",
   "metadata": {
    "_uuid": "dc36e607a9b91f6b3629a69b04fcd4c63a9d00a2"
   },
   "source": [
    "# Part 1 : Exploring the Data"
   ]
  },
  {
   "cell_type": "code",
   "execution_count": 11,
   "metadata": {
    "_uuid": "3a29bc0afc5386409cbc482d99e5907dc45c4771"
   },
   "outputs": [
    {
     "name": "stdout",
     "output_type": "stream",
     "text": [
      "X:\n",
      "<class 'pandas.core.frame.DataFrame'>\n",
      "RangeIndex: 42000 entries, 0 to 41999\n",
      "Columns: 784 entries, pixel0 to pixel783\n",
      "dtypes: float64(784)\n",
      "memory usage: 251.2 MB\n",
      "None\n",
      "**************************************************\n",
      "X_test:\n",
      "<class 'pandas.core.frame.DataFrame'>\n",
      "RangeIndex: 28000 entries, 0 to 27999\n",
      "Columns: 784 entries, pixel0 to pixel783\n",
      "dtypes: float64(784)\n",
      "memory usage: 167.5 MB\n",
      "None\n",
      "**************************************************\n",
      "y:\n",
      "(42000,)\n"
     ]
    }
   ],
   "source": [
    "print(\"X:\")\n",
    "print(X.info())\n",
    "print(\"*\"*50)\n",
    "print(\"X_test:\")\n",
    "print(X_test.info())\n",
    "print(\"*\"*50)\n",
    "print(\"y:\")\n",
    "print(y.shape)"
   ]
  },
  {
   "cell_type": "code",
   "execution_count": 12,
   "metadata": {
    "_uuid": "23b83df6872036ce3777486826a6752db65489e2"
   },
   "outputs": [
    {
     "data": {
      "text/html": [
       "<div>\n",
       "<style scoped>\n",
       "    .dataframe tbody tr th:only-of-type {\n",
       "        vertical-align: middle;\n",
       "    }\n",
       "\n",
       "    .dataframe tbody tr th {\n",
       "        vertical-align: top;\n",
       "    }\n",
       "\n",
       "    .dataframe thead th {\n",
       "        text-align: right;\n",
       "    }\n",
       "</style>\n",
       "<table border=\"1\" class=\"dataframe\">\n",
       "  <thead>\n",
       "    <tr style=\"text-align: right;\">\n",
       "      <th></th>\n",
       "      <th>pixel0</th>\n",
       "      <th>pixel1</th>\n",
       "      <th>pixel2</th>\n",
       "      <th>pixel3</th>\n",
       "      <th>pixel4</th>\n",
       "      <th>pixel5</th>\n",
       "      <th>pixel6</th>\n",
       "      <th>pixel7</th>\n",
       "      <th>pixel8</th>\n",
       "      <th>pixel9</th>\n",
       "      <th>pixel10</th>\n",
       "      <th>pixel11</th>\n",
       "      <th>pixel12</th>\n",
       "      <th>pixel13</th>\n",
       "      <th>pixel14</th>\n",
       "      <th>pixel15</th>\n",
       "      <th>pixel16</th>\n",
       "      <th>pixel17</th>\n",
       "      <th>pixel18</th>\n",
       "      <th>pixel19</th>\n",
       "      <th>pixel20</th>\n",
       "      <th>pixel21</th>\n",
       "      <th>pixel22</th>\n",
       "      <th>pixel23</th>\n",
       "      <th>pixel24</th>\n",
       "      <th>pixel25</th>\n",
       "      <th>pixel26</th>\n",
       "      <th>pixel27</th>\n",
       "      <th>pixel28</th>\n",
       "      <th>pixel29</th>\n",
       "      <th>pixel30</th>\n",
       "      <th>pixel31</th>\n",
       "      <th>pixel32</th>\n",
       "      <th>pixel33</th>\n",
       "      <th>pixel34</th>\n",
       "      <th>pixel35</th>\n",
       "      <th>pixel36</th>\n",
       "      <th>pixel37</th>\n",
       "      <th>pixel38</th>\n",
       "      <th>pixel39</th>\n",
       "      <th>...</th>\n",
       "      <th>pixel744</th>\n",
       "      <th>pixel745</th>\n",
       "      <th>pixel746</th>\n",
       "      <th>pixel747</th>\n",
       "      <th>pixel748</th>\n",
       "      <th>pixel749</th>\n",
       "      <th>pixel750</th>\n",
       "      <th>pixel751</th>\n",
       "      <th>pixel752</th>\n",
       "      <th>pixel753</th>\n",
       "      <th>pixel754</th>\n",
       "      <th>pixel755</th>\n",
       "      <th>pixel756</th>\n",
       "      <th>pixel757</th>\n",
       "      <th>pixel758</th>\n",
       "      <th>pixel759</th>\n",
       "      <th>pixel760</th>\n",
       "      <th>pixel761</th>\n",
       "      <th>pixel762</th>\n",
       "      <th>pixel763</th>\n",
       "      <th>pixel764</th>\n",
       "      <th>pixel765</th>\n",
       "      <th>pixel766</th>\n",
       "      <th>pixel767</th>\n",
       "      <th>pixel768</th>\n",
       "      <th>pixel769</th>\n",
       "      <th>pixel770</th>\n",
       "      <th>pixel771</th>\n",
       "      <th>pixel772</th>\n",
       "      <th>pixel773</th>\n",
       "      <th>pixel774</th>\n",
       "      <th>pixel775</th>\n",
       "      <th>pixel776</th>\n",
       "      <th>pixel777</th>\n",
       "      <th>pixel778</th>\n",
       "      <th>pixel779</th>\n",
       "      <th>pixel780</th>\n",
       "      <th>pixel781</th>\n",
       "      <th>pixel782</th>\n",
       "      <th>pixel783</th>\n",
       "    </tr>\n",
       "  </thead>\n",
       "  <tbody>\n",
       "    <tr>\n",
       "      <th>0</th>\n",
       "      <td>0.0</td>\n",
       "      <td>0.0</td>\n",
       "      <td>0.0</td>\n",
       "      <td>0.0</td>\n",
       "      <td>0.0</td>\n",
       "      <td>0.0</td>\n",
       "      <td>0.0</td>\n",
       "      <td>0.0</td>\n",
       "      <td>0.0</td>\n",
       "      <td>0.0</td>\n",
       "      <td>0.0</td>\n",
       "      <td>0.0</td>\n",
       "      <td>0.0</td>\n",
       "      <td>0.0</td>\n",
       "      <td>0.0</td>\n",
       "      <td>0.0</td>\n",
       "      <td>0.0</td>\n",
       "      <td>0.0</td>\n",
       "      <td>0.0</td>\n",
       "      <td>0.0</td>\n",
       "      <td>0.0</td>\n",
       "      <td>0.0</td>\n",
       "      <td>0.0</td>\n",
       "      <td>0.0</td>\n",
       "      <td>0.0</td>\n",
       "      <td>0.0</td>\n",
       "      <td>0.0</td>\n",
       "      <td>0.0</td>\n",
       "      <td>0.0</td>\n",
       "      <td>0.0</td>\n",
       "      <td>0.0</td>\n",
       "      <td>0.0</td>\n",
       "      <td>0.0</td>\n",
       "      <td>0.0</td>\n",
       "      <td>0.0</td>\n",
       "      <td>0.0</td>\n",
       "      <td>0.0</td>\n",
       "      <td>0.0</td>\n",
       "      <td>0.0</td>\n",
       "      <td>0.0</td>\n",
       "      <td>...</td>\n",
       "      <td>0.0</td>\n",
       "      <td>0.0</td>\n",
       "      <td>0.0</td>\n",
       "      <td>0.0</td>\n",
       "      <td>0.0</td>\n",
       "      <td>0.0</td>\n",
       "      <td>0.0</td>\n",
       "      <td>0.0</td>\n",
       "      <td>0.0</td>\n",
       "      <td>0.0</td>\n",
       "      <td>0.0</td>\n",
       "      <td>0.0</td>\n",
       "      <td>0.0</td>\n",
       "      <td>0.0</td>\n",
       "      <td>0.0</td>\n",
       "      <td>0.0</td>\n",
       "      <td>0.0</td>\n",
       "      <td>0.0</td>\n",
       "      <td>0.0</td>\n",
       "      <td>0.0</td>\n",
       "      <td>0.0</td>\n",
       "      <td>0.0</td>\n",
       "      <td>0.0</td>\n",
       "      <td>0.0</td>\n",
       "      <td>0.0</td>\n",
       "      <td>0.0</td>\n",
       "      <td>0.0</td>\n",
       "      <td>0.0</td>\n",
       "      <td>0.0</td>\n",
       "      <td>0.0</td>\n",
       "      <td>0.0</td>\n",
       "      <td>0.0</td>\n",
       "      <td>0.0</td>\n",
       "      <td>0.0</td>\n",
       "      <td>0.0</td>\n",
       "      <td>0.0</td>\n",
       "      <td>0.0</td>\n",
       "      <td>0.0</td>\n",
       "      <td>0.0</td>\n",
       "      <td>0.0</td>\n",
       "    </tr>\n",
       "    <tr>\n",
       "      <th>1</th>\n",
       "      <td>0.0</td>\n",
       "      <td>0.0</td>\n",
       "      <td>0.0</td>\n",
       "      <td>0.0</td>\n",
       "      <td>0.0</td>\n",
       "      <td>0.0</td>\n",
       "      <td>0.0</td>\n",
       "      <td>0.0</td>\n",
       "      <td>0.0</td>\n",
       "      <td>0.0</td>\n",
       "      <td>0.0</td>\n",
       "      <td>0.0</td>\n",
       "      <td>0.0</td>\n",
       "      <td>0.0</td>\n",
       "      <td>0.0</td>\n",
       "      <td>0.0</td>\n",
       "      <td>0.0</td>\n",
       "      <td>0.0</td>\n",
       "      <td>0.0</td>\n",
       "      <td>0.0</td>\n",
       "      <td>0.0</td>\n",
       "      <td>0.0</td>\n",
       "      <td>0.0</td>\n",
       "      <td>0.0</td>\n",
       "      <td>0.0</td>\n",
       "      <td>0.0</td>\n",
       "      <td>0.0</td>\n",
       "      <td>0.0</td>\n",
       "      <td>0.0</td>\n",
       "      <td>0.0</td>\n",
       "      <td>0.0</td>\n",
       "      <td>0.0</td>\n",
       "      <td>0.0</td>\n",
       "      <td>0.0</td>\n",
       "      <td>0.0</td>\n",
       "      <td>0.0</td>\n",
       "      <td>0.0</td>\n",
       "      <td>0.0</td>\n",
       "      <td>0.0</td>\n",
       "      <td>0.0</td>\n",
       "      <td>...</td>\n",
       "      <td>0.0</td>\n",
       "      <td>0.0</td>\n",
       "      <td>0.0</td>\n",
       "      <td>0.0</td>\n",
       "      <td>0.0</td>\n",
       "      <td>0.0</td>\n",
       "      <td>0.0</td>\n",
       "      <td>0.0</td>\n",
       "      <td>0.0</td>\n",
       "      <td>0.0</td>\n",
       "      <td>0.0</td>\n",
       "      <td>0.0</td>\n",
       "      <td>0.0</td>\n",
       "      <td>0.0</td>\n",
       "      <td>0.0</td>\n",
       "      <td>0.0</td>\n",
       "      <td>0.0</td>\n",
       "      <td>0.0</td>\n",
       "      <td>0.0</td>\n",
       "      <td>0.0</td>\n",
       "      <td>0.0</td>\n",
       "      <td>0.0</td>\n",
       "      <td>0.0</td>\n",
       "      <td>0.0</td>\n",
       "      <td>0.0</td>\n",
       "      <td>0.0</td>\n",
       "      <td>0.0</td>\n",
       "      <td>0.0</td>\n",
       "      <td>0.0</td>\n",
       "      <td>0.0</td>\n",
       "      <td>0.0</td>\n",
       "      <td>0.0</td>\n",
       "      <td>0.0</td>\n",
       "      <td>0.0</td>\n",
       "      <td>0.0</td>\n",
       "      <td>0.0</td>\n",
       "      <td>0.0</td>\n",
       "      <td>0.0</td>\n",
       "      <td>0.0</td>\n",
       "      <td>0.0</td>\n",
       "    </tr>\n",
       "    <tr>\n",
       "      <th>2</th>\n",
       "      <td>0.0</td>\n",
       "      <td>0.0</td>\n",
       "      <td>0.0</td>\n",
       "      <td>0.0</td>\n",
       "      <td>0.0</td>\n",
       "      <td>0.0</td>\n",
       "      <td>0.0</td>\n",
       "      <td>0.0</td>\n",
       "      <td>0.0</td>\n",
       "      <td>0.0</td>\n",
       "      <td>0.0</td>\n",
       "      <td>0.0</td>\n",
       "      <td>0.0</td>\n",
       "      <td>0.0</td>\n",
       "      <td>0.0</td>\n",
       "      <td>0.0</td>\n",
       "      <td>0.0</td>\n",
       "      <td>0.0</td>\n",
       "      <td>0.0</td>\n",
       "      <td>0.0</td>\n",
       "      <td>0.0</td>\n",
       "      <td>0.0</td>\n",
       "      <td>0.0</td>\n",
       "      <td>0.0</td>\n",
       "      <td>0.0</td>\n",
       "      <td>0.0</td>\n",
       "      <td>0.0</td>\n",
       "      <td>0.0</td>\n",
       "      <td>0.0</td>\n",
       "      <td>0.0</td>\n",
       "      <td>0.0</td>\n",
       "      <td>0.0</td>\n",
       "      <td>0.0</td>\n",
       "      <td>0.0</td>\n",
       "      <td>0.0</td>\n",
       "      <td>0.0</td>\n",
       "      <td>0.0</td>\n",
       "      <td>0.0</td>\n",
       "      <td>0.0</td>\n",
       "      <td>0.0</td>\n",
       "      <td>...</td>\n",
       "      <td>0.0</td>\n",
       "      <td>0.0</td>\n",
       "      <td>0.0</td>\n",
       "      <td>0.0</td>\n",
       "      <td>0.0</td>\n",
       "      <td>0.0</td>\n",
       "      <td>0.0</td>\n",
       "      <td>0.0</td>\n",
       "      <td>0.0</td>\n",
       "      <td>0.0</td>\n",
       "      <td>0.0</td>\n",
       "      <td>0.0</td>\n",
       "      <td>0.0</td>\n",
       "      <td>0.0</td>\n",
       "      <td>0.0</td>\n",
       "      <td>0.0</td>\n",
       "      <td>0.0</td>\n",
       "      <td>0.0</td>\n",
       "      <td>0.0</td>\n",
       "      <td>0.0</td>\n",
       "      <td>0.0</td>\n",
       "      <td>0.0</td>\n",
       "      <td>0.0</td>\n",
       "      <td>0.0</td>\n",
       "      <td>0.0</td>\n",
       "      <td>0.0</td>\n",
       "      <td>0.0</td>\n",
       "      <td>0.0</td>\n",
       "      <td>0.0</td>\n",
       "      <td>0.0</td>\n",
       "      <td>0.0</td>\n",
       "      <td>0.0</td>\n",
       "      <td>0.0</td>\n",
       "      <td>0.0</td>\n",
       "      <td>0.0</td>\n",
       "      <td>0.0</td>\n",
       "      <td>0.0</td>\n",
       "      <td>0.0</td>\n",
       "      <td>0.0</td>\n",
       "      <td>0.0</td>\n",
       "    </tr>\n",
       "    <tr>\n",
       "      <th>3</th>\n",
       "      <td>0.0</td>\n",
       "      <td>0.0</td>\n",
       "      <td>0.0</td>\n",
       "      <td>0.0</td>\n",
       "      <td>0.0</td>\n",
       "      <td>0.0</td>\n",
       "      <td>0.0</td>\n",
       "      <td>0.0</td>\n",
       "      <td>0.0</td>\n",
       "      <td>0.0</td>\n",
       "      <td>0.0</td>\n",
       "      <td>0.0</td>\n",
       "      <td>0.0</td>\n",
       "      <td>0.0</td>\n",
       "      <td>0.0</td>\n",
       "      <td>0.0</td>\n",
       "      <td>0.0</td>\n",
       "      <td>0.0</td>\n",
       "      <td>0.0</td>\n",
       "      <td>0.0</td>\n",
       "      <td>0.0</td>\n",
       "      <td>0.0</td>\n",
       "      <td>0.0</td>\n",
       "      <td>0.0</td>\n",
       "      <td>0.0</td>\n",
       "      <td>0.0</td>\n",
       "      <td>0.0</td>\n",
       "      <td>0.0</td>\n",
       "      <td>0.0</td>\n",
       "      <td>0.0</td>\n",
       "      <td>0.0</td>\n",
       "      <td>0.0</td>\n",
       "      <td>0.0</td>\n",
       "      <td>0.0</td>\n",
       "      <td>0.0</td>\n",
       "      <td>0.0</td>\n",
       "      <td>0.0</td>\n",
       "      <td>0.0</td>\n",
       "      <td>0.0</td>\n",
       "      <td>0.0</td>\n",
       "      <td>...</td>\n",
       "      <td>0.0</td>\n",
       "      <td>0.0</td>\n",
       "      <td>0.0</td>\n",
       "      <td>0.0</td>\n",
       "      <td>0.0</td>\n",
       "      <td>0.0</td>\n",
       "      <td>0.0</td>\n",
       "      <td>0.0</td>\n",
       "      <td>0.0</td>\n",
       "      <td>0.0</td>\n",
       "      <td>0.0</td>\n",
       "      <td>0.0</td>\n",
       "      <td>0.0</td>\n",
       "      <td>0.0</td>\n",
       "      <td>0.0</td>\n",
       "      <td>0.0</td>\n",
       "      <td>0.0</td>\n",
       "      <td>0.0</td>\n",
       "      <td>0.0</td>\n",
       "      <td>0.0</td>\n",
       "      <td>0.0</td>\n",
       "      <td>0.0</td>\n",
       "      <td>0.0</td>\n",
       "      <td>0.0</td>\n",
       "      <td>0.0</td>\n",
       "      <td>0.0</td>\n",
       "      <td>0.0</td>\n",
       "      <td>0.0</td>\n",
       "      <td>0.0</td>\n",
       "      <td>0.0</td>\n",
       "      <td>0.0</td>\n",
       "      <td>0.0</td>\n",
       "      <td>0.0</td>\n",
       "      <td>0.0</td>\n",
       "      <td>0.0</td>\n",
       "      <td>0.0</td>\n",
       "      <td>0.0</td>\n",
       "      <td>0.0</td>\n",
       "      <td>0.0</td>\n",
       "      <td>0.0</td>\n",
       "    </tr>\n",
       "    <tr>\n",
       "      <th>4</th>\n",
       "      <td>0.0</td>\n",
       "      <td>0.0</td>\n",
       "      <td>0.0</td>\n",
       "      <td>0.0</td>\n",
       "      <td>0.0</td>\n",
       "      <td>0.0</td>\n",
       "      <td>0.0</td>\n",
       "      <td>0.0</td>\n",
       "      <td>0.0</td>\n",
       "      <td>0.0</td>\n",
       "      <td>0.0</td>\n",
       "      <td>0.0</td>\n",
       "      <td>0.0</td>\n",
       "      <td>0.0</td>\n",
       "      <td>0.0</td>\n",
       "      <td>0.0</td>\n",
       "      <td>0.0</td>\n",
       "      <td>0.0</td>\n",
       "      <td>0.0</td>\n",
       "      <td>0.0</td>\n",
       "      <td>0.0</td>\n",
       "      <td>0.0</td>\n",
       "      <td>0.0</td>\n",
       "      <td>0.0</td>\n",
       "      <td>0.0</td>\n",
       "      <td>0.0</td>\n",
       "      <td>0.0</td>\n",
       "      <td>0.0</td>\n",
       "      <td>0.0</td>\n",
       "      <td>0.0</td>\n",
       "      <td>0.0</td>\n",
       "      <td>0.0</td>\n",
       "      <td>0.0</td>\n",
       "      <td>0.0</td>\n",
       "      <td>0.0</td>\n",
       "      <td>0.0</td>\n",
       "      <td>0.0</td>\n",
       "      <td>0.0</td>\n",
       "      <td>0.0</td>\n",
       "      <td>0.0</td>\n",
       "      <td>...</td>\n",
       "      <td>0.0</td>\n",
       "      <td>0.0</td>\n",
       "      <td>0.0</td>\n",
       "      <td>0.0</td>\n",
       "      <td>0.0</td>\n",
       "      <td>0.0</td>\n",
       "      <td>0.0</td>\n",
       "      <td>0.0</td>\n",
       "      <td>0.0</td>\n",
       "      <td>0.0</td>\n",
       "      <td>0.0</td>\n",
       "      <td>0.0</td>\n",
       "      <td>0.0</td>\n",
       "      <td>0.0</td>\n",
       "      <td>0.0</td>\n",
       "      <td>0.0</td>\n",
       "      <td>0.0</td>\n",
       "      <td>0.0</td>\n",
       "      <td>0.0</td>\n",
       "      <td>0.0</td>\n",
       "      <td>0.0</td>\n",
       "      <td>0.0</td>\n",
       "      <td>0.0</td>\n",
       "      <td>0.0</td>\n",
       "      <td>0.0</td>\n",
       "      <td>0.0</td>\n",
       "      <td>0.0</td>\n",
       "      <td>0.0</td>\n",
       "      <td>0.0</td>\n",
       "      <td>0.0</td>\n",
       "      <td>0.0</td>\n",
       "      <td>0.0</td>\n",
       "      <td>0.0</td>\n",
       "      <td>0.0</td>\n",
       "      <td>0.0</td>\n",
       "      <td>0.0</td>\n",
       "      <td>0.0</td>\n",
       "      <td>0.0</td>\n",
       "      <td>0.0</td>\n",
       "      <td>0.0</td>\n",
       "    </tr>\n",
       "  </tbody>\n",
       "</table>\n",
       "</div>"
      ],
      "text/plain": [
       "   pixel0  pixel1  pixel2    ...     pixel781  pixel782  pixel783\n",
       "0     0.0     0.0     0.0    ...          0.0       0.0       0.0\n",
       "1     0.0     0.0     0.0    ...          0.0       0.0       0.0\n",
       "2     0.0     0.0     0.0    ...          0.0       0.0       0.0\n",
       "3     0.0     0.0     0.0    ...          0.0       0.0       0.0\n",
       "4     0.0     0.0     0.0    ...          0.0       0.0       0.0\n",
       "\n",
       "[5 rows x 784 columns]"
      ]
     },
     "execution_count": 12,
     "metadata": {},
     "output_type": "execute_result"
    }
   ],
   "source": [
    "X.iloc[0:5,:]"
   ]
  },
  {
   "cell_type": "code",
   "execution_count": 13,
   "metadata": {
    "_uuid": "b6fe345d6f690bffcfbdb2bd1484c56922cb8a78"
   },
   "outputs": [
    {
     "data": {
      "text/plain": [
       "0    1\n",
       "1    0\n",
       "2    1\n",
       "3    4\n",
       "4    0\n",
       "Name: label, dtype: int64"
      ]
     },
     "execution_count": 13,
     "metadata": {},
     "output_type": "execute_result"
    }
   ],
   "source": [
    "y.iloc[0:5]"
   ]
  },
  {
   "cell_type": "code",
   "execution_count": 14,
   "metadata": {
    "_uuid": "015ed5a417dcb5af2d4ade65726e9eeb5db58bc1"
   },
   "outputs": [
    {
     "data": {
      "image/png": "[encoded data removed]",
      "text/plain": [
       "<Figure size 720x432 with 5 Axes>"
      ]
     },
     "metadata": {
      "needs_background": "light"
     },
     "output_type": "display_data"
    }
   ],
   "source": [
    "fig, axs = plt.subplots(1, 5, sharex=True, sharey=True, figsize=(10,6))\n",
    "axs = axs.flatten()\n",
    "for i in range(0,5):\n",
    "    im = X.iloc[i]\n",
    "    im = im.values.reshape(-1,28,28,1)\n",
    "    axs[i].imshow(im[0,:,:,0], cmap=plt.get_cmap('gray'))\n",
    "    axs[i].set_title(y[i])\n",
    "plt.tight_layout()    "
   ]
  },
  {
   "cell_type": "code",
   "execution_count": null,
   "metadata": {
    "_uuid": "ec0b8d7effc2646021d3774443b14051986bccb1"
   },
   "outputs": [],
   "source": []
  },
  {
   "cell_type": "markdown",
   "metadata": {
    "_uuid": "ba4253f25dc25b8e0f8bb6e95669d28d5e253161"
   },
   "source": [
    "### Distribution of labels \n",
    "**(in train set)**"
   ]
  },
  {
   "cell_type": "code",
   "execution_count": 15,
   "metadata": {
    "_uuid": "2bd17d6ddc16abc28916fbffba8d8f1dc85d5889"
   },
   "outputs": [
    {
     "data": {
      "text/plain": [
       "1    4684\n",
       "7    4401\n",
       "3    4351\n",
       "9    4188\n",
       "2    4177\n",
       "6    4137\n",
       "0    4132\n",
       "4    4072\n",
       "8    4063\n",
       "5    3795\n",
       "Name: label, dtype: int64"
      ]
     },
     "execution_count": 15,
     "metadata": {},
     "output_type": "execute_result"
    }
   ],
   "source": [
    "y.value_counts()"
   ]
  },
  {
   "cell_type": "code",
   "execution_count": 16,
   "metadata": {
    "_uuid": "1d6341bf5524ea7fb274360332ad5823c4982fd0"
   },
   "outputs": [
    {
     "data": {
      "image/png": "[encoded data removed]",
      "text/plain": [
       "<Figure size 576x360 with 1 Axes>"
      ]
     },
     "metadata": {
      "needs_background": "light"
     },
     "output_type": "display_data"
    }
   ],
   "source": [
    "fig, ax = plt.subplots(figsize=(8,5))\n",
    "g = sns.countplot(y)"
   ]
  },
  {
   "cell_type": "markdown",
   "metadata": {
    "_uuid": "49a93e3fb04db8f2bdf2cc3571025becfabf0c5a"
   },
   "source": [
    "### Check some images"
   ]
  },
  {
   "cell_type": "markdown",
   "metadata": {
    "_uuid": "1b37d40c34f0764b5b380a387b85c0e375c7ca33"
   },
   "source": [
    "**get indexes of first 10 occurences for each number**"
   ]
  },
  {
   "cell_type": "code",
   "execution_count": 17,
   "metadata": {
    "_uuid": "2ca8bc2ba4dbce27182114deb56570021b978320"
   },
   "outputs": [],
   "source": [
    "li_idxs = []\n",
    "for i in range(10):\n",
    "    for nr in range(10):\n",
    "        ix = y[y==nr].index[i]\n",
    "        li_idxs.append(ix) "
   ]
  },
  {
   "cell_type": "markdown",
   "metadata": {
    "_uuid": "fc04c8a1b0483378d761d1f750e4543d33136638"
   },
   "source": [
    "### first 10 image samples for each digit"
   ]
  },
  {
   "cell_type": "code",
   "execution_count": 18,
   "metadata": {
    "_uuid": "248fd67a691c82e7cb152b84e4d0d85514c22856"
   },
   "outputs": [
    {
     "data": {
      "image/png": "[encoded data removed]",
      "text/plain": [
       "<Figure size 720x864 with 100 Axes>"
      ]
     },
     "metadata": {
      "needs_background": "light"
     },
     "output_type": "display_data"
    }
   ],
   "source": [
    "fig, axs = plt.subplots(10, 10, sharex=True, sharey=True, figsize=(10,12))\n",
    "axs = axs.flatten()\n",
    "for n, i in enumerate(li_idxs):\n",
    "    im = X.iloc[i]\n",
    "    im = im.values.reshape(-1,28,28,1)\n",
    "    axs[n].imshow(im[0,:,:,0], cmap=plt.get_cmap('gray'))\n",
    "    axs[n].set_title(y[i])\n",
    "plt.tight_layout()    "
   ]
  },
  {
   "cell_type": "markdown",
   "metadata": {
    "_uuid": "38b7b8cdbd0f70e3829e42ae638811c696e6579b"
   },
   "source": [
    "### **Conclusions on EDA**"
   ]
  },
  {
   "cell_type": "markdown",
   "metadata": {
    "_uuid": "c7b46c80bd0cc204f81dcb993aa9bd00bfa214f7"
   },
   "source": [
    "1. **We can see that there is a lot of variety in the look of the numbers**  \n",
    "2. **The digits are obviously written by many different people**\n",
    "3. **And it seems that there might be difficulties identifying some of the digits correctly also for humans:**\n",
    "\n",
    "\n"
   ]
  },
  {
   "cell_type": "markdown",
   "metadata": {
    "_uuid": "cd5d6a3309f095b03b1247157793d10a92f99c82"
   },
   "source": [
    "* The 6s in row 0 1 and 6 look close to a 4  \n",
    "* The 5 in row 1 looks close to a 6 and the 5 in row 8 looks close to a 8  \n",
    "* The 4 in row 4 is wriiten differently as the other 4s and the 4 in row 7 almost looks like a 7  \n",
    "* The 8 in row 8 is wriiten differently as the other 8s  "
   ]
  },
  {
   "cell_type": "markdown",
   "metadata": {
    "_uuid": "d9f9f7fd24e590abaca77f1ffded6c7af50427ea"
   },
   "source": [
    "# Part 2 : Sklearn Classifiers"
   ]
  },
  {
   "cell_type": "code",
   "execution_count": null,
   "metadata": {
    "_uuid": "b8bb8350dbc4f58052cfce448e998b3302690ea1"
   },
   "outputs": [],
   "source": []
  },
  {
   "cell_type": "markdown",
   "metadata": {
    "_uuid": "77ee05aabb4dfd5eb1eceabc1a98b21e020ee2a9"
   },
   "source": [
    "### Perceptron"
   ]
  },
  {
   "cell_type": "code",
   "execution_count": 19,
   "metadata": {
    "_uuid": "1ae5cd03701f0c0555927f24d469123113a436cd"
   },
   "outputs": [
    {
     "name": "stdout",
     "output_type": "stream",
     "text": [
      "Fitting 5 folds for each of 4 candidates, totalling 20 fits\n"
     ]
    },
    {
     "name": "stderr",
     "output_type": "stream",
     "text": [
      "[Parallel(n_jobs=1)]: Using backend SequentialBackend with 1 concurrent workers.\n",
      "[Parallel(n_jobs=1)]: Done  20 out of  20 | elapsed:  2.8min finished\n"
     ]
    },
    {
     "name": "stdout",
     "output_type": "stream",
     "text": [
      "0.8753\n",
      "{'penalty': 'l1', 'tol': 0.05}\n",
      "Perceptron(alpha=0.0001, class_weight=None, early_stopping=False, eta0=1.0,\n",
      "           fit_intercept=True, max_iter=1000, n_iter_no_change=5, n_jobs=None,\n",
      "           penalty='l1', random_state=0, shuffle=True, tol=0.05,\n",
      "           validation_fraction=0.1, verbose=0, warm_start=False)\n"
     ]
    }
   ],
   "source": [
    "from sklearn.linear_model import Perceptron\n",
    "clf_Perceptron = Perceptron(random_state=0)\n",
    "param_grid = { 'penalty': ['l1','l2'], 'tol': [0.05, 0.1] }\n",
    "GridCV_Perceptron = GridSearchCV(clf_Perceptron, param_grid, verbose=1, cv=5)\n",
    "GridCV_Perceptron.fit(X_train,y_train)\n",
    "score_grid_Perceptron = get_best_score(GridCV_Perceptron)"
   ]
  },
  {
   "cell_type": "code",
   "execution_count": 20,
   "metadata": {
    "_uuid": "a837cd6234557015c8326cd281107d2209ca8a40"
   },
   "outputs": [],
   "source": [
    "pred_val_perc = GridCV_Perceptron.predict(X_val)"
   ]
  },
  {
   "cell_type": "code",
   "execution_count": 21,
   "metadata": {
    "_uuid": "e8fcea4c58c1467b7e6f9d1990e4b924180786e2"
   },
   "outputs": [
    {
     "name": "stdout",
     "output_type": "stream",
     "text": [
      "Classification Report\n",
      "              precision    recall  f1-score   support\n",
      "\n",
      "           0       0.95      0.96      0.96       998\n",
      "           1       0.91      0.95      0.93      1127\n",
      "           2       0.91      0.86      0.88       967\n",
      "           3       0.85      0.88      0.87      1060\n",
      "           4       0.90      0.87      0.88       914\n",
      "           5       0.84      0.83      0.84       914\n",
      "           6       0.93      0.95      0.94       951\n",
      "           7       0.84      0.93      0.88      1066\n",
      "           8       0.78      0.82      0.80       995\n",
      "           9       0.90      0.72      0.80      1008\n",
      "\n",
      "    accuracy                           0.88     10000\n",
      "   macro avg       0.88      0.88      0.88     10000\n",
      "weighted avg       0.88      0.88      0.88     10000\n",
      "\n",
      "Accuracy : 0.8787\n"
     ]
    }
   ],
   "source": [
    "acc_perc = print_validation_report(y_val, pred_val_perc)"
   ]
  },
  {
   "cell_type": "code",
   "execution_count": 22,
   "metadata": {
    "_uuid": "8290c219c3d81cb6856231e6360f70a5f65481c9"
   },
   "outputs": [
    {
     "data": {
      "image/png": "[encoded data removed]",
      "text/plain": [
       "<Figure size 576x576 with 1 Axes>"
      ]
     },
     "metadata": {
      "needs_background": "light"
     },
     "output_type": "display_data"
    }
   ],
   "source": [
    "plot_confusion_matrix(y_val, pred_val_perc)"
   ]
  },
  {
   "cell_type": "markdown",
   "metadata": {
    "_uuid": "d0c06780cfac00efcde0a07784785b9b68e55c14"
   },
   "source": [
    "### Logistic Regression"
   ]
  },
  {
   "cell_type": "code",
   "execution_count": 23,
   "metadata": {
    "_uuid": "6509cf8da9e4666006dc7b72f55bb510ef29309c"
   },
   "outputs": [
    {
     "name": "stdout",
     "output_type": "stream",
     "text": [
      "Fitting 5 folds for each of 2 candidates, totalling 10 fits\n"
     ]
    },
    {
     "name": "stderr",
     "output_type": "stream",
     "text": [
      "[Parallel(n_jobs=1)]: Using backend SequentialBackend with 1 concurrent workers.\n",
      "[Parallel(n_jobs=1)]: Done  10 out of  10 | elapsed:  1.0min finished\n"
     ]
    },
    {
     "name": "stdout",
     "output_type": "stream",
     "text": [
      "0.8723\n",
      "{'C': 0.014, 'multi_class': 'multinomial', 'penalty': 'l1', 'solver': 'saga', 'tol': 0.1}\n",
      "LogisticRegression(C=0.014, class_weight=None, dual=False, fit_intercept=True,\n",
      "                   intercept_scaling=1, l1_ratio=None, max_iter=100,\n",
      "                   multi_class='multinomial', n_jobs=None, penalty='l1',\n",
      "                   random_state=0, solver='saga', tol=0.1, verbose=0,\n",
      "                   warm_start=False)\n"
     ]
    }
   ],
   "source": [
    "from sklearn.linear_model import LogisticRegression\n",
    "clf_LR = LogisticRegression(random_state=0)\n",
    "param_grid = {'C': [0.014,0.012], 'multi_class': ['multinomial'],  \n",
    "              'penalty': ['l1'],'solver': ['saga'], 'tol': [0.1] }\n",
    "GridCV_LR = GridSearchCV(clf_LR, param_grid, verbose=1, cv=5)\n",
    "GridCV_LR.fit(X_train,y_train)\n",
    "score_grid_LR = get_best_score(GridCV_LR)"
   ]
  },
  {
   "cell_type": "code",
   "execution_count": 24,
   "metadata": {
    "_uuid": "47ff8a03c200fe2984be94514008591c5ba37c47"
   },
   "outputs": [
    {
     "name": "stdout",
     "output_type": "stream",
     "text": [
      "Classification Report\n",
      "              precision    recall  f1-score   support\n",
      "\n",
      "           0       0.92      0.95      0.94       998\n",
      "           1       0.88      0.98      0.93      1127\n",
      "           2       0.89      0.87      0.88       967\n",
      "           3       0.87      0.84      0.86      1060\n",
      "           4       0.86      0.90      0.88       914\n",
      "           5       0.84      0.79      0.82       914\n",
      "           6       0.90      0.92      0.91       951\n",
      "           7       0.90      0.89      0.89      1066\n",
      "           8       0.89      0.80      0.84       995\n",
      "           9       0.84      0.83      0.83      1008\n",
      "\n",
      "    accuracy                           0.88     10000\n",
      "   macro avg       0.88      0.88      0.88     10000\n",
      "weighted avg       0.88      0.88      0.88     10000\n",
      "\n",
      "Accuracy : 0.8789\n"
     ]
    }
   ],
   "source": [
    "pred_val_lr = GridCV_LR.predict(X_val)\n",
    "acc_lr = print_validation_report(y_val, pred_val_lr)"
   ]
  },
  {
   "cell_type": "code",
   "execution_count": 25,
   "metadata": {
    "_uuid": "ef5fd871318e6d17943399294ac149c5a10680af"
   },
   "outputs": [
    {
     "data": {
      "image/png": "[encoded data removed]",
      "text/plain": [
       "<Figure size 576x576 with 1 Axes>"
      ]
     },
     "metadata": {
      "needs_background": "light"
     },
     "output_type": "display_data"
    }
   ],
   "source": [
    "plot_confusion_matrix(y_val, pred_val_lr)"
   ]
  },
  {
   "cell_type": "code",
   "execution_count": null,
   "metadata": {},
   "outputs": [],
   "source": []
  },
  {
   "cell_type": "markdown",
   "metadata": {},
   "source": [
    "### KNN"
   ]
  },
  {
   "cell_type": "markdown",
   "metadata": {},
   "source": [
    "Using GridSearchCV with KNN takes very long for this dataset.  \n",
    "Therefore I fit the data with one parameter: neighbors = 10  \n",
    "The resulting accuracy is already quite good."
   ]
  },
  {
   "cell_type": "code",
   "execution_count": 26,
   "metadata": {},
   "outputs": [
    {
     "data": {
      "text/plain": [
       "KNeighborsClassifier(algorithm='auto', leaf_size=30, metric='minkowski',\n",
       "                     metric_params=None, n_jobs=None, n_neighbors=10, p=2,\n",
       "                     weights='uniform')"
      ]
     },
     "execution_count": 26,
     "metadata": {},
     "output_type": "execute_result"
    }
   ],
   "source": [
    "from sklearn.neighbors import KNeighborsClassifier\n",
    "clf_knn = KNeighborsClassifier(n_neighbors=10)\n",
    "clf_knn.fit(X_train,y_train)"
   ]
  },
  {
   "cell_type": "code",
   "execution_count": 27,
   "metadata": {},
   "outputs": [
    {
     "name": "stdout",
     "output_type": "stream",
     "text": [
      "Classification Report\n",
      "              precision    recall  f1-score   support\n",
      "\n",
      "           0       0.97      0.99      0.98       998\n",
      "           1       0.93      1.00      0.96      1127\n",
      "           2       0.98      0.95      0.97       967\n",
      "           3       0.97      0.96      0.97      1060\n",
      "           4       0.98      0.96      0.97       914\n",
      "           5       0.96      0.96      0.96       914\n",
      "           6       0.97      0.99      0.98       951\n",
      "           7       0.95      0.97      0.96      1066\n",
      "           8       0.99      0.92      0.95       995\n",
      "           9       0.95      0.94      0.94      1008\n",
      "\n",
      "    accuracy                           0.96     10000\n",
      "   macro avg       0.97      0.96      0.96     10000\n",
      "weighted avg       0.96      0.96      0.96     10000\n",
      "\n",
      "Accuracy : 0.9638\n"
     ]
    }
   ],
   "source": [
    "pred_val_knn = clf_knn.predict(X_val)\n",
    "acc_knn = print_validation_report(y_val, pred_val_knn)"
   ]
  },
  {
   "cell_type": "code",
   "execution_count": 28,
   "metadata": {},
   "outputs": [
    {
     "data": {
      "image/png": "[encoded data removed]",
      "text/plain": [
       "<Figure size 576x576 with 1 Axes>"
      ]
     },
     "metadata": {
      "needs_background": "light"
     },
     "output_type": "display_data"
    }
   ],
   "source": [
    "plot_confusion_matrix(y_val, pred_val_knn)"
   ]
  },
  {
   "cell_type": "code",
   "execution_count": null,
   "metadata": {},
   "outputs": [],
   "source": []
  },
  {
   "cell_type": "markdown",
   "metadata": {
    "_uuid": "cd8341887be07bc821a1a9033c77543d9e788f9e"
   },
   "source": [
    "### Random Forest Classifier"
   ]
  },
  {
   "cell_type": "code",
   "execution_count": 29,
   "metadata": {
    "_uuid": "b93fae420be63286ee5048491f5db002dd081b7a"
   },
   "outputs": [
    {
     "name": "stdout",
     "output_type": "stream",
     "text": [
      "Fitting 5 folds for each of 1 candidates, totalling 5 fits\n"
     ]
    },
    {
     "name": "stderr",
     "output_type": "stream",
     "text": [
      "[Parallel(n_jobs=1)]: Using backend SequentialBackend with 1 concurrent workers.\n",
      "[Parallel(n_jobs=1)]: Done   5 out of   5 | elapsed:  2.4min finished\n"
     ]
    },
    {
     "name": "stdout",
     "output_type": "stream",
     "text": [
      "0.9543666666666667\n",
      "{'max_depth': 15, 'max_features': 100, 'min_samples_split': 5, 'n_estimators': 50}\n",
      "RandomForestClassifier(bootstrap=True, class_weight=None, criterion='gini',\n",
      "                       max_depth=15, max_features=100, max_leaf_nodes=None,\n",
      "                       min_impurity_decrease=0.0, min_impurity_split=None,\n",
      "                       min_samples_leaf=1, min_samples_split=5,\n",
      "                       min_weight_fraction_leaf=0.0, n_estimators=50,\n",
      "                       n_jobs=None, oob_score=False, random_state=0, verbose=0,\n",
      "                       warm_start=False)\n"
     ]
    }
   ],
   "source": [
    "from sklearn.ensemble import RandomForestClassifier\n",
    "clf_RF = RandomForestClassifier(random_state=0)\n",
    "param_grid = {'max_depth': [15], 'max_features': [100],  \n",
    "              'min_samples_split': [5],'n_estimators' : [50] }\n",
    "GridCV_RF = GridSearchCV(clf_RF, param_grid, verbose=1, cv=5)\n",
    "GridCV_RF.fit(X_train,y_train)\n",
    "score_grid_RF = get_best_score(GridCV_RF)"
   ]
  },
  {
   "cell_type": "markdown",
   "metadata": {
    "_uuid": "bd62903ef129eb9942ef3e39a943cacbc4d67482"
   },
   "source": [
    "'RandomForestClassifier' object has no attribute 'loss_curve_'"
   ]
  },
  {
   "cell_type": "code",
   "execution_count": 30,
   "metadata": {
    "_uuid": "d42a0976e9aa538de2b8420c2a288f5dc700bff6"
   },
   "outputs": [],
   "source": [
    "pred_val_rf = GridCV_RF.predict(X_val)"
   ]
  },
  {
   "cell_type": "code",
   "execution_count": 31,
   "metadata": {
    "_uuid": "afb30f89aa77e995e817dd01df9763379d10178f"
   },
   "outputs": [
    {
     "name": "stdout",
     "output_type": "stream",
     "text": [
      "Classification Report\n",
      "              precision    recall  f1-score   support\n",
      "\n",
      "           0       0.97      0.98      0.98       998\n",
      "           1       0.97      0.99      0.98      1127\n",
      "           2       0.95      0.97      0.96       967\n",
      "           3       0.96      0.93      0.94      1060\n",
      "           4       0.96      0.96      0.96       914\n",
      "           5       0.97      0.96      0.96       914\n",
      "           6       0.97      0.97      0.97       951\n",
      "           7       0.96      0.96      0.96      1066\n",
      "           8       0.95      0.95      0.95       995\n",
      "           9       0.93      0.93      0.93      1008\n",
      "\n",
      "    accuracy                           0.96     10000\n",
      "   macro avg       0.96      0.96      0.96     10000\n",
      "weighted avg       0.96      0.96      0.96     10000\n",
      "\n",
      "Accuracy : 0.9596\n"
     ]
    }
   ],
   "source": [
    "acc_rf = print_validation_report(y_val, pred_val_rf)"
   ]
  },
  {
   "cell_type": "code",
   "execution_count": 32,
   "metadata": {
    "_uuid": "070d70f7866ba9f35d1a38f37365f38439db5b88"
   },
   "outputs": [
    {
     "data": {
      "image/png": "[encoded data removed]",
      "text/plain": [
       "<Figure size 576x576 with 1 Axes>"
      ]
     },
     "metadata": {
      "needs_background": "light"
     },
     "output_type": "display_data"
    }
   ],
   "source": [
    "plot_confusion_matrix(y_val, pred_val_rf)"
   ]
  },
  {
   "cell_type": "code",
   "execution_count": null,
   "metadata": {},
   "outputs": [],
   "source": []
  },
  {
   "cell_type": "markdown",
   "metadata": {},
   "source": [
    "### Support Vector Machine Classifier"
   ]
  },
  {
   "cell_type": "markdown",
   "metadata": {},
   "source": [
    "Like for KNN, GridSearchCV for SVM takes very long, so I only fit one good set of parameters here."
   ]
  },
  {
   "cell_type": "code",
   "execution_count": 33,
   "metadata": {},
   "outputs": [
    {
     "data": {
      "text/plain": [
       "SVC(C=5, cache_size=200, class_weight=None, coef0=0.0,\n",
       "    decision_function_shape='ovr', degree=3, gamma=0.05, kernel='rbf',\n",
       "    max_iter=-1, probability=False, random_state=0, shrinking=True, tol=0.001,\n",
       "    verbose=False)"
      ]
     },
     "execution_count": 33,
     "metadata": {},
     "output_type": "execute_result"
    }
   ],
   "source": [
    "from sklearn.svm import SVC\n",
    "clf_svm = SVC(C=5, gamma=0.05, kernel='rbf', random_state=0)\n",
    "clf_svm.fit(X_train,y_train)"
   ]
  },
  {
   "cell_type": "code",
   "execution_count": 34,
   "metadata": {},
   "outputs": [
    {
     "name": "stdout",
     "output_type": "stream",
     "text": [
      "Classification Report\n",
      "              precision    recall  f1-score   support\n",
      "\n",
      "           0       0.98      0.99      0.99       998\n",
      "           1       0.99      0.99      0.99      1127\n",
      "           2       0.97      0.99      0.98       967\n",
      "           3       0.98      0.97      0.98      1060\n",
      "           4       0.98      0.97      0.98       914\n",
      "           5       0.98      0.98      0.98       914\n",
      "           6       0.99      0.99      0.99       951\n",
      "           7       0.98      0.98      0.98      1066\n",
      "           8       0.98      0.98      0.98       995\n",
      "           9       0.98      0.96      0.97      1008\n",
      "\n",
      "    accuracy                           0.98     10000\n",
      "   macro avg       0.98      0.98      0.98     10000\n",
      "weighted avg       0.98      0.98      0.98     10000\n",
      "\n",
      "Accuracy : 0.9808\n"
     ]
    }
   ],
   "source": [
    "pred_val_svm = clf_svm.predict(X_val)\n",
    "acc_svm = print_validation_report(y_val, pred_val_svm)"
   ]
  },
  {
   "cell_type": "code",
   "execution_count": 35,
   "metadata": {},
   "outputs": [
    {
     "data": {
      "image/png": "[encoded data removed]",
      "text/plain": [
       "<Figure size 576x576 with 1 Axes>"
      ]
     },
     "metadata": {
      "needs_background": "light"
     },
     "output_type": "display_data"
    }
   ],
   "source": [
    "plot_confusion_matrix(y_val, pred_val_svm)"
   ]
  },
  {
   "cell_type": "code",
   "execution_count": null,
   "metadata": {},
   "outputs": [],
   "source": []
  },
  {
   "cell_type": "markdown",
   "metadata": {
    "_uuid": "716f78e7643e6ec7053c036588f2d93a85ac6d46"
   },
   "source": [
    "### Multi Layer Perceptron"
   ]
  },
  {
   "cell_type": "code",
   "execution_count": 36,
   "metadata": {
    "_uuid": "3658d5421e64553a02fa77736f671dd96adce9e5"
   },
   "outputs": [],
   "source": [
    "batchsize = int(nr_samples/15) "
   ]
  },
  {
   "cell_type": "code",
   "execution_count": 37,
   "metadata": {
    "_uuid": "e15b9d68379a260c295e8b957669d3440af34a48"
   },
   "outputs": [
    {
     "name": "stdout",
     "output_type": "stream",
     "text": [
      "Fitting 3 folds for each of 2 candidates, totalling 6 fits\n"
     ]
    },
    {
     "name": "stderr",
     "output_type": "stream",
     "text": [
      "[Parallel(n_jobs=1)]: Using backend SequentialBackend with 1 concurrent workers.\n",
      "[Parallel(n_jobs=1)]: Done   6 out of   6 | elapsed: 29.8min finished\n"
     ]
    },
    {
     "name": "stdout",
     "output_type": "stream",
     "text": [
      "0.9497\n",
      "{'alpha': 0.0001, 'batch_size': 2000, 'learning_rate_init': 0.06, 'max_iter': 600, 'solver': 'sgd', 'tol': 0.0001}\n",
      "MLPClassifier(activation='logistic', alpha=0.0001, batch_size=2000, beta_1=0.9,\n",
      "              beta_2=0.999, early_stopping=False, epsilon=1e-08,\n",
      "              hidden_layer_sizes=(200,), learning_rate='constant',\n",
      "              learning_rate_init=0.06, max_iter=600, momentum=0.9,\n",
      "              n_iter_no_change=10, nesterovs_momentum=True, power_t=0.5,\n",
      "              random_state=0, shuffle=True, solver='sgd', tol=0.0001,\n",
      "              validation_fraction=0.1, verbose=False, warm_start=False)\n"
     ]
    }
   ],
   "source": [
    "from sklearn.neural_network import MLPClassifier\n",
    "\n",
    "clf_mlp = MLPClassifier(activation = \"logistic\", hidden_layer_sizes=(200,), random_state=0)\n",
    "param_grid = { 'batch_size' : [batchsize] , 'max_iter': [600], 'alpha': [1e-4], \n",
    "               'solver': ['sgd'], 'learning_rate_init': [0.05,0.06],'tol': [1e-4] }\n",
    "    \n",
    "GridCV_MLP = GridSearchCV(clf_mlp, param_grid, verbose=1, cv=3)\n",
    "GridCV_MLP.fit(X_train,y_train)\n",
    "score_grid_MLP = get_best_score(GridCV_MLP)   "
   ]
  },
  {
   "cell_type": "code",
   "execution_count": 38,
   "metadata": {
    "_uuid": "4ee434b45062ad02a390b2166cc5965b832eca45"
   },
   "outputs": [
    {
     "data": {
      "image/png": "[encoded data removed]",
      "text/plain": [
       "<Figure size 432x216 with 1 Axes>"
      ]
     },
     "metadata": {
      "needs_background": "light"
     },
     "output_type": "display_data"
    }
   ],
   "source": [
    "fig, ax = plt.subplots(figsize=(6,3))\n",
    "ax.plot(GridCV_MLP.best_estimator_.loss_curve_)\n",
    "\n",
    "plt.xlabel(\"number of steps\") \n",
    "plt.ylabel(\"Loss During GD\")\n",
    "plt.title(\"loss function\")\n",
    "plt.show()"
   ]
  },
  {
   "cell_type": "code",
   "execution_count": 39,
   "metadata": {
    "_uuid": "f459f1891db4014d53e8b3095b194257c67a35fe"
   },
   "outputs": [],
   "source": [
    "pred_val_mlp = GridCV_MLP.predict(X_val)"
   ]
  },
  {
   "cell_type": "code",
   "execution_count": 40,
   "metadata": {
    "_uuid": "b7d06686ac5bfe2d4564f340bb2e65fba84c91ef"
   },
   "outputs": [
    {
     "name": "stdout",
     "output_type": "stream",
     "text": [
      "Classification Report\n",
      "              precision    recall  f1-score   support\n",
      "\n",
      "           0       0.98      0.98      0.98       998\n",
      "           1       0.98      0.99      0.98      1127\n",
      "           2       0.98      0.97      0.98       967\n",
      "           3       0.97      0.97      0.97      1060\n",
      "           4       0.97      0.97      0.97       914\n",
      "           5       0.97      0.96      0.97       914\n",
      "           6       0.97      0.98      0.98       951\n",
      "           7       0.97      0.97      0.97      1066\n",
      "           8       0.97      0.97      0.97       995\n",
      "           9       0.96      0.95      0.95      1008\n",
      "\n",
      "    accuracy                           0.97     10000\n",
      "   macro avg       0.97      0.97      0.97     10000\n",
      "weighted avg       0.97      0.97      0.97     10000\n",
      "\n",
      "Accuracy : 0.9723\n"
     ]
    }
   ],
   "source": [
    "acc_mlp = print_validation_report(y_val, pred_val_mlp)"
   ]
  },
  {
   "cell_type": "code",
   "execution_count": 41,
   "metadata": {
    "_uuid": "a535848bbfce597e6d669765a96ca51e42983338"
   },
   "outputs": [
    {
     "data": {
      "image/png": "[encoded data removed]",
      "text/plain": [
       "<Figure size 576x576 with 1 Axes>"
      ]
     },
     "metadata": {
      "needs_background": "light"
     },
     "output_type": "display_data"
    }
   ],
   "source": [
    "plot_confusion_matrix(y_val, pred_val_mlp)"
   ]
  },
  {
   "cell_type": "code",
   "execution_count": null,
   "metadata": {
    "_uuid": "097ae27f3bbfd09c5b1ba7d62f59282fca453087"
   },
   "outputs": [],
   "source": []
  },
  {
   "cell_type": "code",
   "execution_count": null,
   "metadata": {
    "_uuid": "b4a55bacaddeed8be4b5ebdb6f6144558a1ab478"
   },
   "outputs": [],
   "source": []
  },
  {
   "cell_type": "markdown",
   "metadata": {
    "_uuid": "143c1fb5c6bc3717dc777320e3f7dcce7d4c0ac3"
   },
   "source": [
    "# Part 3: NN Classifiers with Keras"
   ]
  },
  {
   "cell_type": "code",
   "execution_count": 42,
   "metadata": {
    "_uuid": "470be43f625218e38f19c27bb36e8b05f3e12eef"
   },
   "outputs": [],
   "source": [
    "y_train = to_categorical(y_train, 10)\n",
    "y_val_10 = to_categorical(y_val, 10)"
   ]
  },
  {
   "cell_type": "markdown",
   "metadata": {
    "_uuid": "16450c1055090761ba1bf1ab7f15f4fbbee6322b"
   },
   "source": [
    "## 3.1 Fully-Connected Neural Networks  \n",
    "dense layers : every node is connected to every other node in the next layer"
   ]
  },
  {
   "cell_type": "markdown",
   "metadata": {
    "_uuid": "3c484e94988c360c58c7b740c84f6cd679a70f9d"
   },
   "source": [
    "### 3.1.1 Keras: only input and output layer"
   ]
  },
  {
   "cell_type": "code",
   "execution_count": 43,
   "metadata": {
    "_uuid": "fc358789c6fbf0c32509647e895fa6d52d2c23d6"
   },
   "outputs": [],
   "source": [
    "def dense_model_0():\n",
    "    model = Sequential()\n",
    "    model.add(Dense(10, input_dim=784, activation='softmax'))\n",
    "    model.compile(loss='categorical_crossentropy', optimizer='adam', metrics=['accuracy'])\n",
    "    return model"
   ]
  },
  {
   "cell_type": "code",
   "execution_count": 44,
   "metadata": {
    "_uuid": "48a5a62896ef961e959086b8450c3f9212db1302"
   },
   "outputs": [
    {
     "name": "stdout",
     "output_type": "stream",
     "text": [
      "_________________________________________________________________\n",
      "Layer (type)                 Output Shape              Param #   \n",
      "=================================================================\n",
      "dense_1 (Dense)              (None, 10)                7850      \n",
      "=================================================================\n",
      "Total params: 7,850\n",
      "Trainable params: 7,850\n",
      "Non-trainable params: 0\n",
      "_________________________________________________________________\n"
     ]
    }
   ],
   "source": [
    "model_dense_0 = dense_model_0()\n",
    "model_dense_0.summary()"
   ]
  },
  {
   "cell_type": "code",
   "execution_count": 45,
   "metadata": {
    "_kg_hide-output": true,
    "_uuid": "ffacc9b33d66d05f52dd2f45889ebe9b0478ad35"
   },
   "outputs": [
    {
     "name": "stdout",
     "output_type": "stream",
     "text": [
      "Epoch 1/50\n",
      "30000/30000 [==============================] - 2s 74us/step - loss: 2.0889 - acc: 0.2719\n",
      "Epoch 2/50\n",
      "30000/30000 [==============================] - 2s 55us/step - loss: 1.5427 - acc: 0.6654\n",
      "Epoch 3/50\n",
      "30000/30000 [==============================] - 2s 55us/step - loss: 1.1893 - acc: 0.7748\n",
      "Epoch 4/50\n",
      "30000/30000 [==============================] - 2s 55us/step - loss: 0.9747 - acc: 0.8066\n",
      "Epoch 5/50\n",
      "30000/30000 [==============================] - 2s 54us/step - loss: 0.8395 - acc: 0.8277\n",
      "Epoch 6/50\n",
      "30000/30000 [==============================] - 2s 56us/step - loss: 0.7487 - acc: 0.8400\n",
      "Epoch 7/50\n",
      "30000/30000 [==============================] - 2s 62us/step - loss: 0.6835 - acc: 0.8497\n",
      "Epoch 8/50\n",
      "30000/30000 [==============================] - 2s 63us/step - loss: 0.6338 - acc: 0.8577\n",
      "Epoch 9/50\n",
      "30000/30000 [==============================] - 2s 62us/step - loss: 0.5950 - acc: 0.8636\n",
      "Epoch 10/50\n",
      "30000/30000 [==============================] - 2s 57us/step - loss: 0.5632 - acc: 0.8678\n",
      "Epoch 11/50\n",
      "30000/30000 [==============================] - 2s 58us/step - loss: 0.5371 - acc: 0.8729\n",
      "Epoch 12/50\n",
      "30000/30000 [==============================] - 2s 57us/step - loss: 0.5148 - acc: 0.8756\n",
      "Epoch 13/50\n",
      "30000/30000 [==============================] - 2s 58us/step - loss: 0.4959 - acc: 0.8793\n",
      "Epoch 14/50\n",
      "30000/30000 [==============================] - 2s 64us/step - loss: 0.4793 - acc: 0.8808\n",
      "Epoch 15/50\n",
      "30000/30000 [==============================] - 2s 62us/step - loss: 0.4649 - acc: 0.8836\n",
      "Epoch 16/50\n",
      "30000/30000 [==============================] - 2s 64us/step - loss: 0.4523 - acc: 0.8857\n",
      "Epoch 17/50\n",
      "30000/30000 [==============================] - 2s 60us/step - loss: 0.4406 - acc: 0.8880\n",
      "Epoch 18/50\n",
      "30000/30000 [==============================] - 2s 62us/step - loss: 0.4305 - acc: 0.8897\n",
      "Epoch 19/50\n",
      "30000/30000 [==============================] - 2s 64us/step - loss: 0.4211 - acc: 0.8918\n",
      "Epoch 20/50\n",
      "30000/30000 [==============================] - 2s 64us/step - loss: 0.4126 - acc: 0.8934\n",
      "Epoch 21/50\n",
      "30000/30000 [==============================] - 2s 63us/step - loss: 0.4049 - acc: 0.8954\n",
      "Epoch 22/50\n",
      "30000/30000 [==============================] - 2s 63us/step - loss: 0.3977 - acc: 0.8967\n",
      "Epoch 23/50\n",
      "30000/30000 [==============================] - 2s 56us/step - loss: 0.3912 - acc: 0.8977\n",
      "Epoch 24/50\n",
      "30000/30000 [==============================] - 2s 60us/step - loss: 0.3853 - acc: 0.9000\n",
      "Epoch 25/50\n",
      "30000/30000 [==============================] - 2s 64us/step - loss: 0.3795 - acc: 0.9009\n",
      "Epoch 26/50\n",
      "30000/30000 [==============================] - 2s 67us/step - loss: 0.3742 - acc: 0.9026\n",
      "Epoch 27/50\n",
      "30000/30000 [==============================] - 2s 66us/step - loss: 0.3694 - acc: 0.9031\n",
      "Epoch 28/50\n",
      "30000/30000 [==============================] - 2s 64us/step - loss: 0.3648 - acc: 0.9041\n",
      "Epoch 29/50\n",
      "30000/30000 [==============================] - 2s 61us/step - loss: 0.3605 - acc: 0.9047\n",
      "Epoch 30/50\n",
      "30000/30000 [==============================] - 2s 59us/step - loss: 0.3564 - acc: 0.9060\n",
      "Epoch 31/50\n",
      "30000/30000 [==============================] - 2s 56us/step - loss: 0.3525 - acc: 0.9063\n",
      "Epoch 32/50\n",
      "30000/30000 [==============================] - 2s 63us/step - loss: 0.3489 - acc: 0.9071\n",
      "Epoch 33/50\n",
      "30000/30000 [==============================] - 2s 64us/step - loss: 0.3455 - acc: 0.9080\n",
      "Epoch 34/50\n",
      "30000/30000 [==============================] - 2s 63us/step - loss: 0.3422 - acc: 0.9082\n",
      "Epoch 35/50\n",
      "30000/30000 [==============================] - 2s 58us/step - loss: 0.3391 - acc: 0.9090\n",
      "Epoch 36/50\n",
      "30000/30000 [==============================] - 2s 61us/step - loss: 0.3362 - acc: 0.9099\n",
      "Epoch 37/50\n",
      "30000/30000 [==============================] - 2s 59us/step - loss: 0.3333 - acc: 0.9104\n",
      "Epoch 38/50\n",
      "30000/30000 [==============================] - 2s 63us/step - loss: 0.3306 - acc: 0.9114\n",
      "Epoch 39/50\n",
      "30000/30000 [==============================] - 2s 64us/step - loss: 0.3280 - acc: 0.9120\n",
      "Epoch 40/50\n",
      "30000/30000 [==============================] - 2s 65us/step - loss: 0.3256 - acc: 0.9122\n",
      "Epoch 41/50\n",
      "30000/30000 [==============================] - 2s 63us/step - loss: 0.3232 - acc: 0.9131\n",
      "Epoch 42/50\n",
      "30000/30000 [==============================] - 2s 61us/step - loss: 0.3209 - acc: 0.9133\n",
      "Epoch 43/50\n",
      "30000/30000 [==============================] - 2s 62us/step - loss: 0.3187 - acc: 0.9148\n",
      "Epoch 44/50\n",
      "30000/30000 [==============================] - 2s 63us/step - loss: 0.3167 - acc: 0.9147\n",
      "Epoch 45/50\n",
      "30000/30000 [==============================] - 2s 59us/step - loss: 0.3147 - acc: 0.9152\n",
      "Epoch 46/50\n",
      "30000/30000 [==============================] - 2s 60us/step - loss: 0.3126 - acc: 0.9157\n",
      "Epoch 47/50\n",
      "30000/30000 [==============================] - 2s 62us/step - loss: 0.3109 - acc: 0.9160\n",
      "Epoch 48/50\n",
      "30000/30000 [==============================] - 2s 65us/step - loss: 0.3090 - acc: 0.9166\n",
      "Epoch 49/50\n",
      "30000/30000 [==============================] - 2s 60us/step - loss: 0.3072 - acc: 0.9166\n",
      "Epoch 50/50\n",
      "30000/30000 [==============================] - 2s 58us/step - loss: 0.3055 - acc: 0.9171\n"
     ]
    },
    {
     "data": {
      "text/plain": [
       "<keras.callbacks.History at 0x7f4e6e07fb00>"
      ]
     },
     "execution_count": 45,
     "metadata": {},
     "output_type": "execute_result"
    }
   ],
   "source": [
    "model_dense_0.fit(X_train, y_train, epochs=50, batch_size=batchsize)"
   ]
  },
  {
   "cell_type": "code",
   "execution_count": 46,
   "metadata": {
    "_uuid": "6d6ff3ada3417c10d34f1ededd39767e917981c3"
   },
   "outputs": [],
   "source": [
    "pred_val_dense0 = model_dense_0.predict_classes(X_val)"
   ]
  },
  {
   "cell_type": "code",
   "execution_count": 47,
   "metadata": {
    "_uuid": "f55b909222491635ae3d91fb5b7900bbc2bd1e04"
   },
   "outputs": [
    {
     "name": "stdout",
     "output_type": "stream",
     "text": [
      "Classification Report\n",
      "              precision    recall  f1-score   support\n",
      "\n",
      "           0       0.95      0.96      0.96       998\n",
      "           1       0.93      0.98      0.96      1127\n",
      "           2       0.91      0.89      0.90       967\n",
      "           3       0.91      0.90      0.90      1060\n",
      "           4       0.92      0.93      0.92       914\n",
      "           5       0.91      0.85      0.88       914\n",
      "           6       0.93      0.95      0.94       951\n",
      "           7       0.93      0.92      0.93      1066\n",
      "           8       0.88      0.88      0.88       995\n",
      "           9       0.88      0.90      0.89      1008\n",
      "\n",
      "    accuracy                           0.92     10000\n",
      "   macro avg       0.92      0.92      0.92     10000\n",
      "weighted avg       0.92      0.92      0.92     10000\n",
      "\n",
      "Accuracy : 0.9164\n"
     ]
    }
   ],
   "source": [
    "acc_fc0 = print_validation_report(y_val, pred_val_dense0)"
   ]
  },
  {
   "cell_type": "code",
   "execution_count": 48,
   "metadata": {
    "_uuid": "75140ffcb2a90a14caf9c1c5dd280dca80a12a24"
   },
   "outputs": [
    {
     "data": {
      "image/png": "[encoded data removed]",
      "text/plain": [
       "<Figure size 576x576 with 1 Axes>"
      ]
     },
     "metadata": {
      "needs_background": "light"
     },
     "output_type": "display_data"
    }
   ],
   "source": [
    "plot_confusion_matrix(y_val, pred_val_dense0)"
   ]
  },
  {
   "cell_type": "code",
   "execution_count": null,
   "metadata": {
    "_uuid": "c932a17421c381b2457aef0799fd19a57da1e6a5"
   },
   "outputs": [],
   "source": []
  },
  {
   "cell_type": "markdown",
   "metadata": {
    "_uuid": "b01e3e51fba907baa34d4aafbde9f8715b9e201e"
   },
   "source": [
    "### Keras: 1 hidden layer"
   ]
  },
  {
   "cell_type": "code",
   "execution_count": 49,
   "metadata": {
    "_uuid": "73b54c77ec3ec628e4ccf9e6c44754a00b16cfea"
   },
   "outputs": [],
   "source": [
    "def dense_model_1():\n",
    "    model = Sequential()\n",
    "    model.add(Dense(100, input_dim=784, activation='relu'))\n",
    "    model.add(Dense(10, activation='softmax'))\n",
    "    model.compile(loss='categorical_crossentropy', optimizer='adam', metrics=['accuracy'])\n",
    "    return model"
   ]
  },
  {
   "cell_type": "code",
   "execution_count": 50,
   "metadata": {
    "_uuid": "a87ca19fa6dc47a415743eb17e42612d2fcfc5de"
   },
   "outputs": [
    {
     "name": "stdout",
     "output_type": "stream",
     "text": [
      "_________________________________________________________________\n",
      "Layer (type)                 Output Shape              Param #   \n",
      "=================================================================\n",
      "dense_2 (Dense)              (None, 100)               78500     \n",
      "_________________________________________________________________\n",
      "dense_3 (Dense)              (None, 10)                1010      \n",
      "=================================================================\n",
      "Total params: 79,510\n",
      "Trainable params: 79,510\n",
      "Non-trainable params: 0\n",
      "_________________________________________________________________\n"
     ]
    }
   ],
   "source": [
    "model_dense_1 = dense_model_1()\n",
    "model_dense_1.summary()"
   ]
  },
  {
   "cell_type": "code",
   "execution_count": 51,
   "metadata": {
    "_kg_hide-output": true,
    "_uuid": "a2587a85de2ebf23a894c8e32fc108dc6e1544fc"
   },
   "outputs": [
    {
     "name": "stdout",
     "output_type": "stream",
     "text": [
      "Train on 30000 samples, validate on 10000 samples\n",
      "Epoch 1/50\n",
      "30000/30000 [==============================] - 2s 73us/step - loss: 1.6703 - acc: 0.5495 - val_loss: 1.0272 - val_acc: 0.7822\n",
      "Epoch 2/50\n",
      "30000/30000 [==============================] - 2s 64us/step - loss: 0.7643 - acc: 0.8218 - val_loss: 0.5569 - val_acc: 0.8580\n",
      "Epoch 3/50\n",
      "30000/30000 [==============================] - 2s 69us/step - loss: 0.4903 - acc: 0.8695 - val_loss: 0.4157 - val_acc: 0.8880\n",
      "Epoch 4/50\n",
      "30000/30000 [==============================] - 2s 66us/step - loss: 0.3928 - acc: 0.8915 - val_loss: 0.3529 - val_acc: 0.9015\n",
      "Epoch 5/50\n",
      "30000/30000 [==============================] - 2s 70us/step - loss: 0.3433 - acc: 0.9057 - val_loss: 0.3164 - val_acc: 0.9112\n",
      "Epoch 6/50\n",
      "30000/30000 [==============================] - 2s 70us/step - loss: 0.3118 - acc: 0.9144 - val_loss: 0.2915 - val_acc: 0.9191\n",
      "Epoch 7/50\n",
      "30000/30000 [==============================] - 2s 69us/step - loss: 0.2888 - acc: 0.9203 - val_loss: 0.2722 - val_acc: 0.9226\n",
      "Epoch 8/50\n",
      "30000/30000 [==============================] - 2s 68us/step - loss: 0.2705 - acc: 0.9248 - val_loss: 0.2575 - val_acc: 0.9280\n",
      "Epoch 9/50\n",
      "30000/30000 [==============================] - 2s 67us/step - loss: 0.2551 - acc: 0.9292 - val_loss: 0.2455 - val_acc: 0.9294\n",
      "Epoch 10/50\n",
      "30000/30000 [==============================] - 2s 71us/step - loss: 0.2417 - acc: 0.9333 - val_loss: 0.2352 - val_acc: 0.9325\n",
      "Epoch 11/50\n",
      "30000/30000 [==============================] - 2s 69us/step - loss: 0.2301 - acc: 0.9369 - val_loss: 0.2249 - val_acc: 0.9365\n",
      "Epoch 12/50\n",
      "30000/30000 [==============================] - 2s 65us/step - loss: 0.2194 - acc: 0.9390 - val_loss: 0.2174 - val_acc: 0.9388\n",
      "Epoch 13/50\n",
      "30000/30000 [==============================] - 2s 60us/step - loss: 0.2096 - acc: 0.9420 - val_loss: 0.2118 - val_acc: 0.9398\n",
      "Epoch 14/50\n",
      "30000/30000 [==============================] - 2s 64us/step - loss: 0.2011 - acc: 0.9442 - val_loss: 0.2021 - val_acc: 0.9441\n",
      "Epoch 15/50\n",
      "30000/30000 [==============================] - 2s 66us/step - loss: 0.1926 - acc: 0.9468 - val_loss: 0.1963 - val_acc: 0.9447\n",
      "Epoch 16/50\n",
      "30000/30000 [==============================] - 2s 67us/step - loss: 0.1848 - acc: 0.9491 - val_loss: 0.1903 - val_acc: 0.9468\n",
      "Epoch 17/50\n",
      "30000/30000 [==============================] - 2s 68us/step - loss: 0.1778 - acc: 0.9514 - val_loss: 0.1858 - val_acc: 0.9468\n",
      "Epoch 18/50\n",
      "30000/30000 [==============================] - 2s 68us/step - loss: 0.1708 - acc: 0.9533 - val_loss: 0.1817 - val_acc: 0.9465\n",
      "Epoch 19/50\n",
      "30000/30000 [==============================] - 2s 67us/step - loss: 0.1650 - acc: 0.9550 - val_loss: 0.1757 - val_acc: 0.9494\n",
      "Epoch 20/50\n",
      "30000/30000 [==============================] - 2s 67us/step - loss: 0.1588 - acc: 0.9571 - val_loss: 0.1708 - val_acc: 0.9517\n",
      "Epoch 21/50\n",
      "30000/30000 [==============================] - 2s 70us/step - loss: 0.1532 - acc: 0.9583 - val_loss: 0.1676 - val_acc: 0.9513\n",
      "Epoch 22/50\n",
      "30000/30000 [==============================] - 2s 68us/step - loss: 0.1484 - acc: 0.9593 - val_loss: 0.1643 - val_acc: 0.9520\n",
      "Epoch 23/50\n",
      "30000/30000 [==============================] - 2s 69us/step - loss: 0.1437 - acc: 0.9604 - val_loss: 0.1603 - val_acc: 0.9533\n",
      "Epoch 24/50\n",
      "30000/30000 [==============================] - 2s 61us/step - loss: 0.1382 - acc: 0.9623 - val_loss: 0.1575 - val_acc: 0.9540\n",
      "Epoch 25/50\n",
      "30000/30000 [==============================] - 2s 64us/step - loss: 0.1339 - acc: 0.9634 - val_loss: 0.1547 - val_acc: 0.9546\n",
      "Epoch 26/50\n",
      "30000/30000 [==============================] - 2s 65us/step - loss: 0.1292 - acc: 0.9650 - val_loss: 0.1528 - val_acc: 0.9563\n",
      "Epoch 27/50\n",
      "30000/30000 [==============================] - 2s 69us/step - loss: 0.1257 - acc: 0.9653 - val_loss: 0.1498 - val_acc: 0.9546\n",
      "Epoch 28/50\n",
      "30000/30000 [==============================] - 2s 70us/step - loss: 0.1216 - acc: 0.9668 - val_loss: 0.1479 - val_acc: 0.9561\n",
      "Epoch 29/50\n",
      "30000/30000 [==============================] - 2s 70us/step - loss: 0.1183 - acc: 0.9680 - val_loss: 0.1451 - val_acc: 0.9579\n",
      "Epoch 30/50\n",
      "30000/30000 [==============================] - 2s 69us/step - loss: 0.1140 - acc: 0.9689 - val_loss: 0.1421 - val_acc: 0.9572\n",
      "Epoch 31/50\n",
      "30000/30000 [==============================] - 2s 67us/step - loss: 0.1108 - acc: 0.9700 - val_loss: 0.1401 - val_acc: 0.9578\n",
      "Epoch 32/50\n",
      "30000/30000 [==============================] - 2s 68us/step - loss: 0.1078 - acc: 0.9710 - val_loss: 0.1389 - val_acc: 0.9580\n",
      "Epoch 33/50\n",
      "30000/30000 [==============================] - 2s 65us/step - loss: 0.1046 - acc: 0.9716 - val_loss: 0.1366 - val_acc: 0.9588\n",
      "Epoch 34/50\n",
      "30000/30000 [==============================] - 2s 65us/step - loss: 0.1014 - acc: 0.9730 - val_loss: 0.1353 - val_acc: 0.9609\n",
      "Epoch 35/50\n",
      "30000/30000 [==============================] - 2s 68us/step - loss: 0.0982 - acc: 0.9744 - val_loss: 0.1338 - val_acc: 0.9597\n",
      "Epoch 36/50\n",
      "30000/30000 [==============================] - 2s 64us/step - loss: 0.0955 - acc: 0.9750 - val_loss: 0.1318 - val_acc: 0.9614\n",
      "Epoch 37/50\n",
      "30000/30000 [==============================] - 2s 65us/step - loss: 0.0927 - acc: 0.9757 - val_loss: 0.1313 - val_acc: 0.9609\n",
      "Epoch 38/50\n",
      "30000/30000 [==============================] - 2s 62us/step - loss: 0.0903 - acc: 0.9768 - val_loss: 0.1299 - val_acc: 0.9598\n",
      "Epoch 39/50\n",
      "30000/30000 [==============================] - 2s 66us/step - loss: 0.0886 - acc: 0.9771 - val_loss: 0.1285 - val_acc: 0.9604\n",
      "Epoch 40/50\n",
      "30000/30000 [==============================] - 2s 70us/step - loss: 0.0858 - acc: 0.9776 - val_loss: 0.1268 - val_acc: 0.9615\n",
      "Epoch 41/50\n",
      "30000/30000 [==============================] - 2s 65us/step - loss: 0.0831 - acc: 0.9784 - val_loss: 0.1249 - val_acc: 0.9622\n",
      "Epoch 42/50\n",
      "30000/30000 [==============================] - 2s 63us/step - loss: 0.0809 - acc: 0.9793 - val_loss: 0.1241 - val_acc: 0.9620\n",
      "Epoch 43/50\n",
      "30000/30000 [==============================] - 2s 66us/step - loss: 0.0782 - acc: 0.9800 - val_loss: 0.1236 - val_acc: 0.9614\n",
      "Epoch 44/50\n",
      "30000/30000 [==============================] - 2s 66us/step - loss: 0.0762 - acc: 0.9804 - val_loss: 0.1230 - val_acc: 0.9629\n",
      "Epoch 45/50\n",
      "30000/30000 [==============================] - 2s 68us/step - loss: 0.0748 - acc: 0.9808 - val_loss: 0.1219 - val_acc: 0.9633\n",
      "Epoch 46/50\n",
      "30000/30000 [==============================] - 2s 62us/step - loss: 0.0728 - acc: 0.9819 - val_loss: 0.1225 - val_acc: 0.9633\n",
      "Epoch 47/50\n",
      "30000/30000 [==============================] - 2s 68us/step - loss: 0.0709 - acc: 0.9824 - val_loss: 0.1200 - val_acc: 0.9640\n",
      "Epoch 48/50\n",
      "30000/30000 [==============================] - 2s 70us/step - loss: 0.0692 - acc: 0.9828 - val_loss: 0.1191 - val_acc: 0.9635\n",
      "Epoch 49/50\n",
      "30000/30000 [==============================] - 2s 62us/step - loss: 0.0670 - acc: 0.9835 - val_loss: 0.1188 - val_acc: 0.9631\n",
      "Epoch 50/50\n",
      "30000/30000 [==============================] - 2s 70us/step - loss: 0.0650 - acc: 0.9836 - val_loss: 0.1177 - val_acc: 0.9629\n"
     ]
    }
   ],
   "source": [
    "history_dense_1 = model_dense_1.fit(X_train, y_train, validation_data=(X_val,y_val_10), \n",
    "                                    epochs=50, batch_size=batchsize)"
   ]
  },
  {
   "cell_type": "code",
   "execution_count": 52,
   "metadata": {
    "_uuid": "4d359f79d899cb8c42cd5c39d045846bfbc233c6"
   },
   "outputs": [
    {
     "data": {
      "image/png": "[encoded data removed]",
      "text/plain": [
       "<Figure size 864x288 with 2 Axes>"
      ]
     },
     "metadata": {
      "needs_background": "light"
     },
     "output_type": "display_data"
    }
   ],
   "source": [
    "plot_history_loss_and_acc(history_dense_1)"
   ]
  },
  {
   "cell_type": "code",
   "execution_count": 53,
   "metadata": {
    "_uuid": "5c90f70cc1503464de85adf5a93393e2e69ea687"
   },
   "outputs": [
    {
     "name": "stdout",
     "output_type": "stream",
     "text": [
      "              precision    recall  f1-score   support\n",
      "\n",
      "           0       0.98      0.97      0.98       998\n",
      "           1       0.97      0.99      0.98      1127\n",
      "           2       0.96      0.97      0.96       967\n",
      "           3       0.97      0.95      0.96      1060\n",
      "           4       0.96      0.96      0.96       914\n",
      "           5       0.95      0.96      0.96       914\n",
      "           6       0.96      0.97      0.97       951\n",
      "           7       0.96      0.98      0.97      1066\n",
      "           8       0.96      0.96      0.96       995\n",
      "           9       0.95      0.92      0.94      1008\n",
      "\n",
      "    accuracy                           0.96     10000\n",
      "   macro avg       0.96      0.96      0.96     10000\n",
      "weighted avg       0.96      0.96      0.96     10000\n",
      "\n",
      "0.9629\n"
     ]
    },
    {
     "data": {
      "image/png": "[encoded data removed]",
      "text/plain": [
       "<Figure size 576x576 with 1 Axes>"
      ]
     },
     "metadata": {
      "needs_background": "light"
     },
     "output_type": "display_data"
    }
   ],
   "source": [
    "pred_val_dense1 = model_dense_1.predict_classes(X_val)\n",
    "plot_confusion_matrix(y_val, pred_val_dense1)\n",
    "print(classification_report(y_val, pred_val_dense1))\n",
    "acc_fc1 = accuracy_score(y_val, pred_val_dense1)\n",
    "print(acc_fc1)"
   ]
  },
  {
   "cell_type": "code",
   "execution_count": null,
   "metadata": {
    "_uuid": "7e1eab41f877a4589e58bb668f7e421d9240f352"
   },
   "outputs": [],
   "source": []
  },
  {
   "cell_type": "markdown",
   "metadata": {
    "_uuid": "811d096ef0c9ff6a9f43dd6efd456999cb3bc1a6"
   },
   "source": [
    "### Keras: 2 hidden layers"
   ]
  },
  {
   "cell_type": "code",
   "execution_count": 54,
   "metadata": {
    "_uuid": "77cad84ecaf24475533a22c046ff7530da157337"
   },
   "outputs": [],
   "source": [
    "def dense_model_2():\n",
    "    model = Sequential()\n",
    "    model.add(Dense(100, input_dim=784, activation='relu'))\n",
    "    model.add(Dense(200, activation='relu'))\n",
    "    model.add(Dense(10, activation='softmax'))\n",
    "    model.compile(loss='categorical_crossentropy', optimizer='adam', metrics=['accuracy'])\n",
    "    return model"
   ]
  },
  {
   "cell_type": "code",
   "execution_count": 55,
   "metadata": {
    "_uuid": "576a5bc338ac468bb363a0f0d3c9a153cd0c733e"
   },
   "outputs": [
    {
     "name": "stdout",
     "output_type": "stream",
     "text": [
      "_________________________________________________________________\n",
      "Layer (type)                 Output Shape              Param #   \n",
      "=================================================================\n",
      "dense_4 (Dense)              (None, 100)               78500     \n",
      "_________________________________________________________________\n",
      "dense_5 (Dense)              (None, 200)               20200     \n",
      "_________________________________________________________________\n",
      "dense_6 (Dense)              (None, 10)                2010      \n",
      "=================================================================\n",
      "Total params: 100,710\n",
      "Trainable params: 100,710\n",
      "Non-trainable params: 0\n",
      "_________________________________________________________________\n"
     ]
    }
   ],
   "source": [
    "model_dense_2 = dense_model_2()\n",
    "model_dense_2.summary()"
   ]
  },
  {
   "cell_type": "code",
   "execution_count": 56,
   "metadata": {
    "_kg_hide-output": true,
    "_uuid": "8647769ac840d15de38114d9820586277591b2f1",
    "scrolled": false
   },
   "outputs": [
    {
     "name": "stdout",
     "output_type": "stream",
     "text": [
      "Train on 30000 samples, validate on 10000 samples\n",
      "Epoch 1/50\n",
      "30000/30000 [==============================] - 2s 74us/step - loss: 1.6759 - acc: 0.5868 - val_loss: 0.9071 - val_acc: 0.7963\n",
      "Epoch 2/50\n",
      "30000/30000 [==============================] - 2s 61us/step - loss: 0.6051 - acc: 0.8448 - val_loss: 0.4132 - val_acc: 0.8837\n",
      "Epoch 3/50\n",
      "30000/30000 [==============================] - 2s 61us/step - loss: 0.3733 - acc: 0.8925 - val_loss: 0.3158 - val_acc: 0.9096\n",
      "Epoch 4/50\n",
      "30000/30000 [==============================] - 2s 61us/step - loss: 0.3073 - acc: 0.9114 - val_loss: 0.2747 - val_acc: 0.9205\n",
      "Epoch 5/50\n",
      "30000/30000 [==============================] - 2s 62us/step - loss: 0.2688 - acc: 0.9218 - val_loss: 0.2511 - val_acc: 0.9269\n",
      "Epoch 6/50\n",
      "30000/30000 [==============================] - 2s 66us/step - loss: 0.2418 - acc: 0.9310 - val_loss: 0.2307 - val_acc: 0.9329\n",
      "Epoch 7/50\n",
      "30000/30000 [==============================] - 2s 70us/step - loss: 0.2226 - acc: 0.9362 - val_loss: 0.2183 - val_acc: 0.9366\n",
      "Epoch 8/50\n",
      "30000/30000 [==============================] - 2s 68us/step - loss: 0.2054 - acc: 0.9406 - val_loss: 0.2003 - val_acc: 0.9426\n",
      "Epoch 9/50\n",
      "30000/30000 [==============================] - 2s 71us/step - loss: 0.1864 - acc: 0.9465 - val_loss: 0.1876 - val_acc: 0.9476\n",
      "Epoch 10/50\n",
      "30000/30000 [==============================] - 2s 71us/step - loss: 0.1716 - acc: 0.9508 - val_loss: 0.1770 - val_acc: 0.9509\n",
      "Epoch 11/50\n",
      "30000/30000 [==============================] - 2s 71us/step - loss: 0.1589 - acc: 0.9547 - val_loss: 0.1683 - val_acc: 0.9525\n",
      "Epoch 12/50\n",
      "30000/30000 [==============================] - 2s 71us/step - loss: 0.1482 - acc: 0.9576 - val_loss: 0.1645 - val_acc: 0.9522\n",
      "Epoch 13/50\n",
      "30000/30000 [==============================] - 2s 66us/step - loss: 0.1380 - acc: 0.9611 - val_loss: 0.1531 - val_acc: 0.9552\n",
      "Epoch 14/50\n",
      "30000/30000 [==============================] - 2s 70us/step - loss: 0.1283 - acc: 0.9647 - val_loss: 0.1497 - val_acc: 0.9571\n",
      "Epoch 15/50\n",
      "30000/30000 [==============================] - 2s 66us/step - loss: 0.1196 - acc: 0.9666 - val_loss: 0.1422 - val_acc: 0.9588\n",
      "Epoch 16/50\n",
      "30000/30000 [==============================] - 2s 67us/step - loss: 0.1131 - acc: 0.9686 - val_loss: 0.1393 - val_acc: 0.9584\n",
      "Epoch 17/50\n",
      "30000/30000 [==============================] - 2s 71us/step - loss: 0.1069 - acc: 0.9712 - val_loss: 0.1389 - val_acc: 0.9591\n",
      "Epoch 18/50\n",
      "30000/30000 [==============================] - 2s 70us/step - loss: 0.1008 - acc: 0.9723 - val_loss: 0.1313 - val_acc: 0.9609\n",
      "Epoch 19/50\n",
      "30000/30000 [==============================] - 2s 66us/step - loss: 0.0950 - acc: 0.9741 - val_loss: 0.1287 - val_acc: 0.9628\n",
      "Epoch 20/50\n",
      "30000/30000 [==============================] - 2s 68us/step - loss: 0.0900 - acc: 0.9752 - val_loss: 0.1257 - val_acc: 0.9618\n",
      "Epoch 21/50\n",
      "30000/30000 [==============================] - 2s 66us/step - loss: 0.0834 - acc: 0.9772 - val_loss: 0.1246 - val_acc: 0.9626\n",
      "Epoch 22/50\n",
      "30000/30000 [==============================] - 2s 71us/step - loss: 0.0778 - acc: 0.9794 - val_loss: 0.1202 - val_acc: 0.9645\n",
      "Epoch 23/50\n",
      "30000/30000 [==============================] - 2s 72us/step - loss: 0.0743 - acc: 0.9797 - val_loss: 0.1203 - val_acc: 0.9642\n",
      "Epoch 24/50\n",
      "30000/30000 [==============================] - 2s 70us/step - loss: 0.0703 - acc: 0.9812 - val_loss: 0.1170 - val_acc: 0.9629\n",
      "Epoch 25/50\n",
      "30000/30000 [==============================] - 2s 69us/step - loss: 0.0662 - acc: 0.9827 - val_loss: 0.1156 - val_acc: 0.9638\n",
      "Epoch 26/50\n",
      "30000/30000 [==============================] - 2s 71us/step - loss: 0.0632 - acc: 0.9822 - val_loss: 0.1157 - val_acc: 0.9642\n",
      "Epoch 27/50\n",
      "30000/30000 [==============================] - 2s 69us/step - loss: 0.0596 - acc: 0.9844 - val_loss: 0.1149 - val_acc: 0.9631\n",
      "Epoch 28/50\n",
      "30000/30000 [==============================] - 2s 72us/step - loss: 0.0573 - acc: 0.9845 - val_loss: 0.1115 - val_acc: 0.9648\n",
      "Epoch 29/50\n",
      "30000/30000 [==============================] - 2s 66us/step - loss: 0.0531 - acc: 0.9857 - val_loss: 0.1136 - val_acc: 0.9646\n",
      "Epoch 30/50\n",
      "30000/30000 [==============================] - 2s 71us/step - loss: 0.0498 - acc: 0.9872 - val_loss: 0.1105 - val_acc: 0.9652\n",
      "Epoch 31/50\n",
      "30000/30000 [==============================] - 2s 69us/step - loss: 0.0483 - acc: 0.9870 - val_loss: 0.1098 - val_acc: 0.9658\n",
      "Epoch 32/50\n",
      "30000/30000 [==============================] - 2s 64us/step - loss: 0.0450 - acc: 0.9890 - val_loss: 0.1106 - val_acc: 0.9668\n",
      "Epoch 33/50\n",
      "30000/30000 [==============================] - 2s 65us/step - loss: 0.0426 - acc: 0.9895 - val_loss: 0.1098 - val_acc: 0.9653\n",
      "Epoch 34/50\n",
      "30000/30000 [==============================] - 2s 71us/step - loss: 0.0405 - acc: 0.9900 - val_loss: 0.1077 - val_acc: 0.9673\n",
      "Epoch 35/50\n",
      "30000/30000 [==============================] - 2s 69us/step - loss: 0.0383 - acc: 0.9912 - val_loss: 0.1110 - val_acc: 0.9666\n",
      "Epoch 36/50\n",
      "30000/30000 [==============================] - 2s 71us/step - loss: 0.0371 - acc: 0.9907 - val_loss: 0.1104 - val_acc: 0.9676\n",
      "Epoch 37/50\n",
      "30000/30000 [==============================] - 2s 70us/step - loss: 0.0350 - acc: 0.9920 - val_loss: 0.1093 - val_acc: 0.9654\n",
      "Epoch 38/50\n",
      "30000/30000 [==============================] - 2s 68us/step - loss: 0.0332 - acc: 0.9922 - val_loss: 0.1091 - val_acc: 0.9659\n",
      "Epoch 39/50\n",
      "30000/30000 [==============================] - 2s 65us/step - loss: 0.0310 - acc: 0.9937 - val_loss: 0.1069 - val_acc: 0.9669\n",
      "Epoch 40/50\n",
      "30000/30000 [==============================] - 2s 68us/step - loss: 0.0293 - acc: 0.9935 - val_loss: 0.1078 - val_acc: 0.9683\n",
      "Epoch 41/50\n",
      "30000/30000 [==============================] - 2s 70us/step - loss: 0.0281 - acc: 0.9940 - val_loss: 0.1079 - val_acc: 0.9675\n",
      "Epoch 42/50\n",
      "30000/30000 [==============================] - 2s 68us/step - loss: 0.0255 - acc: 0.9956 - val_loss: 0.1074 - val_acc: 0.9673\n",
      "Epoch 43/50\n",
      "30000/30000 [==============================] - 2s 72us/step - loss: 0.0244 - acc: 0.9955 - val_loss: 0.1102 - val_acc: 0.9672\n",
      "Epoch 44/50\n",
      "30000/30000 [==============================] - 2s 68us/step - loss: 0.0232 - acc: 0.9961 - val_loss: 0.1099 - val_acc: 0.9674\n",
      "Epoch 45/50\n",
      "30000/30000 [==============================] - 2s 68us/step - loss: 0.0220 - acc: 0.9962 - val_loss: 0.1105 - val_acc: 0.9665\n",
      "Epoch 46/50\n",
      "30000/30000 [==============================] - 2s 67us/step - loss: 0.0210 - acc: 0.9964 - val_loss: 0.1111 - val_acc: 0.9664\n",
      "Epoch 47/50\n",
      "30000/30000 [==============================] - 2s 63us/step - loss: 0.0203 - acc: 0.9966 - val_loss: 0.1134 - val_acc: 0.9675\n",
      "Epoch 48/50\n",
      "30000/30000 [==============================] - 2s 64us/step - loss: 0.0189 - acc: 0.9974 - val_loss: 0.1123 - val_acc: 0.9673\n",
      "Epoch 49/50\n",
      "30000/30000 [==============================] - 2s 62us/step - loss: 0.0179 - acc: 0.9976 - val_loss: 0.1125 - val_acc: 0.9664\n",
      "Epoch 50/50\n",
      "30000/30000 [==============================] - 2s 70us/step - loss: 0.0168 - acc: 0.9980 - val_loss: 0.1138 - val_acc: 0.9672\n"
     ]
    }
   ],
   "source": [
    "history_dense_2 = model_dense_2.fit(X_train, y_train, validation_data=(X_val,y_val_10), \n",
    "                                    epochs=50, batch_size=batchsize)"
   ]
  },
  {
   "cell_type": "code",
   "execution_count": 57,
   "metadata": {
    "_uuid": "06588fc9807fff9f3052853a356ef705ca33d4ca"
   },
   "outputs": [
    {
     "data": {
      "image/png": "[encoded data removed]",
      "text/plain": [
       "<Figure size 864x288 with 2 Axes>"
      ]
     },
     "metadata": {
      "needs_background": "light"
     },
     "output_type": "display_data"
    }
   ],
   "source": [
    "plot_history_loss_and_acc(history_dense_2)"
   ]
  },
  {
   "cell_type": "code",
   "execution_count": 58,
   "metadata": {
    "_uuid": "8fc16105c3463f70b16ede4ce2baa656ae066f5b"
   },
   "outputs": [
    {
     "name": "stdout",
     "output_type": "stream",
     "text": [
      "              precision    recall  f1-score   support\n",
      "\n",
      "           0       0.98      0.97      0.98       998\n",
      "           1       0.97      0.99      0.98      1127\n",
      "           2       0.98      0.97      0.98       967\n",
      "           3       0.96      0.97      0.96      1060\n",
      "           4       0.96      0.97      0.96       914\n",
      "           5       0.97      0.95      0.96       914\n",
      "           6       0.96      0.98      0.97       951\n",
      "           7       0.96      0.97      0.97      1066\n",
      "           8       0.96      0.96      0.96       995\n",
      "           9       0.96      0.92      0.94      1008\n",
      "\n",
      "    accuracy                           0.97     10000\n",
      "   macro avg       0.97      0.97      0.97     10000\n",
      "weighted avg       0.97      0.97      0.97     10000\n",
      "\n",
      "0.9672\n"
     ]
    },
    {
     "data": {
      "image/png": "[encoded data removed]",
      "text/plain": [
       "<Figure size 576x576 with 1 Axes>"
      ]
     },
     "metadata": {
      "needs_background": "light"
     },
     "output_type": "display_data"
    }
   ],
   "source": [
    "pred_val_dense2 = model_dense_2.predict_classes(X_val)\n",
    "plot_confusion_matrix(y_val, pred_val_dense2)\n",
    "print(classification_report(y_val, pred_val_dense2))\n",
    "acc_fc2 = accuracy_score(y_val, pred_val_dense2)\n",
    "print(acc_fc2)"
   ]
  },
  {
   "cell_type": "code",
   "execution_count": null,
   "metadata": {
    "_uuid": "6114bf8e74a07dd1ee491cec48c4a2108baec72b"
   },
   "outputs": [],
   "source": []
  },
  {
   "cell_type": "markdown",
   "metadata": {
    "_uuid": "df592740e70fa6b82ddd044002ed407016b9fe97"
   },
   "source": [
    "### Keras: 3 hidden layers"
   ]
  },
  {
   "cell_type": "code",
   "execution_count": 59,
   "metadata": {
    "_uuid": "5a7e7c7b7b79894988a3955eefc60a4610dff5a3"
   },
   "outputs": [],
   "source": [
    "def dense_model_3():\n",
    "    \n",
    "    model = Sequential()  \n",
    "    model.add(Dense(100, activation='relu', input_dim=784))\n",
    "    model.add(Dense(200, activation='relu')) \n",
    "    model.add(Dense(100, activation='relu')) \n",
    "    model.add(Dense(10, activation='softmax'))\n",
    "         \n",
    "    model.compile(loss='categorical_crossentropy', optimizer='adam', metrics=['accuracy'])\n",
    "    \n",
    "    #model.compile(optimizer=RMSprop(lr=0.001),\n",
    "    #         loss='categorical_crossentropy',\n",
    "    #         metrics=['accuracy'])\n",
    "    \n",
    "    return model"
   ]
  },
  {
   "cell_type": "code",
   "execution_count": 60,
   "metadata": {
    "_uuid": "074df37093573fe1d0b82902608c1cdc60f46fbb"
   },
   "outputs": [
    {
     "name": "stdout",
     "output_type": "stream",
     "text": [
      "_________________________________________________________________\n",
      "Layer (type)                 Output Shape              Param #   \n",
      "=================================================================\n",
      "dense_7 (Dense)              (None, 100)               78500     \n",
      "_________________________________________________________________\n",
      "dense_8 (Dense)              (None, 200)               20200     \n",
      "_________________________________________________________________\n",
      "dense_9 (Dense)              (None, 100)               20100     \n",
      "_________________________________________________________________\n",
      "dense_10 (Dense)             (None, 10)                1010      \n",
      "=================================================================\n",
      "Total params: 119,810\n",
      "Trainable params: 119,810\n",
      "Non-trainable params: 0\n",
      "_________________________________________________________________\n"
     ]
    }
   ],
   "source": [
    "model_dense_3 = dense_model_3()\n",
    "model_dense_3.summary()"
   ]
  },
  {
   "cell_type": "code",
   "execution_count": 61,
   "metadata": {
    "_kg_hide-output": true,
    "_uuid": "c84be17854c5a36bdaab946a6e78ad978f6733fa"
   },
   "outputs": [
    {
     "name": "stdout",
     "output_type": "stream",
     "text": [
      "Train on 30000 samples, validate on 10000 samples\n",
      "Epoch 1/50\n",
      "30000/30000 [==============================] - 3s 88us/step - loss: 1.7816 - acc: 0.5364 - val_loss: 0.9343 - val_acc: 0.7964\n",
      "Epoch 2/50\n",
      "30000/30000 [==============================] - 2s 73us/step - loss: 0.5832 - acc: 0.8436 - val_loss: 0.3804 - val_acc: 0.8847\n",
      "Epoch 3/50\n",
      "30000/30000 [==============================] - 2s 64us/step - loss: 0.3410 - acc: 0.8998 - val_loss: 0.2926 - val_acc: 0.9098\n",
      "Epoch 4/50\n",
      "30000/30000 [==============================] - 2s 68us/step - loss: 0.2715 - acc: 0.9210 - val_loss: 0.2427 - val_acc: 0.9258\n",
      "Epoch 5/50\n",
      "30000/30000 [==============================] - 2s 72us/step - loss: 0.2282 - acc: 0.9337 - val_loss: 0.2138 - val_acc: 0.9379\n",
      "Epoch 6/50\n",
      "30000/30000 [==============================] - 2s 73us/step - loss: 0.1994 - acc: 0.9415 - val_loss: 0.1932 - val_acc: 0.9425\n",
      "Epoch 7/50\n",
      "30000/30000 [==============================] - 2s 71us/step - loss: 0.1786 - acc: 0.9475 - val_loss: 0.1772 - val_acc: 0.9466\n",
      "Epoch 8/50\n",
      "30000/30000 [==============================] - 2s 73us/step - loss: 0.1584 - acc: 0.9540 - val_loss: 0.1606 - val_acc: 0.9524\n",
      "Epoch 9/50\n",
      "30000/30000 [==============================] - 2s 68us/step - loss: 0.1416 - acc: 0.9594 - val_loss: 0.1521 - val_acc: 0.9545\n",
      "Epoch 10/50\n",
      "30000/30000 [==============================] - 2s 69us/step - loss: 0.1262 - acc: 0.9638 - val_loss: 0.1436 - val_acc: 0.9576\n",
      "Epoch 11/50\n",
      "30000/30000 [==============================] - 2s 73us/step - loss: 0.1147 - acc: 0.9680 - val_loss: 0.1392 - val_acc: 0.9581\n",
      "Epoch 12/50\n",
      "30000/30000 [==============================] - 2s 67us/step - loss: 0.1044 - acc: 0.9710 - val_loss: 0.1344 - val_acc: 0.9593\n",
      "Epoch 13/50\n",
      "30000/30000 [==============================] - 2s 68us/step - loss: 0.0946 - acc: 0.9737 - val_loss: 0.1284 - val_acc: 0.9618\n",
      "Epoch 14/50\n",
      "30000/30000 [==============================] - 2s 71us/step - loss: 0.0877 - acc: 0.9759 - val_loss: 0.1243 - val_acc: 0.9625\n",
      "Epoch 15/50\n",
      "30000/30000 [==============================] - 2s 73us/step - loss: 0.0815 - acc: 0.9769 - val_loss: 0.1218 - val_acc: 0.9634\n",
      "Epoch 16/50\n",
      "30000/30000 [==============================] - 2s 71us/step - loss: 0.0736 - acc: 0.9797 - val_loss: 0.1179 - val_acc: 0.9643\n",
      "Epoch 17/50\n",
      "30000/30000 [==============================] - 2s 73us/step - loss: 0.0677 - acc: 0.9815 - val_loss: 0.1197 - val_acc: 0.9650\n",
      "Epoch 18/50\n",
      "30000/30000 [==============================] - 2s 73us/step - loss: 0.0627 - acc: 0.9834 - val_loss: 0.1155 - val_acc: 0.9646\n",
      "Epoch 19/50\n",
      "30000/30000 [==============================] - 2s 74us/step - loss: 0.0574 - acc: 0.9851 - val_loss: 0.1165 - val_acc: 0.9640\n",
      "Epoch 20/50\n",
      "30000/30000 [==============================] - 2s 70us/step - loss: 0.0530 - acc: 0.9861 - val_loss: 0.1168 - val_acc: 0.9651\n",
      "Epoch 21/50\n",
      "30000/30000 [==============================] - 2s 72us/step - loss: 0.0503 - acc: 0.9864 - val_loss: 0.1146 - val_acc: 0.9665\n",
      "Epoch 22/50\n",
      "30000/30000 [==============================] - 2s 73us/step - loss: 0.0454 - acc: 0.9880 - val_loss: 0.1162 - val_acc: 0.9653\n",
      "Epoch 23/50\n",
      "30000/30000 [==============================] - 2s 72us/step - loss: 0.0422 - acc: 0.9896 - val_loss: 0.1145 - val_acc: 0.9668\n",
      "Epoch 24/50\n",
      "30000/30000 [==============================] - 2s 71us/step - loss: 0.0377 - acc: 0.9904 - val_loss: 0.1156 - val_acc: 0.9672\n",
      "Epoch 25/50\n",
      "30000/30000 [==============================] - 2s 75us/step - loss: 0.0354 - acc: 0.9916 - val_loss: 0.1165 - val_acc: 0.9662\n",
      "Epoch 26/50\n",
      "30000/30000 [==============================] - 2s 77us/step - loss: 0.0327 - acc: 0.9923 - val_loss: 0.1155 - val_acc: 0.9668\n",
      "Epoch 27/50\n",
      "30000/30000 [==============================] - 2s 78us/step - loss: 0.0300 - acc: 0.9930 - val_loss: 0.1151 - val_acc: 0.9669\n",
      "Epoch 28/50\n",
      "30000/30000 [==============================] - 2s 78us/step - loss: 0.0271 - acc: 0.9943 - val_loss: 0.1144 - val_acc: 0.9676\n",
      "Epoch 29/50\n",
      "30000/30000 [==============================] - 2s 71us/step - loss: 0.0256 - acc: 0.9943 - val_loss: 0.1188 - val_acc: 0.9667\n",
      "Epoch 30/50\n",
      "30000/30000 [==============================] - 2s 72us/step - loss: 0.0255 - acc: 0.9939 - val_loss: 0.1191 - val_acc: 0.9679\n",
      "Epoch 31/50\n",
      "30000/30000 [==============================] - 2s 74us/step - loss: 0.0225 - acc: 0.9953 - val_loss: 0.1191 - val_acc: 0.9678\n",
      "Epoch 32/50\n",
      "30000/30000 [==============================] - 2s 73us/step - loss: 0.0201 - acc: 0.9960 - val_loss: 0.1193 - val_acc: 0.9674\n",
      "Epoch 33/50\n",
      "30000/30000 [==============================] - 2s 74us/step - loss: 0.0177 - acc: 0.9968 - val_loss: 0.1171 - val_acc: 0.9684\n",
      "Epoch 34/50\n",
      "30000/30000 [==============================] - 2s 73us/step - loss: 0.0167 - acc: 0.9972 - val_loss: 0.1177 - val_acc: 0.9681\n",
      "Epoch 35/50\n",
      "30000/30000 [==============================] - 2s 71us/step - loss: 0.0148 - acc: 0.9979 - val_loss: 0.1210 - val_acc: 0.9686\n",
      "Epoch 36/50\n",
      "30000/30000 [==============================] - 2s 67us/step - loss: 0.0146 - acc: 0.9974 - val_loss: 0.1214 - val_acc: 0.9685\n",
      "Epoch 37/50\n",
      "30000/30000 [==============================] - 2s 72us/step - loss: 0.0137 - acc: 0.9981 - val_loss: 0.1207 - val_acc: 0.9691\n",
      "Epoch 38/50\n",
      "30000/30000 [==============================] - 2s 69us/step - loss: 0.0125 - acc: 0.9982 - val_loss: 0.1229 - val_acc: 0.9687\n",
      "Epoch 39/50\n",
      "30000/30000 [==============================] - 2s 70us/step - loss: 0.0113 - acc: 0.9984 - val_loss: 0.1216 - val_acc: 0.9687\n",
      "Epoch 40/50\n",
      "30000/30000 [==============================] - 2s 73us/step - loss: 0.0100 - acc: 0.9990 - val_loss: 0.1258 - val_acc: 0.9675\n",
      "Epoch 41/50\n",
      "30000/30000 [==============================] - 2s 72us/step - loss: 0.0091 - acc: 0.9991 - val_loss: 0.1264 - val_acc: 0.9693\n",
      "Epoch 42/50\n",
      "30000/30000 [==============================] - 2s 67us/step - loss: 0.0083 - acc: 0.9994 - val_loss: 0.1284 - val_acc: 0.9687\n",
      "Epoch 43/50\n",
      "30000/30000 [==============================] - 2s 72us/step - loss: 0.0079 - acc: 0.9993 - val_loss: 0.1251 - val_acc: 0.9686\n",
      "Epoch 44/50\n",
      "30000/30000 [==============================] - 2s 69us/step - loss: 0.0071 - acc: 0.9994 - val_loss: 0.1277 - val_acc: 0.9694\n",
      "Epoch 45/50\n",
      "30000/30000 [==============================] - 2s 71us/step - loss: 0.0069 - acc: 0.9993 - val_loss: 0.1322 - val_acc: 0.9680\n",
      "Epoch 46/50\n",
      "30000/30000 [==============================] - 2s 72us/step - loss: 0.0063 - acc: 0.9996 - val_loss: 0.1280 - val_acc: 0.9702\n",
      "Epoch 47/50\n",
      "30000/30000 [==============================] - 2s 73us/step - loss: 0.0060 - acc: 0.9996 - val_loss: 0.1335 - val_acc: 0.9683\n",
      "Epoch 48/50\n",
      "30000/30000 [==============================] - 2s 68us/step - loss: 0.0058 - acc: 0.9997 - val_loss: 0.1319 - val_acc: 0.9686\n",
      "Epoch 49/50\n",
      "30000/30000 [==============================] - 2s 70us/step - loss: 0.0051 - acc: 0.9997 - val_loss: 0.1315 - val_acc: 0.9698\n",
      "Epoch 50/50\n",
      "30000/30000 [==============================] - 2s 70us/step - loss: 0.0048 - acc: 0.9997 - val_loss: 0.1333 - val_acc: 0.9692\n"
     ]
    }
   ],
   "source": [
    "history_dense_3 = model_dense_3.fit(X_train, y_train, validation_data=(X_val,y_val_10), \n",
    "                                    epochs=50, batch_size=batchsize)"
   ]
  },
  {
   "cell_type": "code",
   "execution_count": 62,
   "metadata": {
    "_uuid": "abcb580d09c4f6df6b592a9eaf8c02306033fe73"
   },
   "outputs": [
    {
     "data": {
      "image/png": "[encoded data removed]",
      "text/plain": [
       "<Figure size 864x288 with 2 Axes>"
      ]
     },
     "metadata": {
      "needs_background": "light"
     },
     "output_type": "display_data"
    }
   ],
   "source": [
    "plot_history_loss_and_acc(history_dense_3)"
   ]
  },
  {
   "cell_type": "code",
   "execution_count": 63,
   "metadata": {
    "_uuid": "15639f762176cbb6d6d1ac69836355491ccb4b9d"
   },
   "outputs": [
    {
     "name": "stdout",
     "output_type": "stream",
     "text": [
      "              precision    recall  f1-score   support\n",
      "\n",
      "           0       0.99      0.97      0.98       998\n",
      "           1       0.98      0.99      0.99      1127\n",
      "           2       0.98      0.98      0.98       967\n",
      "           3       0.96      0.97      0.97      1060\n",
      "           4       0.97      0.96      0.97       914\n",
      "           5       0.96      0.96      0.96       914\n",
      "           6       0.97      0.97      0.97       951\n",
      "           7       0.97      0.97      0.97      1066\n",
      "           8       0.96      0.97      0.96       995\n",
      "           9       0.95      0.94      0.95      1008\n",
      "\n",
      "    accuracy                           0.97     10000\n",
      "   macro avg       0.97      0.97      0.97     10000\n",
      "weighted avg       0.97      0.97      0.97     10000\n",
      "\n",
      "0.9692\n"
     ]
    },
    {
     "data": {
      "image/png": "[encoded data removed]",
      "text/plain": [
       "<Figure size 576x576 with 1 Axes>"
      ]
     },
     "metadata": {
      "needs_background": "light"
     },
     "output_type": "display_data"
    }
   ],
   "source": [
    "pred_val_dense3 = model_dense_3.predict_classes(X_val)\n",
    "plot_confusion_matrix(y_val, pred_val_dense3)\n",
    "print(classification_report(y_val, pred_val_dense3))\n",
    "acc_fc3 = accuracy_score(y_val, pred_val_dense3)\n",
    "print(acc_fc3)"
   ]
  },
  {
   "cell_type": "code",
   "execution_count": null,
   "metadata": {
    "_uuid": "738eaed5f252286a9369896e371683ec42b86813"
   },
   "outputs": [],
   "source": []
  },
  {
   "cell_type": "markdown",
   "metadata": {
    "_uuid": "9a38a7511b03011c453cc5f0f7ba35a77dfb04f0"
   },
   "source": [
    "## 3.2 Keras : Convolutional Neural Networks, CNN"
   ]
  },
  {
   "cell_type": "markdown",
   "metadata": {
    "_uuid": "fe26d5c4ab3661208005e023026c623557df9e13"
   },
   "source": [
    "Convnets:  \n",
    "[Udacity](https://www.youtube.com/watch?v=jajksuQW4mc) "
   ]
  },
  {
   "cell_type": "code",
   "execution_count": null,
   "metadata": {
    "_uuid": "373be8132cf3e4b40c3e9e9a42b10c69caa9c472"
   },
   "outputs": [],
   "source": []
  },
  {
   "cell_type": "markdown",
   "metadata": {
    "_uuid": "a5233ad4dea6af705b60075c491ef21cf2bf7403"
   },
   "source": [
    "### **features : reshaping 1d vector to 2d images**\n",
    "\n",
    "(784) --> (28,28,1)"
   ]
  },
  {
   "cell_type": "code",
   "execution_count": 64,
   "metadata": {
    "_uuid": "1f740d4ed4a06f9e1e2a13443e4d4075ccbcccb6"
   },
   "outputs": [
    {
     "data": {
      "text/plain": [
       "(30000, 784)"
      ]
     },
     "execution_count": 64,
     "metadata": {},
     "output_type": "execute_result"
    }
   ],
   "source": [
    "X_train.shape"
   ]
  },
  {
   "cell_type": "code",
   "execution_count": 65,
   "metadata": {
    "_uuid": "1426af50bb6ed93408b9350ebd3acdf98c52bc36"
   },
   "outputs": [],
   "source": [
    "X_train = X_train.values.reshape(X_train.shape[0], img_rows, img_cols, 1)\n",
    "X_val = X_val.values.reshape(X_val.shape[0], img_rows, img_cols, 1)\n",
    "\n",
    "input_shape = (img_rows, img_cols, 1)"
   ]
  },
  {
   "cell_type": "code",
   "execution_count": 66,
   "metadata": {
    "_uuid": "f5b6926f5a25cedfc35862367b608524dad7c05c"
   },
   "outputs": [
    {
     "data": {
      "text/plain": [
       "(30000, 28, 28, 1)"
      ]
     },
     "execution_count": 66,
     "metadata": {},
     "output_type": "execute_result"
    }
   ],
   "source": [
    "X_train.shape"
   ]
  },
  {
   "cell_type": "code",
   "execution_count": 67,
   "metadata": {
    "_uuid": "a76db0b3da04ff3b7358cca60a6eeb155a81a2c3"
   },
   "outputs": [
    {
     "data": {
      "text/plain": [
       "(30000, 10)"
      ]
     },
     "execution_count": 67,
     "metadata": {},
     "output_type": "execute_result"
    }
   ],
   "source": [
    "y_train.shape"
   ]
  },
  {
   "cell_type": "code",
   "execution_count": null,
   "metadata": {
    "_uuid": "26cd252615c013d2d560ea54a277504a0f59b42f"
   },
   "outputs": [],
   "source": []
  },
  {
   "cell_type": "markdown",
   "metadata": {
    "_uuid": "c64474f903a5389ea7c385156076ae532ca73105"
   },
   "source": [
    "## Keras: CNN model 1\n",
    "Conv2D (32, (3, 3))  \n",
    "Conv2D (64, (3, 3))  \n",
    "Pooling2D (2,2)  \n",
    "Dropout (0.25)\n",
    "Flatten  \n",
    "Dense(128, relu)  \n",
    "Dropout (0.5)  \n",
    "Dense(10, softmax)"
   ]
  },
  {
   "cell_type": "code",
   "execution_count": 68,
   "metadata": {
    "_uuid": "4d4074066d9b6f38380dfaded0b43151f75406c8"
   },
   "outputs": [],
   "source": [
    "batchsize = 128\n",
    "epochs = 12"
   ]
  },
  {
   "cell_type": "code",
   "execution_count": 69,
   "metadata": {
    "_uuid": "df839fc323bb17df0815fc012fec140db1689059"
   },
   "outputs": [],
   "source": [
    "activation = 'relu'\n",
    "adadelta = Adadelta()\n",
    "loss = categorical_crossentropy"
   ]
  },
  {
   "cell_type": "code",
   "execution_count": 70,
   "metadata": {
    "_uuid": "ad9d406a087d879d27fcf33dc1a7412beb5044d6"
   },
   "outputs": [],
   "source": [
    "def cnn_model_1(activation):\n",
    "    \n",
    "    model = Sequential()\n",
    "    \n",
    "    model.add(Conv2D(32, kernel_size=(3, 3), activation=activation, input_shape=input_shape)) \n",
    "    \n",
    "    model.add(Conv2D(64, (3, 3), activation=activation))\n",
    "    model.add(MaxPooling2D(pool_size=(2, 2)))\n",
    "    model.add(Dropout(0.25))\n",
    " \n",
    "    model.add(Flatten())\n",
    "\n",
    "    model.add(Dense(128, activation=activation))\n",
    "    model.add(Dropout(0.5))\n",
    "\n",
    "    model.add(Dense(10, activation='softmax'))\n",
    "\n",
    "    model.compile(loss=loss, optimizer=adadelta, metrics=['accuracy'])\n",
    "\n",
    "    return model"
   ]
  },
  {
   "cell_type": "code",
   "execution_count": 71,
   "metadata": {
    "_uuid": "a4a6637f192b18d3fc1b887f88d94398a4dca431"
   },
   "outputs": [
    {
     "name": "stdout",
     "output_type": "stream",
     "text": [
      "_________________________________________________________________\n",
      "Layer (type)                 Output Shape              Param #   \n",
      "=================================================================\n",
      "conv2d_1 (Conv2D)            (None, 26, 26, 32)        320       \n",
      "_________________________________________________________________\n",
      "conv2d_2 (Conv2D)            (None, 24, 24, 64)        18496     \n",
      "_________________________________________________________________\n",
      "max_pooling2d_1 (MaxPooling2 (None, 12, 12, 64)        0         \n",
      "_________________________________________________________________\n",
      "dropout_1 (Dropout)          (None, 12, 12, 64)        0         \n",
      "_________________________________________________________________\n",
      "flatten_1 (Flatten)          (None, 9216)              0         \n",
      "_________________________________________________________________\n",
      "dense_11 (Dense)             (None, 128)               1179776   \n",
      "_________________________________________________________________\n",
      "dropout_2 (Dropout)          (None, 128)               0         \n",
      "_________________________________________________________________\n",
      "dense_12 (Dense)             (None, 10)                1290      \n",
      "=================================================================\n",
      "Total params: 1,199,882\n",
      "Trainable params: 1,199,882\n",
      "Non-trainable params: 0\n",
      "_________________________________________________________________\n"
     ]
    }
   ],
   "source": [
    "model_cnn_1 = cnn_model_1(activation)\n",
    "model_cnn_1.summary()"
   ]
  },
  {
   "cell_type": "code",
   "execution_count": 72,
   "metadata": {
    "_kg_hide-output": true,
    "_uuid": "753a494ae46339d1f9f1973e04cd46dbca3026a9"
   },
   "outputs": [
    {
     "name": "stdout",
     "output_type": "stream",
     "text": [
      "Train on 30000 samples, validate on 10000 samples\n",
      "Epoch 1/12\n",
      "30000/30000 [==============================] - 49s 2ms/step - loss: 0.3874 - acc: 0.8791 - val_loss: 0.0917 - val_acc: 0.9718\n",
      "Epoch 2/12\n",
      "30000/30000 [==============================] - 46s 2ms/step - loss: 0.1202 - acc: 0.9633 - val_loss: 0.0585 - val_acc: 0.9815\n",
      "Epoch 3/12\n",
      "30000/30000 [==============================] - 46s 2ms/step - loss: 0.0844 - acc: 0.9742 - val_loss: 0.0482 - val_acc: 0.9848\n",
      "Epoch 4/12\n",
      "30000/30000 [==============================] - 46s 2ms/step - loss: 0.0693 - acc: 0.9788 - val_loss: 0.0489 - val_acc: 0.9843\n",
      "Epoch 5/12\n",
      "30000/30000 [==============================] - 46s 2ms/step - loss: 0.0574 - acc: 0.9821 - val_loss: 0.0442 - val_acc: 0.9866\n",
      "Epoch 6/12\n",
      "30000/30000 [==============================] - 46s 2ms/step - loss: 0.0508 - acc: 0.9844 - val_loss: 0.0405 - val_acc: 0.9882\n",
      "Epoch 7/12\n",
      "30000/30000 [==============================] - 46s 2ms/step - loss: 0.0457 - acc: 0.9859 - val_loss: 0.0357 - val_acc: 0.9895\n",
      "Epoch 8/12\n",
      "30000/30000 [==============================] - 46s 2ms/step - loss: 0.0415 - acc: 0.9870 - val_loss: 0.0400 - val_acc: 0.9890\n",
      "Epoch 9/12\n",
      "30000/30000 [==============================] - 45s 2ms/step - loss: 0.0385 - acc: 0.9880 - val_loss: 0.0374 - val_acc: 0.9897\n",
      "Epoch 10/12\n",
      "30000/30000 [==============================] - 45s 2ms/step - loss: 0.0313 - acc: 0.9903 - val_loss: 0.0449 - val_acc: 0.9878\n",
      "Epoch 11/12\n",
      "30000/30000 [==============================] - 46s 2ms/step - loss: 0.0298 - acc: 0.9909 - val_loss: 0.0388 - val_acc: 0.9895\n",
      "Epoch 12/12\n",
      "30000/30000 [==============================] - 45s 2ms/step - loss: 0.0267 - acc: 0.9916 - val_loss: 0.0373 - val_acc: 0.9900\n"
     ]
    }
   ],
   "source": [
    "#model_cnn_1.fit(X_train, y_train, batch_size=batchsize, epochs=epochs, verbose=1)\n",
    "history_cnn_1 = model_cnn_1.fit(X_train, y_train, validation_data=(X_val,y_val_10), \n",
    "                                   epochs=epochs, batch_size=batchsize, verbose=1)"
   ]
  },
  {
   "cell_type": "code",
   "execution_count": 73,
   "metadata": {
    "_uuid": "8ba98c29b29be32ee0370797c8ac77366228bb87"
   },
   "outputs": [
    {
     "data": {
      "image/png": "[encoded data removed]",
      "text/plain": [
       "<Figure size 864x288 with 2 Axes>"
      ]
     },
     "metadata": {
      "needs_background": "light"
     },
     "output_type": "display_data"
    }
   ],
   "source": [
    "plot_history_loss_and_acc(history_cnn_1)"
   ]
  },
  {
   "cell_type": "code",
   "execution_count": 74,
   "metadata": {
    "_uuid": "9d31fbbbe5406d375029051c857fc903b101fcf4"
   },
   "outputs": [
    {
     "name": "stdout",
     "output_type": "stream",
     "text": [
      "              precision    recall  f1-score   support\n",
      "\n",
      "           0       0.99      1.00      0.99       998\n",
      "           1       0.99      1.00      1.00      1127\n",
      "           2       0.99      0.99      0.99       967\n",
      "           3       0.99      0.99      0.99      1060\n",
      "           4       0.99      0.99      0.99       914\n",
      "           5       0.99      0.99      0.99       914\n",
      "           6       0.99      0.99      0.99       951\n",
      "           7       0.99      0.99      0.99      1066\n",
      "           8       0.99      0.99      0.99       995\n",
      "           9       0.99      0.97      0.98      1008\n",
      "\n",
      "    accuracy                           0.99     10000\n",
      "   macro avg       0.99      0.99      0.99     10000\n",
      "weighted avg       0.99      0.99      0.99     10000\n",
      "\n",
      "0.99\n"
     ]
    },
    {
     "data": {
      "image/png": "[encoded data removed]",
      "text/plain": [
       "<Figure size 576x576 with 1 Axes>"
      ]
     },
     "metadata": {
      "needs_background": "light"
     },
     "output_type": "display_data"
    }
   ],
   "source": [
    "pred_val_cnn1 = model_cnn_1.predict_classes(X_val)\n",
    "plot_confusion_matrix(y_val, pred_val_cnn1)\n",
    "print(classification_report(y_val, pred_val_cnn1))\n",
    "acc_cnn1 = accuracy_score(y_val, pred_val_cnn1)\n",
    "print(acc_cnn1)\n"
   ]
  },
  {
   "cell_type": "code",
   "execution_count": null,
   "metadata": {
    "_uuid": "c3e41806cc20e1cf1eea40f0c75422888a393f50"
   },
   "outputs": [],
   "source": []
  },
  {
   "cell_type": "code",
   "execution_count": null,
   "metadata": {
    "_uuid": "37dfe5415315db2a03f2225bff9386aec5238cfb"
   },
   "outputs": [],
   "source": []
  },
  {
   "cell_type": "markdown",
   "metadata": {
    "_uuid": "de19d7786fd1cff44b3122da8bb283b62ba49f16"
   },
   "source": [
    "### Keras: CNN model 2  \n",
    "Conv2D (32, (3, 3))  \n",
    "Pooling2D (2,2)  \n",
    "Conv2D (32, (3, 3))  \n",
    "Pooling2D (2,2)  \n",
    "Flatten  \n",
    "Dense(256, relu)  \n",
    "Dense(10, softmax)  "
   ]
  },
  {
   "cell_type": "code",
   "execution_count": 75,
   "metadata": {
    "_uuid": "7ccfc62ebf08b287f8a49515bcd015f7bc91c4ea"
   },
   "outputs": [],
   "source": [
    "batch_size=90\n",
    "epochs=30\n"
   ]
  },
  {
   "cell_type": "code",
   "execution_count": 76,
   "metadata": {
    "_uuid": "5c79037260e74aba99f1676e64147d83c0357413"
   },
   "outputs": [],
   "source": [
    "def cnn_model_2(optimizer,loss):\n",
    "\n",
    "    model = Sequential()\n",
    "\n",
    "    model.add(Conv2D(32, (3, 3), padding = 'Same', activation=\"relu\", input_shape=input_shape ))\n",
    "    model.add(MaxPooling2D(pool_size = (2, 2)))\n",
    "\n",
    "    model.add(Conv2D(32, (3, 3), activation=\"relu\"))\n",
    "    model.add(MaxPooling2D(pool_size = (2, 2)))\n",
    "\n",
    "    model.add(Flatten())\n",
    "\n",
    "    model.add(Dense(256, activation=activation))\n",
    "    model.add(Dense(10, activation='softmax'))\n",
    "\n",
    "    model.compile(optimizer = optimizer, loss = loss, metrics = ['accuracy']) \n",
    "\n",
    "    return model"
   ]
  },
  {
   "cell_type": "code",
   "execution_count": 77,
   "metadata": {
    "_uuid": "118c6e0a388e7ed8ea0d856675a54d71c313276e"
   },
   "outputs": [
    {
     "name": "stdout",
     "output_type": "stream",
     "text": [
      "_________________________________________________________________\n",
      "Layer (type)                 Output Shape              Param #   \n",
      "=================================================================\n",
      "conv2d_3 (Conv2D)            (None, 28, 28, 32)        320       \n",
      "_________________________________________________________________\n",
      "max_pooling2d_2 (MaxPooling2 (None, 14, 14, 32)        0         \n",
      "_________________________________________________________________\n",
      "conv2d_4 (Conv2D)            (None, 12, 12, 32)        9248      \n",
      "_________________________________________________________________\n",
      "max_pooling2d_3 (MaxPooling2 (None, 6, 6, 32)          0         \n",
      "_________________________________________________________________\n",
      "flatten_2 (Flatten)          (None, 1152)              0         \n",
      "_________________________________________________________________\n",
      "dense_13 (Dense)             (None, 256)               295168    \n",
      "_________________________________________________________________\n",
      "dense_14 (Dense)             (None, 10)                2570      \n",
      "=================================================================\n",
      "Total params: 307,306\n",
      "Trainable params: 307,306\n",
      "Non-trainable params: 0\n",
      "_________________________________________________________________\n"
     ]
    }
   ],
   "source": [
    "model_cnn_2 = cnn_model_2(adadelta, categorical_crossentropy)\n",
    "model_cnn_2.summary()"
   ]
  },
  {
   "cell_type": "code",
   "execution_count": 78,
   "metadata": {
    "_kg_hide-output": true,
    "_uuid": "fe6b203292cc967c3ad35e1199694f0ca3755312"
   },
   "outputs": [
    {
     "name": "stdout",
     "output_type": "stream",
     "text": [
      "Train on 30000 samples, validate on 10000 samples\n",
      "Epoch 1/30\n",
      "30000/30000 [==============================] - 16s 544us/step - loss: 0.3421 - acc: 0.8939 - val_loss: 0.1026 - val_acc: 0.9691\n",
      "Epoch 2/30\n",
      "30000/30000 [==============================] - 15s 499us/step - loss: 0.0840 - acc: 0.9739 - val_loss: 0.0676 - val_acc: 0.9783\n",
      "Epoch 3/30\n",
      "30000/30000 [==============================] - 15s 500us/step - loss: 0.0566 - acc: 0.9821 - val_loss: 0.0497 - val_acc: 0.9850\n",
      "Epoch 4/30\n",
      "30000/30000 [==============================] - 15s 496us/step - loss: 0.0417 - acc: 0.9863 - val_loss: 0.0492 - val_acc: 0.9842\n",
      "Epoch 5/30\n",
      "30000/30000 [==============================] - 15s 497us/step - loss: 0.0310 - acc: 0.9896 - val_loss: 0.0461 - val_acc: 0.9862\n",
      "Epoch 6/30\n",
      "30000/30000 [==============================] - 15s 495us/step - loss: 0.0240 - acc: 0.9925 - val_loss: 0.0440 - val_acc: 0.9866\n",
      "Epoch 7/30\n",
      "30000/30000 [==============================] - 15s 497us/step - loss: 0.0181 - acc: 0.9944 - val_loss: 0.0447 - val_acc: 0.9865\n",
      "Epoch 8/30\n",
      "30000/30000 [==============================] - 15s 497us/step - loss: 0.0140 - acc: 0.9956 - val_loss: 0.0404 - val_acc: 0.9895\n",
      "Epoch 9/30\n",
      "30000/30000 [==============================] - 15s 496us/step - loss: 0.0115 - acc: 0.9963 - val_loss: 0.0409 - val_acc: 0.9895\n",
      "Epoch 10/30\n",
      "30000/30000 [==============================] - 15s 496us/step - loss: 0.0084 - acc: 0.9976 - val_loss: 0.0405 - val_acc: 0.9894\n",
      "Epoch 11/30\n",
      "30000/30000 [==============================] - 15s 498us/step - loss: 0.0070 - acc: 0.9981 - val_loss: 0.0509 - val_acc: 0.9884\n",
      "Epoch 12/30\n",
      "30000/30000 [==============================] - 15s 498us/step - loss: 0.0053 - acc: 0.9987 - val_loss: 0.0470 - val_acc: 0.9899\n",
      "Epoch 13/30\n",
      "30000/30000 [==============================] - 15s 497us/step - loss: 0.0044 - acc: 0.9989 - val_loss: 0.0429 - val_acc: 0.9901\n",
      "Epoch 14/30\n",
      "30000/30000 [==============================] - 15s 498us/step - loss: 0.0037 - acc: 0.9991 - val_loss: 0.0484 - val_acc: 0.9890\n",
      "Epoch 15/30\n",
      "30000/30000 [==============================] - 15s 495us/step - loss: 0.0025 - acc: 0.9995 - val_loss: 0.0494 - val_acc: 0.9892\n",
      "Epoch 16/30\n",
      "30000/30000 [==============================] - 15s 498us/step - loss: 0.0023 - acc: 0.9994 - val_loss: 0.0485 - val_acc: 0.9895\n",
      "Epoch 17/30\n",
      "30000/30000 [==============================] - 15s 496us/step - loss: 0.0018 - acc: 0.9996 - val_loss: 0.0492 - val_acc: 0.9900\n",
      "Epoch 18/30\n",
      "30000/30000 [==============================] - 15s 497us/step - loss: 0.0014 - acc: 0.9997 - val_loss: 0.0515 - val_acc: 0.9896\n",
      "Epoch 19/30\n",
      "30000/30000 [==============================] - 15s 498us/step - loss: 0.0010 - acc: 0.9998 - val_loss: 0.0505 - val_acc: 0.9904\n",
      "Epoch 20/30\n",
      "30000/30000 [==============================] - 15s 495us/step - loss: 8.9148e-04 - acc: 0.9999 - val_loss: 0.0523 - val_acc: 0.9899\n",
      "Epoch 21/30\n",
      "30000/30000 [==============================] - 15s 499us/step - loss: 7.6180e-04 - acc: 0.9999 - val_loss: 0.0539 - val_acc: 0.9910\n",
      "Epoch 22/30\n",
      "30000/30000 [==============================] - 16s 518us/step - loss: 7.7478e-04 - acc: 0.9999 - val_loss: 0.0539 - val_acc: 0.9899\n",
      "Epoch 23/30\n",
      "30000/30000 [==============================] - 15s 497us/step - loss: 7.3702e-04 - acc: 0.9999 - val_loss: 0.0547 - val_acc: 0.9907\n",
      "Epoch 24/30\n",
      "30000/30000 [==============================] - 15s 496us/step - loss: 7.1390e-04 - acc: 0.9999 - val_loss: 0.0545 - val_acc: 0.9904\n",
      "Epoch 25/30\n",
      "30000/30000 [==============================] - 15s 496us/step - loss: 6.0437e-04 - acc: 1.0000 - val_loss: 0.0561 - val_acc: 0.9907\n",
      "Epoch 26/30\n",
      "30000/30000 [==============================] - 15s 496us/step - loss: 6.0387e-04 - acc: 1.0000 - val_loss: 0.0594 - val_acc: 0.9893\n",
      "Epoch 27/30\n",
      "30000/30000 [==============================] - 15s 496us/step - loss: 5.9074e-04 - acc: 1.0000 - val_loss: 0.0574 - val_acc: 0.9901\n",
      "Epoch 28/30\n",
      "30000/30000 [==============================] - 15s 496us/step - loss: 5.8298e-04 - acc: 1.0000 - val_loss: 0.0572 - val_acc: 0.9904\n",
      "Epoch 29/30\n",
      "30000/30000 [==============================] - 15s 494us/step - loss: 5.7154e-04 - acc: 1.0000 - val_loss: 0.0582 - val_acc: 0.9900\n",
      "Epoch 30/30\n",
      "30000/30000 [==============================] - 15s 496us/step - loss: 5.6944e-04 - acc: 1.0000 - val_loss: 0.0583 - val_acc: 0.9903\n"
     ]
    }
   ],
   "source": [
    "#model_cnn_2.fit(X_train, y_train, batch_size=batch_size, epochs=epochs)\n",
    "history_cnn_2 = model_cnn_2.fit(X_train, y_train, validation_data=(X_val,y_val_10), \n",
    "                                epochs=epochs, batch_size=batchsize, verbose=1)"
   ]
  },
  {
   "cell_type": "code",
   "execution_count": 79,
   "metadata": {
    "_uuid": "adbe3d7a391ec4eedfcba6c64410dcd24b94c74f"
   },
   "outputs": [
    {
     "data": {
      "image/png": "[encoded data removed]",
      "text/plain": [
       "<Figure size 864x288 with 2 Axes>"
      ]
     },
     "metadata": {
      "needs_background": "light"
     },
     "output_type": "display_data"
    }
   ],
   "source": [
    "plot_history_loss_and_acc(history_cnn_2)"
   ]
  },
  {
   "cell_type": "code",
   "execution_count": 80,
   "metadata": {
    "_uuid": "7060a5a43d925c3c66dd9b7a0ee2ca8215543c28"
   },
   "outputs": [
    {
     "name": "stdout",
     "output_type": "stream",
     "text": [
      "              precision    recall  f1-score   support\n",
      "\n",
      "           0       0.99      1.00      0.99       998\n",
      "           1       0.99      1.00      0.99      1127\n",
      "           2       0.99      0.99      0.99       967\n",
      "           3       0.99      0.99      0.99      1060\n",
      "           4       0.99      0.99      0.99       914\n",
      "           5       0.99      0.99      0.99       914\n",
      "           6       1.00      1.00      1.00       951\n",
      "           7       0.99      0.99      0.99      1066\n",
      "           8       0.99      0.99      0.99       995\n",
      "           9       0.99      0.97      0.98      1008\n",
      "\n",
      "    accuracy                           0.99     10000\n",
      "   macro avg       0.99      0.99      0.99     10000\n",
      "weighted avg       0.99      0.99      0.99     10000\n",
      "\n",
      "0.9903\n"
     ]
    },
    {
     "data": {
      "image/png": "[encoded data removed]",
      "text/plain": [
       "<Figure size 576x576 with 1 Axes>"
      ]
     },
     "metadata": {
      "needs_background": "light"
     },
     "output_type": "display_data"
    }
   ],
   "source": [
    "pred_val_cnn2 = model_cnn_2.predict_classes(X_val)\n",
    "plot_confusion_matrix(y_val, pred_val_cnn2)\n",
    "print(classification_report(y_val, pred_val_cnn2))\n",
    "acc_cnn2 = accuracy_score(y_val, pred_val_cnn2)\n",
    "print(acc_cnn2)"
   ]
  },
  {
   "cell_type": "code",
   "execution_count": null,
   "metadata": {
    "_uuid": "e6f3b90dccee24757d85e13cae01ea4ec774ac2c"
   },
   "outputs": [],
   "source": []
  },
  {
   "cell_type": "code",
   "execution_count": null,
   "metadata": {},
   "outputs": [],
   "source": []
  },
  {
   "cell_type": "markdown",
   "metadata": {
    "_uuid": "bd46c1843dc3685487221202fcaa01187450cce9"
   },
   "source": [
    "# Part 4: Predictions for test data"
   ]
  },
  {
   "cell_type": "code",
   "execution_count": 81,
   "metadata": {
    "_uuid": "e5a965e3f8dfc40cd7a0893fb0bf93432cc7dd8d"
   },
   "outputs": [],
   "source": [
    "sample_submission = pd.read_csv('../input/sample_submission.csv')\n",
    "if mode == \"edit\" :\n",
    "    X = X[:nr_samples//2]\n",
    "    y = y[:nr_samples//2]\n",
    "    X_test = X_test[:nr_samples//2]\n",
    "    sample_submission = sample_submission[:nr_samples//2]"
   ]
  },
  {
   "cell_type": "code",
   "execution_count": 82,
   "metadata": {
    "_uuid": "3c2ab7b1b478d55cde8e72579d45a9f371cb7891"
   },
   "outputs": [
    {
     "name": "stdout",
     "output_type": "stream",
     "text": [
      "(42000, 784)\n",
      "(42000,)\n",
      "(28000, 784)\n"
     ]
    }
   ],
   "source": [
    "print(X.shape)\n",
    "print(y.shape)\n",
    "print(X_test.shape)"
   ]
  },
  {
   "cell_type": "markdown",
   "metadata": {
    "_uuid": "bfc8459af6688c2adbc35245c476ba1addcab8ca"
   },
   "source": [
    "## Fitting on all training data"
   ]
  },
  {
   "cell_type": "markdown",
   "metadata": {
    "_uuid": "570c7aadcc59b2fb88c759a30bb9865a9f34794a"
   },
   "source": [
    "**For the GridSearchCV studies on finding the best model parameters we fit the classifiers using cross validation.**  \n",
    "**This reduces the number of training examples because a portion of the data is used for validation.**  \n",
    "**We now fit the classifiers on the complete training set (42000 samples).**  \n",
    "**Then we use this new fit to make predictions for the test dataset (28000 samples).**"
   ]
  },
  {
   "cell_type": "code",
   "execution_count": null,
   "metadata": {},
   "outputs": [],
   "source": []
  },
  {
   "cell_type": "markdown",
   "metadata": {},
   "source": [
    "**Perceptron**"
   ]
  },
  {
   "cell_type": "code",
   "execution_count": 83,
   "metadata": {},
   "outputs": [
    {
     "name": "stdout",
     "output_type": "stream",
     "text": [
      "{'penalty': 'l1', 'tol': 0.05}\n"
     ]
    },
    {
     "data": {
      "text/plain": [
       "Perceptron(alpha=0.0001, class_weight=None, early_stopping=False, eta0=1.0,\n",
       "           fit_intercept=True, max_iter=1000, n_iter_no_change=5, n_jobs=None,\n",
       "           penalty='l1', random_state=0, shuffle=True, tol=0.05,\n",
       "           validation_fraction=0.1, verbose=0, warm_start=False)"
      ]
     },
     "execution_count": 83,
     "metadata": {},
     "output_type": "execute_result"
    }
   ],
   "source": [
    "print(GridCV_Perceptron.best_params_)\n",
    "GridCV_Perceptron.best_estimator_.fit(X,y)"
   ]
  },
  {
   "cell_type": "code",
   "execution_count": 84,
   "metadata": {},
   "outputs": [],
   "source": [
    "pred_test_perc = GridCV_Perceptron.best_estimator_.predict(X_test)\n",
    "result_perc = pd.DataFrame({'ImageId':sample_submission.ImageId, 'Label':pred_test_perc})\n",
    "result_perc.to_csv(\"subm_perc.csv\",index=False)"
   ]
  },
  {
   "cell_type": "markdown",
   "metadata": {},
   "source": [
    "**Logistic Regression**"
   ]
  },
  {
   "cell_type": "code",
   "execution_count": 85,
   "metadata": {},
   "outputs": [
    {
     "name": "stdout",
     "output_type": "stream",
     "text": [
      "{'C': 0.014, 'multi_class': 'multinomial', 'penalty': 'l1', 'solver': 'saga', 'tol': 0.1}\n"
     ]
    },
    {
     "data": {
      "text/plain": [
       "LogisticRegression(C=0.014, class_weight=None, dual=False, fit_intercept=True,\n",
       "                   intercept_scaling=1, l1_ratio=None, max_iter=100,\n",
       "                   multi_class='multinomial', n_jobs=None, penalty='l1',\n",
       "                   random_state=0, solver='saga', tol=0.1, verbose=0,\n",
       "                   warm_start=False)"
      ]
     },
     "execution_count": 85,
     "metadata": {},
     "output_type": "execute_result"
    }
   ],
   "source": [
    "print(GridCV_LR.best_params_)\n",
    "GridCV_LR.best_estimator_.fit(X,y)"
   ]
  },
  {
   "cell_type": "code",
   "execution_count": 86,
   "metadata": {},
   "outputs": [],
   "source": [
    "pred_test_lr = GridCV_LR.best_estimator_.predict(X_test)\n",
    "result_lr = pd.DataFrame({'ImageId':sample_submission.ImageId, 'Label':pred_test_lr})\n",
    "result_lr.to_csv(\"subm_lr.csv\",index=False)"
   ]
  },
  {
   "cell_type": "markdown",
   "metadata": {},
   "source": [
    "**KNN**"
   ]
  },
  {
   "cell_type": "code",
   "execution_count": 87,
   "metadata": {},
   "outputs": [
    {
     "data": {
      "text/plain": [
       "KNeighborsClassifier(algorithm='auto', leaf_size=30, metric='minkowski',\n",
       "                     metric_params=None, n_jobs=None, n_neighbors=10, p=2,\n",
       "                     weights='uniform')"
      ]
     },
     "execution_count": 87,
     "metadata": {},
     "output_type": "execute_result"
    }
   ],
   "source": [
    "clf_knn.fit(X,y)"
   ]
  },
  {
   "cell_type": "code",
   "execution_count": 88,
   "metadata": {},
   "outputs": [],
   "source": [
    "pred_test_knn = clf_knn.predict(X_test)\n",
    "result_knn = pd.DataFrame({'ImageId':sample_submission.ImageId, 'Label':pred_test_knn})\n",
    "result_knn.to_csv(\"subm_knn.csv\",index=False)"
   ]
  },
  {
   "cell_type": "markdown",
   "metadata": {
    "_uuid": "06692ecfb698bee2fe81bededdb0c43ff0af9cd4"
   },
   "source": [
    "**Random Forest**"
   ]
  },
  {
   "cell_type": "code",
   "execution_count": 89,
   "metadata": {
    "_uuid": "f4b09aeeb55110c1a1613c5574d2e1e4965e4e49"
   },
   "outputs": [
    {
     "name": "stdout",
     "output_type": "stream",
     "text": [
      "{'max_depth': 15, 'max_features': 100, 'min_samples_split': 5, 'n_estimators': 50}\n"
     ]
    },
    {
     "data": {
      "text/plain": [
       "RandomForestClassifier(bootstrap=True, class_weight=None, criterion='gini',\n",
       "                       max_depth=15, max_features=100, max_leaf_nodes=None,\n",
       "                       min_impurity_decrease=0.0, min_impurity_split=None,\n",
       "                       min_samples_leaf=1, min_samples_split=5,\n",
       "                       min_weight_fraction_leaf=0.0, n_estimators=50,\n",
       "                       n_jobs=None, oob_score=False, random_state=0, verbose=0,\n",
       "                       warm_start=False)"
      ]
     },
     "execution_count": 89,
     "metadata": {},
     "output_type": "execute_result"
    }
   ],
   "source": [
    "print(GridCV_RF.best_params_)\n",
    "GridCV_RF.best_estimator_.fit(X,y)"
   ]
  },
  {
   "cell_type": "code",
   "execution_count": 90,
   "metadata": {
    "_uuid": "8b9424506c96c1489e6a6edc398a1a4d05138ea4"
   },
   "outputs": [],
   "source": [
    "pred_test_rf = GridCV_RF.best_estimator_.predict(X_test)\n",
    "result_rf = pd.DataFrame({'ImageId':sample_submission.ImageId, 'Label':pred_test_rf})\n",
    "result_rf.to_csv(\"subm_rf.csv\",index=False)"
   ]
  },
  {
   "cell_type": "markdown",
   "metadata": {},
   "source": [
    "**SVM**"
   ]
  },
  {
   "cell_type": "code",
   "execution_count": 91,
   "metadata": {},
   "outputs": [
    {
     "data": {
      "text/plain": [
       "SVC(C=5, cache_size=200, class_weight=None, coef0=0.0,\n",
       "    decision_function_shape='ovr', degree=3, gamma=0.05, kernel='rbf',\n",
       "    max_iter=-1, probability=False, random_state=0, shrinking=True, tol=0.001,\n",
       "    verbose=False)"
      ]
     },
     "execution_count": 91,
     "metadata": {},
     "output_type": "execute_result"
    }
   ],
   "source": [
    "clf_svm.fit(X,y)"
   ]
  },
  {
   "cell_type": "code",
   "execution_count": 92,
   "metadata": {},
   "outputs": [],
   "source": [
    "pred_test_svm = clf_svm.predict(X_test)\n",
    "result_svm = pd.DataFrame({'ImageId':sample_submission.ImageId, 'Label':pred_test_svm})\n",
    "result_svm.to_csv(\"subm_svm.csv\",index=False)"
   ]
  },
  {
   "cell_type": "markdown",
   "metadata": {
    "_uuid": "1bdcfe075e2caea29dc6714161f8e7306dbea8e9"
   },
   "source": [
    "**MLP**"
   ]
  },
  {
   "cell_type": "code",
   "execution_count": 93,
   "metadata": {
    "_uuid": "6e75e8a0c00fd9bc664fc7a10721d51b483ee36e"
   },
   "outputs": [
    {
     "name": "stdout",
     "output_type": "stream",
     "text": [
      "{'alpha': 0.0001, 'batch_size': 2000, 'learning_rate_init': 0.06, 'max_iter': 600, 'solver': 'sgd', 'tol': 0.0001}\n"
     ]
    },
    {
     "data": {
      "text/plain": [
       "MLPClassifier(activation='logistic', alpha=0.0001, batch_size=2000, beta_1=0.9,\n",
       "              beta_2=0.999, early_stopping=False, epsilon=1e-08,\n",
       "              hidden_layer_sizes=(200,), learning_rate='constant',\n",
       "              learning_rate_init=0.06, max_iter=600, momentum=0.9,\n",
       "              n_iter_no_change=10, nesterovs_momentum=True, power_t=0.5,\n",
       "              random_state=0, shuffle=True, solver='sgd', tol=0.0001,\n",
       "              validation_fraction=0.1, verbose=False, warm_start=False)"
      ]
     },
     "execution_count": 93,
     "metadata": {},
     "output_type": "execute_result"
    }
   ],
   "source": [
    "print(GridCV_MLP.best_params_)\n",
    "GridCV_MLP.best_estimator_.fit(X,y)"
   ]
  },
  {
   "cell_type": "code",
   "execution_count": 94,
   "metadata": {
    "_uuid": "df1c0ac5208d098578e4341402c1c4cca459c9a2"
   },
   "outputs": [],
   "source": [
    "pred_test_mlp = GridCV_MLP.best_estimator_.predict(X_test)\n",
    "result_mlp = pd.DataFrame({'ImageId':sample_submission.ImageId, 'Label':pred_test_mlp})\n",
    "result_mlp.to_csv(\"subm_mlp.csv\",index=False)"
   ]
  },
  {
   "cell_type": "code",
   "execution_count": null,
   "metadata": {
    "_uuid": "ba68604039f0621a649cc30b0762a20e2c568577"
   },
   "outputs": [],
   "source": []
  },
  {
   "cell_type": "code",
   "execution_count": 95,
   "metadata": {},
   "outputs": [],
   "source": [
    "y = to_categorical(y, 10)"
   ]
  },
  {
   "cell_type": "markdown",
   "metadata": {},
   "source": [
    "**dense_1**"
   ]
  },
  {
   "cell_type": "code",
   "execution_count": 96,
   "metadata": {},
   "outputs": [
    {
     "name": "stdout",
     "output_type": "stream",
     "text": [
      "Epoch 1/1\n",
      "42000/42000 [==============================] - 6s 148us/step - loss: 0.1143 - acc: 0.9637\n"
     ]
    }
   ],
   "source": [
    "model_dense_1.fit(X,y)\n",
    "pred_test_fc1 = model_dense_1.predict_classes(X_test)\n",
    "result_fc1 = pd.DataFrame({'ImageId':sample_submission.ImageId, 'Label':pred_test_fc1})\n",
    "result_fc1.to_csv(\"dense_1.csv\",index=False)"
   ]
  },
  {
   "cell_type": "code",
   "execution_count": null,
   "metadata": {},
   "outputs": [],
   "source": []
  },
  {
   "cell_type": "markdown",
   "metadata": {},
   "source": [
    "**dense_2**"
   ]
  },
  {
   "cell_type": "code",
   "execution_count": 97,
   "metadata": {},
   "outputs": [
    {
     "name": "stdout",
     "output_type": "stream",
     "text": [
      "Epoch 1/1\n",
      "42000/42000 [==============================] - 7s 158us/step - loss: 0.1153 - acc: 0.9634\n"
     ]
    }
   ],
   "source": [
    "model_dense_2.fit(X,y)\n",
    "pred_test_fc2 = model_dense_2.predict_classes(X_test)\n",
    "result_fc2 = pd.DataFrame({'ImageId':sample_submission.ImageId, 'Label':pred_test_fc2})\n",
    "result_fc2.to_csv(\"dense_2.csv\",index=False)"
   ]
  },
  {
   "cell_type": "code",
   "execution_count": null,
   "metadata": {},
   "outputs": [],
   "source": []
  },
  {
   "cell_type": "markdown",
   "metadata": {},
   "source": [
    "**dense_3**"
   ]
  },
  {
   "cell_type": "code",
   "execution_count": 98,
   "metadata": {},
   "outputs": [
    {
     "name": "stdout",
     "output_type": "stream",
     "text": [
      "Epoch 1/1\n",
      "42000/42000 [==============================] - 8s 197us/step - loss: 0.1306 - acc: 0.9612\n"
     ]
    }
   ],
   "source": [
    "model_dense_3.fit(X,y)\n",
    "pred_test_fc3 = model_dense_3.predict_classes(X_test)\n",
    "result_fc3 = pd.DataFrame({'ImageId':sample_submission.ImageId, 'Label':pred_test_fc3})\n",
    "result_fc3.to_csv(\"dense_3.csv\",index=False)"
   ]
  },
  {
   "cell_type": "code",
   "execution_count": null,
   "metadata": {},
   "outputs": [],
   "source": []
  },
  {
   "cell_type": "code",
   "execution_count": null,
   "metadata": {},
   "outputs": [],
   "source": []
  },
  {
   "cell_type": "markdown",
   "metadata": {},
   "source": [
    "**reshape for CNN**"
   ]
  },
  {
   "cell_type": "code",
   "execution_count": 99,
   "metadata": {
    "_uuid": "f837e052e9122a35c40f234537a7e78c326141ee"
   },
   "outputs": [],
   "source": [
    "X = X.values.reshape(X.shape[0], img_rows, img_cols, 1)\n",
    "X_test = X_test.values.reshape(X_test.shape[0], img_rows, img_cols, 1)\n",
    "#y = to_categorical(y, 10)"
   ]
  },
  {
   "cell_type": "markdown",
   "metadata": {
    "_uuid": "7d707dbea94924b801baec99f68f4425855a0835"
   },
   "source": [
    "**CNN 1**"
   ]
  },
  {
   "cell_type": "code",
   "execution_count": 100,
   "metadata": {
    "_uuid": "84ce81d5aecc157d902bd81f715dea44a32ad8dd"
   },
   "outputs": [
    {
     "data": {
      "text/plain": [
       "<keras.callbacks.History at 0x7f4e1bcee550>"
      ]
     },
     "execution_count": 100,
     "metadata": {},
     "output_type": "execute_result"
    }
   ],
   "source": [
    "batchsize = 128\n",
    "epochs = 12\n",
    "model_cnn_1 = cnn_model_1('relu')\n",
    "model_cnn_1.fit(X, y, epochs=epochs, batch_size=batchsize, verbose=0)"
   ]
  },
  {
   "cell_type": "code",
   "execution_count": 101,
   "metadata": {
    "_uuid": "5713f7ef07f85800b6869769c4f44f96cc917f4f"
   },
   "outputs": [],
   "source": [
    "pred_test_cnn_1 = model_cnn_1.predict(X_test)\n",
    "pred_test_cnn_1 = np.argmax(pred_test_cnn_1,axis=1)\n",
    "result_cnn_1 = pd.DataFrame({'ImageId':sample_submission.ImageId, 'Label':pred_test_cnn_1})\n",
    "result_cnn_1.to_csv(\"subm_cnn_1.csv\",index=False)"
   ]
  },
  {
   "cell_type": "code",
   "execution_count": null,
   "metadata": {
    "_uuid": "6c67a69ccc0b8ae7036c90bafbd83acc4521b92a"
   },
   "outputs": [],
   "source": []
  },
  {
   "cell_type": "markdown",
   "metadata": {
    "_uuid": "39798af2742ea7a448937b104d4f2574a5d6929e"
   },
   "source": [
    "**CNN 2**"
   ]
  },
  {
   "cell_type": "code",
   "execution_count": 102,
   "metadata": {
    "_uuid": "d592f348e38a7f1fd73b54b03cae5a9988440452"
   },
   "outputs": [
    {
     "data": {
      "text/plain": [
       "<keras.callbacks.History at 0x7f4e72f8afd0>"
      ]
     },
     "execution_count": 102,
     "metadata": {},
     "output_type": "execute_result"
    }
   ],
   "source": [
    "batch_size=90\n",
    "epochs=30\n",
    "model_cnn_2 = cnn_model_2(adadelta, categorical_crossentropy)\n",
    "model_cnn_2.fit(X, y, epochs=epochs, batch_size=batchsize, verbose=0)"
   ]
  },
  {
   "cell_type": "code",
   "execution_count": 103,
   "metadata": {
    "_uuid": "a398cc85d02a18befc6761cbb12ed7b6aaa7c508"
   },
   "outputs": [],
   "source": [
    "pred_test_cnn_2 = model_cnn_2.predict(X_test)\n",
    "pred_test_cnn_2 = np.argmax(pred_test_cnn_2,axis=1)\n",
    "result_cnn_2 = pd.DataFrame({'ImageId':sample_submission.ImageId, 'Label':pred_test_cnn_2})\n",
    "result_cnn_2.to_csv(\"subm_cnn_2_adadelta.csv\",index=False)"
   ]
  },
  {
   "cell_type": "code",
   "execution_count": null,
   "metadata": {
    "_uuid": "7300c21c094dfa58536e8a2edd919b3629bb941d"
   },
   "outputs": [],
   "source": []
  },
  {
   "cell_type": "markdown",
   "metadata": {},
   "source": [
    "Correlation of prediction results"
   ]
  },
  {
   "cell_type": "code",
   "execution_count": 104,
   "metadata": {
    "_uuid": "cdb3d41e7a3b1478e048fe8434ca0661e44bc28a"
   },
   "outputs": [
    {
     "data": {
      "text/html": [
       "<div>\n",
       "<style scoped>\n",
       "    .dataframe tbody tr th:only-of-type {\n",
       "        vertical-align: middle;\n",
       "    }\n",
       "\n",
       "    .dataframe tbody tr th {\n",
       "        vertical-align: top;\n",
       "    }\n",
       "\n",
       "    .dataframe thead th {\n",
       "        text-align: right;\n",
       "    }\n",
       "</style>\n",
       "<table border=\"1\" class=\"dataframe\">\n",
       "  <thead>\n",
       "    <tr style=\"text-align: right;\">\n",
       "      <th></th>\n",
       "      <th>PERC</th>\n",
       "      <th>LR</th>\n",
       "      <th>KNN</th>\n",
       "      <th>RF</th>\n",
       "      <th>SVM</th>\n",
       "      <th>MLP</th>\n",
       "      <th>DENSE1</th>\n",
       "      <th>DENSE2</th>\n",
       "      <th>DENSE3</th>\n",
       "      <th>CNN1</th>\n",
       "      <th>CNN2</th>\n",
       "    </tr>\n",
       "  </thead>\n",
       "  <tbody>\n",
       "    <tr>\n",
       "      <th>PERC</th>\n",
       "      <td>1.000000</td>\n",
       "      <td>0.867178</td>\n",
       "      <td>0.851087</td>\n",
       "      <td>0.852548</td>\n",
       "      <td>0.850734</td>\n",
       "      <td>0.852355</td>\n",
       "      <td>0.849009</td>\n",
       "      <td>0.849463</td>\n",
       "      <td>0.852719</td>\n",
       "      <td>0.844181</td>\n",
       "      <td>0.843605</td>\n",
       "    </tr>\n",
       "    <tr>\n",
       "      <th>LR</th>\n",
       "      <td>0.867178</td>\n",
       "      <td>1.000000</td>\n",
       "      <td>0.892210</td>\n",
       "      <td>0.898733</td>\n",
       "      <td>0.887397</td>\n",
       "      <td>0.887985</td>\n",
       "      <td>0.886059</td>\n",
       "      <td>0.885588</td>\n",
       "      <td>0.883737</td>\n",
       "      <td>0.879695</td>\n",
       "      <td>0.877142</td>\n",
       "    </tr>\n",
       "    <tr>\n",
       "      <th>KNN</th>\n",
       "      <td>0.851087</td>\n",
       "      <td>0.892210</td>\n",
       "      <td>1.000000</td>\n",
       "      <td>0.955147</td>\n",
       "      <td>0.967841</td>\n",
       "      <td>0.958213</td>\n",
       "      <td>0.949721</td>\n",
       "      <td>0.952419</td>\n",
       "      <td>0.949494</td>\n",
       "      <td>0.961315</td>\n",
       "      <td>0.960711</td>\n",
       "    </tr>\n",
       "    <tr>\n",
       "      <th>RF</th>\n",
       "      <td>0.852548</td>\n",
       "      <td>0.898733</td>\n",
       "      <td>0.955147</td>\n",
       "      <td>1.000000</td>\n",
       "      <td>0.966060</td>\n",
       "      <td>0.959972</td>\n",
       "      <td>0.951838</td>\n",
       "      <td>0.953072</td>\n",
       "      <td>0.950813</td>\n",
       "      <td>0.960889</td>\n",
       "      <td>0.958647</td>\n",
       "    </tr>\n",
       "    <tr>\n",
       "      <th>SVM</th>\n",
       "      <td>0.850734</td>\n",
       "      <td>0.887397</td>\n",
       "      <td>0.967841</td>\n",
       "      <td>0.966060</td>\n",
       "      <td>1.000000</td>\n",
       "      <td>0.976297</td>\n",
       "      <td>0.966012</td>\n",
       "      <td>0.968825</td>\n",
       "      <td>0.965515</td>\n",
       "      <td>0.980558</td>\n",
       "      <td>0.980500</td>\n",
       "    </tr>\n",
       "    <tr>\n",
       "      <th>MLP</th>\n",
       "      <td>0.852355</td>\n",
       "      <td>0.887985</td>\n",
       "      <td>0.958213</td>\n",
       "      <td>0.959972</td>\n",
       "      <td>0.976297</td>\n",
       "      <td>1.000000</td>\n",
       "      <td>0.970005</td>\n",
       "      <td>0.972675</td>\n",
       "      <td>0.968025</td>\n",
       "      <td>0.973314</td>\n",
       "      <td>0.972661</td>\n",
       "    </tr>\n",
       "    <tr>\n",
       "      <th>DENSE1</th>\n",
       "      <td>0.849009</td>\n",
       "      <td>0.886059</td>\n",
       "      <td>0.949721</td>\n",
       "      <td>0.951838</td>\n",
       "      <td>0.966012</td>\n",
       "      <td>0.970005</td>\n",
       "      <td>1.000000</td>\n",
       "      <td>0.964104</td>\n",
       "      <td>0.957261</td>\n",
       "      <td>0.961916</td>\n",
       "      <td>0.959069</td>\n",
       "    </tr>\n",
       "    <tr>\n",
       "      <th>DENSE2</th>\n",
       "      <td>0.849463</td>\n",
       "      <td>0.885588</td>\n",
       "      <td>0.952419</td>\n",
       "      <td>0.953072</td>\n",
       "      <td>0.968825</td>\n",
       "      <td>0.972675</td>\n",
       "      <td>0.964104</td>\n",
       "      <td>1.000000</td>\n",
       "      <td>0.963245</td>\n",
       "      <td>0.967541</td>\n",
       "      <td>0.966793</td>\n",
       "    </tr>\n",
       "    <tr>\n",
       "      <th>DENSE3</th>\n",
       "      <td>0.852719</td>\n",
       "      <td>0.883737</td>\n",
       "      <td>0.949494</td>\n",
       "      <td>0.950813</td>\n",
       "      <td>0.965515</td>\n",
       "      <td>0.968025</td>\n",
       "      <td>0.957261</td>\n",
       "      <td>0.963245</td>\n",
       "      <td>1.000000</td>\n",
       "      <td>0.961922</td>\n",
       "      <td>0.962372</td>\n",
       "    </tr>\n",
       "    <tr>\n",
       "      <th>CNN1</th>\n",
       "      <td>0.844181</td>\n",
       "      <td>0.879695</td>\n",
       "      <td>0.961315</td>\n",
       "      <td>0.960889</td>\n",
       "      <td>0.980558</td>\n",
       "      <td>0.973314</td>\n",
       "      <td>0.961916</td>\n",
       "      <td>0.967541</td>\n",
       "      <td>0.961922</td>\n",
       "      <td>1.000000</td>\n",
       "      <td>0.990230</td>\n",
       "    </tr>\n",
       "    <tr>\n",
       "      <th>CNN2</th>\n",
       "      <td>0.843605</td>\n",
       "      <td>0.877142</td>\n",
       "      <td>0.960711</td>\n",
       "      <td>0.958647</td>\n",
       "      <td>0.980500</td>\n",
       "      <td>0.972661</td>\n",
       "      <td>0.959069</td>\n",
       "      <td>0.966793</td>\n",
       "      <td>0.962372</td>\n",
       "      <td>0.990230</td>\n",
       "      <td>1.000000</td>\n",
       "    </tr>\n",
       "  </tbody>\n",
       "</table>\n",
       "</div>"
      ],
      "text/plain": [
       "            PERC        LR       KNN    ...       DENSE3      CNN1      CNN2\n",
       "PERC    1.000000  0.867178  0.851087    ...     0.852719  0.844181  0.843605\n",
       "LR      0.867178  1.000000  0.892210    ...     0.883737  0.879695  0.877142\n",
       "KNN     0.851087  0.892210  1.000000    ...     0.949494  0.961315  0.960711\n",
       "RF      0.852548  0.898733  0.955147    ...     0.950813  0.960889  0.958647\n",
       "SVM     0.850734  0.887397  0.967841    ...     0.965515  0.980558  0.980500\n",
       "MLP     0.852355  0.887985  0.958213    ...     0.968025  0.973314  0.972661\n",
       "DENSE1  0.849009  0.886059  0.949721    ...     0.957261  0.961916  0.959069\n",
       "DENSE2  0.849463  0.885588  0.952419    ...     0.963245  0.967541  0.966793\n",
       "DENSE3  0.852719  0.883737  0.949494    ...     1.000000  0.961922  0.962372\n",
       "CNN1    0.844181  0.879695  0.961315    ...     0.961922  1.000000  0.990230\n",
       "CNN2    0.843605  0.877142  0.960711    ...     0.962372  0.990230  1.000000\n",
       "\n",
       "[11 rows x 11 columns]"
      ]
     },
     "execution_count": 104,
     "metadata": {},
     "output_type": "execute_result"
    }
   ],
   "source": [
    "predictions = {'PERC': pred_test_perc, 'LR': pred_test_lr, 'KNN': pred_test_knn, \n",
    "               'RF': pred_test_rf, 'SVM': pred_test_svm, 'MLP': pred_test_mlp, \n",
    "               'DENSE1': pred_test_fc1, 'DENSE2': pred_test_fc2, 'DENSE3': pred_test_fc3, \n",
    "               'CNN1': pred_test_cnn_1, 'CNN2': pred_test_cnn_2}\n",
    "df_predictions = pd.DataFrame(data=predictions) \n",
    "df_predictions.corr()"
   ]
  },
  {
   "cell_type": "code",
   "execution_count": null,
   "metadata": {
    "_uuid": "cc7d2ec9be26dfcab932eecf34cb6351c84dd85a"
   },
   "outputs": [],
   "source": []
  },
  {
   "cell_type": "markdown",
   "metadata": {},
   "source": [
    "# Part 5: Comparing classifier performance"
   ]
  },
  {
   "cell_type": "code",
   "execution_count": 105,
   "metadata": {},
   "outputs": [],
   "source": [
    "list_classifiers = ['PERC','LR','KNN','RF','SVM',\n",
    "                    'MLP','DENSE1','DENSE2','DENSE3',\n",
    "                    'CNN1','CNN2']"
   ]
  },
  {
   "cell_type": "markdown",
   "metadata": {},
   "source": [
    "## Validation scores"
   ]
  },
  {
   "cell_type": "markdown",
   "metadata": {},
   "source": [
    "from validation data"
   ]
  },
  {
   "cell_type": "code",
   "execution_count": 106,
   "metadata": {
    "_uuid": "11f2b5a8c4d13361b317a39b2187ac18965397a8",
    "scrolled": true
   },
   "outputs": [],
   "source": [
    "val_scores = [acc_perc, acc_lr, acc_knn, acc_rf, \n",
    "               acc_svm, acc_mlp, acc_fc1, acc_fc2, \n",
    "               acc_fc3, acc_cnn1, acc_cnn2]"
   ]
  },
  {
   "cell_type": "markdown",
   "metadata": {
    "_uuid": "d5fbb8af1cfba8eccd1338e9befa6e61e6ca355d"
   },
   "source": [
    "## Test scores"
   ]
  },
  {
   "cell_type": "markdown",
   "metadata": {},
   "source": [
    "from submission "
   ]
  },
  {
   "cell_type": "code",
   "execution_count": 107,
   "metadata": {
    "_cell_guid": "79c7e3d0-c299-4dcb-8224-4455121ee9b0",
    "_uuid": "d629ff2d2480ee46fbb7e2d37f6b5fab8052498a"
   },
   "outputs": [],
   "source": [
    "score_perc  = 0.88057\n",
    "score_lr    = 0.88700\n",
    "score_knn   = 0.96557\n",
    "score_rf    = 0.96028\n",
    "score_svm   = 0.98100\n",
    "score_mlp   = 0.96985\n",
    "\n",
    "score_dns_1  = 0.95971 \n",
    "score_dns_2  = 0.96228      \n",
    "score_dns_3  = 0.96128\n",
    "score_cnn_1  = 0.98928\n",
    "score_cnn_2  = 0.99028"
   ]
  },
  {
   "cell_type": "code",
   "execution_count": 108,
   "metadata": {
    "_uuid": "41dc9e6e79e4aaf747f429267212bf566d57ae9e"
   },
   "outputs": [],
   "source": [
    "test_scores = [score_perc, score_lr, score_knn, score_rf, score_svm, score_mlp,\n",
    "               score_dns_1, score_dns_2, score_dns_3, score_cnn_1, score_cnn_2]"
   ]
  },
  {
   "cell_type": "code",
   "execution_count": null,
   "metadata": {
    "_uuid": "ff293aebece64b3962a973cc5f2155995d99abf7"
   },
   "outputs": [],
   "source": []
  },
  {
   "cell_type": "code",
   "execution_count": 109,
   "metadata": {
    "_uuid": "a2ef32f348371da4c987e5812d08ca41144930d4"
   },
   "outputs": [
    {
     "data": {
      "application/vnd.plotly.v1+json": {
       "config": {
        "linkText": "Export to plot.ly",
        "plotlyServerURL": "https://plot.ly",
        "showLink": false
       },
       "data": [
        {
         "name": "Validation",
         "text": [
          "PERC",
          "LR",
          "KNN",
          "RF",
          "SVM",
          "MLP",
          "DENSE1",
          "DENSE2",
          "DENSE3",
          "CNN1",
          "CNN2"
         ],
         "type": "scatter",
         "uid": "e4f06cb5-299a-40bd-9a55-cff70b71836d",
         "x": [
          "PERC",
          "LR",
          "KNN",
          "RF",
          "SVM",
          "MLP",
          "DENSE1",
          "DENSE2",
          "DENSE3",
          "CNN1",
          "CNN2"
         ],
         "y": [
          0.8787,
          0.8789,
          0.9638,
          0.9596,
          0.9808,
          0.9723,
          0.9629,
          0.9672,
          0.9692,
          0.99,
          0.9903
         ]
        },
        {
         "name": "Submission",
         "text": [
          "PERC",
          "LR",
          "KNN",
          "RF",
          "SVM",
          "MLP",
          "DENSE1",
          "DENSE2",
          "DENSE3",
          "CNN1",
          "CNN2"
         ],
         "type": "scatter",
         "uid": "756f3473-353d-4874-b402-b483290dcae3",
         "x": [
          "PERC",
          "LR",
          "KNN",
          "RF",
          "SVM",
          "MLP",
          "DENSE1",
          "DENSE2",
          "DENSE3",
          "CNN1",
          "CNN2"
         ],
         "y": [
          0.88057,
          0.887,
          0.96557,
          0.96028,
          0.981,
          0.96985,
          0.95971,
          0.96228,
          0.96128,
          0.98928,
          0.99028
         ]
        }
       ],
       "layout": {
        "autosize": false,
        "height": 500,
        "legend": {
         "orientation": "v",
         "x": 1.05,
         "y": 1.0
        },
        "title": {
         "text": "Validation and Submission Scores"
        },
        "width": 750,
        "xaxis": {
         "ticklen": 10,
         "zeroline": false
        },
        "yaxis": {
         "side": "left",
         "ticklen": 10,
         "title": {
          "text": "Accuracy"
         }
        }
       }
      },
      "text/html": [
       "<div>\n",
       "        \n",
       "        \n",
       "            <div id=\"87b4b63d-f224-4f79-a6e1-be1c7c1bcde7\" class=\"plotly-graph-div\" style=\"height:500px; width:750px;\"></div>\n",
       "            <script type=\"text/javascript\">\n",
       "                require([\"plotly\"], function(Plotly) {\n",
       "                    window.PLOTLYENV=window.PLOTLYENV || {};\n",
       "                    window.PLOTLYENV.BASE_URL='https://plot.ly';\n",
       "                    \n",
       "                if (document.getElementById(\"87b4b63d-f224-4f79-a6e1-be1c7c1bcde7\")) {\n",
       "                    Plotly.newPlot(\n",
       "                        '87b4b63d-f224-4f79-a6e1-be1c7c1bcde7',\n",
       "                        [{\"name\": \"Validation\", \"text\": [\"PERC\", \"LR\", \"KNN\", \"RF\", \"SVM\", \"MLP\", \"DENSE1\", \"DENSE2\", \"DENSE3\", \"CNN1\", \"CNN2\"], \"type\": \"scatter\", \"uid\": \"e4f06cb5-299a-40bd-9a55-cff70b71836d\", \"x\": [\"PERC\", \"LR\", \"KNN\", \"RF\", \"SVM\", \"MLP\", \"DENSE1\", \"DENSE2\", \"DENSE3\", \"CNN1\", \"CNN2\"], \"y\": [0.8787, 0.8789, 0.9638, 0.9596, 0.9808, 0.9723, 0.9629, 0.9672, 0.9692, 0.99, 0.9903]}, {\"name\": \"Submission\", \"text\": [\"PERC\", \"LR\", \"KNN\", \"RF\", \"SVM\", \"MLP\", \"DENSE1\", \"DENSE2\", \"DENSE3\", \"CNN1\", \"CNN2\"], \"type\": \"scatter\", \"uid\": \"756f3473-353d-4874-b402-b483290dcae3\", \"x\": [\"PERC\", \"LR\", \"KNN\", \"RF\", \"SVM\", \"MLP\", \"DENSE1\", \"DENSE2\", \"DENSE3\", \"CNN1\", \"CNN2\"], \"y\": [0.88057, 0.887, 0.96557, 0.96028, 0.981, 0.96985, 0.95971, 0.96228, 0.96128, 0.98928, 0.99028]}],\n",
       "                        {\"autosize\": false, \"height\": 500, \"legend\": {\"orientation\": \"v\", \"x\": 1.05, \"y\": 1.0}, \"title\": {\"text\": \"Validation and Submission Scores\"}, \"width\": 750, \"xaxis\": {\"ticklen\": 10, \"zeroline\": false}, \"yaxis\": {\"side\": \"left\", \"ticklen\": 10, \"title\": {\"text\": \"Accuracy\"}}},\n",
       "                        {\"showLink\": false, \"linkText\": \"Export to plot.ly\", \"plotlyServerURL\": \"https://plot.ly\", \"responsive\": true}\n",
       "                    ).then(function(){\n",
       "                            \n",
       "var gd = document.getElementById('87b4b63d-f224-4f79-a6e1-be1c7c1bcde7');\n",
       "var x = new MutationObserver(function (mutations, observer) {{\n",
       "        var display = window.getComputedStyle(gd).display;\n",
       "        if (!display || display === 'none') {{\n",
       "            console.log([gd, 'removed!']);\n",
       "            Plotly.purge(gd);\n",
       "            observer.disconnect();\n",
       "        }}\n",
       "}});\n",
       "\n",
       "// Listen for the removal of the full notebook cells\n",
       "var notebookContainer = gd.closest('#notebook-container');\n",
       "if (notebookContainer) {{\n",
       "    x.observe(notebookContainer, {childList: true});\n",
       "}}\n",
       "\n",
       "// Listen for the clearing of the current output cell\n",
       "var outputEl = gd.closest('.output');\n",
       "if (outputEl) {{\n",
       "    x.observe(outputEl, {childList: true});\n",
       "}}\n",
       "\n",
       "                        })\n",
       "                };\n",
       "                });\n",
       "            </script>\n",
       "        </div>"
      ]
     },
     "metadata": {},
     "output_type": "display_data"
    }
   ],
   "source": [
    "trace1 = go.Scatter(x = list_classifiers, y = val_scores,\n",
    "                   name=\"Validation\", text = list_classifiers)\n",
    "trace2 = go.Scatter(x = list_classifiers, y = test_scores,\n",
    "                   name=\"Submission\", text = list_classifiers)\n",
    "\n",
    "data = [trace1, trace2]\n",
    "\n",
    "layout = dict(title = \"Validation and Submission Scores\", \n",
    "              xaxis=dict(ticklen=10, zeroline= False),\n",
    "              yaxis=dict(title = \"Accuracy\", side='left', ticklen=10,),                                  \n",
    "              legend=dict(orientation=\"v\", x=1.05, y=1.0),\n",
    "              autosize=False, width=750, height=500,\n",
    "              )\n",
    "\n",
    "fig = dict(data = data, layout = layout)\n",
    "iplot(fig)"
   ]
  },
  {
   "cell_type": "code",
   "execution_count": null,
   "metadata": {},
   "outputs": [],
   "source": []
  },
  {
   "cell_type": "markdown",
   "metadata": {},
   "source": [
    "## Conclusions on classifier performance"
   ]
  },
  {
   "cell_type": "markdown",
   "metadata": {},
   "source": [
    "* Best accuracy around 99% is obtained with CNN1 and CNN2.  \n",
    "* SVC also has very good accuracy with 98%  \n",
    "* Except for Perceptron and Logistic regression, all classifiers get accuarcy similar to humans (above 95%)  \n",
    "* Fully connected NNs (dense 1,2,3) show most overfitting (validation score much larger than test score)"
   ]
  },
  {
   "cell_type": "code",
   "execution_count": null,
   "metadata": {},
   "outputs": [],
   "source": []
  },
  {
   "cell_type": "markdown",
   "metadata": {},
   "source": [
    "# Part 6: Different Optimizers"
   ]
  },
  {
   "cell_type": "markdown",
   "metadata": {},
   "source": [
    "Adadelta"
   ]
  },
  {
   "cell_type": "code",
   "execution_count": 110,
   "metadata": {},
   "outputs": [
    {
     "data": {
      "text/plain": [
       "<keras.optimizers.Adadelta at 0x7f4e6f446cf8>"
      ]
     },
     "execution_count": 110,
     "metadata": {},
     "output_type": "execute_result"
    }
   ],
   "source": [
    "model_cnn_2.optimizer"
   ]
  },
  {
   "cell_type": "markdown",
   "metadata": {},
   "source": [
    "RMSprop"
   ]
  },
  {
   "cell_type": "code",
   "execution_count": 111,
   "metadata": {
    "_uuid": "720d7a152db9aa4c0bac2bcbd829d3b4f6cb27ec"
   },
   "outputs": [
    {
     "data": {
      "text/plain": [
       "<keras.optimizers.RMSprop at 0x7f4e1bcee0b8>"
      ]
     },
     "execution_count": 111,
     "metadata": {},
     "output_type": "execute_result"
    }
   ],
   "source": [
    "model_cnn_2_rmsprop = cnn_model_2(RMSprop(), categorical_crossentropy)\n",
    "model_cnn_2_rmsprop.optimizer"
   ]
  },
  {
   "cell_type": "code",
   "execution_count": 112,
   "metadata": {},
   "outputs": [],
   "source": [
    "model_cnn_2.fit(X, y, epochs=epochs, batch_size=batchsize, verbose=0)\n",
    "pred_test_cnn_2 = model_cnn_2.predict(X_test)\n",
    "pred_test_cnn_2 = np.argmax(pred_test_cnn_2,axis=1)\n",
    "result_cnn_2 = pd.DataFrame({'ImageId':sample_submission.ImageId, 'Label':pred_test_cnn_2})\n",
    "result_cnn_2.to_csv(\"subm_cnn_2_rmsprop.csv\",index=False)"
   ]
  },
  {
   "cell_type": "markdown",
   "metadata": {},
   "source": [
    "Adam"
   ]
  },
  {
   "cell_type": "code",
   "execution_count": 113,
   "metadata": {},
   "outputs": [
    {
     "data": {
      "text/plain": [
       "<keras.optimizers.Adam at 0x7f4e257b4cf8>"
      ]
     },
     "execution_count": 113,
     "metadata": {},
     "output_type": "execute_result"
    }
   ],
   "source": [
    "model_cnn_2_adam = cnn_model_2(Adam(), categorical_crossentropy)\n",
    "model_cnn_2_adam.optimizer"
   ]
  },
  {
   "cell_type": "code",
   "execution_count": 114,
   "metadata": {},
   "outputs": [],
   "source": [
    "model_cnn_2.fit(X, y, epochs=epochs, batch_size=batchsize, verbose=0)\n",
    "pred_test_cnn_2 = model_cnn_2.predict(X_test)\n",
    "pred_test_cnn_2 = np.argmax(pred_test_cnn_2,axis=1)\n",
    "result_cnn_2 = pd.DataFrame({'ImageId':sample_submission.ImageId, 'Label':pred_test_cnn_2})\n",
    "result_cnn_2.to_csv(\"subm_cnn_2_adam.csv\",index=False)"
   ]
  },
  {
   "cell_type": "code",
   "execution_count": null,
   "metadata": {},
   "outputs": [],
   "source": []
  },
  {
   "cell_type": "code",
   "execution_count": null,
   "metadata": {},
   "outputs": [],
   "source": []
  },
  {
   "cell_type": "markdown",
   "metadata": {},
   "source": [
    "# Part 7: Investigating false predictions"
   ]
  },
  {
   "cell_type": "code",
   "execution_count": 115,
   "metadata": {},
   "outputs": [],
   "source": [
    "arr_y_val = y_val.values\n",
    "false_cnn2 = pred_val_cnn2 != arr_y_val"
   ]
  },
  {
   "cell_type": "code",
   "execution_count": 116,
   "metadata": {},
   "outputs": [
    {
     "data": {
      "image/png": "[encoded data removed]",
      "text/plain": [
       "<Figure size 720x864 with 25 Axes>"
      ]
     },
     "metadata": {
      "needs_background": "light"
     },
     "output_type": "display_data"
    }
   ],
   "source": [
    "fig, axs = plt.subplots(5, 5, sharex=True, sharey=True, figsize=(10,12))\n",
    "axs = axs.flatten()\n",
    "for i, n  in enumerate(false_cnn2[:25]):\n",
    "    im = X_val[false_cnn2][i,:,:,0]\n",
    "    axs[i].imshow(im, cmap=plt.get_cmap('gray'))\n",
    "    title = (\"predicted: \" + str(pred_val_cnn2[false_cnn2][i]) + \n",
    "            \"\\n\" + \"true: \" + str(arr_y_val[false_cnn2][i]) )\n",
    "    axs[i].set_title(title)\n",
    "plt.tight_layout()    "
   ]
  },
  {
   "cell_type": "code",
   "execution_count": null,
   "metadata": {},
   "outputs": [],
   "source": []
  },
  {
   "cell_type": "code",
   "execution_count": null,
   "metadata": {},
   "outputs": [],
   "source": []
  }
 ],
 "metadata": {
  "kernelspec": {
   "display_name": "Python 3",
   "language": "python",
   "name": "python3"
  },
  "language_info": {
   "codemirror_mode": {
    "name": "ipython",
    "version": 3
   },
   "file_extension": ".py",
   "mimetype": "text/x-python",
   "name": "python",
   "nbconvert_exporter": "python",
   "pygments_lexer": "ipython3",
   "version": "3.6.6"
  }
 },
 "nbformat": 4,
 "nbformat_minor": 1
}
