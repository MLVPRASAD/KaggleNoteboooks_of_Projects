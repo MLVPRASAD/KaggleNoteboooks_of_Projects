{
 "cells": [
  {
   "cell_type": "code",
   "execution_count": 1,
   "metadata": {
    "_cell_guid": "99bd6354-9099-4f22-9b56-5dfb60e455d6",
    "_uuid": "a8c4f03760fefe2435e5147bb2a33bcc6be6ce7f",
    "collapsed": true
   },
   "outputs": [],
   "source": [
    "import numpy as np\n",
    "import pandas as pd\n",
    "import warnings\n",
    "import matplotlib.pyplot as plt\n",
    "from sklearn.utils import shuffle\n",
    "from sklearn.preprocessing import StandardScaler\n",
    "from sklearn.model_selection import train_test_split\n",
    "\n",
    "from sklearn.model_selection import KFold\n",
    "from sklearn.preprocessing import LabelEncoder\n",
    "from sklearn.model_selection import cross_val_score\n",
    "\n",
    "from xgboost import XGBClassifier\n",
    "from lightgbm import LGBMClassifier\n",
    "from sklearn.linear_model import LogisticRegression\n",
    "\n",
    "import time\n",
    "\n",
    "random_state = 6\n",
    "np.random.seed(random_state)\n",
    "warnings.filterwarnings('ignore')"
   ]
  },
  {
   "cell_type": "code",
   "execution_count": 2,
   "metadata": {
    "_cell_guid": "fdc2fbef-4259-40ad-be9e-b210a6b43f61",
    "_uuid": "6991dcc1b3b9561e4449860dc1852086773145b0",
    "collapsed": true
   },
   "outputs": [],
   "source": [
    "%matplotlib inline\n",
    "get_ipython().run_line_magic('matplotlib', 'inline')\n",
    "\n",
    "# latex parameter\n",
    "font = {\n",
    "    'family': 'serif', \n",
    "    'serif': ['Computer Modern Roman'],\n",
    "    'weight' : 'regular',\n",
    "    'size'   : 18\n",
    "    }\n",
    "\n",
    "plt.rc('font', **font)\n",
    "plt.rc('text', usetex=False)\n",
    "# plt.style.use('classic')\n",
    "\n",
    "color_map = 'viridis'"
   ]
  },
  {
   "cell_type": "code",
   "execution_count": 6,
   "metadata": {
    "_cell_guid": "c5b8281f-7144-4199-9665-14e0a5e6506f",
    "_uuid": "62e91275b3c6111713f6cb86b6e4b5766cbc13cc",
    "collapsed": true
   },
   "outputs": [],
   "source": [
    "df_train = pd.read_csv('../input/train.csv', na_values=-1)\n",
    "df_test = pd.read_csv('../input/test.csv', na_values=-1)"
   ]
  },
  {
   "cell_type": "markdown",
   "metadata": {
    "_cell_guid": "0ee9bf20-1534-402c-9f12-08b90f50ceab",
    "_uuid": "530029ba341a8c81c0379fcf606b9d4c796aa4ad"
   },
   "source": [
    "### Check if both test and train have the same shape"
   ]
  },
  {
   "cell_type": "code",
   "execution_count": 7,
   "metadata": {
    "_cell_guid": "82d36446-bf46-4aa3-a4ac-d3494b7b78f7",
    "_uuid": "57bf7ac786264b43005dad611bb8679f221ccc38"
   },
   "outputs": [
    {
     "name": "stdout",
     "output_type": "stream",
     "text": [
      "Training data shape: (595212, 59)\n",
      "Training data shape: (892816, 58)\n"
     ]
    }
   ],
   "source": [
    "print('Training data shape: {}'.format(df_train.shape))\n",
    "print('Training data shape: {}'.format(df_test.shape))"
   ]
  },
  {
   "cell_type": "markdown",
   "metadata": {
    "_cell_guid": "9d79d7b2-6dc9-403f-bc9b-2df6e09557dc",
    "_uuid": "131d56963fdc7119fc9f07170c187a589dc90221"
   },
   "source": [
    "### Check if there are any missing values"
   ]
  },
  {
   "cell_type": "code",
   "execution_count": 8,
   "metadata": {
    "_cell_guid": "4cdb4ab6-8ac7-4e0c-bb51-6ec07173bc86",
    "_uuid": "17328e6d5cebf478911eea6587f40a89dfdcd965"
   },
   "outputs": [
    {
     "name": "stdout",
     "output_type": "stream",
     "text": [
      "Is null on train: True\n",
      "Is null on test: True\n"
     ]
    }
   ],
   "source": [
    "print('Is null on train: {}'.format(df_train.isnull().any().any()))\n",
    "print('Is null on test: {}'.format(df_test.isnull().any().any()))"
   ]
  },
  {
   "cell_type": "markdown",
   "metadata": {
    "_cell_guid": "bc75a561-296c-46e9-8515-900b5fc5f339",
    "_uuid": "5f353c6c63cbf425b3775ce764b203d30e7b79a7"
   },
   "source": [
    "### Descriptive statistics"
   ]
  },
  {
   "cell_type": "code",
   "execution_count": 9,
   "metadata": {
    "_cell_guid": "23e2e7a4-c281-4f62-8b50-4b342e12b079",
    "_uuid": "190a0b8e5eb4c86c55283311b5dfce5debd60a36"
   },
   "outputs": [
    {
     "data": {
      "text/html": [
       "<div>\n",
       "<style>\n",
       "    .dataframe thead tr:only-child th {\n",
       "        text-align: right;\n",
       "    }\n",
       "\n",
       "    .dataframe thead th {\n",
       "        text-align: left;\n",
       "    }\n",
       "\n",
       "    .dataframe tbody tr th {\n",
       "        vertical-align: top;\n",
       "    }\n",
       "</style>\n",
       "<table border=\"1\" class=\"dataframe\">\n",
       "  <thead>\n",
       "    <tr style=\"text-align: right;\">\n",
       "      <th></th>\n",
       "      <th>id</th>\n",
       "      <th>target</th>\n",
       "      <th>ps_ind_01</th>\n",
       "      <th>ps_ind_02_cat</th>\n",
       "      <th>ps_ind_03</th>\n",
       "      <th>ps_ind_04_cat</th>\n",
       "      <th>ps_ind_05_cat</th>\n",
       "      <th>ps_ind_06_bin</th>\n",
       "      <th>ps_ind_07_bin</th>\n",
       "      <th>ps_ind_08_bin</th>\n",
       "      <th>...</th>\n",
       "      <th>ps_calc_11</th>\n",
       "      <th>ps_calc_12</th>\n",
       "      <th>ps_calc_13</th>\n",
       "      <th>ps_calc_14</th>\n",
       "      <th>ps_calc_15_bin</th>\n",
       "      <th>ps_calc_16_bin</th>\n",
       "      <th>ps_calc_17_bin</th>\n",
       "      <th>ps_calc_18_bin</th>\n",
       "      <th>ps_calc_19_bin</th>\n",
       "      <th>ps_calc_20_bin</th>\n",
       "    </tr>\n",
       "  </thead>\n",
       "  <tbody>\n",
       "    <tr>\n",
       "      <th>count</th>\n",
       "      <td>5.952120e+05</td>\n",
       "      <td>595212.000000</td>\n",
       "      <td>595212.000000</td>\n",
       "      <td>594996.000000</td>\n",
       "      <td>595212.000000</td>\n",
       "      <td>595129.000000</td>\n",
       "      <td>589403.000000</td>\n",
       "      <td>595212.000000</td>\n",
       "      <td>595212.000000</td>\n",
       "      <td>595212.000000</td>\n",
       "      <td>...</td>\n",
       "      <td>595212.000000</td>\n",
       "      <td>595212.000000</td>\n",
       "      <td>595212.000000</td>\n",
       "      <td>595212.000000</td>\n",
       "      <td>595212.000000</td>\n",
       "      <td>595212.000000</td>\n",
       "      <td>595212.000000</td>\n",
       "      <td>595212.000000</td>\n",
       "      <td>595212.000000</td>\n",
       "      <td>595212.000000</td>\n",
       "    </tr>\n",
       "    <tr>\n",
       "      <th>mean</th>\n",
       "      <td>7.438036e+05</td>\n",
       "      <td>0.036448</td>\n",
       "      <td>1.900378</td>\n",
       "      <td>1.359799</td>\n",
       "      <td>4.423318</td>\n",
       "      <td>0.416992</td>\n",
       "      <td>0.419038</td>\n",
       "      <td>0.393742</td>\n",
       "      <td>0.257033</td>\n",
       "      <td>0.163921</td>\n",
       "      <td>...</td>\n",
       "      <td>5.441382</td>\n",
       "      <td>1.441918</td>\n",
       "      <td>2.872288</td>\n",
       "      <td>7.539026</td>\n",
       "      <td>0.122427</td>\n",
       "      <td>0.627840</td>\n",
       "      <td>0.554182</td>\n",
       "      <td>0.287182</td>\n",
       "      <td>0.349024</td>\n",
       "      <td>0.153318</td>\n",
       "    </tr>\n",
       "    <tr>\n",
       "      <th>std</th>\n",
       "      <td>4.293678e+05</td>\n",
       "      <td>0.187401</td>\n",
       "      <td>1.983789</td>\n",
       "      <td>0.663193</td>\n",
       "      <td>2.699902</td>\n",
       "      <td>0.493062</td>\n",
       "      <td>1.350023</td>\n",
       "      <td>0.488579</td>\n",
       "      <td>0.436998</td>\n",
       "      <td>0.370205</td>\n",
       "      <td>...</td>\n",
       "      <td>2.332871</td>\n",
       "      <td>1.202963</td>\n",
       "      <td>1.694887</td>\n",
       "      <td>2.746652</td>\n",
       "      <td>0.327779</td>\n",
       "      <td>0.483381</td>\n",
       "      <td>0.497056</td>\n",
       "      <td>0.452447</td>\n",
       "      <td>0.476662</td>\n",
       "      <td>0.360295</td>\n",
       "    </tr>\n",
       "    <tr>\n",
       "      <th>min</th>\n",
       "      <td>7.000000e+00</td>\n",
       "      <td>0.000000</td>\n",
       "      <td>0.000000</td>\n",
       "      <td>1.000000</td>\n",
       "      <td>0.000000</td>\n",
       "      <td>0.000000</td>\n",
       "      <td>0.000000</td>\n",
       "      <td>0.000000</td>\n",
       "      <td>0.000000</td>\n",
       "      <td>0.000000</td>\n",
       "      <td>...</td>\n",
       "      <td>0.000000</td>\n",
       "      <td>0.000000</td>\n",
       "      <td>0.000000</td>\n",
       "      <td>0.000000</td>\n",
       "      <td>0.000000</td>\n",
       "      <td>0.000000</td>\n",
       "      <td>0.000000</td>\n",
       "      <td>0.000000</td>\n",
       "      <td>0.000000</td>\n",
       "      <td>0.000000</td>\n",
       "    </tr>\n",
       "    <tr>\n",
       "      <th>25%</th>\n",
       "      <td>3.719915e+05</td>\n",
       "      <td>0.000000</td>\n",
       "      <td>0.000000</td>\n",
       "      <td>1.000000</td>\n",
       "      <td>2.000000</td>\n",
       "      <td>0.000000</td>\n",
       "      <td>0.000000</td>\n",
       "      <td>0.000000</td>\n",
       "      <td>0.000000</td>\n",
       "      <td>0.000000</td>\n",
       "      <td>...</td>\n",
       "      <td>4.000000</td>\n",
       "      <td>1.000000</td>\n",
       "      <td>2.000000</td>\n",
       "      <td>6.000000</td>\n",
       "      <td>0.000000</td>\n",
       "      <td>0.000000</td>\n",
       "      <td>0.000000</td>\n",
       "      <td>0.000000</td>\n",
       "      <td>0.000000</td>\n",
       "      <td>0.000000</td>\n",
       "    </tr>\n",
       "    <tr>\n",
       "      <th>50%</th>\n",
       "      <td>7.435475e+05</td>\n",
       "      <td>0.000000</td>\n",
       "      <td>1.000000</td>\n",
       "      <td>1.000000</td>\n",
       "      <td>4.000000</td>\n",
       "      <td>0.000000</td>\n",
       "      <td>0.000000</td>\n",
       "      <td>0.000000</td>\n",
       "      <td>0.000000</td>\n",
       "      <td>0.000000</td>\n",
       "      <td>...</td>\n",
       "      <td>5.000000</td>\n",
       "      <td>1.000000</td>\n",
       "      <td>3.000000</td>\n",
       "      <td>7.000000</td>\n",
       "      <td>0.000000</td>\n",
       "      <td>1.000000</td>\n",
       "      <td>1.000000</td>\n",
       "      <td>0.000000</td>\n",
       "      <td>0.000000</td>\n",
       "      <td>0.000000</td>\n",
       "    </tr>\n",
       "    <tr>\n",
       "      <th>75%</th>\n",
       "      <td>1.115549e+06</td>\n",
       "      <td>0.000000</td>\n",
       "      <td>3.000000</td>\n",
       "      <td>2.000000</td>\n",
       "      <td>6.000000</td>\n",
       "      <td>1.000000</td>\n",
       "      <td>0.000000</td>\n",
       "      <td>1.000000</td>\n",
       "      <td>1.000000</td>\n",
       "      <td>0.000000</td>\n",
       "      <td>...</td>\n",
       "      <td>7.000000</td>\n",
       "      <td>2.000000</td>\n",
       "      <td>4.000000</td>\n",
       "      <td>9.000000</td>\n",
       "      <td>0.000000</td>\n",
       "      <td>1.000000</td>\n",
       "      <td>1.000000</td>\n",
       "      <td>1.000000</td>\n",
       "      <td>1.000000</td>\n",
       "      <td>0.000000</td>\n",
       "    </tr>\n",
       "    <tr>\n",
       "      <th>max</th>\n",
       "      <td>1.488027e+06</td>\n",
       "      <td>1.000000</td>\n",
       "      <td>7.000000</td>\n",
       "      <td>4.000000</td>\n",
       "      <td>11.000000</td>\n",
       "      <td>1.000000</td>\n",
       "      <td>6.000000</td>\n",
       "      <td>1.000000</td>\n",
       "      <td>1.000000</td>\n",
       "      <td>1.000000</td>\n",
       "      <td>...</td>\n",
       "      <td>19.000000</td>\n",
       "      <td>10.000000</td>\n",
       "      <td>13.000000</td>\n",
       "      <td>23.000000</td>\n",
       "      <td>1.000000</td>\n",
       "      <td>1.000000</td>\n",
       "      <td>1.000000</td>\n",
       "      <td>1.000000</td>\n",
       "      <td>1.000000</td>\n",
       "      <td>1.000000</td>\n",
       "    </tr>\n",
       "  </tbody>\n",
       "</table>\n",
       "<p>8 rows × 59 columns</p>\n",
       "</div>"
      ],
      "text/plain": [
       "                 id         target      ps_ind_01  ps_ind_02_cat  \\\n",
       "count  5.952120e+05  595212.000000  595212.000000  594996.000000   \n",
       "mean   7.438036e+05       0.036448       1.900378       1.359799   \n",
       "std    4.293678e+05       0.187401       1.983789       0.663193   \n",
       "min    7.000000e+00       0.000000       0.000000       1.000000   \n",
       "25%    3.719915e+05       0.000000       0.000000       1.000000   \n",
       "50%    7.435475e+05       0.000000       1.000000       1.000000   \n",
       "75%    1.115549e+06       0.000000       3.000000       2.000000   \n",
       "max    1.488027e+06       1.000000       7.000000       4.000000   \n",
       "\n",
       "           ps_ind_03  ps_ind_04_cat  ps_ind_05_cat  ps_ind_06_bin  \\\n",
       "count  595212.000000  595129.000000  589403.000000  595212.000000   \n",
       "mean        4.423318       0.416992       0.419038       0.393742   \n",
       "std         2.699902       0.493062       1.350023       0.488579   \n",
       "min         0.000000       0.000000       0.000000       0.000000   \n",
       "25%         2.000000       0.000000       0.000000       0.000000   \n",
       "50%         4.000000       0.000000       0.000000       0.000000   \n",
       "75%         6.000000       1.000000       0.000000       1.000000   \n",
       "max        11.000000       1.000000       6.000000       1.000000   \n",
       "\n",
       "       ps_ind_07_bin  ps_ind_08_bin       ...           ps_calc_11  \\\n",
       "count  595212.000000  595212.000000       ...        595212.000000   \n",
       "mean        0.257033       0.163921       ...             5.441382   \n",
       "std         0.436998       0.370205       ...             2.332871   \n",
       "min         0.000000       0.000000       ...             0.000000   \n",
       "25%         0.000000       0.000000       ...             4.000000   \n",
       "50%         0.000000       0.000000       ...             5.000000   \n",
       "75%         1.000000       0.000000       ...             7.000000   \n",
       "max         1.000000       1.000000       ...            19.000000   \n",
       "\n",
       "          ps_calc_12     ps_calc_13     ps_calc_14  ps_calc_15_bin  \\\n",
       "count  595212.000000  595212.000000  595212.000000   595212.000000   \n",
       "mean        1.441918       2.872288       7.539026        0.122427   \n",
       "std         1.202963       1.694887       2.746652        0.327779   \n",
       "min         0.000000       0.000000       0.000000        0.000000   \n",
       "25%         1.000000       2.000000       6.000000        0.000000   \n",
       "50%         1.000000       3.000000       7.000000        0.000000   \n",
       "75%         2.000000       4.000000       9.000000        0.000000   \n",
       "max        10.000000      13.000000      23.000000        1.000000   \n",
       "\n",
       "       ps_calc_16_bin  ps_calc_17_bin  ps_calc_18_bin  ps_calc_19_bin  \\\n",
       "count   595212.000000   595212.000000   595212.000000   595212.000000   \n",
       "mean         0.627840        0.554182        0.287182        0.349024   \n",
       "std          0.483381        0.497056        0.452447        0.476662   \n",
       "min          0.000000        0.000000        0.000000        0.000000   \n",
       "25%          0.000000        0.000000        0.000000        0.000000   \n",
       "50%          1.000000        1.000000        0.000000        0.000000   \n",
       "75%          1.000000        1.000000        1.000000        1.000000   \n",
       "max          1.000000        1.000000        1.000000        1.000000   \n",
       "\n",
       "       ps_calc_20_bin  \n",
       "count   595212.000000  \n",
       "mean         0.153318  \n",
       "std          0.360295  \n",
       "min          0.000000  \n",
       "25%          0.000000  \n",
       "50%          0.000000  \n",
       "75%          0.000000  \n",
       "max          1.000000  \n",
       "\n",
       "[8 rows x 59 columns]"
      ]
     },
     "execution_count": 9,
     "metadata": {},
     "output_type": "execute_result"
    }
   ],
   "source": [
    "df_train.describe()"
   ]
  },
  {
   "cell_type": "markdown",
   "metadata": {
    "_cell_guid": "ea70a75e-3a34-4895-b5c6-8b396ff3dc1e",
    "_uuid": "cb1ee68c1572b05a96e0e9c477fd2cf62e26b45d"
   },
   "source": [
    "### Heatmap "
   ]
  },
  {
   "cell_type": "code",
   "execution_count": 10,
   "metadata": {
    "_cell_guid": "4c13c499-f556-4bb4-9109-333b274fa168",
    "_uuid": "8835d2faa57710aeaa0bc691293fa5ba1b4484e3"
   },
   "outputs": [
    {
     "data": {
      "text/plain": [
       "<matplotlib.axes._subplots.AxesSubplot at 0x7f60f8d04d68>"
      ]
     },
     "execution_count": 10,
     "metadata": {},
     "output_type": "execute_result"
    },
    {
     "data": {
      "image/png": "[encoded data removed]",
      "text/plain": [
       "<matplotlib.figure.Figure at 0x7f61170515c0>"
      ]
     },
     "metadata": {},
     "output_type": "display_data"
    }
   ],
   "source": [
    "import seaborn as sns\n",
    "cor = df_train.corr()\n",
    "plt.figure(figsize=(16,10))\n",
    "sns.heatmap(cor)"
   ]
  },
  {
   "cell_type": "markdown",
   "metadata": {
    "_cell_guid": "6b4a05f2-fe71-4c5c-89bc-cb6127e80151",
    "_uuid": "86a3956cc8a6de899e3a508367bd1579ee335750"
   },
   "source": [
    "#### Since 'ps_calc' features do not show any have zero relationship with other features\n",
    "#### We can delete them."
   ]
  },
  {
   "cell_type": "code",
   "execution_count": 11,
   "metadata": {
    "_cell_guid": "8947fd3b-bdd7-4a60-85d5-6d81df11cc21",
    "_uuid": "29602e250c2e1531f61da8e8ec287dfaf0fef225",
    "collapsed": true
   },
   "outputs": [],
   "source": [
    "col_to_drop = list(df_train.columns[df_train.columns.str.startswith('ps_calc_')])\n",
    "df_train = df_train.drop(col_to_drop, axis=1)  \n",
    "df_test = df_test.drop(col_to_drop, axis=1)"
   ]
  },
  {
   "cell_type": "markdown",
   "metadata": {
    "_cell_guid": "a2dfcdab-6091-47e7-a59f-be4852aaa7da",
    "_uuid": "9fe437d51e3aa4b3085dc59c3c7ae44d51f1d250"
   },
   "source": [
    "## Work with missing values"
   ]
  },
  {
   "cell_type": "code",
   "execution_count": 12,
   "metadata": {
    "_cell_guid": "d4e041cc-7eea-4e55-8fc0-ffe67c73dca5",
    "_uuid": "094deead4bd48cd2339143e3d87626bfe30d5c84",
    "collapsed": true
   },
   "outputs": [],
   "source": [
    "def get_missing_features(df):\n",
    "    missings = pd.DataFrame([], columns=['feature', 'no_recoreds', 'percentage'])\n",
    "    total_rows = df.shape[0]\n",
    "    index = 0\n",
    "    for feature in list(df):\n",
    "        total_nulls = df[feature].isnull().sum()\n",
    "        if total_nulls > 0:\n",
    "            missings_perc = total_nulls / total_rows\n",
    "            missings.loc[index] = [feature, total_nulls, missings_perc]\n",
    "            index += 1\n",
    "    missings = missings.sort_values('no_recoreds', ascending=False)\n",
    "    return missings"
   ]
  },
  {
   "cell_type": "code",
   "execution_count": 13,
   "metadata": {
    "_cell_guid": "776ce99d-24f4-484f-8ab8-35556539ef0e",
    "_uuid": "6a52318bdf9574d953fa6d5af82a3201d14e497b"
   },
   "outputs": [
    {
     "name": "stdout",
     "output_type": "stream",
     "text": [
      "          feature no_recoreds  percentage\n",
      "6   ps_car_03_cat      411231    0.690898\n",
      "7   ps_car_05_cat      266551    0.447825\n",
      "3       ps_reg_03      107772    0.181065\n",
      "12      ps_car_14       42620    0.071605\n",
      "8   ps_car_07_cat       11489    0.019302\n",
      "2   ps_ind_05_cat        5809    0.009760\n",
      "9   ps_car_09_cat         569    0.000956\n",
      "0   ps_ind_02_cat         216    0.000363\n",
      "4   ps_car_01_cat         107    0.000180\n",
      "1   ps_ind_04_cat          83    0.000139\n",
      "5   ps_car_02_cat           5    0.000008\n",
      "10      ps_car_11           5    0.000008\n",
      "11      ps_car_12           1    0.000002\n"
     ]
    }
   ],
   "source": [
    "df_missings = get_missing_features(df_train)\n",
    "print(df_missings)"
   ]
  },
  {
   "cell_type": "markdown",
   "metadata": {
    "_cell_guid": "c2f02b69-0199-45ef-a919-d8bf3a3a1e85",
    "_uuid": "1e7414c459c61b915bacabe3b5c08c7cb3af2012"
   },
   "source": [
    "### Bar plot of missing features"
   ]
  },
  {
   "cell_type": "code",
   "execution_count": 14,
   "metadata": {
    "_cell_guid": "d12db854-2abc-4241-bd04-cdf348c0c91d",
    "_uuid": "71540aeeb24f3a7bd481ee016e28615abe8cc54f"
   },
   "outputs": [
    {
     "data": {
      "text/plain": [
       "<matplotlib.axes._subplots.AxesSubplot at 0x7f60f517bef0>"
      ]
     },
     "execution_count": 14,
     "metadata": {},
     "output_type": "execute_result"
    },
    {
     "data": {
      "image/png": "[encoded data removed]",
      "text/plain": [
       "<matplotlib.figure.Figure at 0x7f60f511c1d0>"
      ]
     },
     "metadata": {},
     "output_type": "display_data"
    }
   ],
   "source": [
    "df_missings.plot(x='feature', y='no_recoreds', kind='bar', )"
   ]
  },
  {
   "cell_type": "markdown",
   "metadata": {
    "_cell_guid": "82a7544b-db17-438b-801b-ba8a8d39d35d",
    "_uuid": "3cf5baac613e67df53a7f1a163175f9d5c135b0d"
   },
   "source": [
    "**Treat missing values by mode of the column**"
   ]
  },
  {
   "cell_type": "code",
   "execution_count": 15,
   "metadata": {
    "_cell_guid": "6ce1eb73-8567-41fe-bc2f-f1454107ec70",
    "_uuid": "1f408d8ee2bc72a4ebf722796f13a87d3f4b2134",
    "collapsed": true
   },
   "outputs": [],
   "source": [
    "for i, feature in enumerate(list(df_train.drop(['id'], axis=1))):\n",
    "    if df_train[feature].isnull().sum() > 0:\n",
    "        df_train[feature].fillna(df_train[feature].mode()[0],inplace=True)\n",
    "\n",
    "for i, feature in enumerate(list(df_test.drop(['id'], axis=1))):\n",
    "    if df_test[feature].isnull().sum() > 0:\n",
    "        df_test[feature].fillna(df_test[feature].mode()[0],inplace=True)"
   ]
  },
  {
   "cell_type": "markdown",
   "metadata": {
    "_cell_guid": "c7555d19-9e28-4399-b5f0-25aa1e603487",
    "_uuid": "f5be45a8c7dff83cd2b7e7865b9ba42391235f8d"
   },
   "source": [
    "### Check if there are any missing values"
   ]
  },
  {
   "cell_type": "code",
   "execution_count": 16,
   "metadata": {
    "_cell_guid": "3a62ee1f-8b69-417d-8e77-ac5b3712f838",
    "_uuid": "50e32800d2e0f47d12afdc58d2c13e2f911d3e98"
   },
   "outputs": [
    {
     "data": {
      "text/html": [
       "<div>\n",
       "<style>\n",
       "    .dataframe thead tr:only-child th {\n",
       "        text-align: right;\n",
       "    }\n",
       "\n",
       "    .dataframe thead th {\n",
       "        text-align: left;\n",
       "    }\n",
       "\n",
       "    .dataframe tbody tr th {\n",
       "        vertical-align: top;\n",
       "    }\n",
       "</style>\n",
       "<table border=\"1\" class=\"dataframe\">\n",
       "  <thead>\n",
       "    <tr style=\"text-align: right;\">\n",
       "      <th></th>\n",
       "      <th>feature</th>\n",
       "      <th>no_recoreds</th>\n",
       "      <th>percentage</th>\n",
       "    </tr>\n",
       "  </thead>\n",
       "  <tbody>\n",
       "  </tbody>\n",
       "</table>\n",
       "</div>"
      ],
      "text/plain": [
       "Empty DataFrame\n",
       "Columns: [feature, no_recoreds, percentage]\n",
       "Index: []"
      ]
     },
     "execution_count": 16,
     "metadata": {},
     "output_type": "execute_result"
    }
   ],
   "source": [
    "get_missing_features(df_train)\n",
    "get_missing_features(df_test)"
   ]
  },
  {
   "cell_type": "markdown",
   "metadata": {
    "_cell_guid": "1c84a627-3c91-453b-b420-17205e2c2496",
    "_uuid": "9c0cec94c33b28ac47b77e6ea0043b31e5b08e7e"
   },
   "source": [
    "## Check category features of the dataset"
   ]
  },
  {
   "cell_type": "code",
   "execution_count": 17,
   "metadata": {
    "_cell_guid": "692e072d-43e4-4dc8-a4e7-4bdc564cef83",
    "_uuid": "120695abdabec37df1272e3b88d5bee11bcfb746"
   },
   "outputs": [
    {
     "name": "stdout",
     "output_type": "stream",
     "text": [
      "ps_ind_02_cat has 4 unique values\n",
      "ps_ind_04_cat has 2 unique values\n",
      "ps_ind_05_cat has 7 unique values\n",
      "ps_car_01_cat has 12 unique values\n",
      "ps_car_02_cat has 2 unique values\n",
      "ps_car_03_cat has 2 unique values\n",
      "ps_car_04_cat has 10 unique values\n",
      "ps_car_05_cat has 2 unique values\n",
      "ps_car_06_cat has 18 unique values\n",
      "ps_car_07_cat has 2 unique values\n",
      "ps_car_08_cat has 2 unique values\n",
      "ps_car_09_cat has 5 unique values\n",
      "ps_car_10_cat has 3 unique values\n",
      "ps_car_11_cat has 104 unique values\n"
     ]
    }
   ],
   "source": [
    "cat_cols = [col for col in df_train.columns if '_cat' in col]\n",
    "dummed_cols = []\n",
    "\n",
    "for cat_col in cat_cols:\n",
    "    unique_values = len(np.unique(df_train[cat_col]))\n",
    "    if unique_values < 50:\n",
    "        dummed_cols.append(cat_col)\n",
    "    print('{} has {} unique values'.format(cat_col, unique_values))"
   ]
  },
  {
   "cell_type": "markdown",
   "metadata": {
    "_cell_guid": "e3d3386c-a2fa-44ca-b10a-c82942241043",
    "_uuid": "8e38bfce5705d0d93ea3649ec33859d5f412f7c7"
   },
   "source": [
    "## Transform category features to dummies"
   ]
  },
  {
   "cell_type": "code",
   "execution_count": 18,
   "metadata": {
    "_cell_guid": "a4017be6-2f19-4630-849a-26c49e923813",
    "_uuid": "5a5f46bf7e611d7e048f69e75058b2af8cdeb5de"
   },
   "outputs": [
    {
     "name": "stdout",
     "output_type": "stream",
     "text": [
      "(595212, 198) (892816, 198)\n"
     ]
    }
   ],
   "source": [
    "id_test = df_test['id'].values\n",
    "y = df_train['target'].values\n",
    "\n",
    "df_train = df_train.drop(['target','id'], axis = 1)\n",
    "df_test = df_test.drop(['id'], axis = 1)\n",
    "\n",
    "cat_features = [a for a in df_train.columns if a.endswith('cat')]\n",
    "\n",
    "for column in cat_features:\n",
    "    temp = pd.get_dummies(pd.Series(df_train[column]))\n",
    "    df_train = pd.concat([df_train,temp],axis=1)\n",
    "    df_train = df_train.drop([column],axis=1)\n",
    "    \n",
    "for column in cat_features:\n",
    "    temp = pd.get_dummies(pd.Series(df_test[column]))\n",
    "    df_test = pd.concat([df_test,temp],axis=1)\n",
    "    df_test = df_test.drop([column],axis=1)\n",
    "\n",
    "print(df_train.values.shape, df_test.values.shape)"
   ]
  },
  {
   "cell_type": "markdown",
   "metadata": {
    "_cell_guid": "07764364-1994-441c-afb7-12e6e3309a04",
    "_uuid": "7db7081eed1b349322adebd8cb75cedcafaa4b79"
   },
   "source": [
    "### Gini coeficient "
   ]
  },
  {
   "cell_type": "code",
   "execution_count": 20,
   "metadata": {
    "_cell_guid": "c6ce3a25-c86f-4f96-bbd7-603da3316ba2",
    "_uuid": "9e6d376ab77f19c1e126b50b63eaaabfbb352997",
    "collapsed": true
   },
   "outputs": [],
   "source": [
    "# from https://www.kaggle.com/mashavasilenko/\n",
    "# porto-seguro-xgb-modeling-and-parameters-tuning\n",
    "def eval_gini(y_true, y_prob):\n",
    "    y_true = np.asarray(y_true)\n",
    "    y_true = y_true[np.argsort(y_prob)]\n",
    "    ntrue = 0\n",
    "    gini = 0\n",
    "    delta = 0\n",
    "    n = len(y_true)\n",
    "    for i in range(n-1, -1, -1):\n",
    "        y_i = y_true[i]\n",
    "        ntrue += y_i\n",
    "        gini += y_i * delta\n",
    "        delta += 1 - y_i\n",
    "    gini = 1 - 2 * gini / (ntrue * (n - ntrue))\n",
    "    return gini\n",
    "\n",
    "\n",
    "def gini_xgb(preds, dtrain):\n",
    "    labels = dtrain.get_label()\n",
    "    gini_score = -eval_gini(labels, preds)\n",
    "    return [('gini', gini_score)]\n",
    "\n",
    "def gini_normalized(a, p):\n",
    "    return gini(a, p) / gini(a, a)"
   ]
  },
  {
   "cell_type": "markdown",
   "metadata": {
    "_cell_guid": "ecfd8b20-01a3-4eb6-915a-a191244d867e",
    "_uuid": "471abc86cd2834c3201e5a2d9145cfda5e7a93b6"
   },
   "source": [
    "### Ensembling"
   ]
  },
  {
   "cell_type": "code",
   "execution_count": 21,
   "metadata": {
    "_cell_guid": "e054fad5-59dc-4349-8acf-260b8d65e462",
    "_uuid": "c4d36c458997b60937f005b48b634e439436648c",
    "collapsed": true
   },
   "outputs": [],
   "source": [
    "from sklearn.model_selection import StratifiedKFold\n",
    "\n",
    "class Create_ensemble(object):\n",
    "    def __init__(self, n_splits, base_models):\n",
    "        self.n_splits = n_splits\n",
    "        self.base_models = base_models\n",
    "\n",
    "    def predict(self, X, y, T):\n",
    "        X = np.array(X)\n",
    "        y = np.array(y)\n",
    "        T = np.array(T)\n",
    "\n",
    "        folds = list(StratifiedKFold(n_splits=self.n_splits, shuffle=True, random_state=random_state).split(X, y))\n",
    "\n",
    "        S_train = np.zeros((X.shape[0], len(self.base_models)))\n",
    "        S_test = np.zeros((T.shape[0], len(self.base_models)))\n",
    "        \n",
    "        for i, clf in enumerate(self.base_models):\n",
    "            S_test_i = np.zeros((T.shape[0], self.n_splits))\n",
    "\n",
    "            for j, (train_idx, valid_idx) in enumerate(folds):\n",
    "                X_train = X[train_idx]\n",
    "                y_train = y[train_idx]\n",
    "                X_valid = X[valid_idx]\n",
    "                y_valid = y[valid_idx]\n",
    "                \n",
    "                clf.fit(X_train, y_train)\n",
    "                valid_pred = clf.predict_proba(X_valid)[:,1]\n",
    "                S_train[valid_idx, i] = valid_pred\n",
    "                S_test_i[:, j] = clf.predict_proba(T)[:,1]\n",
    "            \n",
    "            print( \"\\nTraining Gini for model {} : {}\".format(i, eval_gini(y, S_train[:,i])))\n",
    "            S_test[:, i] = S_test_i.mean(axis=1)\n",
    "            \n",
    "        return S_train, S_test"
   ]
  },
  {
   "cell_type": "markdown",
   "metadata": {
    "_cell_guid": "16b81345-575d-4688-bc79-33c695a3829c",
    "_uuid": "003b63179183a3fb927bee07debfd07e790a2921"
   },
   "source": [
    "## Lightbm model"
   ]
  },
  {
   "cell_type": "code",
   "execution_count": 22,
   "metadata": {
    "_cell_guid": "10d3e204-dce9-4392-bef5-85ecc0a91438",
    "_uuid": "7373ed69879d400bcdc4205eb40bf997b26ae222",
    "collapsed": true
   },
   "outputs": [],
   "source": [
    "# LightGBM params\n",
    "lgb_params = {}\n",
    "lgb_params['learning_rate'] = 0.02\n",
    "lgb_params['n_estimators'] = 700\n",
    "lgb_params['max_bin'] = 15\n",
    "lgb_params['subsample'] = 0.8\n",
    "lgb_params['subsample_freq'] = 10\n",
    "lgb_params['colsample_bytree'] = 0.8   \n",
    "lgb_params['min_child_samples'] = 800\n",
    "lgb_params['random_state'] = random_state\n",
    "lgb_params['scale_pos_weight'] = 3\n",
    "\n",
    "lgb_params2 = {}\n",
    "lgb_params2['learning_rate'] = 0.02\n",
    "lgb_params2['n_estimators'] = 900\n",
    "lgb_params2['max_bin'] = 20\n",
    "lgb_params2['subsample'] = 0.8\n",
    "lgb_params2['subsample_freq'] = 10\n",
    "lgb_params2['colsample_bytree'] = 0.8   \n",
    "lgb_params2['min_child_samples'] = 600\n",
    "lgb_params2['random_state'] = random_state\n",
    "lgb_params2['scale_pos_weight'] = 3\n",
    "\n",
    "lgb_model = LGBMClassifier(**lgb_params)\n",
    "lgb_model2 = LGBMClassifier(**lgb_params2)"
   ]
  },
  {
   "cell_type": "code",
   "execution_count": null,
   "metadata": {
    "_cell_guid": "c91ed1eb-8a81-43b6-941e-966943ed315c",
    "_uuid": "46875d57a9413c0513be8b757058976c817d4d96",
    "collapsed": true
   },
   "outputs": [],
   "source": [
    "lgb_stack = Create_ensemble(n_splits = 5, base_models = [lgb_model, lgb_model2])        \n",
    "X = df_train\n",
    "Y = y\n",
    "T = df_test\n",
    "lgb_train_pred, lgb_test_pred = lgb_stack.predict(X, Y, T)"
   ]
  },
  {
   "cell_type": "code",
   "execution_count": null,
   "metadata": {
    "_cell_guid": "573482df-d0b7-4dc2-8358-0b8a21aad287",
    "_uuid": "e74a6e4a002fa7c17b0bbe9cdba9aa122684074b",
    "collapsed": true,
    "scrolled": true
   },
   "outputs": [],
   "source": [
    "# Create submission file\n",
    "sub = pd.DataFrame()\n",
    "sub['id'] = id_test\n",
    "sub['target'] = lgb_test_pred.mean(axis=1)\n",
    "sub.to_csv('lightgbm_submit_ensemble_features.csv', float_format='%.6f', index=False)"
   ]
  },
  {
   "cell_type": "markdown",
   "metadata": {
    "_cell_guid": "e2548117-1bba-455b-9293-7b66235d59b5",
    "_uuid": "0dc4d299ef57a598f2cdd1185570cc91de9bd2f2"
   },
   "source": [
    "## correlation among the model results"
   ]
  },
  {
   "cell_type": "code",
   "execution_count": null,
   "metadata": {
    "_cell_guid": "3890e769-db50-47e1-a07d-93be57008ae9",
    "_uuid": "eecb3e49473ea73767c26779c0ee02577a56295e",
    "collapsed": true
   },
   "outputs": [],
   "source": [
    "import seaborn as sns\n",
    "test_pred_df = pd.DataFrame(data = lgb_test_pred)\n",
    "cor = test_pred_df.corr()\n",
    "plt.figure(figsize=(16,10))\n",
    "sns.heatmap(cor)"
   ]
  }
 ],
 "metadata": {
  "kernelspec": {
   "display_name": "Python 3",
   "language": "python",
   "name": "python3"
  },
  "language_info": {
   "codemirror_mode": {
    "name": "ipython",
    "version": 3
   },
   "file_extension": ".py",
   "mimetype": "text/x-python",
   "name": "python",
   "nbconvert_exporter": "python",
   "pygments_lexer": "ipython3",
   "version": "3.6.3"
  }
 },
 "nbformat": 4,
 "nbformat_minor": 1
}
