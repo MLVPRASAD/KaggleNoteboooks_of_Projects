{
 "cells": [
  {
   "cell_type": "markdown",
   "metadata": {
    "_cell_guid": "fed95847-fdbb-489f-aede-0c612e2a22c1",
    "_uuid": "9946fb6d5d752cc691a5dfeea250565cbdc0926f"
   },
   "source": [
    "Another unsung [hero](https://github.com/fukatani/rgf_python) that you can use in your \"stack-tastic\" models"
   ]
  },
  {
   "cell_type": "code",
   "execution_count": 1,
   "metadata": {
    "_cell_guid": "aa155ae7-a712-4bea-9cb1-32fbd8da86e6",
    "_uuid": "79dc9507073582f3a434492627b099745f00c7af",
    "collapsed": true
   },
   "outputs": [],
   "source": [
    "import gc\n",
    "import numpy as np\n",
    "import pandas as pd\n",
    "from sklearn.utils.validation import check_random_state\n",
    "from sklearn.model_selection import StratifiedKFold, cross_val_score\n",
    "from rgf.sklearn import RGFClassifier\n",
    "from sklearn.metrics import roc_auc_score"
   ]
  },
  {
   "cell_type": "code",
   "execution_count": 2,
   "metadata": {
    "_cell_guid": "ba11dcc4-cef9-4232-a957-ff3aa16748f8",
    "_uuid": "e7706f94b1a03daf9f553153c242d98216d65177",
    "collapsed": true
   },
   "outputs": [],
   "source": [
    "def ProjectOnMean(data1, data2, columnName):\n",
    "    grpOutcomes = data1.groupby(list([columnName]))['target'].mean().reset_index()\n",
    "    grpCount = data1.groupby(list([columnName]))['target'].count().reset_index()\n",
    "    grpOutcomes['cnt'] = grpCount.target\n",
    "    grpOutcomes.drop('cnt', inplace=True, axis=1)\n",
    "    outcomes = data2['target'].values\n",
    "    x = pd.merge(data2[[columnName, 'target']], grpOutcomes,\n",
    "                 suffixes=('x_', ''),\n",
    "                 how='left',\n",
    "                 on=list([columnName]),\n",
    "                 left_index=True)['target']\n",
    "\n",
    "    \n",
    "    return x.values\n",
    "\n",
    "def GiniScore(y_actual, y_pred):\n",
    "  return 2*roc_auc_score(y_actual, y_pred)-1"
   ]
  },
  {
   "cell_type": "code",
   "execution_count": 3,
   "metadata": {
    "_cell_guid": "f6139097-a1ec-461d-9c0b-4ad014e884c1",
    "_uuid": "7564b90663bbfdf9cf76ee0097945c362b75229d",
    "collapsed": true
   },
   "outputs": [],
   "source": [
    "train = pd.read_csv('../input/train.csv')\n",
    "test = pd.read_csv('../input/test.csv')\n",
    "unwanted = train.columns[train.columns.str.startswith('ps_calc_')]\n",
    "train.drop(unwanted,inplace=True,axis=1)\n",
    "test.drop(unwanted,inplace=True,axis=1)\n",
    "test.insert(1,'target',np.nan)"
   ]
  },
  {
   "cell_type": "code",
   "execution_count": 4,
   "metadata": {
    "_cell_guid": "6849a2ab-01ad-4ab1-9fdf-a33325c0074d",
    "_uuid": "66c221239a34bd270174fe670f275ef7958dd855",
    "collapsed": true
   },
   "outputs": [
    {
     "data": {
      "text/plain": [
       "['ps_ind_02_cat',\n",
       " 'ps_ind_04_cat',\n",
       " 'ps_ind_05_cat',\n",
       " 'ps_ind_06_bin',\n",
       " 'ps_ind_07_bin',\n",
       " 'ps_ind_08_bin',\n",
       " 'ps_ind_09_bin',\n",
       " 'ps_ind_10_bin',\n",
       " 'ps_ind_11_bin',\n",
       " 'ps_ind_12_bin',\n",
       " 'ps_ind_13_bin',\n",
       " 'ps_ind_16_bin',\n",
       " 'ps_ind_17_bin',\n",
       " 'ps_ind_18_bin',\n",
       " 'ps_car_01_cat',\n",
       " 'ps_car_02_cat',\n",
       " 'ps_car_03_cat',\n",
       " 'ps_car_04_cat',\n",
       " 'ps_car_05_cat',\n",
       " 'ps_car_06_cat',\n",
       " 'ps_car_07_cat',\n",
       " 'ps_car_08_cat',\n",
       " 'ps_car_09_cat',\n",
       " 'ps_car_10_cat',\n",
       " 'ps_car_11_cat']"
      ]
     },
     "execution_count": 4,
     "metadata": {},
     "output_type": "execute_result"
    }
   ],
   "source": [
    "highcardinality =[]\n",
    "for i in train.columns[1:-1]:\n",
    "    if(((i.find('bin')!=-1) or (i.find('cat')!=-1))):\n",
    "        highcardinality.append(i)\n",
    "\n",
    "highcardinality"
   ]
  },
  {
   "cell_type": "code",
   "execution_count": 5,
   "metadata": {
    "_cell_guid": "3a5039fa-57eb-40e7-8c3c-bbb141faf96f",
    "_uuid": "2f9aab62910b046657df579768590115eb2ae435",
    "collapsed": true
   },
   "outputs": [
    {
     "name": "stdout",
     "output_type": "stream",
     "text": [
      "Fold: 0\n",
      "Fold: 1\n",
      "Fold: 2\n",
      "Fold: 3\n",
      "Fold: 4\n"
     ]
    }
   ],
   "source": [
    "blindloodata = None\n",
    "folds = 5\n",
    "kf = StratifiedKFold(n_splits=folds,shuffle=True,random_state=42)\n",
    "for i, (train_index, test_index) in enumerate(kf.split(range(train.shape[0]),train.target)):\n",
    "    print('Fold:',i)\n",
    "    blindtrain = train.loc[test_index].copy() \n",
    "    vistrain = train.loc[train_index].copy()\n",
    "\n",
    "\n",
    "\n",
    "    for c in highcardinality:\n",
    "        blindtrain['loo'+c] = ProjectOnMean(vistrain,\n",
    "                                            blindtrain,c)\n",
    "    if(blindloodata is None):\n",
    "        blindloodata = blindtrain.copy()\n",
    "    else:\n",
    "        blindloodata = pd.concat([blindloodata,blindtrain])\n",
    "\n",
    "for c in highcardinality:\n",
    "    test['loo'+c] = ProjectOnMean(train,\n",
    "                                  test,c)\n",
    "test.drop(highcardinality,inplace=True,axis=1)\n",
    "\n",
    "train = blindloodata\n",
    "train.drop(highcardinality,inplace=True,axis=1)\n",
    "train = train.fillna(train.mean())\n",
    "test = test.fillna(train.mean())"
   ]
  },
  {
   "cell_type": "code",
   "execution_count": 6,
   "metadata": {
    "_cell_guid": "a80a1402-068a-4efe-9ec9-c36e1fba6f49",
    "_uuid": "2c863eea946822c1cb95d9843e2156aa7fde2204",
    "collapsed": true
   },
   "outputs": [
    {
     "name": "stdout",
     "output_type": "stream",
     "text": [
      "\"train\": \n",
      "   algorithm=RGF_Sib\n",
      "   train_x_fn=/tmp/rgf/caa2cd72-8dab-4da6-8f40-a2ea860545f21.train.data.x\n",
      "   train_y_fn=/tmp/rgf/caa2cd72-8dab-4da6-8f40-a2ea860545f21.train.data.y\n",
      "   train_w_fn=/tmp/rgf/caa2cd72-8dab-4da6-8f40-a2ea860545f21.train.data.weight\n",
      "   Log:ON\n",
      "   model_fn_prefix=/tmp/rgf/caa2cd72-8dab-4da6-8f40-a2ea860545f21.model\n",
      "--------------------\n",
      "Wed Nov  8 10:25:28 2017: Reading training data ... \n",
      "Wed Nov  8 10:25:36 2017: Start ... #train=595212\n",
      "--------------------\n",
      "Changing test interval: 250->300\n",
      "Forest-level: \n",
      "   loss=Log\n",
      "   max_leaf_forest=1000\n",
      "   max_tree=500\n",
      "   opt_interval=100\n",
      "   test_interval=300\n",
      "   num_tree_search=1\n",
      "   Verbose:ON\n",
      "   memory_policy=Generous\n",
      "Turning on Force_to_refresh_all\n",
      "-------------\n",
      "Training data: 37x595212, nonzero_ratio=0.9557; managed as dense data.\n",
      "-------------\n",
      "Optimization: \n",
      "   loss=Log\n",
      "   num_iteration_opt=5\n",
      "   reg_L2=0.1\n",
      "   opt_stepsize=0.5\n",
      "   max_delta=1\n",
      "Tree-level: min_pop=10\n",
      "Node split: reg_L2=0.1\n",
      "--------------------\n",
      "Sum of data point weights = 5.9521e+05\n",
      "--------------------\n",
      "Wed Nov  8 10:26:09 2017: Calling optimizer with 46 trees and 100 leaves\n",
      "Wed Nov  8 10:26:53 2017: Calling optimizer with 76 trees and 200 leaves\n",
      "Wed Nov  8 10:27:44 2017: Calling optimizer with 104 trees and 300 leaves\n",
      "Wed Nov  8 10:28:00 2017: Writing model: seq#=1\n",
      "Wed Nov  8 10:28:39 2017: Calling optimizer with 129 trees and 400 leaves\n",
      "Wed Nov  8 10:29:37 2017: Calling optimizer with 154 trees and 500 leaves\n",
      "Wed Nov  8 10:30:39 2017: Calling optimizer with 177 trees and 600 leaves\n",
      "Wed Nov  8 10:31:04 2017: Writing model: seq#=2\n",
      "Wed Nov  8 10:31:41 2017: Calling optimizer with 201 trees and 700 leaves\n",
      "Wed Nov  8 10:32:49 2017: Calling optimizer with 221 trees and 800 leaves\n",
      "Wed Nov  8 10:34:00 2017: Calling optimizer with 239 trees and 900 leaves\n",
      "Wed Nov  8 10:34:32 2017: Writing model: seq#=3\n",
      "Wed Nov  8 10:35:13 2017: AzRgforest: #leaf reached max\n",
      "Wed Nov  8 10:35:13 2017: Calling optimizer with 255 trees and 1000 leaves\n",
      "Wed Nov  8 10:35:48 2017: Writing model: seq#=4\n",
      "\n",
      "Generated 4 model file(s): \n",
      "/tmp/rgf/caa2cd72-8dab-4da6-8f40-a2ea860545f21.model-01\n",
      "/tmp/rgf/caa2cd72-8dab-4da6-8f40-a2ea860545f21.model-02\n",
      "/tmp/rgf/caa2cd72-8dab-4da6-8f40-a2ea860545f21.model-03\n",
      "/tmp/rgf/caa2cd72-8dab-4da6-8f40-a2ea860545f21.model-04\n",
      "\n",
      "Wed Nov  8 10:35:48 2017: Done ... \n",
      "elapsed: 610.03\n",
      "\n",
      "None\n",
      "\"predict\": \n",
      "   model_fn=/tmp/rgf/caa2cd72-8dab-4da6-8f40-a2ea860545f21.model-04\n",
      "   test_x_fn=/tmp/rgf/caa2cd72-8dab-4da6-8f40-a2ea860545f21.test.data.x\n",
      "   prediction_fn=/tmp/rgf/caa2cd72-8dab-4da6-8f40-a2ea860545f21.predictions.txt\n",
      "   Log:ON\n",
      "--------------------\n",
      "Wed Nov  8 10:36:06 2017: Reading test data ... \n",
      "Wed Nov  8 10:36:12 2017: Predicting ... \n",
      "elapsed: 5.73478\n",
      "/tmp/rgf/caa2cd72-8dab-4da6-8f40-a2ea860545f21.predictions.txt: /tmp/rgf/caa2cd72-8dab-4da6-8f40-a2ea860545f21.model-04,#leaf=1000,#tree=255\n",
      "Wed Nov  8 10:36:20 2017: Done ... \n",
      "\n",
      "None\n",
      "0.289282768786\n"
     ]
    }
   ],
   "source": [
    "rgf = RGFClassifier(max_leaf=1000, #Try increasing this as a starter\n",
    "                    algorithm=\"RGF_Sib\",\n",
    "                    test_interval=250,\n",
    "                    loss=\"Log\",\n",
    "                    verbose=True)\n",
    "rgf.fit(train[train.columns[2:]],train.target)\n",
    "x = rgf.predict_proba(train[train.columns[2:]])\n",
    "print(GiniScore(train.target,x[:,1]))"
   ]
  },
  {
   "cell_type": "code",
   "execution_count": 7,
   "metadata": {
    "_cell_guid": "2c0dfa5e-37a0-40c9-98f2-5f8fd3ddd990",
    "_uuid": "27c74c0b4c33d1ac2c792943e6126cbb5c7957d2",
    "collapsed": true
   },
   "outputs": [
    {
     "name": "stdout",
     "output_type": "stream",
     "text": [
      "\"predict\": \n",
      "   model_fn=/tmp/rgf/caa2cd72-8dab-4da6-8f40-a2ea860545f21.model-04\n",
      "   test_x_fn=/tmp/rgf/caa2cd72-8dab-4da6-8f40-a2ea860545f21.test.data.x\n",
      "   prediction_fn=/tmp/rgf/caa2cd72-8dab-4da6-8f40-a2ea860545f21.predictions.txt\n",
      "   Log:ON\n",
      "--------------------\n",
      "Wed Nov  8 10:36:50 2017: Reading test data ... \n",
      "Wed Nov  8 10:37:00 2017: Predicting ... \n",
      "elapsed: 8.86028\n",
      "/tmp/rgf/caa2cd72-8dab-4da6-8f40-a2ea860545f21.predictions.txt: /tmp/rgf/caa2cd72-8dab-4da6-8f40-a2ea860545f21.model-04,#leaf=1000,#tree=255\n",
      "Wed Nov  8 10:37:15 2017: Done ... \n",
      "\n",
      "None\n"
     ]
    }
   ],
   "source": [
    "sub = pd.read_csv('../input/sample_submission.csv')\n",
    "x = rgf.predict_proba(test[test.columns[2:]])\n",
    "sub.target = x[:,1]\n",
    "sub.to_csv('rgfsubmission.csv',index=False)"
   ]
  }
 ],
 "metadata": {
  "kernelspec": {
   "display_name": "Python 3",
   "language": "python",
   "name": "python3"
  },
  "language_info": {
   "codemirror_mode": {
    "name": "ipython",
    "version": 3
   },
   "file_extension": ".py",
   "mimetype": "text/x-python",
   "name": "python",
   "nbconvert_exporter": "python",
   "pygments_lexer": "ipython3",
   "version": "3.6.3"
  }
 },
 "nbformat": 4,
 "nbformat_minor": 1
}
