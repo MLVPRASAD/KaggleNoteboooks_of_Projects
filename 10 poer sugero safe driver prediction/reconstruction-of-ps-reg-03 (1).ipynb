{
 "cells": [
  {
   "cell_type": "markdown",
   "metadata": {
    "_cell_guid": "ab12761d-42a9-481f-afbe-a553e8ebf434",
    "_uuid": "18d41f52d50a1a0218d0f02f7d9ca3ee8678ab47"
   },
   "source": [
    "Reconstruction of 'ps_reg_03'\n",
    "============\n",
    "Considering, that ps_reg_03 appears to be one of the most (if not the most) predictive feature in the data set, determining how it is constructed could be an important step in building very predictive new features and improving models.\n",
    "The closed form guesser of [Wolfram|Alpha](https://www.wolframalpha.com/), applied to some high precision values of ps_reg_03 reveals the following pattern:\n",
    "$$\n",
    "\\text{ps_reg_03}=\\frac{\\sqrt{I}}{40},\\quad \\text{ with } I\\in \\mathbb{N^+}.\n",
    "$$\n",
    "\n",
    "In other words:\n",
    "$$\n",
    "I=\\left(40*\\text{ps_reg_03}\\right)^2\n",
    "$$\n",
    "\n",
    "yields an integer. ps_reg_03 is therefore likely a categorical feature or a combination of combinatorical features.\n",
    "\n",
    "Lets confirm this pattern for the full data set:"
   ]
  },
  {
   "cell_type": "code",
   "execution_count": 1,
   "metadata": {
    "_cell_guid": "eaa2e734-7949-48d5-94b7-d584dcf69a51",
    "_kg_hide-input": false,
    "_uuid": "e9bd612d9808da0aa6f6dba8682d5d4a36c4897a",
    "collapsed": true
   },
   "outputs": [],
   "source": [
    "import numpy as np\n",
    "import pandas as pd\n",
    "import matplotlib.pyplot as plt\n",
    "import seaborn as sns"
   ]
  },
  {
   "cell_type": "code",
   "execution_count": 2,
   "metadata": {
    "_cell_guid": "11c4ec6c-0b27-4efb-931c-479cf117a276",
    "_kg_hide-input": false,
    "_uuid": "e4ab9cbbf9e27944c4932bbe4ad07464309d6d67",
    "collapsed": true
   },
   "outputs": [],
   "source": [
    "# Load training data\n",
    "train = pd.read_csv('../input/train.csv')\n",
    "# and remove nan values for now\n",
    "train = train[train['ps_reg_03'] != -1]"
   ]
  },
  {
   "cell_type": "code",
   "execution_count": 3,
   "metadata": {
    "_cell_guid": "40be3d1b-129f-4b7d-aee9-9385acdbc713",
    "_kg_hide-input": false,
    "_uuid": "47925f444aaea1e681bd903846e8e3c5e6c23eba"
   },
   "outputs": [
    {
     "data": {
      "text/plain": [
       "0      825.0\n",
       "1      939.0\n",
       "3      540.0\n",
       "4     1131.0\n",
       "5     8706.0\n",
       "6      610.0\n",
       "7      590.0\n",
       "8     1300.0\n",
       "9     8587.0\n",
       "10    1013.0\n",
       "Name: ps_reg_03_int, dtype: float64"
      ]
     },
     "execution_count": 3,
     "metadata": {},
     "output_type": "execute_result"
    }
   ],
   "source": [
    "train['ps_reg_03_int'] = train['ps_reg_03'].apply(lambda x: (40*x)**2)\n",
    "train['ps_reg_03_int'].head(10)"
   ]
  },
  {
   "cell_type": "markdown",
   "metadata": {
    "_cell_guid": "6b370b0d-e764-4697-9e89-5a60da43a143",
    "_uuid": "3bed7a093531b8cd71c786d0fbce06d976cfdb25"
   },
   "source": [
    "This looks promising and indeed all ps_reg_03_int are very close to an integer."
   ]
  },
  {
   "cell_type": "code",
   "execution_count": 4,
   "metadata": {
    "_cell_guid": "8e993cbd-9f61-4c78-9e3b-719cd813111d",
    "_uuid": "d838750a3bf8150b4186603eda35730d4324f490",
    "collapsed": true
   },
   "outputs": [],
   "source": [
    "# Actually convert ps_reg_03_int to integer\n",
    "train['ps_reg_03_int'] = train['ps_reg_03_int'].apply(np.round).apply(int)"
   ]
  },
  {
   "cell_type": "markdown",
   "metadata": {
    "_cell_guid": "ba4f42ab-a5e1-437e-a2dc-0645f2c3a79e",
    "_uuid": "1767eaa0dd9d22b57de9510dc5caec65ac7a0980"
   },
   "source": [
    "As a cross-check, let us count the number of unique values of ps_reg_03 and the number of integer categories:"
   ]
  },
  {
   "cell_type": "code",
   "execution_count": 5,
   "metadata": {
    "_cell_guid": "6e5ca02d-0321-4758-9640-d83da526dfdf",
    "_uuid": "d9e21e13ec234522f558d5b4d44ea62739e07618"
   },
   "outputs": [
    {
     "name": "stdout",
     "output_type": "stream",
     "text": [
      "Unique values of ps_reg_03:  5012\n",
      "Number of integer categories:  5012\n"
     ]
    }
   ],
   "source": [
    "print(\"Unique values of ps_reg_03: \", len(train['ps_reg_03'].unique()))\n",
    "print(\"Number of integer categories: \", len(train['ps_reg_03_int'].unique()))"
   ]
  },
  {
   "cell_type": "markdown",
   "metadata": {
    "_cell_guid": "41cc6562-6eea-461d-a639-6263d897c12f",
    "_uuid": "554869cf3cd07e171a567fad21530d87c6f3f1cc"
   },
   "source": [
    "Now let's have a look at their distribution:"
   ]
  },
  {
   "cell_type": "code",
   "execution_count": 6,
   "metadata": {
    "_cell_guid": "3f5766f7-b6ca-4626-83c2-06abcc101819",
    "_kg_hide-output": false,
    "_uuid": "6cb6bdcb96bd5565f612cb20d4ab0644a76b449a"
   },
   "outputs": [
    {
     "data": {
      "text/plain": [
       "<matplotlib.text.Text at 0x7f0f537856d8>"
      ]
     },
     "execution_count": 6,
     "metadata": {},
     "output_type": "execute_result"
    },
    {
     "data": {
      "image/png": "[encoded data removed]",
      "text/plain": [
       "<matplotlib.figure.Figure at 0x7f0f53a6a588>"
      ]
     },
     "metadata": {},
     "output_type": "display_data"
    }
   ],
   "source": [
    "fig, ax = plt.subplots(1,2,figsize=(10,5))\n",
    "for i in range(2): ax[i].set_yscale('log') #Set y-axis to log-scale\n",
    "train['ps_reg_03'].hist(ax=ax[0])\n",
    "ax[0].set_xlabel('ps_reg_03')\n",
    "train['ps_reg_03_int'].hist(ax=ax[1])\n",
    "ax[1].set_xlabel('Integer')"
   ]
  },
  {
   "cell_type": "markdown",
   "metadata": {
    "_cell_guid": "ed3f8ecc-86de-4623-a28f-ebb9e20d4fa0",
    "_uuid": "13a473cba1c5dafd1e9ba1828cf2b667aa401339"
   },
   "source": [
    "We can see that these integers are probably not the [municipalities of Brazil](https://en.wikipedia.org/wiki/Municipalities_of_Brazil) (1-5570), since values as large as 25000 exist. The skewness of the distribution supports this, although the data could have been sorted and municipalities relabeled.\n",
    "\n",
    "It seems more likely that something like [Glimmung's interpretation](https://www.kaggle.com/c/porto-seguro-safe-driver-prediction/discussion/41200) could be correct:\n",
    "\n",
    "$$\n",
    "\\text{ps_reg_03}=\\frac{\\sqrt{27M + F}}{40},\n",
    "$$\n",
    "\n",
    "with F being the [federative unit of Brazil](https://en.wikipedia.org/wiki/Subdivisions_of_Brazil) (1-27) and M being the municipal number inside that administrative region, which can grow as large as a few hundred. Since there are only 27 federative units, the above equation yields a unique value for each combination of M and F.\n",
    "\n",
    "For instance, the municipality 76 in unit 8 would yield the integer and ps_reg_03:"
   ]
  },
  {
   "cell_type": "code",
   "execution_count": 7,
   "metadata": {
    "_cell_guid": "7aef8057-bde3-4a4d-b26a-7423feef2183",
    "_uuid": "b27b32391fd670d53f33776076184649d9adb306"
   },
   "outputs": [
    {
     "name": "stdout",
     "output_type": "stream",
     "text": [
      "Integer:  2060\n",
      "ps_reg_03:  1.13468057179\n"
     ]
    }
   ],
   "source": [
    "print(\"Integer: \", 27*76+8)\n",
    "print(\"ps_reg_03: \", np.sqrt(27*76+8)/40)"
   ]
  },
  {
   "cell_type": "markdown",
   "metadata": {
    "_cell_guid": "f8cbfe50-68cf-4a5a-894d-628d0936991d",
    "_uuid": "0522fe5e864cf31637f301a49e9f752bb0038dc0"
   },
   "source": [
    "This would explain the skewness, since lower municipalities are much more common (every federative unit has a municipality #1, but not #270).\n",
    "\n",
    "Assuming for now, that the above equation is the correct interpretation, let's reconstruct M and F of each integer category:"
   ]
  },
  {
   "cell_type": "code",
   "execution_count": 8,
   "metadata": {
    "_cell_guid": "d660db46-4e21-485f-8534-f5a2e01f174e",
    "_uuid": "23b8c846410be9f61ded8a514e05b0d9a816c126"
   },
   "outputs": [
    {
     "name": "stdout",
     "output_type": "stream",
     "text": [
      "Federative Unit (F):  8\n",
      "Municipality (M):  76\n"
     ]
    }
   ],
   "source": [
    "def recon(reg):\n",
    "    integer = int(np.round((40*reg)**2)) # gives 2060 for our example\n",
    "    for f in range(28):\n",
    "        if (integer - f) % 27 == 0:\n",
    "            F = f\n",
    "    M = (integer - F)//27\n",
    "    return F, M\n",
    "\n",
    "# Using the above example to test\n",
    "ps_reg_03_example = 1.13468057179\n",
    "print(\"Federative Unit (F): \", recon(ps_reg_03_example)[0])\n",
    "print(\"Municipality (M): \", recon(ps_reg_03_example)[1])"
   ]
  },
  {
   "cell_type": "markdown",
   "metadata": {
    "_cell_guid": "8fd5f627-598e-4628-961f-87e4c8403c5c",
    "_uuid": "f4d08cc3f03bde0e60d59bdc37b6c65ea992b113"
   },
   "source": [
    "Let's now apply this to the data set. The function above, despite being horribly inefficient, runs within a few seconds."
   ]
  },
  {
   "cell_type": "code",
   "execution_count": 9,
   "metadata": {
    "_cell_guid": "80cf0f02-c8e7-467e-ac31-0697c4070bc1",
    "_uuid": "3c9b12533399162726f87acb0245a6ac6555a698"
   },
   "outputs": [
    {
     "name": "stdout",
     "output_type": "stream",
     "text": [
      "    ps_reg_03  ps_reg_F  ps_reg_M\n",
      "0    0.718070        15        30\n",
      "1    0.766078        21        34\n",
      "3    0.580948        27        19\n",
      "4    0.840759        24        41\n",
      "5    2.332649        12       322\n",
      "6    0.617454        16        22\n",
      "7    0.607248        23        21\n",
      "8    0.901388         4        48\n",
      "9    2.316652         1       318\n",
      "10   0.795692        14        37\n"
     ]
    }
   ],
   "source": [
    "train['ps_reg_F'] = train['ps_reg_03'].apply(lambda x: recon(x)[0])\n",
    "train['ps_reg_M'] = train['ps_reg_03'].apply(lambda x: recon(x)[1])\n",
    "print(train[['ps_reg_03', 'ps_reg_F', 'ps_reg_M']].head(10))"
   ]
  },
  {
   "cell_type": "markdown",
   "metadata": {
    "_cell_guid": "65ca9a4a-d793-4248-9e94-69334476e7e9",
    "_uuid": "2113611ce8faa4ebc7ac2bcb13c810f3be50dee1"
   },
   "source": [
    "The administrative regions and municipalities are distributed as follows:"
   ]
  },
  {
   "cell_type": "code",
   "execution_count": 10,
   "metadata": {
    "_cell_guid": "45d81fb4-beba-4dab-9371-aad94b21a113",
    "_uuid": "829d8a75656e1f2e718fd61cb534bae64e15d32d"
   },
   "outputs": [
    {
     "data": {
      "text/plain": [
       "<matplotlib.text.Text at 0x7f0f536177f0>"
      ]
     },
     "execution_count": 10,
     "metadata": {},
     "output_type": "execute_result"
    },
    {
     "data": {
      "image/png": "[encoded data removed]",
      "text/plain": [
       "<matplotlib.figure.Figure at 0x7f0f531860b8>"
      ]
     },
     "metadata": {},
     "output_type": "display_data"
    }
   ],
   "source": [
    "fig, ax = plt.subplots(1,2,figsize=(10,5))\n",
    "ax[0].set_yscale('log') #Set y-axis to log-scale only for M\n",
    "train['ps_reg_M'].hist(ax=ax[0])\n",
    "ax[0].set_xlabel('Municipality (M)')\n",
    "train['ps_reg_F'].hist(ax=ax[1], bins=27)\n",
    "ax[1].set_xlabel('Federative Unit (F)')"
   ]
  },
  {
   "cell_type": "markdown",
   "metadata": {
    "_cell_guid": "c597bf45-bd11-4b4c-943b-d4bf251ead1e",
    "_uuid": "7533a275bd0a1fc95007cab6b858e7fb793b3670"
   },
   "source": [
    "The number of policy holders seems to be somewhat uniformly distributed over the federative units. The municipality is skewed right as expected."
   ]
  },
  {
   "cell_type": "code",
   "execution_count": 11,
   "metadata": {
    "collapsed": true
   },
   "outputs": [],
   "source": []
  }
 ],
 "metadata": {
  "kernelspec": {
   "display_name": "Python 3",
   "language": "python",
   "name": "python3"
  },
  "language_info": {
   "codemirror_mode": {
    "name": "ipython",
    "version": 3
   },
   "file_extension": ".py",
   "mimetype": "text/x-python",
   "name": "python",
   "nbconvert_exporter": "python",
   "pygments_lexer": "ipython3",
   "version": "3.6.3"
  }
 },
 "nbformat": 4,
 "nbformat_minor": 1
}
