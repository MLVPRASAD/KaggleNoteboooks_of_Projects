{
 "cells": [
  {
   "cell_type": "code",
   "execution_count": 1,
   "metadata": {
    "_cell_guid": "641dee89-d43a-46a0-8feb-6c62acb16df3",
    "_uuid": "b072a89c53bf8d578644a6d6da592251a5df8bc2",
    "collapsed": true
   },
   "outputs": [],
   "source": [
    "#Script for faster calculation of Gini coefficient in python\n",
    "\n",
    "import numpy as np # linear algebra\n",
    "import pandas as pd # data processing, CSV file I/O (e.g. pd.read_csv)\n"
   ]
  },
  {
   "cell_type": "code",
   "execution_count": 2,
   "metadata": {
    "_cell_guid": "179fe287-a44b-47e7-b0b5-a55581035c0b",
    "_uuid": "c386935d1df15efed81fc1aecc8d64b98ed2710c",
    "collapsed": true
   },
   "outputs": [],
   "source": [
    "#The function used in most kernels\n",
    "def gini(actual, pred, cmpcol = 0, sortcol = 1):\n",
    "    assert( len(actual) == len(pred) )\n",
    "    all = np.asarray(np.c_[ actual, pred, np.arange(len(actual)) ], dtype=np.float)\n",
    "    all = all[ np.lexsort((all[:,2], -1*all[:,1])) ]\n",
    "    totalLosses = all[:,0].sum()\n",
    "    giniSum = all[:,0].cumsum().sum() / totalLosses\n",
    "    \n",
    "    giniSum -= (len(actual) + 1) / 2.\n",
    "    return giniSum / len(actual)\n",
    " \n",
    "def gini_normalized(a, p):\n",
    "    return gini(a, p) / gini(a, a)"
   ]
  },
  {
   "cell_type": "code",
   "execution_count": 3,
   "metadata": {
    "_cell_guid": "413aae06-0f8e-49e3-b1fa-7608df04ddf6",
    "_uuid": "6c3bcbfbc26bcc0e85364841a7e3ccfb5b02c5ef"
   },
   "outputs": [
    {
     "name": "stdout",
     "output_type": "stream",
     "text": [
      "[0 1 1 1 0] [ 0.04320391  0.13821996  0.86650132  0.14792614  0.7026727 ]\n"
     ]
    }
   ],
   "source": [
    "a = np.random.randint(0,2,100000)\n",
    "p = np.random.rand(100000)\n",
    "print(a[10:15], p[10:15])"
   ]
  },
  {
   "cell_type": "code",
   "execution_count": 4,
   "metadata": {
    "_cell_guid": "4037cbdb-0e05-4aaf-ac84-8a9af46db1e5",
    "_uuid": "3a4cdc4c3c872d83d980fe4de82c154bde5d10ef"
   },
   "outputs": [
    {
     "name": "stdout",
     "output_type": "stream",
     "text": [
      "CPU times: user 28 ms, sys: 8 ms, total: 36 ms\n",
      "Wall time: 34.7 ms\n"
     ]
    },
    {
     "data": {
      "text/plain": [
       "0.0020964644437498465"
      ]
     },
     "execution_count": 4,
     "metadata": {},
     "output_type": "execute_result"
    }
   ],
   "source": [
    "%%time\n",
    "gini_normalized(a,p)"
   ]
  },
  {
   "cell_type": "code",
   "execution_count": 5,
   "metadata": {
    "_cell_guid": "d684bbaf-8a80-434a-bc32-27c08801001c",
    "_uuid": "3bbbed5ac80529ea84187b396332e50c47179996",
    "collapsed": true
   },
   "outputs": [],
   "source": [
    "#Remove redundant calls\n",
    "def ginic(actual, pred):\n",
    "    actual = np.asarray(actual) #In case, someone passes Series or list\n",
    "    n = len(actual)\n",
    "    a_s = actual[np.argsort(pred)]\n",
    "    a_c = a_s.cumsum()\n",
    "    giniSum = a_c.sum() / a_s.sum() - (n + 1) / 2.0\n",
    "    return giniSum / n\n",
    " \n",
    "def gini_normalizedc(a, p):\n",
    "    if p.ndim == 2:#Required for sklearn wrapper\n",
    "        p = p[:,1] #If proba array contains proba for both 0 and 1 classes, just pick class 1\n",
    "    return ginic(a, p) / ginic(a, a)"
   ]
  },
  {
   "cell_type": "code",
   "execution_count": 6,
   "metadata": {
    "_cell_guid": "4def9e34-6bf6-4a0b-addb-e6cfb41a275d",
    "_uuid": "9da2eee4c2c609d351d6d7d7fd296da14a5d510e"
   },
   "outputs": [
    {
     "name": "stdout",
     "output_type": "stream",
     "text": [
      "CPU times: user 12 ms, sys: 0 ns, total: 12 ms\n",
      "Wall time: 13.8 ms\n"
     ]
    },
    {
     "data": {
      "text/plain": [
       "0.0020964644437498465"
      ]
     },
     "execution_count": 6,
     "metadata": {},
     "output_type": "execute_result"
    }
   ],
   "source": [
    "%%time\n",
    "gini_normalizedc(a,p)"
   ]
  },
  {
   "cell_type": "markdown",
   "metadata": {
    "_cell_guid": "72601938-ce30-4c88-af10-2dd02eca59f2",
    "_uuid": "279106ef19cc90924f4f626d671ab10a145f1813"
   },
   "source": [
    "### Wrappers for different algorithms"
   ]
  },
  {
   "cell_type": "code",
   "execution_count": 7,
   "metadata": {
    "_cell_guid": "01626675-2b67-4463-9d36-38eae6dee201",
    "_uuid": "d7aa5acf1cf684cd802e2c472657f426c7db01a1",
    "collapsed": true
   },
   "outputs": [],
   "source": [
    "#XGBoost\n",
    "from sklearn import metrics\n",
    "def gini_xgb(preds, dtrain):\n",
    "    labels = dtrain.get_label()\n",
    "    gini_score = gini_normalizedc(labels, preds)\n",
    "    return [('gini', gini_score)]\n",
    "\n",
    "#LightGBM\n",
    "def gini_lgb(actuals, preds):\n",
    "    return 'gini', gini_normalizedc(actuals, preds), True\n",
    "\n",
    "#SKlearn\n",
    "gini_sklearn = metrics.make_scorer(gini_normalizedc, True, True)"
   ]
  },
  {
   "cell_type": "markdown",
   "metadata": {
    "_cell_guid": "873c5337-69b4-4152-ae1d-2bb42d52971e",
    "_uuid": "3f9a9400d3bb419327c5cf72facba53daf6c36ca"
   },
   "source": [
    "### Cheers!"
   ]
  },
  {
   "cell_type": "markdown",
   "metadata": {
    "_cell_guid": "2c2a8478-5af9-4073-9ffd-2afc405644dd",
    "_uuid": "8548c116892fe7bb2a97d76417805d14c76caf12",
    "collapsed": true
   },
   "source": [
    "### Update:  sklearn example"
   ]
  },
  {
   "cell_type": "code",
   "execution_count": 8,
   "metadata": {
    "_cell_guid": "1b0b0228-5b3b-4931-871e-4e44dffffc1f",
    "_uuid": "23454ae07d1a91c14b0316f46ae556bda8ab3534",
    "collapsed": true
   },
   "outputs": [],
   "source": [
    "train = pd.read_csv(\"../input/train.csv\")\n",
    "feats = [col for col in train.columns if col not in ['id','target']]\n",
    "\n",
    "X = train[feats]\n",
    "y = train['target']"
   ]
  },
  {
   "cell_type": "code",
   "execution_count": 9,
   "metadata": {
    "_cell_guid": "6f6bc472-801b-451e-a6a1-790de7831ced",
    "_uuid": "02a42193cf2711b1bae187cc5ef7e3ac16e55f46",
    "collapsed": true
   },
   "outputs": [],
   "source": [
    "from sklearn.ensemble import RandomForestClassifier\n",
    "from sklearn.model_selection import cross_val_score\n",
    "from sklearn.model_selection import StratifiedKFold\n",
    "\n",
    "#Initialize random forest\n",
    "rfc = RandomForestClassifier(n_estimators=100, max_depth=5, min_samples_leaf=20, max_features=0.2, n_jobs=-1)"
   ]
  },
  {
   "cell_type": "code",
   "execution_count": 10,
   "metadata": {
    "_cell_guid": "8eb57ce8-d255-48ce-a88e-5d0b05211272",
    "_uuid": "3ffa0e674ce83162d61b70e5986ae141871d21ab"
   },
   "outputs": [
    {
     "name": "stderr",
     "output_type": "stream",
     "text": [
      "[Parallel(n_jobs=-1)]: Done   5 out of   5 | elapsed:  3.4min finished\n"
     ]
    },
    {
     "data": {
      "text/plain": [
       "array([ 0.2462545 ,  0.24627452,  0.25112341,  0.24777486,  0.24711137])"
      ]
     },
     "execution_count": 10,
     "metadata": {},
     "output_type": "execute_result"
    }
   ],
   "source": [
    "#Stratified validation startegy\n",
    "cv_1 = StratifiedKFold(n_splits=5, random_state=1).split(X, y)\n",
    "\n",
    "#Check cross validation scores\n",
    "cross_val_score(rfc, X, y, cv=cv_1, scoring=gini_sklearn, verbose=1, n_jobs=-1)"
   ]
  },
  {
   "cell_type": "markdown",
   "metadata": {
    "_cell_guid": "b048ccc9-cc39-407f-bfcc-f2498c911d7f",
    "_uuid": "3a51f6e11c16565c847d391ea2bb0258db05df07"
   },
   "source": [
    "### Cheers again!!!"
   ]
  },
  {
   "cell_type": "code",
   "execution_count": 11,
   "metadata": {
    "_cell_guid": "e6a7f240-28c9-4ad5-82fe-73584a2bcdd8",
    "_uuid": "4e0b2dcb5501e690f2465f3293d02fea5bbc99f2",
    "collapsed": true
   },
   "outputs": [],
   "source": []
  }
 ],
 "metadata": {
  "kernelspec": {
   "display_name": "Python 3",
   "language": "python",
   "name": "python3"
  },
  "language_info": {
   "codemirror_mode": {
    "name": "ipython",
    "version": 3
   },
   "file_extension": ".py",
   "mimetype": "text/x-python",
   "name": "python",
   "nbconvert_exporter": "python",
   "pygments_lexer": "ipython3",
   "version": "3.6.1"
  }
 },
 "nbformat": 4,
 "nbformat_minor": 1
}
