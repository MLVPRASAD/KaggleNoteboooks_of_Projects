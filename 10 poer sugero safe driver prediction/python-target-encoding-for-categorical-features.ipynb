{
 "cells": [
  {
   "cell_type": "code",
   "execution_count": 1,
   "metadata": {
    "_cell_guid": "44908ad8-22b6-4207-bb6b-3aff37da8eb7",
    "_uuid": "7979fd6cf2728a50bdc8f07ac6ef735d5f15b148"
   },
   "outputs": [
    {
     "name": "stdout",
     "output_type": "stream",
     "text": [
      "sample_submission.csv\n",
      "test.csv\n",
      "train.csv\n",
      "\n"
     ]
    }
   ],
   "source": [
    "# This Python 3 environment comes with many helpful analytics libraries installed\n",
    "# It is defined by the kaggle/python docker image: https://github.com/kaggle/docker-python\n",
    "# For example, here's several helpful packages to load in \n",
    "\n",
    "import numpy as np # linear algebra\n",
    "import pandas as pd # data processing, CSV file I/O (e.g. pd.read_csv)\n",
    "\n",
    "# Input data files are available in the \"../input/\" directory.\n",
    "# For example, running this (by clicking run or pressing Shift+Enter) will list the files in the input directory\n",
    "\n",
    "from subprocess import check_output\n",
    "print(check_output([\"ls\", \"../input\"]).decode(\"utf8\"))\n",
    "\n",
    "# Any results you write to the current directory are saved as output."
   ]
  },
  {
   "cell_type": "markdown",
   "metadata": {
    "_cell_guid": "09bfb72b-604b-4b3e-bf37-f94a992b7561",
    "_uuid": "4323e8bd79448c64d374670e72c26adcbab01714"
   },
   "source": [
    "### Target encoding with smoothing\n",
    "min_samples_leaf define a threshold where prior and target mean (for a given category value) have the same weight. Below the threshold prior becomes more important and above mean becomes more important.\n",
    "\n",
    "How weight behaves against value counts is controlled by smoothing parameter"
   ]
  },
  {
   "cell_type": "code",
   "execution_count": 2,
   "metadata": {
    "_cell_guid": "228b3cb2-b8bd-4484-af9a-46b64c2417e3",
    "_uuid": "e1265cc5526a35811e2dfce90dfdebd5c386f015",
    "collapsed": true
   },
   "outputs": [],
   "source": [
    "def add_noise(series, noise_level):\n",
    "    return series * (1 + noise_level * np.random.randn(len(series)))\n",
    "\n",
    "def target_encode(trn_series=None, \n",
    "                  tst_series=None, \n",
    "                  target=None, \n",
    "                  min_samples_leaf=1, \n",
    "                  smoothing=1,\n",
    "                  noise_level=0):\n",
    "    \"\"\"\n",
    "    Smoothing is computed like in the following paper by Daniele Micci-Barreca\n",
    "    https://kaggle2.blob.core.windows.net/forum-message-attachments/225952/7441/high%20cardinality%20categoricals.pdf\n",
    "    trn_series : training categorical feature as a pd.Series\n",
    "    tst_series : test categorical feature as a pd.Series\n",
    "    target : target data as a pd.Series\n",
    "    min_samples_leaf (int) : minimum samples to take category average into account\n",
    "    smoothing (int) : smoothing effect to balance categorical average vs prior  \n",
    "    \"\"\" \n",
    "    assert len(trn_series) == len(target)\n",
    "    assert trn_series.name == tst_series.name\n",
    "    temp = pd.concat([trn_series, target], axis=1)\n",
    "    # Compute target mean \n",
    "    averages = temp.groupby(by=trn_series.name)[target.name].agg([\"mean\", \"count\"])\n",
    "    # Compute smoothing\n",
    "    smoothing = 1 / (1 + np.exp(-(averages[\"count\"] - min_samples_leaf) / smoothing))\n",
    "    # Apply average function to all target data\n",
    "    prior = target.mean()\n",
    "    # The bigger the count the less full_avg is taken into account\n",
    "    averages[target.name] = prior * (1 - smoothing) + averages[\"mean\"] * smoothing\n",
    "    averages.drop([\"mean\", \"count\"], axis=1, inplace=True)\n",
    "    # Apply averages to trn and tst series\n",
    "    ft_trn_series = pd.merge(\n",
    "        trn_series.to_frame(trn_series.name),\n",
    "        averages.reset_index().rename(columns={'index': target.name, target.name: 'average'}),\n",
    "        on=trn_series.name,\n",
    "        how='left')['average'].rename(trn_series.name + '_mean').fillna(prior)\n",
    "    # pd.merge does not keep the index so restore it\n",
    "    ft_trn_series.index = trn_series.index \n",
    "    ft_tst_series = pd.merge(\n",
    "        tst_series.to_frame(tst_series.name),\n",
    "        averages.reset_index().rename(columns={'index': target.name, target.name: 'average'}),\n",
    "        on=tst_series.name,\n",
    "        how='left')['average'].rename(trn_series.name + '_mean').fillna(prior)\n",
    "    # pd.merge does not keep the index so restore it\n",
    "    ft_tst_series.index = tst_series.index\n",
    "    return add_noise(ft_trn_series, noise_level), add_noise(ft_tst_series, noise_level)"
   ]
  },
  {
   "cell_type": "markdown",
   "metadata": {
    "_cell_guid": "562c9068-b02f-4c64-be36-128754df107e",
    "_uuid": "184ac78fd83e42102ccfde0307b31bbd92d0a595"
   },
   "source": [
    "### Testing with ps_car_11_cat"
   ]
  },
  {
   "cell_type": "code",
   "execution_count": 3,
   "metadata": {
    "_cell_guid": "02726dea-c371-488e-84d3-8d54998e59c4",
    "_uuid": "cf4f62d29a00eb971821592a7b4b77ac203facd8"
   },
   "outputs": [
    {
     "data": {
      "text/plain": [
       "id\n",
       "7     0.038917\n",
       "9     0.023708\n",
       "13    0.030953\n",
       "16    0.044688\n",
       "17    0.026341\n",
       "19    0.045348\n",
       "20    0.022527\n",
       "22    0.030300\n",
       "26    0.033820\n",
       "28    0.044770\n",
       "Name: ps_car_11_cat_mean, dtype: float64"
      ]
     },
     "execution_count": 3,
     "metadata": {},
     "output_type": "execute_result"
    }
   ],
   "source": [
    "# reading data\n",
    "trn_df = pd.read_csv(\"../input/train.csv\", index_col=0)\n",
    "sub_df = pd.read_csv(\"../input/test.csv\", index_col=0)\n",
    "\n",
    "# Target encode ps_car_11_cat\n",
    "trn, sub = target_encode(trn_df[\"ps_car_11_cat\"], \n",
    "                         sub_df[\"ps_car_11_cat\"], \n",
    "                         target=trn_df.target, \n",
    "                         min_samples_leaf=100,\n",
    "                         smoothing=10,\n",
    "                         noise_level=0.01)\n",
    "trn.head(10)"
   ]
  },
  {
   "cell_type": "markdown",
   "metadata": {
    "_cell_guid": "909b0a7a-2fde-42d4-826d-26ee307e25ea",
    "_uuid": "c01f4d1c40913fd539eb99fa8415a840ac5931ef"
   },
   "source": [
    "### Scatter plot of category values vs target encoding\n",
    "We see that the category values are not ordered\n"
   ]
  },
  {
   "cell_type": "code",
   "execution_count": 4,
   "metadata": {
    "_cell_guid": "3ab7dddb-ce8e-4ba1-a9ba-c7dbcf61ac98",
    "_kg_hide-input": false,
    "_uuid": "f1892c3e00c89207c75e3ca4adb036ef0e852ded"
   },
   "outputs": [
    {
     "data": {
      "text/plain": [
       "<matplotlib.text.Text at 0x7f6bcb8bc2b0>"
      ]
     },
     "execution_count": 4,
     "metadata": {},
     "output_type": "execute_result"
    },
    {
     "data": {
      "image/png": "[encoded data removed]",
      "text/plain": [
       "<matplotlib.figure.Figure at 0x7f6bd2c54ba8>"
      ]
     },
     "metadata": {},
     "output_type": "display_data"
    }
   ],
   "source": [
    "import matplotlib.pyplot as plt\n",
    "%matplotlib inline\n",
    "\n",
    "plt.scatter(trn_df[\"ps_car_11_cat\"], trn)\n",
    "plt.xlabel(\"ps_car_11_cat category values\")\n",
    "plt.ylabel(\"Noisy target encoding\")"
   ]
  },
  {
   "cell_type": "markdown",
   "metadata": {
    "_cell_guid": "d687755e-92fd-4131-8e75-dbb65a9f21e3",
    "_uuid": "f2ef7ce0e9991f52745a11f7532782c975ae9577"
   },
   "source": [
    "### Check AUC metric improvement after noisy encoding over 5 folds"
   ]
  },
  {
   "cell_type": "code",
   "execution_count": 5,
   "metadata": {
    "_cell_guid": "dccd829f-a816-4475-9c32-a6f140fb1b95",
    "_kg_hide-input": true,
    "_kg_hide-output": false,
    "_uuid": "08e2048bb660113bad3d67f764165beaa64188e9"
   },
   "outputs": [
    {
     "name": "stdout",
     "output_type": "stream",
     "text": [
      "                             Raw Categories |   Encoded Categories\n",
      "ps_ind_02_cat        :  0.506205 + 0.000645 | 0.508456 + 0.001132\n",
      "ps_ind_04_cat        :  0.512617 + 0.000721 | 0.514476 + 0.001560\n",
      "ps_ind_05_cat        :  0.520250 + 0.000760 | 0.534369 + 0.001934\n",
      "ps_car_01_cat        :  0.528912 + 0.000736 | 0.552015 + 0.001517\n",
      "ps_car_02_cat        :  0.531614 + 0.000786 | 0.531642 + 0.001340\n",
      "ps_car_03_cat        :  0.539652 + 0.000782 | 0.539038 + 0.001555\n",
      "ps_car_04_cat        :  0.536473 + 0.000532 | 0.536465 + 0.001234\n",
      "ps_car_05_cat        :  0.530585 + 0.000432 | 0.530795 + 0.000676\n",
      "ps_car_06_cat        :  0.515692 + 0.000817 | 0.542923 + 0.000841\n",
      "ps_car_07_cat        :  0.522623 + 0.000671 | 0.522535 + 0.001586\n",
      "ps_car_08_cat        :  0.520287 + 0.000602 | 0.521506 + 0.002040\n",
      "ps_car_09_cat        :  0.504888 + 0.000700 | 0.525121 + 0.001698\n",
      "ps_car_10_cat        :  0.500254 + 0.000058 | 0.501058 + 0.001909\n",
      "ps_car_11_cat        :  0.512414 + 0.001029 | 0.574298 + 0.000581\n"
     ]
    }
   ],
   "source": [
    "from sklearn.metrics import roc_auc_score\n",
    "from sklearn.model_selection import StratifiedKFold\n",
    "\n",
    "folds = StratifiedKFold(n_splits=5, shuffle=True, random_state=0)\n",
    "f_cats = [f for f in trn_df.columns if \"_cat\" in f]\n",
    "print(\"%20s   %20s | %20s\" % (\"\", \"Raw Categories\", \"Encoded Categories\"))\n",
    "for f in f_cats:\n",
    "    print(\"%-20s : \" % f, end=\"\")\n",
    "    e_scores = []\n",
    "    f_scores = []\n",
    "    for trn_idx, val_idx in folds.split(trn_df.values, trn_df.target.values):\n",
    "        trn_f, trn_tgt = trn_df[f].iloc[trn_idx], trn_df.target.iloc[trn_idx]\n",
    "        val_f, val_tgt = trn_df[f].iloc[trn_idx], trn_df.target.iloc[trn_idx]\n",
    "        trn_tf, val_tf = target_encode(trn_series=trn_f, \n",
    "                                       tst_series=val_f, \n",
    "                                       target=trn_tgt, \n",
    "                                       min_samples_leaf=100, \n",
    "                                       smoothing=20,\n",
    "                                       noise_level=0.01)\n",
    "        f_scores.append(max(roc_auc_score(val_tgt, val_f), 1 - roc_auc_score(val_tgt, val_f)))\n",
    "        e_scores.append(roc_auc_score(val_tgt, val_tf))\n",
    "    print(\" %.6f + %.6f | %6f + %.6f\" \n",
    "          % (np.mean(f_scores), np.std(f_scores), np.mean(e_scores), np.std(e_scores)))"
   ]
  },
  {
   "cell_type": "code",
   "execution_count": 6,
   "metadata": {
    "_cell_guid": "2d07e4fa-456f-4c5b-a100-0dd28e0a4691",
    "_uuid": "3e343c4458ebc4b2d29d846ba9974944b1c4fe79",
    "collapsed": true
   },
   "outputs": [],
   "source": []
  }
 ],
 "metadata": {
  "kernelspec": {
   "display_name": "Python 3",
   "language": "python",
   "name": "python3"
  },
  "language_info": {
   "codemirror_mode": {
    "name": "ipython",
    "version": 3
   },
   "file_extension": ".py",
   "mimetype": "text/x-python",
   "name": "python",
   "nbconvert_exporter": "python",
   "pygments_lexer": "ipython3",
   "version": "3.6.1"
  }
 },
 "nbformat": 4,
 "nbformat_minor": 1
}
