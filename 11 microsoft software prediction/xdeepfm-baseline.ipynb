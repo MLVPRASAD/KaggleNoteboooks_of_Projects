{
 "cells": [
  {
   "cell_type": "markdown",
   "metadata": {
    "_uuid": "49dbbb0a5d245fb039de1ff98a151eed7655c9ec"
   },
   "source": [
    "# Download repo from https://github.com/guoday/ctrNet-tool"
   ]
  },
  {
   "cell_type": "code",
   "execution_count": 1,
   "metadata": {
    "_uuid": "3dd1c886d4d9eab3575471f01e4b617834bfd39d"
   },
   "outputs": [
    {
     "name": "stdout",
     "output_type": "stream",
     "text": [
      "Cloning into 'ctrNet-tool'...\r\n",
      "remote: Enumerating objects: 153, done.\u001b[K\r\n",
      "remote: Counting objects: 100% (153/153), done.\u001b[K\r\n",
      "remote: Compressing objects: 100% (114/114), done.\u001b[K\r\n",
      "remote: Total 153 (delta 77), reused 86 (delta 36), pack-reused 0\u001b[K\r\n",
      "Receiving objects: 100% (153/153), 8.41 MiB | 0 bytes/s, done.\r\n",
      "Resolving deltas: 100% (77/77), done.\r\n",
      "rm: cannot remove '.git': No such file or directory\r\n",
      "total 40\r\n",
      "drwxr-xr-x 4 root root  4096 Feb 17 18:50 .\r\n",
      "drwxr-xr-x 6 root root  4096 Feb 17 18:50 ..\r\n",
      "-rw-r--r-- 1 root root  2268 Feb 17 18:50 README.md\r\n",
      "-rw-r--r-- 1 root root 11707 Feb 17 18:50 __notebook__.ipynb\r\n",
      "-rw-r--r-- 1 root root   271 Feb 17 18:50 __output__.json\r\n",
      "-rw-r--r-- 1 root root   772 Feb 17 18:50 ctrNet.py\r\n",
      "drwxr-xr-x 2 root root  4096 Feb 17 18:50 models\r\n",
      "drwxr-xr-x 2 root root  4096 Feb 17 18:50 src\r\n"
     ]
    }
   ],
   "source": [
    "#Download ctrNet-tool \n",
    "#You can find the code in https://github.com/guoday/ctrNet-tool\n",
    "!git clone https://github.com/guoday/ctrNet-tool.git\n",
    "!cp -r ctrNet-tool/* ./\n",
    "!rm -r ctrNet-tool data .git\n",
    "!ls -all"
   ]
  },
  {
   "cell_type": "code",
   "execution_count": 2,
   "metadata": {
    "_uuid": "b130d0c90f9052e4e79d9a42a33126d326f99e76"
   },
   "outputs": [],
   "source": [
    "import ctrNet\n",
    "import pandas as pd\n",
    "import numpy as np\n",
    "import tensorflow as tf\n",
    "from sklearn.model_selection import train_test_split\n",
    "from src import misc_utils as utils\n",
    "import os\n",
    "import gc\n",
    "import random"
   ]
  },
  {
   "cell_type": "markdown",
   "metadata": {
    "_uuid": "78002914dd03d54e6184faf7a7bd3cf69f8eab07"
   },
   "source": [
    "# Loading Dataset"
   ]
  },
  {
   "cell_type": "code",
   "execution_count": 3,
   "metadata": {
    "_uuid": "ec4defddeddeee26da9b7b6d338c8dca694ebf94"
   },
   "outputs": [
    {
     "name": "stdout",
     "output_type": "stream",
     "text": [
      "Loading Train and Test Data.\n",
      "\n"
     ]
    }
   ],
   "source": [
    "dtypes = {\n",
    "        'MachineIdentifier':                                    'category',\n",
    "        'ProductName':                                          'category',\n",
    "        'EngineVersion':                                        'category',\n",
    "        'AppVersion':                                           'category',\n",
    "        'AvSigVersion':                                         'category',\n",
    "        'IsBeta':                                               'int8',\n",
    "        'RtpStateBitfield':                                     'float16',\n",
    "        'IsSxsPassiveMode':                                     'int8',\n",
    "        'DefaultBrowsersIdentifier':                            'float16',\n",
    "        'AVProductStatesIdentifier':                            'float32',\n",
    "        'AVProductsInstalled':                                  'float16',\n",
    "        'AVProductsEnabled':                                    'float16',\n",
    "        'HasTpm':                                               'int8',\n",
    "        'CountryIdentifier':                                    'int16',\n",
    "        'CityIdentifier':                                       'float32',\n",
    "        'OrganizationIdentifier':                               'float16',\n",
    "        'GeoNameIdentifier':                                    'float16',\n",
    "        'LocaleEnglishNameIdentifier':                          'int8',\n",
    "        'Platform':                                             'category',\n",
    "        'Processor':                                            'category',\n",
    "        'OsVer':                                                'category',\n",
    "        'OsBuild':                                              'int16',\n",
    "        'OsSuite':                                              'int16',\n",
    "        'OsPlatformSubRelease':                                 'category',\n",
    "        'OsBuildLab':                                           'category',\n",
    "        'SkuEdition':                                           'category',\n",
    "        'IsProtected':                                          'float16',\n",
    "        'AutoSampleOptIn':                                      'int8',\n",
    "        'PuaMode':                                              'category',\n",
    "        'SMode':                                                'float16',\n",
    "        'IeVerIdentifier':                                      'float16',\n",
    "        'SmartScreen':                                          'category',\n",
    "        'Firewall':                                             'float16',\n",
    "        'UacLuaenable':                                         'float32',\n",
    "        'Census_MDC2FormFactor':                                'category',\n",
    "        'Census_DeviceFamily':                                  'category',\n",
    "        'Census_OEMNameIdentifier':                             'float16',\n",
    "        'Census_OEMModelIdentifier':                            'float32',\n",
    "        'Census_ProcessorCoreCount':                            'float16',\n",
    "        'Census_ProcessorManufacturerIdentifier':               'float16',\n",
    "        'Census_ProcessorModelIdentifier':                      'float16',\n",
    "        'Census_ProcessorClass':                                'category',\n",
    "        'Census_PrimaryDiskTotalCapacity':                      'float32',\n",
    "        'Census_PrimaryDiskTypeName':                           'category',\n",
    "        'Census_SystemVolumeTotalCapacity':                     'float32',\n",
    "        'Census_HasOpticalDiskDrive':                           'int8',\n",
    "        'Census_TotalPhysicalRAM':                              'float32',\n",
    "        'Census_ChassisTypeName':                               'category',\n",
    "        'Census_InternalPrimaryDiagonalDisplaySizeInInches':    'float16',\n",
    "        'Census_InternalPrimaryDisplayResolutionHorizontal':    'float16',\n",
    "        'Census_InternalPrimaryDisplayResolutionVertical':      'float16',\n",
    "        'Census_PowerPlatformRoleName':                         'category',\n",
    "        'Census_InternalBatteryType':                           'category',\n",
    "        'Census_InternalBatteryNumberOfCharges':                'float32',\n",
    "        'Census_OSVersion':                                     'category',\n",
    "        'Census_OSArchitecture':                                'category',\n",
    "        'Census_OSBranch':                                      'category',\n",
    "        'Census_OSBuildNumber':                                 'int16',\n",
    "        'Census_OSBuildRevision':                               'int32',\n",
    "        'Census_OSEdition':                                     'category',\n",
    "        'Census_OSSkuName':                                     'category',\n",
    "        'Census_OSInstallTypeName':                             'category',\n",
    "        'Census_OSInstallLanguageIdentifier':                   'float16',\n",
    "        'Census_OSUILocaleIdentifier':                          'int16',\n",
    "        'Census_OSWUAutoUpdateOptionsName':                     'category',\n",
    "        'Census_IsPortableOperatingSystem':                     'int8',\n",
    "        'Census_GenuineStateName':                              'category',\n",
    "        'Census_ActivationChannel':                             'category',\n",
    "        'Census_IsFlightingInternal':                           'float16',\n",
    "        'Census_IsFlightsDisabled':                             'float16',\n",
    "        'Census_FlightRing':                                    'category',\n",
    "        'Census_ThresholdOptIn':                                'float16',\n",
    "        'Census_FirmwareManufacturerIdentifier':                'float16',\n",
    "        'Census_FirmwareVersionIdentifier':                     'float32',\n",
    "        'Census_IsSecureBootEnabled':                           'int8',\n",
    "        'Census_IsWIMBootEnabled':                              'float16',\n",
    "        'Census_IsVirtualDevice':                               'float16',\n",
    "        'Census_IsTouchEnabled':                                'int8',\n",
    "        'Census_IsPenCapable':                                  'int8',\n",
    "        'Census_IsAlwaysOnAlwaysConnectedCapable':              'float16',\n",
    "        'Wdft_IsGamer':                                         'float16',\n",
    "        'Wdft_RegionIdentifier':                                'float16',\n",
    "        'HasDetections':                                        'int8'\n",
    "        }\n",
    "print('Loading Train and Test Data.\\n')\n",
    "train = pd.read_csv('../input/train.csv', dtype=dtypes, low_memory=True)\n",
    "train['MachineIdentifier'] = train.index.astype('uint32')\n",
    "test  = pd.read_csv('../input/test.csv',  dtype=dtypes, low_memory=True)\n",
    "test['MachineIdentifier']  = test.index.astype('uint32')\n",
    "test['HasDetections']=[0]*len(test)"
   ]
  },
  {
   "cell_type": "code",
   "execution_count": 4,
   "metadata": {
    "_uuid": "f24dcd1a223ea1175800f722952980c4a8a4215c"
   },
   "outputs": [],
   "source": [
    "def make_bucket(data,num=10):\n",
    "    data.sort()\n",
    "    bins=[]\n",
    "    for i in range(num):\n",
    "        bins.append(data[int(len(data)*(i+1)//num)-1])\n",
    "    return bins\n",
    "float_features=['Census_SystemVolumeTotalCapacity','Census_PrimaryDiskTotalCapacity']\n",
    "for f in float_features:\n",
    "    train[f]=train[f].fillna(1e10)\n",
    "    test[f]=test[f].fillna(1e10)\n",
    "    data=list(train[f])+list(test[f])\n",
    "    bins=make_bucket(data,num=50)\n",
    "    train[f]=np.digitize(train[f],bins=bins)\n",
    "    test[f]=np.digitize(test[f],bins=bins)\n",
    "    \n",
    "train, dev,_,_ = train_test_split(train,train['HasDetections'],test_size=0.02, random_state=2019)\n",
    "features=train.columns.tolist()[1:-1]"
   ]
  },
  {
   "cell_type": "markdown",
   "metadata": {
    "_uuid": "43985fb1cde4988c788d44fe94094cbf05171ce9"
   },
   "source": [
    "# Creating hparams"
   ]
  },
  {
   "cell_type": "code",
   "execution_count": 5,
   "metadata": {
    "_uuid": "40b2ecd8536dcac62d426daeeb8c5f79f8f817c4"
   },
   "outputs": [
    {
     "name": "stdout",
     "output_type": "stream",
     "text": [
      "  activation=['relu', 'relu', 'relu']\n",
      "  batch_norm_decay=0.9\n",
      "  batch_size=1024\n",
      "  cross_activation=identity\n",
      "  cross_layer_sizes=[128, 128, 128]\n",
      "  epoch=1\n",
      "  feature_nums=81\n",
      "  hash_ids=200000\n",
      "  hidden_size=[128, 128]\n",
      "  init_method=uniform\n",
      "  init_value=0.1\n",
      "  k=8\n",
      "  kfold=5\n",
      "  learning_rate=0.001\n",
      "  metric=auc\n",
      "  model=xdeepfm\n",
      "  norm=True\n",
      "  num_display_steps=1000\n",
      "  num_eval_steps=1000\n",
      "  optimizer=adam\n"
     ]
    }
   ],
   "source": [
    "hparam=tf.contrib.training.HParams(\n",
    "            model='xdeepfm',\n",
    "            norm=True,\n",
    "            batch_norm_decay=0.9,\n",
    "            hidden_size=[128,128],\n",
    "            cross_layer_sizes=[128,128,128],\n",
    "            k=8,\n",
    "            hash_ids=int(2e5),\n",
    "            batch_size=1024,\n",
    "            optimizer=\"adam\",\n",
    "            learning_rate=0.001,\n",
    "            num_display_steps=1000,\n",
    "            num_eval_steps=1000,\n",
    "            epoch=1,\n",
    "            metric='auc',\n",
    "            activation=['relu','relu','relu'],\n",
    "            cross_activation='identity',\n",
    "            init_method='uniform',\n",
    "            init_value=0.1,\n",
    "            feature_nums=len(features),\n",
    "            kfold=5)\n",
    "utils.print_hparams(hparam)"
   ]
  },
  {
   "cell_type": "markdown",
   "metadata": {
    "_uuid": "66e67bbf4fb72dfb853ca1cb05ce993f670bec35"
   },
   "source": [
    "# Training model"
   ]
  },
  {
   "cell_type": "code",
   "execution_count": 6,
   "metadata": {
    "_uuid": "6c48b409a4e86c09ca395c3a4f75b2b1c372d124"
   },
   "outputs": [
    {
     "name": "stdout",
     "output_type": "stream",
     "text": [
      "Number: 1748610\n",
      "Number: 1748610\n",
      "Number: 1748610\n",
      "Number: 1748610\n",
      "Number: 1748613\n",
      "Fold 0\n",
      "# Trainable variables\n",
      "  emb_v1:0, (200000, 1), \n",
      "  emb_v2:0, (200000, 8), \n",
      "  Variable:0, (648, 128), \n",
      "  norm_0/beta:0, (128,), \n",
      "  norm_0/gamma:0, (128,), \n",
      "  Variable_1:0, (128, 128), \n",
      "  norm_1/beta:0, (128,), \n",
      "  norm_1/gamma:0, (128,), \n",
      "  Variable_2:0, (128, 1), \n",
      "  exfm_part/f_0:0, (1, 6561, 128), \n",
      "  exfm_part/f_1:0, (1, 5184, 128), \n",
      "  exfm_part/f_2:0, (1, 5184, 128), \n",
      "  exfm_part/w_nn_output:0, (256, 1), \n",
      "  exfm_part/b_nn_output:0, (1,), \n",
      "  epoch 0 step 1000 lr 0.001 logloss 0.623389 gN 0.30, Sun Feb 17 19:03:26 2019\n",
      "# Epcho-time 334.06s Eval AUC 0.719803. Best AUC 0.719803.\n",
      "  epoch 0 step 2000 lr 0.001 logloss 0.607780 gN 0.23, Sun Feb 17 19:09:33 2019\n",
      "# Epcho-time 700.82s Eval AUC 0.728620. Best AUC 0.728620.\n",
      "  epoch 0 step 3000 lr 0.001 logloss 0.602428 gN 0.22, Sun Feb 17 19:15:39 2019\n",
      "# Epcho-time 1067.16s Eval AUC 0.732318. Best AUC 0.732318.\n",
      "  epoch 0 step 4000 lr 0.001 logloss 0.599856 gN 0.21, Sun Feb 17 19:21:46 2019\n",
      "# Epcho-time 1433.89s Eval AUC 0.734359. Best AUC 0.734359.\n",
      "  epoch 0 step 5000 lr 0.001 logloss 0.598311 gN 0.20, Sun Feb 17 19:27:51 2019\n",
      "# Epcho-time 1799.32s Eval AUC 0.736238. Best AUC 0.736238.\n",
      "  epoch 0 step 6000 lr 0.001 logloss 0.598146 gN 0.19, Sun Feb 17 19:33:58 2019\n",
      "# Epcho-time 2166.09s Eval AUC 0.736650. Best AUC 0.736650.\n",
      "# Epcho-time 2476.73s Eval AUC 0.738504. Best AUC 0.738504.\n",
      "INFO:tensorflow:Restoring parameters from model_tmp/model\n",
      "# Epcho-time 2511.79s Eval AUC 0.738510. Best AUC 0.738510.\n",
      "Training Done! Inference...\n",
      "Fold 1\n",
      "# Trainable variables\n",
      "  emb_v1:0, (200000, 1), \n",
      "  emb_v2:0, (200000, 8), \n",
      "  Variable:0, (648, 128), \n",
      "  norm_0/beta:0, (128,), \n",
      "  norm_0/gamma:0, (128,), \n",
      "  Variable_1:0, (128, 128), \n",
      "  norm_1/beta:0, (128,), \n",
      "  norm_1/gamma:0, (128,), \n",
      "  Variable_2:0, (128, 1), \n",
      "  exfm_part/f_0:0, (1, 6561, 128), \n",
      "  exfm_part/f_1:0, (1, 5184, 128), \n",
      "  exfm_part/f_2:0, (1, 5184, 128), \n",
      "  exfm_part/w_nn_output:0, (256, 1), \n",
      "  exfm_part/b_nn_output:0, (1,), \n",
      "  epoch 0 step 1000 lr 0.001 logloss 0.622524 gN 0.29, Sun Feb 17 20:13:05 2019\n",
      "# Epcho-time 333.64s Eval AUC 0.718071. Best AUC 0.718071.\n",
      "  epoch 0 step 2000 lr 0.001 logloss 0.606822 gN 0.23, Sun Feb 17 20:19:16 2019\n",
      "# Epcho-time 704.54s Eval AUC 0.727319. Best AUC 0.727319.\n",
      "  epoch 0 step 3000 lr 0.001 logloss 0.602220 gN 0.21, Sun Feb 17 20:25:24 2019\n",
      "# Epcho-time 1073.12s Eval AUC 0.730443. Best AUC 0.730443.\n",
      "  epoch 0 step 4000 lr 0.001 logloss 0.599879 gN 0.20, Sun Feb 17 20:31:34 2019\n",
      "# Epcho-time 1443.31s Eval AUC 0.733629. Best AUC 0.733629.\n",
      "  epoch 0 step 5000 lr 0.001 logloss 0.598172 gN 0.19, Sun Feb 17 20:37:41 2019\n",
      "# Epcho-time 1810.29s Eval AUC 0.735065. Best AUC 0.735065.\n",
      "  epoch 0 step 6000 lr 0.001 logloss 0.598176 gN 0.19, Sun Feb 17 20:43:46 2019\n",
      "# Epcho-time 2174.49s Eval AUC 0.735806. Best AUC 0.735806.\n",
      "# Epcho-time 2481.74s Eval AUC 0.737359. Best AUC 0.737359.\n",
      "INFO:tensorflow:Restoring parameters from model_tmp/model\n",
      "# Epcho-time 2515.76s Eval AUC 0.737365. Best AUC 0.737365.\n",
      "Training Done! Inference...\n",
      "Fold 2\n",
      "# Trainable variables\n",
      "  emb_v1:0, (200000, 1), \n",
      "  emb_v2:0, (200000, 8), \n",
      "  Variable:0, (648, 128), \n",
      "  norm_0/beta:0, (128,), \n",
      "  norm_0/gamma:0, (128,), \n",
      "  Variable_1:0, (128, 128), \n",
      "  norm_1/beta:0, (128,), \n",
      "  norm_1/gamma:0, (128,), \n",
      "  Variable_2:0, (128, 1), \n",
      "  exfm_part/f_0:0, (1, 6561, 128), \n",
      "  exfm_part/f_1:0, (1, 5184, 128), \n",
      "  exfm_part/f_2:0, (1, 5184, 128), \n",
      "  exfm_part/w_nn_output:0, (256, 1), \n",
      "  exfm_part/b_nn_output:0, (1,), \n",
      "  epoch 0 step 1000 lr 0.001 logloss 0.622527 gN 0.30, Sun Feb 17 21:21:11 2019\n",
      "# Epcho-time 326.99s Eval AUC 0.720199. Best AUC 0.720199.\n",
      "  epoch 0 step 2000 lr 0.001 logloss 0.606505 gN 0.23, Sun Feb 17 21:27:11 2019\n",
      "# Epcho-time 687.31s Eval AUC 0.727623. Best AUC 0.727623.\n",
      "  epoch 0 step 3000 lr 0.001 logloss 0.602725 gN 0.21, Sun Feb 17 21:33:15 2019\n",
      "# Epcho-time 1051.09s Eval AUC 0.731835. Best AUC 0.731835.\n",
      "  epoch 0 step 4000 lr 0.001 logloss 0.600107 gN 0.20, Sun Feb 17 21:39:13 2019\n",
      "# Epcho-time 1409.39s Eval AUC 0.733906. Best AUC 0.733906.\n",
      "  epoch 0 step 5000 lr 0.001 logloss 0.598279 gN 0.20, Sun Feb 17 21:45:11 2019\n",
      "# Epcho-time 1767.28s Eval AUC 0.735214. Best AUC 0.735214.\n",
      "  epoch 0 step 6000 lr 0.001 logloss 0.598155 gN 0.19, Sun Feb 17 21:51:17 2019\n",
      "# Epcho-time 2132.57s Eval AUC 0.735627. Best AUC 0.735627.\n",
      "# Epcho-time 2446.68s Eval AUC 0.737078. Best AUC 0.737078.\n",
      "INFO:tensorflow:Restoring parameters from model_tmp/model\n",
      "# Epcho-time 2480.48s Eval AUC 0.737082. Best AUC 0.737082.\n",
      "Training Done! Inference...\n",
      "Fold 3\n",
      "# Trainable variables\n",
      "  emb_v1:0, (200000, 1), \n",
      "  emb_v2:0, (200000, 8), \n",
      "  Variable:0, (648, 128), \n",
      "  norm_0/beta:0, (128,), \n",
      "  norm_0/gamma:0, (128,), \n",
      "  Variable_1:0, (128, 128), \n",
      "  norm_1/beta:0, (128,), \n",
      "  norm_1/gamma:0, (128,), \n",
      "  Variable_2:0, (128, 1), \n",
      "  exfm_part/f_0:0, (1, 6561, 128), \n",
      "  exfm_part/f_1:0, (1, 5184, 128), \n",
      "  exfm_part/f_2:0, (1, 5184, 128), \n",
      "  exfm_part/w_nn_output:0, (256, 1), \n",
      "  exfm_part/b_nn_output:0, (1,), \n",
      "  epoch 0 step 1000 lr 0.001 logloss 0.621309 gN 0.29, Sun Feb 17 22:28:59 2019\n",
      "# Epcho-time 323.99s Eval AUC 0.721527. Best AUC 0.721527.\n",
      "  epoch 0 step 2000 lr 0.001 logloss 0.605902 gN 0.23, Sun Feb 17 22:35:00 2019\n",
      "# Epcho-time 684.81s Eval AUC 0.728373. Best AUC 0.728373.\n",
      "  epoch 0 step 3000 lr 0.001 logloss 0.602622 gN 0.21, Sun Feb 17 22:40:57 2019\n",
      "# Epcho-time 1041.68s Eval AUC 0.732476. Best AUC 0.732476.\n",
      "  epoch 0 step 4000 lr 0.001 logloss 0.600202 gN 0.20, Sun Feb 17 22:46:53 2019\n",
      "# Epcho-time 1398.34s Eval AUC 0.734133. Best AUC 0.734133.\n",
      "  epoch 0 step 5000 lr 0.001 logloss 0.598160 gN 0.20, Sun Feb 17 22:52:49 2019\n",
      "# Epcho-time 1754.60s Eval AUC 0.735932. Best AUC 0.735932.\n",
      "  epoch 0 step 6000 lr 0.001 logloss 0.598076 gN 0.19, Sun Feb 17 22:58:47 2019\n",
      "# Epcho-time 2112.40s Eval AUC 0.736718. Best AUC 0.736718.\n",
      "# Epcho-time 2420.66s Eval AUC 0.738356. Best AUC 0.738356.\n",
      "INFO:tensorflow:Restoring parameters from model_tmp/model\n",
      "# Epcho-time 2455.45s Eval AUC 0.738354. Best AUC 0.738356.\n",
      "Training Done! Inference...\n",
      "Fold 4\n",
      "# Trainable variables\n",
      "  emb_v1:0, (200000, 1), \n",
      "  emb_v2:0, (200000, 8), \n",
      "  Variable:0, (648, 128), \n",
      "  norm_0/beta:0, (128,), \n",
      "  norm_0/gamma:0, (128,), \n",
      "  Variable_1:0, (128, 128), \n",
      "  norm_1/beta:0, (128,), \n",
      "  norm_1/gamma:0, (128,), \n",
      "  Variable_2:0, (128, 1), \n",
      "  exfm_part/f_0:0, (1, 6561, 128), \n",
      "  exfm_part/f_1:0, (1, 5184, 128), \n",
      "  exfm_part/f_2:0, (1, 5184, 128), \n",
      "  exfm_part/w_nn_output:0, (256, 1), \n",
      "  exfm_part/b_nn_output:0, (1,), \n",
      "  epoch 0 step 1000 lr 0.001 logloss 0.623812 gN 0.31, Sun Feb 17 23:36:38 2019\n",
      "# Epcho-time 325.19s Eval AUC 0.721055. Best AUC 0.721055.\n",
      "  epoch 0 step 2000 lr 0.001 logloss 0.606656 gN 0.24, Sun Feb 17 23:42:32 2019\n",
      "# Epcho-time 678.98s Eval AUC 0.729268. Best AUC 0.729268.\n",
      "  epoch 0 step 3000 lr 0.001 logloss 0.602976 gN 0.22, Sun Feb 17 23:48:26 2019\n",
      "# Epcho-time 1033.59s Eval AUC 0.734373. Best AUC 0.734373.\n",
      "  epoch 0 step 4000 lr 0.001 logloss 0.600411 gN 0.21, Sun Feb 17 23:54:21 2019\n",
      "# Epcho-time 1388.40s Eval AUC 0.735906. Best AUC 0.735906.\n",
      "  epoch 0 step 5000 lr 0.001 logloss 0.598301 gN 0.20, Mon Feb 18 00:00:22 2019\n",
      "# Epcho-time 1749.56s Eval AUC 0.738506. Best AUC 0.738506.\n",
      "  epoch 0 step 6000 lr 0.001 logloss 0.597047 gN 0.19, Mon Feb 18 00:06:20 2019\n",
      "# Epcho-time 2107.55s Eval AUC 0.738437. Best AUC 0.738506.\n",
      "# Epcho-time 2407.95s Eval AUC 0.738910. Best AUC 0.738910.\n",
      "INFO:tensorflow:Restoring parameters from model_tmp/model\n",
      "# Epcho-time 2440.96s Eval AUC 0.738909. Best AUC 0.738910.\n",
      "Training Done! Inference...\n"
     ]
    }
   ],
   "source": [
    "index=set(range(train.shape[0]))\n",
    "K_fold=[]\n",
    "for i in range(hparam.kfold):\n",
    "    if i == hparam.kfold-1:\n",
    "        tmp=index\n",
    "    else:\n",
    "        tmp=random.sample(index,int(1.0/hparam.kfold*train.shape[0]))\n",
    "    index=index-set(tmp)\n",
    "    print(\"Number:\",len(tmp))\n",
    "    K_fold.append(tmp)\n",
    "    \n",
    "\n",
    "for i in range(hparam.kfold):\n",
    "    print(\"Fold\",i)\n",
    "    dev_index=K_fold[i]\n",
    "    dev_index=random.sample(dev_index,int(0.1*len(dev_index)))\n",
    "    train_index=[]\n",
    "    for j in range(hparam.kfold):\n",
    "        if j!=i:\n",
    "            train_index+=K_fold[j]\n",
    "    model=ctrNet.build_model(hparam)\n",
    "    model.train(train_data=(train.iloc[train_index][features],train.iloc[train_index]['HasDetections']),\\\n",
    "                dev_data=(train.iloc[dev_index][features],train.iloc[dev_index]['HasDetections']))\n",
    "    print(\"Training Done! Inference...\")\n",
    "    if i==0:\n",
    "        preds=model.infer(dev_data=(test[features],test['HasDetections']))/hparam.kfold\n",
    "    else:\n",
    "        preds+=model.infer(dev_data=(test[features],test['HasDetections']))/hparam.kfold"
   ]
  },
  {
   "cell_type": "markdown",
   "metadata": {
    "_uuid": "4302884724f2191b363591d5af43c1dc12c79a48"
   },
   "source": [
    "# Inference"
   ]
  },
  {
   "cell_type": "code",
   "execution_count": 7,
   "metadata": {
    "_uuid": "fcd62d5f09ca9d78e96854d84433325fb80f6096"
   },
   "outputs": [
    {
     "name": "stdout",
     "output_type": "stream",
     "text": [
      "0    0.509475\n",
      "1    0.612248\n",
      "2    0.469438\n",
      "3    0.326553\n",
      "4    0.489298\n",
      "Name: HasDetections, dtype: float32\n"
     ]
    }
   ],
   "source": [
    "submission = pd.read_csv('../input/sample_submission.csv')\n",
    "submission['HasDetections'] = preds\n",
    "print(submission['HasDetections'].head())\n",
    "submission.to_csv('nffm_submission.csv', index=False)"
   ]
  }
 ],
 "metadata": {
  "kernelspec": {
   "display_name": "Python 3",
   "language": "python",
   "name": "python3"
  },
  "language_info": {
   "codemirror_mode": {
    "name": "ipython",
    "version": 3
   },
   "file_extension": ".py",
   "mimetype": "text/x-python",
   "name": "python",
   "nbconvert_exporter": "python",
   "pygments_lexer": "ipython3",
   "version": "3.6.6"
  }
 },
 "nbformat": 4,
 "nbformat_minor": 1
}
