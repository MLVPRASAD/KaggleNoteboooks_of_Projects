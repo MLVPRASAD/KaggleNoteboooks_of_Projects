{
 "cells": [
  {
   "cell_type": "markdown",
   "metadata": {
    "_uuid": "790d6b14795f081200c7837a8808b706dcee688e"
   },
   "source": [
    "# Load the Totality of the Data\n",
    "\n",
    "#### The data is quite big here, and all of it cannot be loaded at once with a simple read_csv call. \n",
    "**A solution is to specify types, to gain memory (for example switching from float64 to float32)**"
   ]
  },
  {
   "cell_type": "code",
   "execution_count": 1,
   "metadata": {
    "_cell_guid": "b1076dfc-b9ad-4769-8c92-a6c4dae69d19",
    "_kg_hide-input": true,
    "_uuid": "8f2839f25d086af736a60e9eeb907d3b93b6e0e5"
   },
   "outputs": [
    {
     "name": "stdout",
     "output_type": "stream",
     "text": [
      "['sample_submission.csv', 'test.csv', 'train.csv']\n"
     ]
    }
   ],
   "source": [
    "# This Python 3 environment comes with many helpful analytics libraries installed\n",
    "# It is defined by the kaggle/python docker image: https://github.com/kaggle/docker-python\n",
    "# For example, here's several helpful packages to load in \n",
    "\n",
    "import numpy as np # linear algebra\n",
    "import pandas as pd # data processing, CSV file I/O (e.g. pd.read_csv)\n",
    "\n",
    "# Input data files are available in the \"../input/\" directory.\n",
    "# For example, running this (by clicking run or pressing Shift+Enter) will list the files in the input directory\n",
    "\n",
    "import os\n",
    "print(os.listdir(\"../input\"))\n",
    "\n",
    "# Any results you write to the current directory are saved as output."
   ]
  },
  {
   "cell_type": "markdown",
   "metadata": {
    "_uuid": "d9050e35c02d1f9a302859a30d988d1b14d14c9a"
   },
   "source": [
    "## /!\\ Fixed some mistakes, big thanks to @Chris Deotte and @CPMP /!\\\n",
    "> https://www.kaggle.com/c/microsoft-malware-prediction/discussion/80338\n",
    "\n",
    "Here are the types I use. :\n",
    "- I load objects as categories, object is fine as well.\n",
    "- Binary values are switched to int8\n",
    "- Binary values with missing values are switched to float16 (int does not understand nan), it is possible to use category here as well.\n",
    "- 64 bits encoding are all switched to 32, or 16 of possible"
   ]
  },
  {
   "cell_type": "code",
   "execution_count": 2,
   "metadata": {
    "_uuid": "2593e2c0e1b3f9e9d8f7047fe4d237464e0463f6"
   },
   "outputs": [],
   "source": [
    "dtypes = {\n",
    "        'MachineIdentifier':                                    'category',\n",
    "        'ProductName':                                          'category',\n",
    "        'EngineVersion':                                        'category',\n",
    "        'AppVersion':                                           'category',\n",
    "        'AvSigVersion':                                         'category',\n",
    "        'IsBeta':                                               'int8',\n",
    "        'RtpStateBitfield':                                     'float16',\n",
    "        'IsSxsPassiveMode':                                     'int8',\n",
    "        'DefaultBrowsersIdentifier':                            'float32',\n",
    "        'AVProductStatesIdentifier':                            'float32',\n",
    "        'AVProductsInstalled':                                  'float16',\n",
    "        'AVProductsEnabled':                                    'float16',\n",
    "        'HasTpm':                                               'int8',\n",
    "        'CountryIdentifier':                                    'int16',\n",
    "        'CityIdentifier':                                       'float32',\n",
    "        'OrganizationIdentifier':                               'float16',\n",
    "        'GeoNameIdentifier':                                    'float16',\n",
    "        'LocaleEnglishNameIdentifier':                          'int16',\n",
    "        'Platform':                                             'category',\n",
    "        'Processor':                                            'category',\n",
    "        'OsVer':                                                'category',\n",
    "        'OsBuild':                                              'int16',\n",
    "        'OsSuite':                                              'int16',\n",
    "        'OsPlatformSubRelease':                                 'category',\n",
    "        'OsBuildLab':                                           'category',\n",
    "        'SkuEdition':                                           'category',\n",
    "        'IsProtected':                                          'float16',\n",
    "        'AutoSampleOptIn':                                      'int8',\n",
    "        'PuaMode':                                              'category',\n",
    "        'SMode':                                                'float16',\n",
    "        'IeVerIdentifier':                                      'float16',\n",
    "        'SmartScreen':                                          'category',\n",
    "        'Firewall':                                             'float16',\n",
    "        'UacLuaenable':                                         'float64', # was 'float32'\n",
    "        'Census_MDC2FormFactor':                                'category',\n",
    "        'Census_DeviceFamily':                                  'category',\n",
    "        'Census_OEMNameIdentifier':                             'float32', # was 'float16'\n",
    "        'Census_OEMModelIdentifier':                            'float32',\n",
    "        'Census_ProcessorCoreCount':                            'float16',\n",
    "        'Census_ProcessorManufacturerIdentifier':               'float16',\n",
    "        'Census_ProcessorModelIdentifier':                      'float32', # was 'float16'\n",
    "        'Census_ProcessorClass':                                'category',\n",
    "        'Census_PrimaryDiskTotalCapacity':                      'float64', # was 'float32'\n",
    "        'Census_PrimaryDiskTypeName':                           'category',\n",
    "        'Census_SystemVolumeTotalCapacity':                     'float64', # was 'float32'\n",
    "        'Census_HasOpticalDiskDrive':                           'int8',\n",
    "        'Census_TotalPhysicalRAM':                              'float32',\n",
    "        'Census_ChassisTypeName':                               'category',\n",
    "        'Census_InternalPrimaryDiagonalDisplaySizeInInches':    'float32', # was 'float16'\n",
    "        'Census_InternalPrimaryDisplayResolutionHorizontal':    'float32', # was 'float16'\n",
    "        'Census_InternalPrimaryDisplayResolutionVertical':      'float32', # was 'float16'\n",
    "        'Census_PowerPlatformRoleName':                         'category',\n",
    "        'Census_InternalBatteryType':                           'category',\n",
    "        'Census_InternalBatteryNumberOfCharges':                'float64', # was 'float32'\n",
    "        'Census_OSVersion':                                     'category',\n",
    "        'Census_OSArchitecture':                                'category',\n",
    "        'Census_OSBranch':                                      'category',\n",
    "        'Census_OSBuildNumber':                                 'int16',\n",
    "        'Census_OSBuildRevision':                               'int32',\n",
    "        'Census_OSEdition':                                     'category',\n",
    "        'Census_OSSkuName':                                     'category',\n",
    "        'Census_OSInstallTypeName':                             'category',\n",
    "        'Census_OSInstallLanguageIdentifier':                   'float16',\n",
    "        'Census_OSUILocaleIdentifier':                          'int16',\n",
    "        'Census_OSWUAutoUpdateOptionsName':                     'category',\n",
    "        'Census_IsPortableOperatingSystem':                     'int8',\n",
    "        'Census_GenuineStateName':                              'category',\n",
    "        'Census_ActivationChannel':                             'category',\n",
    "        'Census_IsFlightingInternal':                           'float16',\n",
    "        'Census_IsFlightsDisabled':                             'float16',\n",
    "        'Census_FlightRing':                                    'category',\n",
    "        'Census_ThresholdOptIn':                                'float16',\n",
    "        'Census_FirmwareManufacturerIdentifier':                'float16',\n",
    "        'Census_FirmwareVersionIdentifier':                     'float32',\n",
    "        'Census_IsSecureBootEnabled':                           'int8',\n",
    "        'Census_IsWIMBootEnabled':                              'float16',\n",
    "        'Census_IsVirtualDevice':                               'float16',\n",
    "        'Census_IsTouchEnabled':                                'int8',\n",
    "        'Census_IsPenCapable':                                  'int8',\n",
    "        'Census_IsAlwaysOnAlwaysConnectedCapable':              'float16',\n",
    "        'Wdft_IsGamer':                                         'float16',\n",
    "        'Wdft_RegionIdentifier':                                'float16',\n",
    "        'HasDetections':                                        'int8'\n",
    "        }"
   ]
  },
  {
   "cell_type": "code",
   "execution_count": 3,
   "metadata": {
    "_uuid": "9b769f8e91789a7fff7b840814aa8bf17821addd"
   },
   "outputs": [],
   "source": [
    "test_df = pd.read_csv('../input/test.csv', dtype=dtypes)"
   ]
  },
  {
   "cell_type": "code",
   "execution_count": 4,
   "metadata": {
    "_uuid": "ea9bef4e383a4e6829f485b97a1abf663e77fd68",
    "scrolled": false
   },
   "outputs": [
    {
     "name": "stdout",
     "output_type": "stream",
     "text": [
      "<class 'pandas.core.frame.DataFrame'>\n",
      "RangeIndex: 7853253 entries, 0 to 7853252\n",
      "Data columns (total 82 columns):\n",
      "MachineIdentifier                                    category\n",
      "ProductName                                          category\n",
      "EngineVersion                                        category\n",
      "AppVersion                                           category\n",
      "AvSigVersion                                         category\n",
      "IsBeta                                               int8\n",
      "RtpStateBitfield                                     float16\n",
      "IsSxsPassiveMode                                     int8\n",
      "DefaultBrowsersIdentifier                            float32\n",
      "AVProductStatesIdentifier                            float32\n",
      "AVProductsInstalled                                  float16\n",
      "AVProductsEnabled                                    float16\n",
      "HasTpm                                               int8\n",
      "CountryIdentifier                                    int16\n",
      "CityIdentifier                                       float32\n",
      "OrganizationIdentifier                               float16\n",
      "GeoNameIdentifier                                    float16\n",
      "LocaleEnglishNameIdentifier                          int16\n",
      "Platform                                             category\n",
      "Processor                                            category\n",
      "OsVer                                                category\n",
      "OsBuild                                              int16\n",
      "OsSuite                                              int16\n",
      "OsPlatformSubRelease                                 category\n",
      "OsBuildLab                                           category\n",
      "SkuEdition                                           category\n",
      "IsProtected                                          float16\n",
      "AutoSampleOptIn                                      int8\n",
      "PuaMode                                              category\n",
      "SMode                                                float16\n",
      "IeVerIdentifier                                      float16\n",
      "SmartScreen                                          category\n",
      "Firewall                                             float16\n",
      "UacLuaenable                                         float64\n",
      "Census_MDC2FormFactor                                category\n",
      "Census_DeviceFamily                                  category\n",
      "Census_OEMNameIdentifier                             float32\n",
      "Census_OEMModelIdentifier                            float32\n",
      "Census_ProcessorCoreCount                            float16\n",
      "Census_ProcessorManufacturerIdentifier               float16\n",
      "Census_ProcessorModelIdentifier                      float32\n",
      "Census_ProcessorClass                                category\n",
      "Census_PrimaryDiskTotalCapacity                      float64\n",
      "Census_PrimaryDiskTypeName                           category\n",
      "Census_SystemVolumeTotalCapacity                     float64\n",
      "Census_HasOpticalDiskDrive                           int8\n",
      "Census_TotalPhysicalRAM                              float32\n",
      "Census_ChassisTypeName                               category\n",
      "Census_InternalPrimaryDiagonalDisplaySizeInInches    float32\n",
      "Census_InternalPrimaryDisplayResolutionHorizontal    float32\n",
      "Census_InternalPrimaryDisplayResolutionVertical      float32\n",
      "Census_PowerPlatformRoleName                         category\n",
      "Census_InternalBatteryType                           category\n",
      "Census_InternalBatteryNumberOfCharges                float64\n",
      "Census_OSVersion                                     category\n",
      "Census_OSArchitecture                                category\n",
      "Census_OSBranch                                      category\n",
      "Census_OSBuildNumber                                 int16\n",
      "Census_OSBuildRevision                               int32\n",
      "Census_OSEdition                                     category\n",
      "Census_OSSkuName                                     category\n",
      "Census_OSInstallTypeName                             category\n",
      "Census_OSInstallLanguageIdentifier                   float16\n",
      "Census_OSUILocaleIdentifier                          int16\n",
      "Census_OSWUAutoUpdateOptionsName                     category\n",
      "Census_IsPortableOperatingSystem                     int8\n",
      "Census_GenuineStateName                              category\n",
      "Census_ActivationChannel                             category\n",
      "Census_IsFlightingInternal                           float16\n",
      "Census_IsFlightsDisabled                             float16\n",
      "Census_FlightRing                                    category\n",
      "Census_ThresholdOptIn                                float16\n",
      "Census_FirmwareManufacturerIdentifier                float16\n",
      "Census_FirmwareVersionIdentifier                     float32\n",
      "Census_IsSecureBootEnabled                           int8\n",
      "Census_IsWIMBootEnabled                              float16\n",
      "Census_IsVirtualDevice                               float16\n",
      "Census_IsTouchEnabled                                int8\n",
      "Census_IsPenCapable                                  int8\n",
      "Census_IsAlwaysOnAlwaysConnectedCapable              float16\n",
      "Wdft_IsGamer                                         float16\n",
      "Wdft_RegionIdentifier                                float16\n",
      "dtypes: category(30), float16(21), float32(11), float64(4), int16(6), int32(1), int8(9)\n",
      "memory usage: 1.7 GB\n"
     ]
    }
   ],
   "source": [
    "test_df.info()"
   ]
  },
  {
   "cell_type": "code",
   "execution_count": 5,
   "metadata": {
    "_uuid": "63afaaae2fdcc38986e593d83f311e589d31cc90"
   },
   "outputs": [],
   "source": [
    "train_df = pd.read_csv('../input/train.csv', dtype=dtypes)"
   ]
  },
  {
   "cell_type": "code",
   "execution_count": 6,
   "metadata": {
    "_uuid": "af97e66147f98d5ec6402b0620fd77b8684e0280"
   },
   "outputs": [
    {
     "name": "stdout",
     "output_type": "stream",
     "text": [
      "<class 'pandas.core.frame.DataFrame'>\n",
      "RangeIndex: 8921483 entries, 0 to 8921482\n",
      "Data columns (total 83 columns):\n",
      "MachineIdentifier                                    category\n",
      "ProductName                                          category\n",
      "EngineVersion                                        category\n",
      "AppVersion                                           category\n",
      "AvSigVersion                                         category\n",
      "IsBeta                                               int8\n",
      "RtpStateBitfield                                     float16\n",
      "IsSxsPassiveMode                                     int8\n",
      "DefaultBrowsersIdentifier                            float32\n",
      "AVProductStatesIdentifier                            float32\n",
      "AVProductsInstalled                                  float16\n",
      "AVProductsEnabled                                    float16\n",
      "HasTpm                                               int8\n",
      "CountryIdentifier                                    int16\n",
      "CityIdentifier                                       float32\n",
      "OrganizationIdentifier                               float16\n",
      "GeoNameIdentifier                                    float16\n",
      "LocaleEnglishNameIdentifier                          int16\n",
      "Platform                                             category\n",
      "Processor                                            category\n",
      "OsVer                                                category\n",
      "OsBuild                                              int16\n",
      "OsSuite                                              int16\n",
      "OsPlatformSubRelease                                 category\n",
      "OsBuildLab                                           category\n",
      "SkuEdition                                           category\n",
      "IsProtected                                          float16\n",
      "AutoSampleOptIn                                      int8\n",
      "PuaMode                                              category\n",
      "SMode                                                float16\n",
      "IeVerIdentifier                                      float16\n",
      "SmartScreen                                          category\n",
      "Firewall                                             float16\n",
      "UacLuaenable                                         float64\n",
      "Census_MDC2FormFactor                                category\n",
      "Census_DeviceFamily                                  category\n",
      "Census_OEMNameIdentifier                             float32\n",
      "Census_OEMModelIdentifier                            float32\n",
      "Census_ProcessorCoreCount                            float16\n",
      "Census_ProcessorManufacturerIdentifier               float16\n",
      "Census_ProcessorModelIdentifier                      float32\n",
      "Census_ProcessorClass                                category\n",
      "Census_PrimaryDiskTotalCapacity                      float64\n",
      "Census_PrimaryDiskTypeName                           category\n",
      "Census_SystemVolumeTotalCapacity                     float64\n",
      "Census_HasOpticalDiskDrive                           int8\n",
      "Census_TotalPhysicalRAM                              float32\n",
      "Census_ChassisTypeName                               category\n",
      "Census_InternalPrimaryDiagonalDisplaySizeInInches    float32\n",
      "Census_InternalPrimaryDisplayResolutionHorizontal    float32\n",
      "Census_InternalPrimaryDisplayResolutionVertical      float32\n",
      "Census_PowerPlatformRoleName                         category\n",
      "Census_InternalBatteryType                           category\n",
      "Census_InternalBatteryNumberOfCharges                float64\n",
      "Census_OSVersion                                     category\n",
      "Census_OSArchitecture                                category\n",
      "Census_OSBranch                                      category\n",
      "Census_OSBuildNumber                                 int16\n",
      "Census_OSBuildRevision                               int32\n",
      "Census_OSEdition                                     category\n",
      "Census_OSSkuName                                     category\n",
      "Census_OSInstallTypeName                             category\n",
      "Census_OSInstallLanguageIdentifier                   float16\n",
      "Census_OSUILocaleIdentifier                          int16\n",
      "Census_OSWUAutoUpdateOptionsName                     category\n",
      "Census_IsPortableOperatingSystem                     int8\n",
      "Census_GenuineStateName                              category\n",
      "Census_ActivationChannel                             category\n",
      "Census_IsFlightingInternal                           float16\n",
      "Census_IsFlightsDisabled                             float16\n",
      "Census_FlightRing                                    category\n",
      "Census_ThresholdOptIn                                float16\n",
      "Census_FirmwareManufacturerIdentifier                float16\n",
      "Census_FirmwareVersionIdentifier                     float32\n",
      "Census_IsSecureBootEnabled                           int8\n",
      "Census_IsWIMBootEnabled                              float16\n",
      "Census_IsVirtualDevice                               float16\n",
      "Census_IsTouchEnabled                                int8\n",
      "Census_IsPenCapable                                  int8\n",
      "Census_IsAlwaysOnAlwaysConnectedCapable              float16\n",
      "Wdft_IsGamer                                         float16\n",
      "Wdft_RegionIdentifier                                float16\n",
      "HasDetections                                        int8\n",
      "dtypes: category(30), float16(21), float32(11), float64(4), int16(6), int32(1), int8(10)\n",
      "memory usage: 1.9 GB\n"
     ]
    }
   ],
   "source": [
    "train_df.info()"
   ]
  },
  {
   "cell_type": "markdown",
   "metadata": {
    "_uuid": "1620ad86387d195a9d53b2c1157674e29bb8e631"
   },
   "source": [
    "## Voilà !\n",
    "#### Everything is loaded !\n",
    "Hope it helped !\n",
    "\n",
    "If you found a way to improve the types, let me know, I'll update the kernel."
   ]
  }
 ],
 "metadata": {
  "kernelspec": {
   "display_name": "Python 3",
   "language": "python",
   "name": "python3"
  },
  "language_info": {
   "codemirror_mode": {
    "name": "ipython",
    "version": 3
   },
   "file_extension": ".py",
   "mimetype": "text/x-python",
   "name": "python",
   "nbconvert_exporter": "python",
   "pygments_lexer": "ipython3",
   "version": "3.6.6"
  }
 },
 "nbformat": 4,
 "nbformat_minor": 1
}
