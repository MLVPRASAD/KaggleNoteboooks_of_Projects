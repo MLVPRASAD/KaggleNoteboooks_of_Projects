{
 "cells": [
  {
   "cell_type": "markdown",
   "metadata": {
    "_uuid": "49dbbb0a5d245fb039de1ff98a151eed7655c9ec"
   },
   "source": [
    "# Download repo from https://github.com/guoday/ctrNet-tool"
   ]
  },
  {
   "cell_type": "code",
   "execution_count": 1,
   "metadata": {
    "_uuid": "3dd1c886d4d9eab3575471f01e4b617834bfd39d"
   },
   "outputs": [
    {
     "name": "stdout",
     "output_type": "stream",
     "text": [
      "Cloning into 'ctrNet-tool'...\r\n",
      "remote: Enumerating objects: 110, done.\u001b[K\r\n",
      "remote: Counting objects: 100% (110/110), done.\u001b[K\r\n",
      "remote: Compressing objects: 100% (82/82), done.\u001b[K\r\n",
      "remote: Total 110 (delta 50), reused 63 (delta 25), pack-reused 0\u001b[K\r\n",
      "Receiving objects: 100% (110/110), 8.41 MiB | 0 bytes/s, done.\r\n",
      "Resolving deltas: 100% (50/50), done.\r\n",
      "rm: cannot remove '.git': No such file or directory\r\n",
      "total 40\r\n",
      "drwxr-xr-x 4 root root  4096 Feb 10 14:54 .\r\n",
      "drwxr-xr-x 6 root root  4096 Feb 10 14:54 ..\r\n",
      "-rw-r--r-- 1 root root  2306 Feb 10 14:54 README.md\r\n",
      "-rw-r--r-- 1 root root 11456 Feb 10 14:54 __notebook__.ipynb\r\n",
      "-rw-r--r-- 1 root root   271 Feb 10 14:54 __output__.json\r\n",
      "-rw-r--r-- 1 root root   766 Feb 10 14:54 ctrNet.py\r\n",
      "drwxr-xr-x 2 root root  4096 Feb 10 14:54 models\r\n",
      "drwxr-xr-x 2 root root  4096 Feb 10 14:54 src\r\n"
     ]
    }
   ],
   "source": [
    "#Download ctrNet-tool \n",
    "#You can find the code in https://github.com/guoday/ctrNet-tool\n",
    "!git clone https://github.com/guoday/ctrNet-tool.git\n",
    "!cp -r ctrNet-tool/* ./\n",
    "!rm -r ctrNet-tool data .git\n",
    "!ls -all"
   ]
  },
  {
   "cell_type": "code",
   "execution_count": 2,
   "metadata": {
    "_uuid": "b130d0c90f9052e4e79d9a42a33126d326f99e76"
   },
   "outputs": [],
   "source": [
    "import ctrNet\n",
    "import pandas as pd\n",
    "import numpy as np\n",
    "import random\n",
    "import tensorflow as tf\n",
    "from src import misc_utils as utils\n",
    "import os\n",
    "import gc\n",
    "random.seed(2019)\n",
    "np.random.seed(2019)"
   ]
  },
  {
   "cell_type": "markdown",
   "metadata": {
    "_uuid": "78002914dd03d54e6184faf7a7bd3cf69f8eab07"
   },
   "source": [
    "# Loading Dataset"
   ]
  },
  {
   "cell_type": "code",
   "execution_count": 3,
   "metadata": {
    "_uuid": "ec4defddeddeee26da9b7b6d338c8dca694ebf94"
   },
   "outputs": [
    {
     "name": "stdout",
     "output_type": "stream",
     "text": [
      "Loading Train and Test Data.\n",
      "\n"
     ]
    }
   ],
   "source": [
    "dtypes = {\n",
    "        'MachineIdentifier':                                    'category',\n",
    "        'ProductName':                                          'category',\n",
    "        'EngineVersion':                                        'category',\n",
    "        'AppVersion':                                           'category',\n",
    "        'AvSigVersion':                                         'category',\n",
    "        'IsBeta':                                               'int8',\n",
    "        'RtpStateBitfield':                                     'float16',\n",
    "        'IsSxsPassiveMode':                                     'int8',\n",
    "        'DefaultBrowsersIdentifier':                            'float16',\n",
    "        'AVProductStatesIdentifier':                            'float32',\n",
    "        'AVProductsInstalled':                                  'float16',\n",
    "        'AVProductsEnabled':                                    'float16',\n",
    "        'HasTpm':                                               'int8',\n",
    "        'CountryIdentifier':                                    'int16',\n",
    "        'CityIdentifier':                                       'float32',\n",
    "        'OrganizationIdentifier':                               'float16',\n",
    "        'GeoNameIdentifier':                                    'float16',\n",
    "        'LocaleEnglishNameIdentifier':                          'int8',\n",
    "        'Platform':                                             'category',\n",
    "        'Processor':                                            'category',\n",
    "        'OsVer':                                                'category',\n",
    "        'OsBuild':                                              'int16',\n",
    "        'OsSuite':                                              'int16',\n",
    "        'OsPlatformSubRelease':                                 'category',\n",
    "        'OsBuildLab':                                           'category',\n",
    "        'SkuEdition':                                           'category',\n",
    "        'IsProtected':                                          'float16',\n",
    "        'AutoSampleOptIn':                                      'int8',\n",
    "        'PuaMode':                                              'category',\n",
    "        'SMode':                                                'float16',\n",
    "        'IeVerIdentifier':                                      'float16',\n",
    "        'SmartScreen':                                          'category',\n",
    "        'Firewall':                                             'float16',\n",
    "        'UacLuaenable':                                         'float32',\n",
    "        'Census_MDC2FormFactor':                                'category',\n",
    "        'Census_DeviceFamily':                                  'category',\n",
    "        'Census_OEMNameIdentifier':                             'float16',\n",
    "        'Census_OEMModelIdentifier':                            'float32',\n",
    "        'Census_ProcessorCoreCount':                            'float16',\n",
    "        'Census_ProcessorManufacturerIdentifier':               'float16',\n",
    "        'Census_ProcessorModelIdentifier':                      'float16',\n",
    "        'Census_ProcessorClass':                                'category',\n",
    "        'Census_PrimaryDiskTotalCapacity':                      'float32',\n",
    "        'Census_PrimaryDiskTypeName':                           'category',\n",
    "        'Census_SystemVolumeTotalCapacity':                     'float32',\n",
    "        'Census_HasOpticalDiskDrive':                           'int8',\n",
    "        'Census_TotalPhysicalRAM':                              'float32',\n",
    "        'Census_ChassisTypeName':                               'category',\n",
    "        'Census_InternalPrimaryDiagonalDisplaySizeInInches':    'float16',\n",
    "        'Census_InternalPrimaryDisplayResolutionHorizontal':    'float16',\n",
    "        'Census_InternalPrimaryDisplayResolutionVertical':      'float16',\n",
    "        'Census_PowerPlatformRoleName':                         'category',\n",
    "        'Census_InternalBatteryType':                           'category',\n",
    "        'Census_InternalBatteryNumberOfCharges':                'float32',\n",
    "        'Census_OSVersion':                                     'category',\n",
    "        'Census_OSArchitecture':                                'category',\n",
    "        'Census_OSBranch':                                      'category',\n",
    "        'Census_OSBuildNumber':                                 'int16',\n",
    "        'Census_OSBuildRevision':                               'int32',\n",
    "        'Census_OSEdition':                                     'category',\n",
    "        'Census_OSSkuName':                                     'category',\n",
    "        'Census_OSInstallTypeName':                             'category',\n",
    "        'Census_OSInstallLanguageIdentifier':                   'float16',\n",
    "        'Census_OSUILocaleIdentifier':                          'int16',\n",
    "        'Census_OSWUAutoUpdateOptionsName':                     'category',\n",
    "        'Census_IsPortableOperatingSystem':                     'int8',\n",
    "        'Census_GenuineStateName':                              'category',\n",
    "        'Census_ActivationChannel':                             'category',\n",
    "        'Census_IsFlightingInternal':                           'float16',\n",
    "        'Census_IsFlightsDisabled':                             'float16',\n",
    "        'Census_FlightRing':                                    'category',\n",
    "        'Census_ThresholdOptIn':                                'float16',\n",
    "        'Census_FirmwareManufacturerIdentifier':                'float16',\n",
    "        'Census_FirmwareVersionIdentifier':                     'float32',\n",
    "        'Census_IsSecureBootEnabled':                           'int8',\n",
    "        'Census_IsWIMBootEnabled':                              'float16',\n",
    "        'Census_IsVirtualDevice':                               'float16',\n",
    "        'Census_IsTouchEnabled':                                'int8',\n",
    "        'Census_IsPenCapable':                                  'int8',\n",
    "        'Census_IsAlwaysOnAlwaysConnectedCapable':              'float16',\n",
    "        'Wdft_IsGamer':                                         'float16',\n",
    "        'Wdft_RegionIdentifier':                                'float16',\n",
    "        'HasDetections':                                        'int8'\n",
    "        }\n",
    "print('Loading Train and Test Data.\\n')\n",
    "train = pd.read_csv('../input/train.csv', dtype=dtypes, low_memory=True)\n",
    "train['MachineIdentifier'] = train.index.astype('uint32')\n",
    "test  = pd.read_csv('../input/test.csv',  dtype=dtypes, low_memory=True)\n",
    "test['MachineIdentifier']  = test.index.astype('uint32')\n",
    "test['HasDetections']=[0]*len(test)"
   ]
  },
  {
   "cell_type": "code",
   "execution_count": 4,
   "metadata": {
    "_uuid": "f24dcd1a223ea1175800f722952980c4a8a4215c"
   },
   "outputs": [],
   "source": [
    "def make_bucket(data,num=10):\n",
    "    data.sort()\n",
    "    bins=[]\n",
    "    for i in range(num):\n",
    "        bins.append(data[int(len(data)*(i+1)//num)-1])\n",
    "    return bins\n",
    "float_features=['Census_SystemVolumeTotalCapacity','Census_PrimaryDiskTotalCapacity']\n",
    "for f in float_features:\n",
    "    train[f]=train[f].fillna(1e10)\n",
    "    test[f]=test[f].fillna(1e10)\n",
    "    data=list(train[f])+list(test[f])\n",
    "    bins=make_bucket(data,num=50)\n",
    "    train[f]=np.digitize(train[f],bins=bins)\n",
    "    test[f]=np.digitize(test[f],bins=bins)\n",
    "    \n",
    "features=train.columns.tolist()[1:-1]"
   ]
  },
  {
   "cell_type": "markdown",
   "metadata": {
    "_uuid": "43985fb1cde4988c788d44fe94094cbf05171ce9"
   },
   "source": [
    "# Creating hparams"
   ]
  },
  {
   "cell_type": "code",
   "execution_count": 5,
   "metadata": {
    "_uuid": "40b2ecd8536dcac62d426daeeb8c5f79f8f817c4"
   },
   "outputs": [
    {
     "name": "stdout",
     "output_type": "stream",
     "text": [
      "  batch_norm_decay=0.9\n",
      "  batch_size=1024\n",
      "  epoch=1\n",
      "  feature_nums=81\n",
      "  hash_ids=200000\n",
      "  hidden_size=[128, 128]\n",
      "  init_method=uniform\n",
      "  init_value=0.1\n",
      "  k=8\n",
      "  kfold=5\n",
      "  learning_rate=0.001\n",
      "  metric=auc\n",
      "  model=nffm\n",
      "  norm=True\n",
      "  num_display_steps=1000\n",
      "  num_eval_steps=1000\n",
      "  optimizer=adam\n"
     ]
    }
   ],
   "source": [
    "hparam=tf.contrib.training.HParams(\n",
    "            model='nffm',\n",
    "            norm=True,\n",
    "            batch_norm_decay=0.9,\n",
    "            hidden_size=[128,128],\n",
    "            k=8,\n",
    "            hash_ids=int(2e5),\n",
    "            batch_size=1024,\n",
    "            optimizer=\"adam\",\n",
    "            learning_rate=0.001,\n",
    "            num_display_steps=1000,\n",
    "            num_eval_steps=1000,\n",
    "            epoch=1,\n",
    "            metric='auc',\n",
    "            init_method='uniform',\n",
    "            init_value=0.1,\n",
    "            feature_nums=len(features),\n",
    "            kfold=5)\n",
    "utils.print_hparams(hparam)"
   ]
  },
  {
   "cell_type": "markdown",
   "metadata": {
    "_uuid": "66e67bbf4fb72dfb853ca1cb05ce993f670bec35"
   },
   "source": [
    "# Training model"
   ]
  },
  {
   "cell_type": "code",
   "execution_count": 6,
   "metadata": {
    "_uuid": "6c48b409a4e86c09ca395c3a4f75b2b1c372d124"
   },
   "outputs": [
    {
     "name": "stdout",
     "output_type": "stream",
     "text": [
      "Number: 1784296\n",
      "Number: 1784296\n",
      "Number: 1784296\n",
      "Number: 1784296\n",
      "Number: 1784299\n",
      "Fold 0\n"
     ]
    },
    {
     "name": "stderr",
     "output_type": "stream",
     "text": [
      "/opt/conda/lib/python3.6/site-packages/tensorflow/python/ops/gradients_impl.py:112: UserWarning: Converting sparse IndexedSlices to a dense Tensor of unknown shape. This may consume a large amount of memory.\n",
      "  \"Converting sparse IndexedSlices to a dense Tensor of unknown shape. \"\n"
     ]
    },
    {
     "name": "stdout",
     "output_type": "stream",
     "text": [
      "# Trainable variables\n",
      "  emb_v1:0, (200000, 1), \n",
      "  emb_v2:0, (200000, 81, 8), \n",
      "  Variable:0, (3240, 128), \n",
      "  norm_0/beta:0, (128,), \n",
      "  norm_0/gamma:0, (128,), \n",
      "  Variable_1:0, (128, 128), \n",
      "  norm_1/beta:0, (128,), \n",
      "  norm_1/gamma:0, (128,), \n",
      "  Variable_2:0, (128, 1), \n",
      "  Variable_3:0, (), \n",
      "  epoch 0 step 1000 lr 0.001 logloss 0.657464 gN 0.30, Sun Feb 10 15:05:46 2019\n",
      "# Epcho-time 253.88s Eval AUC 0.722324. Best AUC 0.722324.\n",
      "  epoch 0 step 2000 lr 0.001 logloss 0.603925 gN 0.18, Sun Feb 10 15:10:28 2019\n",
      "# Epcho-time 535.63s Eval AUC 0.730800. Best AUC 0.730800.\n",
      "  epoch 0 step 3000 lr 0.001 logloss 0.599902 gN 0.17, Sun Feb 10 15:15:09 2019\n",
      "# Epcho-time 817.18s Eval AUC 0.735316. Best AUC 0.735316.\n",
      "  epoch 0 step 4000 lr 0.001 logloss 0.596990 gN 0.16, Sun Feb 10 15:19:51 2019\n",
      "# Epcho-time 1098.93s Eval AUC 0.736829. Best AUC 0.736829.\n",
      "  epoch 0 step 5000 lr 0.001 logloss 0.595044 gN 0.15, Sun Feb 10 15:24:39 2019\n",
      "# Epcho-time 1386.56s Eval AUC 0.737982. Best AUC 0.737982.\n",
      "  epoch 0 step 6000 lr 0.001 logloss 0.594104 gN 0.14, Sun Feb 10 15:29:26 2019\n",
      "# Epcho-time 1673.77s Eval AUC 0.739158. Best AUC 0.739158.\n",
      "# Epcho-time 1952.88s Eval AUC 0.739992. Best AUC 0.739992.\n",
      "INFO:tensorflow:Restoring parameters from model_tmp/model\n",
      "# Epcho-time 1982.51s Eval AUC 0.740007. Best AUC 0.740007.\n",
      "Training Done! Inference...\n",
      "Fold 1\n",
      "# Trainable variables\n",
      "  emb_v1:0, (200000, 1), \n",
      "  emb_v2:0, (200000, 81, 8), \n",
      "  Variable:0, (3240, 128), \n",
      "  norm_0/beta:0, (128,), \n",
      "  norm_0/gamma:0, (128,), \n",
      "  Variable_1:0, (128, 128), \n",
      "  norm_1/beta:0, (128,), \n",
      "  norm_1/gamma:0, (128,), \n",
      "  Variable_2:0, (128, 1), \n",
      "  Variable_3:0, (), \n",
      "  epoch 0 step 1000 lr 0.001 logloss 0.635991 gN 0.27, Sun Feb 10 16:00:58 2019\n",
      "# Epcho-time 259.70s Eval AUC 0.728087. Best AUC 0.728087.\n",
      "  epoch 0 step 2000 lr 0.001 logloss 0.603989 gN 0.17, Sun Feb 10 16:05:46 2019\n",
      "# Epcho-time 547.96s Eval AUC 0.733914. Best AUC 0.733914.\n",
      "  epoch 0 step 3000 lr 0.001 logloss 0.599914 gN 0.16, Sun Feb 10 16:10:33 2019\n",
      "# Epcho-time 834.73s Eval AUC 0.738319. Best AUC 0.738319.\n",
      "  epoch 0 step 4000 lr 0.001 logloss 0.597077 gN 0.15, Sun Feb 10 16:15:18 2019\n",
      "# Epcho-time 1120.43s Eval AUC 0.739638. Best AUC 0.739638.\n",
      "  epoch 0 step 5000 lr 0.001 logloss 0.594941 gN 0.14, Sun Feb 10 16:20:02 2019\n",
      "# Epcho-time 1404.23s Eval AUC 0.741323. Best AUC 0.741323.\n",
      "  epoch 0 step 6000 lr 0.001 logloss 0.594085 gN 0.14, Sun Feb 10 16:24:47 2019\n",
      "# Epcho-time 1689.24s Eval AUC 0.743089. Best AUC 0.743089.\n",
      "# Epcho-time 1966.61s Eval AUC 0.744148. Best AUC 0.744148.\n",
      "INFO:tensorflow:Restoring parameters from model_tmp/model\n",
      "# Epcho-time 1995.29s Eval AUC 0.744143. Best AUC 0.744148.\n",
      "Training Done! Inference...\n",
      "Fold 2\n",
      "# Trainable variables\n",
      "  emb_v1:0, (200000, 1), \n",
      "  emb_v2:0, (200000, 81, 8), \n",
      "  Variable:0, (3240, 128), \n",
      "  norm_0/beta:0, (128,), \n",
      "  norm_0/gamma:0, (128,), \n",
      "  Variable_1:0, (128, 128), \n",
      "  norm_1/beta:0, (128,), \n",
      "  norm_1/gamma:0, (128,), \n",
      "  Variable_2:0, (128, 1), \n",
      "  Variable_3:0, (), \n",
      "  epoch 0 step 1000 lr 0.001 logloss 0.638098 gN 0.26, Sun Feb 10 16:55:28 2019\n",
      "# Epcho-time 252.99s Eval AUC 0.727762. Best AUC 0.727762.\n",
      "  epoch 0 step 2000 lr 0.001 logloss 0.604273 gN 0.18, Sun Feb 10 17:00:10 2019\n",
      "# Epcho-time 535.43s Eval AUC 0.733587. Best AUC 0.733587.\n",
      "  epoch 0 step 3000 lr 0.001 logloss 0.599267 gN 0.17, Sun Feb 10 17:04:53 2019\n",
      "# Epcho-time 818.25s Eval AUC 0.736948. Best AUC 0.736948.\n",
      "  epoch 0 step 4000 lr 0.001 logloss 0.597024 gN 0.15, Sun Feb 10 17:09:36 2019\n",
      "# Epcho-time 1100.95s Eval AUC 0.738622. Best AUC 0.738622.\n",
      "  epoch 0 step 5000 lr 0.001 logloss 0.595106 gN 0.15, Sun Feb 10 17:14:18 2019\n",
      "# Epcho-time 1383.15s Eval AUC 0.741074. Best AUC 0.741074.\n",
      "  epoch 0 step 6000 lr 0.001 logloss 0.594098 gN 0.14, Sun Feb 10 17:18:59 2019\n",
      "# Epcho-time 1664.60s Eval AUC 0.743507. Best AUC 0.743507.\n",
      "# Epcho-time 1940.94s Eval AUC 0.742886. Best AUC 0.743507.\n",
      "INFO:tensorflow:Restoring parameters from model_tmp/model\n",
      "# Epcho-time 1969.38s Eval AUC 0.743486. Best AUC 0.743507.\n",
      "Training Done! Inference...\n",
      "Fold 3\n",
      "# Trainable variables\n",
      "  emb_v1:0, (200000, 1), \n",
      "  emb_v2:0, (200000, 81, 8), \n",
      "  Variable:0, (3240, 128), \n",
      "  norm_0/beta:0, (128,), \n",
      "  norm_0/gamma:0, (128,), \n",
      "  Variable_1:0, (128, 128), \n",
      "  norm_1/beta:0, (128,), \n",
      "  norm_1/gamma:0, (128,), \n",
      "  Variable_2:0, (128, 1), \n",
      "  Variable_3:0, (), \n",
      "  epoch 0 step 1000 lr 0.001 logloss 0.642531 gN 0.28, Sun Feb 10 17:50:31 2019\n",
      "# Epcho-time 255.54s Eval AUC 0.723517. Best AUC 0.723517.\n",
      "  epoch 0 step 2000 lr 0.001 logloss 0.604552 gN 0.18, Sun Feb 10 17:55:17 2019\n",
      "# Epcho-time 541.39s Eval AUC 0.729406. Best AUC 0.729406.\n",
      "  epoch 0 step 3000 lr 0.001 logloss 0.599462 gN 0.16, Sun Feb 10 18:00:05 2019\n",
      "# Epcho-time 828.82s Eval AUC 0.732888. Best AUC 0.732888.\n",
      "  epoch 0 step 4000 lr 0.001 logloss 0.597351 gN 0.15, Sun Feb 10 18:04:49 2019\n",
      "# Epcho-time 1113.14s Eval AUC 0.735537. Best AUC 0.735537.\n",
      "  epoch 0 step 5000 lr 0.001 logloss 0.596252 gN 0.14, Sun Feb 10 18:09:34 2019\n",
      "# Epcho-time 1397.69s Eval AUC 0.737431. Best AUC 0.737431.\n",
      "  epoch 0 step 6000 lr 0.001 logloss 0.593766 gN 0.14, Sun Feb 10 18:14:18 2019\n",
      "# Epcho-time 1682.03s Eval AUC 0.738611. Best AUC 0.738611.\n",
      "# Epcho-time 1959.06s Eval AUC 0.740045. Best AUC 0.740045.\n",
      "INFO:tensorflow:Restoring parameters from model_tmp/model\n",
      "# Epcho-time 1988.29s Eval AUC 0.740045. Best AUC 0.740045.\n",
      "Training Done! Inference...\n",
      "Fold 4\n",
      "# Trainable variables\n",
      "  emb_v1:0, (200000, 1), \n",
      "  emb_v2:0, (200000, 81, 8), \n",
      "  Variable:0, (3240, 128), \n",
      "  norm_0/beta:0, (128,), \n",
      "  norm_0/gamma:0, (128,), \n",
      "  Variable_1:0, (128, 128), \n",
      "  norm_1/beta:0, (128,), \n",
      "  norm_1/gamma:0, (128,), \n",
      "  Variable_2:0, (128, 1), \n",
      "  Variable_3:0, (), \n",
      "  epoch 0 step 1000 lr 0.001 logloss 0.643040 gN 0.28, Sun Feb 10 18:45:22 2019\n",
      "# Epcho-time 256.27s Eval AUC 0.726473. Best AUC 0.726473.\n",
      "  epoch 0 step 2000 lr 0.001 logloss 0.604475 gN 0.18, Sun Feb 10 18:50:07 2019\n",
      "# Epcho-time 540.59s Eval AUC 0.733005. Best AUC 0.733005.\n",
      "  epoch 0 step 3000 lr 0.001 logloss 0.599502 gN 0.17, Sun Feb 10 18:54:51 2019\n",
      "# Epcho-time 824.47s Eval AUC 0.736494. Best AUC 0.736494.\n",
      "  epoch 0 step 4000 lr 0.001 logloss 0.597311 gN 0.15, Sun Feb 10 18:59:34 2019\n",
      "# Epcho-time 1108.28s Eval AUC 0.737923. Best AUC 0.737923.\n",
      "  epoch 0 step 5000 lr 0.001 logloss 0.596212 gN 0.15, Sun Feb 10 19:04:16 2019\n",
      "# Epcho-time 1390.10s Eval AUC 0.740999. Best AUC 0.740999.\n",
      "  epoch 0 step 6000 lr 0.001 logloss 0.593503 gN 0.14, Sun Feb 10 19:08:57 2019\n",
      "# Epcho-time 1670.91s Eval AUC 0.742404. Best AUC 0.742404.\n",
      "# Epcho-time 1946.07s Eval AUC 0.742284. Best AUC 0.742404.\n",
      "INFO:tensorflow:Restoring parameters from model_tmp/model\n",
      "# Epcho-time 1973.38s Eval AUC 0.742425. Best AUC 0.742425.\n",
      "Training Done! Inference...\n"
     ]
    }
   ],
   "source": [
    "index=set(range(train.shape[0]))\n",
    "K_fold=[]\n",
    "for i in range(hparam.kfold):\n",
    "    if i == hparam.kfold-1:\n",
    "        tmp=index\n",
    "    else:\n",
    "        tmp=random.sample(index,int(1.0/hparam.kfold*train.shape[0]))\n",
    "    index=index-set(tmp)\n",
    "    print(\"Number:\",len(tmp))\n",
    "    K_fold.append(tmp)\n",
    "    \n",
    "\n",
    "for i in range(hparam.kfold):\n",
    "    print(\"Fold\",i)\n",
    "    dev_index=K_fold[i]\n",
    "    dev_index=random.sample(dev_index,int(0.1*len(dev_index)))\n",
    "    train_index=[]\n",
    "    for j in range(hparam.kfold):\n",
    "        if j!=i:\n",
    "            train_index+=K_fold[j]\n",
    "    model=ctrNet.build_model(hparam)\n",
    "    model.train(train_data=(train.iloc[train_index][features],train.iloc[train_index]['HasDetections']),\\\n",
    "                dev_data=(train.iloc[dev_index][features],train.iloc[dev_index]['HasDetections']))\n",
    "    print(\"Training Done! Inference...\")\n",
    "    if i==0:\n",
    "        preds=model.infer(dev_data=(test[features],test['HasDetections']))/hparam.kfold\n",
    "    else:\n",
    "        preds+=model.infer(dev_data=(test[features],test['HasDetections']))/hparam.kfold"
   ]
  },
  {
   "cell_type": "markdown",
   "metadata": {
    "_uuid": "4302884724f2191b363591d5af43c1dc12c79a48"
   },
   "source": [
    "# Inference"
   ]
  },
  {
   "cell_type": "code",
   "execution_count": 7,
   "metadata": {
    "_uuid": "fcd62d5f09ca9d78e96854d84433325fb80f6096"
   },
   "outputs": [
    {
     "name": "stdout",
     "output_type": "stream",
     "text": [
      "0    0.503945\n",
      "1    0.577533\n",
      "2    0.606817\n",
      "3    0.339152\n",
      "4    0.460082\n",
      "Name: HasDetections, dtype: float32\n"
     ]
    }
   ],
   "source": [
    "submission = pd.read_csv('../input/sample_submission.csv')\n",
    "submission['HasDetections'] = preds\n",
    "print(submission['HasDetections'].head())\n",
    "submission.to_csv('nffm_submission.csv', index=False)"
   ]
  }
 ],
 "metadata": {
  "kernelspec": {
   "display_name": "Python 3",
   "language": "python",
   "name": "python3"
  },
  "language_info": {
   "codemirror_mode": {
    "name": "ipython",
    "version": 3
   },
   "file_extension": ".py",
   "mimetype": "text/x-python",
   "name": "python",
   "nbconvert_exporter": "python",
   "pygments_lexer": "ipython3",
   "version": "3.6.6"
  }
 },
 "nbformat": 4,
 "nbformat_minor": 1
}
