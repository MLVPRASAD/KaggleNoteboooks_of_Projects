{
 "cells": [
  {
   "cell_type": "markdown",
   "metadata": {
    "_uuid": "9ab2af10b80acd96202bb8dad14e6ef652ec960b"
   },
   "source": [
    "One of the main issues in this competition is the size of the dataset. Pandas crashes when attempting to load the entire train and test datasets at once. [One of the kernels has been able to read the entire train dataset using dask](https://www.kaggle.com/ashishpatel26/how-to-handle-this-big-dataset-dask-vs-pandas). In this kernels we'll use [Python datatable package](https://github.com/h2oai/datatable) to load the entire train and test datasets, and do some simple EDA on them. Python datatable is still in early alpha stage and is under very active curent development. It is designed from ground up for big datasets and with efficiency and speed in mind. It is closely related to [R's data.table](https://github.com/Rdatatable/data.table) and attempts to mimic its core algorithams and API. "
   ]
  },
  {
   "cell_type": "code",
   "execution_count": 1,
   "metadata": {
    "_cell_guid": "b1076dfc-b9ad-4769-8c92-a6c4dae69d19",
    "_uuid": "8f2839f25d086af736a60e9eeb907d3b93b6e0e5"
   },
   "outputs": [
    {
     "name": "stdout",
     "output_type": "stream",
     "text": [
      "['test.csv', 'train.csv', 'sample_submission.csv']\n"
     ]
    }
   ],
   "source": [
    "# This Python 3 environment comes with many helpful analytics libraries installed\n",
    "# It is defined by the kaggle/python docker image: https://github.com/kaggle/docker-python\n",
    "# For example, here's several helpful packages to load in \n",
    "from datetime import datetime\n",
    "import numpy as np # linear algebra\n",
    "import pandas as pd # data processing, CSV file I/O (e.g. pd.read_csv)\n",
    "\n",
    "\n",
    "# Input data files are available in the \"../input/\" directory.\n",
    "# For example, running this (by clicking run or pressing Shift+Enter) will list the files in the input directory\n",
    "\n",
    "import os\n",
    "import gc\n",
    "print(os.listdir(\"../input\"))\n",
    "\n",
    "# Any results you write to the current directory are saved as output."
   ]
  },
  {
   "cell_type": "markdown",
   "metadata": {
    "_uuid": "91e4078a08c4f3a03e80e20c7c2e0c209506d778"
   },
   "source": [
    "Unfortunately datatable is not currently available in Kaggle Docker image. My attempts to install it via Kaggle kernel package installation API have failed, but I have been able to load it from the following pre-made wheel. (A huge shoutout to [Olivier](https://www.kaggle.com/ogrellier) for his help with this.)"
   ]
  },
  {
   "cell_type": "code",
   "execution_count": 2,
   "metadata": {
    "_cell_guid": "79c7e3d0-c299-4dcb-8224-4455121ee9b0",
    "_uuid": "d629ff2d2480ee46fbb7e2d37f6b5fab8052498a"
   },
   "outputs": [
    {
     "name": "stdout",
     "output_type": "stream",
     "text": [
      "Collecting datatable==0.7.0.dev490 from https://s3.amazonaws.com/artifacts.h2o.ai/releases/ai/h2o/pydatatable/0.7.0.dev490/x86_64-centos7/datatable-0.7.0.dev490-cp36-cp36m-linux_x86_64.whl\r\n",
      "\u001b[?25l  Downloading https://s3.amazonaws.com/artifacts.h2o.ai/releases/ai/h2o/pydatatable/0.7.0.dev490/x86_64-centos7/datatable-0.7.0.dev490-cp36-cp36m-linux_x86_64.whl (1.6MB)\r\n",
      "\u001b[K    100% |████████████████████████████████| 1.6MB 16.6MB/s \r\n",
      "\u001b[?25hCollecting typesentry>=0.2.6 (from datatable==0.7.0.dev490)\r\n",
      "  Downloading https://files.pythonhosted.org/packages/0f/37/3757249f05aac8a08d9742f9a35c17ab6895eb916b83bbf3a23eae6842b2/typesentry-0.2.7-py2.py3-none-any.whl\r\n",
      "Collecting blessed (from datatable==0.7.0.dev490)\r\n",
      "\u001b[?25l  Downloading https://files.pythonhosted.org/packages/3f/96/1915827a8e411613d364dd3a56ef1fbfab84ee878070a69c21b10b5ad1bb/blessed-1.15.0-py2.py3-none-any.whl (60kB)\r\n",
      "\u001b[K    100% |████████████████████████████████| 61kB 5.7MB/s \r\n",
      "\u001b[?25hRequirement already satisfied: colorama>=0.3 in /opt/conda/lib/python3.6/site-packages (from typesentry>=0.2.6->datatable==0.7.0.dev490) (0.3.9)\r\n",
      "Requirement already satisfied: wcwidth>=0.1.4 in /opt/conda/lib/python3.6/site-packages (from blessed->datatable==0.7.0.dev490) (0.1.7)\r\n",
      "Requirement already satisfied: six>=1.9.0 in /opt/conda/lib/python3.6/site-packages (from blessed->datatable==0.7.0.dev490) (1.12.0)\r\n",
      "Installing collected packages: typesentry, blessed, datatable\r\n",
      "Successfully installed blessed-1.15.0 datatable-0.7.0.dev490 typesentry-0.2.7\r\n",
      "\u001b[33mYou are using pip version 18.1, however version 19.0.3 is available.\r\n",
      "You should consider upgrading via the 'pip install --upgrade pip' command.\u001b[0m\r\n"
     ]
    }
   ],
   "source": [
    "!pip install https://s3.amazonaws.com/artifacts.h2o.ai/releases/ai/h2o/pydatatable/0.7.0.dev490/x86_64-centos7/datatable-0.7.0.dev490-cp36-cp36m-linux_x86_64.whl"
   ]
  },
  {
   "cell_type": "markdown",
   "metadata": {
    "_uuid": "f6765225e5b3d4fa6f8a9f2e670c2073b01a42f7"
   },
   "source": [
    "Now let's import datatable"
   ]
  },
  {
   "cell_type": "code",
   "execution_count": 3,
   "metadata": {
    "_uuid": "1761308990cde2002d0c08dc5afe3651ae272f3d"
   },
   "outputs": [],
   "source": [
    "from sklearn.metrics import log_loss, roc_auc_score\n",
    "from datetime import datetime\n",
    "import datatable as dt\n",
    "from datatable.models import Ftrl"
   ]
  },
  {
   "cell_type": "markdown",
   "metadata": {
    "_uuid": "1e5c628aab9fe6e4efa0fee6655cd980a84b5c82"
   },
   "source": [
    "Now let's load the train dataset:"
   ]
  },
  {
   "cell_type": "code",
   "execution_count": 4,
   "metadata": {
    "_uuid": "b42ed5d5fc6ba95935f8360dbb95098e88855d1d"
   },
   "outputs": [
    {
     "name": "stdout",
     "output_type": "stream",
     "text": [
      "CPU times: user 1min 14s, sys: 17.2 s, total: 1min 31s\n",
      "Wall time: 26.7 s\n"
     ]
    }
   ],
   "source": [
    "%%time\n",
    "train = dt.fread('../input/train.csv')"
   ]
  },
  {
   "cell_type": "markdown",
   "metadata": {
    "_uuid": "f34c9fbdc4ea6a17d7cae3ce7032038380452750"
   },
   "source": [
    "And test:"
   ]
  },
  {
   "cell_type": "code",
   "execution_count": 5,
   "metadata": {
    "_uuid": "5c9feedc5a176afe82eeba63eea5327a7afd26a0"
   },
   "outputs": [
    {
     "name": "stdout",
     "output_type": "stream",
     "text": [
      "CPU times: user 1min 1s, sys: 11.9 s, total: 1min 13s\n",
      "Wall time: 22.1 s\n"
     ]
    }
   ],
   "source": [
    "%%time\n",
    "test = dt.fread('../input/test.csv')"
   ]
  },
  {
   "cell_type": "markdown",
   "metadata": {
    "_uuid": "5a427448ca9d04fd7c3cbbfa7d76c4f174cbffea"
   },
   "source": [
    "We were able to load all of the train and test datasets, and pretty much exhausted all of kernel's 17.2 GB of RAM. But we did it!"
   ]
  },
  {
   "cell_type": "markdown",
   "metadata": {
    "_uuid": "4d6d988eaabdadd8d050e61f97d3f2d6660b7e30"
   },
   "source": [
    "Let's take a look at the train:"
   ]
  },
  {
   "cell_type": "markdown",
   "metadata": {
    "_uuid": "60eb11de4ddccd4a034607893f7104629fce68d3"
   },
   "source": []
  },
  {
   "cell_type": "code",
   "execution_count": 6,
   "metadata": {
    "_uuid": "d468131741a75081fad74f167dda1c54665aedf0"
   },
   "outputs": [
    {
     "data": {
      "text/html": [
       "<style type='text/css'>\n",
       ".datatable table.frame { margin-bottom: 0; }\n",
       ".datatable table.frame thead { border-bottom: none; }\n",
       ".datatable table.frame tr.coltypes td {  color: #FFFFFF;  line-height: 6px;  padding: 0 0.5em;}\n",
       ".datatable .bool { background: #DDDD99; }\n",
       ".datatable .obj  { background: #565656; }\n",
       ".datatable .int  { background: #5D9E5D; }\n",
       ".datatable .real { background: #4040CC; }\n",
       ".datatable .str  { background: #CC4040; }\n",
       ".datatable .row_index {  background: var(--jp-border-color3);  border-right: 1px solid var(--jp-border-color0);  color: var(--jp-ui-font-color3);  font-size: 9px;}\n",
       ".datatable .frame tr.coltypes .row_index {  background: var(--jp-border-color0);}\n",
       ".datatable th:nth-child(2) { padding-left: 12px; }\n",
       ".datatable .hellipsis {  color: var(--jp-cell-editor-border-color);}\n",
       ".datatable .vellipsis {  background: var(--jp-layout-color0);  color: var(--jp-cell-editor-border-color);}\n",
       ".datatable .na {  color: var(--jp-cell-editor-border-color);  font-size: 80%;}\n",
       ".datatable .footer { font-size: 9px; }\n",
       ".datatable .frame_dimensions {  background: var(--jp-border-color3);  border-top: 1px solid var(--jp-border-color0);  color: var(--jp-ui-font-color3);  display: inline-block;  opacity: 0.6;  padding: 1px 10px 1px 5px;}\n",
       "</style>\n",
       "<div class='datatable'>\n",
       "  <table class='frame'>\n",
       "  <thead>\n",
       "    <tr class='colnames'><td class='row_index'></td><th>MachineIdentifier</th><th>ProductName</th><th>EngineVersion</th><th>AppVersion</th><th>AvSigVersion</th><th>IsBeta</th><th>RtpStateBitfield</th><th>IsSxsPassiveMode</th><th>DefaultBrowsersIdentifier</th><th>AVProductStatesIdentifier</th><th class='vellipsis'>&hellip;</th><th>Census_IsPenCapable</th><th>Census_IsAlwaysOnAlwaysConnectedCapable</th><th>Wdft_IsGamer</th><th>Wdft_RegionIdentifier</th><th>HasDetections</th></tr>\n",
       "    <tr class='coltypes'><td class='row_index'></td><td class='str' title='str32'>&#x25AA;&#x25AA;&#x25AA;&#x25AA;</td><td class='str' title='str32'>&#x25AA;&#x25AA;&#x25AA;&#x25AA;</td><td class='str' title='str32'>&#x25AA;&#x25AA;&#x25AA;&#x25AA;</td><td class='str' title='str32'>&#x25AA;&#x25AA;&#x25AA;&#x25AA;</td><td class='str' title='str32'>&#x25AA;&#x25AA;&#x25AA;&#x25AA;</td><td class='bool' title='bool8'>&#x25AA;</td><td class='int' title='int32'>&#x25AA;&#x25AA;&#x25AA;&#x25AA;</td><td class='bool' title='bool8'>&#x25AA;</td><td class='int' title='int32'>&#x25AA;&#x25AA;&#x25AA;&#x25AA;</td><td class='int' title='int32'>&#x25AA;&#x25AA;&#x25AA;&#x25AA;</td><th class='vellipsis'>&hellip;</th><td class='bool' title='bool8'>&#x25AA;</td><td class='bool' title='bool8'>&#x25AA;</td><td class='bool' title='bool8'>&#x25AA;</td><td class='int' title='int32'>&#x25AA;&#x25AA;&#x25AA;&#x25AA;</td><td class='bool' title='bool8'>&#x25AA;</td></tr>\n",
       "  </thead>\n",
       "  <tbody>\n",
       "    <tr><td class='row_index'>0</td><td>0000028988387b115f69f31a3bf04f09</td><td>win8defender</td><td>1.1.15100.1</td><td>4.18.1807.18075</td><td>1.273.1735.0</td><td>0</td><td>7</td><td>0</td><td><span class=na>NA</span></td><td>53447</td><td class=vellipsis>&hellip;</td><td>0</td><td>0</td><td>0</td><td>10</td><td>0</td></tr>\n",
       "    <tr><td class='row_index'>1</td><td>000007535c3f730efa9ea0b7ef1bd645</td><td>win8defender</td><td>1.1.14600.4</td><td>4.13.17134.1</td><td>1.263.48.0</td><td>0</td><td>7</td><td>0</td><td><span class=na>NA</span></td><td>53447</td><td class=vellipsis>&hellip;</td><td>0</td><td>0</td><td>0</td><td>8</td><td>0</td></tr>\n",
       "    <tr><td class='row_index'>2</td><td>000007905a28d863f6d0d597892cd692</td><td>win8defender</td><td>1.1.15100.1</td><td>4.18.1807.18075</td><td>1.273.1341.0</td><td>0</td><td>7</td><td>0</td><td><span class=na>NA</span></td><td>53447</td><td class=vellipsis>&hellip;</td><td>0</td><td>0</td><td>0</td><td>3</td><td>0</td></tr>\n",
       "    <tr><td class='row_index'>3</td><td>00000b11598a75ea8ba1beea8459149f</td><td>win8defender</td><td>1.1.15100.1</td><td>4.18.1807.18075</td><td>1.273.1527.0</td><td>0</td><td>7</td><td>0</td><td><span class=na>NA</span></td><td>53447</td><td class=vellipsis>&hellip;</td><td>0</td><td>0</td><td>0</td><td>3</td><td>1</td></tr>\n",
       "    <tr><td class='row_index'>4</td><td>000014a5f00daa18e76b81417eeb99fc</td><td>win8defender</td><td>1.1.15100.1</td><td>4.18.1807.18075</td><td>1.273.1379.0</td><td>0</td><td>7</td><td>0</td><td><span class=na>NA</span></td><td>53447</td><td class=vellipsis>&hellip;</td><td>0</td><td>0</td><td>0</td><td>1</td><td>1</td></tr>\n",
       "    <tr><td class='row_index'>5</td><td>000016191b897145d069102325cab760</td><td>win8defender</td><td>1.1.15100.1</td><td>4.18.1807.18075</td><td>1.273.1094.0</td><td>0</td><td>7</td><td>0</td><td><span class=na>NA</span></td><td>53447</td><td class=vellipsis>&hellip;</td><td>0</td><td>0</td><td>0</td><td>15</td><td>1</td></tr>\n",
       "    <tr><td class='row_index'>6</td><td>0000161e8abf8d8b89c5ab8787fd712b</td><td>win8defender</td><td>1.1.15100.1</td><td>4.18.1807.18075</td><td>1.273.845.0</td><td>0</td><td>7</td><td>0</td><td><span class=na>NA</span></td><td>43927</td><td class=vellipsis>&hellip;</td><td>0</td><td>0</td><td>0</td><td>10</td><td>1</td></tr>\n",
       "    <tr><td class='row_index'>7</td><td>000019515bc8f95851aff6de873405e8</td><td>win8defender</td><td>1.1.15100.1</td><td>4.18.1807.18075</td><td>1.273.1393.0</td><td>0</td><td>7</td><td>0</td><td><span class=na>NA</span></td><td>53447</td><td class=vellipsis>&hellip;</td><td>0</td><td>0</td><td>0</td><td>15</td><td>0</td></tr>\n",
       "    <tr><td class='row_index'>8</td><td>00001a027a0ab970c408182df8484fce</td><td>win8defender</td><td>1.1.15200.1</td><td>4.18.1807.18075</td><td>1.275.988.0</td><td>0</td><td>7</td><td>0</td><td><span class=na>NA</span></td><td>53447</td><td class=vellipsis>&hellip;</td><td>0</td><td>0</td><td>0</td><td>15</td><td>0</td></tr>\n",
       "    <tr><td class='row_index'>9</td><td>00001a18d69bb60bda9779408dcf02ac</td><td>win8defender</td><td>1.1.15100.1</td><td>4.18.1807.18075</td><td>1.273.973.0</td><td>0</td><td>7</td><td>0</td><td><span class=na>NA</span></td><td>46413</td><td class=vellipsis>&hellip;</td><td>0</td><td>0</td><td>1</td><td>8</td><td>1</td></tr>\n",
       "  </tbody>\n",
       "  </table>\n",
       "  <div class='footer'>\n",
       "    <div class='frame_dimensions'>10 rows &times; 83 columns</div>\n",
       "  </div>\n",
       "</div>\n"
      ],
      "text/plain": []
     },
     "execution_count": 6,
     "metadata": {},
     "output_type": "execute_result"
    }
   ],
   "source": [
    "train.head()"
   ]
  },
  {
   "cell_type": "code",
   "execution_count": 7,
   "metadata": {
    "_uuid": "247c3b983f060553f86a49acbe0d10b49c913091"
   },
   "outputs": [
    {
     "data": {
      "text/plain": [
       "(8921483, 83)"
      ]
     },
     "execution_count": 7,
     "metadata": {},
     "output_type": "execute_result"
    }
   ],
   "source": [
    "train.shape"
   ]
  },
  {
   "cell_type": "markdown",
   "metadata": {
    "_uuid": "d4af1d4a32787bc39044406006d582decc0feb4b"
   },
   "source": [
    "And test:"
   ]
  },
  {
   "cell_type": "code",
   "execution_count": 8,
   "metadata": {
    "_uuid": "038cef2e4ab27c921790557a34f62876032f9480"
   },
   "outputs": [
    {
     "data": {
      "text/html": [
       "<div class='datatable'>\n",
       "  <table class='frame'>\n",
       "  <thead>\n",
       "    <tr class='colnames'><td class='row_index'></td><th>MachineIdentifier</th><th>ProductName</th><th>EngineVersion</th><th>AppVersion</th><th>AvSigVersion</th><th>IsBeta</th><th>RtpStateBitfield</th><th>IsSxsPassiveMode</th><th>DefaultBrowsersIdentifier</th><th>AVProductStatesIdentifier</th><th class='vellipsis'>&hellip;</th><th>Census_IsTouchEnabled</th><th>Census_IsPenCapable</th><th>Census_IsAlwaysOnAlwaysConnectedCapable</th><th>Wdft_IsGamer</th><th>Wdft_RegionIdentifier</th></tr>\n",
       "    <tr class='coltypes'><td class='row_index'></td><td class='str' title='str32'>&#x25AA;&#x25AA;&#x25AA;&#x25AA;</td><td class='str' title='str32'>&#x25AA;&#x25AA;&#x25AA;&#x25AA;</td><td class='str' title='str32'>&#x25AA;&#x25AA;&#x25AA;&#x25AA;</td><td class='str' title='str32'>&#x25AA;&#x25AA;&#x25AA;&#x25AA;</td><td class='str' title='str32'>&#x25AA;&#x25AA;&#x25AA;&#x25AA;</td><td class='bool' title='bool8'>&#x25AA;</td><td class='int' title='int32'>&#x25AA;&#x25AA;&#x25AA;&#x25AA;</td><td class='bool' title='bool8'>&#x25AA;</td><td class='int' title='int32'>&#x25AA;&#x25AA;&#x25AA;&#x25AA;</td><td class='int' title='int32'>&#x25AA;&#x25AA;&#x25AA;&#x25AA;</td><th class='vellipsis'>&hellip;</th><td class='bool' title='bool8'>&#x25AA;</td><td class='bool' title='bool8'>&#x25AA;</td><td class='bool' title='bool8'>&#x25AA;</td><td class='bool' title='bool8'>&#x25AA;</td><td class='int' title='int32'>&#x25AA;&#x25AA;&#x25AA;&#x25AA;</td></tr>\n",
       "  </thead>\n",
       "  <tbody>\n",
       "    <tr><td class='row_index'>0</td><td>0000010489e3af074adeac69c53e555e</td><td>win8defender</td><td>1.1.15400.5</td><td>4.18.1810.5</td><td>1.281.501.0</td><td>0</td><td>7</td><td>0</td><td><span class=na>NA</span></td><td>53447</td><td class=vellipsis>&hellip;</td><td>0</td><td>0</td><td>0</td><td>0</td><td>7</td></tr>\n",
       "    <tr><td class='row_index'>1</td><td>00000176ac758d54827acd545b6315a5</td><td>win8defender</td><td>1.1.15400.4</td><td>4.18.1809.2</td><td>1.279.301.0</td><td>0</td><td>7</td><td>0</td><td><span class=na>NA</span></td><td>53447</td><td class=vellipsis>&hellip;</td><td>0</td><td>0</td><td>0</td><td>1</td><td>12</td></tr>\n",
       "    <tr><td class='row_index'>2</td><td>0000019dcefc128c2d4387c1273dae1d</td><td>win8defender</td><td>1.1.15300.6</td><td>4.18.1809.2</td><td>1.277.230.0</td><td>0</td><td>7</td><td>0</td><td><span class=na>NA</span></td><td>49480</td><td class=vellipsis>&hellip;</td><td>0</td><td>0</td><td>0</td><td>1</td><td>11</td></tr>\n",
       "    <tr><td class='row_index'>3</td><td>0000055553dc51b1295785415f1a224d</td><td>win8defender</td><td>1.1.15400.5</td><td>4.18.1810.5</td><td>1.281.664.0</td><td>0</td><td>7</td><td>0</td><td><span class=na>NA</span></td><td>42160</td><td class=vellipsis>&hellip;</td><td>0</td><td>0</td><td>0</td><td>0</td><td>10</td></tr>\n",
       "    <tr><td class='row_index'>4</td><td>00000574cefffeca83ec8adf9285b2bf</td><td>win8defender</td><td>1.1.15400.4</td><td>4.18.1809.2</td><td>1.279.236.0</td><td>0</td><td>7</td><td>0</td><td><span class=na>NA</span></td><td>53447</td><td class=vellipsis>&hellip;</td><td>0</td><td>0</td><td>0</td><td>1</td><td>3</td></tr>\n",
       "    <tr><td class='row_index'>5</td><td>000007ffedd31948f08e6c16da31f6d1</td><td>win8defender</td><td>1.1.15300.6</td><td>4.18.1809.2</td><td>1.277.724.0</td><td>0</td><td>7</td><td>0</td><td><span class=na>NA</span></td><td>53447</td><td class=vellipsis>&hellip;</td><td>0</td><td>0</td><td>0</td><td>0</td><td>10</td></tr>\n",
       "    <tr><td class='row_index'>6</td><td>000008f31610018d898e5f315cdf1bd1</td><td>win8defender</td><td>1.1.15400.4</td><td>4.18.1810.5</td><td>1.279.1373.0</td><td>0</td><td>7</td><td>0</td><td><span class=na>NA</span></td><td>7945</td><td class=vellipsis>&hellip;</td><td>0</td><td>0</td><td>0</td><td>1</td><td>10</td></tr>\n",
       "    <tr><td class='row_index'>7</td><td>00000a3c447250626dbcc628c9cbc460</td><td>win8defender</td><td>1.1.15300.6</td><td>4.18.1806.18062</td><td>1.277.1185.0</td><td>0</td><td>7</td><td>0</td><td><span class=na>NA</span></td><td>15521</td><td class=vellipsis>&hellip;</td><td>0</td><td>0</td><td>0</td><td>0</td><td>9</td></tr>\n",
       "    <tr><td class='row_index'>8</td><td>00000b6bf217ec9aef0f68d5c6705897</td><td>win8defender</td><td>1.1.15400.5</td><td>4.18.1810.5</td><td>1.281.675.0</td><td>0</td><td>7</td><td>0</td><td><span class=na>NA</span></td><td>53447</td><td class=vellipsis>&hellip;</td><td>0</td><td>0</td><td><span class=na>NA</span></td><td><span class=na>NA</span></td><td><span class=na>NA</span></td></tr>\n",
       "    <tr><td class='row_index'>9</td><td>00000b8d3776b13e93ad83676a28e4aa</td><td>win8defender</td><td>1.1.14700.5</td><td>4.14.17613.18039</td><td>1.265.676.0</td><td>0</td><td>7</td><td>0</td><td><span class=na>NA</span></td><td>53447</td><td class=vellipsis>&hellip;</td><td>0</td><td>0</td><td>0</td><td>0</td><td>15</td></tr>\n",
       "  </tbody>\n",
       "  </table>\n",
       "  <div class='footer'>\n",
       "    <div class='frame_dimensions'>10 rows &times; 82 columns</div>\n",
       "  </div>\n",
       "</div>\n"
      ],
      "text/plain": []
     },
     "execution_count": 8,
     "metadata": {},
     "output_type": "execute_result"
    }
   ],
   "source": [
    "test.head()"
   ]
  },
  {
   "cell_type": "code",
   "execution_count": 9,
   "metadata": {
    "_uuid": "fcb697f6c8cce77472b9963cc2153ca0f0e54125"
   },
   "outputs": [
    {
     "data": {
      "text/plain": [
       "(7853253, 82)"
      ]
     },
     "execution_count": 9,
     "metadata": {},
     "output_type": "execute_result"
    }
   ],
   "source": [
    "test.shape"
   ]
  },
  {
   "cell_type": "markdown",
   "metadata": {
    "_uuid": "475cca67356eb9ca574be1770487df60a8dd2783"
   },
   "source": [
    "Look at the number of unique values in the two datasets:"
   ]
  },
  {
   "cell_type": "code",
   "execution_count": 10,
   "metadata": {
    "_uuid": "f4396034acdfb56154cbecd7fe4d64ed3339f6af"
   },
   "outputs": [
    {
     "data": {
      "text/html": [
       "<div class='datatable'>\n",
       "  <table class='frame'>\n",
       "  <thead>\n",
       "    <tr class='colnames'><td class='row_index'></td><th>MachineIdentifier</th><th>ProductName</th><th>EngineVersion</th><th>AppVersion</th><th>AvSigVersion</th><th>IsBeta</th><th>RtpStateBitfield</th><th>IsSxsPassiveMode</th><th>DefaultBrowsersIdentifier</th><th>AVProductStatesIdentifier</th><th class='vellipsis'>&hellip;</th><th>Census_IsPenCapable</th><th>Census_IsAlwaysOnAlwaysConnectedCapable</th><th>Wdft_IsGamer</th><th>Wdft_RegionIdentifier</th><th>HasDetections</th></tr>\n",
       "    <tr class='coltypes'><td class='row_index'></td><td class='int' title='int64'>&#x25AA;&#x25AA;&#x25AA;&#x25AA;&#x25AA;&#x25AA;&#x25AA;&#x25AA;</td><td class='int' title='int64'>&#x25AA;&#x25AA;&#x25AA;&#x25AA;&#x25AA;&#x25AA;&#x25AA;&#x25AA;</td><td class='int' title='int64'>&#x25AA;&#x25AA;&#x25AA;&#x25AA;&#x25AA;&#x25AA;&#x25AA;&#x25AA;</td><td class='int' title='int64'>&#x25AA;&#x25AA;&#x25AA;&#x25AA;&#x25AA;&#x25AA;&#x25AA;&#x25AA;</td><td class='int' title='int64'>&#x25AA;&#x25AA;&#x25AA;&#x25AA;&#x25AA;&#x25AA;&#x25AA;&#x25AA;</td><td class='int' title='int64'>&#x25AA;&#x25AA;&#x25AA;&#x25AA;&#x25AA;&#x25AA;&#x25AA;&#x25AA;</td><td class='int' title='int64'>&#x25AA;&#x25AA;&#x25AA;&#x25AA;&#x25AA;&#x25AA;&#x25AA;&#x25AA;</td><td class='int' title='int64'>&#x25AA;&#x25AA;&#x25AA;&#x25AA;&#x25AA;&#x25AA;&#x25AA;&#x25AA;</td><td class='int' title='int64'>&#x25AA;&#x25AA;&#x25AA;&#x25AA;&#x25AA;&#x25AA;&#x25AA;&#x25AA;</td><td class='int' title='int64'>&#x25AA;&#x25AA;&#x25AA;&#x25AA;&#x25AA;&#x25AA;&#x25AA;&#x25AA;</td><th class='vellipsis'>&hellip;</th><td class='int' title='int64'>&#x25AA;&#x25AA;&#x25AA;&#x25AA;&#x25AA;&#x25AA;&#x25AA;&#x25AA;</td><td class='int' title='int64'>&#x25AA;&#x25AA;&#x25AA;&#x25AA;&#x25AA;&#x25AA;&#x25AA;&#x25AA;</td><td class='int' title='int64'>&#x25AA;&#x25AA;&#x25AA;&#x25AA;&#x25AA;&#x25AA;&#x25AA;&#x25AA;</td><td class='int' title='int64'>&#x25AA;&#x25AA;&#x25AA;&#x25AA;&#x25AA;&#x25AA;&#x25AA;&#x25AA;</td><td class='int' title='int64'>&#x25AA;&#x25AA;&#x25AA;&#x25AA;&#x25AA;&#x25AA;&#x25AA;&#x25AA;</td></tr>\n",
       "  </thead>\n",
       "  <tbody>\n",
       "    <tr><td class='row_index'>0</td><td>8921483</td><td>6</td><td>70</td><td>110</td><td>8531</td><td>2</td><td>7</td><td>2</td><td>2017</td><td>28970</td><td class=vellipsis>&hellip;</td><td>2</td><td>2</td><td>2</td><td>15</td><td>2</td></tr>\n",
       "  </tbody>\n",
       "  </table>\n",
       "  <div class='footer'>\n",
       "    <div class='frame_dimensions'>1 row &times; 83 columns</div>\n",
       "  </div>\n",
       "</div>\n"
      ],
      "text/plain": []
     },
     "execution_count": 10,
     "metadata": {},
     "output_type": "execute_result"
    }
   ],
   "source": [
    "train.nunique()"
   ]
  },
  {
   "cell_type": "code",
   "execution_count": 11,
   "metadata": {
    "_uuid": "7ebf61badf17f77034bc2f854728d6b82d696aad"
   },
   "outputs": [
    {
     "data": {
      "text/html": [
       "<div class='datatable'>\n",
       "  <table class='frame'>\n",
       "  <thead>\n",
       "    <tr class='colnames'><td class='row_index'></td><th>MachineIdentifier</th><th>ProductName</th><th>EngineVersion</th><th>AppVersion</th><th>AvSigVersion</th><th>IsBeta</th><th>RtpStateBitfield</th><th>IsSxsPassiveMode</th><th>DefaultBrowsersIdentifier</th><th>AVProductStatesIdentifier</th><th class='vellipsis'>&hellip;</th><th>Census_IsTouchEnabled</th><th>Census_IsPenCapable</th><th>Census_IsAlwaysOnAlwaysConnectedCapable</th><th>Wdft_IsGamer</th><th>Wdft_RegionIdentifier</th></tr>\n",
       "    <tr class='coltypes'><td class='row_index'></td><td class='int' title='int64'>&#x25AA;&#x25AA;&#x25AA;&#x25AA;&#x25AA;&#x25AA;&#x25AA;&#x25AA;</td><td class='int' title='int64'>&#x25AA;&#x25AA;&#x25AA;&#x25AA;&#x25AA;&#x25AA;&#x25AA;&#x25AA;</td><td class='int' title='int64'>&#x25AA;&#x25AA;&#x25AA;&#x25AA;&#x25AA;&#x25AA;&#x25AA;&#x25AA;</td><td class='int' title='int64'>&#x25AA;&#x25AA;&#x25AA;&#x25AA;&#x25AA;&#x25AA;&#x25AA;&#x25AA;</td><td class='int' title='int64'>&#x25AA;&#x25AA;&#x25AA;&#x25AA;&#x25AA;&#x25AA;&#x25AA;&#x25AA;</td><td class='int' title='int64'>&#x25AA;&#x25AA;&#x25AA;&#x25AA;&#x25AA;&#x25AA;&#x25AA;&#x25AA;</td><td class='int' title='int64'>&#x25AA;&#x25AA;&#x25AA;&#x25AA;&#x25AA;&#x25AA;&#x25AA;&#x25AA;</td><td class='int' title='int64'>&#x25AA;&#x25AA;&#x25AA;&#x25AA;&#x25AA;&#x25AA;&#x25AA;&#x25AA;</td><td class='int' title='int64'>&#x25AA;&#x25AA;&#x25AA;&#x25AA;&#x25AA;&#x25AA;&#x25AA;&#x25AA;</td><td class='int' title='int64'>&#x25AA;&#x25AA;&#x25AA;&#x25AA;&#x25AA;&#x25AA;&#x25AA;&#x25AA;</td><th class='vellipsis'>&hellip;</th><td class='int' title='int64'>&#x25AA;&#x25AA;&#x25AA;&#x25AA;&#x25AA;&#x25AA;&#x25AA;&#x25AA;</td><td class='int' title='int64'>&#x25AA;&#x25AA;&#x25AA;&#x25AA;&#x25AA;&#x25AA;&#x25AA;&#x25AA;</td><td class='int' title='int64'>&#x25AA;&#x25AA;&#x25AA;&#x25AA;&#x25AA;&#x25AA;&#x25AA;&#x25AA;</td><td class='int' title='int64'>&#x25AA;&#x25AA;&#x25AA;&#x25AA;&#x25AA;&#x25AA;&#x25AA;&#x25AA;</td><td class='int' title='int64'>&#x25AA;&#x25AA;&#x25AA;&#x25AA;&#x25AA;&#x25AA;&#x25AA;&#x25AA;</td></tr>\n",
       "  </thead>\n",
       "  <tbody>\n",
       "    <tr><td class='row_index'>0</td><td>7853253</td><td>6</td><td>70</td><td>120</td><td>9357</td><td>2</td><td>8</td><td>2</td><td>1757</td><td>23492</td><td class=vellipsis>&hellip;</td><td>2</td><td>2</td><td>2</td><td>2</td><td>15</td></tr>\n",
       "  </tbody>\n",
       "  </table>\n",
       "  <div class='footer'>\n",
       "    <div class='frame_dimensions'>1 row &times; 82 columns</div>\n",
       "  </div>\n",
       "</div>\n"
      ],
      "text/plain": []
     },
     "execution_count": 11,
     "metadata": {},
     "output_type": "execute_result"
    }
   ],
   "source": [
    "test.nunique()"
   ]
  },
  {
   "cell_type": "code",
   "execution_count": 12,
   "metadata": {
    "_uuid": "1671e5b961bb34f1ef5f43f1c3f296bb39beebe0"
   },
   "outputs": [
    {
     "data": {
      "text/plain": [
       "70"
      ]
     },
     "execution_count": 12,
     "metadata": {},
     "output_type": "execute_result"
    }
   ],
   "source": [
    "train[:, 'EngineVersion'].nunique1()"
   ]
  },
  {
   "cell_type": "code",
   "execution_count": 13,
   "metadata": {
    "_uuid": "b6a835cb64b18070701788c14b508e29303b409b"
   },
   "outputs": [
    {
     "data": {
      "text/plain": [
       "70"
      ]
     },
     "execution_count": 13,
     "metadata": {},
     "output_type": "execute_result"
    }
   ],
   "source": [
    "train_unique = dt.unique(train[:, 'EngineVersion']).to_list()[0]\n",
    "len(train_unique)"
   ]
  },
  {
   "cell_type": "code",
   "execution_count": 14,
   "metadata": {
    "_uuid": "2af2fa85bcbd24751cd74557af510170320c37ad"
   },
   "outputs": [
    {
     "data": {
      "text/plain": [
       "70"
      ]
     },
     "execution_count": 14,
     "metadata": {},
     "output_type": "execute_result"
    }
   ],
   "source": [
    "test_unique = dt.unique(test[:, 'EngineVersion']).to_list()[0]\n",
    "len(test_unique)"
   ]
  },
  {
   "cell_type": "code",
   "execution_count": 15,
   "metadata": {
    "_uuid": "2bd8bc91ea422753bedeed0d0ccf5046fef3143a"
   },
   "outputs": [
    {
     "data": {
      "text/plain": [
       "66"
      ]
     },
     "execution_count": 15,
     "metadata": {},
     "output_type": "execute_result"
    }
   ],
   "source": [
    "intersection = list(set(train_unique) & set(test_unique))\n",
    "len(intersection)"
   ]
  },
  {
   "cell_type": "markdown",
   "metadata": {
    "_uuid": "563beae4006e0808f7cca1f2f9db71a45dd6d82e"
   },
   "source": [
    "We see there are only 66 values that overlap in the train and test for this feature.\n",
    "\n",
    "Let's see what are the names of the features in the dataset:"
   ]
  },
  {
   "cell_type": "code",
   "execution_count": 16,
   "metadata": {
    "_uuid": "acb96973e4a86ab8090b4642ba6faf8270c87f17",
    "scrolled": false
   },
   "outputs": [
    {
     "data": {
      "text/plain": [
       "('MachineIdentifier',\n",
       " 'ProductName',\n",
       " 'EngineVersion',\n",
       " 'AppVersion',\n",
       " 'AvSigVersion',\n",
       " 'IsBeta',\n",
       " 'RtpStateBitfield',\n",
       " 'IsSxsPassiveMode',\n",
       " 'DefaultBrowsersIdentifier',\n",
       " 'AVProductStatesIdentifier',\n",
       " 'AVProductsInstalled',\n",
       " 'AVProductsEnabled',\n",
       " 'HasTpm',\n",
       " 'CountryIdentifier',\n",
       " 'CityIdentifier',\n",
       " 'OrganizationIdentifier',\n",
       " 'GeoNameIdentifier',\n",
       " 'LocaleEnglishNameIdentifier',\n",
       " 'Platform',\n",
       " 'Processor',\n",
       " 'OsVer',\n",
       " 'OsBuild',\n",
       " 'OsSuite',\n",
       " 'OsPlatformSubRelease',\n",
       " 'OsBuildLab',\n",
       " 'SkuEdition',\n",
       " 'IsProtected',\n",
       " 'AutoSampleOptIn',\n",
       " 'PuaMode',\n",
       " 'SMode',\n",
       " 'IeVerIdentifier',\n",
       " 'SmartScreen',\n",
       " 'Firewall',\n",
       " 'UacLuaenable',\n",
       " 'Census_MDC2FormFactor',\n",
       " 'Census_DeviceFamily',\n",
       " 'Census_OEMNameIdentifier',\n",
       " 'Census_OEMModelIdentifier',\n",
       " 'Census_ProcessorCoreCount',\n",
       " 'Census_ProcessorManufacturerIdentifier',\n",
       " 'Census_ProcessorModelIdentifier',\n",
       " 'Census_ProcessorClass',\n",
       " 'Census_PrimaryDiskTotalCapacity',\n",
       " 'Census_PrimaryDiskTypeName',\n",
       " 'Census_SystemVolumeTotalCapacity',\n",
       " 'Census_HasOpticalDiskDrive',\n",
       " 'Census_TotalPhysicalRAM',\n",
       " 'Census_ChassisTypeName',\n",
       " 'Census_InternalPrimaryDiagonalDisplaySizeInInches',\n",
       " 'Census_InternalPrimaryDisplayResolutionHorizontal',\n",
       " 'Census_InternalPrimaryDisplayResolutionVertical',\n",
       " 'Census_PowerPlatformRoleName',\n",
       " 'Census_InternalBatteryType',\n",
       " 'Census_InternalBatteryNumberOfCharges',\n",
       " 'Census_OSVersion',\n",
       " 'Census_OSArchitecture',\n",
       " 'Census_OSBranch',\n",
       " 'Census_OSBuildNumber',\n",
       " 'Census_OSBuildRevision',\n",
       " 'Census_OSEdition',\n",
       " 'Census_OSSkuName',\n",
       " 'Census_OSInstallTypeName',\n",
       " 'Census_OSInstallLanguageIdentifier',\n",
       " 'Census_OSUILocaleIdentifier',\n",
       " 'Census_OSWUAutoUpdateOptionsName',\n",
       " 'Census_IsPortableOperatingSystem',\n",
       " 'Census_GenuineStateName',\n",
       " 'Census_ActivationChannel',\n",
       " 'Census_IsFlightingInternal',\n",
       " 'Census_IsFlightsDisabled',\n",
       " 'Census_FlightRing',\n",
       " 'Census_ThresholdOptIn',\n",
       " 'Census_FirmwareManufacturerIdentifier',\n",
       " 'Census_FirmwareVersionIdentifier',\n",
       " 'Census_IsSecureBootEnabled',\n",
       " 'Census_IsWIMBootEnabled',\n",
       " 'Census_IsVirtualDevice',\n",
       " 'Census_IsTouchEnabled',\n",
       " 'Census_IsPenCapable',\n",
       " 'Census_IsAlwaysOnAlwaysConnectedCapable',\n",
       " 'Wdft_IsGamer',\n",
       " 'Wdft_RegionIdentifier',\n",
       " 'HasDetections')"
      ]
     },
     "execution_count": 16,
     "metadata": {},
     "output_type": "execute_result"
    }
   ],
   "source": [
    "train.names"
   ]
  },
  {
   "cell_type": "markdown",
   "metadata": {
    "_uuid": "3bab962ef8e1e582cab06e3bf08d8bdb5113f46c"
   },
   "source": [
    "And their types:"
   ]
  },
  {
   "cell_type": "code",
   "execution_count": 17,
   "metadata": {
    "_uuid": "fef843d12e0e62c483781dddf831bdbe8a6041d5"
   },
   "outputs": [
    {
     "data": {
      "text/plain": [
       "(ltype.str,\n",
       " ltype.str,\n",
       " ltype.str,\n",
       " ltype.str,\n",
       " ltype.str,\n",
       " ltype.bool,\n",
       " ltype.int,\n",
       " ltype.bool,\n",
       " ltype.int,\n",
       " ltype.int,\n",
       " ltype.int,\n",
       " ltype.int,\n",
       " ltype.bool,\n",
       " ltype.int,\n",
       " ltype.int,\n",
       " ltype.int,\n",
       " ltype.int,\n",
       " ltype.int,\n",
       " ltype.str,\n",
       " ltype.str,\n",
       " ltype.str,\n",
       " ltype.int,\n",
       " ltype.int,\n",
       " ltype.str,\n",
       " ltype.str,\n",
       " ltype.str,\n",
       " ltype.bool,\n",
       " ltype.bool,\n",
       " ltype.str,\n",
       " ltype.bool,\n",
       " ltype.int,\n",
       " ltype.str,\n",
       " ltype.bool,\n",
       " ltype.int,\n",
       " ltype.str,\n",
       " ltype.str,\n",
       " ltype.int,\n",
       " ltype.int,\n",
       " ltype.int,\n",
       " ltype.int,\n",
       " ltype.int,\n",
       " ltype.str,\n",
       " ltype.real,\n",
       " ltype.str,\n",
       " ltype.int,\n",
       " ltype.bool,\n",
       " ltype.int,\n",
       " ltype.str,\n",
       " ltype.real,\n",
       " ltype.int,\n",
       " ltype.int,\n",
       " ltype.str,\n",
       " ltype.str,\n",
       " ltype.real,\n",
       " ltype.str,\n",
       " ltype.str,\n",
       " ltype.str,\n",
       " ltype.int,\n",
       " ltype.int,\n",
       " ltype.str,\n",
       " ltype.str,\n",
       " ltype.str,\n",
       " ltype.int,\n",
       " ltype.int,\n",
       " ltype.str,\n",
       " ltype.bool,\n",
       " ltype.str,\n",
       " ltype.str,\n",
       " ltype.bool,\n",
       " ltype.bool,\n",
       " ltype.str,\n",
       " ltype.bool,\n",
       " ltype.int,\n",
       " ltype.int,\n",
       " ltype.bool,\n",
       " ltype.bool,\n",
       " ltype.bool,\n",
       " ltype.bool,\n",
       " ltype.bool,\n",
       " ltype.bool,\n",
       " ltype.bool,\n",
       " ltype.int,\n",
       " ltype.bool)"
      ]
     },
     "execution_count": 17,
     "metadata": {},
     "output_type": "execute_result"
    }
   ],
   "source": [
    "train.ltypes"
   ]
  },
  {
   "cell_type": "markdown",
   "metadata": {
    "_uuid": "d531faef925ed0b9b705f3cf6453f72e9a4ded70"
   },
   "source": [
    "Next, we are going to try to fit an Ftrl model on the train set. Here we will adopt [Olivier's great discussion topic](https://www.kaggle.com/c/microsoft-malware-prediction/discussion/75478). First, let's replace all the missing values."
   ]
  },
  {
   "cell_type": "code",
   "execution_count": 18,
   "metadata": {
    "_uuid": "dd0e9e17908f28e0d678be3ac1471c7f55abfff6"
   },
   "outputs": [
    {
     "data": {
      "text/plain": [
       "\"%%time\\nfor name in test.names:\\n    if test[:, name].ltypes[0] == dt.ltype.str:\\n        train.replace(None, '-1')\\n        test.replace(None, '-1')\\n    elif test[:, name].ltypes[0] == dt.ltype.int:\\n        train.replace(None, -1)\\n        test.replace(None, -1)\\n    elif test[:, name].ltypes[0] == dt.ltype.bool:\\n        train.replace(None, 0)\\n        test.replace(None, 0)\\n    elif test[:, name].ltypes[0] == dt.ltype.real:\\n        train.replace(None, -1.0)\\n        test.replace(None, -1.0)\""
      ]
     },
     "execution_count": 18,
     "metadata": {},
     "output_type": "execute_result"
    }
   ],
   "source": [
    "'''%%time\n",
    "for name in test.names:\n",
    "    if test[:, name].ltypes[0] == dt.ltype.str:\n",
    "        train.replace(None, '-1')\n",
    "        test.replace(None, '-1')\n",
    "    elif test[:, name].ltypes[0] == dt.ltype.int:\n",
    "        train.replace(None, -1)\n",
    "        test.replace(None, -1)\n",
    "    elif test[:, name].ltypes[0] == dt.ltype.bool:\n",
    "        train.replace(None, 0)\n",
    "        test.replace(None, 0)\n",
    "    elif test[:, name].ltypes[0] == dt.ltype.real:\n",
    "        train.replace(None, -1.0)\n",
    "        test.replace(None, -1.0)'''\n"
   ]
  },
  {
   "cell_type": "markdown",
   "metadata": {
    "_uuid": "ed6f76bd33af014d3eb74e926615e9ea8e25e152"
   },
   "source": [
    "Next, we'll factorize all the string columns. Unfortunately, datatabel still doesn't handle this natively, so we'll have to use the Pandas crutch."
   ]
  },
  {
   "cell_type": "code",
   "execution_count": 19,
   "metadata": {
    "_uuid": "08ce0e96ca7e9964d911ca9a57e1411f7a965b93"
   },
   "outputs": [
    {
     "name": "stdout",
     "output_type": "stream",
     "text": [
      "factorizing ProductName\n",
      "factorizing EngineVersion\n",
      "factorizing AppVersion\n",
      "factorizing AvSigVersion\n",
      "factorizing Platform\n",
      "factorizing Processor\n",
      "factorizing OsVer\n",
      "factorizing OsPlatformSubRelease\n",
      "factorizing OsBuildLab\n",
      "factorizing SkuEdition\n",
      "factorizing PuaMode\n",
      "factorizing SmartScreen\n",
      "factorizing Census_MDC2FormFactor\n",
      "factorizing Census_DeviceFamily\n",
      "factorizing Census_ProcessorClass\n",
      "factorizing Census_PrimaryDiskTypeName\n",
      "factorizing Census_ChassisTypeName\n",
      "factorizing Census_PowerPlatformRoleName\n",
      "factorizing Census_InternalBatteryType\n",
      "factorizing Census_OSVersion\n",
      "factorizing Census_OSArchitecture\n",
      "factorizing Census_OSBranch\n",
      "factorizing Census_OSEdition\n",
      "factorizing Census_OSSkuName\n",
      "factorizing Census_OSInstallTypeName\n",
      "factorizing Census_OSWUAutoUpdateOptionsName\n",
      "factorizing Census_GenuineStateName\n",
      "factorizing Census_ActivationChannel\n",
      "factorizing Census_FlightRing\n",
      "CPU times: user 2min 49s, sys: 43.1 s, total: 3min 32s\n",
      "Wall time: 3min 31s\n"
     ]
    }
   ],
   "source": [
    "%%time\n",
    "for f in train.names:\n",
    "    if f not in ['MachineIdentifier', 'HasDetections']:\n",
    "        if train[:, f].ltypes[0] == dt.ltype.str:\n",
    "            print('factorizing %s' % f)\n",
    "            col_f = pd.concat([train[:, f].to_pandas(), test[:, f].to_pandas()], ignore_index=True)\n",
    "            encoding = col_f.groupby(f).size()\n",
    "            encoding = encoding/len(col_f)\n",
    "            column = col_f[f].map(encoding).values.flatten()\n",
    "            del col_f, encoding\n",
    "            gc.collect()\n",
    "            train[:, f] = dt.Frame(column[:8921483])\n",
    "            test[:, f] = dt.Frame(column[8921483:])\n",
    "            del column\n",
    "            gc.collect()"
   ]
  },
  {
   "cell_type": "code",
   "execution_count": 20,
   "metadata": {
    "_uuid": "334555bc8a4d4452116bf84301a7146893b94574"
   },
   "outputs": [
    {
     "data": {
      "text/html": [
       "<div class='datatable'>\n",
       "  <table class='frame'>\n",
       "  <thead>\n",
       "    <tr class='colnames'><td class='row_index'></td><th>HasDetections</th></tr>\n",
       "    <tr class='coltypes'><td class='row_index'></td><td class='bool' title='bool8'>&#x25AA;</td></tr>\n",
       "  </thead>\n",
       "  <tbody>\n",
       "    <tr><td class='row_index'>0</td><td>0</td></tr>\n",
       "    <tr><td class='row_index'>1</td><td>0</td></tr>\n",
       "    <tr><td class='row_index'>2</td><td>0</td></tr>\n",
       "    <tr><td class='row_index'>3</td><td>1</td></tr>\n",
       "    <tr><td class='row_index'>4</td><td>1</td></tr>\n",
       "    <tr><td class='row_index'>5</td><td>1</td></tr>\n",
       "    <tr><td class='row_index'>6</td><td>1</td></tr>\n",
       "    <tr><td class='row_index'>7</td><td>0</td></tr>\n",
       "    <tr><td class='row_index'>8</td><td>0</td></tr>\n",
       "    <tr><td class='row_index'>9</td><td>1</td></tr>\n",
       "    <tr><td class='row_index'>&#x22EE;</td><td class='hellipsis'>&#x22EE;</td></tr>\n",
       "    <tr><td class='row_index'>8,921,478</td><td>1</td></tr>\n",
       "    <tr><td class='row_index'>8,921,479</td><td>0</td></tr>\n",
       "    <tr><td class='row_index'>8,921,480</td><td>1</td></tr>\n",
       "    <tr><td class='row_index'>8,921,481</td><td>1</td></tr>\n",
       "    <tr><td class='row_index'>8,921,482</td><td>0</td></tr>\n",
       "  </tbody>\n",
       "  </table>\n",
       "  <div class='footer'>\n",
       "    <div class='frame_dimensions'>8,921,483 rows &times; 1 column</div>\n",
       "  </div>\n",
       "</div>\n"
      ],
      "text/plain": []
     },
     "execution_count": 20,
     "metadata": {},
     "output_type": "execute_result"
    }
   ],
   "source": [
    "train[:, f]"
   ]
  },
  {
   "cell_type": "code",
   "execution_count": 21,
   "metadata": {
    "_uuid": "aeb983bcf5afce3393d431c25bb87ecd52f77a72"
   },
   "outputs": [
    {
     "data": {
      "text/html": [
       "<div class='datatable'>\n",
       "  <table class='frame'>\n",
       "  <thead>\n",
       "    <tr class='colnames'><td class='row_index'></td><th>MachineIdentifier</th><th>ProductName</th><th>EngineVersion</th><th>AppVersion</th><th>AvSigVersion</th><th>IsBeta</th><th>RtpStateBitfield</th><th>IsSxsPassiveMode</th><th>DefaultBrowsersIdentifier</th><th>AVProductStatesIdentifier</th><th class='vellipsis'>&hellip;</th><th>Census_IsPenCapable</th><th>Census_IsAlwaysOnAlwaysConnectedCapable</th><th>Wdft_IsGamer</th><th>Wdft_RegionIdentifier</th><th>HasDetections</th></tr>\n",
       "    <tr class='coltypes'><td class='row_index'></td><td class='str' title='str32'>&#x25AA;&#x25AA;&#x25AA;&#x25AA;</td><td class='real' title='float64'>&#x25AA;&#x25AA;&#x25AA;&#x25AA;&#x25AA;&#x25AA;&#x25AA;&#x25AA;</td><td class='real' title='float64'>&#x25AA;&#x25AA;&#x25AA;&#x25AA;&#x25AA;&#x25AA;&#x25AA;&#x25AA;</td><td class='real' title='float64'>&#x25AA;&#x25AA;&#x25AA;&#x25AA;&#x25AA;&#x25AA;&#x25AA;&#x25AA;</td><td class='real' title='float64'>&#x25AA;&#x25AA;&#x25AA;&#x25AA;&#x25AA;&#x25AA;&#x25AA;&#x25AA;</td><td class='bool' title='bool8'>&#x25AA;</td><td class='int' title='int32'>&#x25AA;&#x25AA;&#x25AA;&#x25AA;</td><td class='bool' title='bool8'>&#x25AA;</td><td class='int' title='int32'>&#x25AA;&#x25AA;&#x25AA;&#x25AA;</td><td class='int' title='int32'>&#x25AA;&#x25AA;&#x25AA;&#x25AA;</td><th class='vellipsis'>&hellip;</th><td class='bool' title='bool8'>&#x25AA;</td><td class='bool' title='bool8'>&#x25AA;</td><td class='bool' title='bool8'>&#x25AA;</td><td class='int' title='int32'>&#x25AA;&#x25AA;&#x25AA;&#x25AA;</td><td class='bool' title='bool8'>&#x25AA;</td></tr>\n",
       "  </thead>\n",
       "  <tbody>\n",
       "    <tr><td class='row_index'>0</td><td>0000028988387b115f69f31a3bf04f09</td><td>0.991</td><td>0.228555</td><td>0.347238</td><td>0.00119924</td><td>0</td><td>7</td><td>0</td><td><span class=na>NA</span></td><td>53447</td><td class=vellipsis>&hellip;</td><td>0</td><td>0</td><td>0</td><td>10</td><td>0</td></tr>\n",
       "    <tr><td class='row_index'>1</td><td>000007535c3f730efa9ea0b7ef1bd645</td><td>0.991</td><td>0.0178303</td><td>0.0291144</td><td>0.0137497</td><td>0</td><td>7</td><td>0</td><td><span class=na>NA</span></td><td>53447</td><td class=vellipsis>&hellip;</td><td>0</td><td>0</td><td>0</td><td>8</td><td>0</td></tr>\n",
       "    <tr><td class='row_index'>2</td><td>000007905a28d863f6d0d597892cd692</td><td>0.991</td><td>0.228555</td><td>0.347238</td><td>0.000625047</td><td>0</td><td>7</td><td>0</td><td><span class=na>NA</span></td><td>53447</td><td class=vellipsis>&hellip;</td><td>0</td><td>0</td><td>0</td><td>3</td><td>0</td></tr>\n",
       "    <tr><td class='row_index'>3</td><td>00000b11598a75ea8ba1beea8459149f</td><td>0.991</td><td>0.228555</td><td>0.347238</td><td>0.00250019</td><td>0</td><td>7</td><td>0</td><td><span class=na>NA</span></td><td>53447</td><td class=vellipsis>&hellip;</td><td>0</td><td>0</td><td>0</td><td>3</td><td>1</td></tr>\n",
       "    <tr><td class='row_index'>4</td><td>000014a5f00daa18e76b81417eeb99fc</td><td>0.991</td><td>0.228555</td><td>0.347238</td><td>0.00300744</td><td>0</td><td>7</td><td>0</td><td><span class=na>NA</span></td><td>53447</td><td class=vellipsis>&hellip;</td><td>0</td><td>0</td><td>0</td><td>1</td><td>1</td></tr>\n",
       "    <tr><td class='row_index'>5</td><td>000016191b897145d069102325cab760</td><td>0.991</td><td>0.228555</td><td>0.347238</td><td>0.00126893</td><td>0</td><td>7</td><td>0</td><td><span class=na>NA</span></td><td>53447</td><td class=vellipsis>&hellip;</td><td>0</td><td>0</td><td>0</td><td>15</td><td>1</td></tr>\n",
       "    <tr><td class='row_index'>6</td><td>0000161e8abf8d8b89c5ab8787fd712b</td><td>0.991</td><td>0.228555</td><td>0.347238</td><td>0.000205786</td><td>0</td><td>7</td><td>0</td><td><span class=na>NA</span></td><td>43927</td><td class=vellipsis>&hellip;</td><td>0</td><td>0</td><td>0</td><td>10</td><td>1</td></tr>\n",
       "    <tr><td class='row_index'>7</td><td>000019515bc8f95851aff6de873405e8</td><td>0.991</td><td>0.228555</td><td>0.347238</td><td>0.000374551</td><td>0</td><td>7</td><td>0</td><td><span class=na>NA</span></td><td>53447</td><td class=vellipsis>&hellip;</td><td>0</td><td>0</td><td>0</td><td>15</td><td>0</td></tr>\n",
       "    <tr><td class='row_index'>8</td><td>00001a027a0ab970c408182df8484fce</td><td>0.991</td><td>0.251041</td><td>0.347238</td><td>0.00128205</td><td>0</td><td>7</td><td>0</td><td><span class=na>NA</span></td><td>53447</td><td class=vellipsis>&hellip;</td><td>0</td><td>0</td><td>0</td><td>15</td><td>0</td></tr>\n",
       "    <tr><td class='row_index'>9</td><td>00001a18d69bb60bda9779408dcf02ac</td><td>0.991</td><td>0.228555</td><td>0.347238</td><td>0.000386355</td><td>0</td><td>7</td><td>0</td><td><span class=na>NA</span></td><td>46413</td><td class=vellipsis>&hellip;</td><td>0</td><td>0</td><td>1</td><td>8</td><td>1</td></tr>\n",
       "  </tbody>\n",
       "  </table>\n",
       "  <div class='footer'>\n",
       "    <div class='frame_dimensions'>10 rows &times; 83 columns</div>\n",
       "  </div>\n",
       "</div>\n"
      ],
      "text/plain": []
     },
     "execution_count": 21,
     "metadata": {},
     "output_type": "execute_result"
    }
   ],
   "source": [
    "train.head()"
   ]
  },
  {
   "cell_type": "code",
   "execution_count": 22,
   "metadata": {
    "_uuid": "3191b48e13a40396234228a5162c20ec556ca468"
   },
   "outputs": [
    {
     "data": {
      "text/html": [
       "<div class='datatable'>\n",
       "  <table class='frame'>\n",
       "  <thead>\n",
       "    <tr class='colnames'><td class='row_index'></td><th>MachineIdentifier</th><th>ProductName</th><th>EngineVersion</th><th>AppVersion</th><th>AvSigVersion</th><th>IsBeta</th><th>RtpStateBitfield</th><th>IsSxsPassiveMode</th><th>DefaultBrowsersIdentifier</th><th>AVProductStatesIdentifier</th><th class='vellipsis'>&hellip;</th><th>Census_IsTouchEnabled</th><th>Census_IsPenCapable</th><th>Census_IsAlwaysOnAlwaysConnectedCapable</th><th>Wdft_IsGamer</th><th>Wdft_RegionIdentifier</th></tr>\n",
       "    <tr class='coltypes'><td class='row_index'></td><td class='str' title='str32'>&#x25AA;&#x25AA;&#x25AA;&#x25AA;</td><td class='real' title='float64'>&#x25AA;&#x25AA;&#x25AA;&#x25AA;&#x25AA;&#x25AA;&#x25AA;&#x25AA;</td><td class='real' title='float64'>&#x25AA;&#x25AA;&#x25AA;&#x25AA;&#x25AA;&#x25AA;&#x25AA;&#x25AA;</td><td class='real' title='float64'>&#x25AA;&#x25AA;&#x25AA;&#x25AA;&#x25AA;&#x25AA;&#x25AA;&#x25AA;</td><td class='real' title='float64'>&#x25AA;&#x25AA;&#x25AA;&#x25AA;&#x25AA;&#x25AA;&#x25AA;&#x25AA;</td><td class='bool' title='bool8'>&#x25AA;</td><td class='int' title='int32'>&#x25AA;&#x25AA;&#x25AA;&#x25AA;</td><td class='bool' title='bool8'>&#x25AA;</td><td class='int' title='int32'>&#x25AA;&#x25AA;&#x25AA;&#x25AA;</td><td class='int' title='int32'>&#x25AA;&#x25AA;&#x25AA;&#x25AA;</td><th class='vellipsis'>&hellip;</th><td class='bool' title='bool8'>&#x25AA;</td><td class='bool' title='bool8'>&#x25AA;</td><td class='bool' title='bool8'>&#x25AA;</td><td class='bool' title='bool8'>&#x25AA;</td><td class='int' title='int32'>&#x25AA;&#x25AA;&#x25AA;&#x25AA;</td></tr>\n",
       "  </thead>\n",
       "  <tbody>\n",
       "    <tr><td class='row_index'>0</td><td>0000010489e3af074adeac69c53e555e</td><td>0.991</td><td>0.0888999</td><td>0.126972</td><td>0.000228379</td><td>0</td><td>7</td><td>0</td><td><span class=na>NA</span></td><td>53447</td><td class=vellipsis>&hellip;</td><td>0</td><td>0</td><td>0</td><td>0</td><td>7</td></tr>\n",
       "    <tr><td class='row_index'>1</td><td>00000176ac758d54827acd545b6315a5</td><td>0.991</td><td>0.12556</td><td>0.164084</td><td>0.00165088</td><td>0</td><td>7</td><td>0</td><td><span class=na>NA</span></td><td>53447</td><td class=vellipsis>&hellip;</td><td>0</td><td>0</td><td>0</td><td>1</td><td>12</td></tr>\n",
       "    <tr><td class='row_index'>2</td><td>0000019dcefc128c2d4387c1273dae1d</td><td>0.991</td><td>0.192051</td><td>0.164084</td><td>0.00037175</td><td>0</td><td>7</td><td>0</td><td><span class=na>NA</span></td><td>49480</td><td class=vellipsis>&hellip;</td><td>0</td><td>0</td><td>0</td><td>1</td><td>11</td></tr>\n",
       "    <tr><td class='row_index'>3</td><td>0000055553dc51b1295785415f1a224d</td><td>0.991</td><td>0.0888999</td><td>0.126972</td><td>0.000838463</td><td>0</td><td>7</td><td>0</td><td><span class=na>NA</span></td><td>42160</td><td class=vellipsis>&hellip;</td><td>0</td><td>0</td><td>0</td><td>0</td><td>10</td></tr>\n",
       "    <tr><td class='row_index'>4</td><td>00000574cefffeca83ec8adf9285b2bf</td><td>0.991</td><td>0.12556</td><td>0.164084</td><td>0.00129618</td><td>0</td><td>7</td><td>0</td><td><span class=na>NA</span></td><td>53447</td><td class=vellipsis>&hellip;</td><td>0</td><td>0</td><td>0</td><td>1</td><td>3</td></tr>\n",
       "    <tr><td class='row_index'>5</td><td>000007ffedd31948f08e6c16da31f6d1</td><td>0.991</td><td>0.192051</td><td>0.164084</td><td>0.000220152</td><td>0</td><td>7</td><td>0</td><td><span class=na>NA</span></td><td>53447</td><td class=vellipsis>&hellip;</td><td>0</td><td>0</td><td>0</td><td>0</td><td>10</td></tr>\n",
       "    <tr><td class='row_index'>6</td><td>000008f31610018d898e5f315cdf1bd1</td><td>0.991</td><td>0.12556</td><td>0.126972</td><td>0.000457474</td><td>0</td><td>7</td><td>0</td><td><span class=na>NA</span></td><td>7945</td><td class=vellipsis>&hellip;</td><td>0</td><td>0</td><td>0</td><td>1</td><td>10</td></tr>\n",
       "    <tr><td class='row_index'>7</td><td>00000a3c447250626dbcc628c9cbc460</td><td>0.991</td><td>0.192051</td><td>0.0573805</td><td>0.000193028</td><td>0</td><td>7</td><td>0</td><td><span class=na>NA</span></td><td>15521</td><td class=vellipsis>&hellip;</td><td>0</td><td>0</td><td>0</td><td>0</td><td>9</td></tr>\n",
       "    <tr><td class='row_index'>8</td><td>00000b6bf217ec9aef0f68d5c6705897</td><td>0.991</td><td>0.0888999</td><td>0.126972</td><td>0.00105444</td><td>0</td><td>7</td><td>0</td><td><span class=na>NA</span></td><td>53447</td><td class=vellipsis>&hellip;</td><td>0</td><td>0</td><td><span class=na>NA</span></td><td><span class=na>NA</span></td><td><span class=na>NA</span></td></tr>\n",
       "    <tr><td class='row_index'>9</td><td>00000b8d3776b13e93ad83676a28e4aa</td><td>0.991</td><td>0.00405872</td><td>0.00473218</td><td>1.1565e-05</td><td>0</td><td>7</td><td>0</td><td><span class=na>NA</span></td><td>53447</td><td class=vellipsis>&hellip;</td><td>0</td><td>0</td><td>0</td><td>0</td><td>15</td></tr>\n",
       "  </tbody>\n",
       "  </table>\n",
       "  <div class='footer'>\n",
       "    <div class='frame_dimensions'>10 rows &times; 82 columns</div>\n",
       "  </div>\n",
       "</div>\n"
      ],
      "text/plain": []
     },
     "execution_count": 22,
     "metadata": {},
     "output_type": "execute_result"
    }
   ],
   "source": [
    "test.head()"
   ]
  },
  {
   "cell_type": "markdown",
   "metadata": {
    "_uuid": "d7a7e7320ee82525c52eed81ddec7d00ddac6363"
   },
   "source": [
    "Now, let's fit the model:"
   ]
  },
  {
   "cell_type": "code",
   "execution_count": 23,
   "metadata": {
    "_uuid": "5cca720b5cffe634baf6fc5f1b8c5fd7a0d3b4d9"
   },
   "outputs": [],
   "source": [
    "features = [f for f in train.names if f not in ['HasDetections']]\n",
    "ftrl = Ftrl(nepochs=2, interactions=True)\n"
   ]
  },
  {
   "cell_type": "code",
   "execution_count": 24,
   "metadata": {
    "_uuid": "4213ec15513c66db72e4b2ae944f3745811fd419"
   },
   "outputs": [
    {
     "name": "stdout",
     "output_type": "stream",
     "text": [
      "Start Fitting on    (8921483, 83)  @  2019-03-03 13:44:28.836626\n",
      "Fitted complete on  (8921483, 83)  @  2019-03-03 16:59:14.314141\n",
      "Current loss : 0.579900\n",
      "CPU times: user 19h 7min 42s, sys: 1min 53s, total: 19h 9min 36s\n",
      "Wall time: 4h 49min 56s\n"
     ]
    }
   ],
   "source": [
    "%%time\n",
    "print('Start Fitting on   ', train.shape, ' @ ', datetime.now())\n",
    "ftrl.fit(train[:, features], train[:, 'HasDetections'])\n",
    "print('Fitted complete on ', train.shape, ' @ ', datetime.now())  \n",
    "print('Current loss : %.6f' \n",
    "          % log_loss(np.array(train[:, 'HasDetections'])[:, 0],  \n",
    "                             np.array(ftrl.predict(train[:, features]))))"
   ]
  },
  {
   "cell_type": "code",
   "execution_count": 25,
   "metadata": {
    "_uuid": "0b9b5951eebc80b286057ad80af52ce8fcd25ade"
   },
   "outputs": [
    {
     "name": "stdout",
     "output_type": "stream",
     "text": [
      "Current AUC : 0.760506\n"
     ]
    }
   ],
   "source": [
    "print('Current AUC : %.6f' \n",
    "          % roc_auc_score(np.array(train[:, 'HasDetections'])[:, 0],  \n",
    "                             np.array(ftrl.predict(train[:, features]))))"
   ]
  },
  {
   "cell_type": "code",
   "execution_count": 26,
   "metadata": {
    "_uuid": "9436b7a24f9999a426b02b25498c5e56d362054f"
   },
   "outputs": [],
   "source": [
    "preds1 = np.array(ftrl.predict(test[:, features]))\n",
    "preds1 = preds1.flatten()"
   ]
  },
  {
   "cell_type": "code",
   "execution_count": 27,
   "metadata": {
    "_uuid": "40c2ec15d22923cbff996b2abbebaa7abdb134ab"
   },
   "outputs": [],
   "source": [
    "ftrl = Ftrl(nepochs=20, interactions=False)\n",
    "ftrl.fit(train[:, features], train[:, 'HasDetections'])\n",
    "preds2 = np.array(ftrl.predict(test[:, features]))\n",
    "preds2 = preds2.flatten()"
   ]
  },
  {
   "cell_type": "code",
   "execution_count": 28,
   "metadata": {
    "_uuid": "9df23b55fee61dccfdee7f1da86afa83aa12afa8"
   },
   "outputs": [],
   "source": [
    "np.save('preds1', preds1)\n",
    "np.save('preds2', preds2)"
   ]
  },
  {
   "cell_type": "code",
   "execution_count": 29,
   "metadata": {
    "_uuid": "bf07cf9372eee1a28ad2a3ea04b71211776b2d28"
   },
   "outputs": [],
   "source": [
    "sample_submission = pd.read_csv('../input/sample_submission.csv')"
   ]
  },
  {
   "cell_type": "code",
   "execution_count": 30,
   "metadata": {
    "_uuid": "d3f57152c1b938192df179a60a43748ec1cbc53a"
   },
   "outputs": [],
   "source": [
    "sample_submission['HasDetections'] = 0.6*preds1+0.4*preds2"
   ]
  },
  {
   "cell_type": "code",
   "execution_count": 31,
   "metadata": {
    "_uuid": "b782a4a4ebc6508859959f3c75f4d5ce85d27660"
   },
   "outputs": [],
   "source": [
    "sample_submission.to_csv('datatable_ftrl_submission.csv', index=False)"
   ]
  },
  {
   "cell_type": "markdown",
   "metadata": {
    "_uuid": "fca01257c167b99ec3861f3922a98d82ff70e946"
   },
   "source": [
    "To be continued ..."
   ]
  }
 ],
 "metadata": {
  "kernelspec": {
   "display_name": "Python 3",
   "language": "python",
   "name": "python3"
  },
  "language_info": {
   "codemirror_mode": {
    "name": "ipython",
    "version": 3
   },
   "file_extension": ".py",
   "mimetype": "text/x-python",
   "name": "python",
   "nbconvert_exporter": "python",
   "pygments_lexer": "ipython3",
   "version": "3.6.6"
  }
 },
 "nbformat": 4,
 "nbformat_minor": 1
}
