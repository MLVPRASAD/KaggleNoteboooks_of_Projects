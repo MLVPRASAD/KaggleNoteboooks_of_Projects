{
 "cells": [
  {
   "cell_type": "code",
   "execution_count": 1,
   "metadata": {
    "_cell_guid": "b1076dfc-b9ad-4769-8c92-a6c4dae69d19",
    "_uuid": "8f2839f25d086af736a60e9eeb907d3b93b6e0e5"
   },
   "outputs": [
    {
     "name": "stdout",
     "output_type": "stream",
     "text": [
      "['test', 'train', 'train.csv', 'sample_submission.csv']\n"
     ]
    }
   ],
   "source": [
    "# This Python 3 environment comes with many helpful analytics libraries installed\n",
    "# It is defined by the kaggle/python docker image: https://github.com/kaggle/docker-python\n",
    "# For example, here's several helpful packages to load in \n",
    "\n",
    "import numpy as np # linear algebra\n",
    "import pandas as pd # data processing, CSV file I/O (e.g. pd.read_csv)\n",
    "import glob\n",
    "import os\n",
    "import matplotlib.pyplot as plt\n",
    "import seaborn as sns\n",
    "import cv2\n",
    "from tqdm import tqdm_notebook\n",
    "\n",
    "# Input data files are available in the \"../input/\" directory.\n",
    "# For example, running this (by clicking run or pressing Shift+Enter) will list the files in the input directory\n",
    "\n",
    "import os\n",
    "print(os.listdir(\"../input\"))\n",
    "\n",
    "# Any results you write to the current directory are saved as output."
   ]
  },
  {
   "cell_type": "code",
   "execution_count": 2,
   "metadata": {
    "_cell_guid": "79c7e3d0-c299-4dcb-8224-4455121ee9b0",
    "_uuid": "d629ff2d2480ee46fbb7e2d37f6b5fab8052498a"
   },
   "outputs": [],
   "source": [
    "#read in all our files\n",
    "train_df = pd.read_csv('../input/train.csv')\n",
    "train_images = '../input/train/*'\n",
    "test_images = '../input/test/*'"
   ]
  },
  {
   "cell_type": "code",
   "execution_count": 3,
   "metadata": {
    "_uuid": "b5cc75b012b6551901570515c2623ce58bb15e4c"
   },
   "outputs": [
    {
     "data": {
      "text/html": [
       "<div>\n",
       "<style scoped>\n",
       "    .dataframe tbody tr th:only-of-type {\n",
       "        vertical-align: middle;\n",
       "    }\n",
       "\n",
       "    .dataframe tbody tr th {\n",
       "        vertical-align: top;\n",
       "    }\n",
       "\n",
       "    .dataframe thead th {\n",
       "        text-align: right;\n",
       "    }\n",
       "</style>\n",
       "<table border=\"1\" class=\"dataframe\">\n",
       "  <thead>\n",
       "    <tr style=\"text-align: right;\">\n",
       "      <th></th>\n",
       "      <th>id</th>\n",
       "      <th>has_cactus</th>\n",
       "    </tr>\n",
       "  </thead>\n",
       "  <tbody>\n",
       "    <tr>\n",
       "      <th>0</th>\n",
       "      <td>0004be2cfeaba1c0361d39e2b000257b.jpg</td>\n",
       "      <td>1</td>\n",
       "    </tr>\n",
       "    <tr>\n",
       "      <th>1</th>\n",
       "      <td>000c8a36845c0208e833c79c1bffedd1.jpg</td>\n",
       "      <td>1</td>\n",
       "    </tr>\n",
       "    <tr>\n",
       "      <th>2</th>\n",
       "      <td>000d1e9a533f62e55c289303b072733d.jpg</td>\n",
       "      <td>1</td>\n",
       "    </tr>\n",
       "    <tr>\n",
       "      <th>3</th>\n",
       "      <td>0011485b40695e9138e92d0b3fb55128.jpg</td>\n",
       "      <td>1</td>\n",
       "    </tr>\n",
       "    <tr>\n",
       "      <th>4</th>\n",
       "      <td>0014d7a11e90b62848904c1418fc8cf2.jpg</td>\n",
       "      <td>1</td>\n",
       "    </tr>\n",
       "  </tbody>\n",
       "</table>\n",
       "</div>"
      ],
      "text/plain": [
       "                                     id  has_cactus\n",
       "0  0004be2cfeaba1c0361d39e2b000257b.jpg           1\n",
       "1  000c8a36845c0208e833c79c1bffedd1.jpg           1\n",
       "2  000d1e9a533f62e55c289303b072733d.jpg           1\n",
       "3  0011485b40695e9138e92d0b3fb55128.jpg           1\n",
       "4  0014d7a11e90b62848904c1418fc8cf2.jpg           1"
      ]
     },
     "execution_count": 3,
     "metadata": {},
     "output_type": "execute_result"
    }
   ],
   "source": [
    "train_df.head()"
   ]
  },
  {
   "cell_type": "code",
   "execution_count": 4,
   "metadata": {
    "_uuid": "72c64ea60813ecb730405a33c8a33b4d50a33012"
   },
   "outputs": [
    {
     "data": {
      "text/plain": [
       "<matplotlib.axes._subplots.AxesSubplot at 0x7f98563abac8>"
      ]
     },
     "execution_count": 4,
     "metadata": {},
     "output_type": "execute_result"
    },
    {
     "data": {
      "image/png": "[encoded data removed]",
      "text/plain": [
       "<Figure size 864x720 with 1 Axes>"
      ]
     },
     "metadata": {},
     "output_type": "display_data"
    }
   ],
   "source": [
    "sns.set(style = 'darkgrid')\n",
    "plt.figure(figsize = (12,10))\n",
    "sns.countplot(train_df['has_cactus'])"
   ]
  },
  {
   "cell_type": "code",
   "execution_count": 5,
   "metadata": {
    "_uuid": "df11394a68c5584fa1cf569e73ee8565c3425320"
   },
   "outputs": [],
   "source": [
    "#let's visualize some cactus images\n",
    "IMAGES = os.path.join(train_images, \"*\")\n",
    "all_images = glob.glob(IMAGES)"
   ]
  },
  {
   "cell_type": "code",
   "execution_count": 6,
   "metadata": {
    "_uuid": "518c83ba4bc18813bc4660defe2e74feebd7e7ed"
   },
   "outputs": [
    {
     "data": {
      "text/plain": [
       "([], <a list of 0 Text yticklabel objects>)"
      ]
     },
     "execution_count": 6,
     "metadata": {},
     "output_type": "execute_result"
    },
    {
     "data": {
      "image/png": "[encoded data removed]",
      "text/plain": [
       "<Figure size 864x720 with 3 Axes>"
      ]
     },
     "metadata": {},
     "output_type": "display_data"
    }
   ],
   "source": [
    "#visualize some images\n",
    "\n",
    "plt.figure(figsize = (12,10))\n",
    "plt.subplot(1, 3, 1)\n",
    "plt.imshow(plt.imread(all_images[0]))\n",
    "plt.xticks([])\n",
    "plt.yticks([])\n",
    "\n",
    "plt.subplot(1, 3, 2)\n",
    "plt.imshow(plt.imread(all_images[10]))\n",
    "plt.xticks([])\n",
    "plt.yticks([])\n",
    "\n",
    "plt.subplot(1, 3, 3)\n",
    "plt.imshow(plt.imread(all_images[20]))\n",
    "plt.xticks([])\n",
    "plt.yticks([])"
   ]
  },
  {
   "cell_type": "code",
   "execution_count": 7,
   "metadata": {
    "_uuid": "e3499ef413eebeb263f4c5b3827a4f4cc54e5a9c"
   },
   "outputs": [],
   "source": [
    "train_path = '../input/train/train/'\n",
    "test_path = '../input/test/test/'"
   ]
  },
  {
   "cell_type": "code",
   "execution_count": 8,
   "metadata": {
    "_uuid": "5b47335ea0ee75549042f7ce4445cd60d959ca2b"
   },
   "outputs": [],
   "source": [
    "#let's get our image data and image labels toegether\n",
    "#read in all the images\n",
    "images_id = train_df['id'].values\n",
    "X = [] #this list will contain all our images\n",
    "for id_ in images_id:\n",
    "    img = cv2.imread(train_path + id_)\n",
    "    X.append(img)"
   ]
  },
  {
   "cell_type": "code",
   "execution_count": 9,
   "metadata": {
    "_uuid": "37d8def8265b7536585c148951584ca39af0af4c"
   },
   "outputs": [],
   "source": [
    "#now let's get our labels\n",
    "label_list = [] #will contain all our labels\n",
    "for img_id in images_id:\n",
    "    label_list.append(train_df[train_df['id'] == img_id]['has_cactus'].values[0])"
   ]
  },
  {
   "cell_type": "code",
   "execution_count": 10,
   "metadata": {
    "_uuid": "1899dd5ea26b8233d90d8abd7b409cdd5beb978f"
   },
   "outputs": [],
   "source": [
    "#now we can convert our images list and the labels list into numpy array\n",
    "X = np.array(X)\n",
    "y = np.array(label_list)"
   ]
  },
  {
   "cell_type": "code",
   "execution_count": 11,
   "metadata": {
    "_uuid": "fcb45b36e5c81ce2b859941f5c63d7e57e7f3035"
   },
   "outputs": [
    {
     "name": "stdout",
     "output_type": "stream",
     "text": [
      "THE SIZE OF OUR TRAINING DATA : (17500, 32, 32, 3)\n",
      "THE SIZE OF OUR TRAINING LABELS : (17500,)\n"
     ]
    }
   ],
   "source": [
    "print(f\"THE SIZE OF OUR TRAINING DATA : {X.shape}\")\n",
    "print(f\"THE SIZE OF OUR TRAINING LABELS : {y.shape}\")"
   ]
  },
  {
   "cell_type": "code",
   "execution_count": 12,
   "metadata": {
    "_uuid": "da0e8b075a71c3b29ff53ae32d9bf7d2a773a329"
   },
   "outputs": [],
   "source": [
    "#let's do some preprocessing such as normalizing our data\n",
    "X = X.astype('float32') / 255"
   ]
  },
  {
   "cell_type": "code",
   "execution_count": 13,
   "metadata": {
    "_uuid": "8f8e9ffdbdfc62f46795dddc77026176de0275f8"
   },
   "outputs": [
    {
     "data": {
      "application/vnd.jupyter.widget-view+json": {
       "model_id": "82801b03d8da4278a95e861189b1b711",
       "version_major": 2,
       "version_minor": 0
      },
      "text/plain": [
       "HBox(children=(IntProgress(value=0, max=4000), HTML(value='')))"
      ]
     },
     "metadata": {},
     "output_type": "display_data"
    },
    {
     "name": "stdout",
     "output_type": "stream",
     "text": [
      "\n"
     ]
    }
   ],
   "source": [
    "#loading in and preprocessing the test data\n",
    "X_test = []\n",
    "test_images = []\n",
    "for img_id in tqdm_notebook(os.listdir(test_path)):\n",
    "    X_test.append(cv2.imread(test_path + img_id))     \n",
    "    test_images.append(img_id)\n",
    "X_test = np.array(X_test)\n",
    "X_test = X_test.astype('float32') / 255"
   ]
  },
  {
   "cell_type": "markdown",
   "metadata": {
    "_uuid": "ac134f28dcb86eab91448fe7089577b5004f77b1"
   },
   "source": [
    "## BUILD CNN"
   ]
  },
  {
   "cell_type": "code",
   "execution_count": 14,
   "metadata": {
    "_uuid": "0979f6994d07070e01a9c93c47061a58183ccfd2"
   },
   "outputs": [
    {
     "name": "stderr",
     "output_type": "stream",
     "text": [
      "Using TensorFlow backend.\n"
     ]
    }
   ],
   "source": [
    "#import the required libraries\n",
    "import keras\n",
    "from keras.layers import Conv2D\n",
    "from keras.layers import Dense\n",
    "from keras.layers import BatchNormalization\n",
    "from keras.layers import Flatten\n",
    "from keras.layers import Activation\n",
    "from keras.layers import Dropout\n",
    "from keras.layers import MaxPooling2D\n",
    "from keras.models import Sequential\n",
    "from keras import optimizers\n",
    "from keras.callbacks import ModelCheckpoint, ReduceLROnPlateau\n",
    "from keras import backend as K"
   ]
  },
  {
   "cell_type": "code",
   "execution_count": 15,
   "metadata": {
    "_uuid": "1fa0c332dd19fac460e281a80e72ee5316f87e2b"
   },
   "outputs": [],
   "source": [
    "class CNN:\n",
    "    def build(height, width, classes, channels):\n",
    "        model = Sequential()\n",
    "        inputShape = (height, width, channels)\n",
    "        chanDim = -1\n",
    "        \n",
    "        if K.image_data_format() == 'channels_first':\n",
    "            inputShape = (channels, height, width)\n",
    "            chanDim = 1\n",
    "        model.add(Conv2D(32, (3,3), padding = 'same', input_shape = inputShape))\n",
    "        model.add(BatchNormalization(axis = chanDim))\n",
    "        model.add(Activation('relu'))\n",
    "        model.add(Conv2D(32, (3,3), padding = 'same'))\n",
    "        model.add(BatchNormalization(axis = chanDim))\n",
    "        model.add(Activation('relu'))\n",
    "        model.add(MaxPooling2D(2,2))\n",
    "        model.add(Dropout(0.25))\n",
    "        \n",
    "        model.add(Conv2D(128, (3,3), padding = 'same', input_shape = inputShape))\n",
    "        model.add(BatchNormalization(axis = chanDim))\n",
    "        model.add(Activation('relu'))\n",
    "        model.add(Conv2D(128, (3,3), padding = 'same'))\n",
    "        model.add(BatchNormalization(axis = chanDim))\n",
    "        model.add(Activation('relu'))\n",
    "        model.add(MaxPooling2D(2,2))\n",
    "        model.add(Dropout(0.25))\n",
    "        \n",
    "        model.add(Conv2D(256, (3,3), padding = 'same', input_shape = inputShape))\n",
    "        model.add(BatchNormalization(axis = chanDim))\n",
    "        model.add(Activation('relu'))\n",
    "        model.add(Conv2D(256, (3,3), padding = 'same'))\n",
    "        model.add(BatchNormalization(axis = chanDim))\n",
    "        model.add(Activation('relu'))\n",
    "        model.add(MaxPooling2D(2,2))\n",
    "        model.add(Dropout(0.25))\n",
    "        \n",
    "        model.add(Flatten())\n",
    "        \n",
    "        model.add(Dense(128, activation = 'relu'))\n",
    "        model.add(BatchNormalization(axis = chanDim))\n",
    "        model.add(Dropout(0.5))\n",
    "        \n",
    "        model.add(Dense(32, activation = 'relu'))\n",
    "        model.add(BatchNormalization(axis = chanDim))\n",
    "        model.add(Dropout(0.5))\n",
    "        \n",
    "        model.add(Dense(classes, activation = 'sigmoid'))\n",
    "        \n",
    "        return model"
   ]
  },
  {
   "cell_type": "markdown",
   "metadata": {
    "_uuid": "b9e933cf85e8c4a3c494f9cef44c9d175e78aee0"
   },
   "source": [
    "## ENSEMBLE NEURAL NETWORK"
   ]
  },
  {
   "cell_type": "code",
   "execution_count": 16,
   "metadata": {
    "_kg_hide-output": true,
    "_uuid": "22415149124c2d96e16ab5bded020644d0276cbd"
   },
   "outputs": [
    {
     "name": "stdout",
     "output_type": "stream",
     "text": [
      "TRAINING MODEL NO : 0\n",
      "Epoch 1/200\n",
      "17500/17500 [==============================] - 12s 711us/step - loss: 0.2101 - acc: 0.9271\n",
      "Epoch 2/200\n",
      "17500/17500 [==============================] - 8s 461us/step - loss: 0.0847 - acc: 0.9743\n",
      "Epoch 3/200\n",
      "17500/17500 [==============================] - 8s 467us/step - loss: 0.0669 - acc: 0.9787\n",
      "Epoch 4/200\n",
      "17500/17500 [==============================] - 8s 460us/step - loss: 0.0560 - acc: 0.9831\n",
      "Epoch 5/200\n",
      "17500/17500 [==============================] - 8s 463us/step - loss: 0.0398 - acc: 0.9883\n",
      "Epoch 6/200\n",
      "17500/17500 [==============================] - 8s 461us/step - loss: 0.0435 - acc: 0.9875\n",
      "Epoch 7/200\n",
      "17500/17500 [==============================] - 8s 460us/step - loss: 0.0310 - acc: 0.9905\n",
      "Epoch 8/200\n",
      "17500/17500 [==============================] - 8s 461us/step - loss: 0.0294 - acc: 0.9914\n",
      "Epoch 9/200\n",
      "17500/17500 [==============================] - 8s 457us/step - loss: 0.0223 - acc: 0.9937\n",
      "Epoch 10/200\n",
      "17500/17500 [==============================] - 8s 458us/step - loss: 0.0260 - acc: 0.9921\n",
      "Epoch 11/200\n",
      "17500/17500 [==============================] - 8s 460us/step - loss: 0.0248 - acc: 0.9931\n",
      "Epoch 12/200\n",
      "17500/17500 [==============================] - 8s 460us/step - loss: 0.0168 - acc: 0.9946\n",
      "Epoch 13/200\n",
      "17500/17500 [==============================] - 8s 460us/step - loss: 0.0230 - acc: 0.9933\n",
      "Epoch 14/200\n",
      "17500/17500 [==============================] - 8s 458us/step - loss: 0.0149 - acc: 0.9955\n",
      "Epoch 15/200\n",
      "17500/17500 [==============================] - 8s 458us/step - loss: 0.0171 - acc: 0.9949\n",
      "Epoch 16/200\n",
      "17500/17500 [==============================] - 8s 459us/step - loss: 0.0141 - acc: 0.9964\n",
      "Epoch 17/200\n",
      "17500/17500 [==============================] - 8s 458us/step - loss: 0.0107 - acc: 0.9969\n",
      "Epoch 18/200\n",
      "17500/17500 [==============================] - 8s 460us/step - loss: 0.0118 - acc: 0.9966\n",
      "Epoch 19/200\n",
      "17500/17500 [==============================] - 8s 459us/step - loss: 0.0116 - acc: 0.9966\n",
      "Epoch 20/200\n",
      "17500/17500 [==============================] - 8s 458us/step - loss: 0.0113 - acc: 0.9966\n",
      "Epoch 21/200\n",
      "17500/17500 [==============================] - 8s 458us/step - loss: 0.0081 - acc: 0.9980\n",
      "Epoch 22/200\n",
      "17500/17500 [==============================] - 8s 460us/step - loss: 0.0102 - acc: 0.9969\n",
      "Epoch 23/200\n",
      "17500/17500 [==============================] - 8s 459us/step - loss: 0.0080 - acc: 0.9978\n",
      "Epoch 24/200\n",
      "17500/17500 [==============================] - 8s 460us/step - loss: 0.0103 - acc: 0.9973\n",
      "Epoch 25/200\n",
      "17500/17500 [==============================] - 8s 460us/step - loss: 0.0071 - acc: 0.9981\n",
      "Epoch 26/200\n",
      "17500/17500 [==============================] - 9s 504us/step - loss: 0.0060 - acc: 0.9982\n",
      "Epoch 27/200\n",
      "17500/17500 [==============================] - 8s 458us/step - loss: 0.0087 - acc: 0.9975\n",
      "Epoch 28/200\n",
      "17500/17500 [==============================] - 8s 457us/step - loss: 0.0079 - acc: 0.9974\n",
      "Epoch 29/200\n",
      "17500/17500 [==============================] - 8s 461us/step - loss: 0.0036 - acc: 0.9987\n",
      "Epoch 30/200\n",
      "17500/17500 [==============================] - 8s 458us/step - loss: 0.0045 - acc: 0.9986\n",
      "Epoch 31/200\n",
      "17500/17500 [==============================] - 8s 457us/step - loss: 0.0095 - acc: 0.9975\n",
      "Epoch 32/200\n",
      "17500/17500 [==============================] - 9s 494us/step - loss: 0.0064 - acc: 0.9976\n",
      "Epoch 33/200\n",
      "17500/17500 [==============================] - 9s 514us/step - loss: 0.0058 - acc: 0.9982\n",
      "Epoch 34/200\n",
      "17500/17500 [==============================] - 8s 460us/step - loss: 0.0061 - acc: 0.9984\n",
      "Epoch 35/200\n",
      "17500/17500 [==============================] - 8s 459us/step - loss: 0.0015 - acc: 0.9997\n",
      "Epoch 36/200\n",
      "17500/17500 [==============================] - 8s 459us/step - loss: 0.0065 - acc: 0.9981\n",
      "Epoch 37/200\n",
      "17500/17500 [==============================] - 8s 461us/step - loss: 0.0058 - acc: 0.9982\n",
      "Epoch 38/200\n",
      "17500/17500 [==============================] - 8s 459us/step - loss: 0.0035 - acc: 0.9989\n",
      "Epoch 39/200\n",
      "17500/17500 [==============================] - 8s 460us/step - loss: 0.0030 - acc: 0.9991\n",
      "Epoch 40/200\n",
      "17500/17500 [==============================] - 8s 459us/step - loss: 0.0049 - acc: 0.9985\n",
      "Epoch 41/200\n",
      "17500/17500 [==============================] - 8s 465us/step - loss: 0.0044 - acc: 0.9987\n",
      "Epoch 42/200\n",
      "17500/17500 [==============================] - 8s 459us/step - loss: 0.0032 - acc: 0.9990\n",
      "Epoch 43/200\n",
      "17500/17500 [==============================] - 8s 458us/step - loss: 0.0086 - acc: 0.9974\n",
      "Epoch 44/200\n",
      "17500/17500 [==============================] - 8s 460us/step - loss: 0.0027 - acc: 0.9991\n",
      "Epoch 45/200\n",
      "17500/17500 [==============================] - 8s 461us/step - loss: 0.0020 - acc: 0.9997\n",
      "Epoch 46/200\n",
      " 3488/17500 [====>.........................] - ETA: 6s - loss: 2.9141e-04 - acc: 1.0000"
     ]
    }
   ],
   "source": [
    "input_dim = X.shape[1:]\n",
    "activation = 'relu'\n",
    "classes = 1\n",
    "height = 32\n",
    "width = 32\n",
    "channels = 3\n",
    "\n",
    "history = dict() #dictionery to store the history of individual models for later visualization\n",
    "prediction_scores = dict() #dictionery to store the predicted scores of individual models on the test dataset\n",
    "\n",
    "#here we will be training the same model for a total of 10 times and will be considering the mean of the output values for predictions\n",
    "for i in np.arange(0, 5):\n",
    "    optim = optimizers.Adam(lr = 0.001)\n",
    "    ensemble_model = CNN.build(height = height, width = width, classes = classes, channels = channels)\n",
    "    ensemble_model.compile(loss = 'binary_crossentropy', optimizer = optim, metrics = ['accuracy'])\n",
    "    print('TRAINING MODEL NO : {}'.format(i))\n",
    "    H = ensemble_model.fit(X, y,\n",
    "                           batch_size = 32,\n",
    "                           epochs = 200,\n",
    "                           verbose = 1)\n",
    "    history[i] = H\n",
    "    \n",
    "    ensemble_model.save('MODEL_{}.model'.format(i))\n",
    "    \n",
    "    predictions = ensemble_model.predict(X_test, verbose = 1, batch_size = 32)\n",
    "    prediction_scores[i] = predictions"
   ]
  },
  {
   "cell_type": "markdown",
   "metadata": {
    "_uuid": "f0dfd9d63c07555d743d89486fddf75a7b7d713c"
   },
   "source": [
    "## VGG16"
   ]
  },
  {
   "cell_type": "code",
   "execution_count": 17,
   "metadata": {
    "_uuid": "044cde863466736fb8bd56d1a175ce992eda09ef"
   },
   "outputs": [],
   "source": [
    "from keras.applications.vgg16 import VGG16"
   ]
  },
  {
   "cell_type": "code",
   "execution_count": 18,
   "metadata": {
    "_uuid": "f2d267f87f08d0ef0159253980fe0a98537c530a"
   },
   "outputs": [
    {
     "name": "stdout",
     "output_type": "stream",
     "text": [
      "Downloading data from https://github.com/fchollet/deep-learning-models/releases/download/v0.1/vgg16_weights_tf_dim_ordering_tf_kernels_notop.h5\n",
      "58892288/58889256 [==============================] - 1s 0us/step\n",
      "_________________________________________________________________\n",
      "Layer (type)                 Output Shape              Param #   \n",
      "=================================================================\n",
      "input_1 (InputLayer)         (None, 32, 32, 3)         0         \n",
      "_________________________________________________________________\n",
      "block1_conv1 (Conv2D)        (None, 32, 32, 64)        1792      \n",
      "_________________________________________________________________\n",
      "block1_conv2 (Conv2D)        (None, 32, 32, 64)        36928     \n",
      "_________________________________________________________________\n",
      "block1_pool (MaxPooling2D)   (None, 16, 16, 64)        0         \n",
      "_________________________________________________________________\n",
      "block2_conv1 (Conv2D)        (None, 16, 16, 128)       73856     \n",
      "_________________________________________________________________\n",
      "block2_conv2 (Conv2D)        (None, 16, 16, 128)       147584    \n",
      "_________________________________________________________________\n",
      "block2_pool (MaxPooling2D)   (None, 8, 8, 128)         0         \n",
      "_________________________________________________________________\n",
      "block3_conv1 (Conv2D)        (None, 8, 8, 256)         295168    \n",
      "_________________________________________________________________\n",
      "block3_conv2 (Conv2D)        (None, 8, 8, 256)         590080    \n",
      "_________________________________________________________________\n",
      "block3_conv3 (Conv2D)        (None, 8, 8, 256)         590080    \n",
      "_________________________________________________________________\n",
      "block3_pool (MaxPooling2D)   (None, 4, 4, 256)         0         \n",
      "_________________________________________________________________\n",
      "block4_conv1 (Conv2D)        (None, 4, 4, 512)         1180160   \n",
      "_________________________________________________________________\n",
      "block4_conv2 (Conv2D)        (None, 4, 4, 512)         2359808   \n",
      "_________________________________________________________________\n",
      "block4_conv3 (Conv2D)        (None, 4, 4, 512)         2359808   \n",
      "_________________________________________________________________\n",
      "block4_pool (MaxPooling2D)   (None, 2, 2, 512)         0         \n",
      "_________________________________________________________________\n",
      "block5_conv1 (Conv2D)        (None, 2, 2, 512)         2359808   \n",
      "_________________________________________________________________\n",
      "block5_conv2 (Conv2D)        (None, 2, 2, 512)         2359808   \n",
      "_________________________________________________________________\n",
      "block5_conv3 (Conv2D)        (None, 2, 2, 512)         2359808   \n",
      "_________________________________________________________________\n",
      "block5_pool (MaxPooling2D)   (None, 1, 1, 512)         0         \n",
      "=================================================================\n",
      "Total params: 14,714,688\n",
      "Trainable params: 14,714,688\n",
      "Non-trainable params: 0\n",
      "_________________________________________________________________\n"
     ]
    }
   ],
   "source": [
    "vgg16 = VGG16(weights = 'imagenet', input_shape = (32, 32, 3), include_top = False)\n",
    "vgg16.summary()"
   ]
  },
  {
   "cell_type": "code",
   "execution_count": 19,
   "metadata": {
    "_uuid": "25adae25c6ca3fa5b49aa342aac80fccbbf614ff"
   },
   "outputs": [],
   "source": [
    "for layer in vgg16.layers:\n",
    "    layer.trainable = False"
   ]
  },
  {
   "cell_type": "code",
   "execution_count": 20,
   "metadata": {
    "_uuid": "a231df553c50b67dfe3e67dc62ea06c8f7e0e0a2"
   },
   "outputs": [
    {
     "name": "stdout",
     "output_type": "stream",
     "text": [
      "_________________________________________________________________\n",
      "Layer (type)                 Output Shape              Param #   \n",
      "=================================================================\n",
      "vgg16 (Model)                (None, 1, 1, 512)         14714688  \n",
      "_________________________________________________________________\n",
      "flatten_6 (Flatten)          (None, 512)               0         \n",
      "_________________________________________________________________\n",
      "dense_16 (Dense)             (None, 256)               131328    \n",
      "_________________________________________________________________\n",
      "batch_normalization_41 (Batc (None, 256)               1024      \n",
      "_________________________________________________________________\n",
      "dropout_26 (Dropout)         (None, 256)               0         \n",
      "_________________________________________________________________\n",
      "dense_17 (Dense)             (None, 128)               32896     \n",
      "_________________________________________________________________\n",
      "batch_normalization_42 (Batc (None, 128)               512       \n",
      "_________________________________________________________________\n",
      "dropout_27 (Dropout)         (None, 128)               0         \n",
      "_________________________________________________________________\n",
      "dense_18 (Dense)             (None, 1)                 129       \n",
      "=================================================================\n",
      "Total params: 14,880,577\n",
      "Trainable params: 165,121\n",
      "Non-trainable params: 14,715,456\n",
      "_________________________________________________________________\n"
     ]
    }
   ],
   "source": [
    "vgg_model = Sequential()\n",
    "vgg_model.add(vgg16)\n",
    "vgg_model.add(Flatten())\n",
    "vgg_model.add(Dense(256, activation = 'relu'))\n",
    "vgg_model.add(BatchNormalization())\n",
    "vgg_model.add(Dropout(0.5))\n",
    "vgg_model.add(Dense(128, activation = 'relu'))\n",
    "vgg_model.add(BatchNormalization())\n",
    "vgg_model.add(Dropout(0.5))\n",
    "vgg_model.add(Dense(1, activation = 'sigmoid'))\n",
    "\n",
    "vgg_model.summary()"
   ]
  },
  {
   "cell_type": "code",
   "execution_count": 21,
   "metadata": {
    "_uuid": "ec18638aa2d978032f4d0f560152702305d51f1c"
   },
   "outputs": [],
   "source": [
    "#compile the model\n",
    "vgg_model.compile(loss = 'binary_crossentropy', optimizer = optim, metrics = ['accuracy'])"
   ]
  },
  {
   "cell_type": "code",
   "execution_count": 22,
   "metadata": {
    "_uuid": "81aca67136b4eb92293a4937c0a567ed62bcff1a"
   },
   "outputs": [
    {
     "name": "stdout",
     "output_type": "stream",
     "text": [
      "Epoch 1/500\n",
      "17500/17500 [==============================] - 6s 320us/step - loss: 0.1719 - acc: 0.9358\n",
      "Epoch 2/500\n",
      "17500/17500 [==============================] - 4s 203us/step - loss: 0.1074 - acc: 0.9611\n",
      "Epoch 3/500\n",
      "17500/17500 [==============================] - 4s 203us/step - loss: 0.0990 - acc: 0.9636\n",
      "Epoch 4/500\n",
      "17500/17500 [==============================] - 4s 203us/step - loss: 0.0892 - acc: 0.9658\n",
      "Epoch 5/500\n",
      "17500/17500 [==============================] - 4s 203us/step - loss: 0.0869 - acc: 0.9683\n",
      "Epoch 6/500\n",
      "17500/17500 [==============================] - 4s 203us/step - loss: 0.0828 - acc: 0.9701\n",
      "Epoch 7/500\n",
      "17500/17500 [==============================] - 4s 203us/step - loss: 0.0766 - acc: 0.9723\n",
      "Epoch 8/500\n",
      "17500/17500 [==============================] - 4s 201us/step - loss: 0.0802 - acc: 0.9686\n",
      "Epoch 9/500\n",
      "17500/17500 [==============================] - 4s 202us/step - loss: 0.0755 - acc: 0.9718\n",
      "Epoch 10/500\n",
      "17500/17500 [==============================] - 4s 202us/step - loss: 0.0752 - acc: 0.9714\n",
      "Epoch 11/500\n",
      "17500/17500 [==============================] - 4s 201us/step - loss: 0.0719 - acc: 0.9731\n",
      "Epoch 12/500\n",
      "17500/17500 [==============================] - 4s 202us/step - loss: 0.0718 - acc: 0.9762\n",
      "Epoch 13/500\n",
      "17500/17500 [==============================] - 4s 201us/step - loss: 0.0702 - acc: 0.9744\n",
      "Epoch 14/500\n",
      "17500/17500 [==============================] - 4s 203us/step - loss: 0.0694 - acc: 0.9745\n",
      "Epoch 15/500\n",
      "17500/17500 [==============================] - 4s 202us/step - loss: 0.0687 - acc: 0.9751\n",
      "Epoch 16/500\n",
      "17500/17500 [==============================] - 3s 200us/step - loss: 0.0699 - acc: 0.9752\n",
      "Epoch 17/500\n",
      "17500/17500 [==============================] - 4s 203us/step - loss: 0.0667 - acc: 0.9755\n",
      "Epoch 18/500\n",
      "17500/17500 [==============================] - 4s 203us/step - loss: 0.0639 - acc: 0.9765\n",
      "Epoch 19/500\n",
      "17500/17500 [==============================] - 4s 203us/step - loss: 0.0636 - acc: 0.9763\n",
      "Epoch 20/500\n",
      "17500/17500 [==============================] - 4s 202us/step - loss: 0.0661 - acc: 0.9759\n",
      "Epoch 21/500\n",
      "17500/17500 [==============================] - 4s 202us/step - loss: 0.0607 - acc: 0.9777\n",
      "Epoch 22/500\n",
      "17500/17500 [==============================] - 4s 201us/step - loss: 0.0627 - acc: 0.9763\n",
      "Epoch 23/500\n",
      "17500/17500 [==============================] - 4s 203us/step - loss: 0.0609 - acc: 0.9781\n",
      "Epoch 24/500\n",
      "17500/17500 [==============================] - 4s 205us/step - loss: 0.0618 - acc: 0.9776\n",
      "Epoch 25/500\n",
      "17500/17500 [==============================] - 4s 229us/step - loss: 0.0636 - acc: 0.9764\n",
      "Epoch 26/500\n",
      "17500/17500 [==============================] - 4s 229us/step - loss: 0.0623 - acc: 0.9777\n",
      "Epoch 27/500\n",
      "17500/17500 [==============================] - 4s 215us/step - loss: 0.0576 - acc: 0.9797\n",
      "Epoch 28/500\n",
      "17500/17500 [==============================] - 4s 202us/step - loss: 0.0604 - acc: 0.9779\n",
      "Epoch 29/500\n",
      "17500/17500 [==============================] - 4s 203us/step - loss: 0.0590 - acc: 0.9782\n",
      "Epoch 30/500\n",
      "17500/17500 [==============================] - 4s 201us/step - loss: 0.0600 - acc: 0.9779\n",
      "Epoch 31/500\n",
      "17500/17500 [==============================] - 4s 201us/step - loss: 0.0557 - acc: 0.9782\n",
      "Epoch 32/500\n",
      "17500/17500 [==============================] - 4s 201us/step - loss: 0.0586 - acc: 0.9778\n",
      "Epoch 33/500\n",
      "17500/17500 [==============================] - 4s 203us/step - loss: 0.0575 - acc: 0.9791\n",
      "Epoch 34/500\n",
      "17500/17500 [==============================] - 4s 203us/step - loss: 0.0586 - acc: 0.9777\n",
      "Epoch 35/500\n",
      "17500/17500 [==============================] - 4s 202us/step - loss: 0.0609 - acc: 0.9779\n",
      "Epoch 36/500\n",
      "17500/17500 [==============================] - 4s 203us/step - loss: 0.0544 - acc: 0.9805\n",
      "Epoch 37/500\n",
      "17500/17500 [==============================] - 4s 202us/step - loss: 0.0550 - acc: 0.9800\n",
      "Epoch 38/500\n",
      "17500/17500 [==============================] - 4s 202us/step - loss: 0.0560 - acc: 0.9797\n",
      "Epoch 39/500\n",
      "17500/17500 [==============================] - 4s 202us/step - loss: 0.0554 - acc: 0.9796\n",
      "Epoch 40/500\n",
      "17500/17500 [==============================] - 4s 204us/step - loss: 0.0581 - acc: 0.9791\n",
      "Epoch 41/500\n",
      "17500/17500 [==============================] - 4s 201us/step - loss: 0.0549 - acc: 0.9795\n",
      "Epoch 42/500\n",
      "17500/17500 [==============================] - 4s 203us/step - loss: 0.0544 - acc: 0.9799\n",
      "Epoch 43/500\n",
      "17500/17500 [==============================] - 4s 202us/step - loss: 0.0544 - acc: 0.9801\n",
      "Epoch 44/500\n",
      "17500/17500 [==============================] - 4s 201us/step - loss: 0.0534 - acc: 0.9803\n",
      "Epoch 45/500\n",
      "17500/17500 [==============================] - 4s 201us/step - loss: 0.0526 - acc: 0.9812\n",
      "Epoch 46/500\n",
      "17500/17500 [==============================] - 4s 203us/step - loss: 0.0547 - acc: 0.9801\n",
      "Epoch 47/500\n",
      "17500/17500 [==============================] - 4s 204us/step - loss: 0.0536 - acc: 0.9800\n",
      "Epoch 48/500\n",
      "17500/17500 [==============================] - 4s 202us/step - loss: 0.0492 - acc: 0.9817\n",
      "Epoch 49/500\n",
      "17500/17500 [==============================] - 4s 202us/step - loss: 0.0553 - acc: 0.9802\n",
      "Epoch 50/500\n",
      "17500/17500 [==============================] - 4s 202us/step - loss: 0.0502 - acc: 0.9820\n",
      "Epoch 51/500\n",
      "17500/17500 [==============================] - 4s 201us/step - loss: 0.0505 - acc: 0.9823\n",
      "Epoch 52/500\n",
      "17500/17500 [==============================] - 4s 203us/step - loss: 0.0534 - acc: 0.9801\n",
      "Epoch 53/500\n",
      "17500/17500 [==============================] - 4s 204us/step - loss: 0.0505 - acc: 0.9809\n",
      "Epoch 54/500\n",
      "17500/17500 [==============================] - 4s 202us/step - loss: 0.0460 - acc: 0.9831\n",
      "Epoch 55/500\n",
      "17500/17500 [==============================] - 4s 203us/step - loss: 0.0492 - acc: 0.9819\n",
      "Epoch 56/500\n",
      "17500/17500 [==============================] - 4s 201us/step - loss: 0.0481 - acc: 0.9826\n",
      "Epoch 57/500\n",
      "17500/17500 [==============================] - 4s 203us/step - loss: 0.0515 - acc: 0.9814\n",
      "Epoch 58/500\n",
      "17500/17500 [==============================] - 4s 201us/step - loss: 0.0495 - acc: 0.9816\n",
      "Epoch 59/500\n",
      "17500/17500 [==============================] - 4s 203us/step - loss: 0.0476 - acc: 0.9837\n",
      "Epoch 60/500\n",
      "17500/17500 [==============================] - 4s 203us/step - loss: 0.0483 - acc: 0.9821\n",
      "Epoch 61/500\n",
      "17500/17500 [==============================] - 4s 216us/step - loss: 0.0456 - acc: 0.9830\n",
      "Epoch 62/500\n",
      "17500/17500 [==============================] - 4s 227us/step - loss: 0.0472 - acc: 0.9829\n",
      "Epoch 63/500\n",
      "17500/17500 [==============================] - 4s 202us/step - loss: 0.0462 - acc: 0.9833\n",
      "Epoch 64/500\n",
      "17500/17500 [==============================] - 4s 202us/step - loss: 0.0496 - acc: 0.9828\n",
      "Epoch 65/500\n",
      "17500/17500 [==============================] - 4s 202us/step - loss: 0.0482 - acc: 0.9826\n",
      "Epoch 66/500\n",
      "17500/17500 [==============================] - 4s 202us/step - loss: 0.0477 - acc: 0.9828\n",
      "Epoch 67/500\n",
      "17500/17500 [==============================] - 4s 201us/step - loss: 0.0465 - acc: 0.9825\n",
      "Epoch 68/500\n",
      "17500/17500 [==============================] - 4s 203us/step - loss: 0.0481 - acc: 0.9827\n",
      "Epoch 69/500\n",
      "17500/17500 [==============================] - 4s 202us/step - loss: 0.0470 - acc: 0.9830\n",
      "Epoch 70/500\n",
      "17500/17500 [==============================] - 4s 202us/step - loss: 0.0469 - acc: 0.9833\n",
      "Epoch 71/500\n",
      "17500/17500 [==============================] - 4s 203us/step - loss: 0.0470 - acc: 0.9819\n",
      "Epoch 72/500\n",
      "17500/17500 [==============================] - 4s 203us/step - loss: 0.0471 - acc: 0.9829\n",
      "Epoch 73/500\n",
      "17500/17500 [==============================] - 4s 201us/step - loss: 0.0466 - acc: 0.9835\n",
      "Epoch 74/500\n",
      "17500/17500 [==============================] - 4s 202us/step - loss: 0.0461 - acc: 0.9838\n",
      "Epoch 75/500\n",
      "17500/17500 [==============================] - 4s 201us/step - loss: 0.0439 - acc: 0.9841\n",
      "Epoch 76/500\n",
      "17500/17500 [==============================] - 4s 203us/step - loss: 0.0462 - acc: 0.9830\n",
      "Epoch 77/500\n",
      "17500/17500 [==============================] - 4s 203us/step - loss: 0.0465 - acc: 0.9831\n",
      "Epoch 78/500\n",
      "17500/17500 [==============================] - 4s 201us/step - loss: 0.0452 - acc: 0.9832\n",
      "Epoch 79/500\n",
      "17500/17500 [==============================] - 4s 205us/step - loss: 0.0452 - acc: 0.9829\n",
      "Epoch 80/500\n",
      "17500/17500 [==============================] - 4s 204us/step - loss: 0.0444 - acc: 0.9835\n",
      "Epoch 81/500\n",
      "17500/17500 [==============================] - 4s 201us/step - loss: 0.0463 - acc: 0.9823\n",
      "Epoch 82/500\n",
      "17500/17500 [==============================] - 4s 203us/step - loss: 0.0461 - acc: 0.9829\n",
      "Epoch 83/500\n",
      "17500/17500 [==============================] - 4s 201us/step - loss: 0.0436 - acc: 0.9845\n",
      "Epoch 84/500\n",
      "17500/17500 [==============================] - 4s 202us/step - loss: 0.0468 - acc: 0.9837\n",
      "Epoch 85/500\n",
      "17500/17500 [==============================] - 4s 203us/step - loss: 0.0405 - acc: 0.9850\n",
      "Epoch 86/500\n",
      "17500/17500 [==============================] - 4s 201us/step - loss: 0.0416 - acc: 0.9845\n",
      "Epoch 87/500\n",
      "17500/17500 [==============================] - 4s 202us/step - loss: 0.0419 - acc: 0.9842\n",
      "Epoch 88/500\n",
      "17500/17500 [==============================] - 4s 202us/step - loss: 0.0439 - acc: 0.9841\n",
      "Epoch 89/500\n",
      "17500/17500 [==============================] - 4s 200us/step - loss: 0.0393 - acc: 0.9858\n",
      "Epoch 90/500\n",
      "17500/17500 [==============================] - 4s 202us/step - loss: 0.0440 - acc: 0.9853\n",
      "Epoch 91/500\n",
      "17500/17500 [==============================] - 4s 203us/step - loss: 0.0428 - acc: 0.9847\n",
      "Epoch 92/500\n",
      "17500/17500 [==============================] - 4s 202us/step - loss: 0.0451 - acc: 0.9838\n",
      "Epoch 93/500\n",
      "17500/17500 [==============================] - 4s 202us/step - loss: 0.0410 - acc: 0.9849\n",
      "Epoch 94/500\n",
      "17500/17500 [==============================] - 4s 202us/step - loss: 0.0419 - acc: 0.9846\n",
      "Epoch 95/500\n",
      "17500/17500 [==============================] - 4s 203us/step - loss: 0.0427 - acc: 0.9847\n",
      "Epoch 96/500\n",
      "17500/17500 [==============================] - 4s 203us/step - loss: 0.0394 - acc: 0.9855\n",
      "Epoch 97/500\n",
      "17500/17500 [==============================] - 4s 202us/step - loss: 0.0419 - acc: 0.9844\n",
      "Epoch 98/500\n",
      "17500/17500 [==============================] - 4s 202us/step - loss: 0.0412 - acc: 0.9850\n",
      "Epoch 99/500\n",
      "17500/17500 [==============================] - 4s 202us/step - loss: 0.0390 - acc: 0.9859\n",
      "Epoch 100/500\n",
      "17500/17500 [==============================] - 4s 201us/step - loss: 0.0442 - acc: 0.9843\n",
      "Epoch 101/500\n",
      "17500/17500 [==============================] - 4s 203us/step - loss: 0.0414 - acc: 0.9853\n",
      "Epoch 102/500\n",
      "17500/17500 [==============================] - 4s 204us/step - loss: 0.0414 - acc: 0.9844\n",
      "Epoch 103/500\n",
      "17500/17500 [==============================] - 4s 203us/step - loss: 0.0390 - acc: 0.9864\n",
      "Epoch 104/500\n",
      "17500/17500 [==============================] - 4s 204us/step - loss: 0.0426 - acc: 0.9846\n",
      "Epoch 105/500\n",
      "17500/17500 [==============================] - 4s 203us/step - loss: 0.0394 - acc: 0.9859\n",
      "Epoch 106/500\n",
      "17500/17500 [==============================] - 4s 202us/step - loss: 0.0399 - acc: 0.9861\n",
      "Epoch 107/500\n",
      "17500/17500 [==============================] - 4s 202us/step - loss: 0.0398 - acc: 0.9857\n",
      "Epoch 108/500\n",
      "17500/17500 [==============================] - 4s 203us/step - loss: 0.0426 - acc: 0.9851\n",
      "Epoch 109/500\n",
      "17500/17500 [==============================] - 4s 203us/step - loss: 0.0407 - acc: 0.9852\n",
      "Epoch 110/500\n",
      "17500/17500 [==============================] - 4s 203us/step - loss: 0.0421 - acc: 0.9847\n",
      "Epoch 111/500\n",
      "17500/17500 [==============================] - 4s 204us/step - loss: 0.0386 - acc: 0.9860\n",
      "Epoch 112/500\n",
      "17500/17500 [==============================] - 4s 227us/step - loss: 0.0422 - acc: 0.9847\n",
      "Epoch 113/500\n",
      "17500/17500 [==============================] - 4s 230us/step - loss: 0.0382 - acc: 0.9863\n",
      "Epoch 114/500\n",
      "17500/17500 [==============================] - 4s 219us/step - loss: 0.0386 - acc: 0.9865\n",
      "Epoch 115/500\n",
      "17500/17500 [==============================] - 4s 203us/step - loss: 0.0391 - acc: 0.9857\n",
      "Epoch 116/500\n",
      "17500/17500 [==============================] - 4s 202us/step - loss: 0.0406 - acc: 0.9843\n",
      "Epoch 117/500\n",
      "17500/17500 [==============================] - 4s 200us/step - loss: 0.0376 - acc: 0.9864\n",
      "Epoch 118/500\n",
      "17500/17500 [==============================] - 4s 202us/step - loss: 0.0397 - acc: 0.9853\n",
      "Epoch 119/500\n",
      "17500/17500 [==============================] - 4s 202us/step - loss: 0.0394 - acc: 0.9861\n",
      "Epoch 120/500\n",
      "17500/17500 [==============================] - 4s 201us/step - loss: 0.0365 - acc: 0.9866\n",
      "Epoch 121/500\n",
      "17500/17500 [==============================] - 4s 202us/step - loss: 0.0391 - acc: 0.9855\n",
      "Epoch 122/500\n",
      "17500/17500 [==============================] - 4s 202us/step - loss: 0.0383 - acc: 0.9861\n",
      "Epoch 123/500\n",
      "17500/17500 [==============================] - 4s 202us/step - loss: 0.0360 - acc: 0.9874\n",
      "Epoch 124/500\n",
      "17500/17500 [==============================] - 4s 201us/step - loss: 0.0357 - acc: 0.9869\n",
      "Epoch 125/500\n",
      "17500/17500 [==============================] - 4s 202us/step - loss: 0.0376 - acc: 0.9862\n",
      "Epoch 126/500\n",
      "17500/17500 [==============================] - 4s 201us/step - loss: 0.0389 - acc: 0.9855\n",
      "Epoch 127/500\n",
      "17500/17500 [==============================] - 4s 202us/step - loss: 0.0405 - acc: 0.9852\n",
      "Epoch 128/500\n",
      "17500/17500 [==============================] - 4s 203us/step - loss: 0.0370 - acc: 0.9861\n",
      "Epoch 129/500\n",
      "17500/17500 [==============================] - 4s 202us/step - loss: 0.0378 - acc: 0.9867\n",
      "Epoch 130/500\n",
      "17500/17500 [==============================] - 4s 203us/step - loss: 0.0367 - acc: 0.9861\n",
      "Epoch 131/500\n",
      "17500/17500 [==============================] - 4s 202us/step - loss: 0.0375 - acc: 0.9861\n",
      "Epoch 132/500\n",
      "17500/17500 [==============================] - 4s 201us/step - loss: 0.0376 - acc: 0.9860\n",
      "Epoch 133/500\n",
      "17500/17500 [==============================] - 4s 202us/step - loss: 0.0380 - acc: 0.9867\n",
      "Epoch 134/500\n",
      "17500/17500 [==============================] - 3s 200us/step - loss: 0.0394 - acc: 0.9866\n",
      "Epoch 135/500\n",
      "17500/17500 [==============================] - 4s 201us/step - loss: 0.0371 - acc: 0.9875\n",
      "Epoch 136/500\n",
      "17500/17500 [==============================] - 4s 204us/step - loss: 0.0399 - acc: 0.9859\n",
      "Epoch 137/500\n",
      "17500/17500 [==============================] - 4s 203us/step - loss: 0.0377 - acc: 0.9874\n",
      "Epoch 138/500\n",
      "17500/17500 [==============================] - 4s 202us/step - loss: 0.0368 - acc: 0.9874\n",
      "Epoch 139/500\n",
      "17500/17500 [==============================] - 4s 202us/step - loss: 0.0400 - acc: 0.9851\n",
      "Epoch 140/500\n",
      "17500/17500 [==============================] - 4s 201us/step - loss: 0.0395 - acc: 0.9854\n",
      "Epoch 141/500\n",
      "17500/17500 [==============================] - 4s 203us/step - loss: 0.0366 - acc: 0.9869\n",
      "Epoch 142/500\n",
      "17500/17500 [==============================] - 4s 202us/step - loss: 0.0375 - acc: 0.9871\n",
      "Epoch 143/500\n",
      "17500/17500 [==============================] - 4s 202us/step - loss: 0.0354 - acc: 0.9881\n",
      "Epoch 144/500\n",
      "17500/17500 [==============================] - 4s 202us/step - loss: 0.0367 - acc: 0.9861\n",
      "Epoch 145/500\n",
      "17500/17500 [==============================] - 4s 202us/step - loss: 0.0380 - acc: 0.9864\n",
      "Epoch 146/500\n",
      "17500/17500 [==============================] - 4s 202us/step - loss: 0.0352 - acc: 0.9876\n",
      "Epoch 147/500\n",
      "17500/17500 [==============================] - 4s 221us/step - loss: 0.0343 - acc: 0.9874\n",
      "Epoch 148/500\n",
      "17500/17500 [==============================] - 4s 219us/step - loss: 0.0351 - acc: 0.9873\n",
      "Epoch 149/500\n",
      "17500/17500 [==============================] - 4s 201us/step - loss: 0.0364 - acc: 0.9863\n",
      "Epoch 150/500\n",
      "17500/17500 [==============================] - 4s 202us/step - loss: 0.0376 - acc: 0.9870\n",
      "Epoch 151/500\n",
      "17500/17500 [==============================] - 4s 201us/step - loss: 0.0385 - acc: 0.9869\n",
      "Epoch 152/500\n",
      "17500/17500 [==============================] - 4s 202us/step - loss: 0.0342 - acc: 0.9883\n",
      "Epoch 153/500\n",
      "17500/17500 [==============================] - 4s 203us/step - loss: 0.0355 - acc: 0.9867\n",
      "Epoch 154/500\n",
      "17500/17500 [==============================] - 4s 202us/step - loss: 0.0338 - acc: 0.9874\n",
      "Epoch 155/500\n",
      "17500/17500 [==============================] - 4s 201us/step - loss: 0.0360 - acc: 0.9868\n",
      "Epoch 156/500\n",
      "17500/17500 [==============================] - 4s 202us/step - loss: 0.0329 - acc: 0.9874\n",
      "Epoch 157/500\n",
      "17500/17500 [==============================] - 4s 202us/step - loss: 0.0383 - acc: 0.9856\n",
      "Epoch 158/500\n",
      "17500/17500 [==============================] - 4s 202us/step - loss: 0.0362 - acc: 0.9872\n",
      "Epoch 159/500\n",
      "17500/17500 [==============================] - 4s 201us/step - loss: 0.0361 - acc: 0.9862\n",
      "Epoch 160/500\n",
      "17500/17500 [==============================] - 4s 201us/step - loss: 0.0361 - acc: 0.9866\n",
      "Epoch 161/500\n",
      "17500/17500 [==============================] - 4s 202us/step - loss: 0.0342 - acc: 0.9875\n",
      "Epoch 162/500\n",
      "17500/17500 [==============================] - 4s 201us/step - loss: 0.0348 - acc: 0.9873\n",
      "Epoch 163/500\n",
      "17500/17500 [==============================] - 4s 202us/step - loss: 0.0350 - acc: 0.9871\n",
      "Epoch 164/500\n",
      "17500/17500 [==============================] - 4s 206us/step - loss: 0.0364 - acc: 0.9859\n",
      "Epoch 165/500\n",
      "17500/17500 [==============================] - 4s 205us/step - loss: 0.0317 - acc: 0.9881\n",
      "Epoch 166/500\n",
      "17500/17500 [==============================] - 3s 200us/step - loss: 0.0355 - acc: 0.9872\n",
      "Epoch 167/500\n",
      "17500/17500 [==============================] - 4s 203us/step - loss: 0.0406 - acc: 0.9864\n",
      "Epoch 168/500\n",
      "17500/17500 [==============================] - 4s 202us/step - loss: 0.0364 - acc: 0.9866\n",
      "Epoch 169/500\n",
      "17500/17500 [==============================] - 4s 202us/step - loss: 0.0352 - acc: 0.9879\n",
      "Epoch 170/500\n",
      "17500/17500 [==============================] - 4s 202us/step - loss: 0.0366 - acc: 0.9869\n",
      "Epoch 171/500\n",
      "17500/17500 [==============================] - 4s 203us/step - loss: 0.0362 - acc: 0.9872\n",
      "Epoch 172/500\n",
      "17500/17500 [==============================] - 4s 201us/step - loss: 0.0359 - acc: 0.9866\n",
      "Epoch 173/500\n",
      "17500/17500 [==============================] - 4s 202us/step - loss: 0.0345 - acc: 0.9869\n",
      "Epoch 174/500\n",
      "17500/17500 [==============================] - 4s 201us/step - loss: 0.0364 - acc: 0.9877\n",
      "Epoch 175/500\n",
      "17500/17500 [==============================] - 4s 202us/step - loss: 0.0339 - acc: 0.9875\n",
      "Epoch 176/500\n",
      "17500/17500 [==============================] - 4s 201us/step - loss: 0.0356 - acc: 0.9871\n",
      "Epoch 177/500\n",
      "17500/17500 [==============================] - 4s 201us/step - loss: 0.0323 - acc: 0.9886\n",
      "Epoch 178/500\n",
      "17500/17500 [==============================] - 4s 202us/step - loss: 0.0336 - acc: 0.9882\n",
      "Epoch 179/500\n",
      "17500/17500 [==============================] - 4s 202us/step - loss: 0.0336 - acc: 0.9886\n",
      "Epoch 180/500\n",
      " 4928/17500 [=======>......................] - ETA: 2s - loss: 0.0328 - acc: 0.9874"
     ]
    }
   ],
   "source": [
    "#fit the model on our data\n",
    "vgg_history = vgg_model.fit(X, y,\n",
    "                            batch_size = 64,\n",
    "                            epochs = 500,\n",
    "                            verbose = 1) "
   ]
  },
  {
   "cell_type": "code",
   "execution_count": 23,
   "metadata": {
    "_uuid": "7388a94a2f5a8dc2e89eea4ac4f0b91971016cd2"
   },
   "outputs": [],
   "source": [
    "#making predictions on test dat\n",
    "predictions_vgg = vgg_model.predict(X_test)"
   ]
  },
  {
   "cell_type": "code",
   "execution_count": 24,
   "metadata": {
    "_uuid": "882c13e695514726859076845bd02ce128b82fbb"
   },
   "outputs": [
    {
     "data": {
      "text/plain": [
       "(4000, 1)"
      ]
     },
     "execution_count": 24,
     "metadata": {},
     "output_type": "execute_result"
    }
   ],
   "source": [
    "predictions_vgg.shape"
   ]
  },
  {
   "cell_type": "markdown",
   "metadata": {
    "_uuid": "e97a73a092dbd98892c2e7d80112326e419ecf06"
   },
   "source": [
    "## RESNET50"
   ]
  },
  {
   "cell_type": "code",
   "execution_count": 25,
   "metadata": {
    "_uuid": "953f5af3fea4a6eb453e71531af0b98fb5281ce1"
   },
   "outputs": [],
   "source": [
    "from keras.applications.resnet50 import ResNet50"
   ]
  },
  {
   "cell_type": "code",
   "execution_count": 26,
   "metadata": {
    "_kg_hide-output": true,
    "_uuid": "0fc9ffe7f7e0e3c9787c338c29b24e623df87e77"
   },
   "outputs": [
    {
     "name": "stderr",
     "output_type": "stream",
     "text": [
      "/opt/conda/lib/python3.6/site-packages/keras_applications/resnet50.py:265: UserWarning: The output shape of `ResNet50(include_top=False)` has been changed since Keras 2.2.0.\n",
      "  warnings.warn('The output shape of `ResNet50(include_top=False)` '\n"
     ]
    },
    {
     "name": "stdout",
     "output_type": "stream",
     "text": [
      "Downloading data from https://github.com/fchollet/deep-learning-models/releases/download/v0.2/resnet50_weights_tf_dim_ordering_tf_kernels_notop.h5\n",
      "94658560/94653016 [==============================] - 1s 0us/step\n",
      "__________________________________________________________________________________________________\n",
      "Layer (type)                    Output Shape         Param #     Connected to                     \n",
      "==================================================================================================\n",
      "input_2 (InputLayer)            (None, 32, 32, 3)    0                                            \n",
      "__________________________________________________________________________________________________\n",
      "conv1_pad (ZeroPadding2D)       (None, 38, 38, 3)    0           input_2[0][0]                    \n",
      "__________________________________________________________________________________________________\n",
      "conv1 (Conv2D)                  (None, 16, 16, 64)   9472        conv1_pad[0][0]                  \n",
      "__________________________________________________________________________________________________\n",
      "bn_conv1 (BatchNormalization)   (None, 16, 16, 64)   256         conv1[0][0]                      \n",
      "__________________________________________________________________________________________________\n",
      "activation_31 (Activation)      (None, 16, 16, 64)   0           bn_conv1[0][0]                   \n",
      "__________________________________________________________________________________________________\n",
      "pool1_pad (ZeroPadding2D)       (None, 18, 18, 64)   0           activation_31[0][0]              \n",
      "__________________________________________________________________________________________________\n",
      "max_pooling2d_16 (MaxPooling2D) (None, 8, 8, 64)     0           pool1_pad[0][0]                  \n",
      "__________________________________________________________________________________________________\n",
      "res2a_branch2a (Conv2D)         (None, 8, 8, 64)     4160        max_pooling2d_16[0][0]           \n",
      "__________________________________________________________________________________________________\n",
      "bn2a_branch2a (BatchNormalizati (None, 8, 8, 64)     256         res2a_branch2a[0][0]             \n",
      "__________________________________________________________________________________________________\n",
      "activation_32 (Activation)      (None, 8, 8, 64)     0           bn2a_branch2a[0][0]              \n",
      "__________________________________________________________________________________________________\n",
      "res2a_branch2b (Conv2D)         (None, 8, 8, 64)     36928       activation_32[0][0]              \n",
      "__________________________________________________________________________________________________\n",
      "bn2a_branch2b (BatchNormalizati (None, 8, 8, 64)     256         res2a_branch2b[0][0]             \n",
      "__________________________________________________________________________________________________\n",
      "activation_33 (Activation)      (None, 8, 8, 64)     0           bn2a_branch2b[0][0]              \n",
      "__________________________________________________________________________________________________\n",
      "res2a_branch2c (Conv2D)         (None, 8, 8, 256)    16640       activation_33[0][0]              \n",
      "__________________________________________________________________________________________________\n",
      "res2a_branch1 (Conv2D)          (None, 8, 8, 256)    16640       max_pooling2d_16[0][0]           \n",
      "__________________________________________________________________________________________________\n",
      "bn2a_branch2c (BatchNormalizati (None, 8, 8, 256)    1024        res2a_branch2c[0][0]             \n",
      "__________________________________________________________________________________________________\n",
      "bn2a_branch1 (BatchNormalizatio (None, 8, 8, 256)    1024        res2a_branch1[0][0]              \n",
      "__________________________________________________________________________________________________\n",
      "add_1 (Add)                     (None, 8, 8, 256)    0           bn2a_branch2c[0][0]              \n",
      "                                                                 bn2a_branch1[0][0]               \n",
      "__________________________________________________________________________________________________\n",
      "activation_34 (Activation)      (None, 8, 8, 256)    0           add_1[0][0]                      \n",
      "__________________________________________________________________________________________________\n",
      "res2b_branch2a (Conv2D)         (None, 8, 8, 64)     16448       activation_34[0][0]              \n",
      "__________________________________________________________________________________________________\n",
      "bn2b_branch2a (BatchNormalizati (None, 8, 8, 64)     256         res2b_branch2a[0][0]             \n",
      "__________________________________________________________________________________________________\n",
      "activation_35 (Activation)      (None, 8, 8, 64)     0           bn2b_branch2a[0][0]              \n",
      "__________________________________________________________________________________________________\n",
      "res2b_branch2b (Conv2D)         (None, 8, 8, 64)     36928       activation_35[0][0]              \n",
      "__________________________________________________________________________________________________\n",
      "bn2b_branch2b (BatchNormalizati (None, 8, 8, 64)     256         res2b_branch2b[0][0]             \n",
      "__________________________________________________________________________________________________\n",
      "activation_36 (Activation)      (None, 8, 8, 64)     0           bn2b_branch2b[0][0]              \n",
      "__________________________________________________________________________________________________\n",
      "res2b_branch2c (Conv2D)         (None, 8, 8, 256)    16640       activation_36[0][0]              \n",
      "__________________________________________________________________________________________________\n",
      "bn2b_branch2c (BatchNormalizati (None, 8, 8, 256)    1024        res2b_branch2c[0][0]             \n",
      "__________________________________________________________________________________________________\n",
      "add_2 (Add)                     (None, 8, 8, 256)    0           bn2b_branch2c[0][0]              \n",
      "                                                                 activation_34[0][0]              \n",
      "__________________________________________________________________________________________________\n",
      "activation_37 (Activation)      (None, 8, 8, 256)    0           add_2[0][0]                      \n",
      "__________________________________________________________________________________________________\n",
      "res2c_branch2a (Conv2D)         (None, 8, 8, 64)     16448       activation_37[0][0]              \n",
      "__________________________________________________________________________________________________\n",
      "bn2c_branch2a (BatchNormalizati (None, 8, 8, 64)     256         res2c_branch2a[0][0]             \n",
      "__________________________________________________________________________________________________\n",
      "activation_38 (Activation)      (None, 8, 8, 64)     0           bn2c_branch2a[0][0]              \n",
      "__________________________________________________________________________________________________\n",
      "res2c_branch2b (Conv2D)         (None, 8, 8, 64)     36928       activation_38[0][0]              \n",
      "__________________________________________________________________________________________________\n",
      "bn2c_branch2b (BatchNormalizati (None, 8, 8, 64)     256         res2c_branch2b[0][0]             \n",
      "__________________________________________________________________________________________________\n",
      "activation_39 (Activation)      (None, 8, 8, 64)     0           bn2c_branch2b[0][0]              \n",
      "__________________________________________________________________________________________________\n",
      "res2c_branch2c (Conv2D)         (None, 8, 8, 256)    16640       activation_39[0][0]              \n",
      "__________________________________________________________________________________________________\n",
      "bn2c_branch2c (BatchNormalizati (None, 8, 8, 256)    1024        res2c_branch2c[0][0]             \n",
      "__________________________________________________________________________________________________\n",
      "add_3 (Add)                     (None, 8, 8, 256)    0           bn2c_branch2c[0][0]              \n",
      "                                                                 activation_37[0][0]              \n",
      "__________________________________________________________________________________________________\n",
      "activation_40 (Activation)      (None, 8, 8, 256)    0           add_3[0][0]                      \n",
      "__________________________________________________________________________________________________\n",
      "res3a_branch2a (Conv2D)         (None, 4, 4, 128)    32896       activation_40[0][0]              \n",
      "__________________________________________________________________________________________________\n",
      "bn3a_branch2a (BatchNormalizati (None, 4, 4, 128)    512         res3a_branch2a[0][0]             \n",
      "__________________________________________________________________________________________________\n",
      "activation_41 (Activation)      (None, 4, 4, 128)    0           bn3a_branch2a[0][0]              \n",
      "__________________________________________________________________________________________________\n",
      "res3a_branch2b (Conv2D)         (None, 4, 4, 128)    147584      activation_41[0][0]              \n",
      "__________________________________________________________________________________________________\n",
      "bn3a_branch2b (BatchNormalizati (None, 4, 4, 128)    512         res3a_branch2b[0][0]             \n",
      "__________________________________________________________________________________________________\n",
      "activation_42 (Activation)      (None, 4, 4, 128)    0           bn3a_branch2b[0][0]              \n",
      "__________________________________________________________________________________________________\n",
      "res3a_branch2c (Conv2D)         (None, 4, 4, 512)    66048       activation_42[0][0]              \n",
      "__________________________________________________________________________________________________\n",
      "res3a_branch1 (Conv2D)          (None, 4, 4, 512)    131584      activation_40[0][0]              \n",
      "__________________________________________________________________________________________________\n",
      "bn3a_branch2c (BatchNormalizati (None, 4, 4, 512)    2048        res3a_branch2c[0][0]             \n",
      "__________________________________________________________________________________________________\n",
      "bn3a_branch1 (BatchNormalizatio (None, 4, 4, 512)    2048        res3a_branch1[0][0]              \n",
      "__________________________________________________________________________________________________\n",
      "add_4 (Add)                     (None, 4, 4, 512)    0           bn3a_branch2c[0][0]              \n",
      "                                                                 bn3a_branch1[0][0]               \n",
      "__________________________________________________________________________________________________\n",
      "activation_43 (Activation)      (None, 4, 4, 512)    0           add_4[0][0]                      \n",
      "__________________________________________________________________________________________________\n",
      "res3b_branch2a (Conv2D)         (None, 4, 4, 128)    65664       activation_43[0][0]              \n",
      "__________________________________________________________________________________________________\n",
      "bn3b_branch2a (BatchNormalizati (None, 4, 4, 128)    512         res3b_branch2a[0][0]             \n",
      "__________________________________________________________________________________________________\n",
      "activation_44 (Activation)      (None, 4, 4, 128)    0           bn3b_branch2a[0][0]              \n",
      "__________________________________________________________________________________________________\n",
      "res3b_branch2b (Conv2D)         (None, 4, 4, 128)    147584      activation_44[0][0]              \n",
      "__________________________________________________________________________________________________\n",
      "bn3b_branch2b (BatchNormalizati (None, 4, 4, 128)    512         res3b_branch2b[0][0]             \n",
      "__________________________________________________________________________________________________\n",
      "activation_45 (Activation)      (None, 4, 4, 128)    0           bn3b_branch2b[0][0]              \n",
      "__________________________________________________________________________________________________\n",
      "res3b_branch2c (Conv2D)         (None, 4, 4, 512)    66048       activation_45[0][0]              \n",
      "__________________________________________________________________________________________________\n",
      "bn3b_branch2c (BatchNormalizati (None, 4, 4, 512)    2048        res3b_branch2c[0][0]             \n",
      "__________________________________________________________________________________________________\n",
      "add_5 (Add)                     (None, 4, 4, 512)    0           bn3b_branch2c[0][0]              \n",
      "                                                                 activation_43[0][0]              \n",
      "__________________________________________________________________________________________________\n",
      "activation_46 (Activation)      (None, 4, 4, 512)    0           add_5[0][0]                      \n",
      "__________________________________________________________________________________________________\n",
      "res3c_branch2a (Conv2D)         (None, 4, 4, 128)    65664       activation_46[0][0]              \n",
      "__________________________________________________________________________________________________\n",
      "bn3c_branch2a (BatchNormalizati (None, 4, 4, 128)    512         res3c_branch2a[0][0]             \n",
      "__________________________________________________________________________________________________\n",
      "activation_47 (Activation)      (None, 4, 4, 128)    0           bn3c_branch2a[0][0]              \n",
      "__________________________________________________________________________________________________\n",
      "res3c_branch2b (Conv2D)         (None, 4, 4, 128)    147584      activation_47[0][0]              \n",
      "__________________________________________________________________________________________________\n",
      "bn3c_branch2b (BatchNormalizati (None, 4, 4, 128)    512         res3c_branch2b[0][0]             \n",
      "__________________________________________________________________________________________________\n",
      "activation_48 (Activation)      (None, 4, 4, 128)    0           bn3c_branch2b[0][0]              \n",
      "__________________________________________________________________________________________________\n",
      "res3c_branch2c (Conv2D)         (None, 4, 4, 512)    66048       activation_48[0][0]              \n",
      "__________________________________________________________________________________________________\n",
      "bn3c_branch2c (BatchNormalizati (None, 4, 4, 512)    2048        res3c_branch2c[0][0]             \n",
      "__________________________________________________________________________________________________\n",
      "add_6 (Add)                     (None, 4, 4, 512)    0           bn3c_branch2c[0][0]              \n",
      "                                                                 activation_46[0][0]              \n",
      "__________________________________________________________________________________________________\n",
      "activation_49 (Activation)      (None, 4, 4, 512)    0           add_6[0][0]                      \n",
      "__________________________________________________________________________________________________\n",
      "res3d_branch2a (Conv2D)         (None, 4, 4, 128)    65664       activation_49[0][0]              \n",
      "__________________________________________________________________________________________________\n",
      "bn3d_branch2a (BatchNormalizati (None, 4, 4, 128)    512         res3d_branch2a[0][0]             \n",
      "__________________________________________________________________________________________________\n",
      "activation_50 (Activation)      (None, 4, 4, 128)    0           bn3d_branch2a[0][0]              \n",
      "__________________________________________________________________________________________________\n",
      "res3d_branch2b (Conv2D)         (None, 4, 4, 128)    147584      activation_50[0][0]              \n",
      "__________________________________________________________________________________________________\n",
      "bn3d_branch2b (BatchNormalizati (None, 4, 4, 128)    512         res3d_branch2b[0][0]             \n",
      "__________________________________________________________________________________________________\n",
      "activation_51 (Activation)      (None, 4, 4, 128)    0           bn3d_branch2b[0][0]              \n",
      "__________________________________________________________________________________________________\n",
      "res3d_branch2c (Conv2D)         (None, 4, 4, 512)    66048       activation_51[0][0]              \n",
      "__________________________________________________________________________________________________\n",
      "bn3d_branch2c (BatchNormalizati (None, 4, 4, 512)    2048        res3d_branch2c[0][0]             \n",
      "__________________________________________________________________________________________________\n",
      "add_7 (Add)                     (None, 4, 4, 512)    0           bn3d_branch2c[0][0]              \n",
      "                                                                 activation_49[0][0]              \n",
      "__________________________________________________________________________________________________\n",
      "activation_52 (Activation)      (None, 4, 4, 512)    0           add_7[0][0]                      \n",
      "__________________________________________________________________________________________________\n",
      "res4a_branch2a (Conv2D)         (None, 2, 2, 256)    131328      activation_52[0][0]              \n",
      "__________________________________________________________________________________________________\n",
      "bn4a_branch2a (BatchNormalizati (None, 2, 2, 256)    1024        res4a_branch2a[0][0]             \n",
      "__________________________________________________________________________________________________\n",
      "activation_53 (Activation)      (None, 2, 2, 256)    0           bn4a_branch2a[0][0]              \n",
      "__________________________________________________________________________________________________\n",
      "res4a_branch2b (Conv2D)         (None, 2, 2, 256)    590080      activation_53[0][0]              \n",
      "__________________________________________________________________________________________________\n",
      "bn4a_branch2b (BatchNormalizati (None, 2, 2, 256)    1024        res4a_branch2b[0][0]             \n",
      "__________________________________________________________________________________________________\n",
      "activation_54 (Activation)      (None, 2, 2, 256)    0           bn4a_branch2b[0][0]              \n",
      "__________________________________________________________________________________________________\n",
      "res4a_branch2c (Conv2D)         (None, 2, 2, 1024)   263168      activation_54[0][0]              \n",
      "__________________________________________________________________________________________________\n",
      "res4a_branch1 (Conv2D)          (None, 2, 2, 1024)   525312      activation_52[0][0]              \n",
      "__________________________________________________________________________________________________\n",
      "bn4a_branch2c (BatchNormalizati (None, 2, 2, 1024)   4096        res4a_branch2c[0][0]             \n",
      "__________________________________________________________________________________________________\n",
      "bn4a_branch1 (BatchNormalizatio (None, 2, 2, 1024)   4096        res4a_branch1[0][0]              \n",
      "__________________________________________________________________________________________________\n",
      "add_8 (Add)                     (None, 2, 2, 1024)   0           bn4a_branch2c[0][0]              \n",
      "                                                                 bn4a_branch1[0][0]               \n",
      "__________________________________________________________________________________________________\n",
      "activation_55 (Activation)      (None, 2, 2, 1024)   0           add_8[0][0]                      \n",
      "__________________________________________________________________________________________________\n",
      "res4b_branch2a (Conv2D)         (None, 2, 2, 256)    262400      activation_55[0][0]              \n",
      "__________________________________________________________________________________________________\n",
      "bn4b_branch2a (BatchNormalizati (None, 2, 2, 256)    1024        res4b_branch2a[0][0]             \n",
      "__________________________________________________________________________________________________\n",
      "activation_56 (Activation)      (None, 2, 2, 256)    0           bn4b_branch2a[0][0]              \n",
      "__________________________________________________________________________________________________\n",
      "res4b_branch2b (Conv2D)         (None, 2, 2, 256)    590080      activation_56[0][0]              \n",
      "__________________________________________________________________________________________________\n",
      "bn4b_branch2b (BatchNormalizati (None, 2, 2, 256)    1024        res4b_branch2b[0][0]             \n",
      "__________________________________________________________________________________________________\n",
      "activation_57 (Activation)      (None, 2, 2, 256)    0           bn4b_branch2b[0][0]              \n",
      "__________________________________________________________________________________________________\n",
      "res4b_branch2c (Conv2D)         (None, 2, 2, 1024)   263168      activation_57[0][0]              \n",
      "__________________________________________________________________________________________________\n",
      "bn4b_branch2c (BatchNormalizati (None, 2, 2, 1024)   4096        res4b_branch2c[0][0]             \n",
      "__________________________________________________________________________________________________\n",
      "add_9 (Add)                     (None, 2, 2, 1024)   0           bn4b_branch2c[0][0]              \n",
      "                                                                 activation_55[0][0]              \n",
      "__________________________________________________________________________________________________\n",
      "activation_58 (Activation)      (None, 2, 2, 1024)   0           add_9[0][0]                      \n",
      "__________________________________________________________________________________________________\n",
      "res4c_branch2a (Conv2D)         (None, 2, 2, 256)    262400      activation_58[0][0]              \n",
      "__________________________________________________________________________________________________\n",
      "bn4c_branch2a (BatchNormalizati (None, 2, 2, 256)    1024        res4c_branch2a[0][0]             \n",
      "__________________________________________________________________________________________________\n",
      "activation_59 (Activation)      (None, 2, 2, 256)    0           bn4c_branch2a[0][0]              \n",
      "__________________________________________________________________________________________________\n",
      "res4c_branch2b (Conv2D)         (None, 2, 2, 256)    590080      activation_59[0][0]              \n",
      "__________________________________________________________________________________________________\n",
      "bn4c_branch2b (BatchNormalizati (None, 2, 2, 256)    1024        res4c_branch2b[0][0]             \n",
      "__________________________________________________________________________________________________\n",
      "activation_60 (Activation)      (None, 2, 2, 256)    0           bn4c_branch2b[0][0]              \n",
      "__________________________________________________________________________________________________\n",
      "res4c_branch2c (Conv2D)         (None, 2, 2, 1024)   263168      activation_60[0][0]              \n",
      "__________________________________________________________________________________________________\n",
      "bn4c_branch2c (BatchNormalizati (None, 2, 2, 1024)   4096        res4c_branch2c[0][0]             \n",
      "__________________________________________________________________________________________________\n",
      "add_10 (Add)                    (None, 2, 2, 1024)   0           bn4c_branch2c[0][0]              \n",
      "                                                                 activation_58[0][0]              \n",
      "__________________________________________________________________________________________________\n",
      "activation_61 (Activation)      (None, 2, 2, 1024)   0           add_10[0][0]                     \n",
      "__________________________________________________________________________________________________\n",
      "res4d_branch2a (Conv2D)         (None, 2, 2, 256)    262400      activation_61[0][0]              \n",
      "__________________________________________________________________________________________________\n",
      "bn4d_branch2a (BatchNormalizati (None, 2, 2, 256)    1024        res4d_branch2a[0][0]             \n",
      "__________________________________________________________________________________________________\n",
      "activation_62 (Activation)      (None, 2, 2, 256)    0           bn4d_branch2a[0][0]              \n",
      "__________________________________________________________________________________________________\n",
      "res4d_branch2b (Conv2D)         (None, 2, 2, 256)    590080      activation_62[0][0]              \n",
      "__________________________________________________________________________________________________\n",
      "bn4d_branch2b (BatchNormalizati (None, 2, 2, 256)    1024        res4d_branch2b[0][0]             \n",
      "__________________________________________________________________________________________________\n",
      "activation_63 (Activation)      (None, 2, 2, 256)    0           bn4d_branch2b[0][0]              \n",
      "__________________________________________________________________________________________________\n",
      "res4d_branch2c (Conv2D)         (None, 2, 2, 1024)   263168      activation_63[0][0]              \n",
      "__________________________________________________________________________________________________\n",
      "bn4d_branch2c (BatchNormalizati (None, 2, 2, 1024)   4096        res4d_branch2c[0][0]             \n",
      "__________________________________________________________________________________________________\n",
      "add_11 (Add)                    (None, 2, 2, 1024)   0           bn4d_branch2c[0][0]              \n",
      "                                                                 activation_61[0][0]              \n",
      "__________________________________________________________________________________________________\n",
      "activation_64 (Activation)      (None, 2, 2, 1024)   0           add_11[0][0]                     \n",
      "__________________________________________________________________________________________________\n",
      "res4e_branch2a (Conv2D)         (None, 2, 2, 256)    262400      activation_64[0][0]              \n",
      "__________________________________________________________________________________________________\n",
      "bn4e_branch2a (BatchNormalizati (None, 2, 2, 256)    1024        res4e_branch2a[0][0]             \n",
      "__________________________________________________________________________________________________\n",
      "activation_65 (Activation)      (None, 2, 2, 256)    0           bn4e_branch2a[0][0]              \n",
      "__________________________________________________________________________________________________\n",
      "res4e_branch2b (Conv2D)         (None, 2, 2, 256)    590080      activation_65[0][0]              \n",
      "__________________________________________________________________________________________________\n",
      "bn4e_branch2b (BatchNormalizati (None, 2, 2, 256)    1024        res4e_branch2b[0][0]             \n",
      "__________________________________________________________________________________________________\n",
      "activation_66 (Activation)      (None, 2, 2, 256)    0           bn4e_branch2b[0][0]              \n",
      "__________________________________________________________________________________________________\n",
      "res4e_branch2c (Conv2D)         (None, 2, 2, 1024)   263168      activation_66[0][0]              \n",
      "__________________________________________________________________________________________________\n",
      "bn4e_branch2c (BatchNormalizati (None, 2, 2, 1024)   4096        res4e_branch2c[0][0]             \n",
      "__________________________________________________________________________________________________\n",
      "add_12 (Add)                    (None, 2, 2, 1024)   0           bn4e_branch2c[0][0]              \n",
      "                                                                 activation_64[0][0]              \n",
      "__________________________________________________________________________________________________\n",
      "activation_67 (Activation)      (None, 2, 2, 1024)   0           add_12[0][0]                     \n",
      "__________________________________________________________________________________________________\n",
      "res4f_branch2a (Conv2D)         (None, 2, 2, 256)    262400      activation_67[0][0]              \n",
      "__________________________________________________________________________________________________\n",
      "bn4f_branch2a (BatchNormalizati (None, 2, 2, 256)    1024        res4f_branch2a[0][0]             \n",
      "__________________________________________________________________________________________________\n",
      "activation_68 (Activation)      (None, 2, 2, 256)    0           bn4f_branch2a[0][0]              \n",
      "__________________________________________________________________________________________________\n",
      "res4f_branch2b (Conv2D)         (None, 2, 2, 256)    590080      activation_68[0][0]              \n",
      "__________________________________________________________________________________________________\n",
      "bn4f_branch2b (BatchNormalizati (None, 2, 2, 256)    1024        res4f_branch2b[0][0]             \n",
      "__________________________________________________________________________________________________\n",
      "activation_69 (Activation)      (None, 2, 2, 256)    0           bn4f_branch2b[0][0]              \n",
      "__________________________________________________________________________________________________\n",
      "res4f_branch2c (Conv2D)         (None, 2, 2, 1024)   263168      activation_69[0][0]              \n",
      "__________________________________________________________________________________________________\n",
      "bn4f_branch2c (BatchNormalizati (None, 2, 2, 1024)   4096        res4f_branch2c[0][0]             \n",
      "__________________________________________________________________________________________________\n",
      "add_13 (Add)                    (None, 2, 2, 1024)   0           bn4f_branch2c[0][0]              \n",
      "                                                                 activation_67[0][0]              \n",
      "__________________________________________________________________________________________________\n",
      "activation_70 (Activation)      (None, 2, 2, 1024)   0           add_13[0][0]                     \n",
      "__________________________________________________________________________________________________\n",
      "res5a_branch2a (Conv2D)         (None, 1, 1, 512)    524800      activation_70[0][0]              \n",
      "__________________________________________________________________________________________________\n",
      "bn5a_branch2a (BatchNormalizati (None, 1, 1, 512)    2048        res5a_branch2a[0][0]             \n",
      "__________________________________________________________________________________________________\n",
      "activation_71 (Activation)      (None, 1, 1, 512)    0           bn5a_branch2a[0][0]              \n",
      "__________________________________________________________________________________________________\n",
      "res5a_branch2b (Conv2D)         (None, 1, 1, 512)    2359808     activation_71[0][0]              \n",
      "__________________________________________________________________________________________________\n",
      "bn5a_branch2b (BatchNormalizati (None, 1, 1, 512)    2048        res5a_branch2b[0][0]             \n",
      "__________________________________________________________________________________________________\n",
      "activation_72 (Activation)      (None, 1, 1, 512)    0           bn5a_branch2b[0][0]              \n",
      "__________________________________________________________________________________________________\n",
      "res5a_branch2c (Conv2D)         (None, 1, 1, 2048)   1050624     activation_72[0][0]              \n",
      "__________________________________________________________________________________________________\n",
      "res5a_branch1 (Conv2D)          (None, 1, 1, 2048)   2099200     activation_70[0][0]              \n",
      "__________________________________________________________________________________________________\n",
      "bn5a_branch2c (BatchNormalizati (None, 1, 1, 2048)   8192        res5a_branch2c[0][0]             \n",
      "__________________________________________________________________________________________________\n",
      "bn5a_branch1 (BatchNormalizatio (None, 1, 1, 2048)   8192        res5a_branch1[0][0]              \n",
      "__________________________________________________________________________________________________\n",
      "add_14 (Add)                    (None, 1, 1, 2048)   0           bn5a_branch2c[0][0]              \n",
      "                                                                 bn5a_branch1[0][0]               \n",
      "__________________________________________________________________________________________________\n",
      "activation_73 (Activation)      (None, 1, 1, 2048)   0           add_14[0][0]                     \n",
      "__________________________________________________________________________________________________\n",
      "res5b_branch2a (Conv2D)         (None, 1, 1, 512)    1049088     activation_73[0][0]              \n",
      "__________________________________________________________________________________________________\n",
      "bn5b_branch2a (BatchNormalizati (None, 1, 1, 512)    2048        res5b_branch2a[0][0]             \n",
      "__________________________________________________________________________________________________\n",
      "activation_74 (Activation)      (None, 1, 1, 512)    0           bn5b_branch2a[0][0]              \n",
      "__________________________________________________________________________________________________\n",
      "res5b_branch2b (Conv2D)         (None, 1, 1, 512)    2359808     activation_74[0][0]              \n",
      "__________________________________________________________________________________________________\n",
      "bn5b_branch2b (BatchNormalizati (None, 1, 1, 512)    2048        res5b_branch2b[0][0]             \n",
      "__________________________________________________________________________________________________\n",
      "activation_75 (Activation)      (None, 1, 1, 512)    0           bn5b_branch2b[0][0]              \n",
      "__________________________________________________________________________________________________\n",
      "res5b_branch2c (Conv2D)         (None, 1, 1, 2048)   1050624     activation_75[0][0]              \n",
      "__________________________________________________________________________________________________\n",
      "bn5b_branch2c (BatchNormalizati (None, 1, 1, 2048)   8192        res5b_branch2c[0][0]             \n",
      "__________________________________________________________________________________________________\n",
      "add_15 (Add)                    (None, 1, 1, 2048)   0           bn5b_branch2c[0][0]              \n",
      "                                                                 activation_73[0][0]              \n",
      "__________________________________________________________________________________________________\n",
      "activation_76 (Activation)      (None, 1, 1, 2048)   0           add_15[0][0]                     \n",
      "__________________________________________________________________________________________________\n",
      "res5c_branch2a (Conv2D)         (None, 1, 1, 512)    1049088     activation_76[0][0]              \n",
      "__________________________________________________________________________________________________\n",
      "bn5c_branch2a (BatchNormalizati (None, 1, 1, 512)    2048        res5c_branch2a[0][0]             \n",
      "__________________________________________________________________________________________________\n",
      "activation_77 (Activation)      (None, 1, 1, 512)    0           bn5c_branch2a[0][0]              \n",
      "__________________________________________________________________________________________________\n",
      "res5c_branch2b (Conv2D)         (None, 1, 1, 512)    2359808     activation_77[0][0]              \n",
      "__________________________________________________________________________________________________\n",
      "bn5c_branch2b (BatchNormalizati (None, 1, 1, 512)    2048        res5c_branch2b[0][0]             \n",
      "__________________________________________________________________________________________________\n",
      "activation_78 (Activation)      (None, 1, 1, 512)    0           bn5c_branch2b[0][0]              \n",
      "__________________________________________________________________________________________________\n",
      "res5c_branch2c (Conv2D)         (None, 1, 1, 2048)   1050624     activation_78[0][0]              \n",
      "__________________________________________________________________________________________________\n",
      "bn5c_branch2c (BatchNormalizati (None, 1, 1, 2048)   8192        res5c_branch2c[0][0]             \n",
      "__________________________________________________________________________________________________\n",
      "add_16 (Add)                    (None, 1, 1, 2048)   0           bn5c_branch2c[0][0]              \n",
      "                                                                 activation_76[0][0]              \n",
      "__________________________________________________________________________________________________\n",
      "activation_79 (Activation)      (None, 1, 1, 2048)   0           add_16[0][0]                     \n",
      "==================================================================================================\n",
      "Total params: 23,587,712\n",
      "Trainable params: 23,534,592\n",
      "Non-trainable params: 53,120\n",
      "__________________________________________________________________________________________________\n"
     ]
    }
   ],
   "source": [
    "resnet = ResNet50(weights = 'imagenet', input_shape = (32, 32, 3), include_top = False)\n",
    "resnet.summary()"
   ]
  },
  {
   "cell_type": "code",
   "execution_count": 27,
   "metadata": {
    "_uuid": "8050809366644f4adab48f9313b2e25a3fcf1c08"
   },
   "outputs": [],
   "source": [
    "for layer in resnet.layers:\n",
    "    layer.trainable = False"
   ]
  },
  {
   "cell_type": "code",
   "execution_count": 28,
   "metadata": {
    "_uuid": "5cc08afc652d3f3c260743de416789081f4cb66f"
   },
   "outputs": [
    {
     "name": "stdout",
     "output_type": "stream",
     "text": [
      "_________________________________________________________________\n",
      "Layer (type)                 Output Shape              Param #   \n",
      "=================================================================\n",
      "resnet50 (Model)             (None, 1, 1, 2048)        23587712  \n",
      "_________________________________________________________________\n",
      "flatten_7 (Flatten)          (None, 2048)              0         \n",
      "_________________________________________________________________\n",
      "dense_19 (Dense)             (None, 256)               524544    \n",
      "_________________________________________________________________\n",
      "batch_normalization_43 (Batc (None, 256)               1024      \n",
      "_________________________________________________________________\n",
      "dropout_28 (Dropout)         (None, 256)               0         \n",
      "_________________________________________________________________\n",
      "dense_20 (Dense)             (None, 128)               32896     \n",
      "_________________________________________________________________\n",
      "batch_normalization_44 (Batc (None, 128)               512       \n",
      "_________________________________________________________________\n",
      "dropout_29 (Dropout)         (None, 128)               0         \n",
      "_________________________________________________________________\n",
      "dense_21 (Dense)             (None, 1)                 129       \n",
      "=================================================================\n",
      "Total params: 24,146,817\n",
      "Trainable params: 558,337\n",
      "Non-trainable params: 23,588,480\n",
      "_________________________________________________________________\n"
     ]
    }
   ],
   "source": [
    "resnet_model = Sequential()\n",
    "resnet_model.add(resnet)\n",
    "resnet_model.add(Flatten())\n",
    "resnet_model.add(Dense(256, activation = 'relu'))\n",
    "resnet_model.add(BatchNormalization())\n",
    "resnet_model.add(Dropout(0.5))\n",
    "resnet_model.add(Dense(128, activation = 'relu'))\n",
    "resnet_model.add(BatchNormalization())\n",
    "resnet_model.add(Dropout(0.5))\n",
    "resnet_model.add(Dense(1, activation = 'sigmoid'))\n",
    "\n",
    "resnet_model.summary()"
   ]
  },
  {
   "cell_type": "code",
   "execution_count": 29,
   "metadata": {
    "_uuid": "cfc46699cf2ab754df6e729d43013e6e0e728dfe"
   },
   "outputs": [],
   "source": [
    "#compile the model\n",
    "resnet_model.compile(loss = 'binary_crossentropy', optimizer = optim, metrics = ['accuracy'])"
   ]
  },
  {
   "cell_type": "code",
   "execution_count": 30,
   "metadata": {
    "_kg_hide-output": true,
    "_uuid": "0b404766f1fdf9bed46bcdc0ec93f51b7d3449be"
   },
   "outputs": [
    {
     "name": "stdout",
     "output_type": "stream",
     "text": [
      "Epoch 1/500\n",
      "17500/17500 [==============================] - 10s 574us/step - loss: 0.1821 - acc: 0.9312\n",
      "Epoch 2/500\n",
      "17500/17500 [==============================] - 5s 298us/step - loss: 0.1203 - acc: 0.9552\n",
      "Epoch 3/500\n",
      "17500/17500 [==============================] - 5s 295us/step - loss: 0.0996 - acc: 0.9625\n",
      "Epoch 4/500\n",
      "17500/17500 [==============================] - 5s 295us/step - loss: 0.0987 - acc: 0.9617\n",
      "Epoch 5/500\n",
      "17500/17500 [==============================] - 5s 295us/step - loss: 0.0914 - acc: 0.9627\n",
      "Epoch 6/500\n",
      "17500/17500 [==============================] - 5s 299us/step - loss: 0.0881 - acc: 0.9666\n",
      "Epoch 7/500\n",
      "17500/17500 [==============================] - 5s 295us/step - loss: 0.0886 - acc: 0.9674\n",
      "Epoch 8/500\n",
      "17500/17500 [==============================] - 5s 294us/step - loss: 0.0824 - acc: 0.9683\n",
      "Epoch 9/500\n",
      "17500/17500 [==============================] - 5s 294us/step - loss: 0.0769 - acc: 0.9713\n",
      "Epoch 10/500\n",
      "17500/17500 [==============================] - 5s 293us/step - loss: 0.0718 - acc: 0.9721\n",
      "Epoch 11/500\n",
      "17500/17500 [==============================] - 5s 295us/step - loss: 0.0688 - acc: 0.9737\n",
      "Epoch 12/500\n",
      "17500/17500 [==============================] - 5s 294us/step - loss: 0.0660 - acc: 0.9747\n",
      "Epoch 13/500\n",
      "17500/17500 [==============================] - 5s 294us/step - loss: 0.0658 - acc: 0.9750\n",
      "Epoch 14/500\n",
      "17500/17500 [==============================] - 5s 295us/step - loss: 0.0670 - acc: 0.9743\n",
      "Epoch 15/500\n",
      "17500/17500 [==============================] - 5s 295us/step - loss: 0.0645 - acc: 0.9766\n",
      "Epoch 16/500\n",
      "17500/17500 [==============================] - 5s 294us/step - loss: 0.0617 - acc: 0.9771\n",
      "Epoch 17/500\n",
      "17500/17500 [==============================] - 5s 294us/step - loss: 0.0586 - acc: 0.9785\n",
      "Epoch 18/500\n",
      "17500/17500 [==============================] - 5s 294us/step - loss: 0.0560 - acc: 0.9789\n",
      "Epoch 19/500\n",
      "17500/17500 [==============================] - 5s 296us/step - loss: 0.0584 - acc: 0.9782\n",
      "Epoch 20/500\n",
      "17500/17500 [==============================] - 5s 293us/step - loss: 0.0611 - acc: 0.9762\n",
      "Epoch 21/500\n",
      "17500/17500 [==============================] - 5s 295us/step - loss: 0.0542 - acc: 0.9798\n",
      "Epoch 22/500\n",
      "17500/17500 [==============================] - 5s 295us/step - loss: 0.0596 - acc: 0.9769\n",
      "Epoch 23/500\n",
      "17500/17500 [==============================] - 5s 295us/step - loss: 0.0545 - acc: 0.9807\n",
      "Epoch 24/500\n",
      "17500/17500 [==============================] - 5s 295us/step - loss: 0.0498 - acc: 0.9818\n",
      "Epoch 25/500\n",
      "17500/17500 [==============================] - 5s 295us/step - loss: 0.0532 - acc: 0.9797\n",
      "Epoch 26/500\n",
      "17500/17500 [==============================] - 5s 301us/step - loss: 0.0511 - acc: 0.9816\n",
      "Epoch 27/500\n",
      "17500/17500 [==============================] - 6s 326us/step - loss: 0.0536 - acc: 0.9803\n",
      "Epoch 28/500\n",
      "17500/17500 [==============================] - 5s 312us/step - loss: 0.0502 - acc: 0.9813\n",
      "Epoch 29/500\n",
      "17500/17500 [==============================] - 5s 294us/step - loss: 0.0491 - acc: 0.9823\n",
      "Epoch 30/500\n",
      "17500/17500 [==============================] - 5s 294us/step - loss: 0.0485 - acc: 0.9818\n",
      "Epoch 31/500\n",
      "17500/17500 [==============================] - 5s 294us/step - loss: 0.0461 - acc: 0.9831\n",
      "Epoch 32/500\n",
      "17500/17500 [==============================] - 5s 295us/step - loss: 0.0423 - acc: 0.9842\n",
      "Epoch 33/500\n",
      "17500/17500 [==============================] - 5s 294us/step - loss: 0.0476 - acc: 0.9832\n",
      "Epoch 34/500\n",
      "17500/17500 [==============================] - 5s 295us/step - loss: 0.0431 - acc: 0.9836\n",
      "Epoch 35/500\n",
      "17500/17500 [==============================] - 5s 294us/step - loss: 0.0428 - acc: 0.9842\n",
      "Epoch 36/500\n",
      "17500/17500 [==============================] - 5s 294us/step - loss: 0.0466 - acc: 0.9827\n",
      "Epoch 37/500\n",
      "17500/17500 [==============================] - 5s 295us/step - loss: 0.0439 - acc: 0.9844\n",
      "Epoch 38/500\n",
      "17500/17500 [==============================] - 5s 295us/step - loss: 0.0403 - acc: 0.9850\n",
      "Epoch 39/500\n",
      "17500/17500 [==============================] - 5s 294us/step - loss: 0.0407 - acc: 0.9847\n",
      "Epoch 40/500\n",
      "17500/17500 [==============================] - 5s 297us/step - loss: 0.0430 - acc: 0.9846\n",
      "Epoch 41/500\n",
      "17500/17500 [==============================] - 5s 295us/step - loss: 0.0402 - acc: 0.9855\n",
      "Epoch 42/500\n",
      "17500/17500 [==============================] - 5s 294us/step - loss: 0.0366 - acc: 0.9869\n",
      "Epoch 43/500\n",
      "17500/17500 [==============================] - 5s 295us/step - loss: 0.0399 - acc: 0.9857\n",
      "Epoch 44/500\n",
      "17500/17500 [==============================] - 5s 294us/step - loss: 0.0408 - acc: 0.9838\n",
      "Epoch 45/500\n",
      "17500/17500 [==============================] - 5s 294us/step - loss: 0.0391 - acc: 0.9856\n",
      "Epoch 46/500\n",
      "17500/17500 [==============================] - 6s 319us/step - loss: 0.0378 - acc: 0.9862\n",
      "Epoch 47/500\n",
      "17500/17500 [==============================] - 5s 301us/step - loss: 0.0400 - acc: 0.9851\n",
      "Epoch 48/500\n",
      "17500/17500 [==============================] - 5s 296us/step - loss: 0.0375 - acc: 0.9865\n",
      "Epoch 49/500\n",
      "17500/17500 [==============================] - 5s 293us/step - loss: 0.0368 - acc: 0.9874\n",
      "Epoch 50/500\n",
      "17500/17500 [==============================] - 5s 294us/step - loss: 0.0420 - acc: 0.9849\n",
      "Epoch 51/500\n",
      "17500/17500 [==============================] - 5s 297us/step - loss: 0.0394 - acc: 0.9851\n",
      "Epoch 52/500\n",
      "17500/17500 [==============================] - 5s 297us/step - loss: 0.0363 - acc: 0.9873\n",
      "Epoch 53/500\n",
      "17500/17500 [==============================] - 5s 295us/step - loss: 0.0351 - acc: 0.9863\n",
      "Epoch 54/500\n",
      "17500/17500 [==============================] - 5s 296us/step - loss: 0.0323 - acc: 0.9881\n",
      "Epoch 55/500\n",
      "17500/17500 [==============================] - 5s 295us/step - loss: 0.0395 - acc: 0.9861\n",
      "Epoch 56/500\n",
      "17500/17500 [==============================] - 5s 299us/step - loss: 0.0378 - acc: 0.9872\n",
      "Epoch 57/500\n",
      "17500/17500 [==============================] - 5s 297us/step - loss: 0.0376 - acc: 0.9866\n",
      "Epoch 58/500\n",
      "17500/17500 [==============================] - 5s 296us/step - loss: 0.0332 - acc: 0.9883\n",
      "Epoch 59/500\n",
      "17500/17500 [==============================] - 5s 295us/step - loss: 0.0351 - acc: 0.9881\n",
      "Epoch 60/500\n",
      "17500/17500 [==============================] - 5s 296us/step - loss: 0.0341 - acc: 0.9888\n",
      "Epoch 61/500\n",
      "17500/17500 [==============================] - 5s 294us/step - loss: 0.0381 - acc: 0.9850\n",
      "Epoch 62/500\n",
      "17500/17500 [==============================] - 5s 295us/step - loss: 0.0372 - acc: 0.9881\n",
      "Epoch 63/500\n",
      "17500/17500 [==============================] - 5s 297us/step - loss: 0.0328 - acc: 0.9874\n",
      "Epoch 64/500\n",
      "17500/17500 [==============================] - 5s 296us/step - loss: 0.0323 - acc: 0.9883\n",
      "Epoch 65/500\n",
      "17500/17500 [==============================] - 5s 295us/step - loss: 0.0340 - acc: 0.9878\n",
      "Epoch 66/500\n",
      "17500/17500 [==============================] - 5s 297us/step - loss: 0.0295 - acc: 0.9891\n",
      "Epoch 67/500\n",
      "17500/17500 [==============================] - 5s 296us/step - loss: 0.0342 - acc: 0.9878\n",
      "Epoch 68/500\n",
      "17500/17500 [==============================] - 5s 296us/step - loss: 0.0318 - acc: 0.9885\n",
      "Epoch 69/500\n",
      "17500/17500 [==============================] - 5s 296us/step - loss: 0.0345 - acc: 0.9873\n",
      "Epoch 70/500\n",
      "17500/17500 [==============================] - 5s 295us/step - loss: 0.0301 - acc: 0.9895\n",
      "Epoch 71/500\n",
      "17500/17500 [==============================] - 5s 295us/step - loss: 0.0321 - acc: 0.9880\n",
      "Epoch 72/500\n",
      "17500/17500 [==============================] - 5s 295us/step - loss: 0.0295 - acc: 0.9894\n",
      "Epoch 73/500\n",
      "17500/17500 [==============================] - 5s 295us/step - loss: 0.0318 - acc: 0.9883\n",
      "Epoch 74/500\n",
      "17500/17500 [==============================] - 5s 294us/step - loss: 0.0308 - acc: 0.9890\n",
      "Epoch 75/500\n",
      "17500/17500 [==============================] - 5s 298us/step - loss: 0.0296 - acc: 0.9898\n",
      "Epoch 76/500\n",
      "17500/17500 [==============================] - 5s 294us/step - loss: 0.0274 - acc: 0.9899\n",
      "Epoch 77/500\n",
      "17500/17500 [==============================] - 5s 294us/step - loss: 0.0292 - acc: 0.9902\n",
      "Epoch 78/500\n",
      "17500/17500 [==============================] - 5s 295us/step - loss: 0.0267 - acc: 0.9902\n",
      "Epoch 79/500\n",
      "17500/17500 [==============================] - 5s 294us/step - loss: 0.0295 - acc: 0.9897\n",
      "Epoch 80/500\n",
      "17500/17500 [==============================] - 5s 295us/step - loss: 0.0309 - acc: 0.9894\n",
      "Epoch 81/500\n",
      "17500/17500 [==============================] - 5s 294us/step - loss: 0.0294 - acc: 0.9901\n",
      "Epoch 82/500\n",
      "17500/17500 [==============================] - 5s 296us/step - loss: 0.0276 - acc: 0.9905\n",
      "Epoch 83/500\n",
      "17500/17500 [==============================] - 5s 299us/step - loss: 0.0308 - acc: 0.9891\n",
      "Epoch 84/500\n",
      "17500/17500 [==============================] - 5s 295us/step - loss: 0.0263 - acc: 0.9903\n",
      "Epoch 85/500\n",
      "17500/17500 [==============================] - 5s 294us/step - loss: 0.0292 - acc: 0.9899\n",
      "Epoch 86/500\n",
      "17500/17500 [==============================] - 5s 307us/step - loss: 0.0277 - acc: 0.9895\n",
      "Epoch 87/500\n",
      "17500/17500 [==============================] - 6s 325us/step - loss: 0.0271 - acc: 0.9901\n",
      "Epoch 88/500\n",
      "17500/17500 [==============================] - 5s 306us/step - loss: 0.0263 - acc: 0.9910\n",
      "Epoch 89/500\n",
      "17500/17500 [==============================] - 5s 295us/step - loss: 0.0280 - acc: 0.9900\n",
      "Epoch 90/500\n",
      "17500/17500 [==============================] - 5s 294us/step - loss: 0.0280 - acc: 0.9895\n",
      "Epoch 91/500\n",
      "17500/17500 [==============================] - 5s 295us/step - loss: 0.0262 - acc: 0.9907\n",
      "Epoch 92/500\n",
      "17500/17500 [==============================] - 5s 295us/step - loss: 0.0290 - acc: 0.9902\n",
      "Epoch 93/500\n",
      "17500/17500 [==============================] - 5s 295us/step - loss: 0.0278 - acc: 0.9899\n",
      "Epoch 94/500\n",
      "17500/17500 [==============================] - 5s 296us/step - loss: 0.0264 - acc: 0.9902\n",
      "Epoch 95/500\n",
      "17500/17500 [==============================] - 5s 296us/step - loss: 0.0268 - acc: 0.9905\n",
      "Epoch 96/500\n",
      "17500/17500 [==============================] - 5s 296us/step - loss: 0.0266 - acc: 0.9908\n",
      "Epoch 97/500\n",
      "17500/17500 [==============================] - 5s 295us/step - loss: 0.0299 - acc: 0.9896\n",
      "Epoch 98/500\n",
      "17500/17500 [==============================] - 5s 298us/step - loss: 0.0242 - acc: 0.9924\n",
      "Epoch 99/500\n",
      "17500/17500 [==============================] - 5s 294us/step - loss: 0.0305 - acc: 0.9905\n",
      "Epoch 100/500\n",
      "17500/17500 [==============================] - 5s 296us/step - loss: 0.0224 - acc: 0.9920\n",
      "Epoch 101/500\n",
      "17500/17500 [==============================] - 5s 296us/step - loss: 0.0268 - acc: 0.9901\n",
      "Epoch 102/500\n",
      "17500/17500 [==============================] - 5s 295us/step - loss: 0.0269 - acc: 0.9899\n",
      "Epoch 103/500\n",
      "17500/17500 [==============================] - 5s 295us/step - loss: 0.0261 - acc: 0.9916\n",
      "Epoch 104/500\n",
      "17500/17500 [==============================] - 5s 294us/step - loss: 0.0245 - acc: 0.9914\n",
      "Epoch 105/500\n",
      "17500/17500 [==============================] - 6s 325us/step - loss: 0.0243 - acc: 0.9916\n",
      "Epoch 106/500\n",
      "17500/17500 [==============================] - 5s 295us/step - loss: 0.0239 - acc: 0.9911\n",
      "Epoch 107/500\n",
      "17500/17500 [==============================] - 5s 296us/step - loss: 0.0211 - acc: 0.9924\n",
      "Epoch 108/500\n",
      "17500/17500 [==============================] - 5s 295us/step - loss: 0.0250 - acc: 0.9908\n",
      "Epoch 109/500\n",
      "17500/17500 [==============================] - 5s 295us/step - loss: 0.0225 - acc: 0.9919\n",
      "Epoch 110/500\n",
      "17500/17500 [==============================] - 5s 294us/step - loss: 0.0283 - acc: 0.9908\n",
      "Epoch 111/500\n",
      "17500/17500 [==============================] - 5s 293us/step - loss: 0.0264 - acc: 0.9906\n",
      "Epoch 112/500\n",
      "17500/17500 [==============================] - 5s 294us/step - loss: 0.0244 - acc: 0.9921\n",
      "Epoch 113/500\n",
      "17500/17500 [==============================] - 5s 295us/step - loss: 0.0251 - acc: 0.9917\n",
      "Epoch 114/500\n",
      "17500/17500 [==============================] - 5s 297us/step - loss: 0.0196 - acc: 0.9936\n",
      "Epoch 115/500\n",
      "17500/17500 [==============================] - 5s 296us/step - loss: 0.0235 - acc: 0.9916\n",
      "Epoch 116/500\n",
      "17500/17500 [==============================] - 5s 295us/step - loss: 0.0221 - acc: 0.9921\n",
      "Epoch 117/500\n",
      "17500/17500 [==============================] - 5s 295us/step - loss: 0.0237 - acc: 0.9910\n",
      "Epoch 118/500\n",
      "17500/17500 [==============================] - 5s 294us/step - loss: 0.0222 - acc: 0.9909\n",
      "Epoch 119/500\n",
      "17500/17500 [==============================] - 5s 295us/step - loss: 0.0226 - acc: 0.9925\n",
      "Epoch 120/500\n",
      "17500/17500 [==============================] - 5s 295us/step - loss: 0.0205 - acc: 0.9930\n",
      "Epoch 121/500\n",
      "17500/17500 [==============================] - 5s 294us/step - loss: 0.0219 - acc: 0.9922\n",
      "Epoch 122/500\n",
      "17500/17500 [==============================] - 5s 294us/step - loss: 0.0243 - acc: 0.9910\n",
      "Epoch 123/500\n",
      "17500/17500 [==============================] - 5s 294us/step - loss: 0.0238 - acc: 0.9915\n",
      "Epoch 124/500\n",
      "17500/17500 [==============================] - 5s 294us/step - loss: 0.0213 - acc: 0.9919\n",
      "Epoch 125/500\n",
      "17500/17500 [==============================] - 5s 295us/step - loss: 0.0238 - acc: 0.9914\n",
      "Epoch 126/500\n",
      "17500/17500 [==============================] - 5s 294us/step - loss: 0.0214 - acc: 0.9926\n",
      "Epoch 127/500\n",
      "17500/17500 [==============================] - 5s 295us/step - loss: 0.0218 - acc: 0.9925\n",
      "Epoch 128/500\n",
      "17500/17500 [==============================] - 5s 295us/step - loss: 0.0243 - acc: 0.9915\n",
      "Epoch 129/500\n",
      "17500/17500 [==============================] - 5s 295us/step - loss: 0.0217 - acc: 0.9921\n",
      "Epoch 130/500\n",
      "17500/17500 [==============================] - 5s 295us/step - loss: 0.0244 - acc: 0.9916\n",
      "Epoch 131/500\n",
      "17500/17500 [==============================] - 5s 294us/step - loss: 0.0232 - acc: 0.9922\n",
      "Epoch 132/500\n",
      "17500/17500 [==============================] - 5s 295us/step - loss: 0.0210 - acc: 0.9928\n",
      "Epoch 133/500\n",
      "17500/17500 [==============================] - 5s 296us/step - loss: 0.0210 - acc: 0.9925\n",
      "Epoch 134/500\n",
      "17500/17500 [==============================] - 5s 294us/step - loss: 0.0230 - acc: 0.9917\n",
      "Epoch 135/500\n",
      "17500/17500 [==============================] - 5s 295us/step - loss: 0.0209 - acc: 0.9927\n",
      "Epoch 136/500\n",
      " 1984/17500 [==>...........................] - ETA: 4s - loss: 0.0189 - acc: 0.9940"
     ]
    }
   ],
   "source": [
    "#fit the model on our data\n",
    "resnet_history = resnet_model.fit(X, y,\n",
    "                                  batch_size = 64, \n",
    "                                  epochs = 500,\n",
    "                                  verbose = 1) "
   ]
  },
  {
   "cell_type": "code",
   "execution_count": 31,
   "metadata": {
    "_uuid": "067a2fcc93b2d735675e1509d74d70c2fed8db61"
   },
   "outputs": [],
   "source": [
    "resnet_predictions = resnet_model.predict(X_test)"
   ]
  },
  {
   "cell_type": "markdown",
   "metadata": {
    "_uuid": "c3b493df9c409606f80ef0ddd230e75be5495a6e"
   },
   "source": [
    "## MAKING SUBMISSIONS"
   ]
  },
  {
   "cell_type": "markdown",
   "metadata": {
    "_uuid": "bfafa9561be723a07d10adc6b3b8119b2066c447"
   },
   "source": [
    "1. Ensemble Model"
   ]
  },
  {
   "cell_type": "code",
   "execution_count": 32,
   "metadata": {
    "_uuid": "f5febc9497bfd57c5eec8c17593a8898220db36a"
   },
   "outputs": [
    {
     "name": "stdout",
     "output_type": "stream",
     "text": [
      "(4000,)\n"
     ]
    }
   ],
   "source": [
    "#making predictions\n",
    "prediction = np.hstack([p.reshape(-1,1) for p in prediction_scores.values()]) #taking the scores of all the trained models\n",
    "predictions_ensemble = np.mean(prediction, axis = 1)\n",
    "print(predictions_ensemble.shape)"
   ]
  },
  {
   "cell_type": "code",
   "execution_count": 33,
   "metadata": {
    "_uuid": "39489c88e66a3580eea77c49c272bb812c685785"
   },
   "outputs": [],
   "source": [
    "df_ensemble = pd.DataFrame(predictions_ensemble, columns = ['has_cactus'])\n",
    "df_ensemble['has_cactus'] = df_ensemble['has_cactus'].apply(lambda x: 1 if x > 0.75 else 0)"
   ]
  },
  {
   "cell_type": "code",
   "execution_count": 34,
   "metadata": {
    "_uuid": "67d1dc60d27d6b4e7718d1955584eef95a5ec83e"
   },
   "outputs": [
    {
     "name": "stderr",
     "output_type": "stream",
     "text": [
      "/opt/conda/lib/python3.6/site-packages/ipykernel_launcher.py:7: FutureWarning: set_value is deprecated and will be removed in a future release. Please use .at[] or .iat[] accessors instead\n",
      "  import sys\n"
     ]
    }
   ],
   "source": [
    "df_ensemble['id'] = ''\n",
    "cols = df_ensemble.columns.tolist()\n",
    "cols = cols[-1:] + cols[:-1]\n",
    "df_ensemble = df_ensemble[cols]\n",
    "\n",
    "for i, img in enumerate(test_images):\n",
    "    df_ensemble.set_value(i,'id',img)\n",
    "\n",
    "#making submission\n",
    "df_ensemble.to_csv('ensemble_submission.csv',index = False)"
   ]
  },
  {
   "cell_type": "markdown",
   "metadata": {
    "_uuid": "3f3c6706028aeddb58e21501560b109ba422969d"
   },
   "source": [
    "2. VGG16"
   ]
  },
  {
   "cell_type": "code",
   "execution_count": 35,
   "metadata": {
    "_uuid": "bbc6e6b80af6c869d565f6da7d8ad67b5b1e97eb"
   },
   "outputs": [],
   "source": [
    "df_vgg = pd.DataFrame(predictions_vgg, columns = ['has_cactus'])\n",
    "df_vgg['has_cactus'] = df_vgg['has_cactus'].apply(lambda x: 1 if x > 0.75 else 0)"
   ]
  },
  {
   "cell_type": "code",
   "execution_count": 36,
   "metadata": {
    "_uuid": "65c26995d8a74f430c7dabbd8d6e836b0f95d61d"
   },
   "outputs": [
    {
     "name": "stderr",
     "output_type": "stream",
     "text": [
      "/opt/conda/lib/python3.6/site-packages/ipykernel_launcher.py:7: FutureWarning: set_value is deprecated and will be removed in a future release. Please use .at[] or .iat[] accessors instead\n",
      "  import sys\n"
     ]
    }
   ],
   "source": [
    "df_vgg['id'] = ''\n",
    "cols = df_vgg.columns.tolist()\n",
    "cols = cols[-1:] + cols[:-1]\n",
    "df_vgg = df_vgg[cols]\n",
    "\n",
    "for i, img in enumerate(test_images):\n",
    "    df_vgg.set_value(i,'id',img)\n",
    "\n",
    "#making submission\n",
    "df_vgg.to_csv('vgg_submission.csv',index = False)"
   ]
  },
  {
   "cell_type": "code",
   "execution_count": 37,
   "metadata": {
    "_uuid": "f7d0d6d67bf961f725cc1dfcf8815d47eeac498a"
   },
   "outputs": [
    {
     "data": {
      "text/html": [
       "<div>\n",
       "<style scoped>\n",
       "    .dataframe tbody tr th:only-of-type {\n",
       "        vertical-align: middle;\n",
       "    }\n",
       "\n",
       "    .dataframe tbody tr th {\n",
       "        vertical-align: top;\n",
       "    }\n",
       "\n",
       "    .dataframe thead th {\n",
       "        text-align: right;\n",
       "    }\n",
       "</style>\n",
       "<table border=\"1\" class=\"dataframe\">\n",
       "  <thead>\n",
       "    <tr style=\"text-align: right;\">\n",
       "      <th></th>\n",
       "      <th>id</th>\n",
       "      <th>has_cactus</th>\n",
       "    </tr>\n",
       "  </thead>\n",
       "  <tbody>\n",
       "    <tr>\n",
       "      <th>0</th>\n",
       "      <td>c662bde123f0f83b3caae0ffda237a93.jpg</td>\n",
       "      <td>1</td>\n",
       "    </tr>\n",
       "    <tr>\n",
       "      <th>1</th>\n",
       "      <td>9553eed7793d4cf88b5226d446d93dae.jpg</td>\n",
       "      <td>0</td>\n",
       "    </tr>\n",
       "    <tr>\n",
       "      <th>2</th>\n",
       "      <td>19f059a7ce41b25be1548bc4049b45ec.jpg</td>\n",
       "      <td>1</td>\n",
       "    </tr>\n",
       "    <tr>\n",
       "      <th>3</th>\n",
       "      <td>fb4f464486f4894330273346ce939252.jpg</td>\n",
       "      <td>1</td>\n",
       "    </tr>\n",
       "    <tr>\n",
       "      <th>4</th>\n",
       "      <td>b52558a522db6ec2501ae188b6d6e526.jpg</td>\n",
       "      <td>1</td>\n",
       "    </tr>\n",
       "  </tbody>\n",
       "</table>\n",
       "</div>"
      ],
      "text/plain": [
       "                                     id  has_cactus\n",
       "0  c662bde123f0f83b3caae0ffda237a93.jpg           1\n",
       "1  9553eed7793d4cf88b5226d446d93dae.jpg           0\n",
       "2  19f059a7ce41b25be1548bc4049b45ec.jpg           1\n",
       "3  fb4f464486f4894330273346ce939252.jpg           1\n",
       "4  b52558a522db6ec2501ae188b6d6e526.jpg           1"
      ]
     },
     "execution_count": 37,
     "metadata": {},
     "output_type": "execute_result"
    }
   ],
   "source": [
    "df_vgg.head()"
   ]
  },
  {
   "cell_type": "markdown",
   "metadata": {
    "_uuid": "d075c633d351290efbccc01b917a9e804ebcead7"
   },
   "source": [
    "3. Resnet50"
   ]
  },
  {
   "cell_type": "code",
   "execution_count": 38,
   "metadata": {
    "_uuid": "7f453d154986313bb381fdb0a5811836f163faa0"
   },
   "outputs": [],
   "source": [
    "df_resnet = pd.DataFrame(resnet_predictions, columns = ['has_cactus'])\n",
    "df_resnet['has_cactus'] = df_resnet['has_cactus'].apply(lambda x: 1 if x > 0.75 else 0)"
   ]
  },
  {
   "cell_type": "code",
   "execution_count": 39,
   "metadata": {
    "_uuid": "f47f0ada4f2e32a666253d5ce1896a205d6f4039"
   },
   "outputs": [
    {
     "name": "stderr",
     "output_type": "stream",
     "text": [
      "/opt/conda/lib/python3.6/site-packages/ipykernel_launcher.py:7: FutureWarning: set_value is deprecated and will be removed in a future release. Please use .at[] or .iat[] accessors instead\n",
      "  import sys\n"
     ]
    }
   ],
   "source": [
    "df_resnet['id'] = ''\n",
    "cols = df_resnet.columns.tolist()\n",
    "cols = cols[-1:] + cols[:-1]\n",
    "df_resnet = df_resnet[cols]\n",
    "\n",
    "for i, img in enumerate(test_images):\n",
    "    df_resnet.set_value(i,'id',img)\n",
    "\n",
    "#making submission\n",
    "df_resnet.to_csv('resnet_submission.csv',index = False)"
   ]
  },
  {
   "cell_type": "markdown",
   "metadata": {
    "_uuid": "397876aebeda9b4062fb1cca48a04a3d198004b6"
   },
   "source": [
    "4. Ensemble and VGG16"
   ]
  },
  {
   "cell_type": "code",
   "execution_count": 40,
   "metadata": {
    "_uuid": "64810050d54d134bbb64fb355c840a219668c28a"
   },
   "outputs": [
    {
     "name": "stderr",
     "output_type": "stream",
     "text": [
      "/opt/conda/lib/python3.6/site-packages/ipykernel_launcher.py:14: FutureWarning: set_value is deprecated and will be removed in a future release. Please use .at[] or .iat[] accessors instead\n",
      "  \n"
     ]
    }
   ],
   "source": [
    "df_vgg1 = pd.DataFrame(predictions_vgg, columns = ['has_cactus'])\n",
    "df_ensemble1 = pd.DataFrame(predictions_ensemble, columns = ['has_cactus'])\n",
    "\n",
    "df_t = 0.5 * df_vgg1['has_cactus'] + 0.5 * df_ensemble1['has_cactus']\n",
    "df_t = pd.DataFrame(df_t, columns = ['has_cactus'])\n",
    "df_t['has_cactus'] = df_t['has_cactus'].apply(lambda x: 1 if x > 0.75 else 0)\n",
    "\n",
    "df_t['id'] = ''\n",
    "cols = df_t.columns.tolist()\n",
    "cols = cols[-1:] + cols[:-1]\n",
    "df_t = df_t[cols]\n",
    "\n",
    "for i, img in enumerate(test_images):\n",
    "    df_t.set_value(i,'id',img)\n",
    "\n",
    "#making submission\n",
    "df_t.to_csv('vgg_ensemble_submission.csv',index = False)"
   ]
  },
  {
   "cell_type": "markdown",
   "metadata": {
    "_uuid": "90e53c5d630ea5f2c24aac30187ab290a8d5acf2"
   },
   "source": [
    "5. Ensemble, VGG16 and ResNet50"
   ]
  },
  {
   "cell_type": "code",
   "execution_count": 41,
   "metadata": {
    "_uuid": "9fdb8d40e2c2bc314088cb6a82a38b29a90c11d7"
   },
   "outputs": [
    {
     "name": "stderr",
     "output_type": "stream",
     "text": [
      "/opt/conda/lib/python3.6/site-packages/ipykernel_launcher.py:15: FutureWarning: set_value is deprecated and will be removed in a future release. Please use .at[] or .iat[] accessors instead\n",
      "  from ipykernel import kernelapp as app\n"
     ]
    }
   ],
   "source": [
    "df_vgg2 = pd.DataFrame(predictions_vgg, columns = ['has_cactus'])\n",
    "df_ensemble2 = pd.DataFrame(predictions_ensemble, columns = ['has_cactus'])\n",
    "df_resnet2 = pd.DataFrame(resnet_predictions, columns = ['has_cactus'])\n",
    "\n",
    "df_t2 = 0.45 * df_vgg2['has_cactus'] + 0.45 * df_ensemble2['has_cactus'] + 0.10 * df_resnet2['has_cactus']\n",
    "df_t2 = pd.DataFrame(df_t2, columns = ['has_cactus'])\n",
    "df_t2['has_cactus'] = df_t2['has_cactus'].apply(lambda x: 1 if x > 0.75 else 0)\n",
    "\n",
    "df_t2['id'] = ''\n",
    "cols = df_t2.columns.tolist()\n",
    "cols = cols[-1:] + cols[:-1]\n",
    "df_t2 = df_t2[cols]\n",
    "\n",
    "for i, img in enumerate(test_images):\n",
    "    df_t2.set_value(i,'id',img)\n",
    "\n",
    "#making submission\n",
    "df_t2.to_csv('vgg_ensemble_resnet_submission.csv',index = False)"
   ]
  }
 ],
 "metadata": {
  "kernelspec": {
   "display_name": "Python 3",
   "language": "python",
   "name": "python3"
  },
  "language_info": {
   "codemirror_mode": {
    "name": "ipython",
    "version": 3
   },
   "file_extension": ".py",
   "mimetype": "text/x-python",
   "name": "python",
   "nbconvert_exporter": "python",
   "pygments_lexer": "ipython3",
   "version": "3.6.6"
  }
 },
 "nbformat": 4,
 "nbformat_minor": 1
}
