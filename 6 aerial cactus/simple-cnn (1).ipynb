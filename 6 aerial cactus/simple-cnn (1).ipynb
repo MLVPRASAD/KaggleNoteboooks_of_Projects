{
 "cells": [
  {
   "cell_type": "code",
   "execution_count": 1,
   "metadata": {
    "_cell_guid": "b1076dfc-b9ad-4769-8c92-a6c4dae69d19",
    "_uuid": "8f2839f25d086af736a60e9eeb907d3b93b6e0e5"
   },
   "outputs": [
    {
     "name": "stdout",
     "output_type": "stream",
     "text": [
      "['train', 'test', 'train.csv', 'sample_submission.csv']\n"
     ]
    }
   ],
   "source": [
    "# This Python 3 environment comes with many helpful analytics libraries installed\n",
    "# It is defined by the kaggle/python docker image: https://github.com/kaggle/docker-python\n",
    "# For example, here's several helpful packages to load in \n",
    "\n",
    "import numpy as np # linear algebra\n",
    "import pandas as pd # data processing, CSV file I/O (e.g. pd.read_csv)\n",
    "\n",
    "# Input data files are available in the \"../input/\" directory.\n",
    "# For example, running this (by clicking run or pressing Shift+Enter) will list the files in the input directory\n",
    "\n",
    "import os\n",
    "print(os.listdir(\"../input\"))\n",
    "\n",
    "# Any results you write to the current directory are saved as output."
   ]
  },
  {
   "cell_type": "code",
   "execution_count": 2,
   "metadata": {
    "_uuid": "d8c0a35716c8cc97b11227ec6677f491aa307de3"
   },
   "outputs": [
    {
     "name": "stderr",
     "output_type": "stream",
     "text": [
      "Using TensorFlow backend.\n"
     ]
    }
   ],
   "source": [
    "\n",
    "import numpy as np\n",
    "import pandas as pd\n",
    "import matplotlib.pyplot as plt\n",
    "import matplotlib.image as mpimg\n",
    "import glob\n",
    "import scipy\n",
    "import cv2\n",
    "\n",
    "import keras"
   ]
  },
  {
   "cell_type": "code",
   "execution_count": 3,
   "metadata": {
    "_uuid": "bfc901dd07e761741d6f505e468d534b02964bb0"
   },
   "outputs": [],
   "source": [
    "\n",
    "import random"
   ]
  },
  {
   "cell_type": "markdown",
   "metadata": {
    "_kg_hide-input": false,
    "_kg_hide-output": false,
    "_uuid": "a072507a4b551ae47a0a998dd9290d0c5fc650b1"
   },
   "source": [
    "**Exploration**\n"
   ]
  },
  {
   "cell_type": "code",
   "execution_count": 4,
   "metadata": {
    "_uuid": "e00ae99faa263f5ab696f56d379fd4e6fe999389"
   },
   "outputs": [],
   "source": [
    "\n",
    "train_data = pd.read_csv('../input/train.csv')"
   ]
  },
  {
   "cell_type": "code",
   "execution_count": 5,
   "metadata": {
    "_uuid": "396ccaaa12bddec9f19f8d82d5113a0c36a8532b"
   },
   "outputs": [
    {
     "data": {
      "text/plain": [
       "(17500, 2)"
      ]
     },
     "execution_count": 5,
     "metadata": {},
     "output_type": "execute_result"
    }
   ],
   "source": [
    "\n",
    "train_data.shape"
   ]
  },
  {
   "cell_type": "code",
   "execution_count": 6,
   "metadata": {
    "_uuid": "11bb60dee5e37d08d8893070b71d017e57517298"
   },
   "outputs": [
    {
     "data": {
      "text/html": [
       "<div>\n",
       "<style scoped>\n",
       "    .dataframe tbody tr th:only-of-type {\n",
       "        vertical-align: middle;\n",
       "    }\n",
       "\n",
       "    .dataframe tbody tr th {\n",
       "        vertical-align: top;\n",
       "    }\n",
       "\n",
       "    .dataframe thead th {\n",
       "        text-align: right;\n",
       "    }\n",
       "</style>\n",
       "<table border=\"1\" class=\"dataframe\">\n",
       "  <thead>\n",
       "    <tr style=\"text-align: right;\">\n",
       "      <th></th>\n",
       "      <th>id</th>\n",
       "      <th>has_cactus</th>\n",
       "    </tr>\n",
       "  </thead>\n",
       "  <tbody>\n",
       "    <tr>\n",
       "      <th>0</th>\n",
       "      <td>0004be2cfeaba1c0361d39e2b000257b.jpg</td>\n",
       "      <td>1</td>\n",
       "    </tr>\n",
       "    <tr>\n",
       "      <th>1</th>\n",
       "      <td>000c8a36845c0208e833c79c1bffedd1.jpg</td>\n",
       "      <td>1</td>\n",
       "    </tr>\n",
       "    <tr>\n",
       "      <th>2</th>\n",
       "      <td>000d1e9a533f62e55c289303b072733d.jpg</td>\n",
       "      <td>1</td>\n",
       "    </tr>\n",
       "    <tr>\n",
       "      <th>3</th>\n",
       "      <td>0011485b40695e9138e92d0b3fb55128.jpg</td>\n",
       "      <td>1</td>\n",
       "    </tr>\n",
       "    <tr>\n",
       "      <th>4</th>\n",
       "      <td>0014d7a11e90b62848904c1418fc8cf2.jpg</td>\n",
       "      <td>1</td>\n",
       "    </tr>\n",
       "  </tbody>\n",
       "</table>\n",
       "</div>"
      ],
      "text/plain": [
       "                                     id  has_cactus\n",
       "0  0004be2cfeaba1c0361d39e2b000257b.jpg           1\n",
       "1  000c8a36845c0208e833c79c1bffedd1.jpg           1\n",
       "2  000d1e9a533f62e55c289303b072733d.jpg           1\n",
       "3  0011485b40695e9138e92d0b3fb55128.jpg           1\n",
       "4  0014d7a11e90b62848904c1418fc8cf2.jpg           1"
      ]
     },
     "execution_count": 6,
     "metadata": {},
     "output_type": "execute_result"
    }
   ],
   "source": [
    "\n",
    "train_data.head()"
   ]
  },
  {
   "cell_type": "code",
   "execution_count": 7,
   "metadata": {
    "_uuid": "6e8365660954efe5c325cfbd9f46623c20921569"
   },
   "outputs": [
    {
     "data": {
      "text/plain": [
       "array([1, 0])"
      ]
     },
     "execution_count": 7,
     "metadata": {},
     "output_type": "execute_result"
    }
   ],
   "source": [
    "\n",
    "train_data.has_cactus.unique()"
   ]
  },
  {
   "cell_type": "code",
   "execution_count": 8,
   "metadata": {
    "_uuid": "516f2aad4774dff5de80504089d4bd9e940e08e6"
   },
   "outputs": [
    {
     "data": {
      "text/plain": [
       "<matplotlib.axes._subplots.AxesSubplot at 0x7fedb9b7a080>"
      ]
     },
     "execution_count": 8,
     "metadata": {},
     "output_type": "execute_result"
    },
    {
     "data": {
      "image/png": "[encoded data removed]",
      "text/plain": [
       "<Figure size 432x288 with 1 Axes>"
      ]
     },
     "metadata": {},
     "output_type": "display_data"
    }
   ],
   "source": [
    "\n",
    "train_data.has_cactus.hist()"
   ]
  },
  {
   "cell_type": "code",
   "execution_count": 9,
   "metadata": {
    "_uuid": "0961d59ffd56bffd8e4e092ea42fe0c743a7b405"
   },
   "outputs": [
    {
     "data": {
      "text/plain": [
       "1    13136\n",
       "0     4364\n",
       "Name: has_cactus, dtype: int64"
      ]
     },
     "execution_count": 9,
     "metadata": {},
     "output_type": "execute_result"
    }
   ],
   "source": [
    "\n",
    "train_data.has_cactus.value_counts()"
   ]
  },
  {
   "cell_type": "code",
   "execution_count": 10,
   "metadata": {
    "_uuid": "e8ac9eba107afe5c2d99b7b2da52ef2d57449da7"
   },
   "outputs": [
    {
     "data": {
      "text/plain": [
       "<matplotlib.axes._subplots.AxesSubplot at 0x7fedb9aa7f98>"
      ]
     },
     "execution_count": 10,
     "metadata": {},
     "output_type": "execute_result"
    },
    {
     "data": {
      "image/png": "[encoded data removed]",
      "text/plain": [
       "<Figure size 432x288 with 1 Axes>"
      ]
     },
     "metadata": {},
     "output_type": "display_data"
    }
   ],
   "source": [
    "\n",
    "train_data.has_cactus.plot()"
   ]
  },
  {
   "cell_type": "markdown",
   "metadata": {
    "_uuid": "8b71d697d0f8911bc5aa51a10494319ed7544560"
   },
   "source": [
    "**Model**"
   ]
  },
  {
   "cell_type": "code",
   "execution_count": 11,
   "metadata": {
    "_uuid": "f9ff1b40ee8496610a4cb47eeb5da6a02a422b7e"
   },
   "outputs": [],
   "source": [
    "\n",
    "def image_generator2(batch_size = 16, all_data=True, shuffle=True, train=True, indexes=None):\n",
    "    while True:\n",
    "        if indexes is None:\n",
    "            if train:\n",
    "                if all_data:\n",
    "                    indexes = np.arange(train_data.shape[0])\n",
    "                else:\n",
    "                    indexes = np.arange(train_data[:15000].shape[0])\n",
    "                if shuffle:\n",
    "                    np.random.shuffle(indexes)\n",
    "            else:\n",
    "                indexes = np.arange(train_data[15000:].shape[0])\n",
    "            \n",
    "        N = int(len(indexes) / batch_size)\n",
    "       \n",
    "\n",
    "        # Read in each input, perform preprocessing and get labels\n",
    "        for i in range(N):\n",
    "            current_indexes = indexes[i*batch_size: (i+1)*batch_size]\n",
    "            batch_input = []\n",
    "            batch_output = [] \n",
    "            for index in current_indexes:\n",
    "                img = mpimg.imread('../input/train/train/' + train_data.id[index])\n",
    "                batch_input += [img]\n",
    "                batch_input += [img[::-1, :, :]]\n",
    "                batch_input += [img[:, ::-1, :]]\n",
    "                batch_input += [np.rot90(img)]\n",
    "                \n",
    "                temp_img = np.zeros_like(img)\n",
    "                temp_img[:28, :, :] = img[4:, :, :]\n",
    "                batch_input += [temp_img]\n",
    "                \n",
    "                temp_img = np.zeros_like(img)\n",
    "                temp_img[:, :28, :] = img[:, 4:, :]\n",
    "                batch_input += [temp_img]\n",
    "                \n",
    "                temp_img = np.zeros_like(img)\n",
    "                temp_img[4:, :, :] = img[:28, :, :]\n",
    "                batch_input += [temp_img]\n",
    "                \n",
    "                temp_img = np.zeros_like(img)\n",
    "                temp_img[:, 4:, :] = img[:, :28, :]\n",
    "                batch_input += [temp_img]\n",
    "                \n",
    "                batch_input += [cv2.resize(img[2:30, 2:30, :], (32, 32))]\n",
    "                \n",
    "                batch_input += [scipy.ndimage.interpolation.rotate(img, 10, reshape=False)]\n",
    "                \n",
    "                batch_input += [scipy.ndimage.interpolation.rotate(img, 5, reshape=False)]\n",
    "                \n",
    "                \n",
    "                for _ in range(11):\n",
    "                    batch_output += [train_data.has_cactus[index]]\n",
    "                \n",
    "            batch_input = np.array( batch_input )\n",
    "            batch_output = np.array( batch_output )\n",
    "        \n",
    "            yield( batch_input, batch_output.reshape(-1, 1) )"
   ]
  },
  {
   "cell_type": "code",
   "execution_count": 12,
   "metadata": {},
   "outputs": [],
   "source": [
    "positive_examples = train_data[train_data.has_cactus==1]\n",
    "negative_examples = train_data[train_data.has_cactus==0]"
   ]
  },
  {
   "cell_type": "code",
   "execution_count": 13,
   "metadata": {},
   "outputs": [],
   "source": [
    "def augment_img(img):\n",
    "    batch_input = []\n",
    "    batch_input += [img]\n",
    "    batch_input += [img[::-1, :, :]]\n",
    "    batch_input += [img[:, ::-1, :]]\n",
    "    batch_input += [np.rot90(img)]\n",
    "                \n",
    "    temp_img = np.zeros_like(img)\n",
    "    temp_img[:28, :, :] = img[4:, :, :]\n",
    "    batch_input += [temp_img]\n",
    "                \n",
    "    temp_img = np.zeros_like(img)\n",
    "    temp_img[:, :28, :] = img[:, 4:, :]\n",
    "    batch_input += [temp_img]\n",
    "                \n",
    "    temp_img = np.zeros_like(img)\n",
    "    temp_img[4:, :, :] = img[:28, :, :]\n",
    "    batch_input += [temp_img]\n",
    "                \n",
    "    temp_img = np.zeros_like(img)\n",
    "    temp_img[:, 4:, :] = img[:, :28, :]\n",
    "    batch_input += [temp_img]\n",
    "                \n",
    "    batch_input += [cv2.resize(img[2:30, 2:30, :], (32, 32))]\n",
    "                \n",
    "    batch_input += [scipy.ndimage.interpolation.rotate(img, 10, reshape=False)]\n",
    "                \n",
    "    batch_input += [scipy.ndimage.interpolation.rotate(img, 5, reshape=False)]\n",
    "    \n",
    "    return batch_input"
   ]
  },
  {
   "cell_type": "code",
   "execution_count": 14,
   "metadata": {
    "_uuid": "b3c9f90999806f09488b0c86dba480784dd024eb"
   },
   "outputs": [],
   "source": [
    "\n",
    "def image_generator(batch_size = 8, all_data=True, shuffle=True, train=True, indexes=None):\n",
    "    while True:\n",
    "        if indexes is None:\n",
    "            if train:\n",
    "                indexes = positive_examples.index.tolist()\n",
    "                neg_indexes = negative_examples.index.tolist()\n",
    "                if shuffle:\n",
    "                    np.random.shuffle(indexes)\n",
    "                    np.random.shuffle(neg_indexes)\n",
    "            \n",
    "        N = int(len(indexes) / (batch_size/2))\n",
    "        neg_N = int(len(neg_indexes) / (batch_size/2))\n",
    "       \n",
    "        j = 0\n",
    "\n",
    "        # Read in each input, perform preprocessing and get labels\n",
    "        for i in range(N):\n",
    "            current_indexes = indexes[i*(batch_size//2): (i+1)*(batch_size//2)]\n",
    "            current_neg_indexes = neg_indexes[j*(batch_size//2): (j+1)*(batch_size//2)]\n",
    "            j = (j + 1) % neg_N\n",
    "            batch_input = []\n",
    "            batch_output = [] \n",
    "            for ind in range(len(current_indexes)):\n",
    "                index = current_indexes[ind]\n",
    "                neg_index = current_neg_indexes[ind]\n",
    "                \n",
    "                img = mpimg.imread('../input/train/train/' + train_data.id[index])\n",
    "                batch_input.extend(augment_img(img))\n",
    "                for _ in range(11):\n",
    "                    batch_output += [train_data.has_cactus[index]]\n",
    "                \n",
    "                neg_img = mpimg.imread('../input/train/train/' + train_data.id[neg_index])\n",
    "                batch_input.extend(augment_img(neg_img))\n",
    "                for _ in range(11):\n",
    "                    batch_output += [train_data.has_cactus[neg_index]]\n",
    "                \n",
    "#                 factor = 0.05\n",
    "#                 new_img = factor*neg_img + (1-factor)*img\n",
    "#                 batch_input.append(new_img)\n",
    "#                 batch_output += [factor*train_data.has_cactus[neg_index]+(1-factor)*train_data.has_cactus[index]]\n",
    "                \n",
    "#                 factor = 0.95\n",
    "#                 new_img = factor*neg_img + (1-factor)*img\n",
    "#                 batch_input.append(new_img)\n",
    "#                 batch_output += [factor*train_data.has_cactus[neg_index]+(1-factor)*train_data.has_cactus[index]]\n",
    "            \n",
    "                \n",
    "                \n",
    "            batch_input = np.array( batch_input )\n",
    "            batch_output = np.array( batch_output )\n",
    "        \n",
    "            yield( batch_input, batch_output.reshape(-1, 1) )"
   ]
  },
  {
   "cell_type": "code",
   "execution_count": 15,
   "metadata": {
    "_uuid": "4337c52c9073b3386d503202392af4a6f7fb4dc8"
   },
   "outputs": [
    {
     "name": "stdout",
     "output_type": "stream",
     "text": [
      "WARNING:tensorflow:From /opt/conda/lib/python3.6/site-packages/tensorflow/python/framework/op_def_library.py:263: colocate_with (from tensorflow.python.framework.ops) is deprecated and will be removed in a future version.\n",
      "Instructions for updating:\n",
      "Colocations handled automatically by placer.\n"
     ]
    }
   ],
   "source": [
    "model = keras.models.Sequential()\n",
    "model.add(keras.layers.Conv2D(64, (5, 5), input_shape=(32, 32, 3)))\n",
    "model.add(keras.layers.BatchNormalization())\n",
    "model.add(keras.layers.LeakyReLU(alpha=0.3))\n",
    "\n",
    "model.add(keras.layers.Conv2D(64, (5, 5)))\n",
    "model.add(keras.layers.BatchNormalization())\n",
    "model.add(keras.layers.LeakyReLU(alpha=0.3))\n",
    "\n",
    "model.add(keras.layers.Conv2D(128, (5, 5)))\n",
    "model.add(keras.layers.BatchNormalization())\n",
    "model.add(keras.layers.LeakyReLU(alpha=0.3))\n",
    "\n",
    "model.add(keras.layers.Conv2D(128, (5, 5)))\n",
    "model.add(keras.layers.BatchNormalization())\n",
    "model.add(keras.layers.LeakyReLU(alpha=0.3))\n",
    "\n",
    "model.add(keras.layers.Conv2D(256, (3, 3)))\n",
    "model.add(keras.layers.BatchNormalization())\n",
    "model.add(keras.layers.LeakyReLU(alpha=0.3))\n",
    "\n",
    "model.add(keras.layers.Conv2D(256, (3, 3)))\n",
    "model.add(keras.layers.BatchNormalization())\n",
    "model.add(keras.layers.LeakyReLU(alpha=0.3))\n",
    "\n",
    "model.add(keras.layers.Conv2D(512, (3, 3)))\n",
    "model.add(keras.layers.BatchNormalization())\n",
    "model.add(keras.layers.LeakyReLU(alpha=0.3))\n",
    "\n",
    "model.add(keras.layers.Flatten())\n",
    "\n",
    "\n",
    "model.add(keras.layers.Dense(100))\n",
    "model.add(keras.layers.BatchNormalization())\n",
    "model.add(keras.layers.LeakyReLU(alpha=0.3))\n",
    "\n",
    "model.add(keras.layers.Dense(1, activation='sigmoid'))"
   ]
  },
  {
   "cell_type": "code",
   "execution_count": 16,
   "metadata": {
    "_uuid": "94139886cb2ac2e3d09ca4a439a02a5a7c60017c"
   },
   "outputs": [
    {
     "name": "stdout",
     "output_type": "stream",
     "text": [
      "_________________________________________________________________\n",
      "Layer (type)                 Output Shape              Param #   \n",
      "=================================================================\n",
      "conv2d_1 (Conv2D)            (None, 28, 28, 64)        4864      \n",
      "_________________________________________________________________\n",
      "batch_normalization_1 (Batch (None, 28, 28, 64)        256       \n",
      "_________________________________________________________________\n",
      "leaky_re_lu_1 (LeakyReLU)    (None, 28, 28, 64)        0         \n",
      "_________________________________________________________________\n",
      "conv2d_2 (Conv2D)            (None, 24, 24, 64)        102464    \n",
      "_________________________________________________________________\n",
      "batch_normalization_2 (Batch (None, 24, 24, 64)        256       \n",
      "_________________________________________________________________\n",
      "leaky_re_lu_2 (LeakyReLU)    (None, 24, 24, 64)        0         \n",
      "_________________________________________________________________\n",
      "conv2d_3 (Conv2D)            (None, 20, 20, 128)       204928    \n",
      "_________________________________________________________________\n",
      "batch_normalization_3 (Batch (None, 20, 20, 128)       512       \n",
      "_________________________________________________________________\n",
      "leaky_re_lu_3 (LeakyReLU)    (None, 20, 20, 128)       0         \n",
      "_________________________________________________________________\n",
      "conv2d_4 (Conv2D)            (None, 16, 16, 128)       409728    \n",
      "_________________________________________________________________\n",
      "batch_normalization_4 (Batch (None, 16, 16, 128)       512       \n",
      "_________________________________________________________________\n",
      "leaky_re_lu_4 (LeakyReLU)    (None, 16, 16, 128)       0         \n",
      "_________________________________________________________________\n",
      "conv2d_5 (Conv2D)            (None, 14, 14, 256)       295168    \n",
      "_________________________________________________________________\n",
      "batch_normalization_5 (Batch (None, 14, 14, 256)       1024      \n",
      "_________________________________________________________________\n",
      "leaky_re_lu_5 (LeakyReLU)    (None, 14, 14, 256)       0         \n",
      "_________________________________________________________________\n",
      "conv2d_6 (Conv2D)            (None, 12, 12, 256)       590080    \n",
      "_________________________________________________________________\n",
      "batch_normalization_6 (Batch (None, 12, 12, 256)       1024      \n",
      "_________________________________________________________________\n",
      "leaky_re_lu_6 (LeakyReLU)    (None, 12, 12, 256)       0         \n",
      "_________________________________________________________________\n",
      "conv2d_7 (Conv2D)            (None, 10, 10, 512)       1180160   \n",
      "_________________________________________________________________\n",
      "batch_normalization_7 (Batch (None, 10, 10, 512)       2048      \n",
      "_________________________________________________________________\n",
      "leaky_re_lu_7 (LeakyReLU)    (None, 10, 10, 512)       0         \n",
      "_________________________________________________________________\n",
      "flatten_1 (Flatten)          (None, 51200)             0         \n",
      "_________________________________________________________________\n",
      "dense_1 (Dense)              (None, 100)               5120100   \n",
      "_________________________________________________________________\n",
      "batch_normalization_8 (Batch (None, 100)               400       \n",
      "_________________________________________________________________\n",
      "leaky_re_lu_8 (LeakyReLU)    (None, 100)               0         \n",
      "_________________________________________________________________\n",
      "dense_2 (Dense)              (None, 1)                 101       \n",
      "=================================================================\n",
      "Total params: 7,913,625\n",
      "Trainable params: 7,910,609\n",
      "Non-trainable params: 3,016\n",
      "_________________________________________________________________\n"
     ]
    }
   ],
   "source": [
    "\n",
    "model.summary()"
   ]
  },
  {
   "cell_type": "code",
   "execution_count": 17,
   "metadata": {
    "_uuid": "b49b1fbb16775b030237fe721d9ed550242cb56e"
   },
   "outputs": [],
   "source": [
    "\n",
    "opt = keras.optimizers.SGD(lr=0.0001, momentum=0.9, nesterov=True)\n",
    "model.compile(optimizer=opt, loss='binary_crossentropy', metrics=['accuracy'])"
   ]
  },
  {
   "cell_type": "code",
   "execution_count": 18,
   "metadata": {
    "_uuid": "5ce20c2953167cd775249eb4bcd1f074d1e97ca1"
   },
   "outputs": [
    {
     "name": "stdout",
     "output_type": "stream",
     "text": [
      "WARNING:tensorflow:From /opt/conda/lib/python3.6/site-packages/tensorflow/python/ops/math_ops.py:3066: to_int32 (from tensorflow.python.ops.math_ops) is deprecated and will be removed in a future version.\n",
      "Instructions for updating:\n",
      "Use tf.cast instead.\n",
      "Epoch 1/30\n",
      "2188/2187 [==============================] - 86s 39ms/step - loss: 0.0982 - acc: 0.9642\n",
      "Epoch 2/30\n",
      "2188/2187 [==============================] - 81s 37ms/step - loss: 0.0414 - acc: 0.9855\n",
      "Epoch 3/30\n",
      "2188/2187 [==============================] - 80s 37ms/step - loss: 0.0200 - acc: 0.9931\n",
      "Epoch 4/30\n",
      "2188/2187 [==============================] - 80s 37ms/step - loss: 0.0122 - acc: 0.9961\n",
      "Epoch 5/30\n",
      "2188/2187 [==============================] - 80s 37ms/step - loss: 0.0066 - acc: 0.9982\n",
      "Epoch 6/30\n",
      "1897/2187 [=========================>....] - ETA: 10s - loss: 0.0050 - acc: 0.9988"
     ]
    }
   ],
   "source": [
    "def step_decay_schedule(initial_lr=1e-3, decay_factor=0.75, step_size=10):\n",
    "    '''\n",
    "    Wrapper function to create a LearningRateScheduler with step decay schedule.\n",
    "    '''\n",
    "    def schedule(epoch):\n",
    "        return initial_lr * (decay_factor ** np.floor(epoch/step_size))\n",
    "    \n",
    "    return keras.callbacks.LearningRateScheduler(schedule)\n",
    "\n",
    "lr_sched = step_decay_schedule(initial_lr=1e-3, decay_factor=0.75, step_size=2)\n",
    "early_stop = keras.callbacks.EarlyStopping(monitor='loss', patience=3)\n",
    "\n",
    "model.fit_generator(image_generator(), steps_per_epoch= train_data.shape[0] / 8, epochs=30, callbacks=[lr_sched, early_stop])"
   ]
  },
  {
   "cell_type": "code",
   "execution_count": 19,
   "metadata": {},
   "outputs": [],
   "source": [
    "# def step_decay_schedule(initial_lr=1e-3, decay_factor=0.75, step_size=10):\n",
    "#     '''\n",
    "#     Wrapper function to create a LearningRateScheduler with step decay schedule.\n",
    "#     '''\n",
    "#     def schedule(epoch):\n",
    "#         return initial_lr * (decay_factor ** np.floor(epoch/step_size))\n",
    "    \n",
    "#     return keras.callbacks.LearningRateScheduler(schedule)\n",
    "\n",
    "# lr_sched = step_decay_schedule(initial_lr=1e-3, decay_factor=0.75, step_size=2)\n",
    "\n",
    "# model.fit_generator(image_generator(), steps_per_epoch= train_data.shape[0] / 8, epochs=20, callbacks=[lr_sched])"
   ]
  },
  {
   "cell_type": "code",
   "execution_count": 20,
   "metadata": {},
   "outputs": [
    {
     "data": {
      "text/plain": [
       "[0.009791018411583233, 0.9962779681069635]"
      ]
     },
     "execution_count": 20,
     "metadata": {},
     "output_type": "execute_result"
    }
   ],
   "source": [
    "model.evaluate_generator(image_generator2(), steps=train_data.shape[0]//16)"
   ]
  },
  {
   "cell_type": "code",
   "execution_count": 21,
   "metadata": {},
   "outputs": [],
   "source": [
    "# model.evaluate_generator(image_generator(), steps=train_data.shape[0]//8)"
   ]
  },
  {
   "cell_type": "code",
   "execution_count": 22,
   "metadata": {
    "_uuid": "d7db07bc211668a4f280a8a127911dc41ad2d5ac"
   },
   "outputs": [],
   "source": [
    "\n",
    "# keras.backend.eval(model.optimizer.lr.assign(0.00001))"
   ]
  },
  {
   "cell_type": "code",
   "execution_count": 23,
   "metadata": {
    "_uuid": "c10eb0a90953f8afd803e65b8106d806278eb81f"
   },
   "outputs": [],
   "source": [
    "\n",
    "# model.fit_generator(image_generator(), steps_per_epoch= train_data.shape[0] / 16, epochs=15)"
   ]
  },
  {
   "cell_type": "code",
   "execution_count": 24,
   "metadata": {
    "_uuid": "96dfee3f7779bf3ab414e1641fc6f232bee977f9"
   },
   "outputs": [],
   "source": []
  },
  {
   "cell_type": "code",
   "execution_count": 24,
   "metadata": {
    "_uuid": "c2a3fec0fad75eba5b16335a8caf4716c63639a9"
   },
   "outputs": [],
   "source": [
    "\n",
    "indexes = np.arange(train_data.shape[0])\n",
    "N = int(len(indexes) / 64)   \n",
    "batch_size = 64\n",
    "\n",
    "wrong_ind = []\n",
    "for i in range(N):\n",
    "            current_indexes = indexes[i*64: (i+1)*64]\n",
    "            batch_input = []\n",
    "            batch_output = [] \n",
    "            for index in current_indexes:\n",
    "                img = mpimg.imread('../input/train/train/' + train_data.id[index])\n",
    "                batch_input += [img]\n",
    "                batch_output.append(train_data.has_cactus[index])\n",
    "            \n",
    "            batch_input = np.array( batch_input )\n",
    "#             batch_output = np.array( batch_output )\n",
    "\n",
    "            model_pred = model.predict_classes(batch_input)\n",
    "            for j in range(len(batch_output)):\n",
    "                if model_pred[j] != batch_output[j]:\n",
    "                    wrong_ind.append(i*batch_size+j)"
   ]
  },
  {
   "cell_type": "code",
   "execution_count": 25,
   "metadata": {
    "_uuid": "02cbcd07663980d89c0229052040e7a6efc3cea9"
   },
   "outputs": [
    {
     "data": {
      "text/plain": [
       "28"
      ]
     },
     "execution_count": 25,
     "metadata": {},
     "output_type": "execute_result"
    }
   ],
   "source": [
    "\n",
    "len(wrong_ind)"
   ]
  },
  {
   "cell_type": "code",
   "execution_count": 26,
   "metadata": {
    "_uuid": "99aba14ddb0268f0b8ff0b1af520a2eb5694a59e"
   },
   "outputs": [],
   "source": [
    "\n",
    "indexes = np.arange(train_data.shape[0])\n",
    "N = int(len(indexes) / 64)   \n",
    "batch_size = 64\n",
    "\n",
    "wrong_ind = []\n",
    "for i in range(N):\n",
    "            current_indexes = indexes[i*64: (i+1)*64]\n",
    "            batch_input = []\n",
    "            batch_output = [] \n",
    "            for index in current_indexes:\n",
    "                img = mpimg.imread('../input/train/train/' + train_data.id[index])\n",
    "                batch_input += [img[::-1, :, :]]\n",
    "                batch_output.append(train_data.has_cactus[index])\n",
    "            \n",
    "            batch_input = np.array( batch_input )\n",
    "\n",
    "            model_pred = model.predict_classes(batch_input)\n",
    "            for j in range(len(batch_output)):\n",
    "                if model_pred[j] != batch_output[j]:\n",
    "                    wrong_ind.append(i*batch_size+j)"
   ]
  },
  {
   "cell_type": "code",
   "execution_count": 27,
   "metadata": {
    "_uuid": "6f60db58eb1452f2a1efa579cf3553d3ed97b760"
   },
   "outputs": [
    {
     "data": {
      "text/plain": [
       "60"
      ]
     },
     "execution_count": 27,
     "metadata": {},
     "output_type": "execute_result"
    }
   ],
   "source": [
    "\n",
    "len(wrong_ind)"
   ]
  },
  {
   "cell_type": "code",
   "execution_count": 28,
   "metadata": {
    "_uuid": "3f3df1560928f63f709862bd2cf157626c91419f"
   },
   "outputs": [],
   "source": [
    "\n",
    "indexes = np.arange(train_data.shape[0])\n",
    "N = int(len(indexes) / 64)   \n",
    "batch_size = 64\n",
    "\n",
    "wrong_ind = []\n",
    "for i in range(N):\n",
    "            current_indexes = indexes[i*64: (i+1)*64]\n",
    "            batch_input = []\n",
    "            batch_output = [] \n",
    "            for index in current_indexes:\n",
    "                img = mpimg.imread('../input/train/train/' + train_data.id[index])\n",
    "                batch_input += [img[:, ::-1, :]]\n",
    "                batch_output.append(train_data.has_cactus[index])\n",
    "            \n",
    "            batch_input = np.array( batch_input )\n",
    "\n",
    "            model_pred = model.predict_classes(batch_input)\n",
    "            for j in range(len(batch_output)):\n",
    "                if model_pred[j] != batch_output[j]:\n",
    "                    wrong_ind.append(i*batch_size+j)"
   ]
  },
  {
   "cell_type": "code",
   "execution_count": 29,
   "metadata": {
    "_uuid": "2080af1860ec56cb4995fc9a994a5466d963980b"
   },
   "outputs": [
    {
     "data": {
      "text/plain": [
       "71"
      ]
     },
     "execution_count": 29,
     "metadata": {},
     "output_type": "execute_result"
    }
   ],
   "source": [
    "\n",
    "len(wrong_ind)"
   ]
  },
  {
   "cell_type": "code",
   "execution_count": 30,
   "metadata": {
    "_uuid": "8721278a9113d1f31ffbe6bfb2c7e9f50efdd3cc"
   },
   "outputs": [],
   "source": []
  },
  {
   "cell_type": "code",
   "execution_count": 30,
   "metadata": {
    "_uuid": "19f369e7b978dbbe62cf90798a58fea1f9618421"
   },
   "outputs": [
    {
     "name": "stdout",
     "output_type": "stream",
     "text": [
      "4000\r\n"
     ]
    }
   ],
   "source": [
    "\n",
    "!ls ../input/test/test/* | wc -l"
   ]
  },
  {
   "cell_type": "code",
   "execution_count": 31,
   "metadata": {
    "_uuid": "0647c120d566e8e610c47a6b0c7ce302453607e2"
   },
   "outputs": [],
   "source": [
    "\n",
    "test_files = os.listdir('../input/test/test/')"
   ]
  },
  {
   "cell_type": "code",
   "execution_count": 32,
   "metadata": {
    "_uuid": "0ec494e58bd9cae89de579c0f139f19758dede6b"
   },
   "outputs": [
    {
     "data": {
      "text/plain": [
       "4000"
      ]
     },
     "execution_count": 32,
     "metadata": {},
     "output_type": "execute_result"
    }
   ],
   "source": [
    "\n",
    "len(test_files)"
   ]
  },
  {
   "cell_type": "code",
   "execution_count": 33,
   "metadata": {
    "_uuid": "5da812ece13b25665dc1c608e5b6aacdcf1611f9"
   },
   "outputs": [],
   "source": [
    "\n",
    "batch = 40\n",
    "all_out = []\n",
    "for i in range(int(4000/batch)):\n",
    "    images = []\n",
    "    for j in range(batch):\n",
    "        img = mpimg.imread('../input/test/test/'+test_files[i*batch + j])\n",
    "        images += [img]\n",
    "    out = model.predict(np.array(images))\n",
    "    all_out += [out]"
   ]
  },
  {
   "cell_type": "code",
   "execution_count": 34,
   "metadata": {
    "_uuid": "410fff04d4f646e25bef760bc2a72b45e2c51642"
   },
   "outputs": [],
   "source": []
  },
  {
   "cell_type": "code",
   "execution_count": 34,
   "metadata": {
    "_uuid": "230944dcd785fa2c6e3cefeda0798bab12361397"
   },
   "outputs": [],
   "source": [
    "\n",
    "all_out = np.array(all_out).reshape((-1, 1))\n"
   ]
  },
  {
   "cell_type": "code",
   "execution_count": 35,
   "metadata": {
    "_uuid": "998937f04a36ee9f575b10b82e7e5783db9ab91a"
   },
   "outputs": [
    {
     "data": {
      "text/plain": [
       "(4000, 1)"
      ]
     },
     "execution_count": 35,
     "metadata": {},
     "output_type": "execute_result"
    }
   ],
   "source": [
    "\n",
    "all_out.shape"
   ]
  },
  {
   "cell_type": "code",
   "execution_count": 36,
   "metadata": {
    "_uuid": "b43a6dbc8ddba1234edaf899192273da3936f544"
   },
   "outputs": [],
   "source": [
    "\n",
    "sub_file = pd.DataFrame(data = {'id': test_files, 'has_cactus': all_out.reshape(-1).tolist()})"
   ]
  },
  {
   "cell_type": "code",
   "execution_count": 37,
   "metadata": {
    "_uuid": "6122bc9076f7ac65545921713f77b8358a250e15"
   },
   "outputs": [],
   "source": [
    "\n",
    "sub_file.to_csv('sample_submission.csv', index=False)"
   ]
  }
 ],
 "metadata": {
  "kernelspec": {
   "display_name": "Python 3",
   "language": "python",
   "name": "python3"
  },
  "language_info": {
   "codemirror_mode": {
    "name": "ipython",
    "version": 3
   },
   "file_extension": ".py",
   "mimetype": "text/x-python",
   "name": "python",
   "nbconvert_exporter": "python",
   "pygments_lexer": "ipython3",
   "version": "3.6.6"
  }
 },
 "nbformat": 4,
 "nbformat_minor": 1
}
