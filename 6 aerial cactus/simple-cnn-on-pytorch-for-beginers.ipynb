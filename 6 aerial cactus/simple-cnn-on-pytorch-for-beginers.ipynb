{
 "cells": [
  {
   "cell_type": "markdown",
   "metadata": {
    "_uuid": "c489f61240f89f8c7282558305cd593bed9a5c56"
   },
   "source": [
    "\n",
    "**EDA** (Exploratory Data Analysis).<P>\n",
    "The purpose of EDA is:\n",
    "+ Look at the data\n",
    "+ Understand the distribution of two classes (hasn't cactus / has cactus)\n",
    "+ Look at some features of the image (distribution of RGB channels, average brightness, etc.)"
   ]
  },
  {
   "cell_type": "code",
   "execution_count": 1,
   "metadata": {
    "_uuid": "8091a16e2e8c4abf5539c8864443e4c7dd70dcc6"
   },
   "outputs": [],
   "source": [
    "# Libreries\n",
    "\n",
    "import numpy as np\n",
    "import pandas as pd\n",
    "import os\n",
    "\n",
    "import cv2\n",
    "import matplotlib.pyplot as plt\n",
    "%matplotlib inline"
   ]
  },
  {
   "cell_type": "code",
   "execution_count": 2,
   "metadata": {
    "_uuid": "001d0b8a8b818c57a55fa4e20b5cae060a749cdc"
   },
   "outputs": [],
   "source": [
    "# Data path\n",
    "labels = pd.read_csv('../input/train.csv')\n",
    "sub = pd.read_csv('../input/sample_submission.csv')\n",
    "train_path = '../input/train/train/'\n",
    "test_path = '../input/test/test/'\n"
   ]
  },
  {
   "cell_type": "code",
   "execution_count": 3,
   "metadata": {
    "_uuid": "e3014c4a14b3ef03c7c031f04ae7a338102f3264"
   },
   "outputs": [
    {
     "name": "stdout",
     "output_type": "stream",
     "text": [
      "Num train samples:17500\n",
      "Num test samples:4000\n"
     ]
    }
   ],
   "source": [
    "print('Num train samples:{0}'.format(len(os.listdir(train_path))))\n",
    "print('Num test samples:{0}'.format(len(os.listdir(test_path))))"
   ]
  },
  {
   "cell_type": "code",
   "execution_count": 4,
   "metadata": {
    "_uuid": "9b2a7d66e5ceb7dabdd78c5ca6312a491f5ee536"
   },
   "outputs": [
    {
     "data": {
      "text/html": [
       "<div>\n",
       "<style scoped>\n",
       "    .dataframe tbody tr th:only-of-type {\n",
       "        vertical-align: middle;\n",
       "    }\n",
       "\n",
       "    .dataframe tbody tr th {\n",
       "        vertical-align: top;\n",
       "    }\n",
       "\n",
       "    .dataframe thead th {\n",
       "        text-align: right;\n",
       "    }\n",
       "</style>\n",
       "<table border=\"1\" class=\"dataframe\">\n",
       "  <thead>\n",
       "    <tr style=\"text-align: right;\">\n",
       "      <th></th>\n",
       "      <th>id</th>\n",
       "      <th>has_cactus</th>\n",
       "    </tr>\n",
       "  </thead>\n",
       "  <tbody>\n",
       "    <tr>\n",
       "      <th>0</th>\n",
       "      <td>0004be2cfeaba1c0361d39e2b000257b.jpg</td>\n",
       "      <td>1</td>\n",
       "    </tr>\n",
       "    <tr>\n",
       "      <th>1</th>\n",
       "      <td>000c8a36845c0208e833c79c1bffedd1.jpg</td>\n",
       "      <td>1</td>\n",
       "    </tr>\n",
       "    <tr>\n",
       "      <th>2</th>\n",
       "      <td>000d1e9a533f62e55c289303b072733d.jpg</td>\n",
       "      <td>1</td>\n",
       "    </tr>\n",
       "    <tr>\n",
       "      <th>3</th>\n",
       "      <td>0011485b40695e9138e92d0b3fb55128.jpg</td>\n",
       "      <td>1</td>\n",
       "    </tr>\n",
       "    <tr>\n",
       "      <th>4</th>\n",
       "      <td>0014d7a11e90b62848904c1418fc8cf2.jpg</td>\n",
       "      <td>1</td>\n",
       "    </tr>\n",
       "  </tbody>\n",
       "</table>\n",
       "</div>"
      ],
      "text/plain": [
       "                                     id  has_cactus\n",
       "0  0004be2cfeaba1c0361d39e2b000257b.jpg           1\n",
       "1  000c8a36845c0208e833c79c1bffedd1.jpg           1\n",
       "2  000d1e9a533f62e55c289303b072733d.jpg           1\n",
       "3  0011485b40695e9138e92d0b3fb55128.jpg           1\n",
       "4  0014d7a11e90b62848904c1418fc8cf2.jpg           1"
      ]
     },
     "execution_count": 4,
     "metadata": {},
     "output_type": "execute_result"
    }
   ],
   "source": [
    "labels.head()"
   ]
  },
  {
   "cell_type": "code",
   "execution_count": 5,
   "metadata": {
    "_uuid": "97ab9f486e6fe9d51893d596fb48d66180ef667f"
   },
   "outputs": [
    {
     "data": {
      "text/plain": [
       "1    13136\n",
       "0     4364\n",
       "Name: has_cactus, dtype: int64"
      ]
     },
     "execution_count": 5,
     "metadata": {},
     "output_type": "execute_result"
    }
   ],
   "source": [
    "labels['has_cactus'].value_counts()"
   ]
  },
  {
   "cell_type": "code",
   "execution_count": 6,
   "metadata": {
    "_uuid": "9a57e99a8229014b5b0150a1aded545135ae6480"
   },
   "outputs": [
    {
     "data": {
      "image/png": "[encoded data removed]",
      "text/plain": [
       "<Figure size 504x504 with 1 Axes>"
      ]
     },
     "metadata": {},
     "output_type": "display_data"
    }
   ],
   "source": [
    "lab = 'Has cactus','Hasn\\'t cactus'\n",
    "colors=['green','brown']\n",
    "\n",
    "plt.figure(figsize=(7,7))\n",
    "plt.pie(labels.groupby('has_cactus').size(), labels=lab,\n",
    "        labeldistance=1.1, autopct='%1.1f%%',\n",
    "        colors=colors,shadow=True, startangle=140)\n",
    "plt.show()"
   ]
  },
  {
   "cell_type": "markdown",
   "metadata": {
    "_uuid": "4020626fa4926199e0060858505ea2b157f23a5e"
   },
   "source": [
    "** Has cactus**"
   ]
  },
  {
   "cell_type": "code",
   "execution_count": 7,
   "metadata": {
    "_uuid": "d0b17be275277efa6e4494a85146c2a7bbc49513"
   },
   "outputs": [
    {
     "data": {
      "image/png": "[encoded data removed]",
      "text/plain": [
       "<Figure size 1080x216 with 5 Axes>"
      ]
     },
     "metadata": {},
     "output_type": "display_data"
    }
   ],
   "source": [
    "fig,ax = plt.subplots(1,5,figsize=(15,3))\n",
    "\n",
    "for i, idx in enumerate(labels[labels['has_cactus']==1]['id'][-5:]):\n",
    "  path = os.path.join(train_path,idx)\n",
    "  ax[i].imshow(cv2.imread(path)) # [...,[2,1,0]]"
   ]
  },
  {
   "cell_type": "markdown",
   "metadata": {
    "_uuid": "d39af3a41a37decaeed3e0176ac428dcfdde4db4"
   },
   "source": [
    "**Hasn't cactus**"
   ]
  },
  {
   "cell_type": "code",
   "execution_count": 8,
   "metadata": {
    "_uuid": "3fd08e9fede17d1a398c4d6b111d862155a1eb95"
   },
   "outputs": [
    {
     "data": {
      "image/png": "[encoded data removed]",
      "text/plain": [
       "<Figure size 1080x216 with 5 Axes>"
      ]
     },
     "metadata": {},
     "output_type": "display_data"
    }
   ],
   "source": [
    "fig,ax = plt.subplots(1,5,figsize=(15,3))\n",
    "\n",
    "for i, idx in enumerate(labels[labels['has_cactus']==0]['id'][-5:]):\n",
    "  path = os.path.join(train_path,idx)\n",
    "  ax[i].imshow(cv2.imread(path)) # [...,[2,1,0]]"
   ]
  },
  {
   "cell_type": "markdown",
   "metadata": {
    "_uuid": "d3c5262a32147c59854f7fab718657d0e5384299"
   },
   "source": [
    "**convolutional neural network on pytorch from scratch**"
   ]
  },
  {
   "cell_type": "code",
   "execution_count": 9,
   "metadata": {
    "_uuid": "8a0b815dfe3e75a3acac2fb8ab3ef4ebef305e9b"
   },
   "outputs": [],
   "source": [
    "# Libreries\n",
    "\n",
    "import torch\n",
    "import torch.nn as nn\n",
    "import torch.nn.functional as F\n",
    "from torch.utils.data import TensorDataset, DataLoader, Dataset\n",
    "import torchvision\n",
    "import torchvision.transforms as transforms\n",
    "\n",
    "from sklearn.model_selection import train_test_split"
   ]
  },
  {
   "cell_type": "code",
   "execution_count": 10,
   "metadata": {
    "_uuid": "15b0f497eed90f7e2b4a18900becdf44a8120802"
   },
   "outputs": [],
   "source": [
    "## Parameters for model\n",
    "\n",
    "# Hyper parameters\n",
    "num_epochs = 25\n",
    "num_classes = 2\n",
    "batch_size = 128\n",
    "learning_rate = 0.002\n",
    "\n",
    "# Device configuration\n",
    "device = torch.device('cuda:0' if torch.cuda.is_available() else 'cpu')"
   ]
  },
  {
   "cell_type": "code",
   "execution_count": 11,
   "metadata": {
    "_uuid": "c07eab67e573c7de05e11065b5bafc1bbff284fb"
   },
   "outputs": [
    {
     "data": {
      "text/plain": [
       "((15750, 2), (1750, 2))"
      ]
     },
     "execution_count": 11,
     "metadata": {},
     "output_type": "execute_result"
    }
   ],
   "source": [
    "# data splitting\n",
    "train, val = train_test_split(labels, stratify=labels.has_cactus, test_size=0.1)\n",
    "train.shape, val.shape"
   ]
  },
  {
   "cell_type": "markdown",
   "metadata": {
    "_uuid": "c135b30fb7e7d3d4d3269296b876538a98cc7fc7"
   },
   "source": [
    "Checking label distribution(must be 1:3)"
   ]
  },
  {
   "cell_type": "code",
   "execution_count": 12,
   "metadata": {
    "_uuid": "d5a2748430bfa0f0e122d76791a6a67db1c6c129"
   },
   "outputs": [
    {
     "data": {
      "text/plain": [
       "1    11822\n",
       "0     3928\n",
       "Name: has_cactus, dtype: int64"
      ]
     },
     "execution_count": 12,
     "metadata": {},
     "output_type": "execute_result"
    }
   ],
   "source": [
    "train['has_cactus'].value_counts()"
   ]
  },
  {
   "cell_type": "code",
   "execution_count": 13,
   "metadata": {
    "_uuid": "7413cb881d60196fafdd7722469c93053fe0c36a"
   },
   "outputs": [
    {
     "data": {
      "text/plain": [
       "1    1314\n",
       "0     436\n",
       "Name: has_cactus, dtype: int64"
      ]
     },
     "execution_count": 13,
     "metadata": {},
     "output_type": "execute_result"
    }
   ],
   "source": [
    "val['has_cactus'].value_counts()"
   ]
  },
  {
   "cell_type": "markdown",
   "metadata": {
    "_uuid": "927eecca044d8d8c5268ce105a863062db3bdee9"
   },
   "source": [
    "**Simple custom generator**"
   ]
  },
  {
   "cell_type": "code",
   "execution_count": 14,
   "metadata": {
    "_uuid": "1b05af8d59d9d5b092e96f72dfebb19591416de9"
   },
   "outputs": [],
   "source": [
    "# NOTE: class is inherited from Dataset\n",
    "class MyDataset(Dataset):\n",
    "    def __init__(self, df_data, data_dir = './', transform=None):\n",
    "        super().__init__()\n",
    "        self.df = df_data.values\n",
    "        self.data_dir = data_dir\n",
    "        self.transform = transform\n",
    "\n",
    "    def __len__(self):\n",
    "        return len(self.df)\n",
    "    \n",
    "    def __getitem__(self, index):\n",
    "        img_name,label = self.df[index]\n",
    "        img_path = os.path.join(self.data_dir, img_name)\n",
    "        image = cv2.imread(img_path)\n",
    "        if self.transform is not None:\n",
    "            image = self.transform(image)\n",
    "        return image, label"
   ]
  },
  {
   "cell_type": "code",
   "execution_count": 15,
   "metadata": {
    "_uuid": "c247391c28497ad35c72f5218398ea71f2d0d5ff"
   },
   "outputs": [],
   "source": [
    "# Image preprocessing\n",
    "trans_train = transforms.Compose([transforms.ToPILImage(),\n",
    "                                  transforms.Pad(32, padding_mode='reflect'),\n",
    "                                  transforms.ToTensor(),\n",
    "                                  transforms.Normalize(mean=[0.5, 0.5, 0.5],std=[0.5, 0.5, 0.5])])\n",
    "\n",
    "trans_valid = transforms.Compose([transforms.ToPILImage(),\n",
    "                                  transforms.Pad(32, padding_mode='reflect'),\n",
    "                                  transforms.ToTensor(),\n",
    "                                  transforms.Normalize(mean=[0.5, 0.5, 0.5],std=[0.5, 0.5, 0.5])])\n",
    "\n",
    "# Data generators\n",
    "dataset_train = MyDataset(df_data=train, data_dir=train_path, transform=trans_train)\n",
    "dataset_valid = MyDataset(df_data=val, data_dir=train_path, transform=trans_valid)\n",
    "\n",
    "loader_train = DataLoader(dataset = dataset_train, batch_size=batch_size, shuffle=True, num_workers=0)\n",
    "loader_valid = DataLoader(dataset = dataset_valid, batch_size=batch_size//2, shuffle=False, num_workers=0)"
   ]
  },
  {
   "cell_type": "markdown",
   "metadata": {
    "_uuid": "d5b704c5f1535893fb123b044a17e98e6d4536d3"
   },
   "source": [
    "**Model**"
   ]
  },
  {
   "cell_type": "raw",
   "metadata": {
    "_uuid": "f2c16a81e06dcb781ef1ef8d58ee021cb487858d"
   },
   "source": []
  },
  {
   "cell_type": "code",
   "execution_count": 16,
   "metadata": {
    "_uuid": "0a2d5600bc2eb915ec0bdf5b52ba11e25096f7d0"
   },
   "outputs": [],
   "source": [
    "# NOTE: class is inherited from nn.Module\n",
    "class SimpleCNN(nn.Module):\n",
    "    def __init__(self):\n",
    "        # ancestor constructor call\n",
    "        super(SimpleCNN, self).__init__()\n",
    "        \n",
    "        self.conv1 = nn.Conv2d(in_channels=3, out_channels=32, kernel_size=3, padding=2)\n",
    "        self.conv2 = nn.Conv2d(in_channels=32, out_channels=64, kernel_size=3, padding=2)\n",
    "        self.conv3 = nn.Conv2d(in_channels=64, out_channels=128, kernel_size=3, padding=2)\n",
    "        self.conv4 = nn.Conv2d(in_channels=128, out_channels=256, kernel_size=3, padding=2)\n",
    "        self.conv5 = nn.Conv2d(in_channels=256, out_channels=512, kernel_size=3, padding=2)\n",
    "        self.bn1 = nn.BatchNorm2d(32)\n",
    "        self.bn2 = nn.BatchNorm2d(64)\n",
    "        self.bn3 = nn.BatchNorm2d(128)\n",
    "        self.bn4 = nn.BatchNorm2d(256)\n",
    "        self.bn5 = nn.BatchNorm2d(512)\n",
    "        self.pool = nn.MaxPool2d(kernel_size=2, stride=2)\n",
    "        self.avg = nn.AvgPool2d(4)\n",
    "        self.fc = nn.Linear(512 * 1 * 1, 2) # !!!\n",
    "   \n",
    "    def forward(self, x):\n",
    "        x = self.pool(F.leaky_relu(self.bn1(self.conv1(x)))) # first convolutional layer then batchnorm, then activation then pooling layer.\n",
    "        x = self.pool(F.leaky_relu(self.bn2(self.conv2(x))))\n",
    "        x = self.pool(F.leaky_relu(self.bn3(self.conv3(x))))\n",
    "        x = self.pool(F.leaky_relu(self.bn4(self.conv4(x))))\n",
    "        x = self.pool(F.leaky_relu(self.bn5(self.conv5(x))))\n",
    "        x = self.avg(x)\n",
    "        #print(x.shape) # lifehack to find out the correct dimension for the Linear Layer\n",
    "        x = x.view(-1, 512 * 1 * 1) # !!!\n",
    "        x = self.fc(x)\n",
    "        return x"
   ]
  },
  {
   "cell_type": "markdown",
   "metadata": {
    "_uuid": "ddc0c9fa57b099efb960da216998d7c4eb7b974b"
   },
   "source": [
    "**Important note:** You may notice that in lines with # !!! there is not very clear 128 \\* 11 \\* 11. This is the dimension of the picture before the FC layers (H x W x C), then you have to calculate it manually (in Keras, for example, .Flatten () does everything for you). However, there is one life hack — just make print (x.shape) in forward () (commented out line). You will see the size (batch_size, C, H, W) - you need to multiply everything except the first (batch_size), this will be the first dimension of Linear (), and it is in C H W that you need to \"expand\" x before feeding to Linear ()."
   ]
  },
  {
   "cell_type": "code",
   "execution_count": 17,
   "metadata": {
    "_cell_guid": "79c7e3d0-c299-4dcb-8224-4455121ee9b0",
    "_uuid": "d629ff2d2480ee46fbb7e2d37f6b5fab8052498a"
   },
   "outputs": [],
   "source": [
    "model = SimpleCNN().to(device)"
   ]
  },
  {
   "cell_type": "code",
   "execution_count": 18,
   "metadata": {
    "_uuid": "fceb2929d8750acb2de745cd9ff3d2d458820df8"
   },
   "outputs": [],
   "source": [
    "# Loss and optimizer\n",
    "criterion = nn.CrossEntropyLoss()\n",
    "optimizer = torch.optim.Adamax(model.parameters(), lr=learning_rate)"
   ]
  },
  {
   "cell_type": "code",
   "execution_count": 19,
   "metadata": {
    "_uuid": "2c37417ae6b62ab4551bc8a888916ca1e591d284"
   },
   "outputs": [
    {
     "name": "stdout",
     "output_type": "stream",
     "text": [
      "Epoch [1/25], Step [100/124], Loss: 0.0584\n",
      "Epoch [2/25], Step [100/124], Loss: 0.0095\n",
      "Epoch [3/25], Step [100/124], Loss: 0.0156\n",
      "Epoch [4/25], Step [100/124], Loss: 0.0050\n",
      "Epoch [5/25], Step [100/124], Loss: 0.0051\n",
      "Epoch [6/25], Step [100/124], Loss: 0.0047\n",
      "Epoch [7/25], Step [100/124], Loss: 0.0112\n",
      "Epoch [8/25], Step [100/124], Loss: 0.0156\n",
      "Epoch [9/25], Step [100/124], Loss: 0.0078\n",
      "Epoch [10/25], Step [100/124], Loss: 0.0294\n",
      "Epoch [11/25], Step [100/124], Loss: 0.0055\n",
      "Epoch [12/25], Step [100/124], Loss: 0.0600\n",
      "Epoch [13/25], Step [100/124], Loss: 0.0016\n",
      "Epoch [14/25], Step [100/124], Loss: 0.0073\n",
      "Epoch [15/25], Step [100/124], Loss: 0.0053\n",
      "Epoch [16/25], Step [100/124], Loss: 0.0014\n",
      "Epoch [17/25], Step [100/124], Loss: 0.0036\n",
      "Epoch [18/25], Step [100/124], Loss: 0.0011\n",
      "Epoch [19/25], Step [100/124], Loss: 0.0030\n",
      "Epoch [20/25], Step [100/124], Loss: 0.0025\n",
      "Epoch [21/25], Step [100/124], Loss: 0.0012\n",
      "Epoch [22/25], Step [100/124], Loss: 0.0034\n",
      "Epoch [23/25], Step [100/124], Loss: 0.0060\n",
      "Epoch [24/25], Step [100/124], Loss: 0.0007\n",
      "Epoch [25/25], Step [100/124], Loss: 0.0010\n"
     ]
    }
   ],
   "source": [
    "\n",
    "# Train the model\n",
    "total_step = len(loader_train)\n",
    "for epoch in range(num_epochs):\n",
    "    for i, (images, labels) in enumerate(loader_train):\n",
    "        images = images.to(device)\n",
    "        labels = labels.to(device)\n",
    "        \n",
    "        # Forward pass\n",
    "        outputs = model(images)\n",
    "        loss = criterion(outputs, labels)\n",
    "        \n",
    "        # Backward and optimize\n",
    "        optimizer.zero_grad()\n",
    "        loss.backward()\n",
    "        optimizer.step()\n",
    "        \n",
    "        if (i+1) % 100 == 0:\n",
    "            print ('Epoch [{}/{}], Step [{}/{}], Loss: {:.4f}' \n",
    "                   .format(epoch+1, num_epochs, i+1, total_step, loss.item()))"
   ]
  },
  {
   "cell_type": "markdown",
   "metadata": {
    "_uuid": "6717e1f042af708bf5e503fb48d4238700bfd051"
   },
   "source": [
    "**Accuracy Check**"
   ]
  },
  {
   "cell_type": "code",
   "execution_count": 20,
   "metadata": {
    "_uuid": "8eeede941d6f851963062716934664c42dfb453f"
   },
   "outputs": [
    {
     "name": "stdout",
     "output_type": "stream",
     "text": [
      "Test Accuracy of the model on the 1750 validation images: 99.25714285714285 %\n"
     ]
    }
   ],
   "source": [
    "# Test the model\n",
    "model.eval()  # eval mode (batchnorm uses moving mean/variance instead of mini-batch mean/variance)\n",
    "with torch.no_grad():\n",
    "    correct = 0\n",
    "    total = 0\n",
    "    for images, labels in loader_valid:\n",
    "        images = images.to(device)\n",
    "        labels = labels.to(device)\n",
    "        outputs = model(images)\n",
    "        _, predicted = torch.max(outputs.data, 1)\n",
    "        total += labels.size(0)\n",
    "        correct += (predicted == labels).sum().item()\n",
    "          \n",
    "    print('Test Accuracy of the model on the 1750 validation images: {} %'.format(100 * correct / total))\n",
    "\n",
    "# Save the model checkpoint\n",
    "torch.save(model.state_dict(), 'model.ckpt')"
   ]
  },
  {
   "cell_type": "markdown",
   "metadata": {
    "_uuid": "fd3d39662e541252efe2dc41c6c60b921ef29762"
   },
   "source": [
    "**CSV submission**"
   ]
  },
  {
   "cell_type": "code",
   "execution_count": 21,
   "metadata": {
    "_uuid": "870413a60281e0c4115fbc7cf192508e15a9e269"
   },
   "outputs": [],
   "source": [
    "# generator for test data \n",
    "dataset_valid = MyDataset(df_data=sub, data_dir=test_path, transform=trans_valid)\n",
    "loader_test = DataLoader(dataset = dataset_valid, batch_size=32, shuffle=False, num_workers=0)"
   ]
  },
  {
   "cell_type": "code",
   "execution_count": 22,
   "metadata": {
    "_uuid": "3ab4ed7eeaa02f3fa4033d9ef96266a99ca87f95"
   },
   "outputs": [],
   "source": [
    "model.eval()\n",
    "\n",
    "preds = []\n",
    "for batch_i, (data, target) in enumerate(loader_test):\n",
    "    data, target = data.cuda(), target.cuda()\n",
    "    output = model(data)\n",
    "\n",
    "    pr = output[:,1].detach().cpu().numpy()\n",
    "    for i in pr:\n",
    "        preds.append(i)\n",
    "\n",
    "sub['has_cactus'] = preds\n",
    "sub.to_csv('sub.csv', index=False)"
   ]
  },
  {
   "cell_type": "code",
   "execution_count": 23,
   "metadata": {
    "_uuid": "1a81dc03683eba5438c0b4845491db67e607c840"
   },
   "outputs": [],
   "source": []
  }
 ],
 "metadata": {
  "kernelspec": {
   "display_name": "Python 3",
   "language": "python",
   "name": "python3"
  },
  "language_info": {
   "codemirror_mode": {
    "name": "ipython",
    "version": 3
   },
   "file_extension": ".py",
   "mimetype": "text/x-python",
   "name": "python",
   "nbconvert_exporter": "python",
   "pygments_lexer": "ipython3",
   "version": "3.6.6"
  }
 },
 "nbformat": 4,
 "nbformat_minor": 1
}
