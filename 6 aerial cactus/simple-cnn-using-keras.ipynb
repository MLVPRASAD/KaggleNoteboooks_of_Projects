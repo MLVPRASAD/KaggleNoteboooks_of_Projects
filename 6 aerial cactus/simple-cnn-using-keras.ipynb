{
 "cells": [
  {
   "cell_type": "markdown",
   "metadata": {},
   "source": [
    "### The goal of this kernel is to create a simple Convolution Neural Network that will allow to differentiate images that contains cacti from images that do not. While better results closer to 100% accuracy could be designed using layers from pre-trained models such as VGG16, we want to stick with a fairly simple CNN architecture and see how far we can go, and whether pre-trained layers are even needed."
   ]
  },
  {
   "cell_type": "code",
   "execution_count": 1,
   "metadata": {
    "_cell_guid": "b1076dfc-b9ad-4769-8c92-a6c4dae69d19",
    "_uuid": "8f2839f25d086af736a60e9eeb907d3b93b6e0e5"
   },
   "outputs": [],
   "source": [
    "import numpy as np\n",
    "import matplotlib.pyplot as plt\n",
    "import pandas as pd\n",
    "\n",
    "import tensorflow as tf\n",
    "from tensorflow import keras\n",
    "\n",
    "import os\n",
    "from shutil import copyfile, move\n",
    "from tqdm import tqdm\n",
    "import h5py"
   ]
  },
  {
   "cell_type": "markdown",
   "metadata": {},
   "source": [
    "Just a quick check to make verify Tensorflow version and whether the GPU is found."
   ]
  },
  {
   "cell_type": "code",
   "execution_count": 2,
   "metadata": {
    "_cell_guid": "79c7e3d0-c299-4dcb-8224-4455121ee9b0",
    "_uuid": "d629ff2d2480ee46fbb7e2d37f6b5fab8052498a"
   },
   "outputs": [
    {
     "name": "stdout",
     "output_type": "stream",
     "text": [
      "1.13.1\n",
      "True\n"
     ]
    }
   ],
   "source": [
    "print(tf.__version__)\n",
    "print(tf.test.is_gpu_available())"
   ]
  },
  {
   "cell_type": "markdown",
   "metadata": {},
   "source": [
    "# Prepare the data"
   ]
  },
  {
   "cell_type": "markdown",
   "metadata": {},
   "source": [
    "In order to prepare the dataset and use Keras' ImageDataGenerator, it was decided to extract the images to a new folder where images are sorted into 2 folders, one for images with cacti, and one for images without. It is, therefore, required to load the .csv file provided to retrieve the groundtruth and copy the files in the right folder."
   ]
  },
  {
   "cell_type": "code",
   "execution_count": 3,
   "metadata": {},
   "outputs": [
    {
     "data": {
      "text/html": [
       "<div>\n",
       "<style scoped>\n",
       "    .dataframe tbody tr th:only-of-type {\n",
       "        vertical-align: middle;\n",
       "    }\n",
       "\n",
       "    .dataframe tbody tr th {\n",
       "        vertical-align: top;\n",
       "    }\n",
       "\n",
       "    .dataframe thead th {\n",
       "        text-align: right;\n",
       "    }\n",
       "</style>\n",
       "<table border=\"1\" class=\"dataframe\">\n",
       "  <thead>\n",
       "    <tr style=\"text-align: right;\">\n",
       "      <th></th>\n",
       "      <th>id</th>\n",
       "      <th>has_cactus</th>\n",
       "    </tr>\n",
       "  </thead>\n",
       "  <tbody>\n",
       "    <tr>\n",
       "      <th>0</th>\n",
       "      <td>0004be2cfeaba1c0361d39e2b000257b.jpg</td>\n",
       "      <td>1</td>\n",
       "    </tr>\n",
       "    <tr>\n",
       "      <th>1</th>\n",
       "      <td>000c8a36845c0208e833c79c1bffedd1.jpg</td>\n",
       "      <td>1</td>\n",
       "    </tr>\n",
       "    <tr>\n",
       "      <th>2</th>\n",
       "      <td>000d1e9a533f62e55c289303b072733d.jpg</td>\n",
       "      <td>1</td>\n",
       "    </tr>\n",
       "    <tr>\n",
       "      <th>3</th>\n",
       "      <td>0011485b40695e9138e92d0b3fb55128.jpg</td>\n",
       "      <td>1</td>\n",
       "    </tr>\n",
       "    <tr>\n",
       "      <th>4</th>\n",
       "      <td>0014d7a11e90b62848904c1418fc8cf2.jpg</td>\n",
       "      <td>1</td>\n",
       "    </tr>\n",
       "  </tbody>\n",
       "</table>\n",
       "</div>"
      ],
      "text/plain": [
       "                                     id  has_cactus\n",
       "0  0004be2cfeaba1c0361d39e2b000257b.jpg           1\n",
       "1  000c8a36845c0208e833c79c1bffedd1.jpg           1\n",
       "2  000d1e9a533f62e55c289303b072733d.jpg           1\n",
       "3  0011485b40695e9138e92d0b3fb55128.jpg           1\n",
       "4  0014d7a11e90b62848904c1418fc8cf2.jpg           1"
      ]
     },
     "execution_count": 3,
     "metadata": {},
     "output_type": "execute_result"
    }
   ],
   "source": [
    "training_df = pd.read_csv(\"../input/train.csv\")\n",
    "training_df.head()"
   ]
  },
  {
   "cell_type": "code",
   "execution_count": 4,
   "metadata": {},
   "outputs": [
    {
     "name": "stderr",
     "output_type": "stream",
     "text": [
      "100%|██████████| 17500/17500 [00:16<00:00, 1082.21it/s]\n"
     ]
    }
   ],
   "source": [
    "src = \"../input/train/train/\"\n",
    "dst = \"../sorted_training/\"\n",
    "\n",
    "os.mkdir(dst)\n",
    "os.mkdir(dst+\"true\")\n",
    "os.mkdir(dst+\"false\")\n",
    "\n",
    "with tqdm(total=len(list(training_df.iterrows()))) as pbar:\n",
    "    for idx, row in training_df.iterrows():\n",
    "        pbar.update(1)\n",
    "        if row[\"has_cactus\"] == 1:\n",
    "            copyfile(src+row[\"id\"], dst+\"true/\"+row[\"id\"])\n",
    "        else:\n",
    "            copyfile(src+row[\"id\"], dst+\"false/\"+row[\"id\"])"
   ]
  },
  {
   "cell_type": "markdown",
   "metadata": {},
   "source": [
    "I then extract the validation from the folder where I stored the training set. Note that this time, the files are moved and not just copied."
   ]
  },
  {
   "cell_type": "code",
   "execution_count": 5,
   "metadata": {},
   "outputs": [
    {
     "name": "stderr",
     "output_type": "stream",
     "text": [
      "100%|██████████| 1750/1750 [00:00<00:00, 8077.41it/s]\n"
     ]
    }
   ],
   "source": [
    "src = \"../sorted_training/\"\n",
    "dst = \"../sorted_validation/\"\n",
    "\n",
    "os.mkdir(dst)\n",
    "os.mkdir(dst+\"true\")\n",
    "os.mkdir(dst+\"false\")\n",
    "\n",
    "validation_df = training_df.sample(n=int(len(training_df)/10))\n",
    "\n",
    "with tqdm(total=len(list(validation_df.iterrows()))) as pbar:\n",
    "    for idx, row in validation_df.iterrows():\n",
    "        pbar.update(1)\n",
    "        if row[\"has_cactus\"] == 1:\n",
    "            move(src+\"true/\"+row[\"id\"], dst+\"true/\"+row[\"id\"])\n",
    "        else:\n",
    "            move(src+\"false/\"+row[\"id\"], dst+\"false/\"+row[\"id\"])"
   ]
  },
  {
   "cell_type": "markdown",
   "metadata": {},
   "source": [
    "# Load the dataset"
   ]
  },
  {
   "cell_type": "markdown",
   "metadata": {},
   "source": [
    "Even though it is considered good practice to import all libraries at the beginning of a script, I tend to import the ones related to the model architecture right before, as it makes them visible and gives expectations to a reader as to what to find in the architecture."
   ]
  },
  {
   "cell_type": "code",
   "execution_count": 6,
   "metadata": {},
   "outputs": [],
   "source": [
    "from tensorflow.keras.models import Sequential\n",
    "from tensorflow.keras.layers import InputLayer, Input\n",
    "from tensorflow.keras.layers import Conv2D, Dense, Flatten, Dropout, Activation\n",
    "from tensorflow.keras.layers import BatchNormalization, Reshape, MaxPooling2D, GlobalAveragePooling2D\n",
    "from tensorflow.keras.preprocessing.image import ImageDataGenerator\n",
    "from tensorflow.keras.callbacks import EarlyStopping, ModelCheckpoint"
   ]
  },
  {
   "cell_type": "markdown",
   "metadata": {},
   "source": [
    "The dataset being relatively small, data augmentation is very important to generalise and learn what a cactus look like. Based on the fact that cactus detection seems like an easy problem and we're dealing with a small amount of data, the batch size is kept small as training will be quick anyway."
   ]
  },
  {
   "cell_type": "code",
   "execution_count": 7,
   "metadata": {},
   "outputs": [
    {
     "name": "stdout",
     "output_type": "stream",
     "text": [
      "Found 15750 images belonging to 2 classes.\n",
      "Found 1750 images belonging to 2 classes.\n"
     ]
    }
   ],
   "source": [
    "batch_size = 64\n",
    "\n",
    "train_datagen = ImageDataGenerator(\n",
    "    rescale=1. / 255,\n",
    "    horizontal_flip=True,\n",
    "    vertical_flip=True)\n",
    "\n",
    "train_data_dir = \"../sorted_training\"\n",
    "train_generator = train_datagen.flow_from_directory(\n",
    "    train_data_dir,\n",
    "    shuffle=True,\n",
    "    target_size=(32, 32),\n",
    "    batch_size=batch_size,\n",
    "    class_mode='binary')\n",
    "\n",
    "\n",
    "validation_datagen = ImageDataGenerator(rescale=1. / 255)\n",
    "validation_data_dir = \"../sorted_validation\"\n",
    "validation_generator = validation_datagen.flow_from_directory(\n",
    "    validation_data_dir,\n",
    "    target_size=(32, 32),\n",
    "    batch_size=batch_size,\n",
    "    class_mode='binary')\n",
    "\n",
    "input_shape = (32,32,3)\n",
    "num_classes = 2\n"
   ]
  },
  {
   "cell_type": "markdown",
   "metadata": {},
   "source": [
    "# Model Creation: Convolutional Neural Network"
   ]
  },
  {
   "cell_type": "markdown",
   "metadata": {},
   "source": [
    "Some really insightful comments about deep learning model optimization can be found here (https://karpathy.github.io/2019/04/25/recipe/ ). "
   ]
  },
  {
   "cell_type": "code",
   "execution_count": 8,
   "metadata": {},
   "outputs": [
    {
     "name": "stdout",
     "output_type": "stream",
     "text": [
      "WARNING:tensorflow:From /opt/conda/lib/python3.6/site-packages/tensorflow/python/ops/resource_variable_ops.py:435: colocate_with (from tensorflow.python.framework.ops) is deprecated and will be removed in a future version.\n",
      "Instructions for updating:\n",
      "Colocations handled automatically by placer.\n",
      "WARNING:tensorflow:From /opt/conda/lib/python3.6/site-packages/tensorflow/python/keras/layers/core.py:143: calling dropout (from tensorflow.python.ops.nn_ops) with keep_prob is deprecated and will be removed in a future version.\n",
      "Instructions for updating:\n",
      "Please use `rate` instead of `keep_prob`. Rate should be set to `rate = 1 - keep_prob`.\n"
     ]
    }
   ],
   "source": [
    "dropout_dense_layer = 0.6\n",
    "\n",
    "model = Sequential()\n",
    "model.add(Conv2D(32, (3, 3), input_shape=input_shape))\n",
    "model.add(BatchNormalization())\n",
    "model.add(Activation('relu'))\n",
    "model.add(Conv2D(32, (3, 3)))\n",
    "model.add(BatchNormalization())\n",
    "model.add(Activation('relu'))\n",
    "model.add(Conv2D(32, (3, 3)))\n",
    "model.add(BatchNormalization())\n",
    "model.add(Activation('relu'))\n",
    "model.add(MaxPooling2D(pool_size=(2, 2)))\n",
    "\n",
    "model.add(Conv2D(64, (3, 3)))\n",
    "model.add(BatchNormalization())\n",
    "model.add(Activation('relu'))\n",
    "model.add(Conv2D(64, (3, 3)))\n",
    "model.add(BatchNormalization())\n",
    "model.add(Activation('relu'))\n",
    "model.add(Conv2D(64, (3, 3)))\n",
    "model.add(BatchNormalization())\n",
    "model.add(Activation('relu'))\n",
    "model.add(MaxPooling2D(pool_size=(2, 2)))\n",
    "\n",
    "model.add(Conv2D(128, (3, 3)))\n",
    "model.add(BatchNormalization())\n",
    "model.add(Activation('relu'))\n",
    "\n",
    "model.add(Flatten())\n",
    "model.add(Dense(1024))\n",
    "model.add(Activation('relu'))\n",
    "model.add(Dropout(dropout_dense_layer))\n",
    "\n",
    "model.add(Dense(256))\n",
    "model.add(Activation('relu'))\n",
    "model.add(Dropout(dropout_dense_layer))\n",
    "\n",
    "model.add(Dense(1))\n",
    "model.add(Activation('sigmoid'))"
   ]
  },
  {
   "cell_type": "code",
   "execution_count": 9,
   "metadata": {},
   "outputs": [],
   "source": [
    "model.compile(loss=keras.losses.binary_crossentropy,\n",
    "              optimizer=keras.optimizers.Adam(lr=0.001),\n",
    "              metrics=['accuracy'])"
   ]
  },
  {
   "cell_type": "code",
   "execution_count": 10,
   "metadata": {},
   "outputs": [],
   "source": [
    "callbacks = [EarlyStopping(monitor='val_loss', patience=25),\n",
    "             ModelCheckpoint(filepath='best_model.h5', monitor='val_loss', save_best_only=True)]"
   ]
  },
  {
   "cell_type": "markdown",
   "metadata": {},
   "source": [
    "# Training"
   ]
  },
  {
   "cell_type": "code",
   "execution_count": 11,
   "metadata": {},
   "outputs": [
    {
     "name": "stdout",
     "output_type": "stream",
     "text": [
      "WARNING:tensorflow:From /opt/conda/lib/python3.6/site-packages/tensorflow/python/ops/math_ops.py:3066: to_int32 (from tensorflow.python.ops.math_ops) is deprecated and will be removed in a future version.\n",
      "Instructions for updating:\n",
      "Use tf.cast instead.\n",
      "Epoch 1/100\n",
      "28/28 [==============================] - 1s 42ms/step - loss: 2.6215 - acc: 0.2669\n",
      "247/247 [==============================] - 16s 66ms/step - loss: 0.1323 - acc: 0.9495 - val_loss: 2.6215 - val_acc: 0.2669\n",
      "Epoch 2/100\n",
      "28/28 [==============================] - 1s 43ms/step - loss: 0.0751 - acc: 0.9697\n",
      "247/247 [==============================] - 12s 48ms/step - loss: 0.0680 - acc: 0.9756 - val_loss: 0.0751 - val_acc: 0.9697\n",
      "Epoch 3/100\n",
      "28/28 [==============================] - 1s 48ms/step - loss: 0.1612 - acc: 0.9520\n",
      "247/247 [==============================] - 12s 49ms/step - loss: 0.0613 - acc: 0.9784 - val_loss: 0.1612 - val_acc: 0.9520\n",
      "Epoch 4/100\n",
      "28/28 [==============================] - 1s 40ms/step - loss: 0.0515 - acc: 0.9863\n",
      "247/247 [==============================] - 13s 52ms/step - loss: 0.0433 - acc: 0.9859 - val_loss: 0.0515 - val_acc: 0.9863\n",
      "Epoch 5/100\n",
      "28/28 [==============================] - 1s 40ms/step - loss: 0.0456 - acc: 0.9869\n",
      "247/247 [==============================] - 12s 48ms/step - loss: 0.0388 - acc: 0.9877 - val_loss: 0.0456 - val_acc: 0.9869\n",
      "Epoch 6/100\n",
      "28/28 [==============================] - 1s 40ms/step - loss: 0.0351 - acc: 0.9909\n",
      "247/247 [==============================] - 12s 48ms/step - loss: 0.0334 - acc: 0.9898 - val_loss: 0.0351 - val_acc: 0.9909\n",
      "Epoch 7/100\n",
      "28/28 [==============================] - 1s 41ms/step - loss: 0.1096 - acc: 0.9640\n",
      "247/247 [==============================] - 12s 47ms/step - loss: 0.0324 - acc: 0.9897 - val_loss: 0.1096 - val_acc: 0.9640\n",
      "Epoch 8/100\n",
      "28/28 [==============================] - 1s 40ms/step - loss: 0.1029 - acc: 0.9771\n",
      "247/247 [==============================] - 12s 47ms/step - loss: 0.0230 - acc: 0.9926 - val_loss: 0.1029 - val_acc: 0.9771\n",
      "Epoch 9/100\n",
      "28/28 [==============================] - 1s 40ms/step - loss: 0.1411 - acc: 0.9429\n",
      "247/247 [==============================] - 12s 47ms/step - loss: 0.0238 - acc: 0.9920 - val_loss: 0.1411 - val_acc: 0.9429\n",
      "Epoch 10/100\n",
      "28/28 [==============================] - 1s 46ms/step - loss: 0.1173 - acc: 0.9646\n",
      "247/247 [==============================] - 13s 51ms/step - loss: 0.0212 - acc: 0.9940 - val_loss: 0.1173 - val_acc: 0.9646\n",
      "Epoch 11/100\n",
      "28/28 [==============================] - 1s 39ms/step - loss: 0.0312 - acc: 0.9891\n",
      "247/247 [==============================] - 12s 50ms/step - loss: 0.0297 - acc: 0.9890 - val_loss: 0.0312 - val_acc: 0.9891\n",
      "Epoch 12/100\n",
      "28/28 [==============================] - 1s 39ms/step - loss: 0.0229 - acc: 0.9926\n",
      "247/247 [==============================] - 12s 47ms/step - loss: 0.0184 - acc: 0.9940 - val_loss: 0.0229 - val_acc: 0.9926\n",
      "Epoch 13/100\n",
      "28/28 [==============================] - 1s 41ms/step - loss: 0.0747 - acc: 0.9737\n",
      "247/247 [==============================] - 12s 48ms/step - loss: 0.0166 - acc: 0.9943 - val_loss: 0.0747 - val_acc: 0.9737\n",
      "Epoch 14/100\n",
      "28/28 [==============================] - 1s 41ms/step - loss: 0.0506 - acc: 0.9857\n",
      "247/247 [==============================] - 12s 47ms/step - loss: 0.0185 - acc: 0.9948 - val_loss: 0.0506 - val_acc: 0.9857\n",
      "Epoch 15/100\n",
      "28/28 [==============================] - 1s 48ms/step - loss: 0.0666 - acc: 0.9669\n",
      "247/247 [==============================] - 12s 48ms/step - loss: 0.0140 - acc: 0.9950 - val_loss: 0.0666 - val_acc: 0.9669\n",
      "Epoch 16/100\n",
      "28/28 [==============================] - 1s 40ms/step - loss: 0.0149 - acc: 0.9977\n",
      "247/247 [==============================] - 12s 50ms/step - loss: 0.0126 - acc: 0.9961 - val_loss: 0.0149 - val_acc: 0.9977\n",
      "Epoch 17/100\n",
      "28/28 [==============================] - 1s 46ms/step - loss: 0.0875 - acc: 0.9737\n",
      "247/247 [==============================] - 13s 53ms/step - loss: 0.0101 - acc: 0.9969 - val_loss: 0.0875 - val_acc: 0.9737\n",
      "Epoch 18/100\n",
      "28/28 [==============================] - 1s 41ms/step - loss: 0.3141 - acc: 0.8966\n",
      "247/247 [==============================] - 12s 47ms/step - loss: 0.0339 - acc: 0.9910 - val_loss: 0.3141 - val_acc: 0.8966\n",
      "Epoch 19/100\n",
      "28/28 [==============================] - 1s 39ms/step - loss: 0.0138 - acc: 0.9949\n",
      "247/247 [==============================] - 12s 48ms/step - loss: 0.0180 - acc: 0.9952 - val_loss: 0.0138 - val_acc: 0.9949\n",
      "Epoch 20/100\n",
      "28/28 [==============================] - 1s 39ms/step - loss: 0.0271 - acc: 0.9937\n",
      "247/247 [==============================] - 12s 47ms/step - loss: 0.0268 - acc: 0.9925 - val_loss: 0.0271 - val_acc: 0.9937\n",
      "Epoch 21/100\n",
      "28/28 [==============================] - 1s 39ms/step - loss: 0.0539 - acc: 0.9846\n",
      "247/247 [==============================] - 12s 47ms/step - loss: 0.0174 - acc: 0.9944 - val_loss: 0.0539 - val_acc: 0.9846\n",
      "Epoch 22/100\n",
      "28/28 [==============================] - 1s 41ms/step - loss: 0.0228 - acc: 0.9937\n",
      "247/247 [==============================] - 12s 48ms/step - loss: 0.0106 - acc: 0.9969 - val_loss: 0.0228 - val_acc: 0.9937\n",
      "Epoch 23/100\n",
      "28/28 [==============================] - 1s 49ms/step - loss: 0.1162 - acc: 0.9457\n",
      "247/247 [==============================] - 13s 54ms/step - loss: 0.0099 - acc: 0.9973 - val_loss: 0.1162 - val_acc: 0.9457\n",
      "Epoch 24/100\n",
      "28/28 [==============================] - 1s 40ms/step - loss: 0.0087 - acc: 0.9966\n",
      "247/247 [==============================] - 13s 53ms/step - loss: 0.0092 - acc: 0.9974 - val_loss: 0.0087 - val_acc: 0.9966\n",
      "Epoch 25/100\n",
      "28/28 [==============================] - 1s 40ms/step - loss: 0.0502 - acc: 0.9806\n",
      "247/247 [==============================] - 12s 47ms/step - loss: 0.0067 - acc: 0.9983 - val_loss: 0.0502 - val_acc: 0.9806\n",
      "Epoch 26/100\n",
      "28/28 [==============================] - 1s 40ms/step - loss: 0.1621 - acc: 0.9634\n",
      "247/247 [==============================] - 12s 47ms/step - loss: 0.0102 - acc: 0.9970 - val_loss: 0.1621 - val_acc: 0.9634\n",
      "Epoch 27/100\n",
      "28/28 [==============================] - 1s 40ms/step - loss: 0.1172 - acc: 0.9680\n",
      "247/247 [==============================] - 12s 47ms/step - loss: 0.0094 - acc: 0.9966 - val_loss: 0.1172 - val_acc: 0.9680\n",
      "Epoch 28/100\n",
      "28/28 [==============================] - 1s 44ms/step - loss: 0.0362 - acc: 0.9886\n",
      "247/247 [==============================] - 12s 48ms/step - loss: 0.0227 - acc: 0.9940 - val_loss: 0.0362 - val_acc: 0.9886\n",
      "Epoch 29/100\n",
      "28/28 [==============================] - 1s 40ms/step - loss: 0.0060 - acc: 0.9977\n",
      "247/247 [==============================] - 12s 48ms/step - loss: 0.0087 - acc: 0.9972 - val_loss: 0.0060 - val_acc: 0.9977\n",
      "Epoch 30/100\n",
      "28/28 [==============================] - 1s 46ms/step - loss: 0.0139 - acc: 0.9971\n",
      "247/247 [==============================] - 12s 51ms/step - loss: 0.0188 - acc: 0.9958 - val_loss: 0.0139 - val_acc: 0.9971\n",
      "Epoch 31/100\n",
      "28/28 [==============================] - 1s 40ms/step - loss: 0.0113 - acc: 0.9960\n",
      "247/247 [==============================] - 12s 50ms/step - loss: 0.0091 - acc: 0.9974 - val_loss: 0.0113 - val_acc: 0.9960\n",
      "Epoch 32/100\n",
      "28/28 [==============================] - 1s 40ms/step - loss: 0.0052 - acc: 0.9977\n",
      "247/247 [==============================] - 12s 48ms/step - loss: 0.0077 - acc: 0.9979 - val_loss: 0.0052 - val_acc: 0.9977\n",
      "Epoch 33/100\n",
      "28/28 [==============================] - 1s 40ms/step - loss: 0.0145 - acc: 0.9954\n",
      "247/247 [==============================] - 12s 47ms/step - loss: 0.0076 - acc: 0.9977 - val_loss: 0.0145 - val_acc: 0.9954\n",
      "Epoch 34/100\n",
      "28/28 [==============================] - 1s 40ms/step - loss: 0.0084 - acc: 0.9954\n",
      "247/247 [==============================] - 12s 47ms/step - loss: 0.0080 - acc: 0.9980 - val_loss: 0.0084 - val_acc: 0.9954\n",
      "Epoch 35/100\n",
      "28/28 [==============================] - 1s 41ms/step - loss: 0.0122 - acc: 0.9966\n",
      "247/247 [==============================] - 12s 47ms/step - loss: 0.0055 - acc: 0.9982 - val_loss: 0.0122 - val_acc: 0.9966\n",
      "Epoch 36/100\n",
      "28/28 [==============================] - 1s 40ms/step - loss: 0.0577 - acc: 0.9817\n",
      "247/247 [==============================] - 12s 48ms/step - loss: 0.0066 - acc: 0.9980 - val_loss: 0.0577 - val_acc: 0.9817\n",
      "Epoch 37/100\n",
      "166/247 [===================>..........] - ETA: 3s - loss: 0.0046 - acc: 0.9987"
     ]
    }
   ],
   "source": [
    "epochs = 100\n",
    "history = model.fit_generator(train_generator,\n",
    "          validation_data=validation_generator,\n",
    "          epochs=epochs,\n",
    "          verbose=1,\n",
    "          shuffle=True,\n",
    "          callbacks=callbacks)"
   ]
  },
  {
   "cell_type": "markdown",
   "metadata": {},
   "source": [
    "Display the losses and accuracy of the model over the training and validation sets."
   ]
  },
  {
   "cell_type": "code",
   "execution_count": 12,
   "metadata": {},
   "outputs": [
    {
     "data": {
      "image/png": "[encoded data removed]",
      "text/plain": [
       "<Figure size 432x288 with 1 Axes>"
      ]
     },
     "metadata": {},
     "output_type": "display_data"
    }
   ],
   "source": [
    "plt.plot(history.history['loss'])\n",
    "plt.plot(history.history['val_loss'])\n",
    "plt.show()"
   ]
  },
  {
   "cell_type": "code",
   "execution_count": 13,
   "metadata": {},
   "outputs": [
    {
     "data": {
      "image/png": "[encoded data removed]",
      "text/plain": [
       "<Figure size 432x288 with 1 Axes>"
      ]
     },
     "metadata": {},
     "output_type": "display_data"
    }
   ],
   "source": [
    "plt.plot(history.history['acc'])\n",
    "plt.plot(history.history['val_acc'])\n",
    "plt.show()"
   ]
  },
  {
   "cell_type": "markdown",
   "metadata": {},
   "source": [
    "# Load the test data and evaluate the model"
   ]
  },
  {
   "cell_type": "markdown",
   "metadata": {},
   "source": [
    "Load the best performing model based on the validation loss."
   ]
  },
  {
   "cell_type": "code",
   "execution_count": 14,
   "metadata": {},
   "outputs": [],
   "source": [
    "model.load_weights(\"best_model.h5\")"
   ]
  },
  {
   "cell_type": "code",
   "execution_count": 15,
   "metadata": {},
   "outputs": [
    {
     "name": "stdout",
     "output_type": "stream",
     "text": [
      "Found 4000 images belonging to 1 classes.\n"
     ]
    }
   ],
   "source": [
    "test_folder = \"../input/test/\"\n",
    "test_datagen = ImageDataGenerator(\n",
    "    rescale=1. / 255)\n",
    "\n",
    "test_generator = test_datagen.flow_from_directory(\n",
    "    directory=test_folder,\n",
    "    target_size=(32,32),\n",
    "    batch_size=1,\n",
    "    class_mode='binary',\n",
    "    shuffle=False\n",
    ")"
   ]
  },
  {
   "cell_type": "code",
   "execution_count": 16,
   "metadata": {},
   "outputs": [
    {
     "name": "stdout",
     "output_type": "stream",
     "text": [
      "4000/4000 [==============================] - 38s 9ms/step\n"
     ]
    }
   ],
   "source": [
    "pred=model.predict_generator(test_generator,verbose=1)\n",
    "pred_binary = [0 if value<0.50 else 1 for value in pred]  "
   ]
  },
  {
   "cell_type": "markdown",
   "metadata": {},
   "source": [
    "Generate the submission .csv file."
   ]
  },
  {
   "cell_type": "code",
   "execution_count": 17,
   "metadata": {},
   "outputs": [],
   "source": [
    "csv_file = open(\"sample_submission_cnn.csv\",\"w\")\n",
    "csv_file.write(\"id,has_cactus\\n\")\n",
    "for filename, prediction in zip(test_generator.filenames,pred_binary):\n",
    "    name = filename.split(\"/\")[1].replace(\".tif\",\"\")\n",
    "    csv_file.write(str(name)+\",\"+str(prediction)+\"\\n\")\n",
    "csv_file.close()"
   ]
  }
 ],
 "metadata": {
  "kernelspec": {
   "display_name": "Python 3",
   "language": "python",
   "name": "python3"
  },
  "language_info": {
   "codemirror_mode": {
    "name": "ipython",
    "version": 3
   },
   "file_extension": ".py",
   "mimetype": "text/x-python",
   "name": "python",
   "nbconvert_exporter": "python",
   "pygments_lexer": "ipython3",
   "version": "3.6.4"
  }
 },
 "nbformat": 4,
 "nbformat_minor": 1
}
